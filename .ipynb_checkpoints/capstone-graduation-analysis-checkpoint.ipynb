{
 "cells": [
  {
   "cell_type": "markdown",
   "metadata": {},
   "source": [
    "# Business Problem:"
   ]
  },
  {
   "cell_type": "markdown",
   "metadata": {},
   "source": [
    "## Background"
   ]
  },
  {
   "cell_type": "markdown",
   "metadata": {},
   "source": [
    "Every year, the federal government releases large amounts of data on U.S. schools, school districts, and colleges. But this information is scattered across multiple datasets that are often difficult to access, and changes in data structure complicate efforts to measure change over time. The Urban Institute (https://educationdata.urban.org/documentation/index.html) has organized and consolidated this data to make it easier to combine data from different reporting sources.\n",
    "\n",
    "Using the Urban institutes consolidated data platform we will be combining datasets describing characteristics and metrics of individual schools with data describing characteristics at the school district level.\n",
    "\n",
    "We will use this data to build a classification model which classifies high schools as either having a low or high graduation rate. The distinction between low and high graduation rates is based on the federal government's standard that those schools with less than two thirds of class graduating are low graduation rate schools."
   ]
  },
  {
   "cell_type": "markdown",
   "metadata": {},
   "source": [
    "## Limitations"
   ]
  },
  {
   "cell_type": "markdown",
   "metadata": {
    "ExecuteTime": {
     "end_time": "2021-06-14T18:42:41.563861Z",
     "start_time": "2021-06-14T18:42:41.551648Z"
    }
   },
   "source": [
    "\n",
    "\n",
    "- Year: For our examination we only used data from 2015 as this year was the most data rich across district and school datasets\n",
    "- graduation rate under reported***** (Elaborate Further)\n"
   ]
  },
  {
   "cell_type": "markdown",
   "metadata": {},
   "source": [
    "## Problem Statement"
   ]
  },
  {
   "cell_type": "markdown",
   "metadata": {},
   "source": [
    "Predict which schools have high and which schools have low high school graduation rates. Identify which characteristics are the best indicator of high and low graduation rates so that school districts know where to focus resources when attempting to increase high school graduation rates."
   ]
  },
  {
   "cell_type": "markdown",
   "metadata": {},
   "source": [
    "# Import Libraries"
   ]
  },
  {
   "cell_type": "code",
   "execution_count": 1,
   "metadata": {
    "ExecuteTime": {
     "end_time": "2021-06-16T06:30:21.970740Z",
     "start_time": "2021-06-16T06:30:19.665625Z"
    }
   },
   "outputs": [],
   "source": [
    "import pandas as pd\n",
    "import matplotlib.pyplot as plt\n",
    "import matplotlib.ticker as mtick\n",
    "import seaborn as sns\n",
    "import numpy as np\n",
    "import scipy.stats as stats\n",
    "import statsmodels.api as sm\n",
    "import catboost\n",
    "import time\n",
    "import warnings\n",
    "warnings.filterwarnings('ignore')\n",
    "\n",
    "from sklearn.utils import class_weight\n",
    "from sklearn.metrics import accuracy_score, confusion_matrix, classification_report, f1_score\n",
    "from catboost import Pool, sum_models\n",
    "from catboost import CatBoostClassifier\n",
    "from statsmodels.formula.api import ols\n",
    "from sklearn.feature_selection import RFE\n",
    "from sklearn.linear_model import LinearRegression\n",
    "from sklearn.linear_model import LogisticRegression\n",
    "from sklearn.metrics import mean_squared_error, r2_score, mean_absolute_error, balanced_accuracy_score\n",
    "from sklearn.model_selection import KFold, cross_val_score, StratifiedKFold\n",
    "from sklearn.model_selection import train_test_split\n",
    "from sklearn.model_selection import GridSearchCV\n",
    "from sklearn.model_selection import RandomizedSearchCV\n",
    "from sklearn.preprocessing import LabelEncoder,  OneHotEncoder, MinMaxScaler, StandardScaler \n",
    "from sklearn.tree import DecisionTreeRegressor\n",
    "from sklearn.ensemble import RandomForestRegressor, RandomForestClassifier\n",
    "from sklearn.ensemble import GradientBoostingClassifier\n",
    "from sklearn import metrics\n",
    "from sklearn.preprocessing import OneHotEncoder\n",
    "from sklearn.preprocessing import LabelEncoder\n",
    "from sklearn.impute import SimpleImputer, MissingIndicator\n",
    "from sklearn.compose import ColumnTransformer\n",
    "from sklearn.pipeline import FeatureUnion\n",
    "from sklearn.pipeline import Pipeline\n",
    "from scipy.stats import uniform, truncnorm, randint"
   ]
  },
  {
   "cell_type": "markdown",
   "metadata": {},
   "source": [
    "# Data Exploration and Prep"
   ]
  },
  {
   "cell_type": "markdown",
   "metadata": {},
   "source": [
    "Our school level data contains information on the school location, degree of urbanization, school size, number of students proficient in math and reading assessments, number of allegations for harassment/bullying, number of students enrolled in specific subjects, number of disciplinary actions taken, and number of students participation in ACT/SAT tests.\n",
    "\n",
    "Our district level data contains financial information for each school district. This includes type and amount of capital outlays, debt outstanding at the end of the fiscal year, district expenditures, and revenue. District data also includes number of English language learners, employee benefits, and salary for instruction. "
   ]
  },
  {
   "cell_type": "markdown",
   "metadata": {},
   "source": [
    "df_school\n",
    "\n",
    "- year:\n",
    "- ncessch:\n",
    "- school_name:\n",
    "- state_name:\n",
    "- lea_name:\n",
    "- zip_location:\n",
    "- urban_centric_locale:\n",
    "- school_level:\n",
    "- school_type:\n",
    "- charter:\n",
    "- enrollment:\n",
    "- read_test_num_valid:\n",
    "- read_test_pct_prof_low:\n",
    "- read_test_pct_prof_high:\n",
    "- read_test_pct_prof_midpt:\n",
    "- math_test_num_valid:\n",
    "- math_test_pct_prof_low:\n",
    "- math_test_pct_prof_high:\n",
    "- math_test_pct_prof_midpt:\n",
    "- students_susp_in_sch:\n",
    "- students_susp_out_sch_single:\n",
    "- students_susp_out_sch_multiple:\n",
    "- expulsions_no_ed_serv:\n",
    "- expulsions_with_ed_serv:\n",
    "- expulsions_zero_tolerance:\n",
    "- students_corporal_punish:\n",
    "- students_arrested:\n",
    "- students_referred_law_enforce:\n",
    "- transfers_alt_sch_disc:\n",
    "- days_suspended:\n",
    "- suspensions_instances_preschool:\n",
    "- suspensions_instances:\n",
    "- corpinstances_preschool:\n",
    "- corpinstances:\n",
    "- salaries_teachers:\n",
    "- cohort_num:\n",
    "- grad_rate_high:\n",
    "- grad_rate_low:\n",
    "- grad_rate_midpt:\n",
    "- allegations_harass_sex:\n",
    "- allegations_harass_race:\n",
    "- allegations_harass_disability:\n",
    "- allegations_harass_orientation:\n",
    "- allegations_harass_religion:\n",
    "- students_disc_harass_dis:\n",
    "- students_disc_harass_race:\n",
    "- students_disc_harass_sex:\n",
    "- students_report_harass_dis:\n",
    "- students_report_harass_race:\n",
    "- students_report_harass_sex:\n",
    "- enrl_biology:\n",
    "- enrl_chemistry:\n",
    "- enrl_advanced_math:\n",
    "- enrl_calculus:\n",
    "- enrl_algebra2:\n",
    "- enrl_physics:\n",
    "- enrl_geometry:\n",
    "- instances_mech_restraint:\n",
    "- instances_phys_restraint:\n",
    "- instances_seclusion:\n",
    "- students_mech_restraint:\n",
    "- students_phys_restraint:\n",
    "- students_seclusion:\n",
    "- students_SAT_ACT:"
   ]
  },
  {
   "cell_type": "markdown",
   "metadata": {},
   "source": [
    "df_district\n",
    "\n",
    "- year:\n",
    "- leaid:\n",
    "- lea_name:\n",
    "- state_name:\n",
    "- state_leaid:\n",
    "- city_location:\n",
    "- urban_centric_locale:\n",
    "- agency_type:\n",
    "- enrollment:\n",
    "- english_language_learners:\n",
    "- est_population_total:\n",
    "- est_population_5_17_poverty:\n",
    "- est_population_5_17_poverty_pct:\n",
    "- rev_total:\n",
    "- rev_fed_total:\n",
    "- rev_state_total:\n",
    "- rev_local_total:\n",
    "- rev_local_prop_tax:\n",
    "- exp_total:\n",
    "- exp_current_elsec_total:\n",
    "- exp_current_instruction_total:\n",
    "- exp_current_supp_serve_total:\n",
    "- exp_current_pupils:\n",
    "- exp_current_instruc_staff:\n",
    "- exp_current_general_admin:\n",
    "- exp_current_sch_admin:\n",
    "- exp_current_operation_plant:\n",
    "- exp_current_student_transport:\n",
    "- exp_current_bco:\n",
    "- exp_current_supp_serv_nonspec:\n",
    "- exp_current_other:\n",
    "- exp_current_food_serv:\n",
    "- exp_current_enterprise:\n",
    "- exp_current_other_elsec:\n",
    "- exp_nonelsec:\n",
    "- exp_nonelsec_community_serv:\n",
    "- exp_nonelsec_adult_education:\n",
    "- exp_nonelsec_other:\n",
    "- exp_textbooks:\n",
    "- exp_utilities_energy:\n",
    "- exp_tech_supplies_services:\n",
    "- exp_tech_equipment:\n",
    "- outlay_capital_total:\n",
    "- outlay_capital_construction:\n",
    "- outlay_capital_land_structures:\n",
    "- outlay_capital_instruc_equip:\n",
    "- outlay_capital_other_equip:\n",
    "- outlay_capital_nonspec_equip:\n",
    "- salaries_total:\n",
    "- salaries_instruction:\n",
    "- benefits_employee_total:\n",
    "- cohort_num:\n",
    "- grad_rate_high:\n",
    "- grad_rate_low:\n",
    "- grad_rate_midpt:"
   ]
  },
  {
   "cell_type": "markdown",
   "metadata": {},
   "source": [
    "## Data Load"
   ]
  },
  {
   "cell_type": "code",
   "execution_count": 2,
   "metadata": {
    "ExecuteTime": {
     "end_time": "2021-06-16T06:30:21.974484Z",
     "start_time": "2021-06-16T06:30:21.972438Z"
    }
   },
   "outputs": [],
   "source": [
    "# #New York school and district data\n",
    "# df_school_NY = pd.read_csv('data/EducationDataPortal_schools_NY.csv')\n",
    "# df_district_NY = pd.read_csv('data/EducationDataPortal_districts_NY.csv')"
   ]
  },
  {
   "cell_type": "code",
   "execution_count": 3,
   "metadata": {
    "ExecuteTime": {
     "end_time": "2021-06-16T06:30:21.990250Z",
     "start_time": "2021-06-16T06:30:21.977745Z"
    }
   },
   "outputs": [],
   "source": [
    "# #Pennsylvania school and district data \n",
    "# df_school_PA = pd.read_csv('data/EducationDataPortal_schools_PA.csv')\n",
    "# df_district_PA = pd.read_csv('data/EducationDataPortal_districts_PA.csv')"
   ]
  },
  {
   "cell_type": "code",
   "execution_count": 4,
   "metadata": {
    "ExecuteTime": {
     "end_time": "2021-06-16T06:30:21.995036Z",
     "start_time": "2021-06-16T06:30:21.992954Z"
    }
   },
   "outputs": [],
   "source": [
    "# #New Jersey school and district data\n",
    "# df_school_NJ = pd.read_csv('data/EducationDataPortal_schools_NJ.csv')\n",
    "# df_district_NJ = pd.read_csv('data/EducationDataPortal_districts_NJ.csv')"
   ]
  },
  {
   "cell_type": "code",
   "execution_count": 5,
   "metadata": {
    "ExecuteTime": {
     "end_time": "2021-06-16T06:30:21.999161Z",
     "start_time": "2021-06-16T06:30:21.997240Z"
    }
   },
   "outputs": [],
   "source": [
    "# #Maine school and district data\n",
    "# df_school_ME = pd.read_csv('data/EducationDataPortal_schools_ME.csv')\n",
    "# df_district_ME = pd.read_csv('data/EducationDataPortal_districts_ME.csv')"
   ]
  },
  {
   "cell_type": "code",
   "execution_count": 6,
   "metadata": {
    "ExecuteTime": {
     "end_time": "2021-06-16T06:30:22.003554Z",
     "start_time": "2021-06-16T06:30:22.001256Z"
    }
   },
   "outputs": [],
   "source": [
    "# #Massachusetts school and district data\n",
    "# df_school_MA = pd.read_csv('data/EducationDataPortal_schools_MA.csv')\n",
    "# df_district_MA = pd.read_csv('data/EducationDataPortal_districts_MA.csv')"
   ]
  },
  {
   "cell_type": "code",
   "execution_count": 7,
   "metadata": {
    "ExecuteTime": {
     "end_time": "2021-06-16T06:30:22.007461Z",
     "start_time": "2021-06-16T06:30:22.005503Z"
    }
   },
   "outputs": [],
   "source": [
    "# #Rhode Island school and district data\n",
    "# df_school_RI = pd.read_csv('data/EducationDataPortal_schools_RI.csv')\n",
    "# df_district_RI = pd.read_csv('data/EducationDataPortal_districts_RI.csv')"
   ]
  },
  {
   "cell_type": "code",
   "execution_count": 8,
   "metadata": {
    "ExecuteTime": {
     "end_time": "2021-06-16T06:30:22.013581Z",
     "start_time": "2021-06-16T06:30:22.011769Z"
    }
   },
   "outputs": [],
   "source": [
    "# #Vermont school and district data\n",
    "# df_school_VT = pd.read_csv('data/EducationDataPortal_schools_VT.csv')\n",
    "# df_district_VT = pd.read_csv('data/EducationDataPortal_districts_VT.csv')"
   ]
  },
  {
   "cell_type": "code",
   "execution_count": 9,
   "metadata": {
    "ExecuteTime": {
     "end_time": "2021-06-16T06:30:22.019778Z",
     "start_time": "2021-06-16T06:30:22.017011Z"
    }
   },
   "outputs": [],
   "source": [
    "# #Connecticut school and district data\n",
    "# df_school_CT = pd.read_csv('data/EducationDataPortal_schools_CT.csv')\n",
    "# df_district_CT = pd.read_csv('data/EducationDataPortal_districts_CT.csv')"
   ]
  },
  {
   "cell_type": "code",
   "execution_count": 10,
   "metadata": {
    "ExecuteTime": {
     "end_time": "2021-06-16T06:30:22.023326Z",
     "start_time": "2021-06-16T06:30:22.021589Z"
    }
   },
   "outputs": [],
   "source": [
    "# #Connecticut school and district data\n",
    "# df_school_NH = pd.read_csv('data/EducationDataPortal_schools_NH.csv')\n",
    "# df_district_NH = pd.read_csv('data/EducationDataPortal_districts_NH.csv')"
   ]
  },
  {
   "cell_type": "code",
   "execution_count": 11,
   "metadata": {
    "ExecuteTime": {
     "end_time": "2021-06-16T06:30:22.123179Z",
     "start_time": "2021-06-16T06:30:22.025263Z"
    }
   },
   "outputs": [],
   "source": [
    "#Northeastern United States school and district data\n",
    "df_school_northeast = pd.read_csv('data/EducationDataPortal_schools_northeast.csv')\n",
    "df_district_northeast = pd.read_csv('data/EducationDataPortal_districts_northeast.csv')"
   ]
  },
  {
   "cell_type": "code",
   "execution_count": 12,
   "metadata": {
    "ExecuteTime": {
     "end_time": "2021-06-16T06:30:22.217415Z",
     "start_time": "2021-06-16T06:30:22.125327Z"
    }
   },
   "outputs": [],
   "source": [
    "#Western United States school and district data\n",
    "df_school_west = pd.read_csv('data/EducationDataPortal_schools_west.csv')\n",
    "df_district_west = pd.read_csv('data/EducationDataPortal_districts_west.csv')"
   ]
  },
  {
   "cell_type": "code",
   "execution_count": 13,
   "metadata": {
    "ExecuteTime": {
     "end_time": "2021-06-16T06:30:22.358451Z",
     "start_time": "2021-06-16T06:30:22.219241Z"
    }
   },
   "outputs": [],
   "source": [
    "#Midwest United States school and district data\n",
    "df_school_midwest = pd.read_csv('data/EducationDataPortal_schools_midwest.csv')\n",
    "df_district_midwest = pd.read_csv('data/EducationDataPortal_districts_midwest.csv')"
   ]
  },
  {
   "cell_type": "code",
   "execution_count": 14,
   "metadata": {
    "ExecuteTime": {
     "end_time": "2021-06-16T06:30:22.362347Z",
     "start_time": "2021-06-16T06:30:22.360474Z"
    }
   },
   "outputs": [],
   "source": [
    "# #Southern Atlantic United States school and district data\n",
    "# df_school_south_atl = pd.read_csv('data/EducationDataPortal_schools_south_atl.csv')\n",
    "# df_district_south_atl = pd.read_csv('data/EducationDataPortal_districts_south_atl.csv')"
   ]
  },
  {
   "cell_type": "code",
   "execution_count": 15,
   "metadata": {
    "ExecuteTime": {
     "end_time": "2021-06-16T06:30:22.365875Z",
     "start_time": "2021-06-16T06:30:22.364224Z"
    }
   },
   "outputs": [],
   "source": [
    "# #Southern United States excluding south atlantic states school and district data\n",
    "# df_school_south = pd.read_csv('data/EducationDataPortal_schools_south.csv')\n",
    "# df_district_south = pd.read_csv('data/EducationDataPortal_districts_south.csv')"
   ]
  },
  {
   "cell_type": "markdown",
   "metadata": {},
   "source": [
    "## Functions"
   ]
  },
  {
   "cell_type": "code",
   "execution_count": 16,
   "metadata": {
    "ExecuteTime": {
     "end_time": "2021-06-16T06:30:22.370560Z",
     "start_time": "2021-06-16T06:30:22.367856Z"
    }
   },
   "outputs": [],
   "source": [
    "# Returns the percentage of values in a dataframe that are nulls\n",
    "def percent_null_df (df,str_name):\n",
    "    count_null = df.isnull().sum().sum()\n",
    "    count_non_null = df.count().sum()\n",
    "    return 'percent of nulls in '+ str_name +' is '+str(int((count_null/(count_null + count_non_null))*100))+'%'\n",
    "    "
   ]
  },
  {
   "cell_type": "markdown",
   "metadata": {},
   "source": [
    "## df_school"
   ]
  },
  {
   "cell_type": "code",
   "execution_count": 17,
   "metadata": {
    "ExecuteTime": {
     "end_time": "2021-06-16T06:30:22.391468Z",
     "start_time": "2021-06-16T06:30:22.372125Z"
    }
   },
   "outputs": [],
   "source": [
    "#Concatenate school info for all three states into one dataframe\n",
    "df_school = pd.concat([df_school_northeast, #df_school_south_atl, \n",
    "                       df_school_midwest, df_school_west])"
   ]
  },
  {
   "cell_type": "code",
   "execution_count": 18,
   "metadata": {
    "ExecuteTime": {
     "end_time": "2021-06-16T06:30:22.409855Z",
     "start_time": "2021-06-16T06:30:22.393107Z"
    },
    "scrolled": false
   },
   "outputs": [
    {
     "data": {
      "text/plain": [
       "California       0.155548\n",
       "New York         0.073372\n",
       "Ohio             0.061990\n",
       "Minnesota        0.057910\n",
       "Michigan         0.056621\n",
       "Illinois         0.053400\n",
       "Pennsylvania     0.048246\n",
       "Arizona          0.046958\n",
       "Washington       0.040444\n",
       "Missouri         0.040086\n",
       "Wisconsin        0.036006\n",
       "New Jersey       0.033644\n",
       "Indiana          0.027058\n",
       "Massachusetts    0.024481\n",
       "Colorado         0.024481\n",
       "Connecticut      0.023336\n",
       "Iowa             0.022691\n",
       "Kansas           0.022047\n",
       "Nebraska         0.019900\n",
       "Oregon           0.017895\n",
       "New Mexico       0.013815\n",
       "Idaho            0.013099\n",
       "South Dakota     0.013028\n",
       "Utah             0.012742\n",
       "Montana          0.012241\n",
       "North Dakota     0.011954\n",
       "Nevada           0.008089\n",
       "Maine            0.007874\n",
       "New Hampshire    0.006729\n",
       "Wyoming          0.006013\n",
       "Vermont          0.004295\n",
       "Rhode Island     0.004009\n",
       "Name: state_name, dtype: float64"
      ]
     },
     "execution_count": 18,
     "metadata": {},
     "output_type": "execute_result"
    }
   ],
   "source": [
    "df_school['state_name'].value_counts(normalize=True, dropna=False)"
   ]
  },
  {
   "cell_type": "code",
   "execution_count": 19,
   "metadata": {
    "ExecuteTime": {
     "end_time": "2021-06-16T06:30:22.444160Z",
     "start_time": "2021-06-16T06:30:22.411665Z"
    },
    "scrolled": true
   },
   "outputs": [
    {
     "data": {
      "text/html": [
       "<div>\n",
       "<style scoped>\n",
       "    .dataframe tbody tr th:only-of-type {\n",
       "        vertical-align: middle;\n",
       "    }\n",
       "\n",
       "    .dataframe tbody tr th {\n",
       "        vertical-align: top;\n",
       "    }\n",
       "\n",
       "    .dataframe thead th {\n",
       "        text-align: right;\n",
       "    }\n",
       "</style>\n",
       "<table border=\"1\" class=\"dataframe\">\n",
       "  <thead>\n",
       "    <tr style=\"text-align: right;\">\n",
       "      <th></th>\n",
       "      <th>year</th>\n",
       "      <th>ncessch</th>\n",
       "      <th>school_name</th>\n",
       "      <th>state_name</th>\n",
       "      <th>lea_name</th>\n",
       "      <th>zip_location</th>\n",
       "      <th>urban_centric_locale</th>\n",
       "      <th>school_level</th>\n",
       "      <th>school_type</th>\n",
       "      <th>charter</th>\n",
       "      <th>...</th>\n",
       "      <th>enrl_algebra2</th>\n",
       "      <th>enrl_physics</th>\n",
       "      <th>enrl_geometry</th>\n",
       "      <th>instances_mech_restraint</th>\n",
       "      <th>instances_phys_restraint</th>\n",
       "      <th>instances_seclusion</th>\n",
       "      <th>students_mech_restraint</th>\n",
       "      <th>students_phys_restraint</th>\n",
       "      <th>students_seclusion</th>\n",
       "      <th>students_SAT_ACT</th>\n",
       "    </tr>\n",
       "  </thead>\n",
       "  <tbody>\n",
       "    <tr>\n",
       "      <th>0</th>\n",
       "      <td>2015</td>\n",
       "      <td>90000201136</td>\n",
       "      <td>A. I. Prince Technical High School</td>\n",
       "      <td>Connecticut</td>\n",
       "      <td>Connecticut Technical High Sc</td>\n",
       "      <td>6106</td>\n",
       "      <td>City, midsize</td>\n",
       "      <td>High</td>\n",
       "      <td>Vocational school</td>\n",
       "      <td>No</td>\n",
       "      <td>...</td>\n",
       "      <td>212.0</td>\n",
       "      <td>66.0</td>\n",
       "      <td>180.0</td>\n",
       "      <td>0.0</td>\n",
       "      <td>0.0</td>\n",
       "      <td>0.0</td>\n",
       "      <td>0.0</td>\n",
       "      <td>0.0</td>\n",
       "      <td>0.0</td>\n",
       "      <td>243.0</td>\n",
       "    </tr>\n",
       "    <tr>\n",
       "      <th>1</th>\n",
       "      <td>2015</td>\n",
       "      <td>90000201137</td>\n",
       "      <td>Bullard-Havens Technical High School</td>\n",
       "      <td>Connecticut</td>\n",
       "      <td>Connecticut Technical High Sc</td>\n",
       "      <td>6610</td>\n",
       "      <td>City, midsize</td>\n",
       "      <td>High</td>\n",
       "      <td>Vocational school</td>\n",
       "      <td>No</td>\n",
       "      <td>...</td>\n",
       "      <td>180.0</td>\n",
       "      <td>NaN</td>\n",
       "      <td>207.0</td>\n",
       "      <td>0.0</td>\n",
       "      <td>0.0</td>\n",
       "      <td>0.0</td>\n",
       "      <td>0.0</td>\n",
       "      <td>0.0</td>\n",
       "      <td>0.0</td>\n",
       "      <td>320.0</td>\n",
       "    </tr>\n",
       "    <tr>\n",
       "      <th>2</th>\n",
       "      <td>2015</td>\n",
       "      <td>90000201138</td>\n",
       "      <td>E. C. Goodwin Technical High School</td>\n",
       "      <td>Connecticut</td>\n",
       "      <td>Connecticut Technical High Sc</td>\n",
       "      <td>6053</td>\n",
       "      <td>Suburb, large</td>\n",
       "      <td>High</td>\n",
       "      <td>Vocational school</td>\n",
       "      <td>No</td>\n",
       "      <td>...</td>\n",
       "      <td>308.0</td>\n",
       "      <td>45.0</td>\n",
       "      <td>NaN</td>\n",
       "      <td>0.0</td>\n",
       "      <td>0.0</td>\n",
       "      <td>0.0</td>\n",
       "      <td>0.0</td>\n",
       "      <td>0.0</td>\n",
       "      <td>0.0</td>\n",
       "      <td>209.0</td>\n",
       "    </tr>\n",
       "    <tr>\n",
       "      <th>3</th>\n",
       "      <td>2015</td>\n",
       "      <td>90000201139</td>\n",
       "      <td>Ella T. Grasso Southeastern Technical High School</td>\n",
       "      <td>Connecticut</td>\n",
       "      <td>Connecticut Technical High Sc</td>\n",
       "      <td>6340</td>\n",
       "      <td>Rural, fringe</td>\n",
       "      <td>High</td>\n",
       "      <td>Vocational school</td>\n",
       "      <td>No</td>\n",
       "      <td>...</td>\n",
       "      <td>165.0</td>\n",
       "      <td>35.0</td>\n",
       "      <td>6.0</td>\n",
       "      <td>0.0</td>\n",
       "      <td>0.0</td>\n",
       "      <td>0.0</td>\n",
       "      <td>0.0</td>\n",
       "      <td>0.0</td>\n",
       "      <td>0.0</td>\n",
       "      <td>156.0</td>\n",
       "    </tr>\n",
       "    <tr>\n",
       "      <th>4</th>\n",
       "      <td>2015</td>\n",
       "      <td>90000201140</td>\n",
       "      <td>Eli Whitney Technical High School</td>\n",
       "      <td>Connecticut</td>\n",
       "      <td>Connecticut Technical High Sc</td>\n",
       "      <td>6514</td>\n",
       "      <td>Suburb, large</td>\n",
       "      <td>High</td>\n",
       "      <td>Vocational school</td>\n",
       "      <td>No</td>\n",
       "      <td>...</td>\n",
       "      <td>150.0</td>\n",
       "      <td>NaN</td>\n",
       "      <td>147.0</td>\n",
       "      <td>0.0</td>\n",
       "      <td>0.0</td>\n",
       "      <td>0.0</td>\n",
       "      <td>0.0</td>\n",
       "      <td>0.0</td>\n",
       "      <td>0.0</td>\n",
       "      <td>171.0</td>\n",
       "    </tr>\n",
       "    <tr>\n",
       "      <th>...</th>\n",
       "      <td>...</td>\n",
       "      <td>...</td>\n",
       "      <td>...</td>\n",
       "      <td>...</td>\n",
       "      <td>...</td>\n",
       "      <td>...</td>\n",
       "      <td>...</td>\n",
       "      <td>...</td>\n",
       "      <td>...</td>\n",
       "      <td>...</td>\n",
       "      <td>...</td>\n",
       "      <td>...</td>\n",
       "      <td>...</td>\n",
       "      <td>...</td>\n",
       "      <td>...</td>\n",
       "      <td>...</td>\n",
       "      <td>...</td>\n",
       "      <td>...</td>\n",
       "      <td>...</td>\n",
       "      <td>...</td>\n",
       "      <td>...</td>\n",
       "    </tr>\n",
       "    <tr>\n",
       "      <th>4903</th>\n",
       "      <td>2015</td>\n",
       "      <td>560583000512</td>\n",
       "      <td>Summit High School</td>\n",
       "      <td>Wyoming</td>\n",
       "      <td>Teton County School District #1</td>\n",
       "      <td>83001</td>\n",
       "      <td>Rural, fringe</td>\n",
       "      <td>High</td>\n",
       "      <td>Regular school</td>\n",
       "      <td>No</td>\n",
       "      <td>...</td>\n",
       "      <td>NaN</td>\n",
       "      <td>23.0</td>\n",
       "      <td>14.0</td>\n",
       "      <td>0.0</td>\n",
       "      <td>0.0</td>\n",
       "      <td>0.0</td>\n",
       "      <td>0.0</td>\n",
       "      <td>0.0</td>\n",
       "      <td>0.0</td>\n",
       "      <td>0.0</td>\n",
       "    </tr>\n",
       "    <tr>\n",
       "      <th>4904</th>\n",
       "      <td>2015</td>\n",
       "      <td>560609000401</td>\n",
       "      <td>Upton High School</td>\n",
       "      <td>Wyoming</td>\n",
       "      <td>Weston County School District #7</td>\n",
       "      <td>82730</td>\n",
       "      <td>Rural, remote</td>\n",
       "      <td>High</td>\n",
       "      <td>Regular school</td>\n",
       "      <td>No</td>\n",
       "      <td>...</td>\n",
       "      <td>19.0</td>\n",
       "      <td>NaN</td>\n",
       "      <td>30.0</td>\n",
       "      <td>0.0</td>\n",
       "      <td>0.0</td>\n",
       "      <td>0.0</td>\n",
       "      <td>0.0</td>\n",
       "      <td>0.0</td>\n",
       "      <td>0.0</td>\n",
       "      <td>24.0</td>\n",
       "    </tr>\n",
       "    <tr>\n",
       "      <th>4905</th>\n",
       "      <td>2015</td>\n",
       "      <td>560624000343</td>\n",
       "      <td>Worland High School</td>\n",
       "      <td>Wyoming</td>\n",
       "      <td>Washakie County School District #1</td>\n",
       "      <td>82401</td>\n",
       "      <td>Town, remote</td>\n",
       "      <td>High</td>\n",
       "      <td>Regular school</td>\n",
       "      <td>No</td>\n",
       "      <td>...</td>\n",
       "      <td>91.0</td>\n",
       "      <td>85.0</td>\n",
       "      <td>77.0</td>\n",
       "      <td>0.0</td>\n",
       "      <td>0.0</td>\n",
       "      <td>0.0</td>\n",
       "      <td>0.0</td>\n",
       "      <td>0.0</td>\n",
       "      <td>0.0</td>\n",
       "      <td>109.0</td>\n",
       "    </tr>\n",
       "    <tr>\n",
       "      <th>4906</th>\n",
       "      <td>2015</td>\n",
       "      <td>568025100534</td>\n",
       "      <td>Wyoming Girls School</td>\n",
       "      <td>Wyoming</td>\n",
       "      <td>Wyoming Department of Family Services</td>\n",
       "      <td>82801</td>\n",
       "      <td>Town, remote</td>\n",
       "      <td>High</td>\n",
       "      <td>Regular school</td>\n",
       "      <td>No</td>\n",
       "      <td>...</td>\n",
       "      <td>10.0</td>\n",
       "      <td>NaN</td>\n",
       "      <td>12.0</td>\n",
       "      <td>1.0</td>\n",
       "      <td>3.0</td>\n",
       "      <td>1.0</td>\n",
       "      <td>4.0</td>\n",
       "      <td>6.0</td>\n",
       "      <td>6.0</td>\n",
       "      <td>0.0</td>\n",
       "    </tr>\n",
       "    <tr>\n",
       "      <th>4907</th>\n",
       "      <td>2015</td>\n",
       "      <td>568025100538</td>\n",
       "      <td>Wyoming Boys School</td>\n",
       "      <td>Wyoming</td>\n",
       "      <td>Wyoming Department of Family Services</td>\n",
       "      <td>82401</td>\n",
       "      <td>Rural, distant</td>\n",
       "      <td>High</td>\n",
       "      <td>Regular school</td>\n",
       "      <td>No</td>\n",
       "      <td>...</td>\n",
       "      <td>32.0</td>\n",
       "      <td>NaN</td>\n",
       "      <td>44.0</td>\n",
       "      <td>0.0</td>\n",
       "      <td>0.0</td>\n",
       "      <td>0.0</td>\n",
       "      <td>0.0</td>\n",
       "      <td>0.0</td>\n",
       "      <td>0.0</td>\n",
       "      <td>22.0</td>\n",
       "    </tr>\n",
       "  </tbody>\n",
       "</table>\n",
       "<p>13970 rows × 64 columns</p>\n",
       "</div>"
      ],
      "text/plain": [
       "      year       ncessch                                        school_name  \\\n",
       "0     2015   90000201136                 A. I. Prince Technical High School   \n",
       "1     2015   90000201137               Bullard-Havens Technical High School   \n",
       "2     2015   90000201138                E. C. Goodwin Technical High School   \n",
       "3     2015   90000201139  Ella T. Grasso Southeastern Technical High School   \n",
       "4     2015   90000201140                  Eli Whitney Technical High School   \n",
       "...    ...           ...                                                ...   \n",
       "4903  2015  560583000512                                 Summit High School   \n",
       "4904  2015  560609000401                                  Upton High School   \n",
       "4905  2015  560624000343                                Worland High School   \n",
       "4906  2015  568025100534                               Wyoming Girls School   \n",
       "4907  2015  568025100538                                Wyoming Boys School   \n",
       "\n",
       "       state_name                               lea_name zip_location  \\\n",
       "0     Connecticut          Connecticut Technical High Sc         6106   \n",
       "1     Connecticut          Connecticut Technical High Sc         6610   \n",
       "2     Connecticut          Connecticut Technical High Sc         6053   \n",
       "3     Connecticut          Connecticut Technical High Sc         6340   \n",
       "4     Connecticut          Connecticut Technical High Sc         6514   \n",
       "...           ...                                    ...          ...   \n",
       "4903      Wyoming        Teton County School District #1        83001   \n",
       "4904      Wyoming       Weston County School District #7        82730   \n",
       "4905      Wyoming     Washakie County School District #1        82401   \n",
       "4906      Wyoming  Wyoming Department of Family Services        82801   \n",
       "4907      Wyoming  Wyoming Department of Family Services        82401   \n",
       "\n",
       "     urban_centric_locale school_level        school_type charter  ...  \\\n",
       "0           City, midsize         High  Vocational school      No  ...   \n",
       "1           City, midsize         High  Vocational school      No  ...   \n",
       "2           Suburb, large         High  Vocational school      No  ...   \n",
       "3           Rural, fringe         High  Vocational school      No  ...   \n",
       "4           Suburb, large         High  Vocational school      No  ...   \n",
       "...                   ...          ...                ...     ...  ...   \n",
       "4903        Rural, fringe         High     Regular school      No  ...   \n",
       "4904        Rural, remote         High     Regular school      No  ...   \n",
       "4905         Town, remote         High     Regular school      No  ...   \n",
       "4906         Town, remote         High     Regular school      No  ...   \n",
       "4907       Rural, distant         High     Regular school      No  ...   \n",
       "\n",
       "     enrl_algebra2  enrl_physics enrl_geometry instances_mech_restraint  \\\n",
       "0            212.0          66.0         180.0                      0.0   \n",
       "1            180.0           NaN         207.0                      0.0   \n",
       "2            308.0          45.0           NaN                      0.0   \n",
       "3            165.0          35.0           6.0                      0.0   \n",
       "4            150.0           NaN         147.0                      0.0   \n",
       "...            ...           ...           ...                      ...   \n",
       "4903           NaN          23.0          14.0                      0.0   \n",
       "4904          19.0           NaN          30.0                      0.0   \n",
       "4905          91.0          85.0          77.0                      0.0   \n",
       "4906          10.0           NaN          12.0                      1.0   \n",
       "4907          32.0           NaN          44.0                      0.0   \n",
       "\n",
       "     instances_phys_restraint  instances_seclusion students_mech_restraint  \\\n",
       "0                         0.0                  0.0                     0.0   \n",
       "1                         0.0                  0.0                     0.0   \n",
       "2                         0.0                  0.0                     0.0   \n",
       "3                         0.0                  0.0                     0.0   \n",
       "4                         0.0                  0.0                     0.0   \n",
       "...                       ...                  ...                     ...   \n",
       "4903                      0.0                  0.0                     0.0   \n",
       "4904                      0.0                  0.0                     0.0   \n",
       "4905                      0.0                  0.0                     0.0   \n",
       "4906                      3.0                  1.0                     4.0   \n",
       "4907                      0.0                  0.0                     0.0   \n",
       "\n",
       "     students_phys_restraint students_seclusion students_SAT_ACT  \n",
       "0                        0.0                0.0            243.0  \n",
       "1                        0.0                0.0            320.0  \n",
       "2                        0.0                0.0            209.0  \n",
       "3                        0.0                0.0            156.0  \n",
       "4                        0.0                0.0            171.0  \n",
       "...                      ...                ...              ...  \n",
       "4903                     0.0                0.0              0.0  \n",
       "4904                     0.0                0.0             24.0  \n",
       "4905                     0.0                0.0            109.0  \n",
       "4906                     6.0                6.0              0.0  \n",
       "4907                     0.0                0.0             22.0  \n",
       "\n",
       "[13970 rows x 64 columns]"
      ]
     },
     "execution_count": 19,
     "metadata": {},
     "output_type": "execute_result"
    }
   ],
   "source": [
    "df_school"
   ]
  },
  {
   "cell_type": "markdown",
   "metadata": {},
   "source": [
    "### Data Fields"
   ]
  },
  {
   "cell_type": "code",
   "execution_count": 20,
   "metadata": {
    "ExecuteTime": {
     "end_time": "2021-06-16T06:30:22.465067Z",
     "start_time": "2021-06-16T06:30:22.446014Z"
    },
    "scrolled": true
   },
   "outputs": [
    {
     "data": {
      "text/html": [
       "<div>\n",
       "<style scoped>\n",
       "    .dataframe tbody tr th:only-of-type {\n",
       "        vertical-align: middle;\n",
       "    }\n",
       "\n",
       "    .dataframe tbody tr th {\n",
       "        vertical-align: top;\n",
       "    }\n",
       "\n",
       "    .dataframe thead th {\n",
       "        text-align: right;\n",
       "    }\n",
       "</style>\n",
       "<table border=\"1\" class=\"dataframe\">\n",
       "  <thead>\n",
       "    <tr style=\"text-align: right;\">\n",
       "      <th></th>\n",
       "      <th>year</th>\n",
       "      <th>ncessch</th>\n",
       "      <th>school_name</th>\n",
       "      <th>state_name</th>\n",
       "      <th>lea_name</th>\n",
       "      <th>zip_location</th>\n",
       "      <th>urban_centric_locale</th>\n",
       "      <th>school_level</th>\n",
       "      <th>school_type</th>\n",
       "      <th>charter</th>\n",
       "      <th>...</th>\n",
       "      <th>enrl_algebra2</th>\n",
       "      <th>enrl_physics</th>\n",
       "      <th>enrl_geometry</th>\n",
       "      <th>instances_mech_restraint</th>\n",
       "      <th>instances_phys_restraint</th>\n",
       "      <th>instances_seclusion</th>\n",
       "      <th>students_mech_restraint</th>\n",
       "      <th>students_phys_restraint</th>\n",
       "      <th>students_seclusion</th>\n",
       "      <th>students_SAT_ACT</th>\n",
       "    </tr>\n",
       "  </thead>\n",
       "  <tbody>\n",
       "    <tr>\n",
       "      <th>0</th>\n",
       "      <td>2015</td>\n",
       "      <td>90000201136</td>\n",
       "      <td>A. I. Prince Technical High School</td>\n",
       "      <td>Connecticut</td>\n",
       "      <td>Connecticut Technical High Sc</td>\n",
       "      <td>6106</td>\n",
       "      <td>City, midsize</td>\n",
       "      <td>High</td>\n",
       "      <td>Vocational school</td>\n",
       "      <td>No</td>\n",
       "      <td>...</td>\n",
       "      <td>212.0</td>\n",
       "      <td>66.0</td>\n",
       "      <td>180.0</td>\n",
       "      <td>0.0</td>\n",
       "      <td>0.0</td>\n",
       "      <td>0.0</td>\n",
       "      <td>0.0</td>\n",
       "      <td>0.0</td>\n",
       "      <td>0.0</td>\n",
       "      <td>243.0</td>\n",
       "    </tr>\n",
       "    <tr>\n",
       "      <th>1</th>\n",
       "      <td>2015</td>\n",
       "      <td>90000201137</td>\n",
       "      <td>Bullard-Havens Technical High School</td>\n",
       "      <td>Connecticut</td>\n",
       "      <td>Connecticut Technical High Sc</td>\n",
       "      <td>6610</td>\n",
       "      <td>City, midsize</td>\n",
       "      <td>High</td>\n",
       "      <td>Vocational school</td>\n",
       "      <td>No</td>\n",
       "      <td>...</td>\n",
       "      <td>180.0</td>\n",
       "      <td>NaN</td>\n",
       "      <td>207.0</td>\n",
       "      <td>0.0</td>\n",
       "      <td>0.0</td>\n",
       "      <td>0.0</td>\n",
       "      <td>0.0</td>\n",
       "      <td>0.0</td>\n",
       "      <td>0.0</td>\n",
       "      <td>320.0</td>\n",
       "    </tr>\n",
       "    <tr>\n",
       "      <th>2</th>\n",
       "      <td>2015</td>\n",
       "      <td>90000201138</td>\n",
       "      <td>E. C. Goodwin Technical High School</td>\n",
       "      <td>Connecticut</td>\n",
       "      <td>Connecticut Technical High Sc</td>\n",
       "      <td>6053</td>\n",
       "      <td>Suburb, large</td>\n",
       "      <td>High</td>\n",
       "      <td>Vocational school</td>\n",
       "      <td>No</td>\n",
       "      <td>...</td>\n",
       "      <td>308.0</td>\n",
       "      <td>45.0</td>\n",
       "      <td>NaN</td>\n",
       "      <td>0.0</td>\n",
       "      <td>0.0</td>\n",
       "      <td>0.0</td>\n",
       "      <td>0.0</td>\n",
       "      <td>0.0</td>\n",
       "      <td>0.0</td>\n",
       "      <td>209.0</td>\n",
       "    </tr>\n",
       "    <tr>\n",
       "      <th>3</th>\n",
       "      <td>2015</td>\n",
       "      <td>90000201139</td>\n",
       "      <td>Ella T. Grasso Southeastern Technical High School</td>\n",
       "      <td>Connecticut</td>\n",
       "      <td>Connecticut Technical High Sc</td>\n",
       "      <td>6340</td>\n",
       "      <td>Rural, fringe</td>\n",
       "      <td>High</td>\n",
       "      <td>Vocational school</td>\n",
       "      <td>No</td>\n",
       "      <td>...</td>\n",
       "      <td>165.0</td>\n",
       "      <td>35.0</td>\n",
       "      <td>6.0</td>\n",
       "      <td>0.0</td>\n",
       "      <td>0.0</td>\n",
       "      <td>0.0</td>\n",
       "      <td>0.0</td>\n",
       "      <td>0.0</td>\n",
       "      <td>0.0</td>\n",
       "      <td>156.0</td>\n",
       "    </tr>\n",
       "    <tr>\n",
       "      <th>4</th>\n",
       "      <td>2015</td>\n",
       "      <td>90000201140</td>\n",
       "      <td>Eli Whitney Technical High School</td>\n",
       "      <td>Connecticut</td>\n",
       "      <td>Connecticut Technical High Sc</td>\n",
       "      <td>6514</td>\n",
       "      <td>Suburb, large</td>\n",
       "      <td>High</td>\n",
       "      <td>Vocational school</td>\n",
       "      <td>No</td>\n",
       "      <td>...</td>\n",
       "      <td>150.0</td>\n",
       "      <td>NaN</td>\n",
       "      <td>147.0</td>\n",
       "      <td>0.0</td>\n",
       "      <td>0.0</td>\n",
       "      <td>0.0</td>\n",
       "      <td>0.0</td>\n",
       "      <td>0.0</td>\n",
       "      <td>0.0</td>\n",
       "      <td>171.0</td>\n",
       "    </tr>\n",
       "  </tbody>\n",
       "</table>\n",
       "<p>5 rows × 64 columns</p>\n",
       "</div>"
      ],
      "text/plain": [
       "   year      ncessch                                        school_name  \\\n",
       "0  2015  90000201136                 A. I. Prince Technical High School   \n",
       "1  2015  90000201137               Bullard-Havens Technical High School   \n",
       "2  2015  90000201138                E. C. Goodwin Technical High School   \n",
       "3  2015  90000201139  Ella T. Grasso Southeastern Technical High School   \n",
       "4  2015  90000201140                  Eli Whitney Technical High School   \n",
       "\n",
       "    state_name                       lea_name zip_location  \\\n",
       "0  Connecticut  Connecticut Technical High Sc         6106   \n",
       "1  Connecticut  Connecticut Technical High Sc         6610   \n",
       "2  Connecticut  Connecticut Technical High Sc         6053   \n",
       "3  Connecticut  Connecticut Technical High Sc         6340   \n",
       "4  Connecticut  Connecticut Technical High Sc         6514   \n",
       "\n",
       "  urban_centric_locale school_level        school_type charter  ...  \\\n",
       "0        City, midsize         High  Vocational school      No  ...   \n",
       "1        City, midsize         High  Vocational school      No  ...   \n",
       "2        Suburb, large         High  Vocational school      No  ...   \n",
       "3        Rural, fringe         High  Vocational school      No  ...   \n",
       "4        Suburb, large         High  Vocational school      No  ...   \n",
       "\n",
       "  enrl_algebra2  enrl_physics enrl_geometry instances_mech_restraint  \\\n",
       "0         212.0          66.0         180.0                      0.0   \n",
       "1         180.0           NaN         207.0                      0.0   \n",
       "2         308.0          45.0           NaN                      0.0   \n",
       "3         165.0          35.0           6.0                      0.0   \n",
       "4         150.0           NaN         147.0                      0.0   \n",
       "\n",
       "  instances_phys_restraint  instances_seclusion students_mech_restraint  \\\n",
       "0                      0.0                  0.0                     0.0   \n",
       "1                      0.0                  0.0                     0.0   \n",
       "2                      0.0                  0.0                     0.0   \n",
       "3                      0.0                  0.0                     0.0   \n",
       "4                      0.0                  0.0                     0.0   \n",
       "\n",
       "  students_phys_restraint students_seclusion students_SAT_ACT  \n",
       "0                     0.0                0.0            243.0  \n",
       "1                     0.0                0.0            320.0  \n",
       "2                     0.0                0.0            209.0  \n",
       "3                     0.0                0.0            156.0  \n",
       "4                     0.0                0.0            171.0  \n",
       "\n",
       "[5 rows x 64 columns]"
      ]
     },
     "execution_count": 20,
     "metadata": {},
     "output_type": "execute_result"
    }
   ],
   "source": [
    "df_school.head()"
   ]
  },
  {
   "cell_type": "code",
   "execution_count": 21,
   "metadata": {
    "ExecuteTime": {
     "end_time": "2021-06-16T06:30:22.505659Z",
     "start_time": "2021-06-16T06:30:22.467005Z"
    },
    "scrolled": true
   },
   "outputs": [
    {
     "name": "stdout",
     "output_type": "stream",
     "text": [
      "<class 'pandas.core.frame.DataFrame'>\n",
      "Int64Index: 13970 entries, 0 to 4907\n",
      "Data columns (total 64 columns):\n",
      " #   Column                           Non-Null Count  Dtype  \n",
      "---  ------                           --------------  -----  \n",
      " 0   year                             13970 non-null  int64  \n",
      " 1   ncessch                          13970 non-null  int64  \n",
      " 2   school_name                      13970 non-null  object \n",
      " 3   state_name                       13970 non-null  object \n",
      " 4   lea_name                         13970 non-null  object \n",
      " 5   zip_location                     13970 non-null  object \n",
      " 6   urban_centric_locale             13945 non-null  object \n",
      " 7   school_level                     13970 non-null  object \n",
      " 8   school_type                      13970 non-null  object \n",
      " 9   charter                          13970 non-null  object \n",
      " 10  enrollment                       13970 non-null  object \n",
      " 11  read_test_num_valid              12263 non-null  float64\n",
      " 12  read_test_pct_prof_low           12263 non-null  object \n",
      " 13  read_test_pct_prof_high          12263 non-null  object \n",
      " 14  read_test_pct_prof_midpt         12263 non-null  object \n",
      " 15  math_test_num_valid              12236 non-null  float64\n",
      " 16  math_test_pct_prof_low           12236 non-null  object \n",
      " 17  math_test_pct_prof_high          12236 non-null  object \n",
      " 18  math_test_pct_prof_midpt         12236 non-null  object \n",
      " 19  students_susp_in_sch             12804 non-null  object \n",
      " 20  students_susp_out_sch_single     12804 non-null  object \n",
      " 21  students_susp_out_sch_multiple   12804 non-null  object \n",
      " 22  expulsions_no_ed_serv            12804 non-null  object \n",
      " 23  expulsions_with_ed_serv          12804 non-null  object \n",
      " 24  expulsions_zero_tolerance        12804 non-null  object \n",
      " 25  students_corporal_punish         12804 non-null  object \n",
      " 26  students_arrested                12804 non-null  object \n",
      " 27  students_referred_law_enforce    12804 non-null  object \n",
      " 28  transfers_alt_sch_disc           12804 non-null  float64\n",
      " 29  days_suspended                   12394 non-null  float64\n",
      " 30  suspensions_instances_preschool  12394 non-null  float64\n",
      " 31  suspensions_instances            12394 non-null  float64\n",
      " 32  corpinstances_preschool          12394 non-null  float64\n",
      " 33  corpinstances                    12394 non-null  float64\n",
      " 34  salaries_teachers                12394 non-null  object \n",
      " 35  cohort_num                       12514 non-null  float64\n",
      " 36  grad_rate_high                   12514 non-null  object \n",
      " 37  grad_rate_low                    12514 non-null  object \n",
      " 38  grad_rate_midpt                  12514 non-null  object \n",
      " 39  allegations_harass_sex           12804 non-null  object \n",
      " 40  allegations_harass_race          12804 non-null  object \n",
      " 41  allegations_harass_disability    12804 non-null  object \n",
      " 42  allegations_harass_orientation   12804 non-null  object \n",
      " 43  allegations_harass_religion      12804 non-null  object \n",
      " 44  students_disc_harass_dis         12804 non-null  float64\n",
      " 45  students_disc_harass_race        12804 non-null  float64\n",
      " 46  students_disc_harass_sex         12804 non-null  float64\n",
      " 47  students_report_harass_dis       12804 non-null  float64\n",
      " 48  students_report_harass_race      12804 non-null  float64\n",
      " 49  students_report_harass_sex       12804 non-null  float64\n",
      " 50  enrl_biology                     11263 non-null  float64\n",
      " 51  enrl_chemistry                   10031 non-null  float64\n",
      " 52  enrl_advanced_math               9129 non-null   float64\n",
      " 53  enrl_calculus                    7735 non-null   float64\n",
      " 54  enrl_algebra2                    10601 non-null  float64\n",
      " 55  enrl_physics                     8770 non-null   float64\n",
      " 56  enrl_geometry                    10953 non-null  float64\n",
      " 57  instances_mech_restraint         12326 non-null  float64\n",
      " 58  instances_phys_restraint         12729 non-null  float64\n",
      " 59  instances_seclusion              12729 non-null  float64\n",
      " 60  students_mech_restraint          12331 non-null  float64\n",
      " 61  students_phys_restraint          12715 non-null  float64\n",
      " 62  students_seclusion               12730 non-null  float64\n",
      " 63  students_SAT_ACT                 12804 non-null  float64\n",
      "dtypes: float64(29), int64(2), object(33)\n",
      "memory usage: 6.9+ MB\n"
     ]
    }
   ],
   "source": [
    "df_school.info()"
   ]
  },
  {
   "cell_type": "code",
   "execution_count": 22,
   "metadata": {
    "ExecuteTime": {
     "end_time": "2021-06-16T06:30:22.511131Z",
     "start_time": "2021-06-16T06:30:22.507721Z"
    },
    "scrolled": false
   },
   "outputs": [
    {
     "data": {
      "text/plain": [
       "(13970, 64)"
      ]
     },
     "execution_count": 22,
     "metadata": {},
     "output_type": "execute_result"
    }
   ],
   "source": [
    "df_school.shape"
   ]
  },
  {
   "cell_type": "markdown",
   "metadata": {},
   "source": [
    "#### Data Field Cleanup"
   ]
  },
  {
   "cell_type": "code",
   "execution_count": 23,
   "metadata": {
    "ExecuteTime": {
     "end_time": "2021-06-16T06:30:22.519655Z",
     "start_time": "2021-06-16T06:30:22.516957Z"
    }
   },
   "outputs": [],
   "source": [
    "column_names = list(df_school.columns)"
   ]
  },
  {
   "cell_type": "code",
   "execution_count": 24,
   "metadata": {
    "ExecuteTime": {
     "end_time": "2021-06-16T06:30:22.549298Z",
     "start_time": "2021-06-16T06:30:22.524037Z"
    }
   },
   "outputs": [],
   "source": [
    "for c in column_names:\n",
    "    df_school[c].replace('Suppressed data', np.NaN,inplace =True)"
   ]
  },
  {
   "cell_type": "code",
   "execution_count": 25,
   "metadata": {
    "ExecuteTime": {
     "end_time": "2021-06-16T06:30:22.576398Z",
     "start_time": "2021-06-16T06:30:22.550732Z"
    }
   },
   "outputs": [],
   "source": [
    "for c in column_names:\n",
    "    df_school[c].replace('Not applicable', np.NaN,inplace =True)"
   ]
  },
  {
   "cell_type": "code",
   "execution_count": 26,
   "metadata": {
    "ExecuteTime": {
     "end_time": "2021-06-16T06:30:22.607248Z",
     "start_time": "2021-06-16T06:30:22.578391Z"
    }
   },
   "outputs": [],
   "source": [
    "for c in column_names:\n",
    "    df_school[c].replace('Missing/not reported', np.NaN,inplace =True)"
   ]
  },
  {
   "cell_type": "markdown",
   "metadata": {},
   "source": [
    "### Columns to drop"
   ]
  },
  {
   "cell_type": "code",
   "execution_count": 27,
   "metadata": {
    "ExecuteTime": {
     "end_time": "2021-06-16T06:30:22.632274Z",
     "start_time": "2021-06-16T06:30:22.608634Z"
    }
   },
   "outputs": [
    {
     "name": "stdout",
     "output_type": "stream",
     "text": [
      "<class 'pandas.core.frame.DataFrame'>\n",
      "Int64Index: 13970 entries, 0 to 4907\n",
      "Data columns (total 64 columns):\n",
      " #   Column                           Non-Null Count  Dtype  \n",
      "---  ------                           --------------  -----  \n",
      " 0   year                             13970 non-null  int64  \n",
      " 1   ncessch                          13970 non-null  int64  \n",
      " 2   school_name                      13970 non-null  object \n",
      " 3   state_name                       13970 non-null  object \n",
      " 4   lea_name                         13970 non-null  object \n",
      " 5   zip_location                     13212 non-null  object \n",
      " 6   urban_centric_locale             13945 non-null  object \n",
      " 7   school_level                     13970 non-null  object \n",
      " 8   school_type                      13970 non-null  object \n",
      " 9   charter                          13294 non-null  object \n",
      " 10  enrollment                       13700 non-null  object \n",
      " 11  read_test_num_valid              12263 non-null  float64\n",
      " 12  read_test_pct_prof_low           11738 non-null  object \n",
      " 13  read_test_pct_prof_high          11738 non-null  object \n",
      " 14  read_test_pct_prof_midpt         11738 non-null  object \n",
      " 15  math_test_num_valid              12236 non-null  float64\n",
      " 16  math_test_pct_prof_low           11712 non-null  object \n",
      " 17  math_test_pct_prof_high          11712 non-null  object \n",
      " 18  math_test_pct_prof_midpt         11712 non-null  object \n",
      " 19  students_susp_in_sch             12680 non-null  object \n",
      " 20  students_susp_out_sch_single     12772 non-null  object \n",
      " 21  students_susp_out_sch_multiple   12772 non-null  object \n",
      " 22  expulsions_no_ed_serv            12772 non-null  object \n",
      " 23  expulsions_with_ed_serv          12680 non-null  object \n",
      " 24  expulsions_zero_tolerance        12772 non-null  object \n",
      " 25  students_corporal_punish         66 non-null     object \n",
      " 26  students_arrested                12253 non-null  object \n",
      " 27  students_referred_law_enforce    12676 non-null  object \n",
      " 28  transfers_alt_sch_disc           12804 non-null  float64\n",
      " 29  days_suspended                   12394 non-null  float64\n",
      " 30  suspensions_instances_preschool  12394 non-null  float64\n",
      " 31  suspensions_instances            12394 non-null  float64\n",
      " 32  corpinstances_preschool          12394 non-null  float64\n",
      " 33  corpinstances                    12394 non-null  float64\n",
      " 34  salaries_teachers                12106 non-null  object \n",
      " 35  cohort_num                       12514 non-null  float64\n",
      " 36  grad_rate_high                   12099 non-null  object \n",
      " 37  grad_rate_low                    12099 non-null  object \n",
      " 38  grad_rate_midpt                  12099 non-null  object \n",
      " 39  allegations_harass_sex           12720 non-null  object \n",
      " 40  allegations_harass_race          12720 non-null  object \n",
      " 41  allegations_harass_disability    12720 non-null  object \n",
      " 42  allegations_harass_orientation   12720 non-null  object \n",
      " 43  allegations_harass_religion      12720 non-null  object \n",
      " 44  students_disc_harass_dis         12804 non-null  float64\n",
      " 45  students_disc_harass_race        12804 non-null  float64\n",
      " 46  students_disc_harass_sex         12804 non-null  float64\n",
      " 47  students_report_harass_dis       12804 non-null  float64\n",
      " 48  students_report_harass_race      12804 non-null  float64\n",
      " 49  students_report_harass_sex       12804 non-null  float64\n",
      " 50  enrl_biology                     11263 non-null  float64\n",
      " 51  enrl_chemistry                   10031 non-null  float64\n",
      " 52  enrl_advanced_math               9129 non-null   float64\n",
      " 53  enrl_calculus                    7735 non-null   float64\n",
      " 54  enrl_algebra2                    10601 non-null  float64\n",
      " 55  enrl_physics                     8770 non-null   float64\n",
      " 56  enrl_geometry                    10953 non-null  float64\n",
      " 57  instances_mech_restraint         12326 non-null  float64\n",
      " 58  instances_phys_restraint         12729 non-null  float64\n",
      " 59  instances_seclusion              12729 non-null  float64\n",
      " 60  students_mech_restraint          12331 non-null  float64\n",
      " 61  students_phys_restraint          12715 non-null  float64\n",
      " 62  students_seclusion               12730 non-null  float64\n",
      " 63  students_SAT_ACT                 12804 non-null  float64\n",
      "dtypes: float64(29), int64(2), object(33)\n",
      "memory usage: 6.9+ MB\n"
     ]
    }
   ],
   "source": [
    "df_school.info()"
   ]
  },
  {
   "cell_type": "code",
   "execution_count": 28,
   "metadata": {
    "ExecuteTime": {
     "end_time": "2021-06-16T06:30:22.639861Z",
     "start_time": "2021-06-16T06:30:22.634303Z"
    }
   },
   "outputs": [
    {
     "data": {
      "text/plain": [
       "-1.0    0.887115\n",
       " NaN    0.112813\n",
       " 0.0    0.000072\n",
       "Name: corpinstances_preschool, dtype: float64"
      ]
     },
     "execution_count": 28,
     "metadata": {},
     "output_type": "execute_result"
    }
   ],
   "source": [
    "df_school['corpinstances_preschool'].value_counts(normalize=True, dropna=False)"
   ]
  },
  {
   "cell_type": "code",
   "execution_count": 29,
   "metadata": {
    "ExecuteTime": {
     "end_time": "2021-06-16T06:30:22.648063Z",
     "start_time": "2021-06-16T06:30:22.641572Z"
    }
   },
   "outputs": [
    {
     "data": {
      "text/plain": [
       "NaN    0.995276\n",
       "0      0.001360\n",
       "2      0.000787\n",
       "13     0.000286\n",
       "6      0.000215\n",
       "7      0.000215\n",
       "14     0.000143\n",
       "4      0.000143\n",
       "10     0.000143\n",
       "36     0.000143\n",
       "110    0.000072\n",
       "98     0.000072\n",
       "29     0.000072\n",
       "31     0.000072\n",
       "35     0.000072\n",
       "114    0.000072\n",
       "30     0.000072\n",
       "21     0.000072\n",
       "26     0.000072\n",
       "34     0.000072\n",
       "39     0.000072\n",
       "27     0.000072\n",
       "19     0.000072\n",
       "83     0.000072\n",
       "18     0.000072\n",
       "23     0.000072\n",
       "89     0.000072\n",
       "218    0.000072\n",
       "Name: students_corporal_punish, dtype: float64"
      ]
     },
     "execution_count": 29,
     "metadata": {},
     "output_type": "execute_result"
    }
   ],
   "source": [
    "df_school['students_corporal_punish'].value_counts(normalize=True, dropna=False)"
   ]
  },
  {
   "cell_type": "markdown",
   "metadata": {},
   "source": [
    "- Drop year as this is the same for all rows\n",
    "- Drop corpinstances_preschool this column is mostly -1 which is not interpretable"
   ]
  },
  {
   "cell_type": "code",
   "execution_count": 30,
   "metadata": {
    "ExecuteTime": {
     "end_time": "2021-06-16T06:30:22.656516Z",
     "start_time": "2021-06-16T06:30:22.649568Z"
    }
   },
   "outputs": [],
   "source": [
    "df_school = df_school.drop(['year','corpinstances_preschool','students_corporal_punish','zip_location'], axis=1)"
   ]
  },
  {
   "cell_type": "markdown",
   "metadata": {},
   "source": [
    "### school_type"
   ]
  },
  {
   "cell_type": "code",
   "execution_count": 31,
   "metadata": {
    "ExecuteTime": {
     "end_time": "2021-06-16T06:30:22.663924Z",
     "start_time": "2021-06-16T06:30:22.658426Z"
    },
    "scrolled": true
   },
   "outputs": [
    {
     "data": {
      "text/plain": [
       "Regular school              0.784180\n",
       "Other/alternative school    0.146743\n",
       "Vocational school           0.052470\n",
       "Special education school    0.016607\n",
       "Name: school_type, dtype: float64"
      ]
     },
     "execution_count": 31,
     "metadata": {},
     "output_type": "execute_result"
    }
   ],
   "source": [
    "df_school['school_type'].value_counts(normalize=True, dropna=False)"
   ]
  },
  {
   "cell_type": "code",
   "execution_count": 32,
   "metadata": {
    "ExecuteTime": {
     "end_time": "2021-06-16T06:30:22.696930Z",
     "start_time": "2021-06-16T06:30:22.665151Z"
    },
    "scrolled": true
   },
   "outputs": [
    {
     "data": {
      "text/html": [
       "<div>\n",
       "<style scoped>\n",
       "    .dataframe tbody tr th:only-of-type {\n",
       "        vertical-align: middle;\n",
       "    }\n",
       "\n",
       "    .dataframe tbody tr th {\n",
       "        vertical-align: top;\n",
       "    }\n",
       "\n",
       "    .dataframe thead th {\n",
       "        text-align: right;\n",
       "    }\n",
       "</style>\n",
       "<table border=\"1\" class=\"dataframe\">\n",
       "  <thead>\n",
       "    <tr style=\"text-align: right;\">\n",
       "      <th></th>\n",
       "      <th>ncessch</th>\n",
       "      <th>school_name</th>\n",
       "      <th>state_name</th>\n",
       "      <th>lea_name</th>\n",
       "      <th>urban_centric_locale</th>\n",
       "      <th>school_level</th>\n",
       "      <th>school_type</th>\n",
       "      <th>charter</th>\n",
       "      <th>enrollment</th>\n",
       "      <th>read_test_num_valid</th>\n",
       "      <th>...</th>\n",
       "      <th>enrl_algebra2</th>\n",
       "      <th>enrl_physics</th>\n",
       "      <th>enrl_geometry</th>\n",
       "      <th>instances_mech_restraint</th>\n",
       "      <th>instances_phys_restraint</th>\n",
       "      <th>instances_seclusion</th>\n",
       "      <th>students_mech_restraint</th>\n",
       "      <th>students_phys_restraint</th>\n",
       "      <th>students_seclusion</th>\n",
       "      <th>students_SAT_ACT</th>\n",
       "    </tr>\n",
       "  </thead>\n",
       "  <tbody>\n",
       "    <tr>\n",
       "      <th>32</th>\n",
       "      <td>90000401360</td>\n",
       "      <td>Walter G. Cady School</td>\n",
       "      <td>Connecticut</td>\n",
       "      <td>UNIFIED SCHOOL DISTRICT #2</td>\n",
       "      <td>City, small</td>\n",
       "      <td>High</td>\n",
       "      <td>Regular school</td>\n",
       "      <td>No</td>\n",
       "      <td>62</td>\n",
       "      <td>3.0</td>\n",
       "      <td>...</td>\n",
       "      <td>31.0</td>\n",
       "      <td>NaN</td>\n",
       "      <td>31.0</td>\n",
       "      <td>5.0</td>\n",
       "      <td>12.0</td>\n",
       "      <td>0.0</td>\n",
       "      <td>5.0</td>\n",
       "      <td>9.0</td>\n",
       "      <td>0.0</td>\n",
       "      <td>0.0</td>\n",
       "    </tr>\n",
       "    <tr>\n",
       "      <th>33</th>\n",
       "      <td>90000501215</td>\n",
       "      <td>E. O. Smith High School</td>\n",
       "      <td>Connecticut</td>\n",
       "      <td>REGIONAL SCHOOL DISTRICT 19</td>\n",
       "      <td>Suburb, large</td>\n",
       "      <td>High</td>\n",
       "      <td>Regular school</td>\n",
       "      <td>No</td>\n",
       "      <td>1153</td>\n",
       "      <td>260.0</td>\n",
       "      <td>...</td>\n",
       "      <td>264.0</td>\n",
       "      <td>120.0</td>\n",
       "      <td>237.0</td>\n",
       "      <td>0.0</td>\n",
       "      <td>0.0</td>\n",
       "      <td>0.0</td>\n",
       "      <td>0.0</td>\n",
       "      <td>0.0</td>\n",
       "      <td>0.0</td>\n",
       "      <td>420.0</td>\n",
       "    </tr>\n",
       "    <tr>\n",
       "      <th>36</th>\n",
       "      <td>90001400807</td>\n",
       "      <td>Common Ground High School</td>\n",
       "      <td>Connecticut</td>\n",
       "      <td>COMMON GROUND HIGH SCHOOL DIS</td>\n",
       "      <td>City, midsize</td>\n",
       "      <td>High</td>\n",
       "      <td>Regular school</td>\n",
       "      <td>Yes</td>\n",
       "      <td>186</td>\n",
       "      <td>39.0</td>\n",
       "      <td>...</td>\n",
       "      <td>37.0</td>\n",
       "      <td>18.0</td>\n",
       "      <td>40.0</td>\n",
       "      <td>0.0</td>\n",
       "      <td>0.0</td>\n",
       "      <td>0.0</td>\n",
       "      <td>0.0</td>\n",
       "      <td>0.0</td>\n",
       "      <td>0.0</td>\n",
       "      <td>43.0</td>\n",
       "    </tr>\n",
       "    <tr>\n",
       "      <th>37</th>\n",
       "      <td>90001500809</td>\n",
       "      <td>The Bridge Academy</td>\n",
       "      <td>Connecticut</td>\n",
       "      <td>THE BRIDGE ACADEMY DISTRICT</td>\n",
       "      <td>City, midsize</td>\n",
       "      <td>High</td>\n",
       "      <td>Regular school</td>\n",
       "      <td>Yes</td>\n",
       "      <td>279</td>\n",
       "      <td>139.0</td>\n",
       "      <td>...</td>\n",
       "      <td>46.0</td>\n",
       "      <td>NaN</td>\n",
       "      <td>50.0</td>\n",
       "      <td>0.0</td>\n",
       "      <td>0.0</td>\n",
       "      <td>0.0</td>\n",
       "      <td>0.0</td>\n",
       "      <td>0.0</td>\n",
       "      <td>0.0</td>\n",
       "      <td>81.0</td>\n",
       "    </tr>\n",
       "    <tr>\n",
       "      <th>38</th>\n",
       "      <td>90001800834</td>\n",
       "      <td>Explorations</td>\n",
       "      <td>Connecticut</td>\n",
       "      <td>EXPLORATIONS DISTRICT</td>\n",
       "      <td>Town, fringe</td>\n",
       "      <td>High</td>\n",
       "      <td>Regular school</td>\n",
       "      <td>Yes</td>\n",
       "      <td>92</td>\n",
       "      <td>21.0</td>\n",
       "      <td>...</td>\n",
       "      <td>14.0</td>\n",
       "      <td>NaN</td>\n",
       "      <td>10.0</td>\n",
       "      <td>0.0</td>\n",
       "      <td>0.0</td>\n",
       "      <td>0.0</td>\n",
       "      <td>0.0</td>\n",
       "      <td>0.0</td>\n",
       "      <td>0.0</td>\n",
       "      <td>26.0</td>\n",
       "    </tr>\n",
       "    <tr>\n",
       "      <th>...</th>\n",
       "      <td>...</td>\n",
       "      <td>...</td>\n",
       "      <td>...</td>\n",
       "      <td>...</td>\n",
       "      <td>...</td>\n",
       "      <td>...</td>\n",
       "      <td>...</td>\n",
       "      <td>...</td>\n",
       "      <td>...</td>\n",
       "      <td>...</td>\n",
       "      <td>...</td>\n",
       "      <td>...</td>\n",
       "      <td>...</td>\n",
       "      <td>...</td>\n",
       "      <td>...</td>\n",
       "      <td>...</td>\n",
       "      <td>...</td>\n",
       "      <td>...</td>\n",
       "      <td>...</td>\n",
       "      <td>...</td>\n",
       "      <td>...</td>\n",
       "    </tr>\n",
       "    <tr>\n",
       "      <th>4903</th>\n",
       "      <td>560583000512</td>\n",
       "      <td>Summit High School</td>\n",
       "      <td>Wyoming</td>\n",
       "      <td>Teton County School District #1</td>\n",
       "      <td>Rural, fringe</td>\n",
       "      <td>High</td>\n",
       "      <td>Regular school</td>\n",
       "      <td>No</td>\n",
       "      <td>55</td>\n",
       "      <td>16.0</td>\n",
       "      <td>...</td>\n",
       "      <td>NaN</td>\n",
       "      <td>23.0</td>\n",
       "      <td>14.0</td>\n",
       "      <td>0.0</td>\n",
       "      <td>0.0</td>\n",
       "      <td>0.0</td>\n",
       "      <td>0.0</td>\n",
       "      <td>0.0</td>\n",
       "      <td>0.0</td>\n",
       "      <td>0.0</td>\n",
       "    </tr>\n",
       "    <tr>\n",
       "      <th>4904</th>\n",
       "      <td>560609000401</td>\n",
       "      <td>Upton High School</td>\n",
       "      <td>Wyoming</td>\n",
       "      <td>Weston County School District #7</td>\n",
       "      <td>Rural, remote</td>\n",
       "      <td>High</td>\n",
       "      <td>Regular school</td>\n",
       "      <td>No</td>\n",
       "      <td>91</td>\n",
       "      <td>18.0</td>\n",
       "      <td>...</td>\n",
       "      <td>19.0</td>\n",
       "      <td>NaN</td>\n",
       "      <td>30.0</td>\n",
       "      <td>0.0</td>\n",
       "      <td>0.0</td>\n",
       "      <td>0.0</td>\n",
       "      <td>0.0</td>\n",
       "      <td>0.0</td>\n",
       "      <td>0.0</td>\n",
       "      <td>24.0</td>\n",
       "    </tr>\n",
       "    <tr>\n",
       "      <th>4905</th>\n",
       "      <td>560624000343</td>\n",
       "      <td>Worland High School</td>\n",
       "      <td>Wyoming</td>\n",
       "      <td>Washakie County School District #1</td>\n",
       "      <td>Town, remote</td>\n",
       "      <td>High</td>\n",
       "      <td>Regular school</td>\n",
       "      <td>No</td>\n",
       "      <td>397</td>\n",
       "      <td>106.0</td>\n",
       "      <td>...</td>\n",
       "      <td>91.0</td>\n",
       "      <td>85.0</td>\n",
       "      <td>77.0</td>\n",
       "      <td>0.0</td>\n",
       "      <td>0.0</td>\n",
       "      <td>0.0</td>\n",
       "      <td>0.0</td>\n",
       "      <td>0.0</td>\n",
       "      <td>0.0</td>\n",
       "      <td>109.0</td>\n",
       "    </tr>\n",
       "    <tr>\n",
       "      <th>4906</th>\n",
       "      <td>568025100534</td>\n",
       "      <td>Wyoming Girls School</td>\n",
       "      <td>Wyoming</td>\n",
       "      <td>Wyoming Department of Family Services</td>\n",
       "      <td>Town, remote</td>\n",
       "      <td>High</td>\n",
       "      <td>Regular school</td>\n",
       "      <td>No</td>\n",
       "      <td>0</td>\n",
       "      <td>NaN</td>\n",
       "      <td>...</td>\n",
       "      <td>10.0</td>\n",
       "      <td>NaN</td>\n",
       "      <td>12.0</td>\n",
       "      <td>1.0</td>\n",
       "      <td>3.0</td>\n",
       "      <td>1.0</td>\n",
       "      <td>4.0</td>\n",
       "      <td>6.0</td>\n",
       "      <td>6.0</td>\n",
       "      <td>0.0</td>\n",
       "    </tr>\n",
       "    <tr>\n",
       "      <th>4907</th>\n",
       "      <td>568025100538</td>\n",
       "      <td>Wyoming Boys School</td>\n",
       "      <td>Wyoming</td>\n",
       "      <td>Wyoming Department of Family Services</td>\n",
       "      <td>Rural, distant</td>\n",
       "      <td>High</td>\n",
       "      <td>Regular school</td>\n",
       "      <td>No</td>\n",
       "      <td>0</td>\n",
       "      <td>NaN</td>\n",
       "      <td>...</td>\n",
       "      <td>32.0</td>\n",
       "      <td>NaN</td>\n",
       "      <td>44.0</td>\n",
       "      <td>0.0</td>\n",
       "      <td>0.0</td>\n",
       "      <td>0.0</td>\n",
       "      <td>0.0</td>\n",
       "      <td>0.0</td>\n",
       "      <td>0.0</td>\n",
       "      <td>22.0</td>\n",
       "    </tr>\n",
       "  </tbody>\n",
       "</table>\n",
       "<p>10955 rows × 60 columns</p>\n",
       "</div>"
      ],
      "text/plain": [
       "           ncessch                school_name   state_name  \\\n",
       "32     90000401360      Walter G. Cady School  Connecticut   \n",
       "33     90000501215    E. O. Smith High School  Connecticut   \n",
       "36     90001400807  Common Ground High School  Connecticut   \n",
       "37     90001500809         The Bridge Academy  Connecticut   \n",
       "38     90001800834               Explorations  Connecticut   \n",
       "...            ...                        ...          ...   \n",
       "4903  560583000512         Summit High School      Wyoming   \n",
       "4904  560609000401          Upton High School      Wyoming   \n",
       "4905  560624000343        Worland High School      Wyoming   \n",
       "4906  568025100534       Wyoming Girls School      Wyoming   \n",
       "4907  568025100538        Wyoming Boys School      Wyoming   \n",
       "\n",
       "                                   lea_name urban_centric_locale school_level  \\\n",
       "32               UNIFIED SCHOOL DISTRICT #2          City, small         High   \n",
       "33              REGIONAL SCHOOL DISTRICT 19        Suburb, large         High   \n",
       "36            COMMON GROUND HIGH SCHOOL DIS        City, midsize         High   \n",
       "37              THE BRIDGE ACADEMY DISTRICT        City, midsize         High   \n",
       "38                    EXPLORATIONS DISTRICT         Town, fringe         High   \n",
       "...                                     ...                  ...          ...   \n",
       "4903        Teton County School District #1        Rural, fringe         High   \n",
       "4904       Weston County School District #7        Rural, remote         High   \n",
       "4905     Washakie County School District #1         Town, remote         High   \n",
       "4906  Wyoming Department of Family Services         Town, remote         High   \n",
       "4907  Wyoming Department of Family Services       Rural, distant         High   \n",
       "\n",
       "         school_type charter enrollment  read_test_num_valid  ...  \\\n",
       "32    Regular school      No         62                  3.0  ...   \n",
       "33    Regular school      No       1153                260.0  ...   \n",
       "36    Regular school     Yes        186                 39.0  ...   \n",
       "37    Regular school     Yes        279                139.0  ...   \n",
       "38    Regular school     Yes         92                 21.0  ...   \n",
       "...              ...     ...        ...                  ...  ...   \n",
       "4903  Regular school      No         55                 16.0  ...   \n",
       "4904  Regular school      No         91                 18.0  ...   \n",
       "4905  Regular school      No        397                106.0  ...   \n",
       "4906  Regular school      No          0                  NaN  ...   \n",
       "4907  Regular school      No          0                  NaN  ...   \n",
       "\n",
       "     enrl_algebra2 enrl_physics enrl_geometry  instances_mech_restraint  \\\n",
       "32            31.0          NaN          31.0                       5.0   \n",
       "33           264.0        120.0         237.0                       0.0   \n",
       "36            37.0         18.0          40.0                       0.0   \n",
       "37            46.0          NaN          50.0                       0.0   \n",
       "38            14.0          NaN          10.0                       0.0   \n",
       "...            ...          ...           ...                       ...   \n",
       "4903           NaN         23.0          14.0                       0.0   \n",
       "4904          19.0          NaN          30.0                       0.0   \n",
       "4905          91.0         85.0          77.0                       0.0   \n",
       "4906          10.0          NaN          12.0                       1.0   \n",
       "4907          32.0          NaN          44.0                       0.0   \n",
       "\n",
       "     instances_phys_restraint instances_seclusion students_mech_restraint  \\\n",
       "32                       12.0                 0.0                     5.0   \n",
       "33                        0.0                 0.0                     0.0   \n",
       "36                        0.0                 0.0                     0.0   \n",
       "37                        0.0                 0.0                     0.0   \n",
       "38                        0.0                 0.0                     0.0   \n",
       "...                       ...                 ...                     ...   \n",
       "4903                      0.0                 0.0                     0.0   \n",
       "4904                      0.0                 0.0                     0.0   \n",
       "4905                      0.0                 0.0                     0.0   \n",
       "4906                      3.0                 1.0                     4.0   \n",
       "4907                      0.0                 0.0                     0.0   \n",
       "\n",
       "     students_phys_restraint students_seclusion students_SAT_ACT  \n",
       "32                       9.0                0.0              0.0  \n",
       "33                       0.0                0.0            420.0  \n",
       "36                       0.0                0.0             43.0  \n",
       "37                       0.0                0.0             81.0  \n",
       "38                       0.0                0.0             26.0  \n",
       "...                      ...                ...              ...  \n",
       "4903                     0.0                0.0              0.0  \n",
       "4904                     0.0                0.0             24.0  \n",
       "4905                     0.0                0.0            109.0  \n",
       "4906                     6.0                6.0              0.0  \n",
       "4907                     0.0                0.0             22.0  \n",
       "\n",
       "[10955 rows x 60 columns]"
      ]
     },
     "execution_count": 32,
     "metadata": {},
     "output_type": "execute_result"
    }
   ],
   "source": [
    "df_school_regular = df_school.loc[df_school['school_type'] == 'Regular school']\n",
    "df_school_regular"
   ]
  },
  {
   "cell_type": "code",
   "execution_count": 33,
   "metadata": {
    "ExecuteTime": {
     "end_time": "2021-06-16T06:30:22.724899Z",
     "start_time": "2021-06-16T06:30:22.698817Z"
    }
   },
   "outputs": [
    {
     "data": {
      "text/html": [
       "<div>\n",
       "<style scoped>\n",
       "    .dataframe tbody tr th:only-of-type {\n",
       "        vertical-align: middle;\n",
       "    }\n",
       "\n",
       "    .dataframe tbody tr th {\n",
       "        vertical-align: top;\n",
       "    }\n",
       "\n",
       "    .dataframe thead th {\n",
       "        text-align: right;\n",
       "    }\n",
       "</style>\n",
       "<table border=\"1\" class=\"dataframe\">\n",
       "  <thead>\n",
       "    <tr style=\"text-align: right;\">\n",
       "      <th></th>\n",
       "      <th>ncessch</th>\n",
       "      <th>school_name</th>\n",
       "      <th>state_name</th>\n",
       "      <th>lea_name</th>\n",
       "      <th>urban_centric_locale</th>\n",
       "      <th>school_level</th>\n",
       "      <th>school_type</th>\n",
       "      <th>charter</th>\n",
       "      <th>enrollment</th>\n",
       "      <th>read_test_num_valid</th>\n",
       "      <th>...</th>\n",
       "      <th>enrl_algebra2</th>\n",
       "      <th>enrl_physics</th>\n",
       "      <th>enrl_geometry</th>\n",
       "      <th>instances_mech_restraint</th>\n",
       "      <th>instances_phys_restraint</th>\n",
       "      <th>instances_seclusion</th>\n",
       "      <th>students_mech_restraint</th>\n",
       "      <th>students_phys_restraint</th>\n",
       "      <th>students_seclusion</th>\n",
       "      <th>students_SAT_ACT</th>\n",
       "    </tr>\n",
       "  </thead>\n",
       "  <tbody>\n",
       "    <tr>\n",
       "      <th>16</th>\n",
       "      <td>90000300343</td>\n",
       "      <td>Bridgeport Correctional Center</td>\n",
       "      <td>Connecticut</td>\n",
       "      <td>UNIFIED SCHOOL DISTRICT #1</td>\n",
       "      <td>City, midsize</td>\n",
       "      <td>High</td>\n",
       "      <td>Other/alternative school</td>\n",
       "      <td>No</td>\n",
       "      <td>6</td>\n",
       "      <td>NaN</td>\n",
       "      <td>...</td>\n",
       "      <td>NaN</td>\n",
       "      <td>NaN</td>\n",
       "      <td>NaN</td>\n",
       "      <td>NaN</td>\n",
       "      <td>NaN</td>\n",
       "      <td>NaN</td>\n",
       "      <td>NaN</td>\n",
       "      <td>NaN</td>\n",
       "      <td>NaN</td>\n",
       "      <td>NaN</td>\n",
       "    </tr>\n",
       "    <tr>\n",
       "      <th>17</th>\n",
       "      <td>90000300344</td>\n",
       "      <td>Brooklyn Correctional Institution</td>\n",
       "      <td>Connecticut</td>\n",
       "      <td>UNIFIED SCHOOL DISTRICT #1</td>\n",
       "      <td>Rural, fringe</td>\n",
       "      <td>High</td>\n",
       "      <td>Other/alternative school</td>\n",
       "      <td>No</td>\n",
       "      <td>1</td>\n",
       "      <td>NaN</td>\n",
       "      <td>...</td>\n",
       "      <td>NaN</td>\n",
       "      <td>NaN</td>\n",
       "      <td>NaN</td>\n",
       "      <td>NaN</td>\n",
       "      <td>NaN</td>\n",
       "      <td>NaN</td>\n",
       "      <td>NaN</td>\n",
       "      <td>NaN</td>\n",
       "      <td>NaN</td>\n",
       "      <td>NaN</td>\n",
       "    </tr>\n",
       "    <tr>\n",
       "      <th>18</th>\n",
       "      <td>90000300347</td>\n",
       "      <td>Cheshire Correctional Institution</td>\n",
       "      <td>Connecticut</td>\n",
       "      <td>UNIFIED SCHOOL DISTRICT #1</td>\n",
       "      <td>Suburb, large</td>\n",
       "      <td>High</td>\n",
       "      <td>Other/alternative school</td>\n",
       "      <td>No</td>\n",
       "      <td>10</td>\n",
       "      <td>NaN</td>\n",
       "      <td>...</td>\n",
       "      <td>NaN</td>\n",
       "      <td>NaN</td>\n",
       "      <td>NaN</td>\n",
       "      <td>NaN</td>\n",
       "      <td>NaN</td>\n",
       "      <td>NaN</td>\n",
       "      <td>NaN</td>\n",
       "      <td>NaN</td>\n",
       "      <td>NaN</td>\n",
       "      <td>NaN</td>\n",
       "    </tr>\n",
       "    <tr>\n",
       "      <th>19</th>\n",
       "      <td>90000300361</td>\n",
       "      <td>Hartford Correctional Center</td>\n",
       "      <td>Connecticut</td>\n",
       "      <td>UNIFIED SCHOOL DISTRICT #1</td>\n",
       "      <td>City, midsize</td>\n",
       "      <td>High</td>\n",
       "      <td>Other/alternative school</td>\n",
       "      <td>No</td>\n",
       "      <td>8</td>\n",
       "      <td>NaN</td>\n",
       "      <td>...</td>\n",
       "      <td>NaN</td>\n",
       "      <td>NaN</td>\n",
       "      <td>NaN</td>\n",
       "      <td>NaN</td>\n",
       "      <td>NaN</td>\n",
       "      <td>NaN</td>\n",
       "      <td>NaN</td>\n",
       "      <td>NaN</td>\n",
       "      <td>NaN</td>\n",
       "      <td>NaN</td>\n",
       "    </tr>\n",
       "    <tr>\n",
       "      <th>20</th>\n",
       "      <td>90000300374</td>\n",
       "      <td>New Haven Correctional Center</td>\n",
       "      <td>Connecticut</td>\n",
       "      <td>UNIFIED SCHOOL DISTRICT #1</td>\n",
       "      <td>City, midsize</td>\n",
       "      <td>High</td>\n",
       "      <td>Other/alternative school</td>\n",
       "      <td>No</td>\n",
       "      <td>3</td>\n",
       "      <td>NaN</td>\n",
       "      <td>...</td>\n",
       "      <td>NaN</td>\n",
       "      <td>NaN</td>\n",
       "      <td>NaN</td>\n",
       "      <td>NaN</td>\n",
       "      <td>NaN</td>\n",
       "      <td>NaN</td>\n",
       "      <td>NaN</td>\n",
       "      <td>NaN</td>\n",
       "      <td>NaN</td>\n",
       "      <td>NaN</td>\n",
       "    </tr>\n",
       "    <tr>\n",
       "      <th>...</th>\n",
       "      <td>...</td>\n",
       "      <td>...</td>\n",
       "      <td>...</td>\n",
       "      <td>...</td>\n",
       "      <td>...</td>\n",
       "      <td>...</td>\n",
       "      <td>...</td>\n",
       "      <td>...</td>\n",
       "      <td>...</td>\n",
       "      <td>...</td>\n",
       "      <td>...</td>\n",
       "      <td>...</td>\n",
       "      <td>...</td>\n",
       "      <td>...</td>\n",
       "      <td>...</td>\n",
       "      <td>...</td>\n",
       "      <td>...</td>\n",
       "      <td>...</td>\n",
       "      <td>...</td>\n",
       "      <td>...</td>\n",
       "      <td>...</td>\n",
       "    </tr>\n",
       "    <tr>\n",
       "      <th>4808</th>\n",
       "      <td>530981003072</td>\n",
       "      <td>White Salmon Academy</td>\n",
       "      <td>Washington</td>\n",
       "      <td>White Salmon Valley School District</td>\n",
       "      <td>Rural, fringe</td>\n",
       "      <td>High</td>\n",
       "      <td>Other/alternative school</td>\n",
       "      <td>No</td>\n",
       "      <td>15</td>\n",
       "      <td>3.0</td>\n",
       "      <td>...</td>\n",
       "      <td>NaN</td>\n",
       "      <td>NaN</td>\n",
       "      <td>NaN</td>\n",
       "      <td>0.0</td>\n",
       "      <td>0.0</td>\n",
       "      <td>0.0</td>\n",
       "      <td>0.0</td>\n",
       "      <td>0.0</td>\n",
       "      <td>0.0</td>\n",
       "      <td>0.0</td>\n",
       "    </tr>\n",
       "    <tr>\n",
       "      <th>4813</th>\n",
       "      <td>531005002713</td>\n",
       "      <td>TEAM High School</td>\n",
       "      <td>Washington</td>\n",
       "      <td>Woodland School District</td>\n",
       "      <td>Town, distant</td>\n",
       "      <td>High</td>\n",
       "      <td>Other/alternative school</td>\n",
       "      <td>No</td>\n",
       "      <td>72</td>\n",
       "      <td>21.0</td>\n",
       "      <td>...</td>\n",
       "      <td>4.0</td>\n",
       "      <td>NaN</td>\n",
       "      <td>11.0</td>\n",
       "      <td>0.0</td>\n",
       "      <td>0.0</td>\n",
       "      <td>0.0</td>\n",
       "      <td>0.0</td>\n",
       "      <td>0.0</td>\n",
       "      <td>0.0</td>\n",
       "      <td>0.0</td>\n",
       "    </tr>\n",
       "    <tr>\n",
       "      <th>4816</th>\n",
       "      <td>531011001713</td>\n",
       "      <td>Stanton Academy</td>\n",
       "      <td>Washington</td>\n",
       "      <td>Yakima School District</td>\n",
       "      <td>City, small</td>\n",
       "      <td>High</td>\n",
       "      <td>Other/alternative school</td>\n",
       "      <td>No</td>\n",
       "      <td>324</td>\n",
       "      <td>47.0</td>\n",
       "      <td>...</td>\n",
       "      <td>NaN</td>\n",
       "      <td>NaN</td>\n",
       "      <td>119.0</td>\n",
       "      <td>0.0</td>\n",
       "      <td>0.0</td>\n",
       "      <td>0.0</td>\n",
       "      <td>0.0</td>\n",
       "      <td>0.0</td>\n",
       "      <td>0.0</td>\n",
       "      <td>8.0</td>\n",
       "    </tr>\n",
       "    <tr>\n",
       "      <th>4818</th>\n",
       "      <td>531011003324</td>\n",
       "      <td>Yakima Satellite Alternative Programs</td>\n",
       "      <td>Washington</td>\n",
       "      <td>Yakima School District</td>\n",
       "      <td>City, small</td>\n",
       "      <td>High</td>\n",
       "      <td>Other/alternative school</td>\n",
       "      <td>No</td>\n",
       "      <td>33</td>\n",
       "      <td>12.0</td>\n",
       "      <td>...</td>\n",
       "      <td>NaN</td>\n",
       "      <td>NaN</td>\n",
       "      <td>NaN</td>\n",
       "      <td>NaN</td>\n",
       "      <td>NaN</td>\n",
       "      <td>NaN</td>\n",
       "      <td>NaN</td>\n",
       "      <td>NaN</td>\n",
       "      <td>NaN</td>\n",
       "      <td>NaN</td>\n",
       "    </tr>\n",
       "    <tr>\n",
       "      <th>4821</th>\n",
       "      <td>531011003487</td>\n",
       "      <td>Yakima Open Doors</td>\n",
       "      <td>Washington</td>\n",
       "      <td>Yakima School District</td>\n",
       "      <td>City, small</td>\n",
       "      <td>High</td>\n",
       "      <td>Other/alternative school</td>\n",
       "      <td>No</td>\n",
       "      <td>88</td>\n",
       "      <td>10.0</td>\n",
       "      <td>...</td>\n",
       "      <td>NaN</td>\n",
       "      <td>NaN</td>\n",
       "      <td>NaN</td>\n",
       "      <td>0.0</td>\n",
       "      <td>0.0</td>\n",
       "      <td>0.0</td>\n",
       "      <td>0.0</td>\n",
       "      <td>0.0</td>\n",
       "      <td>0.0</td>\n",
       "      <td>2.0</td>\n",
       "    </tr>\n",
       "  </tbody>\n",
       "</table>\n",
       "<p>2050 rows × 60 columns</p>\n",
       "</div>"
      ],
      "text/plain": [
       "           ncessch                            school_name   state_name  \\\n",
       "16     90000300343         Bridgeport Correctional Center  Connecticut   \n",
       "17     90000300344      Brooklyn Correctional Institution  Connecticut   \n",
       "18     90000300347      Cheshire Correctional Institution  Connecticut   \n",
       "19     90000300361           Hartford Correctional Center  Connecticut   \n",
       "20     90000300374          New Haven Correctional Center  Connecticut   \n",
       "...            ...                                    ...          ...   \n",
       "4808  530981003072                   White Salmon Academy   Washington   \n",
       "4813  531005002713                       TEAM High School   Washington   \n",
       "4816  531011001713                        Stanton Academy   Washington   \n",
       "4818  531011003324  Yakima Satellite Alternative Programs   Washington   \n",
       "4821  531011003487                      Yakima Open Doors   Washington   \n",
       "\n",
       "                                 lea_name urban_centric_locale school_level  \\\n",
       "16             UNIFIED SCHOOL DISTRICT #1        City, midsize         High   \n",
       "17             UNIFIED SCHOOL DISTRICT #1        Rural, fringe         High   \n",
       "18             UNIFIED SCHOOL DISTRICT #1        Suburb, large         High   \n",
       "19             UNIFIED SCHOOL DISTRICT #1        City, midsize         High   \n",
       "20             UNIFIED SCHOOL DISTRICT #1        City, midsize         High   \n",
       "...                                   ...                  ...          ...   \n",
       "4808  White Salmon Valley School District        Rural, fringe         High   \n",
       "4813             Woodland School District        Town, distant         High   \n",
       "4816               Yakima School District          City, small         High   \n",
       "4818               Yakima School District          City, small         High   \n",
       "4821               Yakima School District          City, small         High   \n",
       "\n",
       "                   school_type charter enrollment  read_test_num_valid  ...  \\\n",
       "16    Other/alternative school      No          6                  NaN  ...   \n",
       "17    Other/alternative school      No          1                  NaN  ...   \n",
       "18    Other/alternative school      No         10                  NaN  ...   \n",
       "19    Other/alternative school      No          8                  NaN  ...   \n",
       "20    Other/alternative school      No          3                  NaN  ...   \n",
       "...                        ...     ...        ...                  ...  ...   \n",
       "4808  Other/alternative school      No         15                  3.0  ...   \n",
       "4813  Other/alternative school      No         72                 21.0  ...   \n",
       "4816  Other/alternative school      No        324                 47.0  ...   \n",
       "4818  Other/alternative school      No         33                 12.0  ...   \n",
       "4821  Other/alternative school      No         88                 10.0  ...   \n",
       "\n",
       "     enrl_algebra2 enrl_physics enrl_geometry  instances_mech_restraint  \\\n",
       "16             NaN          NaN           NaN                       NaN   \n",
       "17             NaN          NaN           NaN                       NaN   \n",
       "18             NaN          NaN           NaN                       NaN   \n",
       "19             NaN          NaN           NaN                       NaN   \n",
       "20             NaN          NaN           NaN                       NaN   \n",
       "...            ...          ...           ...                       ...   \n",
       "4808           NaN          NaN           NaN                       0.0   \n",
       "4813           4.0          NaN          11.0                       0.0   \n",
       "4816           NaN          NaN         119.0                       0.0   \n",
       "4818           NaN          NaN           NaN                       NaN   \n",
       "4821           NaN          NaN           NaN                       0.0   \n",
       "\n",
       "     instances_phys_restraint instances_seclusion students_mech_restraint  \\\n",
       "16                        NaN                 NaN                     NaN   \n",
       "17                        NaN                 NaN                     NaN   \n",
       "18                        NaN                 NaN                     NaN   \n",
       "19                        NaN                 NaN                     NaN   \n",
       "20                        NaN                 NaN                     NaN   \n",
       "...                       ...                 ...                     ...   \n",
       "4808                      0.0                 0.0                     0.0   \n",
       "4813                      0.0                 0.0                     0.0   \n",
       "4816                      0.0                 0.0                     0.0   \n",
       "4818                      NaN                 NaN                     NaN   \n",
       "4821                      0.0                 0.0                     0.0   \n",
       "\n",
       "     students_phys_restraint students_seclusion students_SAT_ACT  \n",
       "16                       NaN                NaN              NaN  \n",
       "17                       NaN                NaN              NaN  \n",
       "18                       NaN                NaN              NaN  \n",
       "19                       NaN                NaN              NaN  \n",
       "20                       NaN                NaN              NaN  \n",
       "...                      ...                ...              ...  \n",
       "4808                     0.0                0.0              0.0  \n",
       "4813                     0.0                0.0              0.0  \n",
       "4816                     0.0                0.0              8.0  \n",
       "4818                     NaN                NaN              NaN  \n",
       "4821                     0.0                0.0              2.0  \n",
       "\n",
       "[2050 rows x 60 columns]"
      ]
     },
     "execution_count": 33,
     "metadata": {},
     "output_type": "execute_result"
    }
   ],
   "source": [
    "df_school_alternative = df_school.loc[df_school['school_type'] == 'Other/alternative school']\n",
    "df_school_alternative"
   ]
  },
  {
   "cell_type": "code",
   "execution_count": 34,
   "metadata": {
    "ExecuteTime": {
     "end_time": "2021-06-16T06:30:22.795455Z",
     "start_time": "2021-06-16T06:30:22.726840Z"
    }
   },
   "outputs": [
    {
     "data": {
      "text/html": [
       "<div>\n",
       "<style scoped>\n",
       "    .dataframe tbody tr th:only-of-type {\n",
       "        vertical-align: middle;\n",
       "    }\n",
       "\n",
       "    .dataframe tbody tr th {\n",
       "        vertical-align: top;\n",
       "    }\n",
       "\n",
       "    .dataframe thead th {\n",
       "        text-align: right;\n",
       "    }\n",
       "</style>\n",
       "<table border=\"1\" class=\"dataframe\">\n",
       "  <thead>\n",
       "    <tr style=\"text-align: right;\">\n",
       "      <th></th>\n",
       "      <th>ncessch</th>\n",
       "      <th>school_name</th>\n",
       "      <th>state_name</th>\n",
       "      <th>lea_name</th>\n",
       "      <th>urban_centric_locale</th>\n",
       "      <th>school_level</th>\n",
       "      <th>school_type</th>\n",
       "      <th>charter</th>\n",
       "      <th>enrollment</th>\n",
       "      <th>read_test_num_valid</th>\n",
       "      <th>...</th>\n",
       "      <th>enrl_algebra2</th>\n",
       "      <th>enrl_physics</th>\n",
       "      <th>enrl_geometry</th>\n",
       "      <th>instances_mech_restraint</th>\n",
       "      <th>instances_phys_restraint</th>\n",
       "      <th>instances_seclusion</th>\n",
       "      <th>students_mech_restraint</th>\n",
       "      <th>students_phys_restraint</th>\n",
       "      <th>students_seclusion</th>\n",
       "      <th>students_SAT_ACT</th>\n",
       "    </tr>\n",
       "  </thead>\n",
       "  <tbody>\n",
       "    <tr>\n",
       "      <th>0</th>\n",
       "      <td>90000201136</td>\n",
       "      <td>A. I. Prince Technical High School</td>\n",
       "      <td>Connecticut</td>\n",
       "      <td>Connecticut Technical High Sc</td>\n",
       "      <td>City, midsize</td>\n",
       "      <td>High</td>\n",
       "      <td>Vocational school</td>\n",
       "      <td>No</td>\n",
       "      <td>768</td>\n",
       "      <td>169.0</td>\n",
       "      <td>...</td>\n",
       "      <td>212.0</td>\n",
       "      <td>66.0</td>\n",
       "      <td>180.0</td>\n",
       "      <td>0.0</td>\n",
       "      <td>0.0</td>\n",
       "      <td>0.0</td>\n",
       "      <td>0.0</td>\n",
       "      <td>0.0</td>\n",
       "      <td>0.0</td>\n",
       "      <td>243.0</td>\n",
       "    </tr>\n",
       "    <tr>\n",
       "      <th>1</th>\n",
       "      <td>90000201137</td>\n",
       "      <td>Bullard-Havens Technical High School</td>\n",
       "      <td>Connecticut</td>\n",
       "      <td>Connecticut Technical High Sc</td>\n",
       "      <td>City, midsize</td>\n",
       "      <td>High</td>\n",
       "      <td>Vocational school</td>\n",
       "      <td>No</td>\n",
       "      <td>784</td>\n",
       "      <td>174.0</td>\n",
       "      <td>...</td>\n",
       "      <td>180.0</td>\n",
       "      <td>NaN</td>\n",
       "      <td>207.0</td>\n",
       "      <td>0.0</td>\n",
       "      <td>0.0</td>\n",
       "      <td>0.0</td>\n",
       "      <td>0.0</td>\n",
       "      <td>0.0</td>\n",
       "      <td>0.0</td>\n",
       "      <td>320.0</td>\n",
       "    </tr>\n",
       "    <tr>\n",
       "      <th>2</th>\n",
       "      <td>90000201138</td>\n",
       "      <td>E. C. Goodwin Technical High School</td>\n",
       "      <td>Connecticut</td>\n",
       "      <td>Connecticut Technical High Sc</td>\n",
       "      <td>Suburb, large</td>\n",
       "      <td>High</td>\n",
       "      <td>Vocational school</td>\n",
       "      <td>No</td>\n",
       "      <td>636</td>\n",
       "      <td>141.0</td>\n",
       "      <td>...</td>\n",
       "      <td>308.0</td>\n",
       "      <td>45.0</td>\n",
       "      <td>NaN</td>\n",
       "      <td>0.0</td>\n",
       "      <td>0.0</td>\n",
       "      <td>0.0</td>\n",
       "      <td>0.0</td>\n",
       "      <td>0.0</td>\n",
       "      <td>0.0</td>\n",
       "      <td>209.0</td>\n",
       "    </tr>\n",
       "    <tr>\n",
       "      <th>3</th>\n",
       "      <td>90000201139</td>\n",
       "      <td>Ella T. Grasso Southeastern Technical High School</td>\n",
       "      <td>Connecticut</td>\n",
       "      <td>Connecticut Technical High Sc</td>\n",
       "      <td>Rural, fringe</td>\n",
       "      <td>High</td>\n",
       "      <td>Vocational school</td>\n",
       "      <td>No</td>\n",
       "      <td>505</td>\n",
       "      <td>125.0</td>\n",
       "      <td>...</td>\n",
       "      <td>165.0</td>\n",
       "      <td>35.0</td>\n",
       "      <td>6.0</td>\n",
       "      <td>0.0</td>\n",
       "      <td>0.0</td>\n",
       "      <td>0.0</td>\n",
       "      <td>0.0</td>\n",
       "      <td>0.0</td>\n",
       "      <td>0.0</td>\n",
       "      <td>156.0</td>\n",
       "    </tr>\n",
       "    <tr>\n",
       "      <th>4</th>\n",
       "      <td>90000201140</td>\n",
       "      <td>Eli Whitney Technical High School</td>\n",
       "      <td>Connecticut</td>\n",
       "      <td>Connecticut Technical High Sc</td>\n",
       "      <td>Suburb, large</td>\n",
       "      <td>High</td>\n",
       "      <td>Vocational school</td>\n",
       "      <td>No</td>\n",
       "      <td>551</td>\n",
       "      <td>140.0</td>\n",
       "      <td>...</td>\n",
       "      <td>150.0</td>\n",
       "      <td>NaN</td>\n",
       "      <td>147.0</td>\n",
       "      <td>0.0</td>\n",
       "      <td>0.0</td>\n",
       "      <td>0.0</td>\n",
       "      <td>0.0</td>\n",
       "      <td>0.0</td>\n",
       "      <td>0.0</td>\n",
       "      <td>171.0</td>\n",
       "    </tr>\n",
       "    <tr>\n",
       "      <th>5</th>\n",
       "      <td>90000201141</td>\n",
       "      <td>Emmett OBrien Technical High School</td>\n",
       "      <td>Connecticut</td>\n",
       "      <td>Connecticut Technical High Sc</td>\n",
       "      <td>Suburb, large</td>\n",
       "      <td>High</td>\n",
       "      <td>Vocational school</td>\n",
       "      <td>No</td>\n",
       "      <td>573</td>\n",
       "      <td>131.0</td>\n",
       "      <td>...</td>\n",
       "      <td>134.0</td>\n",
       "      <td>69.0</td>\n",
       "      <td>147.0</td>\n",
       "      <td>0.0</td>\n",
       "      <td>0.0</td>\n",
       "      <td>0.0</td>\n",
       "      <td>0.0</td>\n",
       "      <td>0.0</td>\n",
       "      <td>0.0</td>\n",
       "      <td>219.0</td>\n",
       "    </tr>\n",
       "    <tr>\n",
       "      <th>6</th>\n",
       "      <td>90000201142</td>\n",
       "      <td>H. C. Wilcox Technical High School</td>\n",
       "      <td>Connecticut</td>\n",
       "      <td>Connecticut Technical High Sc</td>\n",
       "      <td>Suburb, large</td>\n",
       "      <td>High</td>\n",
       "      <td>Vocational school</td>\n",
       "      <td>No</td>\n",
       "      <td>760</td>\n",
       "      <td>188.0</td>\n",
       "      <td>...</td>\n",
       "      <td>191.0</td>\n",
       "      <td>141.0</td>\n",
       "      <td>177.0</td>\n",
       "      <td>0.0</td>\n",
       "      <td>0.0</td>\n",
       "      <td>0.0</td>\n",
       "      <td>0.0</td>\n",
       "      <td>0.0</td>\n",
       "      <td>0.0</td>\n",
       "      <td>270.0</td>\n",
       "    </tr>\n",
       "    <tr>\n",
       "      <th>7</th>\n",
       "      <td>90000201143</td>\n",
       "      <td>H. H. Ellis Technical High School</td>\n",
       "      <td>Connecticut</td>\n",
       "      <td>Connecticut Technical High Sc</td>\n",
       "      <td>Suburb, large</td>\n",
       "      <td>High</td>\n",
       "      <td>Vocational school</td>\n",
       "      <td>No</td>\n",
       "      <td>623</td>\n",
       "      <td>154.0</td>\n",
       "      <td>...</td>\n",
       "      <td>329.0</td>\n",
       "      <td>NaN</td>\n",
       "      <td>119.0</td>\n",
       "      <td>0.0</td>\n",
       "      <td>0.0</td>\n",
       "      <td>0.0</td>\n",
       "      <td>0.0</td>\n",
       "      <td>0.0</td>\n",
       "      <td>0.0</td>\n",
       "      <td>184.0</td>\n",
       "    </tr>\n",
       "    <tr>\n",
       "      <th>8</th>\n",
       "      <td>90000201144</td>\n",
       "      <td>Henry Abbott Technical High School</td>\n",
       "      <td>Connecticut</td>\n",
       "      <td>Connecticut Technical High Sc</td>\n",
       "      <td>City, small</td>\n",
       "      <td>High</td>\n",
       "      <td>Vocational school</td>\n",
       "      <td>No</td>\n",
       "      <td>640</td>\n",
       "      <td>145.0</td>\n",
       "      <td>...</td>\n",
       "      <td>173.0</td>\n",
       "      <td>93.0</td>\n",
       "      <td>172.0</td>\n",
       "      <td>0.0</td>\n",
       "      <td>0.0</td>\n",
       "      <td>0.0</td>\n",
       "      <td>0.0</td>\n",
       "      <td>0.0</td>\n",
       "      <td>0.0</td>\n",
       "      <td>233.0</td>\n",
       "    </tr>\n",
       "    <tr>\n",
       "      <th>9</th>\n",
       "      <td>90000201145</td>\n",
       "      <td>Howell Cheney Technical High School</td>\n",
       "      <td>Connecticut</td>\n",
       "      <td>Connecticut Technical High Sc</td>\n",
       "      <td>Suburb, large</td>\n",
       "      <td>High</td>\n",
       "      <td>Vocational school</td>\n",
       "      <td>No</td>\n",
       "      <td>653</td>\n",
       "      <td>148.0</td>\n",
       "      <td>...</td>\n",
       "      <td>182.0</td>\n",
       "      <td>19.0</td>\n",
       "      <td>153.0</td>\n",
       "      <td>0.0</td>\n",
       "      <td>0.0</td>\n",
       "      <td>0.0</td>\n",
       "      <td>0.0</td>\n",
       "      <td>0.0</td>\n",
       "      <td>0.0</td>\n",
       "      <td>200.0</td>\n",
       "    </tr>\n",
       "  </tbody>\n",
       "</table>\n",
       "<p>10 rows × 60 columns</p>\n",
       "</div>"
      ],
      "text/plain": [
       "       ncessch                                        school_name  \\\n",
       "0  90000201136                 A. I. Prince Technical High School   \n",
       "1  90000201137               Bullard-Havens Technical High School   \n",
       "2  90000201138                E. C. Goodwin Technical High School   \n",
       "3  90000201139  Ella T. Grasso Southeastern Technical High School   \n",
       "4  90000201140                  Eli Whitney Technical High School   \n",
       "5  90000201141                Emmett OBrien Technical High School   \n",
       "6  90000201142                 H. C. Wilcox Technical High School   \n",
       "7  90000201143                  H. H. Ellis Technical High School   \n",
       "8  90000201144                 Henry Abbott Technical High School   \n",
       "9  90000201145                Howell Cheney Technical High School   \n",
       "\n",
       "    state_name                       lea_name urban_centric_locale  \\\n",
       "0  Connecticut  Connecticut Technical High Sc        City, midsize   \n",
       "1  Connecticut  Connecticut Technical High Sc        City, midsize   \n",
       "2  Connecticut  Connecticut Technical High Sc        Suburb, large   \n",
       "3  Connecticut  Connecticut Technical High Sc        Rural, fringe   \n",
       "4  Connecticut  Connecticut Technical High Sc        Suburb, large   \n",
       "5  Connecticut  Connecticut Technical High Sc        Suburb, large   \n",
       "6  Connecticut  Connecticut Technical High Sc        Suburb, large   \n",
       "7  Connecticut  Connecticut Technical High Sc        Suburb, large   \n",
       "8  Connecticut  Connecticut Technical High Sc          City, small   \n",
       "9  Connecticut  Connecticut Technical High Sc        Suburb, large   \n",
       "\n",
       "  school_level        school_type charter enrollment  read_test_num_valid  \\\n",
       "0         High  Vocational school      No        768                169.0   \n",
       "1         High  Vocational school      No        784                174.0   \n",
       "2         High  Vocational school      No        636                141.0   \n",
       "3         High  Vocational school      No        505                125.0   \n",
       "4         High  Vocational school      No        551                140.0   \n",
       "5         High  Vocational school      No        573                131.0   \n",
       "6         High  Vocational school      No        760                188.0   \n",
       "7         High  Vocational school      No        623                154.0   \n",
       "8         High  Vocational school      No        640                145.0   \n",
       "9         High  Vocational school      No        653                148.0   \n",
       "\n",
       "   ... enrl_algebra2 enrl_physics enrl_geometry  instances_mech_restraint  \\\n",
       "0  ...         212.0         66.0         180.0                       0.0   \n",
       "1  ...         180.0          NaN         207.0                       0.0   \n",
       "2  ...         308.0         45.0           NaN                       0.0   \n",
       "3  ...         165.0         35.0           6.0                       0.0   \n",
       "4  ...         150.0          NaN         147.0                       0.0   \n",
       "5  ...         134.0         69.0         147.0                       0.0   \n",
       "6  ...         191.0        141.0         177.0                       0.0   \n",
       "7  ...         329.0          NaN         119.0                       0.0   \n",
       "8  ...         173.0         93.0         172.0                       0.0   \n",
       "9  ...         182.0         19.0         153.0                       0.0   \n",
       "\n",
       "  instances_phys_restraint instances_seclusion students_mech_restraint  \\\n",
       "0                      0.0                 0.0                     0.0   \n",
       "1                      0.0                 0.0                     0.0   \n",
       "2                      0.0                 0.0                     0.0   \n",
       "3                      0.0                 0.0                     0.0   \n",
       "4                      0.0                 0.0                     0.0   \n",
       "5                      0.0                 0.0                     0.0   \n",
       "6                      0.0                 0.0                     0.0   \n",
       "7                      0.0                 0.0                     0.0   \n",
       "8                      0.0                 0.0                     0.0   \n",
       "9                      0.0                 0.0                     0.0   \n",
       "\n",
       "  students_phys_restraint students_seclusion students_SAT_ACT  \n",
       "0                     0.0                0.0            243.0  \n",
       "1                     0.0                0.0            320.0  \n",
       "2                     0.0                0.0            209.0  \n",
       "3                     0.0                0.0            156.0  \n",
       "4                     0.0                0.0            171.0  \n",
       "5                     0.0                0.0            219.0  \n",
       "6                     0.0                0.0            270.0  \n",
       "7                     0.0                0.0            184.0  \n",
       "8                     0.0                0.0            233.0  \n",
       "9                     0.0                0.0            200.0  \n",
       "\n",
       "[10 rows x 60 columns]"
      ]
     },
     "execution_count": 34,
     "metadata": {},
     "output_type": "execute_result"
    }
   ],
   "source": [
    "df_school_vocational = df_school.loc[df_school['school_type'] == 'Vocational school']\n",
    "df_school_vocational.head(10)"
   ]
  },
  {
   "cell_type": "code",
   "execution_count": 35,
   "metadata": {
    "ExecuteTime": {
     "end_time": "2021-06-16T06:30:22.819767Z",
     "start_time": "2021-06-16T06:30:22.797024Z"
    },
    "scrolled": false
   },
   "outputs": [
    {
     "data": {
      "text/html": [
       "<div>\n",
       "<style scoped>\n",
       "    .dataframe tbody tr th:only-of-type {\n",
       "        vertical-align: middle;\n",
       "    }\n",
       "\n",
       "    .dataframe tbody tr th {\n",
       "        vertical-align: top;\n",
       "    }\n",
       "\n",
       "    .dataframe thead th {\n",
       "        text-align: right;\n",
       "    }\n",
       "</style>\n",
       "<table border=\"1\" class=\"dataframe\">\n",
       "  <thead>\n",
       "    <tr style=\"text-align: right;\">\n",
       "      <th></th>\n",
       "      <th>ncessch</th>\n",
       "      <th>school_name</th>\n",
       "      <th>state_name</th>\n",
       "      <th>lea_name</th>\n",
       "      <th>urban_centric_locale</th>\n",
       "      <th>school_level</th>\n",
       "      <th>school_type</th>\n",
       "      <th>charter</th>\n",
       "      <th>enrollment</th>\n",
       "      <th>read_test_num_valid</th>\n",
       "      <th>...</th>\n",
       "      <th>enrl_algebra2</th>\n",
       "      <th>enrl_physics</th>\n",
       "      <th>enrl_geometry</th>\n",
       "      <th>instances_mech_restraint</th>\n",
       "      <th>instances_phys_restraint</th>\n",
       "      <th>instances_seclusion</th>\n",
       "      <th>students_mech_restraint</th>\n",
       "      <th>students_phys_restraint</th>\n",
       "      <th>students_seclusion</th>\n",
       "      <th>students_SAT_ACT</th>\n",
       "    </tr>\n",
       "  </thead>\n",
       "  <tbody>\n",
       "    <tr>\n",
       "      <th>46</th>\n",
       "      <td>90007001588</td>\n",
       "      <td>Center for Autism Spectrum and Development Dis...</td>\n",
       "      <td>Connecticut</td>\n",
       "      <td>AREA COOPERATIVE EDUCATIONAL</td>\n",
       "      <td>Suburb, large</td>\n",
       "      <td>High</td>\n",
       "      <td>Special education school</td>\n",
       "      <td>No</td>\n",
       "      <td>38</td>\n",
       "      <td>NaN</td>\n",
       "      <td>...</td>\n",
       "      <td>NaN</td>\n",
       "      <td>NaN</td>\n",
       "      <td>NaN</td>\n",
       "      <td>0.0</td>\n",
       "      <td>58.0</td>\n",
       "      <td>150.0</td>\n",
       "      <td>0.0</td>\n",
       "      <td>14.0</td>\n",
       "      <td>16.0</td>\n",
       "      <td>0.0</td>\n",
       "    </tr>\n",
       "    <tr>\n",
       "      <th>64</th>\n",
       "      <td>90051001515</td>\n",
       "      <td>Community/Vocational Program</td>\n",
       "      <td>Connecticut</td>\n",
       "      <td>BRISTOL SCHOOL DISTRICT</td>\n",
       "      <td>Suburb, large</td>\n",
       "      <td>High</td>\n",
       "      <td>Special education school</td>\n",
       "      <td>No</td>\n",
       "      <td>12</td>\n",
       "      <td>NaN</td>\n",
       "      <td>...</td>\n",
       "      <td>NaN</td>\n",
       "      <td>NaN</td>\n",
       "      <td>NaN</td>\n",
       "      <td>0.0</td>\n",
       "      <td>0.0</td>\n",
       "      <td>0.0</td>\n",
       "      <td>0.0</td>\n",
       "      <td>0.0</td>\n",
       "      <td>0.0</td>\n",
       "      <td>0.0</td>\n",
       "    </tr>\n",
       "    <tr>\n",
       "      <th>71</th>\n",
       "      <td>90070001567</td>\n",
       "      <td>Lincoln Academy Regional Interdistrict Collabo...</td>\n",
       "      <td>Connecticut</td>\n",
       "      <td>CAPITOL REGION EDUCATION COUN</td>\n",
       "      <td>City, small</td>\n",
       "      <td>High</td>\n",
       "      <td>Special education school</td>\n",
       "      <td>No</td>\n",
       "      <td>12</td>\n",
       "      <td>NaN</td>\n",
       "      <td>...</td>\n",
       "      <td>NaN</td>\n",
       "      <td>NaN</td>\n",
       "      <td>NaN</td>\n",
       "      <td>NaN</td>\n",
       "      <td>NaN</td>\n",
       "      <td>NaN</td>\n",
       "      <td>NaN</td>\n",
       "      <td>NaN</td>\n",
       "      <td>NaN</td>\n",
       "      <td>NaN</td>\n",
       "    </tr>\n",
       "    <tr>\n",
       "      <th>73</th>\n",
       "      <td>90070001693</td>\n",
       "      <td>Soundbridge @ Wethersfield High School</td>\n",
       "      <td>Connecticut</td>\n",
       "      <td>CAPITOL REGION EDUCATION COUN</td>\n",
       "      <td>Suburb, large</td>\n",
       "      <td>High</td>\n",
       "      <td>Special education school</td>\n",
       "      <td>No</td>\n",
       "      <td>9</td>\n",
       "      <td>NaN</td>\n",
       "      <td>...</td>\n",
       "      <td>NaN</td>\n",
       "      <td>NaN</td>\n",
       "      <td>NaN</td>\n",
       "      <td>NaN</td>\n",
       "      <td>NaN</td>\n",
       "      <td>NaN</td>\n",
       "      <td>NaN</td>\n",
       "      <td>NaN</td>\n",
       "      <td>NaN</td>\n",
       "      <td>NaN</td>\n",
       "    </tr>\n",
       "    <tr>\n",
       "      <th>74</th>\n",
       "      <td>90070001802</td>\n",
       "      <td>STRIVE (Southern Transition Real-World and Ind...</td>\n",
       "      <td>Connecticut</td>\n",
       "      <td>CAPITOL REGION EDUCATION COUN</td>\n",
       "      <td>Suburb, large</td>\n",
       "      <td>High</td>\n",
       "      <td>Special education school</td>\n",
       "      <td>No</td>\n",
       "      <td>8</td>\n",
       "      <td>NaN</td>\n",
       "      <td>...</td>\n",
       "      <td>NaN</td>\n",
       "      <td>NaN</td>\n",
       "      <td>NaN</td>\n",
       "      <td>NaN</td>\n",
       "      <td>NaN</td>\n",
       "      <td>NaN</td>\n",
       "      <td>NaN</td>\n",
       "      <td>NaN</td>\n",
       "      <td>NaN</td>\n",
       "      <td>NaN</td>\n",
       "    </tr>\n",
       "    <tr>\n",
       "      <th>77</th>\n",
       "      <td>90075001766</td>\n",
       "      <td>Cheshire Quinnipiac University Transition Coll...</td>\n",
       "      <td>Connecticut</td>\n",
       "      <td>CHESHIRE SCHOOL DISTRICT</td>\n",
       "      <td>Suburb, large</td>\n",
       "      <td>High</td>\n",
       "      <td>Special education school</td>\n",
       "      <td>No</td>\n",
       "      <td>10</td>\n",
       "      <td>NaN</td>\n",
       "      <td>...</td>\n",
       "      <td>NaN</td>\n",
       "      <td>NaN</td>\n",
       "      <td>NaN</td>\n",
       "      <td>NaN</td>\n",
       "      <td>NaN</td>\n",
       "      <td>NaN</td>\n",
       "      <td>NaN</td>\n",
       "      <td>NaN</td>\n",
       "      <td>NaN</td>\n",
       "      <td>NaN</td>\n",
       "    </tr>\n",
       "    <tr>\n",
       "      <th>92</th>\n",
       "      <td>90123001514</td>\n",
       "      <td>The Learning Center at East Hampton</td>\n",
       "      <td>Connecticut</td>\n",
       "      <td>EAST HAMPTON SCHOOL DISTRICT</td>\n",
       "      <td>Town, fringe</td>\n",
       "      <td>High</td>\n",
       "      <td>Special education school</td>\n",
       "      <td>No</td>\n",
       "      <td>6</td>\n",
       "      <td>NaN</td>\n",
       "      <td>...</td>\n",
       "      <td>NaN</td>\n",
       "      <td>NaN</td>\n",
       "      <td>4.0</td>\n",
       "      <td>0.0</td>\n",
       "      <td>0.0</td>\n",
       "      <td>0.0</td>\n",
       "      <td>0.0</td>\n",
       "      <td>0.0</td>\n",
       "      <td>0.0</td>\n",
       "      <td>0.0</td>\n",
       "    </tr>\n",
       "    <tr>\n",
       "      <th>98</th>\n",
       "      <td>90132001730</td>\n",
       "      <td>Post High School Transition Program</td>\n",
       "      <td>Connecticut</td>\n",
       "      <td>EAST LYME SCHOOL DISTRICT</td>\n",
       "      <td>Suburb, midsize</td>\n",
       "      <td>High</td>\n",
       "      <td>Special education school</td>\n",
       "      <td>No</td>\n",
       "      <td>16</td>\n",
       "      <td>NaN</td>\n",
       "      <td>...</td>\n",
       "      <td>NaN</td>\n",
       "      <td>NaN</td>\n",
       "      <td>NaN</td>\n",
       "      <td>0.0</td>\n",
       "      <td>0.0</td>\n",
       "      <td>0.0</td>\n",
       "      <td>0.0</td>\n",
       "      <td>0.0</td>\n",
       "      <td>0.0</td>\n",
       "      <td>0.0</td>\n",
       "    </tr>\n",
       "    <tr>\n",
       "      <th>100</th>\n",
       "      <td>90132001843</td>\n",
       "      <td>Medically Fragile Program (WAVES)</td>\n",
       "      <td>Connecticut</td>\n",
       "      <td>EAST LYME SCHOOL DISTRICT</td>\n",
       "      <td>NaN</td>\n",
       "      <td>High</td>\n",
       "      <td>Special education school</td>\n",
       "      <td>No</td>\n",
       "      <td>2</td>\n",
       "      <td>NaN</td>\n",
       "      <td>...</td>\n",
       "      <td>NaN</td>\n",
       "      <td>NaN</td>\n",
       "      <td>NaN</td>\n",
       "      <td>0.0</td>\n",
       "      <td>0.0</td>\n",
       "      <td>0.0</td>\n",
       "      <td>0.0</td>\n",
       "      <td>0.0</td>\n",
       "      <td>0.0</td>\n",
       "      <td>0.0</td>\n",
       "    </tr>\n",
       "    <tr>\n",
       "      <th>108</th>\n",
       "      <td>90147001523</td>\n",
       "      <td>Enfield Transitional Learning Academy</td>\n",
       "      <td>Connecticut</td>\n",
       "      <td>ENFIELD SCHOOL DISTRICT</td>\n",
       "      <td>Suburb, large</td>\n",
       "      <td>High</td>\n",
       "      <td>Special education school</td>\n",
       "      <td>No</td>\n",
       "      <td>6</td>\n",
       "      <td>NaN</td>\n",
       "      <td>...</td>\n",
       "      <td>NaN</td>\n",
       "      <td>NaN</td>\n",
       "      <td>NaN</td>\n",
       "      <td>0.0</td>\n",
       "      <td>0.0</td>\n",
       "      <td>0.0</td>\n",
       "      <td>0.0</td>\n",
       "      <td>0.0</td>\n",
       "      <td>0.0</td>\n",
       "      <td>0.0</td>\n",
       "    </tr>\n",
       "  </tbody>\n",
       "</table>\n",
       "<p>10 rows × 60 columns</p>\n",
       "</div>"
      ],
      "text/plain": [
       "         ncessch                                        school_name  \\\n",
       "46   90007001588  Center for Autism Spectrum and Development Dis...   \n",
       "64   90051001515                       Community/Vocational Program   \n",
       "71   90070001567  Lincoln Academy Regional Interdistrict Collabo...   \n",
       "73   90070001693             Soundbridge @ Wethersfield High School   \n",
       "74   90070001802  STRIVE (Southern Transition Real-World and Ind...   \n",
       "77   90075001766  Cheshire Quinnipiac University Transition Coll...   \n",
       "92   90123001514                The Learning Center at East Hampton   \n",
       "98   90132001730                Post High School Transition Program   \n",
       "100  90132001843                  Medically Fragile Program (WAVES)   \n",
       "108  90147001523              Enfield Transitional Learning Academy   \n",
       "\n",
       "      state_name                       lea_name urban_centric_locale  \\\n",
       "46   Connecticut   AREA COOPERATIVE EDUCATIONAL        Suburb, large   \n",
       "64   Connecticut        BRISTOL SCHOOL DISTRICT        Suburb, large   \n",
       "71   Connecticut  CAPITOL REGION EDUCATION COUN          City, small   \n",
       "73   Connecticut  CAPITOL REGION EDUCATION COUN        Suburb, large   \n",
       "74   Connecticut  CAPITOL REGION EDUCATION COUN        Suburb, large   \n",
       "77   Connecticut       CHESHIRE SCHOOL DISTRICT        Suburb, large   \n",
       "92   Connecticut   EAST HAMPTON SCHOOL DISTRICT         Town, fringe   \n",
       "98   Connecticut      EAST LYME SCHOOL DISTRICT      Suburb, midsize   \n",
       "100  Connecticut      EAST LYME SCHOOL DISTRICT                  NaN   \n",
       "108  Connecticut        ENFIELD SCHOOL DISTRICT        Suburb, large   \n",
       "\n",
       "    school_level               school_type charter enrollment  \\\n",
       "46          High  Special education school      No         38   \n",
       "64          High  Special education school      No         12   \n",
       "71          High  Special education school      No         12   \n",
       "73          High  Special education school      No          9   \n",
       "74          High  Special education school      No          8   \n",
       "77          High  Special education school      No         10   \n",
       "92          High  Special education school      No          6   \n",
       "98          High  Special education school      No         16   \n",
       "100         High  Special education school      No          2   \n",
       "108         High  Special education school      No          6   \n",
       "\n",
       "     read_test_num_valid  ... enrl_algebra2 enrl_physics enrl_geometry  \\\n",
       "46                   NaN  ...           NaN          NaN           NaN   \n",
       "64                   NaN  ...           NaN          NaN           NaN   \n",
       "71                   NaN  ...           NaN          NaN           NaN   \n",
       "73                   NaN  ...           NaN          NaN           NaN   \n",
       "74                   NaN  ...           NaN          NaN           NaN   \n",
       "77                   NaN  ...           NaN          NaN           NaN   \n",
       "92                   NaN  ...           NaN          NaN           4.0   \n",
       "98                   NaN  ...           NaN          NaN           NaN   \n",
       "100                  NaN  ...           NaN          NaN           NaN   \n",
       "108                  NaN  ...           NaN          NaN           NaN   \n",
       "\n",
       "     instances_mech_restraint instances_phys_restraint instances_seclusion  \\\n",
       "46                        0.0                     58.0               150.0   \n",
       "64                        0.0                      0.0                 0.0   \n",
       "71                        NaN                      NaN                 NaN   \n",
       "73                        NaN                      NaN                 NaN   \n",
       "74                        NaN                      NaN                 NaN   \n",
       "77                        NaN                      NaN                 NaN   \n",
       "92                        0.0                      0.0                 0.0   \n",
       "98                        0.0                      0.0                 0.0   \n",
       "100                       0.0                      0.0                 0.0   \n",
       "108                       0.0                      0.0                 0.0   \n",
       "\n",
       "    students_mech_restraint students_phys_restraint students_seclusion  \\\n",
       "46                      0.0                    14.0               16.0   \n",
       "64                      0.0                     0.0                0.0   \n",
       "71                      NaN                     NaN                NaN   \n",
       "73                      NaN                     NaN                NaN   \n",
       "74                      NaN                     NaN                NaN   \n",
       "77                      NaN                     NaN                NaN   \n",
       "92                      0.0                     0.0                0.0   \n",
       "98                      0.0                     0.0                0.0   \n",
       "100                     0.0                     0.0                0.0   \n",
       "108                     0.0                     0.0                0.0   \n",
       "\n",
       "    students_SAT_ACT  \n",
       "46               0.0  \n",
       "64               0.0  \n",
       "71               NaN  \n",
       "73               NaN  \n",
       "74               NaN  \n",
       "77               NaN  \n",
       "92               0.0  \n",
       "98               0.0  \n",
       "100              0.0  \n",
       "108              0.0  \n",
       "\n",
       "[10 rows x 60 columns]"
      ]
     },
     "execution_count": 35,
     "metadata": {},
     "output_type": "execute_result"
    }
   ],
   "source": [
    "df_school_special = df_school.loc[df_school['school_type'] == 'Special education school']\n",
    "df_school_special.head(10)"
   ]
  },
  {
   "cell_type": "code",
   "execution_count": 36,
   "metadata": {
    "ExecuteTime": {
     "end_time": "2021-06-16T06:30:22.851287Z",
     "start_time": "2021-06-16T06:30:22.821487Z"
    },
    "scrolled": true
   },
   "outputs": [
    {
     "data": {
      "text/plain": [
       "'percent of nulls in df_school_regular is 5%'"
      ]
     },
     "execution_count": 36,
     "metadata": {},
     "output_type": "execute_result"
    }
   ],
   "source": [
    "#Proportion of nulls regular school type\n",
    "percent_null_df(df_school_regular,'df_school_regular')"
   ]
  },
  {
   "cell_type": "code",
   "execution_count": 37,
   "metadata": {
    "ExecuteTime": {
     "end_time": "2021-06-16T06:30:22.860172Z",
     "start_time": "2021-06-16T06:30:22.853153Z"
    },
    "scrolled": true
   },
   "outputs": [
    {
     "data": {
      "text/plain": [
       "'percent of nulls in df_school_vocational is 58%'"
      ]
     },
     "execution_count": 37,
     "metadata": {},
     "output_type": "execute_result"
    }
   ],
   "source": [
    "#Proportion of nulls vocational school type\n",
    "percent_null_df(df_school_vocational,'df_school_vocational')"
   ]
  },
  {
   "cell_type": "code",
   "execution_count": 38,
   "metadata": {
    "ExecuteTime": {
     "end_time": "2021-06-16T06:30:22.870657Z",
     "start_time": "2021-06-16T06:30:22.861647Z"
    },
    "scrolled": true
   },
   "outputs": [
    {
     "data": {
      "text/plain": [
       "'percent of nulls in df_school_alternative is 26%'"
      ]
     },
     "execution_count": 38,
     "metadata": {},
     "output_type": "execute_result"
    }
   ],
   "source": [
    "#Proportion of nulls alternative school type\n",
    "percent_null_df(df_school_alternative,'df_school_alternative')"
   ]
  },
  {
   "cell_type": "code",
   "execution_count": 39,
   "metadata": {
    "ExecuteTime": {
     "end_time": "2021-06-16T06:30:22.877198Z",
     "start_time": "2021-06-16T06:30:22.872090Z"
    },
    "scrolled": true
   },
   "outputs": [
    {
     "data": {
      "text/plain": [
       "'percent of nulls in df_school_special is 37%'"
      ]
     },
     "execution_count": 39,
     "metadata": {},
     "output_type": "execute_result"
    }
   ],
   "source": [
    "#Proportion of nulls special education school type\n",
    "percent_null_df(df_school_special,'df_school_special')"
   ]
  },
  {
   "cell_type": "markdown",
   "metadata": {},
   "source": [
    "Our Other/alternative school in the school_type field includes jails and detention centers. Many of these correctional facilities have a lot of NaN values in other data fields. We will remove all rows with alternative schools since there seems to be many missing values for these types of schools and because students in these types of schools are experiencing circumstances and educational experiences very different from the majority of students.\n",
    "\n",
    "We will also remove vocational and special education school types as these school types are a small percentage of the data and have high proportion of nulls"
   ]
  },
  {
   "cell_type": "code",
   "execution_count": 40,
   "metadata": {
    "ExecuteTime": {
     "end_time": "2021-06-16T06:30:22.880969Z",
     "start_time": "2021-06-16T06:30:22.878407Z"
    }
   },
   "outputs": [
    {
     "data": {
      "text/plain": [
       "13970"
      ]
     },
     "execution_count": 40,
     "metadata": {},
     "output_type": "execute_result"
    }
   ],
   "source": [
    "df_school.shape[0]"
   ]
  },
  {
   "cell_type": "code",
   "execution_count": 41,
   "metadata": {
    "ExecuteTime": {
     "end_time": "2021-06-16T06:30:22.893081Z",
     "start_time": "2021-06-16T06:30:22.882245Z"
    }
   },
   "outputs": [
    {
     "data": {
      "text/plain": [
       "10955"
      ]
     },
     "execution_count": 41,
     "metadata": {},
     "output_type": "execute_result"
    }
   ],
   "source": [
    "df_school = df_school.loc[df_school['school_type'] == 'Regular school']\n",
    "df_school.shape[0]"
   ]
  },
  {
   "cell_type": "markdown",
   "metadata": {},
   "source": [
    "### Graduation Rate - format the target"
   ]
  },
  {
   "cell_type": "markdown",
   "metadata": {},
   "source": [
    "- The graduation rates are numerical values separated into three columns.\n",
    " - grad_rate_high\n",
    " - grad_rate_midpt \n",
    " - grad_rate_low\n",
    " \n",
    "- Looking at the data documentation from EDFacts https://www2.ed.gov/about/inits/ed/edfacts/index.htmlThe we see that the reason for multiple columns is that some schools choose to report graduation rates in a range so that student privacy is protected. The range creates a low and a high column with the midpoint being the value in the middle of the low and high values.\n",
    "- We will use grad_rate_midpt to measure graduation rates as this is the most balanced.\n",
    "\n",
    "\n",
    "- The federal government defines graduation rates as low when less than 2/3 of a cohort receive a diploma in 4 years or less.  \n",
    "- We will classify high schools with midpoint graduation rates 66 and below as low and high schools with midpoint graduation rates of 67 and above as high.\n"
   ]
  },
  {
   "cell_type": "code",
   "execution_count": 42,
   "metadata": {
    "ExecuteTime": {
     "end_time": "2021-06-16T06:30:22.898249Z",
     "start_time": "2021-06-16T06:30:22.895060Z"
    }
   },
   "outputs": [],
   "source": [
    "#Let's see a few examples of the grad rate reporting range before we drop the high and low cols\n",
    "grad_rate_cols = ['school_name','cohort_num','grad_rate_high','grad_rate_midpt',\n",
    "                  'grad_rate_low']"
   ]
  },
  {
   "cell_type": "code",
   "execution_count": 43,
   "metadata": {
    "ExecuteTime": {
     "end_time": "2021-06-16T06:30:22.911316Z",
     "start_time": "2021-06-16T06:30:22.900351Z"
    }
   },
   "outputs": [
    {
     "data": {
      "text/html": [
       "<div>\n",
       "<style scoped>\n",
       "    .dataframe tbody tr th:only-of-type {\n",
       "        vertical-align: middle;\n",
       "    }\n",
       "\n",
       "    .dataframe tbody tr th {\n",
       "        vertical-align: top;\n",
       "    }\n",
       "\n",
       "    .dataframe thead th {\n",
       "        text-align: right;\n",
       "    }\n",
       "</style>\n",
       "<table border=\"1\" class=\"dataframe\">\n",
       "  <thead>\n",
       "    <tr style=\"text-align: right;\">\n",
       "      <th></th>\n",
       "      <th>school_name</th>\n",
       "      <th>cohort_num</th>\n",
       "      <th>grad_rate_high</th>\n",
       "      <th>grad_rate_midpt</th>\n",
       "      <th>grad_rate_low</th>\n",
       "    </tr>\n",
       "  </thead>\n",
       "  <tbody>\n",
       "    <tr>\n",
       "      <th>32</th>\n",
       "      <td>Walter G. Cady School</td>\n",
       "      <td>NaN</td>\n",
       "      <td>NaN</td>\n",
       "      <td>NaN</td>\n",
       "      <td>NaN</td>\n",
       "    </tr>\n",
       "    <tr>\n",
       "      <th>33</th>\n",
       "      <td>E. O. Smith High School</td>\n",
       "      <td>255.0</td>\n",
       "      <td>95</td>\n",
       "      <td>95</td>\n",
       "      <td>95</td>\n",
       "    </tr>\n",
       "    <tr>\n",
       "      <th>36</th>\n",
       "      <td>Common Ground High School</td>\n",
       "      <td>34.0</td>\n",
       "      <td>100</td>\n",
       "      <td>95</td>\n",
       "      <td>90</td>\n",
       "    </tr>\n",
       "    <tr>\n",
       "      <th>37</th>\n",
       "      <td>The Bridge Academy</td>\n",
       "      <td>34.0</td>\n",
       "      <td>79</td>\n",
       "      <td>74</td>\n",
       "      <td>70</td>\n",
       "    </tr>\n",
       "    <tr>\n",
       "      <th>38</th>\n",
       "      <td>Explorations</td>\n",
       "      <td>27.0</td>\n",
       "      <td>79</td>\n",
       "      <td>69</td>\n",
       "      <td>60</td>\n",
       "    </tr>\n",
       "    <tr>\n",
       "      <th>39</th>\n",
       "      <td>Connecticut Valley Hospital</td>\n",
       "      <td>NaN</td>\n",
       "      <td>NaN</td>\n",
       "      <td>NaN</td>\n",
       "      <td>NaN</td>\n",
       "    </tr>\n",
       "    <tr>\n",
       "      <th>40</th>\n",
       "      <td>Stamford Academy</td>\n",
       "      <td>53.0</td>\n",
       "      <td>29</td>\n",
       "      <td>24</td>\n",
       "      <td>20</td>\n",
       "    </tr>\n",
       "    <tr>\n",
       "      <th>42</th>\n",
       "      <td>Ansonia High School</td>\n",
       "      <td>125.0</td>\n",
       "      <td>89</td>\n",
       "      <td>87</td>\n",
       "      <td>85</td>\n",
       "    </tr>\n",
       "    <tr>\n",
       "      <th>47</th>\n",
       "      <td>Avon High School</td>\n",
       "      <td>239.0</td>\n",
       "      <td>97</td>\n",
       "      <td>97</td>\n",
       "      <td>97</td>\n",
       "    </tr>\n",
       "    <tr>\n",
       "      <th>48</th>\n",
       "      <td>Berlin High School</td>\n",
       "      <td>248.0</td>\n",
       "      <td>95</td>\n",
       "      <td>95</td>\n",
       "      <td>95</td>\n",
       "    </tr>\n",
       "  </tbody>\n",
       "</table>\n",
       "</div>"
      ],
      "text/plain": [
       "                    school_name  cohort_num grad_rate_high grad_rate_midpt  \\\n",
       "32        Walter G. Cady School         NaN            NaN             NaN   \n",
       "33      E. O. Smith High School       255.0             95              95   \n",
       "36    Common Ground High School        34.0            100              95   \n",
       "37           The Bridge Academy        34.0             79              74   \n",
       "38                 Explorations        27.0             79              69   \n",
       "39  Connecticut Valley Hospital         NaN            NaN             NaN   \n",
       "40             Stamford Academy        53.0             29              24   \n",
       "42          Ansonia High School       125.0             89              87   \n",
       "47             Avon High School       239.0             97              97   \n",
       "48           Berlin High School       248.0             95              95   \n",
       "\n",
       "   grad_rate_low  \n",
       "32           NaN  \n",
       "33            95  \n",
       "36            90  \n",
       "37            70  \n",
       "38            60  \n",
       "39           NaN  \n",
       "40            20  \n",
       "42            85  \n",
       "47            97  \n",
       "48            95  "
      ]
     },
     "execution_count": 43,
     "metadata": {},
     "output_type": "execute_result"
    }
   ],
   "source": [
    "df_school[grad_rate_cols].head(10)"
   ]
  },
  {
   "cell_type": "code",
   "execution_count": 44,
   "metadata": {
    "ExecuteTime": {
     "end_time": "2021-06-16T06:30:22.919429Z",
     "start_time": "2021-06-16T06:30:22.913216Z"
    }
   },
   "outputs": [],
   "source": [
    "df_school = df_school.drop(['grad_rate_high','grad_rate_low'], axis=1)"
   ]
  },
  {
   "cell_type": "code",
   "execution_count": 45,
   "metadata": {
    "ExecuteTime": {
     "end_time": "2021-06-16T06:30:22.940992Z",
     "start_time": "2021-06-16T06:30:22.921297Z"
    },
    "scrolled": true
   },
   "outputs": [
    {
     "name": "stdout",
     "output_type": "stream",
     "text": [
      "<class 'pandas.core.frame.DataFrame'>\n",
      "Int64Index: 10955 entries, 32 to 4907\n",
      "Data columns (total 58 columns):\n",
      " #   Column                           Non-Null Count  Dtype  \n",
      "---  ------                           --------------  -----  \n",
      " 0   ncessch                          10955 non-null  int64  \n",
      " 1   school_name                      10955 non-null  object \n",
      " 2   state_name                       10955 non-null  object \n",
      " 3   lea_name                         10955 non-null  object \n",
      " 4   urban_centric_locale             10954 non-null  object \n",
      " 5   school_level                     10955 non-null  object \n",
      " 6   school_type                      10955 non-null  object \n",
      " 7   charter                          10308 non-null  object \n",
      " 8   enrollment                       10940 non-null  object \n",
      " 9   read_test_num_valid              10552 non-null  float64\n",
      " 10  read_test_pct_prof_low           10331 non-null  object \n",
      " 11  read_test_pct_prof_high          10331 non-null  object \n",
      " 12  read_test_pct_prof_midpt         10331 non-null  object \n",
      " 13  math_test_num_valid              10537 non-null  float64\n",
      " 14  math_test_pct_prof_low           10313 non-null  object \n",
      " 15  math_test_pct_prof_high          10313 non-null  object \n",
      " 16  math_test_pct_prof_midpt         10313 non-null  object \n",
      " 17  students_susp_in_sch             10612 non-null  object \n",
      " 18  students_susp_out_sch_single     10642 non-null  object \n",
      " 19  students_susp_out_sch_multiple   10642 non-null  object \n",
      " 20  expulsions_no_ed_serv            10642 non-null  object \n",
      " 21  expulsions_with_ed_serv          10612 non-null  object \n",
      " 22  expulsions_zero_tolerance        10642 non-null  object \n",
      " 23  students_arrested                10237 non-null  object \n",
      " 24  students_referred_law_enforce    10608 non-null  object \n",
      " 25  transfers_alt_sch_disc           10653 non-null  float64\n",
      " 26  days_suspended                   10291 non-null  float64\n",
      " 27  suspensions_instances_preschool  10291 non-null  float64\n",
      " 28  suspensions_instances            10291 non-null  float64\n",
      " 29  corpinstances                    10291 non-null  float64\n",
      " 30  salaries_teachers                10172 non-null  object \n",
      " 31  cohort_num                       10721 non-null  float64\n",
      " 32  grad_rate_midpt                  10580 non-null  object \n",
      " 33  allegations_harass_sex           10601 non-null  object \n",
      " 34  allegations_harass_race          10601 non-null  object \n",
      " 35  allegations_harass_disability    10601 non-null  object \n",
      " 36  allegations_harass_orientation   10601 non-null  object \n",
      " 37  allegations_harass_religion      10601 non-null  object \n",
      " 38  students_disc_harass_dis         10653 non-null  float64\n",
      " 39  students_disc_harass_race        10653 non-null  float64\n",
      " 40  students_disc_harass_sex         10653 non-null  float64\n",
      " 41  students_report_harass_dis       10653 non-null  float64\n",
      " 42  students_report_harass_race      10653 non-null  float64\n",
      " 43  students_report_harass_sex       10653 non-null  float64\n",
      " 44  enrl_biology                     9921 non-null   float64\n",
      " 45  enrl_chemistry                   9346 non-null   float64\n",
      " 46  enrl_advanced_math               8714 non-null   float64\n",
      " 47  enrl_calculus                    7543 non-null   float64\n",
      " 48  enrl_algebra2                    9612 non-null   float64\n",
      " 49  enrl_physics                     8306 non-null   float64\n",
      " 50  enrl_geometry                    9699 non-null   float64\n",
      " 51  instances_mech_restraint         10253 non-null  float64\n",
      " 52  instances_phys_restraint         10605 non-null  float64\n",
      " 53  instances_seclusion              10605 non-null  float64\n",
      " 54  students_mech_restraint          10254 non-null  float64\n",
      " 55  students_phys_restraint          10593 non-null  float64\n",
      " 56  students_seclusion               10606 non-null  float64\n",
      " 57  students_SAT_ACT                 10653 non-null  float64\n",
      "dtypes: float64(28), int64(1), object(29)\n",
      "memory usage: 4.9+ MB\n"
     ]
    }
   ],
   "source": [
    "df_school.info()"
   ]
  },
  {
   "cell_type": "code",
   "execution_count": 46,
   "metadata": {
    "ExecuteTime": {
     "end_time": "2021-06-16T06:30:22.955804Z",
     "start_time": "2021-06-16T06:30:22.943051Z"
    }
   },
   "outputs": [],
   "source": [
    "df_school.update(df_school[['grad_rate_midpt']].fillna(0))"
   ]
  },
  {
   "cell_type": "code",
   "execution_count": 47,
   "metadata": {
    "ExecuteTime": {
     "end_time": "2021-06-16T06:30:22.963984Z",
     "start_time": "2021-06-16T06:30:22.957644Z"
    },
    "scrolled": true
   },
   "outputs": [
    {
     "data": {
      "text/plain": [
       "97    0.132725\n",
       "92    0.116842\n",
       "95    0.101506\n",
       "90    0.078229\n",
       "87    0.066910\n",
       "        ...   \n",
       "20    0.000091\n",
       "18    0.000091\n",
       "16    0.000091\n",
       "25    0.000091\n",
       "41    0.000091\n",
       "Name: grad_rate_midpt, Length: 90, dtype: float64"
      ]
     },
     "execution_count": 47,
     "metadata": {},
     "output_type": "execute_result"
    }
   ],
   "source": [
    "df_school['grad_rate_midpt'].value_counts(normalize=True,dropna=False)"
   ]
  },
  {
   "cell_type": "code",
   "execution_count": 48,
   "metadata": {
    "ExecuteTime": {
     "end_time": "2021-06-16T06:30:22.968746Z",
     "start_time": "2021-06-16T06:30:22.965819Z"
    }
   },
   "outputs": [
    {
     "data": {
      "text/plain": [
       "(10955, 58)"
      ]
     },
     "execution_count": 48,
     "metadata": {},
     "output_type": "execute_result"
    }
   ],
   "source": [
    "df_school.shape"
   ]
  },
  {
   "cell_type": "code",
   "execution_count": 49,
   "metadata": {
    "ExecuteTime": {
     "end_time": "2021-06-16T06:30:22.972582Z",
     "start_time": "2021-06-16T06:30:22.969995Z"
    },
    "scrolled": true
   },
   "outputs": [
    {
     "data": {
      "text/plain": [
       "10942.86"
      ]
     },
     "execution_count": 49,
     "metadata": {},
     "output_type": "execute_result"
    }
   ],
   "source": [
    "19198*(1-.43)"
   ]
  },
  {
   "cell_type": "code",
   "execution_count": 50,
   "metadata": {
    "ExecuteTime": {
     "end_time": "2021-06-16T06:30:22.981420Z",
     "start_time": "2021-06-16T06:30:22.974003Z"
    }
   },
   "outputs": [],
   "source": [
    "df_school = df_school[df_school.grad_rate_midpt != 0]"
   ]
  },
  {
   "cell_type": "code",
   "execution_count": 51,
   "metadata": {
    "ExecuteTime": {
     "end_time": "2021-06-16T06:30:22.985487Z",
     "start_time": "2021-06-16T06:30:22.982872Z"
    }
   },
   "outputs": [
    {
     "data": {
      "text/plain": [
       "10580"
      ]
     },
     "execution_count": 51,
     "metadata": {},
     "output_type": "execute_result"
    }
   ],
   "source": [
    "df_school.shape[0]"
   ]
  },
  {
   "cell_type": "code",
   "execution_count": 52,
   "metadata": {
    "ExecuteTime": {
     "end_time": "2021-06-16T06:30:22.993597Z",
     "start_time": "2021-06-16T06:30:22.986873Z"
    }
   },
   "outputs": [],
   "source": [
    "# convert grad rate columns to numeric\n",
    "df_school[['grad_rate_midpt']] = df_school[['grad_rate_midpt']].astype(str).astype(float).astype(int)\n"
   ]
  },
  {
   "cell_type": "code",
   "execution_count": 53,
   "metadata": {
    "ExecuteTime": {
     "end_time": "2021-06-16T06:30:23.000292Z",
     "start_time": "2021-06-16T06:30:22.995089Z"
    }
   },
   "outputs": [
    {
     "name": "stdout",
     "output_type": "stream",
     "text": [
      "count    10580.000000\n",
      "mean        84.793478\n",
      "std         17.087149\n",
      "min          0.000000\n",
      "25%         82.000000\n",
      "50%         90.000000\n",
      "75%         95.000000\n",
      "max         99.000000\n",
      "Name: grad_rate_midpt, dtype: float64\n"
     ]
    }
   ],
   "source": [
    "# Let's take a look at the summary statistics for the grad_rate_midpt column\n",
    "\n",
    "print(df_school['grad_rate_midpt'].describe())\n"
   ]
  },
  {
   "cell_type": "code",
   "execution_count": 54,
   "metadata": {
    "ExecuteTime": {
     "end_time": "2021-06-16T06:30:23.006096Z",
     "start_time": "2021-06-16T06:30:23.001983Z"
    }
   },
   "outputs": [
    {
     "name": "stdout",
     "output_type": "stream",
     "text": [
      "grad_rate_midpt \n",
      " 97    0.137429\n",
      "92    0.120983\n",
      "95    0.105104\n",
      "90    0.081002\n",
      "87    0.069282\n",
      "Name: grad_rate_midpt, dtype: float64 \n",
      "\n",
      "\n"
     ]
    }
   ],
   "source": [
    " print('grad_rate_midpt', '\\n', df_school['grad_rate_midpt'].value_counts(normalize=True).head(), '\\n\\n')"
   ]
  },
  {
   "cell_type": "code",
   "execution_count": 55,
   "metadata": {
    "ExecuteTime": {
     "end_time": "2021-06-16T06:30:23.153651Z",
     "start_time": "2021-06-16T06:30:23.007985Z"
    },
    "scrolled": false
   },
   "outputs": [
    {
     "data": {
      "image/png": "[encoded data removed]",
      "text/plain": [
       "<Figure size 432x288 with 1 Axes>"
      ]
     },
     "metadata": {
      "needs_background": "light"
     },
     "output_type": "display_data"
    }
   ],
   "source": [
    "# Plot of the target status group\n",
    "\n",
    "plt.hist(df_school['grad_rate_midpt'])\n",
    "plt.xlabel('Graduation Rate', fontsize=14)\n",
    "plt.title(\"Distribution Graduation Rates\", fontsize=16)\n",
    "plt.show()\n"
   ]
  },
  {
   "cell_type": "markdown",
   "metadata": {},
   "source": [
    "It looks like there is a strong skew towards higher performing high schools. Lets go ahead and bin our values and then take a look at the distribution again."
   ]
  },
  {
   "cell_type": "markdown",
   "metadata": {},
   "source": [
    "#### Bin the target"
   ]
  },
  {
   "cell_type": "markdown",
   "metadata": {},
   "source": [
    "As stated above based on how the federal government defines low graduation rates we will be dividing graduation rates into two bins:\n",
    "- Low: 66 and below\n",
    "- High: 67 and above"
   ]
  },
  {
   "cell_type": "code",
   "execution_count": 56,
   "metadata": {
    "ExecuteTime": {
     "end_time": "2021-06-16T06:30:23.157830Z",
     "start_time": "2021-06-16T06:30:23.155553Z"
    }
   },
   "outputs": [],
   "source": [
    "#Based on the federal government's definition we will define the bin ranges.\n",
    "grad_rate_bins = [0,66,100]"
   ]
  },
  {
   "cell_type": "code",
   "execution_count": 57,
   "metadata": {
    "ExecuteTime": {
     "end_time": "2021-06-16T06:30:23.163699Z",
     "start_time": "2021-06-16T06:30:23.159322Z"
    }
   },
   "outputs": [],
   "source": [
    "# now lets convert the grad_rate_midpt column to binned categories\n",
    "# note that when binning these, the default setting is that the values on the right are included in the bin\n",
    "\n",
    "df_school['grad_rate_midpt'] = pd.cut(df_school['grad_rate_midpt'], grad_rate_bins)"
   ]
  },
  {
   "cell_type": "code",
   "execution_count": 58,
   "metadata": {
    "ExecuteTime": {
     "end_time": "2021-06-16T06:30:23.170796Z",
     "start_time": "2021-06-16T06:30:23.165067Z"
    },
    "scrolled": false
   },
   "outputs": [
    {
     "name": "stdout",
     "output_type": "stream",
     "text": [
      "(66.0, 100.0]    0.912287\n",
      "(0.0, 66.0]      0.087618\n",
      "NaN              0.000095\n",
      "Name: grad_rate_midpt, dtype: float64\n"
     ]
    }
   ],
   "source": [
    "# and we will also take a look at the distribution across bins \n",
    "print(df_school['grad_rate_midpt'].value_counts(normalize=True, dropna=False))"
   ]
  },
  {
   "cell_type": "code",
   "execution_count": 59,
   "metadata": {
    "ExecuteTime": {
     "end_time": "2021-06-16T06:30:23.181456Z",
     "start_time": "2021-06-16T06:30:23.172511Z"
    }
   },
   "outputs": [
    {
     "data": {
      "text/plain": [
       "(10579, 58)"
      ]
     },
     "execution_count": 59,
     "metadata": {},
     "output_type": "execute_result"
    }
   ],
   "source": [
    "df_school = df_school.dropna(subset=['grad_rate_midpt'])\n",
    "df_school.shape"
   ]
  },
  {
   "cell_type": "code",
   "execution_count": 60,
   "metadata": {
    "ExecuteTime": {
     "end_time": "2021-06-16T06:30:23.188525Z",
     "start_time": "2021-06-16T06:30:23.183414Z"
    }
   },
   "outputs": [
    {
     "name": "stdout",
     "output_type": "stream",
     "text": [
      "(66, 100]    0.912374\n",
      "(0, 66]      0.087626\n",
      "Name: grad_rate_midpt, dtype: float64\n"
     ]
    }
   ],
   "source": [
    "print(df_school['grad_rate_midpt'].value_counts(normalize=True, dropna=False))"
   ]
  },
  {
   "cell_type": "code",
   "execution_count": 61,
   "metadata": {
    "ExecuteTime": {
     "end_time": "2021-06-16T06:30:23.191622Z",
     "start_time": "2021-06-16T06:30:23.189781Z"
    }
   },
   "outputs": [],
   "source": [
    "# We will need to address this class imbalance\n"
   ]
  },
  {
   "cell_type": "markdown",
   "metadata": {},
   "source": [
    "#### Encode the target"
   ]
  },
  {
   "cell_type": "code",
   "execution_count": 62,
   "metadata": {
    "ExecuteTime": {
     "end_time": "2021-06-16T06:30:23.200062Z",
     "start_time": "2021-06-16T06:30:23.193050Z"
    },
    "scrolled": true
   },
   "outputs": [
    {
     "data": {
      "text/plain": [
       "(66, 100]    0.912374\n",
       "(0, 66]      0.087626\n",
       "Name: grad_rate_midpt, dtype: float64"
      ]
     },
     "execution_count": 62,
     "metadata": {},
     "output_type": "execute_result"
    }
   ],
   "source": [
    "df_school['grad_rate_midpt'].value_counts(normalize=True, dropna=False)"
   ]
  },
  {
   "cell_type": "code",
   "execution_count": 63,
   "metadata": {
    "ExecuteTime": {
     "end_time": "2021-06-16T06:30:23.237826Z",
     "start_time": "2021-06-16T06:30:23.201349Z"
    }
   },
   "outputs": [],
   "source": [
    " df_school['grad_rate_midpt'] = df_school['grad_rate_midpt'].astype(str)"
   ]
  },
  {
   "cell_type": "code",
   "execution_count": 64,
   "metadata": {
    "ExecuteTime": {
     "end_time": "2021-06-16T06:30:23.245811Z",
     "start_time": "2021-06-16T06:30:23.239655Z"
    },
    "scrolled": true
   },
   "outputs": [
    {
     "data": {
      "text/plain": [
       "(66, 100]    0.912374\n",
       "(0, 66]      0.087626\n",
       "Name: grad_rate_midpt, dtype: float64"
      ]
     },
     "execution_count": 64,
     "metadata": {},
     "output_type": "execute_result"
    }
   ],
   "source": [
    "df_school['grad_rate_midpt'].value_counts(normalize=True, dropna=False)"
   ]
  },
  {
   "cell_type": "code",
   "execution_count": 65,
   "metadata": {
    "ExecuteTime": {
     "end_time": "2021-06-16T06:30:23.250378Z",
     "start_time": "2021-06-16T06:30:23.247238Z"
    }
   },
   "outputs": [],
   "source": [
    " df_school['grad_rate_midpt'] = df_school['grad_rate_midpt'].replace('(0, 66]', 1)"
   ]
  },
  {
   "cell_type": "code",
   "execution_count": 66,
   "metadata": {
    "ExecuteTime": {
     "end_time": "2021-06-16T06:30:23.257773Z",
     "start_time": "2021-06-16T06:30:23.252115Z"
    }
   },
   "outputs": [],
   "source": [
    " df_school['grad_rate_midpt'] = df_school['grad_rate_midpt'].replace('(66, 100]', 0)"
   ]
  },
  {
   "cell_type": "markdown",
   "metadata": {},
   "source": [
    "### subject enrollment - drop all enrl columns"
   ]
  },
  {
   "cell_type": "code",
   "execution_count": 67,
   "metadata": {
    "ExecuteTime": {
     "end_time": "2021-06-16T06:30:23.286424Z",
     "start_time": "2021-06-16T06:30:23.259128Z"
    }
   },
   "outputs": [
    {
     "data": {
      "text/plain": [
       "'percent of nulls in df_school is 4%'"
      ]
     },
     "execution_count": 67,
     "metadata": {},
     "output_type": "execute_result"
    }
   ],
   "source": [
    "#Let's look at how many nulls we are dealing with now\n",
    "percent_null_df(df_school,'df_school')"
   ]
  },
  {
   "cell_type": "code",
   "execution_count": 68,
   "metadata": {
    "ExecuteTime": {
     "end_time": "2021-06-16T06:30:23.320737Z",
     "start_time": "2021-06-16T06:30:23.300392Z"
    }
   },
   "outputs": [
    {
     "name": "stdout",
     "output_type": "stream",
     "text": [
      "<class 'pandas.core.frame.DataFrame'>\n",
      "Int64Index: 10579 entries, 33 to 4905\n",
      "Data columns (total 58 columns):\n",
      " #   Column                           Non-Null Count  Dtype  \n",
      "---  ------                           --------------  -----  \n",
      " 0   ncessch                          10579 non-null  int64  \n",
      " 1   school_name                      10579 non-null  object \n",
      " 2   state_name                       10579 non-null  object \n",
      " 3   lea_name                         10579 non-null  object \n",
      " 4   urban_centric_locale             10579 non-null  object \n",
      " 5   school_level                     10579 non-null  object \n",
      " 6   school_type                      10579 non-null  object \n",
      " 7   charter                          9970 non-null   object \n",
      " 8   enrollment                       10572 non-null  object \n",
      " 9   read_test_num_valid              10372 non-null  float64\n",
      " 10  read_test_pct_prof_low           10214 non-null  object \n",
      " 11  read_test_pct_prof_high          10214 non-null  object \n",
      " 12  read_test_pct_prof_midpt         10214 non-null  object \n",
      " 13  math_test_num_valid              10364 non-null  float64\n",
      " 14  math_test_pct_prof_low           10197 non-null  object \n",
      " 15  math_test_pct_prof_high          10197 non-null  object \n",
      " 16  math_test_pct_prof_midpt         10197 non-null  object \n",
      " 17  students_susp_in_sch             10368 non-null  object \n",
      " 18  students_susp_out_sch_single     10376 non-null  object \n",
      " 19  students_susp_out_sch_multiple   10376 non-null  object \n",
      " 20  expulsions_no_ed_serv            10376 non-null  object \n",
      " 21  expulsions_with_ed_serv          10368 non-null  object \n",
      " 22  expulsions_zero_tolerance        10376 non-null  object \n",
      " 23  students_arrested                10003 non-null  object \n",
      " 24  students_referred_law_enforce    10364 non-null  object \n",
      " 25  transfers_alt_sch_disc           10384 non-null  float64\n",
      " 26  days_suspended                   10034 non-null  float64\n",
      " 27  suspensions_instances_preschool  10034 non-null  float64\n",
      " 28  suspensions_instances            10034 non-null  float64\n",
      " 29  corpinstances                    10034 non-null  float64\n",
      " 30  salaries_teachers                9932 non-null   object \n",
      " 31  cohort_num                       10579 non-null  float64\n",
      " 32  grad_rate_midpt                  10579 non-null  int64  \n",
      " 33  allegations_harass_sex           10335 non-null  object \n",
      " 34  allegations_harass_race          10335 non-null  object \n",
      " 35  allegations_harass_disability    10335 non-null  object \n",
      " 36  allegations_harass_orientation   10335 non-null  object \n",
      " 37  allegations_harass_religion      10335 non-null  object \n",
      " 38  students_disc_harass_dis         10384 non-null  float64\n",
      " 39  students_disc_harass_race        10384 non-null  float64\n",
      " 40  students_disc_harass_sex         10384 non-null  float64\n",
      " 41  students_report_harass_dis       10384 non-null  float64\n",
      " 42  students_report_harass_race      10384 non-null  float64\n",
      " 43  students_report_harass_sex       10384 non-null  float64\n",
      " 44  enrl_biology                     9741 non-null   float64\n",
      " 45  enrl_chemistry                   9238 non-null   float64\n",
      " 46  enrl_advanced_math               8628 non-null   float64\n",
      " 47  enrl_calculus                    7513 non-null   float64\n",
      " 48  enrl_algebra2                    9459 non-null   float64\n",
      " 49  enrl_physics                     8238 non-null   float64\n",
      " 50  enrl_geometry                    9520 non-null   float64\n",
      " 51  instances_mech_restraint         9997 non-null   float64\n",
      " 52  instances_phys_restraint         10339 non-null  float64\n",
      " 53  instances_seclusion              10339 non-null  float64\n",
      " 54  students_mech_restraint          9998 non-null   float64\n",
      " 55  students_phys_restraint          10327 non-null  float64\n",
      " 56  students_seclusion               10340 non-null  float64\n",
      " 57  students_SAT_ACT                 10384 non-null  float64\n",
      "dtypes: float64(28), int64(2), object(28)\n",
      "memory usage: 4.8+ MB\n"
     ]
    }
   ],
   "source": [
    "df_school.info()"
   ]
  },
  {
   "cell_type": "markdown",
   "metadata": {},
   "source": [
    "The class subject enrollment columns stand out as having the most null values let's drop those columns."
   ]
  },
  {
   "cell_type": "code",
   "execution_count": 69,
   "metadata": {
    "ExecuteTime": {
     "end_time": "2021-06-16T06:30:23.335465Z",
     "start_time": "2021-06-16T06:30:23.328335Z"
    },
    "scrolled": true
   },
   "outputs": [],
   "source": [
    "df_school = df_school.drop(['enrl_biology', 'enrl_chemistry','enrl_advanced_math',\n",
    "                            'enrl_calculus','enrl_algebra2','enrl_physics',\n",
    "                            'enrl_geometry'], axis=1)"
   ]
  },
  {
   "cell_type": "code",
   "execution_count": 70,
   "metadata": {
    "ExecuteTime": {
     "end_time": "2021-06-16T06:30:23.361147Z",
     "start_time": "2021-06-16T06:30:23.336821Z"
    }
   },
   "outputs": [
    {
     "data": {
      "text/plain": [
       "'percent of nulls in df_school is 2%'"
      ]
     },
     "execution_count": 70,
     "metadata": {},
     "output_type": "execute_result"
    }
   ],
   "source": [
    "#How do our nulls look\n",
    "percent_null_df(df_school,'df_school')"
   ]
  },
  {
   "cell_type": "markdown",
   "metadata": {},
   "source": [
    "### Encode Charter"
   ]
  },
  {
   "cell_type": "code",
   "execution_count": 71,
   "metadata": {
    "ExecuteTime": {
     "end_time": "2021-06-16T06:30:23.369720Z",
     "start_time": "2021-06-16T06:30:23.362953Z"
    },
    "scrolled": false
   },
   "outputs": [
    {
     "data": {
      "text/plain": [
       "No     0.858777\n",
       "Yes    0.083656\n",
       "NaN    0.057567\n",
       "Name: charter, dtype: float64"
      ]
     },
     "execution_count": 71,
     "metadata": {},
     "output_type": "execute_result"
    }
   ],
   "source": [
    "df_school['charter'].value_counts(normalize=True, dropna=False)"
   ]
  },
  {
   "cell_type": "code",
   "execution_count": 72,
   "metadata": {
    "ExecuteTime": {
     "end_time": "2021-06-16T06:30:23.374182Z",
     "start_time": "2021-06-16T06:30:23.371007Z"
    }
   },
   "outputs": [],
   "source": [
    " df_school['charter'] = df_school['charter'].replace('No', 0)"
   ]
  },
  {
   "cell_type": "code",
   "execution_count": 73,
   "metadata": {
    "ExecuteTime": {
     "end_time": "2021-06-16T06:30:23.381574Z",
     "start_time": "2021-06-16T06:30:23.375883Z"
    }
   },
   "outputs": [],
   "source": [
    " df_school['charter'] = df_school['charter'].replace('Yes', 1)"
   ]
  },
  {
   "cell_type": "code",
   "execution_count": 74,
   "metadata": {
    "ExecuteTime": {
     "end_time": "2021-06-16T06:30:23.387376Z",
     "start_time": "2021-06-16T06:30:23.382910Z"
    },
    "scrolled": true
   },
   "outputs": [
    {
     "data": {
      "text/plain": [
       "0.0    0.858777\n",
       "1.0    0.083656\n",
       "NaN    0.057567\n",
       "Name: charter, dtype: float64"
      ]
     },
     "execution_count": 74,
     "metadata": {},
     "output_type": "execute_result"
    }
   ],
   "source": [
    "df_school['charter'].value_counts(normalize=True, dropna=False)"
   ]
  },
  {
   "cell_type": "markdown",
   "metadata": {},
   "source": [
    "We will group the small proportion of NaN values with the majority class which is zero or a non charter school."
   ]
  },
  {
   "cell_type": "code",
   "execution_count": 75,
   "metadata": {
    "ExecuteTime": {
     "end_time": "2021-06-16T06:30:23.399269Z",
     "start_time": "2021-06-16T06:30:23.388809Z"
    }
   },
   "outputs": [],
   "source": [
    "df_school.update(df_school[['charter']].fillna(0))"
   ]
  },
  {
   "cell_type": "markdown",
   "metadata": {},
   "source": [
    "### Reading and Math Tests"
   ]
  },
  {
   "cell_type": "code",
   "execution_count": 76,
   "metadata": {
    "ExecuteTime": {
     "end_time": "2021-06-16T06:30:23.419100Z",
     "start_time": "2021-06-16T06:30:23.401014Z"
    }
   },
   "outputs": [
    {
     "name": "stdout",
     "output_type": "stream",
     "text": [
      "<class 'pandas.core.frame.DataFrame'>\n",
      "Int64Index: 10579 entries, 33 to 4905\n",
      "Data columns (total 51 columns):\n",
      " #   Column                           Non-Null Count  Dtype  \n",
      "---  ------                           --------------  -----  \n",
      " 0   ncessch                          10579 non-null  int64  \n",
      " 1   school_name                      10579 non-null  object \n",
      " 2   state_name                       10579 non-null  object \n",
      " 3   lea_name                         10579 non-null  object \n",
      " 4   urban_centric_locale             10579 non-null  object \n",
      " 5   school_level                     10579 non-null  object \n",
      " 6   school_type                      10579 non-null  object \n",
      " 7   charter                          10579 non-null  float64\n",
      " 8   enrollment                       10572 non-null  object \n",
      " 9   read_test_num_valid              10372 non-null  float64\n",
      " 10  read_test_pct_prof_low           10214 non-null  object \n",
      " 11  read_test_pct_prof_high          10214 non-null  object \n",
      " 12  read_test_pct_prof_midpt         10214 non-null  object \n",
      " 13  math_test_num_valid              10364 non-null  float64\n",
      " 14  math_test_pct_prof_low           10197 non-null  object \n",
      " 15  math_test_pct_prof_high          10197 non-null  object \n",
      " 16  math_test_pct_prof_midpt         10197 non-null  object \n",
      " 17  students_susp_in_sch             10368 non-null  object \n",
      " 18  students_susp_out_sch_single     10376 non-null  object \n",
      " 19  students_susp_out_sch_multiple   10376 non-null  object \n",
      " 20  expulsions_no_ed_serv            10376 non-null  object \n",
      " 21  expulsions_with_ed_serv          10368 non-null  object \n",
      " 22  expulsions_zero_tolerance        10376 non-null  object \n",
      " 23  students_arrested                10003 non-null  object \n",
      " 24  students_referred_law_enforce    10364 non-null  object \n",
      " 25  transfers_alt_sch_disc           10384 non-null  float64\n",
      " 26  days_suspended                   10034 non-null  float64\n",
      " 27  suspensions_instances_preschool  10034 non-null  float64\n",
      " 28  suspensions_instances            10034 non-null  float64\n",
      " 29  corpinstances                    10034 non-null  float64\n",
      " 30  salaries_teachers                9932 non-null   object \n",
      " 31  cohort_num                       10579 non-null  float64\n",
      " 32  grad_rate_midpt                  10579 non-null  int64  \n",
      " 33  allegations_harass_sex           10335 non-null  object \n",
      " 34  allegations_harass_race          10335 non-null  object \n",
      " 35  allegations_harass_disability    10335 non-null  object \n",
      " 36  allegations_harass_orientation   10335 non-null  object \n",
      " 37  allegations_harass_religion      10335 non-null  object \n",
      " 38  students_disc_harass_dis         10384 non-null  float64\n",
      " 39  students_disc_harass_race        10384 non-null  float64\n",
      " 40  students_disc_harass_sex         10384 non-null  float64\n",
      " 41  students_report_harass_dis       10384 non-null  float64\n",
      " 42  students_report_harass_race      10384 non-null  float64\n",
      " 43  students_report_harass_sex       10384 non-null  float64\n",
      " 44  instances_mech_restraint         9997 non-null   float64\n",
      " 45  instances_phys_restraint         10339 non-null  float64\n",
      " 46  instances_seclusion              10339 non-null  float64\n",
      " 47  students_mech_restraint          9998 non-null   float64\n",
      " 48  students_phys_restraint          10327 non-null  float64\n",
      " 49  students_seclusion               10340 non-null  float64\n",
      " 50  students_SAT_ACT                 10384 non-null  float64\n",
      "dtypes: float64(22), int64(2), object(27)\n",
      "memory usage: 4.2+ MB\n"
     ]
    }
   ],
   "source": [
    "df_school.info()"
   ]
  },
  {
   "cell_type": "code",
   "execution_count": 77,
   "metadata": {
    "ExecuteTime": {
     "end_time": "2021-06-16T06:30:23.422622Z",
     "start_time": "2021-06-16T06:30:23.420675Z"
    }
   },
   "outputs": [],
   "source": [
    "read_test = ['school_name', 'read_test_num_valid', 'read_test_pct_prof_low', \n",
    "             'read_test_pct_prof_high', 'read_test_pct_prof_midpt']"
   ]
  },
  {
   "cell_type": "code",
   "execution_count": 78,
   "metadata": {
    "ExecuteTime": {
     "end_time": "2021-06-16T06:30:23.435268Z",
     "start_time": "2021-06-16T06:30:23.423981Z"
    },
    "scrolled": true
   },
   "outputs": [
    {
     "data": {
      "text/html": [
       "<div>\n",
       "<style scoped>\n",
       "    .dataframe tbody tr th:only-of-type {\n",
       "        vertical-align: middle;\n",
       "    }\n",
       "\n",
       "    .dataframe tbody tr th {\n",
       "        vertical-align: top;\n",
       "    }\n",
       "\n",
       "    .dataframe thead th {\n",
       "        text-align: right;\n",
       "    }\n",
       "</style>\n",
       "<table border=\"1\" class=\"dataframe\">\n",
       "  <thead>\n",
       "    <tr style=\"text-align: right;\">\n",
       "      <th></th>\n",
       "      <th>school_name</th>\n",
       "      <th>read_test_num_valid</th>\n",
       "      <th>read_test_pct_prof_low</th>\n",
       "      <th>read_test_pct_prof_high</th>\n",
       "      <th>read_test_pct_prof_midpt</th>\n",
       "    </tr>\n",
       "  </thead>\n",
       "  <tbody>\n",
       "    <tr>\n",
       "      <th>33</th>\n",
       "      <td>E. O. Smith High School</td>\n",
       "      <td>260.0</td>\n",
       "      <td>82</td>\n",
       "      <td>82</td>\n",
       "      <td>82</td>\n",
       "    </tr>\n",
       "    <tr>\n",
       "      <th>36</th>\n",
       "      <td>Common Ground High School</td>\n",
       "      <td>39.0</td>\n",
       "      <td>30</td>\n",
       "      <td>39</td>\n",
       "      <td>34.5</td>\n",
       "    </tr>\n",
       "    <tr>\n",
       "      <th>37</th>\n",
       "      <td>The Bridge Academy</td>\n",
       "      <td>139.0</td>\n",
       "      <td>20</td>\n",
       "      <td>24</td>\n",
       "      <td>22</td>\n",
       "    </tr>\n",
       "    <tr>\n",
       "      <th>38</th>\n",
       "      <td>Explorations</td>\n",
       "      <td>21.0</td>\n",
       "      <td>21</td>\n",
       "      <td>39</td>\n",
       "      <td>30</td>\n",
       "    </tr>\n",
       "    <tr>\n",
       "      <th>40</th>\n",
       "      <td>Stamford Academy</td>\n",
       "      <td>25.0</td>\n",
       "      <td>0</td>\n",
       "      <td>20</td>\n",
       "      <td>10</td>\n",
       "    </tr>\n",
       "    <tr>\n",
       "      <th>42</th>\n",
       "      <td>Ansonia High School</td>\n",
       "      <td>137.0</td>\n",
       "      <td>50</td>\n",
       "      <td>54</td>\n",
       "      <td>52</td>\n",
       "    </tr>\n",
       "    <tr>\n",
       "      <th>47</th>\n",
       "      <td>Avon High School</td>\n",
       "      <td>244.0</td>\n",
       "      <td>90</td>\n",
       "      <td>90</td>\n",
       "      <td>90</td>\n",
       "    </tr>\n",
       "    <tr>\n",
       "      <th>48</th>\n",
       "      <td>Berlin High School</td>\n",
       "      <td>231.0</td>\n",
       "      <td>74</td>\n",
       "      <td>74</td>\n",
       "      <td>74</td>\n",
       "    </tr>\n",
       "    <tr>\n",
       "      <th>49</th>\n",
       "      <td>Path Academy</td>\n",
       "      <td>6.0</td>\n",
       "      <td>0</td>\n",
       "      <td>49</td>\n",
       "      <td>24.5</td>\n",
       "    </tr>\n",
       "    <tr>\n",
       "      <th>50</th>\n",
       "      <td>Bethel High School</td>\n",
       "      <td>199.0</td>\n",
       "      <td>75</td>\n",
       "      <td>79</td>\n",
       "      <td>77</td>\n",
       "    </tr>\n",
       "    <tr>\n",
       "      <th>51</th>\n",
       "      <td>Bloomfield High School</td>\n",
       "      <td>143.0</td>\n",
       "      <td>45</td>\n",
       "      <td>49</td>\n",
       "      <td>47</td>\n",
       "    </tr>\n",
       "    <tr>\n",
       "      <th>52</th>\n",
       "      <td>Learning Academy at Bloomfield</td>\n",
       "      <td>1.0</td>\n",
       "      <td>NaN</td>\n",
       "      <td>NaN</td>\n",
       "      <td>NaN</td>\n",
       "    </tr>\n",
       "    <tr>\n",
       "      <th>53</th>\n",
       "      <td>Bolton High School</td>\n",
       "      <td>67.0</td>\n",
       "      <td>80</td>\n",
       "      <td>84</td>\n",
       "      <td>82</td>\n",
       "    </tr>\n",
       "    <tr>\n",
       "      <th>54</th>\n",
       "      <td>Branford High School</td>\n",
       "      <td>233.0</td>\n",
       "      <td>65</td>\n",
       "      <td>65</td>\n",
       "      <td>65</td>\n",
       "    </tr>\n",
       "    <tr>\n",
       "      <th>56</th>\n",
       "      <td>Bassick High School</td>\n",
       "      <td>118.0</td>\n",
       "      <td>10</td>\n",
       "      <td>14</td>\n",
       "      <td>12</td>\n",
       "    </tr>\n",
       "    <tr>\n",
       "      <th>57</th>\n",
       "      <td>Central High School</td>\n",
       "      <td>249.0</td>\n",
       "      <td>32</td>\n",
       "      <td>32</td>\n",
       "      <td>32</td>\n",
       "    </tr>\n",
       "    <tr>\n",
       "      <th>58</th>\n",
       "      <td>Harding High School</td>\n",
       "      <td>173.0</td>\n",
       "      <td>6</td>\n",
       "      <td>9</td>\n",
       "      <td>7.5</td>\n",
       "    </tr>\n",
       "    <tr>\n",
       "      <th>59</th>\n",
       "      <td>Information Technology and Software Engineerin...</td>\n",
       "      <td>132.0</td>\n",
       "      <td>45</td>\n",
       "      <td>49</td>\n",
       "      <td>47</td>\n",
       "    </tr>\n",
       "    <tr>\n",
       "      <th>60</th>\n",
       "      <td>Biotechnology Research and Zoological Studies ...</td>\n",
       "      <td>134.0</td>\n",
       "      <td>35</td>\n",
       "      <td>39</td>\n",
       "      <td>37</td>\n",
       "    </tr>\n",
       "    <tr>\n",
       "      <th>61</th>\n",
       "      <td>Aerospace/Hydrospace Engineering and Physical ...</td>\n",
       "      <td>130.0</td>\n",
       "      <td>50</td>\n",
       "      <td>54</td>\n",
       "      <td>52</td>\n",
       "    </tr>\n",
       "  </tbody>\n",
       "</table>\n",
       "</div>"
      ],
      "text/plain": [
       "                                          school_name  read_test_num_valid  \\\n",
       "33                            E. O. Smith High School                260.0   \n",
       "36                          Common Ground High School                 39.0   \n",
       "37                                 The Bridge Academy                139.0   \n",
       "38                                       Explorations                 21.0   \n",
       "40                                   Stamford Academy                 25.0   \n",
       "42                                Ansonia High School                137.0   \n",
       "47                                   Avon High School                244.0   \n",
       "48                                 Berlin High School                231.0   \n",
       "49                                       Path Academy                  6.0   \n",
       "50                                 Bethel High School                199.0   \n",
       "51                             Bloomfield High School                143.0   \n",
       "52                     Learning Academy at Bloomfield                  1.0   \n",
       "53                                 Bolton High School                 67.0   \n",
       "54                               Branford High School                233.0   \n",
       "56                                Bassick High School                118.0   \n",
       "57                                Central High School                249.0   \n",
       "58                                Harding High School                173.0   \n",
       "59  Information Technology and Software Engineerin...                132.0   \n",
       "60  Biotechnology Research and Zoological Studies ...                134.0   \n",
       "61  Aerospace/Hydrospace Engineering and Physical ...                130.0   \n",
       "\n",
       "   read_test_pct_prof_low read_test_pct_prof_high read_test_pct_prof_midpt  \n",
       "33                     82                      82                       82  \n",
       "36                     30                      39                     34.5  \n",
       "37                     20                      24                       22  \n",
       "38                     21                      39                       30  \n",
       "40                      0                      20                       10  \n",
       "42                     50                      54                       52  \n",
       "47                     90                      90                       90  \n",
       "48                     74                      74                       74  \n",
       "49                      0                      49                     24.5  \n",
       "50                     75                      79                       77  \n",
       "51                     45                      49                       47  \n",
       "52                    NaN                     NaN                      NaN  \n",
       "53                     80                      84                       82  \n",
       "54                     65                      65                       65  \n",
       "56                     10                      14                       12  \n",
       "57                     32                      32                       32  \n",
       "58                      6                       9                      7.5  \n",
       "59                     45                      49                       47  \n",
       "60                     35                      39                       37  \n",
       "61                     50                      54                       52  "
      ]
     },
     "execution_count": 78,
     "metadata": {},
     "output_type": "execute_result"
    }
   ],
   "source": [
    "df_school[read_test].head(20)"
   ]
  },
  {
   "cell_type": "code",
   "execution_count": 79,
   "metadata": {
    "ExecuteTime": {
     "end_time": "2021-06-16T06:30:23.438456Z",
     "start_time": "2021-06-16T06:30:23.436536Z"
    }
   },
   "outputs": [],
   "source": [
    "math_test = ['school_name', 'math_test_num_valid' , 'math_test_pct_prof_low', \n",
    "             'math_test_pct_prof_high', 'math_test_pct_prof_midpt']"
   ]
  },
  {
   "cell_type": "code",
   "execution_count": 80,
   "metadata": {
    "ExecuteTime": {
     "end_time": "2021-06-16T06:30:23.450225Z",
     "start_time": "2021-06-16T06:30:23.439657Z"
    }
   },
   "outputs": [
    {
     "data": {
      "text/html": [
       "<div>\n",
       "<style scoped>\n",
       "    .dataframe tbody tr th:only-of-type {\n",
       "        vertical-align: middle;\n",
       "    }\n",
       "\n",
       "    .dataframe tbody tr th {\n",
       "        vertical-align: top;\n",
       "    }\n",
       "\n",
       "    .dataframe thead th {\n",
       "        text-align: right;\n",
       "    }\n",
       "</style>\n",
       "<table border=\"1\" class=\"dataframe\">\n",
       "  <thead>\n",
       "    <tr style=\"text-align: right;\">\n",
       "      <th></th>\n",
       "      <th>school_name</th>\n",
       "      <th>math_test_num_valid</th>\n",
       "      <th>math_test_pct_prof_low</th>\n",
       "      <th>math_test_pct_prof_high</th>\n",
       "      <th>math_test_pct_prof_midpt</th>\n",
       "    </tr>\n",
       "  </thead>\n",
       "  <tbody>\n",
       "    <tr>\n",
       "      <th>33</th>\n",
       "      <td>E. O. Smith High School</td>\n",
       "      <td>260.0</td>\n",
       "      <td>55</td>\n",
       "      <td>55</td>\n",
       "      <td>55</td>\n",
       "    </tr>\n",
       "    <tr>\n",
       "      <th>36</th>\n",
       "      <td>Common Ground High School</td>\n",
       "      <td>39.0</td>\n",
       "      <td>0</td>\n",
       "      <td>10</td>\n",
       "      <td>5</td>\n",
       "    </tr>\n",
       "    <tr>\n",
       "      <th>37</th>\n",
       "      <td>The Bridge Academy</td>\n",
       "      <td>139.0</td>\n",
       "      <td>6</td>\n",
       "      <td>9</td>\n",
       "      <td>7.5</td>\n",
       "    </tr>\n",
       "    <tr>\n",
       "      <th>38</th>\n",
       "      <td>Explorations</td>\n",
       "      <td>21.0</td>\n",
       "      <td>0</td>\n",
       "      <td>20</td>\n",
       "      <td>10</td>\n",
       "    </tr>\n",
       "    <tr>\n",
       "      <th>40</th>\n",
       "      <td>Stamford Academy</td>\n",
       "      <td>25.0</td>\n",
       "      <td>0</td>\n",
       "      <td>20</td>\n",
       "      <td>10</td>\n",
       "    </tr>\n",
       "    <tr>\n",
       "      <th>42</th>\n",
       "      <td>Ansonia High School</td>\n",
       "      <td>137.0</td>\n",
       "      <td>20</td>\n",
       "      <td>24</td>\n",
       "      <td>22</td>\n",
       "    </tr>\n",
       "    <tr>\n",
       "      <th>47</th>\n",
       "      <td>Avon High School</td>\n",
       "      <td>246.0</td>\n",
       "      <td>77</td>\n",
       "      <td>77</td>\n",
       "      <td>77</td>\n",
       "    </tr>\n",
       "    <tr>\n",
       "      <th>48</th>\n",
       "      <td>Berlin High School</td>\n",
       "      <td>231.0</td>\n",
       "      <td>49</td>\n",
       "      <td>49</td>\n",
       "      <td>49</td>\n",
       "    </tr>\n",
       "    <tr>\n",
       "      <th>49</th>\n",
       "      <td>Path Academy</td>\n",
       "      <td>6.0</td>\n",
       "      <td>0</td>\n",
       "      <td>49</td>\n",
       "      <td>24.5</td>\n",
       "    </tr>\n",
       "    <tr>\n",
       "      <th>50</th>\n",
       "      <td>Bethel High School</td>\n",
       "      <td>199.0</td>\n",
       "      <td>55</td>\n",
       "      <td>59</td>\n",
       "      <td>57</td>\n",
       "    </tr>\n",
       "    <tr>\n",
       "      <th>51</th>\n",
       "      <td>Bloomfield High School</td>\n",
       "      <td>143.0</td>\n",
       "      <td>15</td>\n",
       "      <td>19</td>\n",
       "      <td>17</td>\n",
       "    </tr>\n",
       "    <tr>\n",
       "      <th>52</th>\n",
       "      <td>Learning Academy at Bloomfield</td>\n",
       "      <td>1.0</td>\n",
       "      <td>NaN</td>\n",
       "      <td>NaN</td>\n",
       "      <td>NaN</td>\n",
       "    </tr>\n",
       "    <tr>\n",
       "      <th>53</th>\n",
       "      <td>Bolton High School</td>\n",
       "      <td>67.0</td>\n",
       "      <td>45</td>\n",
       "      <td>49</td>\n",
       "      <td>47</td>\n",
       "    </tr>\n",
       "    <tr>\n",
       "      <th>54</th>\n",
       "      <td>Branford High School</td>\n",
       "      <td>233.0</td>\n",
       "      <td>36</td>\n",
       "      <td>36</td>\n",
       "      <td>36</td>\n",
       "    </tr>\n",
       "    <tr>\n",
       "      <th>56</th>\n",
       "      <td>Bassick High School</td>\n",
       "      <td>119.0</td>\n",
       "      <td>0</td>\n",
       "      <td>5</td>\n",
       "      <td>2.5</td>\n",
       "    </tr>\n",
       "    <tr>\n",
       "      <th>57</th>\n",
       "      <td>Central High School</td>\n",
       "      <td>249.0</td>\n",
       "      <td>12</td>\n",
       "      <td>12</td>\n",
       "      <td>12</td>\n",
       "    </tr>\n",
       "    <tr>\n",
       "      <th>58</th>\n",
       "      <td>Harding High School</td>\n",
       "      <td>176.0</td>\n",
       "      <td>0</td>\n",
       "      <td>5</td>\n",
       "      <td>2.5</td>\n",
       "    </tr>\n",
       "    <tr>\n",
       "      <th>59</th>\n",
       "      <td>Information Technology and Software Engineerin...</td>\n",
       "      <td>132.0</td>\n",
       "      <td>15</td>\n",
       "      <td>19</td>\n",
       "      <td>17</td>\n",
       "    </tr>\n",
       "    <tr>\n",
       "      <th>60</th>\n",
       "      <td>Biotechnology Research and Zoological Studies ...</td>\n",
       "      <td>134.0</td>\n",
       "      <td>10</td>\n",
       "      <td>14</td>\n",
       "      <td>12</td>\n",
       "    </tr>\n",
       "    <tr>\n",
       "      <th>61</th>\n",
       "      <td>Aerospace/Hydrospace Engineering and Physical ...</td>\n",
       "      <td>130.0</td>\n",
       "      <td>20</td>\n",
       "      <td>24</td>\n",
       "      <td>22</td>\n",
       "    </tr>\n",
       "  </tbody>\n",
       "</table>\n",
       "</div>"
      ],
      "text/plain": [
       "                                          school_name  math_test_num_valid  \\\n",
       "33                            E. O. Smith High School                260.0   \n",
       "36                          Common Ground High School                 39.0   \n",
       "37                                 The Bridge Academy                139.0   \n",
       "38                                       Explorations                 21.0   \n",
       "40                                   Stamford Academy                 25.0   \n",
       "42                                Ansonia High School                137.0   \n",
       "47                                   Avon High School                246.0   \n",
       "48                                 Berlin High School                231.0   \n",
       "49                                       Path Academy                  6.0   \n",
       "50                                 Bethel High School                199.0   \n",
       "51                             Bloomfield High School                143.0   \n",
       "52                     Learning Academy at Bloomfield                  1.0   \n",
       "53                                 Bolton High School                 67.0   \n",
       "54                               Branford High School                233.0   \n",
       "56                                Bassick High School                119.0   \n",
       "57                                Central High School                249.0   \n",
       "58                                Harding High School                176.0   \n",
       "59  Information Technology and Software Engineerin...                132.0   \n",
       "60  Biotechnology Research and Zoological Studies ...                134.0   \n",
       "61  Aerospace/Hydrospace Engineering and Physical ...                130.0   \n",
       "\n",
       "   math_test_pct_prof_low math_test_pct_prof_high math_test_pct_prof_midpt  \n",
       "33                     55                      55                       55  \n",
       "36                      0                      10                        5  \n",
       "37                      6                       9                      7.5  \n",
       "38                      0                      20                       10  \n",
       "40                      0                      20                       10  \n",
       "42                     20                      24                       22  \n",
       "47                     77                      77                       77  \n",
       "48                     49                      49                       49  \n",
       "49                      0                      49                     24.5  \n",
       "50                     55                      59                       57  \n",
       "51                     15                      19                       17  \n",
       "52                    NaN                     NaN                      NaN  \n",
       "53                     45                      49                       47  \n",
       "54                     36                      36                       36  \n",
       "56                      0                       5                      2.5  \n",
       "57                     12                      12                       12  \n",
       "58                      0                       5                      2.5  \n",
       "59                     15                      19                       17  \n",
       "60                     10                      14                       12  \n",
       "61                     20                      24                       22  "
      ]
     },
     "execution_count": 80,
     "metadata": {},
     "output_type": "execute_result"
    }
   ],
   "source": [
    "df_school[math_test].head(20)"
   ]
  },
  {
   "cell_type": "markdown",
   "metadata": {},
   "source": [
    "The read_test_num_valid column and the math_test_num_valid column desribe the Number of students who completed a reading, and math assessment and for whom a proficiency level was assigned\n",
    "\n",
    "The low, high, and midpt columns describe the low, high, and midpoint of the range used to report the share of students scoring proficient on a reading or language arts assessment (0–100 scale)\n",
    "\n"
   ]
  },
  {
   "cell_type": "code",
   "execution_count": 81,
   "metadata": {
    "ExecuteTime": {
     "end_time": "2021-06-16T06:30:23.458721Z",
     "start_time": "2021-06-16T06:30:23.452385Z"
    }
   },
   "outputs": [],
   "source": [
    "# The midpoint column is the most balanced measure so we will drop the others\n",
    "df_school = df_school.drop(['math_test_pct_prof_low','math_test_pct_prof_high',\n",
    "                           'read_test_pct_prof_low','read_test_pct_prof_high'], axis=1)"
   ]
  },
  {
   "cell_type": "markdown",
   "metadata": {},
   "source": [
    "### Numeric Columns - nulls"
   ]
  },
  {
   "cell_type": "markdown",
   "metadata": {},
   "source": [
    "Let's take a look at our columns and check back in on the proportion of nulls. If our proportion is small we will fill the NaNs in the remaining numerical columns with medians."
   ]
  },
  {
   "cell_type": "code",
   "execution_count": 82,
   "metadata": {
    "ExecuteTime": {
     "end_time": "2021-06-16T06:30:23.477429Z",
     "start_time": "2021-06-16T06:30:23.460288Z"
    },
    "scrolled": true
   },
   "outputs": [
    {
     "name": "stdout",
     "output_type": "stream",
     "text": [
      "<class 'pandas.core.frame.DataFrame'>\n",
      "Int64Index: 10579 entries, 33 to 4905\n",
      "Data columns (total 47 columns):\n",
      " #   Column                           Non-Null Count  Dtype  \n",
      "---  ------                           --------------  -----  \n",
      " 0   ncessch                          10579 non-null  int64  \n",
      " 1   school_name                      10579 non-null  object \n",
      " 2   state_name                       10579 non-null  object \n",
      " 3   lea_name                         10579 non-null  object \n",
      " 4   urban_centric_locale             10579 non-null  object \n",
      " 5   school_level                     10579 non-null  object \n",
      " 6   school_type                      10579 non-null  object \n",
      " 7   charter                          10579 non-null  float64\n",
      " 8   enrollment                       10572 non-null  object \n",
      " 9   read_test_num_valid              10372 non-null  float64\n",
      " 10  read_test_pct_prof_midpt         10214 non-null  object \n",
      " 11  math_test_num_valid              10364 non-null  float64\n",
      " 12  math_test_pct_prof_midpt         10197 non-null  object \n",
      " 13  students_susp_in_sch             10368 non-null  object \n",
      " 14  students_susp_out_sch_single     10376 non-null  object \n",
      " 15  students_susp_out_sch_multiple   10376 non-null  object \n",
      " 16  expulsions_no_ed_serv            10376 non-null  object \n",
      " 17  expulsions_with_ed_serv          10368 non-null  object \n",
      " 18  expulsions_zero_tolerance        10376 non-null  object \n",
      " 19  students_arrested                10003 non-null  object \n",
      " 20  students_referred_law_enforce    10364 non-null  object \n",
      " 21  transfers_alt_sch_disc           10384 non-null  float64\n",
      " 22  days_suspended                   10034 non-null  float64\n",
      " 23  suspensions_instances_preschool  10034 non-null  float64\n",
      " 24  suspensions_instances            10034 non-null  float64\n",
      " 25  corpinstances                    10034 non-null  float64\n",
      " 26  salaries_teachers                9932 non-null   object \n",
      " 27  cohort_num                       10579 non-null  float64\n",
      " 28  grad_rate_midpt                  10579 non-null  int64  \n",
      " 29  allegations_harass_sex           10335 non-null  object \n",
      " 30  allegations_harass_race          10335 non-null  object \n",
      " 31  allegations_harass_disability    10335 non-null  object \n",
      " 32  allegations_harass_orientation   10335 non-null  object \n",
      " 33  allegations_harass_religion      10335 non-null  object \n",
      " 34  students_disc_harass_dis         10384 non-null  float64\n",
      " 35  students_disc_harass_race        10384 non-null  float64\n",
      " 36  students_disc_harass_sex         10384 non-null  float64\n",
      " 37  students_report_harass_dis       10384 non-null  float64\n",
      " 38  students_report_harass_race      10384 non-null  float64\n",
      " 39  students_report_harass_sex       10384 non-null  float64\n",
      " 40  instances_mech_restraint         9997 non-null   float64\n",
      " 41  instances_phys_restraint         10339 non-null  float64\n",
      " 42  instances_seclusion              10339 non-null  float64\n",
      " 43  students_mech_restraint          9998 non-null   float64\n",
      " 44  students_phys_restraint          10327 non-null  float64\n",
      " 45  students_seclusion               10340 non-null  float64\n",
      " 46  students_SAT_ACT                 10384 non-null  float64\n",
      "dtypes: float64(22), int64(2), object(23)\n",
      "memory usage: 3.9+ MB\n"
     ]
    }
   ],
   "source": [
    "df_school.info()"
   ]
  },
  {
   "cell_type": "code",
   "execution_count": 83,
   "metadata": {
    "ExecuteTime": {
     "end_time": "2021-06-16T06:30:23.501765Z",
     "start_time": "2021-06-16T06:30:23.479403Z"
    }
   },
   "outputs": [
    {
     "data": {
      "text/plain": [
       "'percent of nulls in df_school is 2%'"
      ]
     },
     "execution_count": 83,
     "metadata": {},
     "output_type": "execute_result"
    }
   ],
   "source": [
    "#How do our nulls look?\n",
    "percent_null_df(df_school,'df_school')"
   ]
  },
  {
   "cell_type": "code",
   "execution_count": 84,
   "metadata": {
    "ExecuteTime": {
     "end_time": "2021-06-16T06:30:23.505669Z",
     "start_time": "2021-06-16T06:30:23.503729Z"
    }
   },
   "outputs": [],
   "source": [
    "column_names = list(df_school.columns)"
   ]
  },
  {
   "cell_type": "code",
   "execution_count": 85,
   "metadata": {
    "ExecuteTime": {
     "end_time": "2021-06-16T06:30:23.509083Z",
     "start_time": "2021-06-16T06:30:23.506886Z"
    }
   },
   "outputs": [],
   "source": [
    "categorical = ['year','ncessch','school_name','state_name','lea_name','zip_location',\n",
    "               'urban_centric_locale','school_level','school_type','charter',\n",
    "               'corpinstances_preschool']\n"
   ]
  },
  {
   "cell_type": "code",
   "execution_count": 86,
   "metadata": {
    "ExecuteTime": {
     "end_time": "2021-06-16T06:30:23.513842Z",
     "start_time": "2021-06-16T06:30:23.510445Z"
    }
   },
   "outputs": [
    {
     "data": {
      "text/plain": [
       "['allegations_harass_disability',\n",
       " 'allegations_harass_sex',\n",
       " 'salaries_teachers',\n",
       " 'instances_phys_restraint',\n",
       " 'students_report_harass_dis',\n",
       " 'students_susp_out_sch_multiple',\n",
       " 'transfers_alt_sch_disc',\n",
       " 'students_report_harass_race',\n",
       " 'instances_mech_restraint',\n",
       " 'students_mech_restraint',\n",
       " 'days_suspended',\n",
       " 'cohort_num',\n",
       " 'allegations_harass_race',\n",
       " 'math_test_pct_prof_midpt',\n",
       " 'expulsions_zero_tolerance',\n",
       " 'students_susp_out_sch_single',\n",
       " 'students_phys_restraint',\n",
       " 'suspensions_instances_preschool',\n",
       " 'students_referred_law_enforce',\n",
       " 'students_disc_harass_sex',\n",
       " 'students_disc_harass_race',\n",
       " 'students_susp_in_sch',\n",
       " 'grad_rate_midpt',\n",
       " 'expulsions_no_ed_serv',\n",
       " 'allegations_harass_religion',\n",
       " 'enrollment',\n",
       " 'instances_seclusion',\n",
       " 'students_disc_harass_dis',\n",
       " 'math_test_num_valid',\n",
       " 'students_seclusion',\n",
       " 'students_SAT_ACT',\n",
       " 'read_test_num_valid',\n",
       " 'students_report_harass_sex',\n",
       " 'read_test_pct_prof_midpt',\n",
       " 'expulsions_with_ed_serv',\n",
       " 'corpinstances',\n",
       " 'suspensions_instances',\n",
       " 'allegations_harass_orientation',\n",
       " 'students_arrested']"
      ]
     },
     "execution_count": 86,
     "metadata": {},
     "output_type": "execute_result"
    }
   ],
   "source": [
    "# We've dropped some of our numerical columns let's update our numerical list\n",
    "numerical = set(column_names) - set(categorical)\n",
    "numerical = list(numerical)\n",
    "numerical"
   ]
  },
  {
   "cell_type": "code",
   "execution_count": 87,
   "metadata": {
    "ExecuteTime": {
     "end_time": "2021-06-16T06:30:23.517315Z",
     "start_time": "2021-06-16T06:30:23.515497Z"
    },
    "scrolled": true
   },
   "outputs": [],
   "source": [
    "numerical.remove('grad_rate_midpt')"
   ]
  },
  {
   "cell_type": "code",
   "execution_count": 88,
   "metadata": {
    "ExecuteTime": {
     "end_time": "2021-06-16T06:30:23.530855Z",
     "start_time": "2021-06-16T06:30:23.518581Z"
    }
   },
   "outputs": [
    {
     "name": "stdout",
     "output_type": "stream",
     "text": [
      "['enrollment', 'read_test_num_valid', 'read_test_pct_prof_midpt', 'math_test_num_valid', 'math_test_pct_prof_midpt', 'students_susp_in_sch', 'students_susp_out_sch_single', 'students_susp_out_sch_multiple', 'expulsions_no_ed_serv', 'expulsions_with_ed_serv', 'expulsions_zero_tolerance', 'students_arrested', 'students_referred_law_enforce', 'transfers_alt_sch_disc', 'days_suspended', 'suspensions_instances_preschool', 'suspensions_instances', 'corpinstances', 'salaries_teachers', 'allegations_harass_sex', 'allegations_harass_race', 'allegations_harass_disability', 'allegations_harass_orientation', 'allegations_harass_religion', 'students_disc_harass_dis', 'students_disc_harass_race', 'students_disc_harass_sex', 'students_report_harass_dis', 'students_report_harass_race', 'students_report_harass_sex', 'instances_mech_restraint', 'instances_phys_restraint', 'instances_seclusion', 'students_mech_restraint', 'students_phys_restraint', 'students_seclusion', 'students_SAT_ACT']\n"
     ]
    }
   ],
   "source": [
    "nan_values = df_school.isna()\n",
    "nan_columns = nan_values.any()\n",
    "columns_with_nan = df_school.columns[nan_columns].tolist()\n",
    "print(columns_with_nan)"
   ]
  },
  {
   "cell_type": "code",
   "execution_count": 89,
   "metadata": {
    "ExecuteTime": {
     "end_time": "2021-06-16T06:30:23.587106Z",
     "start_time": "2021-06-16T06:30:23.532536Z"
    }
   },
   "outputs": [],
   "source": [
    "#Replace NaNs with median for each column\n",
    "df_school[numerical] = df_school[numerical].fillna(df_school[numerical].median())"
   ]
  },
  {
   "cell_type": "code",
   "execution_count": 90,
   "metadata": {
    "ExecuteTime": {
     "end_time": "2021-06-16T06:30:23.600446Z",
     "start_time": "2021-06-16T06:30:23.588409Z"
    }
   },
   "outputs": [
    {
     "name": "stdout",
     "output_type": "stream",
     "text": [
      "[]\n"
     ]
    }
   ],
   "source": [
    "nan_values = df_school.isna()\n",
    "nan_columns = nan_values.any()\n",
    "columns_with_nan = df_school.columns[nan_columns].tolist()\n",
    "print(columns_with_nan)"
   ]
  },
  {
   "cell_type": "code",
   "execution_count": 91,
   "metadata": {
    "ExecuteTime": {
     "end_time": "2021-06-16T06:30:23.773439Z",
     "start_time": "2021-06-16T06:30:23.602115Z"
    }
   },
   "outputs": [],
   "source": [
    "df_school[numerical] = df_school[numerical].astype(str).astype(float).astype(int)"
   ]
  },
  {
   "cell_type": "code",
   "execution_count": 92,
   "metadata": {
    "ExecuteTime": {
     "end_time": "2021-06-16T06:30:23.794770Z",
     "start_time": "2021-06-16T06:30:23.774972Z"
    },
    "scrolled": false
   },
   "outputs": [
    {
     "data": {
      "text/plain": [
       "'percent of nulls in df_school is 0%'"
      ]
     },
     "execution_count": 92,
     "metadata": {},
     "output_type": "execute_result"
    }
   ],
   "source": [
    "#How do our nulls look?\n",
    "percent_null_df(df_school,'df_school')"
   ]
  },
  {
   "cell_type": "markdown",
   "metadata": {},
   "source": [
    "## df_district"
   ]
  },
  {
   "cell_type": "code",
   "execution_count": 93,
   "metadata": {
    "ExecuteTime": {
     "end_time": "2021-06-16T06:30:23.816502Z",
     "start_time": "2021-06-16T06:30:23.796515Z"
    }
   },
   "outputs": [],
   "source": [
    "#Concatenate district info for all three states into one dataframe\n",
    "df_district = pd.concat([df_school_northeast, #df_school_south_atl, \n",
    "                         df_school_midwest, df_school_west])"
   ]
  },
  {
   "cell_type": "code",
   "execution_count": 94,
   "metadata": {
    "ExecuteTime": {
     "end_time": "2021-06-16T06:30:23.824701Z",
     "start_time": "2021-06-16T06:30:23.817973Z"
    }
   },
   "outputs": [
    {
     "data": {
      "text/plain": [
       "California       0.155548\n",
       "New York         0.073372\n",
       "Ohio             0.061990\n",
       "Minnesota        0.057910\n",
       "Michigan         0.056621\n",
       "Illinois         0.053400\n",
       "Pennsylvania     0.048246\n",
       "Arizona          0.046958\n",
       "Washington       0.040444\n",
       "Missouri         0.040086\n",
       "Wisconsin        0.036006\n",
       "New Jersey       0.033644\n",
       "Indiana          0.027058\n",
       "Massachusetts    0.024481\n",
       "Colorado         0.024481\n",
       "Connecticut      0.023336\n",
       "Iowa             0.022691\n",
       "Kansas           0.022047\n",
       "Nebraska         0.019900\n",
       "Oregon           0.017895\n",
       "New Mexico       0.013815\n",
       "Idaho            0.013099\n",
       "South Dakota     0.013028\n",
       "Utah             0.012742\n",
       "Montana          0.012241\n",
       "North Dakota     0.011954\n",
       "Nevada           0.008089\n",
       "Maine            0.007874\n",
       "New Hampshire    0.006729\n",
       "Wyoming          0.006013\n",
       "Vermont          0.004295\n",
       "Rhode Island     0.004009\n",
       "Name: state_name, dtype: float64"
      ]
     },
     "execution_count": 94,
     "metadata": {},
     "output_type": "execute_result"
    }
   ],
   "source": [
    "df_district['state_name'].value_counts(normalize=True, dropna=False)"
   ]
  },
  {
   "cell_type": "markdown",
   "metadata": {},
   "source": [
    "### Data Fields"
   ]
  },
  {
   "cell_type": "code",
   "execution_count": 95,
   "metadata": {
    "ExecuteTime": {
     "end_time": "2021-06-16T06:30:23.845220Z",
     "start_time": "2021-06-16T06:30:23.826166Z"
    },
    "scrolled": false
   },
   "outputs": [
    {
     "data": {
      "text/html": [
       "<div>\n",
       "<style scoped>\n",
       "    .dataframe tbody tr th:only-of-type {\n",
       "        vertical-align: middle;\n",
       "    }\n",
       "\n",
       "    .dataframe tbody tr th {\n",
       "        vertical-align: top;\n",
       "    }\n",
       "\n",
       "    .dataframe thead th {\n",
       "        text-align: right;\n",
       "    }\n",
       "</style>\n",
       "<table border=\"1\" class=\"dataframe\">\n",
       "  <thead>\n",
       "    <tr style=\"text-align: right;\">\n",
       "      <th></th>\n",
       "      <th>year</th>\n",
       "      <th>ncessch</th>\n",
       "      <th>school_name</th>\n",
       "      <th>state_name</th>\n",
       "      <th>lea_name</th>\n",
       "      <th>zip_location</th>\n",
       "      <th>urban_centric_locale</th>\n",
       "      <th>school_level</th>\n",
       "      <th>school_type</th>\n",
       "      <th>charter</th>\n",
       "      <th>...</th>\n",
       "      <th>enrl_algebra2</th>\n",
       "      <th>enrl_physics</th>\n",
       "      <th>enrl_geometry</th>\n",
       "      <th>instances_mech_restraint</th>\n",
       "      <th>instances_phys_restraint</th>\n",
       "      <th>instances_seclusion</th>\n",
       "      <th>students_mech_restraint</th>\n",
       "      <th>students_phys_restraint</th>\n",
       "      <th>students_seclusion</th>\n",
       "      <th>students_SAT_ACT</th>\n",
       "    </tr>\n",
       "  </thead>\n",
       "  <tbody>\n",
       "    <tr>\n",
       "      <th>0</th>\n",
       "      <td>2015</td>\n",
       "      <td>90000201136</td>\n",
       "      <td>A. I. Prince Technical High School</td>\n",
       "      <td>Connecticut</td>\n",
       "      <td>Connecticut Technical High Sc</td>\n",
       "      <td>6106</td>\n",
       "      <td>City, midsize</td>\n",
       "      <td>High</td>\n",
       "      <td>Vocational school</td>\n",
       "      <td>No</td>\n",
       "      <td>...</td>\n",
       "      <td>212.0</td>\n",
       "      <td>66.0</td>\n",
       "      <td>180.0</td>\n",
       "      <td>0.0</td>\n",
       "      <td>0.0</td>\n",
       "      <td>0.0</td>\n",
       "      <td>0.0</td>\n",
       "      <td>0.0</td>\n",
       "      <td>0.0</td>\n",
       "      <td>243.0</td>\n",
       "    </tr>\n",
       "    <tr>\n",
       "      <th>1</th>\n",
       "      <td>2015</td>\n",
       "      <td>90000201137</td>\n",
       "      <td>Bullard-Havens Technical High School</td>\n",
       "      <td>Connecticut</td>\n",
       "      <td>Connecticut Technical High Sc</td>\n",
       "      <td>6610</td>\n",
       "      <td>City, midsize</td>\n",
       "      <td>High</td>\n",
       "      <td>Vocational school</td>\n",
       "      <td>No</td>\n",
       "      <td>...</td>\n",
       "      <td>180.0</td>\n",
       "      <td>NaN</td>\n",
       "      <td>207.0</td>\n",
       "      <td>0.0</td>\n",
       "      <td>0.0</td>\n",
       "      <td>0.0</td>\n",
       "      <td>0.0</td>\n",
       "      <td>0.0</td>\n",
       "      <td>0.0</td>\n",
       "      <td>320.0</td>\n",
       "    </tr>\n",
       "    <tr>\n",
       "      <th>2</th>\n",
       "      <td>2015</td>\n",
       "      <td>90000201138</td>\n",
       "      <td>E. C. Goodwin Technical High School</td>\n",
       "      <td>Connecticut</td>\n",
       "      <td>Connecticut Technical High Sc</td>\n",
       "      <td>6053</td>\n",
       "      <td>Suburb, large</td>\n",
       "      <td>High</td>\n",
       "      <td>Vocational school</td>\n",
       "      <td>No</td>\n",
       "      <td>...</td>\n",
       "      <td>308.0</td>\n",
       "      <td>45.0</td>\n",
       "      <td>NaN</td>\n",
       "      <td>0.0</td>\n",
       "      <td>0.0</td>\n",
       "      <td>0.0</td>\n",
       "      <td>0.0</td>\n",
       "      <td>0.0</td>\n",
       "      <td>0.0</td>\n",
       "      <td>209.0</td>\n",
       "    </tr>\n",
       "    <tr>\n",
       "      <th>3</th>\n",
       "      <td>2015</td>\n",
       "      <td>90000201139</td>\n",
       "      <td>Ella T. Grasso Southeastern Technical High School</td>\n",
       "      <td>Connecticut</td>\n",
       "      <td>Connecticut Technical High Sc</td>\n",
       "      <td>6340</td>\n",
       "      <td>Rural, fringe</td>\n",
       "      <td>High</td>\n",
       "      <td>Vocational school</td>\n",
       "      <td>No</td>\n",
       "      <td>...</td>\n",
       "      <td>165.0</td>\n",
       "      <td>35.0</td>\n",
       "      <td>6.0</td>\n",
       "      <td>0.0</td>\n",
       "      <td>0.0</td>\n",
       "      <td>0.0</td>\n",
       "      <td>0.0</td>\n",
       "      <td>0.0</td>\n",
       "      <td>0.0</td>\n",
       "      <td>156.0</td>\n",
       "    </tr>\n",
       "    <tr>\n",
       "      <th>4</th>\n",
       "      <td>2015</td>\n",
       "      <td>90000201140</td>\n",
       "      <td>Eli Whitney Technical High School</td>\n",
       "      <td>Connecticut</td>\n",
       "      <td>Connecticut Technical High Sc</td>\n",
       "      <td>6514</td>\n",
       "      <td>Suburb, large</td>\n",
       "      <td>High</td>\n",
       "      <td>Vocational school</td>\n",
       "      <td>No</td>\n",
       "      <td>...</td>\n",
       "      <td>150.0</td>\n",
       "      <td>NaN</td>\n",
       "      <td>147.0</td>\n",
       "      <td>0.0</td>\n",
       "      <td>0.0</td>\n",
       "      <td>0.0</td>\n",
       "      <td>0.0</td>\n",
       "      <td>0.0</td>\n",
       "      <td>0.0</td>\n",
       "      <td>171.0</td>\n",
       "    </tr>\n",
       "  </tbody>\n",
       "</table>\n",
       "<p>5 rows × 64 columns</p>\n",
       "</div>"
      ],
      "text/plain": [
       "   year      ncessch                                        school_name  \\\n",
       "0  2015  90000201136                 A. I. Prince Technical High School   \n",
       "1  2015  90000201137               Bullard-Havens Technical High School   \n",
       "2  2015  90000201138                E. C. Goodwin Technical High School   \n",
       "3  2015  90000201139  Ella T. Grasso Southeastern Technical High School   \n",
       "4  2015  90000201140                  Eli Whitney Technical High School   \n",
       "\n",
       "    state_name                       lea_name zip_location  \\\n",
       "0  Connecticut  Connecticut Technical High Sc         6106   \n",
       "1  Connecticut  Connecticut Technical High Sc         6610   \n",
       "2  Connecticut  Connecticut Technical High Sc         6053   \n",
       "3  Connecticut  Connecticut Technical High Sc         6340   \n",
       "4  Connecticut  Connecticut Technical High Sc         6514   \n",
       "\n",
       "  urban_centric_locale school_level        school_type charter  ...  \\\n",
       "0        City, midsize         High  Vocational school      No  ...   \n",
       "1        City, midsize         High  Vocational school      No  ...   \n",
       "2        Suburb, large         High  Vocational school      No  ...   \n",
       "3        Rural, fringe         High  Vocational school      No  ...   \n",
       "4        Suburb, large         High  Vocational school      No  ...   \n",
       "\n",
       "  enrl_algebra2  enrl_physics enrl_geometry instances_mech_restraint  \\\n",
       "0         212.0          66.0         180.0                      0.0   \n",
       "1         180.0           NaN         207.0                      0.0   \n",
       "2         308.0          45.0           NaN                      0.0   \n",
       "3         165.0          35.0           6.0                      0.0   \n",
       "4         150.0           NaN         147.0                      0.0   \n",
       "\n",
       "  instances_phys_restraint  instances_seclusion students_mech_restraint  \\\n",
       "0                      0.0                  0.0                     0.0   \n",
       "1                      0.0                  0.0                     0.0   \n",
       "2                      0.0                  0.0                     0.0   \n",
       "3                      0.0                  0.0                     0.0   \n",
       "4                      0.0                  0.0                     0.0   \n",
       "\n",
       "  students_phys_restraint students_seclusion students_SAT_ACT  \n",
       "0                     0.0                0.0            243.0  \n",
       "1                     0.0                0.0            320.0  \n",
       "2                     0.0                0.0            209.0  \n",
       "3                     0.0                0.0            156.0  \n",
       "4                     0.0                0.0            171.0  \n",
       "\n",
       "[5 rows x 64 columns]"
      ]
     },
     "execution_count": 95,
     "metadata": {},
     "output_type": "execute_result"
    }
   ],
   "source": [
    "df_district.head()"
   ]
  },
  {
   "cell_type": "code",
   "execution_count": 96,
   "metadata": {
    "ExecuteTime": {
     "end_time": "2021-06-16T06:30:23.883271Z",
     "start_time": "2021-06-16T06:30:23.846720Z"
    },
    "scrolled": true
   },
   "outputs": [
    {
     "name": "stdout",
     "output_type": "stream",
     "text": [
      "<class 'pandas.core.frame.DataFrame'>\n",
      "Int64Index: 13970 entries, 0 to 4907\n",
      "Data columns (total 64 columns):\n",
      " #   Column                           Non-Null Count  Dtype  \n",
      "---  ------                           --------------  -----  \n",
      " 0   year                             13970 non-null  int64  \n",
      " 1   ncessch                          13970 non-null  int64  \n",
      " 2   school_name                      13970 non-null  object \n",
      " 3   state_name                       13970 non-null  object \n",
      " 4   lea_name                         13970 non-null  object \n",
      " 5   zip_location                     13970 non-null  object \n",
      " 6   urban_centric_locale             13945 non-null  object \n",
      " 7   school_level                     13970 non-null  object \n",
      " 8   school_type                      13970 non-null  object \n",
      " 9   charter                          13970 non-null  object \n",
      " 10  enrollment                       13970 non-null  object \n",
      " 11  read_test_num_valid              12263 non-null  float64\n",
      " 12  read_test_pct_prof_low           12263 non-null  object \n",
      " 13  read_test_pct_prof_high          12263 non-null  object \n",
      " 14  read_test_pct_prof_midpt         12263 non-null  object \n",
      " 15  math_test_num_valid              12236 non-null  float64\n",
      " 16  math_test_pct_prof_low           12236 non-null  object \n",
      " 17  math_test_pct_prof_high          12236 non-null  object \n",
      " 18  math_test_pct_prof_midpt         12236 non-null  object \n",
      " 19  students_susp_in_sch             12804 non-null  object \n",
      " 20  students_susp_out_sch_single     12804 non-null  object \n",
      " 21  students_susp_out_sch_multiple   12804 non-null  object \n",
      " 22  expulsions_no_ed_serv            12804 non-null  object \n",
      " 23  expulsions_with_ed_serv          12804 non-null  object \n",
      " 24  expulsions_zero_tolerance        12804 non-null  object \n",
      " 25  students_corporal_punish         12804 non-null  object \n",
      " 26  students_arrested                12804 non-null  object \n",
      " 27  students_referred_law_enforce    12804 non-null  object \n",
      " 28  transfers_alt_sch_disc           12804 non-null  float64\n",
      " 29  days_suspended                   12394 non-null  float64\n",
      " 30  suspensions_instances_preschool  12394 non-null  float64\n",
      " 31  suspensions_instances            12394 non-null  float64\n",
      " 32  corpinstances_preschool          12394 non-null  float64\n",
      " 33  corpinstances                    12394 non-null  float64\n",
      " 34  salaries_teachers                12394 non-null  object \n",
      " 35  cohort_num                       12514 non-null  float64\n",
      " 36  grad_rate_high                   12514 non-null  object \n",
      " 37  grad_rate_low                    12514 non-null  object \n",
      " 38  grad_rate_midpt                  12514 non-null  object \n",
      " 39  allegations_harass_sex           12804 non-null  object \n",
      " 40  allegations_harass_race          12804 non-null  object \n",
      " 41  allegations_harass_disability    12804 non-null  object \n",
      " 42  allegations_harass_orientation   12804 non-null  object \n",
      " 43  allegations_harass_religion      12804 non-null  object \n",
      " 44  students_disc_harass_dis         12804 non-null  float64\n",
      " 45  students_disc_harass_race        12804 non-null  float64\n",
      " 46  students_disc_harass_sex         12804 non-null  float64\n",
      " 47  students_report_harass_dis       12804 non-null  float64\n",
      " 48  students_report_harass_race      12804 non-null  float64\n",
      " 49  students_report_harass_sex       12804 non-null  float64\n",
      " 50  enrl_biology                     11263 non-null  float64\n",
      " 51  enrl_chemistry                   10031 non-null  float64\n",
      " 52  enrl_advanced_math               9129 non-null   float64\n",
      " 53  enrl_calculus                    7735 non-null   float64\n",
      " 54  enrl_algebra2                    10601 non-null  float64\n",
      " 55  enrl_physics                     8770 non-null   float64\n",
      " 56  enrl_geometry                    10953 non-null  float64\n",
      " 57  instances_mech_restraint         12326 non-null  float64\n",
      " 58  instances_phys_restraint         12729 non-null  float64\n",
      " 59  instances_seclusion              12729 non-null  float64\n",
      " 60  students_mech_restraint          12331 non-null  float64\n",
      " 61  students_phys_restraint          12715 non-null  float64\n",
      " 62  students_seclusion               12730 non-null  float64\n",
      " 63  students_SAT_ACT                 12804 non-null  float64\n",
      "dtypes: float64(29), int64(2), object(33)\n",
      "memory usage: 6.9+ MB\n"
     ]
    }
   ],
   "source": [
    "df_district.info()"
   ]
  },
  {
   "cell_type": "code",
   "execution_count": 97,
   "metadata": {
    "ExecuteTime": {
     "end_time": "2021-06-16T06:30:23.920450Z",
     "start_time": "2021-06-16T06:30:23.884843Z"
    },
    "scrolled": true
   },
   "outputs": [
    {
     "data": {
      "text/plain": [
       "'percent of nulls in df_district is 10%'"
      ]
     },
     "execution_count": 97,
     "metadata": {},
     "output_type": "execute_result"
    }
   ],
   "source": [
    "#What proportion of our data frame is nulls?\n",
    "percent_null_df(df_district,'df_district')"
   ]
  },
  {
   "cell_type": "markdown",
   "metadata": {},
   "source": [
    "Not bad. Let's deal with that 4%"
   ]
  },
  {
   "cell_type": "markdown",
   "metadata": {},
   "source": [
    "#### Data Field Cleanup"
   ]
  },
  {
   "cell_type": "code",
   "execution_count": 98,
   "metadata": {
    "ExecuteTime": {
     "end_time": "2021-06-16T06:30:23.924290Z",
     "start_time": "2021-06-16T06:30:23.922252Z"
    }
   },
   "outputs": [],
   "source": [
    "column_names = list(df_district.columns)"
   ]
  },
  {
   "cell_type": "code",
   "execution_count": 99,
   "metadata": {
    "ExecuteTime": {
     "end_time": "2021-06-16T06:30:23.927923Z",
     "start_time": "2021-06-16T06:30:23.925906Z"
    }
   },
   "outputs": [],
   "source": [
    "categorical = ['year','leaid','leaname','state_name','state_leaid','city_location',\n",
    "               'urban_centric_locale','agency_type']\n"
   ]
  },
  {
   "cell_type": "code",
   "execution_count": 100,
   "metadata": {
    "ExecuteTime": {
     "end_time": "2021-06-16T06:30:23.931572Z",
     "start_time": "2021-06-16T06:30:23.929217Z"
    }
   },
   "outputs": [],
   "source": [
    "for ele in categorical:\n",
    "    try:\n",
    "        column_names.remove(ele)\n",
    "    except ValueError:\n",
    "        pass"
   ]
  },
  {
   "cell_type": "code",
   "execution_count": 101,
   "metadata": {
    "ExecuteTime": {
     "end_time": "2021-06-16T06:30:23.934689Z",
     "start_time": "2021-06-16T06:30:23.932845Z"
    }
   },
   "outputs": [],
   "source": [
    "numerical = column_names"
   ]
  },
  {
   "cell_type": "code",
   "execution_count": 102,
   "metadata": {
    "ExecuteTime": {
     "end_time": "2021-06-16T06:30:23.937928Z",
     "start_time": "2021-06-16T06:30:23.936006Z"
    }
   },
   "outputs": [],
   "source": [
    "column_names = list(df_district.columns)"
   ]
  },
  {
   "cell_type": "code",
   "execution_count": 103,
   "metadata": {
    "ExecuteTime": {
     "end_time": "2021-06-16T06:30:23.967349Z",
     "start_time": "2021-06-16T06:30:23.939615Z"
    }
   },
   "outputs": [],
   "source": [
    "for c in column_names:\n",
    "    df_district[c].replace('Suppressed data', np.NaN,inplace =True)"
   ]
  },
  {
   "cell_type": "code",
   "execution_count": 104,
   "metadata": {
    "ExecuteTime": {
     "end_time": "2021-06-16T06:30:23.992917Z",
     "start_time": "2021-06-16T06:30:23.968603Z"
    }
   },
   "outputs": [],
   "source": [
    "for c in column_names:\n",
    "    df_district[c].replace('Not applicable', np.NaN,inplace =True)"
   ]
  },
  {
   "cell_type": "code",
   "execution_count": 105,
   "metadata": {
    "ExecuteTime": {
     "end_time": "2021-06-16T06:30:24.019263Z",
     "start_time": "2021-06-16T06:30:23.994523Z"
    }
   },
   "outputs": [],
   "source": [
    "for c in column_names:\n",
    "    df_district[c].replace('Missing/not reported', np.NaN,inplace =True)"
   ]
  },
  {
   "cell_type": "markdown",
   "metadata": {},
   "source": [
    "### Columns to drop"
   ]
  },
  {
   "cell_type": "code",
   "execution_count": 106,
   "metadata": {
    "ExecuteTime": {
     "end_time": "2021-06-16T06:30:24.043918Z",
     "start_time": "2021-06-16T06:30:24.020519Z"
    }
   },
   "outputs": [
    {
     "name": "stdout",
     "output_type": "stream",
     "text": [
      "<class 'pandas.core.frame.DataFrame'>\n",
      "Int64Index: 13970 entries, 0 to 4907\n",
      "Data columns (total 64 columns):\n",
      " #   Column                           Non-Null Count  Dtype  \n",
      "---  ------                           --------------  -----  \n",
      " 0   year                             13970 non-null  int64  \n",
      " 1   ncessch                          13970 non-null  int64  \n",
      " 2   school_name                      13970 non-null  object \n",
      " 3   state_name                       13970 non-null  object \n",
      " 4   lea_name                         13970 non-null  object \n",
      " 5   zip_location                     13212 non-null  object \n",
      " 6   urban_centric_locale             13945 non-null  object \n",
      " 7   school_level                     13970 non-null  object \n",
      " 8   school_type                      13970 non-null  object \n",
      " 9   charter                          13294 non-null  object \n",
      " 10  enrollment                       13700 non-null  object \n",
      " 11  read_test_num_valid              12263 non-null  float64\n",
      " 12  read_test_pct_prof_low           11738 non-null  object \n",
      " 13  read_test_pct_prof_high          11738 non-null  object \n",
      " 14  read_test_pct_prof_midpt         11738 non-null  object \n",
      " 15  math_test_num_valid              12236 non-null  float64\n",
      " 16  math_test_pct_prof_low           11712 non-null  object \n",
      " 17  math_test_pct_prof_high          11712 non-null  object \n",
      " 18  math_test_pct_prof_midpt         11712 non-null  object \n",
      " 19  students_susp_in_sch             12680 non-null  object \n",
      " 20  students_susp_out_sch_single     12772 non-null  object \n",
      " 21  students_susp_out_sch_multiple   12772 non-null  object \n",
      " 22  expulsions_no_ed_serv            12772 non-null  object \n",
      " 23  expulsions_with_ed_serv          12680 non-null  object \n",
      " 24  expulsions_zero_tolerance        12772 non-null  object \n",
      " 25  students_corporal_punish         66 non-null     object \n",
      " 26  students_arrested                12253 non-null  object \n",
      " 27  students_referred_law_enforce    12676 non-null  object \n",
      " 28  transfers_alt_sch_disc           12804 non-null  float64\n",
      " 29  days_suspended                   12394 non-null  float64\n",
      " 30  suspensions_instances_preschool  12394 non-null  float64\n",
      " 31  suspensions_instances            12394 non-null  float64\n",
      " 32  corpinstances_preschool          12394 non-null  float64\n",
      " 33  corpinstances                    12394 non-null  float64\n",
      " 34  salaries_teachers                12106 non-null  object \n",
      " 35  cohort_num                       12514 non-null  float64\n",
      " 36  grad_rate_high                   12099 non-null  object \n",
      " 37  grad_rate_low                    12099 non-null  object \n",
      " 38  grad_rate_midpt                  12099 non-null  object \n",
      " 39  allegations_harass_sex           12720 non-null  object \n",
      " 40  allegations_harass_race          12720 non-null  object \n",
      " 41  allegations_harass_disability    12720 non-null  object \n",
      " 42  allegations_harass_orientation   12720 non-null  object \n",
      " 43  allegations_harass_religion      12720 non-null  object \n",
      " 44  students_disc_harass_dis         12804 non-null  float64\n",
      " 45  students_disc_harass_race        12804 non-null  float64\n",
      " 46  students_disc_harass_sex         12804 non-null  float64\n",
      " 47  students_report_harass_dis       12804 non-null  float64\n",
      " 48  students_report_harass_race      12804 non-null  float64\n",
      " 49  students_report_harass_sex       12804 non-null  float64\n",
      " 50  enrl_biology                     11263 non-null  float64\n",
      " 51  enrl_chemistry                   10031 non-null  float64\n",
      " 52  enrl_advanced_math               9129 non-null   float64\n",
      " 53  enrl_calculus                    7735 non-null   float64\n",
      " 54  enrl_algebra2                    10601 non-null  float64\n",
      " 55  enrl_physics                     8770 non-null   float64\n",
      " 56  enrl_geometry                    10953 non-null  float64\n",
      " 57  instances_mech_restraint         12326 non-null  float64\n",
      " 58  instances_phys_restraint         12729 non-null  float64\n",
      " 59  instances_seclusion              12729 non-null  float64\n",
      " 60  students_mech_restraint          12331 non-null  float64\n",
      " 61  students_phys_restraint          12715 non-null  float64\n",
      " 62  students_seclusion               12730 non-null  float64\n",
      " 63  students_SAT_ACT                 12804 non-null  float64\n",
      "dtypes: float64(29), int64(2), object(33)\n",
      "memory usage: 6.9+ MB\n"
     ]
    }
   ],
   "source": [
    "df_district.info()"
   ]
  },
  {
   "cell_type": "code",
   "execution_count": 107,
   "metadata": {
    "ExecuteTime": {
     "end_time": "2021-06-16T06:30:24.051653Z",
     "start_time": "2021-06-16T06:30:24.045912Z"
    }
   },
   "outputs": [],
   "source": [
    "df_district = df_district.drop([], axis=1)"
   ]
  },
  {
   "cell_type": "code",
   "execution_count": 108,
   "metadata": {
    "ExecuteTime": {
     "end_time": "2021-06-16T06:30:24.304291Z",
     "start_time": "2021-06-16T06:30:24.053413Z"
    }
   },
   "outputs": [
    {
     "ename": "KeyError",
     "evalue": "\"['est_population_total' 'est_population_5_17_poverty'\\n 'est_population_5_17_poverty_pct'] not found in axis\"",
     "output_type": "error",
     "traceback": [
      "\u001b[0;31m---------------------------------------------------------------------------\u001b[0m",
      "\u001b[0;31mKeyError\u001b[0m                                  Traceback (most recent call last)",
      "\u001b[0;32m<ipython-input-108-ef210cc6b9f3>\u001b[0m in \u001b[0;36m<module>\u001b[0;34m\u001b[0m\n\u001b[1;32m      1\u001b[0m \u001b[0;31m# Our population columns have the highest proportion of nulls\u001b[0m\u001b[0;34m\u001b[0m\u001b[0;34m\u001b[0m\u001b[0;34m\u001b[0m\u001b[0m\n\u001b[0;32m----> 2\u001b[0;31m df_district = df_district.drop(['est_population_total','est_population_5_17_poverty',\n\u001b[0m\u001b[1;32m      3\u001b[0m                            'est_population_5_17_poverty_pct'], axis=1)\n",
      "\u001b[0;32m~/opt/anaconda3/lib/python3.8/site-packages/pandas/core/frame.py\u001b[0m in \u001b[0;36mdrop\u001b[0;34m(self, labels, axis, index, columns, level, inplace, errors)\u001b[0m\n\u001b[1;32m   4161\u001b[0m                 \u001b[0mweight\u001b[0m  \u001b[0;36m1.0\u001b[0m     \u001b[0;36m0.8\u001b[0m\u001b[0;34m\u001b[0m\u001b[0;34m\u001b[0m\u001b[0m\n\u001b[1;32m   4162\u001b[0m         \"\"\"\n\u001b[0;32m-> 4163\u001b[0;31m         return super().drop(\n\u001b[0m\u001b[1;32m   4164\u001b[0m             \u001b[0mlabels\u001b[0m\u001b[0;34m=\u001b[0m\u001b[0mlabels\u001b[0m\u001b[0;34m,\u001b[0m\u001b[0;34m\u001b[0m\u001b[0;34m\u001b[0m\u001b[0m\n\u001b[1;32m   4165\u001b[0m             \u001b[0maxis\u001b[0m\u001b[0;34m=\u001b[0m\u001b[0maxis\u001b[0m\u001b[0;34m,\u001b[0m\u001b[0;34m\u001b[0m\u001b[0;34m\u001b[0m\u001b[0m\n",
      "\u001b[0;32m~/opt/anaconda3/lib/python3.8/site-packages/pandas/core/generic.py\u001b[0m in \u001b[0;36mdrop\u001b[0;34m(self, labels, axis, index, columns, level, inplace, errors)\u001b[0m\n\u001b[1;32m   3885\u001b[0m         \u001b[0;32mfor\u001b[0m \u001b[0maxis\u001b[0m\u001b[0;34m,\u001b[0m \u001b[0mlabels\u001b[0m \u001b[0;32min\u001b[0m \u001b[0maxes\u001b[0m\u001b[0;34m.\u001b[0m\u001b[0mitems\u001b[0m\u001b[0;34m(\u001b[0m\u001b[0;34m)\u001b[0m\u001b[0;34m:\u001b[0m\u001b[0;34m\u001b[0m\u001b[0;34m\u001b[0m\u001b[0m\n\u001b[1;32m   3886\u001b[0m             \u001b[0;32mif\u001b[0m \u001b[0mlabels\u001b[0m \u001b[0;32mis\u001b[0m \u001b[0;32mnot\u001b[0m \u001b[0;32mNone\u001b[0m\u001b[0;34m:\u001b[0m\u001b[0;34m\u001b[0m\u001b[0;34m\u001b[0m\u001b[0m\n\u001b[0;32m-> 3887\u001b[0;31m                 \u001b[0mobj\u001b[0m \u001b[0;34m=\u001b[0m \u001b[0mobj\u001b[0m\u001b[0;34m.\u001b[0m\u001b[0m_drop_axis\u001b[0m\u001b[0;34m(\u001b[0m\u001b[0mlabels\u001b[0m\u001b[0;34m,\u001b[0m \u001b[0maxis\u001b[0m\u001b[0;34m,\u001b[0m \u001b[0mlevel\u001b[0m\u001b[0;34m=\u001b[0m\u001b[0mlevel\u001b[0m\u001b[0;34m,\u001b[0m \u001b[0merrors\u001b[0m\u001b[0;34m=\u001b[0m\u001b[0merrors\u001b[0m\u001b[0;34m)\u001b[0m\u001b[0;34m\u001b[0m\u001b[0;34m\u001b[0m\u001b[0m\n\u001b[0m\u001b[1;32m   3888\u001b[0m \u001b[0;34m\u001b[0m\u001b[0m\n\u001b[1;32m   3889\u001b[0m         \u001b[0;32mif\u001b[0m \u001b[0minplace\u001b[0m\u001b[0;34m:\u001b[0m\u001b[0;34m\u001b[0m\u001b[0;34m\u001b[0m\u001b[0m\n",
      "\u001b[0;32m~/opt/anaconda3/lib/python3.8/site-packages/pandas/core/generic.py\u001b[0m in \u001b[0;36m_drop_axis\u001b[0;34m(self, labels, axis, level, errors)\u001b[0m\n\u001b[1;32m   3919\u001b[0m                 \u001b[0mnew_axis\u001b[0m \u001b[0;34m=\u001b[0m \u001b[0maxis\u001b[0m\u001b[0;34m.\u001b[0m\u001b[0mdrop\u001b[0m\u001b[0;34m(\u001b[0m\u001b[0mlabels\u001b[0m\u001b[0;34m,\u001b[0m \u001b[0mlevel\u001b[0m\u001b[0;34m=\u001b[0m\u001b[0mlevel\u001b[0m\u001b[0;34m,\u001b[0m \u001b[0merrors\u001b[0m\u001b[0;34m=\u001b[0m\u001b[0merrors\u001b[0m\u001b[0;34m)\u001b[0m\u001b[0;34m\u001b[0m\u001b[0;34m\u001b[0m\u001b[0m\n\u001b[1;32m   3920\u001b[0m             \u001b[0;32melse\u001b[0m\u001b[0;34m:\u001b[0m\u001b[0;34m\u001b[0m\u001b[0;34m\u001b[0m\u001b[0m\n\u001b[0;32m-> 3921\u001b[0;31m                 \u001b[0mnew_axis\u001b[0m \u001b[0;34m=\u001b[0m \u001b[0maxis\u001b[0m\u001b[0;34m.\u001b[0m\u001b[0mdrop\u001b[0m\u001b[0;34m(\u001b[0m\u001b[0mlabels\u001b[0m\u001b[0;34m,\u001b[0m \u001b[0merrors\u001b[0m\u001b[0;34m=\u001b[0m\u001b[0merrors\u001b[0m\u001b[0;34m)\u001b[0m\u001b[0;34m\u001b[0m\u001b[0;34m\u001b[0m\u001b[0m\n\u001b[0m\u001b[1;32m   3922\u001b[0m             \u001b[0mresult\u001b[0m \u001b[0;34m=\u001b[0m \u001b[0mself\u001b[0m\u001b[0;34m.\u001b[0m\u001b[0mreindex\u001b[0m\u001b[0;34m(\u001b[0m\u001b[0;34m**\u001b[0m\u001b[0;34m{\u001b[0m\u001b[0maxis_name\u001b[0m\u001b[0;34m:\u001b[0m \u001b[0mnew_axis\u001b[0m\u001b[0;34m}\u001b[0m\u001b[0;34m)\u001b[0m\u001b[0;34m\u001b[0m\u001b[0;34m\u001b[0m\u001b[0m\n\u001b[1;32m   3923\u001b[0m \u001b[0;34m\u001b[0m\u001b[0m\n",
      "\u001b[0;32m~/opt/anaconda3/lib/python3.8/site-packages/pandas/core/indexes/base.py\u001b[0m in \u001b[0;36mdrop\u001b[0;34m(self, labels, errors)\u001b[0m\n\u001b[1;32m   5280\u001b[0m         \u001b[0;32mif\u001b[0m \u001b[0mmask\u001b[0m\u001b[0;34m.\u001b[0m\u001b[0many\u001b[0m\u001b[0;34m(\u001b[0m\u001b[0;34m)\u001b[0m\u001b[0;34m:\u001b[0m\u001b[0;34m\u001b[0m\u001b[0;34m\u001b[0m\u001b[0m\n\u001b[1;32m   5281\u001b[0m             \u001b[0;32mif\u001b[0m \u001b[0merrors\u001b[0m \u001b[0;34m!=\u001b[0m \u001b[0;34m\"ignore\"\u001b[0m\u001b[0;34m:\u001b[0m\u001b[0;34m\u001b[0m\u001b[0;34m\u001b[0m\u001b[0m\n\u001b[0;32m-> 5282\u001b[0;31m                 \u001b[0;32mraise\u001b[0m \u001b[0mKeyError\u001b[0m\u001b[0;34m(\u001b[0m\u001b[0;34mf\"{labels[mask]} not found in axis\"\u001b[0m\u001b[0;34m)\u001b[0m\u001b[0;34m\u001b[0m\u001b[0;34m\u001b[0m\u001b[0m\n\u001b[0m\u001b[1;32m   5283\u001b[0m             \u001b[0mindexer\u001b[0m \u001b[0;34m=\u001b[0m \u001b[0mindexer\u001b[0m\u001b[0;34m[\u001b[0m\u001b[0;34m~\u001b[0m\u001b[0mmask\u001b[0m\u001b[0;34m]\u001b[0m\u001b[0;34m\u001b[0m\u001b[0;34m\u001b[0m\u001b[0m\n\u001b[1;32m   5284\u001b[0m         \u001b[0;32mreturn\u001b[0m \u001b[0mself\u001b[0m\u001b[0;34m.\u001b[0m\u001b[0mdelete\u001b[0m\u001b[0;34m(\u001b[0m\u001b[0mindexer\u001b[0m\u001b[0;34m)\u001b[0m\u001b[0;34m\u001b[0m\u001b[0;34m\u001b[0m\u001b[0m\n",
      "\u001b[0;31mKeyError\u001b[0m: \"['est_population_total' 'est_population_5_17_poverty'\\n 'est_population_5_17_poverty_pct'] not found in axis\""
     ]
    }
   ],
   "source": [
    "# Our population columns have the highest proportion of nulls\n",
    "df_district = df_district.drop(['est_population_total','est_population_5_17_poverty',\n",
    "                           'est_population_5_17_poverty_pct'], axis=1)"
   ]
  },
  {
   "cell_type": "code",
   "execution_count": null,
   "metadata": {
    "ExecuteTime": {
     "end_time": "2021-06-16T06:30:24.307601Z",
     "start_time": "2021-06-16T06:30:20.152Z"
    }
   },
   "outputs": [],
   "source": [
    "# Drop grad rates: we don't want to delete any districts and are using grad rate at school level\n",
    "df_district = df_district.drop(['grad_rate_high','grad_rate_low',\n",
    "                                'grad_rate_midpt','cohort_num'], axis=1)"
   ]
  },
  {
   "cell_type": "code",
   "execution_count": null,
   "metadata": {
    "ExecuteTime": {
     "end_time": "2021-06-16T06:30:24.308597Z",
     "start_time": "2021-06-16T06:30:20.156Z"
    }
   },
   "outputs": [],
   "source": [
    "df_district['enrollment'].value_counts(normalize=True, dropna=False)"
   ]
  },
  {
   "cell_type": "code",
   "execution_count": null,
   "metadata": {
    "ExecuteTime": {
     "end_time": "2021-06-16T06:30:24.309542Z",
     "start_time": "2021-06-16T06:30:20.160Z"
    }
   },
   "outputs": [],
   "source": [
    "# Enrollment is mostly zeros or NaNs \n",
    "df_district = df_district.drop(['enrollment'], axis=1)"
   ]
  },
  {
   "cell_type": "code",
   "execution_count": null,
   "metadata": {
    "ExecuteTime": {
     "end_time": "2021-06-16T06:30:24.310647Z",
     "start_time": "2021-06-16T06:30:20.164Z"
    }
   },
   "outputs": [],
   "source": [
    "# year is the same for all rows, state_name same in school data, state_leaid unnecessary\n",
    "df_district = df_district.drop(['year','state_name','state_leaid'], axis=1)"
   ]
  },
  {
   "cell_type": "code",
   "execution_count": null,
   "metadata": {
    "ExecuteTime": {
     "end_time": "2021-06-16T06:30:24.311738Z",
     "start_time": "2021-06-16T06:30:20.167Z"
    },
    "scrolled": true
   },
   "outputs": [],
   "source": [
    "#What proportion of our data frame is nulls?\n",
    "percent_null_df(df_district,'df_district')"
   ]
  },
  {
   "cell_type": "markdown",
   "metadata": {},
   "source": [
    "### english_language_learners"
   ]
  },
  {
   "cell_type": "code",
   "execution_count": null,
   "metadata": {
    "ExecuteTime": {
     "end_time": "2021-06-16T06:30:24.312927Z",
     "start_time": "2021-06-16T06:30:20.172Z"
    },
    "scrolled": true
   },
   "outputs": [],
   "source": [
    "df_district['english_language_learners'].value_counts(normalize=True, dropna=False)"
   ]
  },
  {
   "cell_type": "code",
   "execution_count": null,
   "metadata": {
    "ExecuteTime": {
     "end_time": "2021-06-16T06:30:24.313974Z",
     "start_time": "2021-06-16T06:30:20.176Z"
    }
   },
   "outputs": [],
   "source": [
    "ell = ['english_language_learners']"
   ]
  },
  {
   "cell_type": "code",
   "execution_count": null,
   "metadata": {
    "ExecuteTime": {
     "end_time": "2021-06-16T06:30:24.315087Z",
     "start_time": "2021-06-16T06:30:20.179Z"
    }
   },
   "outputs": [],
   "source": [
    "for c in ell:\n",
    "    df_district[c].replace('Missing/not reported', np.NaN,inplace =True)"
   ]
  },
  {
   "cell_type": "code",
   "execution_count": null,
   "metadata": {
    "ExecuteTime": {
     "end_time": "2021-06-16T06:30:24.316112Z",
     "start_time": "2021-06-16T06:30:20.183Z"
    },
    "scrolled": false
   },
   "outputs": [],
   "source": [
    "df_district['english_language_learners'].value_counts(normalize=True, dropna=False)"
   ]
  },
  {
   "cell_type": "code",
   "execution_count": null,
   "metadata": {
    "ExecuteTime": {
     "end_time": "2021-06-16T06:30:24.317090Z",
     "start_time": "2021-06-16T06:30:20.187Z"
    }
   },
   "outputs": [],
   "source": [
    "# fill na with median\n",
    "df_district['english_language_learners'] = df_district['english_language_learners'].fillna(df_district['english_language_learners'].median())"
   ]
  },
  {
   "cell_type": "code",
   "execution_count": null,
   "metadata": {
    "ExecuteTime": {
     "end_time": "2021-06-16T06:30:24.317958Z",
     "start_time": "2021-06-16T06:30:20.191Z"
    }
   },
   "outputs": [],
   "source": [
    "df_district['english_language_learners'].value_counts(normalize=True, dropna=False)"
   ]
  },
  {
   "cell_type": "code",
   "execution_count": null,
   "metadata": {
    "ExecuteTime": {
     "end_time": "2021-06-16T06:30:24.318979Z",
     "start_time": "2021-06-16T06:30:20.195Z"
    },
    "scrolled": true
   },
   "outputs": [],
   "source": [
    "df_district.info()"
   ]
  },
  {
   "cell_type": "code",
   "execution_count": null,
   "metadata": {
    "ExecuteTime": {
     "end_time": "2021-06-16T06:30:24.319837Z",
     "start_time": "2021-06-16T06:30:20.199Z"
    }
   },
   "outputs": [],
   "source": [
    "df_district = df_district.drop_duplicates(subset=['lea_name'])"
   ]
  },
  {
   "cell_type": "markdown",
   "metadata": {},
   "source": [
    "# Join Datasets"
   ]
  },
  {
   "cell_type": "code",
   "execution_count": null,
   "metadata": {
    "ExecuteTime": {
     "end_time": "2021-06-16T06:30:24.320796Z",
     "start_time": "2021-06-16T06:30:20.203Z"
    }
   },
   "outputs": [],
   "source": [
    "df_school.shape"
   ]
  },
  {
   "cell_type": "code",
   "execution_count": null,
   "metadata": {
    "ExecuteTime": {
     "end_time": "2021-06-16T06:30:24.321717Z",
     "start_time": "2021-06-16T06:30:20.207Z"
    },
    "scrolled": true
   },
   "outputs": [],
   "source": [
    "df_district.shape"
   ]
  },
  {
   "cell_type": "code",
   "execution_count": null,
   "metadata": {
    "ExecuteTime": {
     "end_time": "2021-06-16T06:30:24.322859Z",
     "start_time": "2021-06-16T06:30:20.211Z"
    }
   },
   "outputs": [],
   "source": [
    "# Columns to drop \n",
    "df_school = df_school.drop(['ncessch','school_level','school_type','school_name','suspensions_instances_preschool'], axis=1)"
   ]
  },
  {
   "cell_type": "code",
   "execution_count": null,
   "metadata": {
    "ExecuteTime": {
     "end_time": "2021-06-16T06:30:24.323816Z",
     "start_time": "2021-06-16T06:30:20.215Z"
    },
    "scrolled": true
   },
   "outputs": [],
   "source": [
    "df_train = df_school.merge(df_district, on = 'lea_name')\n",
    "df_train.head()"
   ]
  },
  {
   "cell_type": "code",
   "execution_count": null,
   "metadata": {
    "ExecuteTime": {
     "end_time": "2021-06-16T06:30:24.324763Z",
     "start_time": "2021-06-16T06:30:20.219Z"
    },
    "scrolled": true
   },
   "outputs": [],
   "source": [
    "df_train.info()"
   ]
  },
  {
   "cell_type": "code",
   "execution_count": null,
   "metadata": {
    "ExecuteTime": {
     "end_time": "2021-06-16T06:30:24.325735Z",
     "start_time": "2021-06-16T06:30:20.222Z"
    },
    "scrolled": true
   },
   "outputs": [],
   "source": [
    "# Columns to drop - we don't need these anymore \n",
    "df_train = df_train.drop(['leaid','lea_name'], axis=1)"
   ]
  },
  {
   "cell_type": "markdown",
   "metadata": {},
   "source": [
    "## Final Check for NaNs"
   ]
  },
  {
   "cell_type": "code",
   "execution_count": null,
   "metadata": {
    "ExecuteTime": {
     "end_time": "2021-06-16T06:30:24.326604Z",
     "start_time": "2021-06-16T06:30:20.227Z"
    }
   },
   "outputs": [],
   "source": [
    "nan_values = df_train.isna()\n",
    "nan_columns = nan_values.any()"
   ]
  },
  {
   "cell_type": "code",
   "execution_count": null,
   "metadata": {
    "ExecuteTime": {
     "end_time": "2021-06-16T06:30:24.327467Z",
     "start_time": "2021-06-16T06:30:20.231Z"
    }
   },
   "outputs": [],
   "source": [
    "columns_with_nan = df_train.columns[nan_columns].tolist()\n",
    "print(columns_with_nan)"
   ]
  },
  {
   "cell_type": "markdown",
   "metadata": {},
   "source": [
    "We still have NaN values in our numerical fields"
   ]
  },
  {
   "cell_type": "markdown",
   "metadata": {},
   "source": [
    "# Numeric Columns - cleanup"
   ]
  },
  {
   "cell_type": "code",
   "execution_count": null,
   "metadata": {
    "ExecuteTime": {
     "end_time": "2021-06-16T06:30:24.328407Z",
     "start_time": "2021-06-16T06:30:20.237Z"
    }
   },
   "outputs": [],
   "source": [
    "col_names_category = ['state_name','urban_centric_locale_x','city_location',\n",
    "                      'urban_centric_locale_y','agency_type','grad_rate_midpt']"
   ]
  },
  {
   "cell_type": "code",
   "execution_count": null,
   "metadata": {
    "ExecuteTime": {
     "end_time": "2021-06-16T06:30:24.330571Z",
     "start_time": "2021-06-16T06:30:20.241Z"
    }
   },
   "outputs": [],
   "source": [
    "col_names = list(df_train.columns)"
   ]
  },
  {
   "cell_type": "code",
   "execution_count": null,
   "metadata": {
    "ExecuteTime": {
     "end_time": "2021-06-16T06:30:24.331484Z",
     "start_time": "2021-06-16T06:30:20.245Z"
    }
   },
   "outputs": [],
   "source": [
    "num_col_names = set(col_names) - set(col_names_category)\n",
    "num_col_names = list(num_col_names)"
   ]
  },
  {
   "cell_type": "code",
   "execution_count": null,
   "metadata": {
    "ExecuteTime": {
     "end_time": "2021-06-16T06:30:24.332426Z",
     "start_time": "2021-06-16T06:30:20.248Z"
    }
   },
   "outputs": [],
   "source": [
    "df_train[num_col_names] = df_train[num_col_names].fillna(df_train[num_col_names].median())"
   ]
  },
  {
   "cell_type": "code",
   "execution_count": null,
   "metadata": {
    "ExecuteTime": {
     "end_time": "2021-06-16T06:30:24.333356Z",
     "start_time": "2021-06-16T06:30:20.252Z"
    },
    "scrolled": true
   },
   "outputs": [],
   "source": [
    "df_train[num_col_names] = df_train[num_col_names].astype(str).astype(float).astype(int)"
   ]
  },
  {
   "cell_type": "markdown",
   "metadata": {},
   "source": [
    "# Category Columns - cleanup"
   ]
  },
  {
   "cell_type": "code",
   "execution_count": null,
   "metadata": {
    "ExecuteTime": {
     "end_time": "2021-06-16T06:30:24.334268Z",
     "start_time": "2021-06-16T06:30:20.257Z"
    }
   },
   "outputs": [],
   "source": [
    "df_train[col_names_category] = df_train[col_names_category].astype('category')"
   ]
  },
  {
   "cell_type": "code",
   "execution_count": null,
   "metadata": {
    "ExecuteTime": {
     "end_time": "2021-06-16T06:30:24.335064Z",
     "start_time": "2021-06-16T06:30:20.260Z"
    }
   },
   "outputs": [],
   "source": [
    "col_names_ohe = ['state_name','urban_centric_locale_x','city_location',\n",
    "                 'urban_centric_locale_y','agency_type']"
   ]
  },
  {
   "cell_type": "code",
   "execution_count": null,
   "metadata": {
    "ExecuteTime": {
     "end_time": "2021-06-16T06:30:24.336038Z",
     "start_time": "2021-06-16T06:30:20.264Z"
    }
   },
   "outputs": [],
   "source": [
    "df_train[col_names_ohe] = df_train[col_names_ohe].astype(str)"
   ]
  },
  {
   "cell_type": "code",
   "execution_count": null,
   "metadata": {
    "ExecuteTime": {
     "end_time": "2021-06-16T06:30:24.336963Z",
     "start_time": "2021-06-16T06:30:20.268Z"
    },
    "scrolled": true
   },
   "outputs": [],
   "source": [
    "df_train.info()"
   ]
  },
  {
   "cell_type": "markdown",
   "metadata": {},
   "source": [
    "# Train Test Split"
   ]
  },
  {
   "cell_type": "code",
   "execution_count": null,
   "metadata": {
    "ExecuteTime": {
     "end_time": "2021-06-16T06:30:24.337868Z",
     "start_time": "2021-06-16T06:30:20.272Z"
    },
    "scrolled": true
   },
   "outputs": [],
   "source": [
    "X=df_train.drop(columns = ['grad_rate_midpt']) # Features\n",
    "y=df_train['grad_rate_midpt'] #Target"
   ]
  },
  {
   "cell_type": "code",
   "execution_count": null,
   "metadata": {
    "ExecuteTime": {
     "end_time": "2021-06-16T06:30:24.338796Z",
     "start_time": "2021-06-16T06:30:20.276Z"
    }
   },
   "outputs": [],
   "source": [
    "X_train, X_test, y_train, y_test = train_test_split(X, y, test_size=0.3) # 70% training and 30% test"
   ]
  },
  {
   "cell_type": "code",
   "execution_count": null,
   "metadata": {
    "ExecuteTime": {
     "end_time": "2021-06-16T06:30:24.339716Z",
     "start_time": "2021-06-16T06:30:20.280Z"
    },
    "scrolled": false
   },
   "outputs": [],
   "source": [
    "X_train"
   ]
  },
  {
   "cell_type": "code",
   "execution_count": null,
   "metadata": {
    "ExecuteTime": {
     "end_time": "2021-06-16T06:30:24.340634Z",
     "start_time": "2021-06-16T06:30:20.283Z"
    }
   },
   "outputs": [],
   "source": [
    "X_train.shape"
   ]
  },
  {
   "cell_type": "code",
   "execution_count": null,
   "metadata": {
    "ExecuteTime": {
     "end_time": "2021-06-16T06:30:24.341559Z",
     "start_time": "2021-06-16T06:30:20.287Z"
    },
    "scrolled": false
   },
   "outputs": [],
   "source": [
    "X_test.shape"
   ]
  },
  {
   "cell_type": "markdown",
   "metadata": {},
   "source": [
    "# Encode Features"
   ]
  },
  {
   "cell_type": "code",
   "execution_count": null,
   "metadata": {
    "ExecuteTime": {
     "end_time": "2021-06-16T06:30:24.342428Z",
     "start_time": "2021-06-16T06:30:20.292Z"
    }
   },
   "outputs": [],
   "source": [
    "X_train_ohe = X_train[col_names_ohe]\n",
    "X_test_ohe = X_test[col_names_ohe]"
   ]
  },
  {
   "cell_type": "markdown",
   "metadata": {},
   "source": [
    "## X_train Encode"
   ]
  },
  {
   "cell_type": "code",
   "execution_count": null,
   "metadata": {
    "ExecuteTime": {
     "end_time": "2021-06-16T06:30:24.343363Z",
     "start_time": "2021-06-16T06:30:20.297Z"
    }
   },
   "outputs": [],
   "source": [
    "X_train.info()"
   ]
  },
  {
   "cell_type": "code",
   "execution_count": null,
   "metadata": {
    "ExecuteTime": {
     "end_time": "2021-06-16T06:30:24.344346Z",
     "start_time": "2021-06-16T06:30:20.300Z"
    }
   },
   "outputs": [],
   "source": [
    "enc = OneHotEncoder(handle_unknown='ignore',sparse=False)"
   ]
  },
  {
   "cell_type": "code",
   "execution_count": null,
   "metadata": {
    "ExecuteTime": {
     "end_time": "2021-06-16T06:30:24.345358Z",
     "start_time": "2021-06-16T06:30:20.304Z"
    }
   },
   "outputs": [],
   "source": [
    "X_train_ohe.info()"
   ]
  },
  {
   "cell_type": "code",
   "execution_count": null,
   "metadata": {
    "ExecuteTime": {
     "end_time": "2021-06-16T06:30:24.346220Z",
     "start_time": "2021-06-16T06:30:20.308Z"
    }
   },
   "outputs": [],
   "source": [
    "enc.fit(X_train_ohe) "
   ]
  },
  {
   "cell_type": "code",
   "execution_count": null,
   "metadata": {
    "ExecuteTime": {
     "end_time": "2021-06-16T06:30:24.347276Z",
     "start_time": "2021-06-16T06:30:20.312Z"
    },
    "scrolled": true
   },
   "outputs": [],
   "source": [
    "enc.categories_"
   ]
  },
  {
   "cell_type": "code",
   "execution_count": null,
   "metadata": {
    "ExecuteTime": {
     "end_time": "2021-06-16T06:30:24.348219Z",
     "start_time": "2021-06-16T06:30:20.316Z"
    }
   },
   "outputs": [],
   "source": [
    "X_train2 = enc.transform(X_train_ohe)"
   ]
  },
  {
   "cell_type": "code",
   "execution_count": null,
   "metadata": {
    "ExecuteTime": {
     "end_time": "2021-06-16T06:30:24.349130Z",
     "start_time": "2021-06-16T06:30:20.320Z"
    },
    "scrolled": true
   },
   "outputs": [],
   "source": [
    "X_train2.shape"
   ]
  },
  {
   "cell_type": "code",
   "execution_count": null,
   "metadata": {
    "ExecuteTime": {
     "end_time": "2021-06-16T06:30:24.350079Z",
     "start_time": "2021-06-16T06:30:20.324Z"
    },
    "scrolled": true
   },
   "outputs": [],
   "source": [
    "enc.get_feature_names()\n",
    "column_name = enc.get_feature_names()\n",
    "one_hot_encoded_frame =  pd.DataFrame(X_train2, columns= column_name)"
   ]
  },
  {
   "cell_type": "code",
   "execution_count": null,
   "metadata": {
    "ExecuteTime": {
     "end_time": "2021-06-16T06:30:24.351048Z",
     "start_time": "2021-06-16T06:30:20.328Z"
    }
   },
   "outputs": [],
   "source": [
    "X_train = one_hot_encoded_frame.reset_index(drop=True).merge(X_train.reset_index(drop=True), left_index=True, right_index=True)\n"
   ]
  },
  {
   "cell_type": "code",
   "execution_count": null,
   "metadata": {
    "ExecuteTime": {
     "end_time": "2021-06-16T06:30:24.351922Z",
     "start_time": "2021-06-16T06:30:20.332Z"
    },
    "scrolled": true
   },
   "outputs": [],
   "source": [
    "X_train.drop(col_names_ohe, axis=1, inplace=True)\n",
    "X_train"
   ]
  },
  {
   "cell_type": "markdown",
   "metadata": {},
   "source": [
    "\n",
    "\n",
    "\n",
    "## X_test Encode"
   ]
  },
  {
   "cell_type": "code",
   "execution_count": null,
   "metadata": {
    "ExecuteTime": {
     "end_time": "2021-06-16T06:30:24.352908Z",
     "start_time": "2021-06-16T06:30:20.337Z"
    },
    "scrolled": true
   },
   "outputs": [],
   "source": [
    "X_test.info()"
   ]
  },
  {
   "cell_type": "code",
   "execution_count": null,
   "metadata": {
    "ExecuteTime": {
     "end_time": "2021-06-16T06:30:24.353772Z",
     "start_time": "2021-06-16T06:30:20.341Z"
    },
    "scrolled": true
   },
   "outputs": [],
   "source": [
    "enc.categories_"
   ]
  },
  {
   "cell_type": "code",
   "execution_count": null,
   "metadata": {
    "ExecuteTime": {
     "end_time": "2021-06-16T06:30:24.354734Z",
     "start_time": "2021-06-16T06:30:20.344Z"
    }
   },
   "outputs": [],
   "source": [
    "X_test2 = enc.transform(X_test_ohe)"
   ]
  },
  {
   "cell_type": "code",
   "execution_count": null,
   "metadata": {
    "ExecuteTime": {
     "end_time": "2021-06-16T06:30:24.355583Z",
     "start_time": "2021-06-16T06:30:20.348Z"
    },
    "scrolled": true
   },
   "outputs": [],
   "source": [
    "X_test2.shape"
   ]
  },
  {
   "cell_type": "code",
   "execution_count": null,
   "metadata": {
    "ExecuteTime": {
     "end_time": "2021-06-16T06:30:24.356675Z",
     "start_time": "2021-06-16T06:30:20.352Z"
    },
    "scrolled": true
   },
   "outputs": [],
   "source": [
    "enc.get_feature_names()\n",
    "column_name = enc.get_feature_names()\n",
    "one_hot_encoded_frame =  pd.DataFrame(X_test2, columns= column_name)"
   ]
  },
  {
   "cell_type": "code",
   "execution_count": null,
   "metadata": {
    "ExecuteTime": {
     "end_time": "2021-06-16T06:30:24.357549Z",
     "start_time": "2021-06-16T06:30:20.356Z"
    }
   },
   "outputs": [],
   "source": [
    "X_test = one_hot_encoded_frame.reset_index(drop=True).merge(X_test.reset_index(drop=True), left_index=True, right_index=True)\n"
   ]
  },
  {
   "cell_type": "code",
   "execution_count": null,
   "metadata": {
    "ExecuteTime": {
     "end_time": "2021-06-16T06:30:24.358609Z",
     "start_time": "2021-06-16T06:30:20.360Z"
    },
    "scrolled": true
   },
   "outputs": [],
   "source": [
    "X_test.drop(col_names_ohe, axis=1, inplace=True)\n",
    "X_test"
   ]
  },
  {
   "cell_type": "code",
   "execution_count": null,
   "metadata": {
    "ExecuteTime": {
     "end_time": "2021-06-16T06:30:24.359626Z",
     "start_time": "2021-06-16T06:30:20.364Z"
    }
   },
   "outputs": [],
   "source": [
    "X_train.shape"
   ]
  },
  {
   "cell_type": "code",
   "execution_count": null,
   "metadata": {
    "ExecuteTime": {
     "end_time": "2021-06-16T06:30:24.360643Z",
     "start_time": "2021-06-16T06:30:20.367Z"
    },
    "scrolled": false
   },
   "outputs": [],
   "source": [
    "X_test.shape"
   ]
  },
  {
   "cell_type": "markdown",
   "metadata": {},
   "source": [
    "# Model Development"
   ]
  },
  {
   "cell_type": "markdown",
   "metadata": {},
   "source": [
    "## Logistic Regression"
   ]
  },
  {
   "cell_type": "code",
   "execution_count": null,
   "metadata": {
    "ExecuteTime": {
     "end_time": "2021-06-16T06:30:24.361593Z",
     "start_time": "2021-06-16T06:30:20.373Z"
    }
   },
   "outputs": [],
   "source": [
    "# Logistic model\n",
    "log_clf = LogisticRegression(class_weight='balanced')\n",
    "log_model = log_clf.fit(X_train, y_train)\n",
    "y_pred_train = log_model.predict(X_train)\n",
    "y_pred = log_model.predict(X_test)"
   ]
  },
  {
   "cell_type": "code",
   "execution_count": null,
   "metadata": {
    "ExecuteTime": {
     "end_time": "2021-06-16T06:30:24.362552Z",
     "start_time": "2021-06-16T06:30:20.377Z"
    },
    "scrolled": false
   },
   "outputs": [],
   "source": [
    "#Confusion matrix for Logistic Regression\n",
    "log_matrix = confusion_matrix(y_test, y_pred)\n",
    "print('Confusion Matrix:\\n', log_matrix)"
   ]
  },
  {
   "cell_type": "code",
   "execution_count": null,
   "metadata": {
    "ExecuteTime": {
     "end_time": "2021-06-16T06:30:24.363553Z",
     "start_time": "2021-06-16T06:30:20.381Z"
    }
   },
   "outputs": [],
   "source": [
    "print('The f1 score for the training model is:',f1_score(y_train, y_pred_train))\n",
    "print('The f1 score for the model is:',f1_score(y_test, y_pred))"
   ]
  },
  {
   "cell_type": "code",
   "execution_count": null,
   "metadata": {
    "ExecuteTime": {
     "end_time": "2021-06-16T06:30:24.364475Z",
     "start_time": "2021-06-16T06:30:20.385Z"
    }
   },
   "outputs": [],
   "source": [
    "print(metrics.classification_report(y_test, y_pred, labels=[0,1],\n",
    "                                    target_names=['normal grad. rate','low grad rate']))"
   ]
  },
  {
   "cell_type": "markdown",
   "metadata": {},
   "source": [
    "### Check for Overfit"
   ]
  },
  {
   "cell_type": "code",
   "execution_count": null,
   "metadata": {
    "ExecuteTime": {
     "end_time": "2021-06-16T06:30:24.365545Z",
     "start_time": "2021-06-16T06:30:20.390Z"
    },
    "scrolled": false
   },
   "outputs": [],
   "source": [
    "# View confusion matrix for train data and predictions\n",
    "confusion_matrix(y_train, y_pred_train)"
   ]
  },
  {
   "cell_type": "code",
   "execution_count": null,
   "metadata": {
    "ExecuteTime": {
     "end_time": "2021-06-16T06:30:24.366463Z",
     "start_time": "2021-06-16T06:30:20.393Z"
    },
    "scrolled": true
   },
   "outputs": [],
   "source": [
    "# View confusion matrix for test data and predictions\n",
    "confusion_matrix(y_test, y_pred)"
   ]
  },
  {
   "cell_type": "code",
   "execution_count": null,
   "metadata": {
    "ExecuteTime": {
     "end_time": "2021-06-16T06:30:24.367325Z",
     "start_time": "2021-06-16T06:30:20.397Z"
    },
    "scrolled": true
   },
   "outputs": [],
   "source": [
    "print(metrics.classification_report(y_train, y_pred_train, labels=[0,1],\n",
    "                                    target_names=['normal grad. rate','low grad rate']))"
   ]
  },
  {
   "cell_type": "code",
   "execution_count": null,
   "metadata": {
    "ExecuteTime": {
     "end_time": "2021-06-16T06:30:24.368321Z",
     "start_time": "2021-06-16T06:30:20.401Z"
    },
    "scrolled": true
   },
   "outputs": [],
   "source": [
    "print(metrics.classification_report(y_test, y_pred, labels=[0,1],\n",
    "                                    target_names=['normal grad. rate','low grad rate']))"
   ]
  },
  {
   "cell_type": "markdown",
   "metadata": {},
   "source": [
    "### Model reiteration - parameter tuning"
   ]
  },
  {
   "cell_type": "code",
   "execution_count": null,
   "metadata": {
    "ExecuteTime": {
     "end_time": "2021-06-16T06:30:24.369357Z",
     "start_time": "2021-06-16T06:30:20.406Z"
    }
   },
   "outputs": [],
   "source": [
    "# Logistic model\n",
    "log_clf = LogisticRegression( class_weight='balanced')\n",
    "log_model = log_clf.fit(X_train, y_train)\n",
    "y_pred_train = log_model.predict(X_train)\n",
    "y_pred = log_model.predict(X_test)"
   ]
  },
  {
   "cell_type": "code",
   "execution_count": null,
   "metadata": {
    "ExecuteTime": {
     "end_time": "2021-06-16T06:30:24.370396Z",
     "start_time": "2021-06-16T06:30:20.410Z"
    }
   },
   "outputs": [],
   "source": [
    "model_params = {\n",
    "    #Algorithm to use in the optimization problem\n",
    "    'solver': ['newton-cg', 'sag', 'saga','lbfgs'],\n",
    "    # Maximum number of iterations taken for the solvers to converge\n",
    "    'max_iter': [10,50,100],\n",
    "    # random state\n",
    "    'random_state': [1]\n",
    "}"
   ]
  },
  {
   "cell_type": "code",
   "execution_count": null,
   "metadata": {
    "ExecuteTime": {
     "end_time": "2021-06-16T06:30:24.371993Z",
     "start_time": "2021-06-16T06:30:20.413Z"
    },
    "scrolled": true
   },
   "outputs": [],
   "source": [
    "# Instantiate and fit the LogisticReg Model\n",
    "log_clf = LogisticRegression(class_weight='balanced')\n",
    "log_clf = GridSearchCV(log_clf,model_params,scoring = 'recall')\n",
    "log_clf.fit(X_train,y_train)"
   ]
  },
  {
   "cell_type": "code",
   "execution_count": null,
   "metadata": {
    "ExecuteTime": {
     "end_time": "2021-06-16T06:30:24.373436Z",
     "start_time": "2021-06-16T06:30:20.417Z"
    }
   },
   "outputs": [],
   "source": [
    "LogisticRegression(class_weight='balanced').get_params().keys()"
   ]
  },
  {
   "cell_type": "code",
   "execution_count": null,
   "metadata": {
    "ExecuteTime": {
     "end_time": "2021-06-16T06:30:24.375161Z",
     "start_time": "2021-06-16T06:30:20.421Z"
    },
    "scrolled": true
   },
   "outputs": [],
   "source": [
    "print(log_clf.best_estimator_.get_params())"
   ]
  },
  {
   "cell_type": "code",
   "execution_count": null,
   "metadata": {
    "ExecuteTime": {
     "end_time": "2021-06-16T06:30:24.376511Z",
     "start_time": "2021-06-16T06:30:20.425Z"
    }
   },
   "outputs": [],
   "source": [
    "print('The f1 score for the training model is:',f1_score(y_train, y_pred_train))\n",
    "print('The f1 score for the model is:',f1_score(y_test, y_pred))"
   ]
  },
  {
   "cell_type": "code",
   "execution_count": null,
   "metadata": {
    "ExecuteTime": {
     "end_time": "2021-06-16T06:30:24.378158Z",
     "start_time": "2021-06-16T06:30:20.428Z"
    },
    "scrolled": false
   },
   "outputs": [],
   "source": [
    "print(metrics.classification_report(y_train, y_pred_train, labels=[0,1],\n",
    "                                    target_names=['normal grad. rate','low grad rate']))"
   ]
  },
  {
   "cell_type": "code",
   "execution_count": null,
   "metadata": {
    "ExecuteTime": {
     "end_time": "2021-06-16T06:30:24.379185Z",
     "start_time": "2021-06-16T06:30:20.432Z"
    },
    "scrolled": false
   },
   "outputs": [],
   "source": [
    "print(metrics.classification_report(y_test, y_pred, labels=[0,1],\n",
    "                                    target_names=['normal grad. rate','low grad rate']))"
   ]
  },
  {
   "cell_type": "markdown",
   "metadata": {},
   "source": [
    "## Random Forest Classifier"
   ]
  },
  {
   "cell_type": "code",
   "execution_count": null,
   "metadata": {
    "ExecuteTime": {
     "end_time": "2021-06-16T06:30:24.380455Z",
     "start_time": "2021-06-16T06:30:20.437Z"
    }
   },
   "outputs": [],
   "source": [
    "# Instantiate and fit the RandomForestClassifier\n",
    "rfc=RandomForestClassifier(n_estimators=10,class_weight='balanced')\n",
    "rfc.fit(X_train,y_train)"
   ]
  },
  {
   "cell_type": "code",
   "execution_count": null,
   "metadata": {
    "ExecuteTime": {
     "end_time": "2021-06-16T06:30:24.381607Z",
     "start_time": "2021-06-16T06:30:20.441Z"
    },
    "scrolled": true
   },
   "outputs": [],
   "source": [
    "training_start = time.perf_counter()\n",
    "rfc.fit(X_train, y_train)\n",
    "training_end = time.perf_counter()\n",
    "prediction_start = time.perf_counter()\n",
    "y_pred = rfc.predict(X_test)\n",
    "y_pred_train = rfc.predict(X_train)\n",
    "prediction_end = time.perf_counter()\n",
    "acc_rfc = (y_pred == y_test).sum().astype(float) / len(y_pred)*100\n",
    "rfc_train_time = training_end-training_start\n",
    "rfc_prediction_time = prediction_end-prediction_start\n",
    "print(\"Scikit-Learn's Random Forest Classifier's prediction accuracy is: %3.2f\" % (acc_rfc))\n",
    "print(\"Time consumed for training: %4.3f seconds\" % (rfc_train_time))\n",
    "print(\"Time consumed for prediction: %6.5f seconds\" % (rfc_prediction_time))"
   ]
  },
  {
   "cell_type": "code",
   "execution_count": null,
   "metadata": {
    "ExecuteTime": {
     "end_time": "2021-06-16T06:30:24.382977Z",
     "start_time": "2021-06-16T06:30:20.445Z"
    }
   },
   "outputs": [],
   "source": [
    "print('The f1 score for the training model is:',f1_score(y_train, y_pred_train))\n",
    "print('The f1 score for the model is:',f1_score(y_test, y_pred))"
   ]
  },
  {
   "cell_type": "code",
   "execution_count": null,
   "metadata": {
    "ExecuteTime": {
     "end_time": "2021-06-16T06:30:24.384008Z",
     "start_time": "2021-06-16T06:30:20.448Z"
    },
    "scrolled": false
   },
   "outputs": [],
   "source": [
    "print(metrics.classification_report(y_test, y_pred, labels=[0,1],\n",
    "                                    target_names=['normal grad rate','low grad rate']))"
   ]
  },
  {
   "cell_type": "markdown",
   "metadata": {},
   "source": [
    "### Check for Overfit"
   ]
  },
  {
   "cell_type": "code",
   "execution_count": null,
   "metadata": {
    "ExecuteTime": {
     "end_time": "2021-06-16T06:30:24.385148Z",
     "start_time": "2021-06-16T06:30:20.454Z"
    },
    "scrolled": true
   },
   "outputs": [],
   "source": [
    "# View confusion matrix for train data and predictions\n",
    "confusion_matrix(y_train, y_pred_train)"
   ]
  },
  {
   "cell_type": "code",
   "execution_count": null,
   "metadata": {
    "ExecuteTime": {
     "end_time": "2021-06-16T06:30:24.386223Z",
     "start_time": "2021-06-16T06:30:20.457Z"
    },
    "scrolled": true
   },
   "outputs": [],
   "source": [
    "# View confusion matrix for test data and predictions\n",
    "confusion_matrix(y_test, y_pred)"
   ]
  },
  {
   "cell_type": "code",
   "execution_count": null,
   "metadata": {
    "ExecuteTime": {
     "end_time": "2021-06-16T06:30:24.387286Z",
     "start_time": "2021-06-16T06:30:20.461Z"
    }
   },
   "outputs": [],
   "source": [
    "rfc_training_preds = rfc.predict(X_train)\n",
    "rfc_training_f1 = f1_score(y_train, rfc_training_preds)\n",
    "\n",
    "rfc_val_preds = rfc.predict(X_test) # y_hat\n",
    "rfc_val_f1 = f1_score(y_test, rfc_val_preds)\n",
    "print(rfc_training_f1)\n",
    "print(rfc_val_f1)"
   ]
  },
  {
   "cell_type": "code",
   "execution_count": null,
   "metadata": {
    "ExecuteTime": {
     "end_time": "2021-06-16T06:30:24.388287Z",
     "start_time": "2021-06-16T06:30:20.465Z"
    }
   },
   "outputs": [],
   "source": [
    "print(metrics.classification_report(y_train, y_pred_train, labels=[0,1], \n",
    "                                    target_names=['normal grad rate','low grad rate']))"
   ]
  },
  {
   "cell_type": "code",
   "execution_count": null,
   "metadata": {
    "ExecuteTime": {
     "end_time": "2021-06-16T06:30:24.389225Z",
     "start_time": "2021-06-16T06:30:20.469Z"
    },
    "scrolled": true
   },
   "outputs": [],
   "source": [
    "print(metrics.classification_report(y_test, y_pred, labels=[0,1]))"
   ]
  },
  {
   "cell_type": "markdown",
   "metadata": {},
   "source": [
    "### Feature Importance"
   ]
  },
  {
   "cell_type": "code",
   "execution_count": null,
   "metadata": {
    "ExecuteTime": {
     "end_time": "2021-06-16T06:30:24.390199Z",
     "start_time": "2021-06-16T06:30:20.474Z"
    }
   },
   "outputs": [],
   "source": [
    "# create list so that random forest model important features are named\n",
    "rfc_columns = list(X_train.columns)"
   ]
  },
  {
   "cell_type": "code",
   "execution_count": null,
   "metadata": {
    "ExecuteTime": {
     "end_time": "2021-06-16T06:30:24.391146Z",
     "start_time": "2021-06-16T06:30:20.478Z"
    },
    "scrolled": true
   },
   "outputs": [],
   "source": [
    "feat_importances = pd.Series(rfc.feature_importances_, index = rfc_columns)\n",
    "feat_importances.nlargest(20).plot(kind='barh')"
   ]
  },
  {
   "cell_type": "markdown",
   "metadata": {},
   "source": [
    "### Model reiteration - parameter tuning"
   ]
  },
  {
   "cell_type": "code",
   "execution_count": null,
   "metadata": {
    "ExecuteTime": {
     "end_time": "2021-06-16T06:30:24.392313Z",
     "start_time": "2021-06-16T06:30:20.483Z"
    }
   },
   "outputs": [],
   "source": [
    "model_params = {\n",
    "    # number of \n",
    "    'n_estimators': [5,10,20,50,100,200],\n",
    "    # number of max features\n",
    "    'max_features': [10,15,20,50,100],\n",
    "    # max number of levels in each decision tree\n",
    "    'max_depth': [5,10,15],\n",
    "    # minimum amount of samples in a node\n",
    "    'min_samples_leaf': [10],\n",
    "    # minimum amount of samples to split\n",
    "    'min_samples_split' : [100,1000],\n",
    "    # random state\n",
    "    'random_state': [1]\n",
    "    \n",
    "}"
   ]
  },
  {
   "cell_type": "code",
   "execution_count": null,
   "metadata": {
    "ExecuteTime": {
     "end_time": "2021-06-16T06:30:24.393357Z",
     "start_time": "2021-06-16T06:30:20.486Z"
    },
    "scrolled": true
   },
   "outputs": [],
   "source": [
    "# Instantiate and fit the RandomForestClassifier\n",
    "rfc=RandomForestClassifier(class_weight='balanced')\n",
    "rfc = GridSearchCV(rfc, model_params, scoring = 'recall')\n",
    "rfc.fit(X_train,y_train)"
   ]
  },
  {
   "cell_type": "code",
   "execution_count": null,
   "metadata": {
    "ExecuteTime": {
     "end_time": "2021-06-16T06:30:24.394309Z",
     "start_time": "2021-06-16T06:30:20.490Z"
    },
    "scrolled": true
   },
   "outputs": [],
   "source": [
    "print(rfc.best_estimator_.get_params())"
   ]
  },
  {
   "cell_type": "code",
   "execution_count": null,
   "metadata": {
    "ExecuteTime": {
     "end_time": "2021-06-16T06:30:24.395497Z",
     "start_time": "2021-06-16T06:30:20.494Z"
    }
   },
   "outputs": [],
   "source": [
    "print('The f1 score for the training model is:',f1_score(y_train, y_pred_train))\n",
    "print('The f1 score for the model is:',f1_score(y_test, y_pred))"
   ]
  },
  {
   "cell_type": "code",
   "execution_count": null,
   "metadata": {
    "ExecuteTime": {
     "end_time": "2021-06-16T06:30:24.396530Z",
     "start_time": "2021-06-16T06:30:20.498Z"
    },
    "scrolled": false
   },
   "outputs": [],
   "source": [
    "print(metrics.classification_report(y_train, y_pred_train, labels=[0,1],\n",
    "                                    target_names=['normal grad. rate','low grad rate']))"
   ]
  },
  {
   "cell_type": "code",
   "execution_count": null,
   "metadata": {
    "ExecuteTime": {
     "end_time": "2021-06-16T06:30:24.397480Z",
     "start_time": "2021-06-16T06:30:20.502Z"
    },
    "scrolled": true
   },
   "outputs": [],
   "source": [
    "print(metrics.classification_report(y_test, y_pred, labels=[0,1],\n",
    "                                    target_names=['normal grad. rate','low grad rate']))"
   ]
  },
  {
   "cell_type": "markdown",
   "metadata": {},
   "source": [
    "## Gradient Boosting Classifier"
   ]
  },
  {
   "cell_type": "code",
   "execution_count": null,
   "metadata": {
    "ExecuteTime": {
     "end_time": "2021-06-16T06:30:24.398476Z",
     "start_time": "2021-06-16T06:30:20.507Z"
    },
    "scrolled": false
   },
   "outputs": [],
   "source": [
    "gb_clf = GradientBoostingClassifier()\n",
    "gb_clf.fit(X_train, y_train)\n",
    "y_pred = gb_clf.predict(X_test)\n",
    "y_pred_train = gb_clf.predict(X_train)\n",
    "\n",
    "# print(\"Accuracy score (training): {0:.3f}\".format(gb_clf.score(X_train, y_train)))\n",
    "# print(\"Accuracy score (validation): {0:.3f}\".format(gb_clf.score(X_test, y_test)))"
   ]
  },
  {
   "cell_type": "code",
   "execution_count": null,
   "metadata": {
    "ExecuteTime": {
     "end_time": "2021-06-16T06:30:24.399373Z",
     "start_time": "2021-06-16T06:30:20.511Z"
    },
    "scrolled": true
   },
   "outputs": [],
   "source": [
    "print('The f1 score for the training model is:',f1_score(y_train, y_pred_train))\n",
    "print('The f1 score for the model is:',f1_score(y_test, y_pred))"
   ]
  },
  {
   "cell_type": "code",
   "execution_count": null,
   "metadata": {
    "ExecuteTime": {
     "end_time": "2021-06-16T06:30:24.400480Z",
     "start_time": "2021-06-16T06:30:20.515Z"
    },
    "scrolled": true
   },
   "outputs": [],
   "source": [
    "print(metrics.classification_report(y_test, y_pred, labels=[0,1],\n",
    "                                    target_names=['normal grad. rate','low grad rate']))"
   ]
  },
  {
   "cell_type": "markdown",
   "metadata": {},
   "source": [
    "### Check for Overfit"
   ]
  },
  {
   "cell_type": "code",
   "execution_count": null,
   "metadata": {
    "ExecuteTime": {
     "end_time": "2021-06-16T06:30:24.401441Z",
     "start_time": "2021-06-16T06:30:20.520Z"
    },
    "scrolled": false
   },
   "outputs": [],
   "source": [
    "# View confusion matrix for train data and predictions\n",
    "confusion_matrix(y_train, y_pred_train)"
   ]
  },
  {
   "cell_type": "code",
   "execution_count": null,
   "metadata": {
    "ExecuteTime": {
     "end_time": "2021-06-16T06:30:24.402384Z",
     "start_time": "2021-06-16T06:30:20.524Z"
    },
    "scrolled": true
   },
   "outputs": [],
   "source": [
    "# View confusion matrix for test data and predictions\n",
    "confusion_matrix(y_test, y_pred)"
   ]
  },
  {
   "cell_type": "code",
   "execution_count": null,
   "metadata": {
    "ExecuteTime": {
     "end_time": "2021-06-16T06:30:24.403244Z",
     "start_time": "2021-06-16T06:30:20.528Z"
    },
    "scrolled": true
   },
   "outputs": [],
   "source": [
    "print(metrics.classification_report(y_train, y_pred_train, labels=[0,1],\n",
    "                                    target_names=['normal grad. rate','low grad rate']))"
   ]
  },
  {
   "cell_type": "code",
   "execution_count": null,
   "metadata": {
    "ExecuteTime": {
     "end_time": "2021-06-16T06:30:24.404280Z",
     "start_time": "2021-06-16T06:30:20.531Z"
    },
    "scrolled": false
   },
   "outputs": [],
   "source": [
    "print(metrics.classification_report(y_test, y_pred, labels=[0,1],\n",
    "                                    target_names=['normal grad. rate','low grad rate']))"
   ]
  },
  {
   "cell_type": "markdown",
   "metadata": {},
   "source": [
    "### Model reiteration - parameter tuning"
   ]
  },
  {
   "cell_type": "code",
   "execution_count": null,
   "metadata": {
    "ExecuteTime": {
     "end_time": "2021-06-16T06:30:24.405145Z",
     "start_time": "2021-06-16T06:30:20.536Z"
    }
   },
   "outputs": [],
   "source": [
    "model_params = {\n",
    "    # number of boosting stages\n",
    "    'n_estimators': [5,10,20,50,100,200],\n",
    "    # number of max features\n",
    "    'max_features': [10,15,20,50,100],\n",
    "     # minimum amount of samples in a node\n",
    "    'min_samples_leaf': [10],\n",
    "    # Learning rate\n",
    "    'learning_rate':[.25,.5,.75,1],\n",
    "    #The minimum number of samples required to split an internal node\n",
    "    'min_samples_split' : [100,1000],\n",
    "     # random state\n",
    "    'random_state':[1]\n",
    "}"
   ]
  },
  {
   "cell_type": "code",
   "execution_count": null,
   "metadata": {
    "ExecuteTime": {
     "end_time": "2021-06-16T06:30:24.406084Z",
     "start_time": "2021-06-16T06:30:20.541Z"
    },
    "scrolled": true
   },
   "outputs": [],
   "source": [
    "gb_clf = GradientBoostingClassifier()\n",
    "gb_clf = GridSearchCV(gb_clf,model_params, scoring = 'recall')\n",
    "gb_clf.fit(X_train,y_train)"
   ]
  },
  {
   "cell_type": "code",
   "execution_count": null,
   "metadata": {
    "ExecuteTime": {
     "end_time": "2021-06-16T06:30:24.407231Z",
     "start_time": "2021-06-16T06:30:20.544Z"
    }
   },
   "outputs": [],
   "source": [
    "print(metrics.classification_report(y_train, y_pred_train, labels=[0,1],\n",
    "                                    target_names=['normal grad. rate','low grad rate']))"
   ]
  },
  {
   "cell_type": "code",
   "execution_count": null,
   "metadata": {
    "ExecuteTime": {
     "end_time": "2021-06-16T06:30:24.408725Z",
     "start_time": "2021-06-16T06:30:20.548Z"
    },
    "scrolled": true
   },
   "outputs": [],
   "source": [
    "print(metrics.classification_report(y_test, y_pred, labels=[0,1],\n",
    "                                    target_names=['normal grad. rate','low grad rate']))"
   ]
  },
  {
   "cell_type": "code",
   "execution_count": null,
   "metadata": {
    "ExecuteTime": {
     "end_time": "2021-06-16T06:30:24.409768Z",
     "start_time": "2021-06-16T06:30:20.552Z"
    },
    "scrolled": false
   },
   "outputs": [],
   "source": [
    "lr_list = [0.05, 0.075, 0.1, 0.25, 0.5, 0.75, 1]\n",
    "\n",
    "for learning_rate in lr_list:\n",
    "    gb_clf = GradientBoostingClassifier(n_estimators=20, learning_rate=learning_rate)\n",
    "    gb_clf.fit(X_train, y_train)\n",
    "\n",
    "    print(\"Learning rate: \", learning_rate)\n",
    "    print(\"Accuracy score (training): {0:.3f}\".format(gb_clf.score(X_train, y_train)))\n",
    "    print(\"Accuracy score (validation): {0:.3f}\".format(gb_clf.score(X_test, y_test)))\n",
    "    print('The f1 score for the training model is:',f1_score(y_train, y_pred_train))\n",
    "    print('The f1 score for the model is:',f1_score(y_test, y_pred))"
   ]
  },
  {
   "cell_type": "markdown",
   "metadata": {},
   "source": [
    "# Conclusions"
   ]
  },
  {
   "cell_type": "markdown",
   "metadata": {},
   "source": [
    "# Recommendations"
   ]
  },
  {
   "cell_type": "markdown",
   "metadata": {},
   "source": [
    "# Future Work"
   ]
  },
  {
   "cell_type": "markdown",
   "metadata": {},
   "source": [
    "# Might Use Later"
   ]
  },
  {
   "cell_type": "code",
   "execution_count": null,
   "metadata": {},
   "outputs": [],
   "source": []
  },
  {
   "cell_type": "code",
   "execution_count": null,
   "metadata": {
    "ExecuteTime": {
     "end_time": "2021-06-16T06:30:24.410749Z",
     "start_time": "2021-06-16T06:30:20.562Z"
    }
   },
   "outputs": [],
   "source": [
    "column_names = list(df_school.columns)"
   ]
  },
  {
   "cell_type": "code",
   "execution_count": null,
   "metadata": {
    "ExecuteTime": {
     "end_time": "2021-06-16T06:30:24.411796Z",
     "start_time": "2021-06-16T06:30:20.566Z"
    }
   },
   "outputs": [],
   "source": [
    "categorical = ['year','ncessch','school_name','state_name','lea_name','zip_location',\n",
    "               'urban_centric_locale','school_level','school_type','charter',\n",
    "               'corpinstances_preschool']\n"
   ]
  },
  {
   "cell_type": "code",
   "execution_count": null,
   "metadata": {
    "ExecuteTime": {
     "end_time": "2021-06-16T06:30:24.412978Z",
     "start_time": "2021-06-16T06:30:20.570Z"
    }
   },
   "outputs": [],
   "source": [
    "#use for loop if statement to create numerical list is more intuitive\n",
    "for ele in categorical:\n",
    "    try:\n",
    "        column_names.remove(ele)\n",
    "    except ValueError:\n",
    "        pass"
   ]
  },
  {
   "cell_type": "code",
   "execution_count": null,
   "metadata": {
    "ExecuteTime": {
     "end_time": "2021-06-16T06:30:24.413911Z",
     "start_time": "2021-06-16T06:30:20.574Z"
    }
   },
   "outputs": [],
   "source": [
    "numerical = column_names"
   ]
  },
  {
   "cell_type": "code",
   "execution_count": null,
   "metadata": {
    "ExecuteTime": {
     "end_time": "2021-06-16T06:30:24.414835Z",
     "start_time": "2021-06-16T06:30:20.578Z"
    }
   },
   "outputs": [],
   "source": [
    "# # Set it equal to regular instead of taking out each of the three\n",
    "# df_school.drop(df_school[df_school['school_type'] == 'Other/alternative school' ].index, inplace = True)\n",
    "# df_school.shape[0]"
   ]
  },
  {
   "cell_type": "code",
   "execution_count": null,
   "metadata": {
    "ExecuteTime": {
     "end_time": "2021-06-16T06:30:24.416169Z",
     "start_time": "2021-06-16T06:30:20.582Z"
    },
    "scrolled": false
   },
   "outputs": [],
   "source": [
    "# df_school.drop(df_school[df_school['school_type'] == 'Vocational school' ].index, inplace = True)\n",
    "# df_school.shape[0]"
   ]
  },
  {
   "cell_type": "code",
   "execution_count": null,
   "metadata": {
    "ExecuteTime": {
     "end_time": "2021-06-16T06:30:24.417096Z",
     "start_time": "2021-06-16T06:30:20.586Z"
    },
    "scrolled": true
   },
   "outputs": [],
   "source": [
    "# df_school.drop(df_school[df_school['school_type'] == 'Special education school' ].index, inplace = True)\n",
    "# df_school.shape[0]"
   ]
  },
  {
   "cell_type": "code",
   "execution_count": null,
   "metadata": {},
   "outputs": [],
   "source": []
  },
  {
   "cell_type": "markdown",
   "metadata": {},
   "source": [
    "Change Sci kit learn OHE set sparse to false set handle errors to ignore drop first equals if binary"
   ]
  },
  {
   "cell_type": "markdown",
   "metadata": {},
   "source": [
    "Change Sci kit learn OHE set sparse to false set handle errors to ignore drop first equals if binary"
   ]
  },
  {
   "cell_type": "code",
   "execution_count": null,
   "metadata": {
    "ExecuteTime": {
     "end_time": "2021-06-16T06:30:24.418109Z",
     "start_time": "2021-06-16T06:30:20.594Z"
    },
    "scrolled": false
   },
   "outputs": [],
   "source": [
    "# print top 5 most frequent values in each grad_rate column\n",
    "for col in df_school['grad_rate_midpt'].columns:\n",
    "    print(col, '\\n', df_school[col].value_counts(normalize=True).head(), '\\n\\n')\n"
   ]
  },
  {
   "cell_type": "code",
   "execution_count": null,
   "metadata": {
    "ExecuteTime": {
     "end_time": "2021-06-16T06:30:24.419041Z",
     "start_time": "2021-06-16T06:30:20.598Z"
    }
   },
   "outputs": [],
   "source": [
    "def target_col (row):\n",
    "   if row['eri_hispanic   '] == 1 :\n",
    "      return 'Hispanic'\n",
    "   if row['eri_afr_amer'] + row['eri_asian'] + row['eri_hawaiian'] + row['eri_nat_amer'] + row['eri_white'] > 1 :\n",
    "      return 'Two Or More'\n",
    "   if row['eri_nat_amer'] == 1 :\n",
    "      return 'A/I AK Native'\n",
    "   if row['eri_asian'] == 1:\n",
    "      return 'Asian'\n",
    "   if row['eri_afr_amer']  == 1:\n",
    "      return 'Black/AA'\n",
    "   if row['eri_hawaiian'] == 1:\n",
    "      return 'Haw/Pac Isl.'\n",
    "   if row['eri_white'] == 1:\n",
    "      return 'White'\n",
    "   return 'Other'\n"
   ]
  },
  {
   "cell_type": "code",
   "execution_count": null,
   "metadata": {},
   "outputs": [],
   "source": []
  },
  {
   "cell_type": "code",
   "execution_count": null,
   "metadata": {
    "ExecuteTime": {
     "end_time": "2021-06-16T06:30:24.420003Z",
     "start_time": "2021-06-16T06:30:20.604Z"
    }
   },
   "outputs": [],
   "source": [
    "# Returns the percentage of values in a dataframe that are nulls\n",
    "def null_cleanup_numeric(col_null):\n",
    "    return\n",
    "    # Declare Median\n",
    "    median = col_null.median()\n",
    "    # fillna with zeros \n",
    "    col_null.update(col_null.fillna(0))\n",
    "    # convert columns to numeric\n",
    "    col_null.astype(str).astype(float)\n",
    "    # Replace zeros with median\n",
    "    col_null.replace([0], median)\n",
    "    \n",
    "   "
   ]
  },
  {
   "cell_type": "code",
   "execution_count": null,
   "metadata": {
    "ExecuteTime": {
     "end_time": "2021-06-16T06:30:24.420967Z",
     "start_time": "2021-06-16T06:30:20.608Z"
    }
   },
   "outputs": [],
   "source": [
    "df_school[['read_test_num_valid','math_test_num_valid']] = df_school[['read_test_num_valid','math_test_num_valid']].apply(null_cleanup_numeric)"
   ]
  },
  {
   "cell_type": "code",
   "execution_count": null,
   "metadata": {
    "ExecuteTime": {
     "end_time": "2021-06-16T06:30:24.421887Z",
     "start_time": "2021-06-16T06:30:20.612Z"
    }
   },
   "outputs": [],
   "source": [
    "df_school.info()"
   ]
  },
  {
   "cell_type": "code",
   "execution_count": null,
   "metadata": {
    "ExecuteTime": {
     "end_time": "2021-06-16T06:30:24.422852Z",
     "start_time": "2021-06-16T06:30:20.616Z"
    }
   },
   "outputs": [],
   "source": [
    "# fillna with zeros so we can convert to numeric\n",
    "df_school.update(df_school[['math_test_pct_prof_midpt']].fillna(0))\n",
    "df_school.update(df_school[['read_test_pct_prof_midpt']].fillna(0))"
   ]
  },
  {
   "cell_type": "code",
   "execution_count": null,
   "metadata": {
    "ExecuteTime": {
     "end_time": "2021-06-16T06:30:24.423763Z",
     "start_time": "2021-06-16T06:30:20.620Z"
    }
   },
   "outputs": [],
   "source": [
    "# convert grad rate columns to numeric\n",
    "df_school[['math_test_pct_prof_midpt']] = df_school[['math_test_pct_prof_midpt']].astype(str).astype(float)\n",
    "df_school[['read_test_pct_prof_midpt']] = df_school[['read_test_pct_prof_midpt']].astype(str).astype(float)\n"
   ]
  },
  {
   "cell_type": "code",
   "execution_count": null,
   "metadata": {
    "ExecuteTime": {
     "end_time": "2021-06-16T06:30:24.424759Z",
     "start_time": "2021-06-16T06:30:20.623Z"
    }
   },
   "outputs": [],
   "source": [
    "# Replace the two null values with the median of the midpoint columns\n",
    "math_median = df_school['math_test_pct_prof_midpt'].median()\n",
    "print(math_median)\n",
    "read_median = df_school['read_test_pct_prof_midpt'].median()\n",
    "print(read_median)"
   ]
  },
  {
   "cell_type": "code",
   "execution_count": null,
   "metadata": {
    "ExecuteTime": {
     "end_time": "2021-06-16T06:30:24.425677Z",
     "start_time": "2021-06-16T06:30:20.627Z"
    }
   },
   "outputs": [],
   "source": [
    "# Replace the two null values with the median of the midpoint columns\n",
    "df_school.update(df_school[['math_test_pct_prof_midpt']].fillna(math_median))\n",
    "df_school.update(df_school[['read_test_pct_prof_midpt']].fillna(read_median))"
   ]
  },
  {
   "cell_type": "code",
   "execution_count": null,
   "metadata": {
    "ExecuteTime": {
     "end_time": "2021-06-16T06:30:24.426562Z",
     "start_time": "2021-06-16T06:30:20.631Z"
    }
   },
   "outputs": [],
   "source": [
    "# Replace zeros with median\n",
    "df_school['math_test_pct_prof_midpt'] = df_school['math_test_pct_prof_midpt'].replace([0], math_median)\n",
    "df_school['read_test_pct_prof_midpt'] = df_school['read_test_pct_prof_midpt'].replace([0], read_median)"
   ]
  },
  {
   "cell_type": "code",
   "execution_count": null,
   "metadata": {
    "ExecuteTime": {
     "end_time": "2021-06-16T06:30:24.427541Z",
     "start_time": "2021-06-16T06:30:20.635Z"
    },
    "scrolled": false
   },
   "outputs": [],
   "source": [
    "# Let's take a look at the summary statistics\n",
    "\n",
    "print(df_school['math_test_pct_prof_midpt'].describe())\n",
    "print(df_school['read_test_pct_prof_midpt'].describe())"
   ]
  },
  {
   "cell_type": "code",
   "execution_count": null,
   "metadata": {
    "ExecuteTime": {
     "end_time": "2021-06-16T06:30:24.428412Z",
     "start_time": "2021-06-16T06:30:20.639Z"
    }
   },
   "outputs": [],
   "source": [
    "df_school.info()"
   ]
  },
  {
   "cell_type": "code",
   "execution_count": null,
   "metadata": {},
   "outputs": [],
   "source": []
  },
  {
   "cell_type": "code",
   "execution_count": null,
   "metadata": {
    "ExecuteTime": {
     "end_time": "2021-06-16T06:30:24.429250Z",
     "start_time": "2021-06-16T06:30:20.645Z"
    }
   },
   "outputs": [],
   "source": [
    "# Returns the percentage of values in a dataframe that are NaNs\n",
    "def percent_NaN_df (df,str_name):\n",
    "    count_NaN = df.isna().sum().sum()\n",
    "    count_non_NaN = df.count().sum()\n",
    "    return 'percent of NaNs in '+ str_name +' is '+str(int((count_NaN/(count_NaN + count_non_NaN))*100))+'%'\n",
    "    "
   ]
  },
  {
   "cell_type": "code",
   "execution_count": null,
   "metadata": {},
   "outputs": [],
   "source": []
  },
  {
   "cell_type": "code",
   "execution_count": null,
   "metadata": {
    "ExecuteTime": {
     "end_time": "2021-06-16T06:30:24.430146Z",
     "start_time": "2021-06-16T06:30:20.651Z"
    }
   },
   "outputs": [],
   "source": [
    "# Our population columns have the highest proportion of nulls let's take at look\n",
    "population_cols = ['lea_name','state_name','est_population_total','est_population_5_17_poverty',\n",
    "                           'est_population_5_17_poverty_pct']"
   ]
  },
  {
   "cell_type": "code",
   "execution_count": null,
   "metadata": {
    "ExecuteTime": {
     "end_time": "2021-06-16T06:30:24.431038Z",
     "start_time": "2021-06-16T06:30:20.655Z"
    }
   },
   "outputs": [],
   "source": [
    "# Our population columns have the highest proportion of nulls let's take at look\n",
    "population_cols = ['lea_name','state_name','est_population_total','est_population_5_17_poverty',\n",
    "                           'est_population_5_17_poverty_pct']"
   ]
  }
 ],
 "metadata": {
  "kernelspec": {
   "display_name": "Python 3",
   "language": "python",
   "name": "python3"
  },
  "language_info": {
   "codemirror_mode": {
    "name": "ipython",
    "version": 3
   },
   "file_extension": ".py",
   "mimetype": "text/x-python",
   "name": "python",
   "nbconvert_exporter": "python",
   "pygments_lexer": "ipython3",
   "version": "3.8.5"
  },
  "toc": {
   "base_numbering": 1,
   "nav_menu": {},
   "number_sections": true,
   "sideBar": true,
   "skip_h1_title": false,
   "title_cell": "Table of Contents",
   "title_sidebar": "Contents",
   "toc_cell": false,
   "toc_position": {
    "height": "calc(100% - 180px)",
    "left": "10px",
    "top": "150px",
    "width": "297px"
   },
   "toc_section_display": true,
   "toc_window_display": true
  }
 },
 "nbformat": 4,
 "nbformat_minor": 4
}
