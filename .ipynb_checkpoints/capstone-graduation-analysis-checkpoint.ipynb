{
 "cells": [
  {
   "cell_type": "markdown",
   "metadata": {},
   "source": [
    "# Business Problem:"
   ]
  },
  {
   "cell_type": "markdown",
   "metadata": {},
   "source": [
    "## Background"
   ]
  },
  {
   "cell_type": "markdown",
   "metadata": {},
   "source": [
    "Every year, the federal government releases large amounts of data on U.S. schools, school districts, and colleges. But this information is scattered across multiple datasets that are often difficult to access, and changes in data structure complicate efforts to measure change over time. The Urban Institute (https://educationdata.urban.org/documentation/index.html) has organized and consolidated this data to make it easier to combine data from different reporting sources.\n",
    "\n",
    "Using the Urban institutes consolidated data platform we will be combining datasets describing characteristics and metrics of individual schools with data describing characteristics at the school district level.\n",
    "\n",
    "We will use this data to build a classification model which classifies high schools as either having a low or high graduation rate. The distinction between low and high graduation rates is based on the federal government's standard that those schools with less than two thirds of class graduating are low graduation rate schools."
   ]
  },
  {
   "cell_type": "markdown",
   "metadata": {},
   "source": [
    "## Limitations"
   ]
  },
  {
   "cell_type": "markdown",
   "metadata": {
    "ExecuteTime": {
     "end_time": "2021-06-14T18:42:41.563861Z",
     "start_time": "2021-06-14T18:42:41.551648Z"
    }
   },
   "source": [
    "\n",
    "\n",
    "- Year: For our examination we only used data from 2015 as this year was the most data rich across district and school datasets\n",
    "- Our data is limited to only those schools which reported their graduation rates"
   ]
  },
  {
   "cell_type": "markdown",
   "metadata": {},
   "source": [
    "## Problem Statement"
   ]
  },
  {
   "cell_type": "markdown",
   "metadata": {},
   "source": [
    "Predict which schools have high and which schools have low high school graduation rates. Identify which characteristics are the best indicator of high and low graduation rates so that school districts know where to focus resources when attempting to increase high school graduation rates."
   ]
  },
  {
   "cell_type": "markdown",
   "metadata": {},
   "source": [
    "# Import Libraries"
   ]
  },
  {
   "cell_type": "code",
   "execution_count": 1,
   "metadata": {
    "ExecuteTime": {
     "end_time": "2021-06-16T17:54:35.679475Z",
     "start_time": "2021-06-16T17:54:32.827060Z"
    }
   },
   "outputs": [],
   "source": [
    "import pandas as pd\n",
    "import matplotlib.pyplot as plt\n",
    "import matplotlib.ticker as mtick\n",
    "import seaborn as sns\n",
    "import numpy as np\n",
    "import scipy.stats as stats\n",
    "import statsmodels.api as sm\n",
    "import catboost\n",
    "import time\n",
    "import warnings\n",
    "warnings.filterwarnings('ignore')\n",
    "\n",
    "from sklearn.utils import class_weight\n",
    "from sklearn.metrics import accuracy_score, confusion_matrix, classification_report, f1_score\n",
    "from catboost import Pool, sum_models\n",
    "from catboost import CatBoostClassifier\n",
    "from statsmodels.formula.api import ols\n",
    "from sklearn.feature_selection import RFE\n",
    "from sklearn.linear_model import LinearRegression\n",
    "from sklearn.linear_model import LogisticRegression\n",
    "from sklearn.metrics import mean_squared_error, r2_score, mean_absolute_error, balanced_accuracy_score\n",
    "from sklearn.model_selection import KFold, cross_val_score, StratifiedKFold\n",
    "from sklearn.model_selection import train_test_split\n",
    "from sklearn.model_selection import GridSearchCV\n",
    "from sklearn.model_selection import RandomizedSearchCV\n",
    "from sklearn.preprocessing import LabelEncoder,  OneHotEncoder, MinMaxScaler, StandardScaler \n",
    "from sklearn.tree import DecisionTreeRegressor\n",
    "from sklearn.ensemble import RandomForestRegressor, RandomForestClassifier\n",
    "from sklearn.ensemble import GradientBoostingClassifier\n",
    "from sklearn import metrics\n",
    "from sklearn.preprocessing import OneHotEncoder\n",
    "from sklearn.preprocessing import LabelEncoder\n",
    "from sklearn.impute import SimpleImputer, MissingIndicator\n",
    "from sklearn.compose import ColumnTransformer\n",
    "from sklearn.pipeline import FeatureUnion\n",
    "from sklearn.pipeline import Pipeline\n",
    "from scipy.stats import uniform, truncnorm, randint"
   ]
  },
  {
   "cell_type": "markdown",
   "metadata": {},
   "source": [
    "# Data Exploration and Prep"
   ]
  },
  {
   "cell_type": "markdown",
   "metadata": {},
   "source": [
    "Our school level data contains information on the school location, degree of urbanization, school size, number of students proficient in math and reading assessments, number of allegations for harassment/bullying, number of students enrolled in specific subjects, number of disciplinary actions taken, and number of students participation in ACT/SAT tests.\n",
    "\n",
    "Our district level data contains financial information for each school district. This includes type and amount of capital outlays, debt outstanding at the end of the fiscal year, district expenditures, and revenue. District data also includes number of English language learners, employee benefits, and salary for instruction. "
   ]
  },
  {
   "cell_type": "markdown",
   "metadata": {},
   "source": [
    "df_school\n",
    "\n",
    "- year:\n",
    "- ncessch:\n",
    "- school_name:\n",
    "- state_name:\n",
    "- lea_name:\n",
    "- zip_location:\n",
    "- urban_centric_locale:\n",
    "- school_level:\n",
    "- school_type:\n",
    "- charter:\n",
    "- enrollment:\n",
    "- read_test_num_valid:\n",
    "- read_test_pct_prof_low:\n",
    "- read_test_pct_prof_high:\n",
    "- read_test_pct_prof_midpt:\n",
    "- math_test_num_valid:\n",
    "- math_test_pct_prof_low:\n",
    "- math_test_pct_prof_high:\n",
    "- math_test_pct_prof_midpt:\n",
    "- students_susp_in_sch:\n",
    "- students_susp_out_sch_single:\n",
    "- students_susp_out_sch_multiple:\n",
    "- expulsions_no_ed_serv:\n",
    "- expulsions_with_ed_serv:\n",
    "- expulsions_zero_tolerance:\n",
    "- students_corporal_punish:\n",
    "- students_arrested:\n",
    "- students_referred_law_enforce:\n",
    "- transfers_alt_sch_disc:\n",
    "- days_suspended:\n",
    "- suspensions_instances_preschool:\n",
    "- suspensions_instances:\n",
    "- corpinstances_preschool:\n",
    "- corpinstances:\n",
    "- salaries_teachers:\n",
    "- cohort_num:\n",
    "- grad_rate_high:\n",
    "- grad_rate_low:\n",
    "- grad_rate_midpt:\n",
    "- allegations_harass_sex:\n",
    "- allegations_harass_race:\n",
    "- allegations_harass_disability:\n",
    "- allegations_harass_orientation:\n",
    "- allegations_harass_religion:\n",
    "- students_disc_harass_dis:\n",
    "- students_disc_harass_race:\n",
    "- students_disc_harass_sex:\n",
    "- students_report_harass_dis:\n",
    "- students_report_harass_race:\n",
    "- students_report_harass_sex:\n",
    "- enrl_biology:\n",
    "- enrl_chemistry:\n",
    "- enrl_advanced_math:\n",
    "- enrl_calculus:\n",
    "- enrl_algebra2:\n",
    "- enrl_physics:\n",
    "- enrl_geometry:\n",
    "- instances_mech_restraint:\n",
    "- instances_phys_restraint:\n",
    "- instances_seclusion:\n",
    "- students_mech_restraint:\n",
    "- students_phys_restraint:\n",
    "- students_seclusion:\n",
    "- students_SAT_ACT:"
   ]
  },
  {
   "cell_type": "markdown",
   "metadata": {},
   "source": [
    "df_district\n",
    "\n",
    "- year:\n",
    "- leaid:\n",
    "- lea_name:\n",
    "- state_name:\n",
    "- state_leaid:\n",
    "- city_location:\n",
    "- urban_centric_locale:\n",
    "- agency_type:\n",
    "- enrollment:\n",
    "- english_language_learners:\n",
    "- est_population_total:\n",
    "- est_population_5_17_poverty:\n",
    "- est_population_5_17_poverty_pct:\n",
    "- rev_total:\n",
    "- rev_fed_total:\n",
    "- rev_state_total:\n",
    "- rev_local_total:\n",
    "- rev_local_prop_tax:\n",
    "- exp_total:\n",
    "- exp_current_elsec_total:\n",
    "- exp_current_instruction_total:\n",
    "- exp_current_supp_serve_total:\n",
    "- exp_current_pupils:\n",
    "- exp_current_instruc_staff:\n",
    "- exp_current_general_admin:\n",
    "- exp_current_sch_admin:\n",
    "- exp_current_operation_plant:\n",
    "- exp_current_student_transport:\n",
    "- exp_current_bco:\n",
    "- exp_current_supp_serv_nonspec:\n",
    "- exp_current_other:\n",
    "- exp_current_food_serv:\n",
    "- exp_current_enterprise:\n",
    "- exp_current_other_elsec:\n",
    "- exp_nonelsec:\n",
    "- exp_nonelsec_community_serv:\n",
    "- exp_nonelsec_adult_education:\n",
    "- exp_nonelsec_other:\n",
    "- exp_textbooks:\n",
    "- exp_utilities_energy:\n",
    "- exp_tech_supplies_services:\n",
    "- exp_tech_equipment:\n",
    "- outlay_capital_total:\n",
    "- outlay_capital_construction:\n",
    "- outlay_capital_land_structures:\n",
    "- outlay_capital_instruc_equip:\n",
    "- outlay_capital_other_equip:\n",
    "- outlay_capital_nonspec_equip:\n",
    "- salaries_total:\n",
    "- salaries_instruction:\n",
    "- benefits_employee_total:\n",
    "- cohort_num:\n",
    "- grad_rate_high:\n",
    "- grad_rate_low:\n",
    "- grad_rate_midpt:"
   ]
  },
  {
   "cell_type": "markdown",
   "metadata": {},
   "source": [
    "## Data Load"
   ]
  },
  {
   "cell_type": "code",
   "execution_count": 2,
   "metadata": {
    "ExecuteTime": {
     "end_time": "2021-06-16T17:54:35.811836Z",
     "start_time": "2021-06-16T17:54:35.681805Z"
    }
   },
   "outputs": [],
   "source": [
    "#Northeastern United States school and district data\n",
    "df_school_northeast = pd.read_csv('data/EducationDataPortal_schools_northeast.csv')\n",
    "df_district_northeast = pd.read_csv('data/EducationDataPortal_districts_northeast.csv')"
   ]
  },
  {
   "cell_type": "code",
   "execution_count": 3,
   "metadata": {
    "ExecuteTime": {
     "end_time": "2021-06-16T17:54:35.945992Z",
     "start_time": "2021-06-16T17:54:35.815187Z"
    }
   },
   "outputs": [],
   "source": [
    "#Western United States school and district data\n",
    "df_school_west = pd.read_csv('data/EducationDataPortal_schools_west.csv')\n",
    "df_district_west = pd.read_csv('data/EducationDataPortal_districts_west.csv')"
   ]
  },
  {
   "cell_type": "code",
   "execution_count": 4,
   "metadata": {
    "ExecuteTime": {
     "end_time": "2021-06-16T17:54:36.119227Z",
     "start_time": "2021-06-16T17:54:35.950275Z"
    }
   },
   "outputs": [],
   "source": [
    "#Midwest United States school and district data\n",
    "df_school_midwest = pd.read_csv('data/EducationDataPortal_schools_midwest.csv')\n",
    "df_district_midwest = pd.read_csv('data/EducationDataPortal_districts_midwest.csv')"
   ]
  },
  {
   "cell_type": "code",
   "execution_count": 5,
   "metadata": {
    "ExecuteTime": {
     "end_time": "2021-06-16T17:54:36.176112Z",
     "start_time": "2021-06-16T17:54:36.121025Z"
    }
   },
   "outputs": [],
   "source": [
    "#Southern Atlantic United States school and district data\n",
    "df_school_south_atl = pd.read_csv('data/EducationDataPortal_schools_south_atl.csv')\n",
    "df_district_south_atl = pd.read_csv('data/EducationDataPortal_districts_south_atl.csv')"
   ]
  },
  {
   "cell_type": "code",
   "execution_count": 6,
   "metadata": {
    "ExecuteTime": {
     "end_time": "2021-06-16T17:54:36.261987Z",
     "start_time": "2021-06-16T17:54:36.177590Z"
    }
   },
   "outputs": [],
   "source": [
    "#Southern Central United States school and district data\n",
    "df_school_south_central = pd.read_csv('data/EducationDataPortal_schools_south_central.csv')\n",
    "df_district_south_central = pd.read_csv('data/EducationDataPortal_districts_south_central.csv')"
   ]
  },
  {
   "cell_type": "code",
   "execution_count": 7,
   "metadata": {
    "ExecuteTime": {
     "end_time": "2021-06-16T17:54:36.266279Z",
     "start_time": "2021-06-16T17:54:36.263884Z"
    }
   },
   "outputs": [],
   "source": [
    "dataframes_school  = ['df_school_northeast','df_school_west', 'df_school_midwest', \n",
    "                      'df_school_south_atl', 'df_school_south']"
   ]
  },
  {
   "cell_type": "code",
   "execution_count": 8,
   "metadata": {
    "ExecuteTime": {
     "end_time": "2021-06-16T17:54:36.272515Z",
     "start_time": "2021-06-16T17:54:36.269991Z"
    }
   },
   "outputs": [],
   "source": [
    "dataframes_district  = ['df_district_northeast','df_district_west', 'df_district_midwest', \n",
    "                        'df_district_south_atl', 'df_district_south']"
   ]
  },
  {
   "cell_type": "markdown",
   "metadata": {},
   "source": [
    "## Functions"
   ]
  },
  {
   "cell_type": "code",
   "execution_count": 11,
   "metadata": {
    "ExecuteTime": {
     "end_time": "2021-06-16T17:54:36.284057Z",
     "start_time": "2021-06-16T17:54:36.281427Z"
    }
   },
   "outputs": [],
   "source": [
    "# Returns the percentage of values in a dataframe that are nulls\n",
    "def percent_null_df (df,str_name):\n",
    "    count_null = df.isnull().sum().sum()\n",
    "    count_non_null = df.count().sum()\n",
    "    return 'percent of nulls in '+ str_name +' is '+str(int((count_null/(count_null + count_non_null))*100))+'%'\n",
    "    "
   ]
  },
  {
   "cell_type": "markdown",
   "metadata": {},
   "source": [
    "## df_school"
   ]
  },
  {
   "cell_type": "code",
   "execution_count": 12,
   "metadata": {
    "ExecuteTime": {
     "end_time": "2021-06-16T17:54:36.317897Z",
     "start_time": "2021-06-16T17:54:36.285331Z"
    }
   },
   "outputs": [],
   "source": [
    "#Concatenate school info for all three states into one dataframe\n",
    "df_school = pd.concat([df_school_northeast, df_school_south_atl, \n",
    "                       df_school_midwest, df_school_west, df_school_south_central])"
   ]
  },
  {
   "cell_type": "code",
   "execution_count": 13,
   "metadata": {
    "ExecuteTime": {
     "end_time": "2021-06-16T17:54:36.344790Z",
     "start_time": "2021-06-16T17:54:36.320033Z"
    },
    "scrolled": true
   },
   "outputs": [
    {
     "data": {
      "text/plain": [
       "California              0.106093\n",
       "Texas                   0.079240\n",
       "New York                0.050044\n",
       "Ohio                    0.042281\n",
       "Minnesota               0.039498\n",
       "Michigan                0.038619\n",
       "Illinois                0.036422\n",
       "Pennsylvania            0.032907\n",
       "Arizona                 0.032028\n",
       "Florida                 0.031882\n",
       "Washington              0.027585\n",
       "Missouri                0.027341\n",
       "Wisconsin               0.024558\n",
       "North Carolina          0.024558\n",
       "New Jersey              0.022947\n",
       "Oklahoma                0.022752\n",
       "Georgia                 0.019969\n",
       "Indiana                 0.018455\n",
       "Tennessee               0.017479\n",
       "Alabama                 0.017430\n",
       "Colorado                0.016698\n",
       "Massachusetts           0.016698\n",
       "Connecticut             0.015916\n",
       "Kentucky                0.015623\n",
       "Iowa                    0.015477\n",
       "Virginia                0.015233\n",
       "Kansas                  0.015038\n",
       "Arkansas                0.014842\n",
       "Mississippi             0.014501\n",
       "Nebraska                0.013573\n",
       "South Carolina          0.012596\n",
       "Oregon                  0.012206\n",
       "Louisiana               0.011815\n",
       "Maryland                0.010741\n",
       "New Mexico              0.009423\n",
       "Idaho                   0.008935\n",
       "South Dakota            0.008886\n",
       "Utah                    0.008691\n",
       "Montana                 0.008349\n",
       "North Dakota            0.008154\n",
       "West Virginia           0.005761\n",
       "Nevada                  0.005517\n",
       "Maine                   0.005371\n",
       "New Hampshire           0.004589\n",
       "Wyoming                 0.004101\n",
       "Vermont                 0.002929\n",
       "Rhode Island            0.002734\n",
       "Delaware                0.001855\n",
       "District of Columbia    0.001660\n",
       "Name: state_name, dtype: float64"
      ]
     },
     "execution_count": 13,
     "metadata": {},
     "output_type": "execute_result"
    }
   ],
   "source": [
    "df_school['state_name'].value_counts(normalize=True, dropna=False)"
   ]
  },
  {
   "cell_type": "code",
   "execution_count": 14,
   "metadata": {
    "ExecuteTime": {
     "end_time": "2021-06-16T17:54:36.353253Z",
     "start_time": "2021-06-16T17:54:36.346333Z"
    }
   },
   "outputs": [
    {
     "data": {
      "text/plain": [
       "97     0.106288\n",
       "NaN    0.104726\n",
       "92     0.091593\n",
       "95     0.082219\n",
       "90     0.061664\n",
       "         ...   \n",
       "8      0.000098\n",
       "20     0.000049\n",
       "23     0.000049\n",
       "16     0.000049\n",
       "26     0.000049\n",
       "Name: grad_rate_midpt, Length: 99, dtype: float64"
      ]
     },
     "execution_count": 14,
     "metadata": {},
     "output_type": "execute_result"
    }
   ],
   "source": [
    "df_school['grad_rate_midpt'].value_counts(normalize=True, dropna=False)"
   ]
  },
  {
   "cell_type": "code",
   "execution_count": 15,
   "metadata": {
    "ExecuteTime": {
     "end_time": "2021-06-16T17:54:36.391168Z",
     "start_time": "2021-06-16T17:54:36.354913Z"
    },
    "scrolled": true
   },
   "outputs": [
    {
     "data": {
      "text/html": [
       "<div>\n",
       "<style scoped>\n",
       "    .dataframe tbody tr th:only-of-type {\n",
       "        vertical-align: middle;\n",
       "    }\n",
       "\n",
       "    .dataframe tbody tr th {\n",
       "        vertical-align: top;\n",
       "    }\n",
       "\n",
       "    .dataframe thead th {\n",
       "        text-align: right;\n",
       "    }\n",
       "</style>\n",
       "<table border=\"1\" class=\"dataframe\">\n",
       "  <thead>\n",
       "    <tr style=\"text-align: right;\">\n",
       "      <th></th>\n",
       "      <th>year</th>\n",
       "      <th>ncessch</th>\n",
       "      <th>school_name</th>\n",
       "      <th>state_name</th>\n",
       "      <th>lea_name</th>\n",
       "      <th>zip_location</th>\n",
       "      <th>urban_centric_locale</th>\n",
       "      <th>school_level</th>\n",
       "      <th>school_type</th>\n",
       "      <th>charter</th>\n",
       "      <th>...</th>\n",
       "      <th>enrl_algebra2</th>\n",
       "      <th>enrl_physics</th>\n",
       "      <th>enrl_geometry</th>\n",
       "      <th>instances_mech_restraint</th>\n",
       "      <th>instances_phys_restraint</th>\n",
       "      <th>instances_seclusion</th>\n",
       "      <th>students_mech_restraint</th>\n",
       "      <th>students_phys_restraint</th>\n",
       "      <th>students_seclusion</th>\n",
       "      <th>students_SAT_ACT</th>\n",
       "    </tr>\n",
       "  </thead>\n",
       "  <tbody>\n",
       "    <tr>\n",
       "      <th>0</th>\n",
       "      <td>2015</td>\n",
       "      <td>90000201136</td>\n",
       "      <td>A. I. Prince Technical High School</td>\n",
       "      <td>Connecticut</td>\n",
       "      <td>Connecticut Technical High Sc</td>\n",
       "      <td>6106</td>\n",
       "      <td>City, midsize</td>\n",
       "      <td>High</td>\n",
       "      <td>Vocational school</td>\n",
       "      <td>No</td>\n",
       "      <td>...</td>\n",
       "      <td>212.0</td>\n",
       "      <td>66.0</td>\n",
       "      <td>180.0</td>\n",
       "      <td>0.0</td>\n",
       "      <td>0.0</td>\n",
       "      <td>0.0</td>\n",
       "      <td>0.0</td>\n",
       "      <td>0.0</td>\n",
       "      <td>0.0</td>\n",
       "      <td>243.0</td>\n",
       "    </tr>\n",
       "    <tr>\n",
       "      <th>1</th>\n",
       "      <td>2015</td>\n",
       "      <td>90000201137</td>\n",
       "      <td>Bullard-Havens Technical High School</td>\n",
       "      <td>Connecticut</td>\n",
       "      <td>Connecticut Technical High Sc</td>\n",
       "      <td>6610</td>\n",
       "      <td>City, midsize</td>\n",
       "      <td>High</td>\n",
       "      <td>Vocational school</td>\n",
       "      <td>No</td>\n",
       "      <td>...</td>\n",
       "      <td>180.0</td>\n",
       "      <td>NaN</td>\n",
       "      <td>207.0</td>\n",
       "      <td>0.0</td>\n",
       "      <td>0.0</td>\n",
       "      <td>0.0</td>\n",
       "      <td>0.0</td>\n",
       "      <td>0.0</td>\n",
       "      <td>0.0</td>\n",
       "      <td>320.0</td>\n",
       "    </tr>\n",
       "    <tr>\n",
       "      <th>2</th>\n",
       "      <td>2015</td>\n",
       "      <td>90000201138</td>\n",
       "      <td>E. C. Goodwin Technical High School</td>\n",
       "      <td>Connecticut</td>\n",
       "      <td>Connecticut Technical High Sc</td>\n",
       "      <td>6053</td>\n",
       "      <td>Suburb, large</td>\n",
       "      <td>High</td>\n",
       "      <td>Vocational school</td>\n",
       "      <td>No</td>\n",
       "      <td>...</td>\n",
       "      <td>308.0</td>\n",
       "      <td>45.0</td>\n",
       "      <td>NaN</td>\n",
       "      <td>0.0</td>\n",
       "      <td>0.0</td>\n",
       "      <td>0.0</td>\n",
       "      <td>0.0</td>\n",
       "      <td>0.0</td>\n",
       "      <td>0.0</td>\n",
       "      <td>209.0</td>\n",
       "    </tr>\n",
       "    <tr>\n",
       "      <th>3</th>\n",
       "      <td>2015</td>\n",
       "      <td>90000201139</td>\n",
       "      <td>Ella T. Grasso Southeastern Technical High School</td>\n",
       "      <td>Connecticut</td>\n",
       "      <td>Connecticut Technical High Sc</td>\n",
       "      <td>6340</td>\n",
       "      <td>Rural, fringe</td>\n",
       "      <td>High</td>\n",
       "      <td>Vocational school</td>\n",
       "      <td>No</td>\n",
       "      <td>...</td>\n",
       "      <td>165.0</td>\n",
       "      <td>35.0</td>\n",
       "      <td>6.0</td>\n",
       "      <td>0.0</td>\n",
       "      <td>0.0</td>\n",
       "      <td>0.0</td>\n",
       "      <td>0.0</td>\n",
       "      <td>0.0</td>\n",
       "      <td>0.0</td>\n",
       "      <td>156.0</td>\n",
       "    </tr>\n",
       "    <tr>\n",
       "      <th>4</th>\n",
       "      <td>2015</td>\n",
       "      <td>90000201140</td>\n",
       "      <td>Eli Whitney Technical High School</td>\n",
       "      <td>Connecticut</td>\n",
       "      <td>Connecticut Technical High Sc</td>\n",
       "      <td>6514</td>\n",
       "      <td>Suburb, large</td>\n",
       "      <td>High</td>\n",
       "      <td>Vocational school</td>\n",
       "      <td>No</td>\n",
       "      <td>...</td>\n",
       "      <td>150.0</td>\n",
       "      <td>NaN</td>\n",
       "      <td>147.0</td>\n",
       "      <td>0.0</td>\n",
       "      <td>0.0</td>\n",
       "      <td>0.0</td>\n",
       "      <td>0.0</td>\n",
       "      <td>0.0</td>\n",
       "      <td>0.0</td>\n",
       "      <td>171.0</td>\n",
       "    </tr>\n",
       "    <tr>\n",
       "      <th>...</th>\n",
       "      <td>...</td>\n",
       "      <td>...</td>\n",
       "      <td>...</td>\n",
       "      <td>...</td>\n",
       "      <td>...</td>\n",
       "      <td>...</td>\n",
       "      <td>...</td>\n",
       "      <td>...</td>\n",
       "      <td>...</td>\n",
       "      <td>...</td>\n",
       "      <td>...</td>\n",
       "      <td>...</td>\n",
       "      <td>...</td>\n",
       "      <td>...</td>\n",
       "      <td>...</td>\n",
       "      <td>...</td>\n",
       "      <td>...</td>\n",
       "      <td>...</td>\n",
       "      <td>...</td>\n",
       "      <td>...</td>\n",
       "      <td>...</td>\n",
       "    </tr>\n",
       "    <tr>\n",
       "      <th>3962</th>\n",
       "      <td>2015</td>\n",
       "      <td>484668006496</td>\n",
       "      <td>DEL VALLE H S</td>\n",
       "      <td>Texas</td>\n",
       "      <td>YSLETA ISD</td>\n",
       "      <td>79907</td>\n",
       "      <td>City, large</td>\n",
       "      <td>High</td>\n",
       "      <td>Regular school</td>\n",
       "      <td>No</td>\n",
       "      <td>...</td>\n",
       "      <td>556.0</td>\n",
       "      <td>466.0</td>\n",
       "      <td>391.0</td>\n",
       "      <td>0.0</td>\n",
       "      <td>4.0</td>\n",
       "      <td>0.0</td>\n",
       "      <td>0.0</td>\n",
       "      <td>12.0</td>\n",
       "      <td>0.0</td>\n",
       "      <td>404.0</td>\n",
       "    </tr>\n",
       "    <tr>\n",
       "      <th>3963</th>\n",
       "      <td>2015</td>\n",
       "      <td>484668008548</td>\n",
       "      <td>PLATO ACADEMY</td>\n",
       "      <td>Texas</td>\n",
       "      <td>YSLETA ISD</td>\n",
       "      <td>79907</td>\n",
       "      <td>City, large</td>\n",
       "      <td>High</td>\n",
       "      <td>Other/alternative school</td>\n",
       "      <td>No</td>\n",
       "      <td>...</td>\n",
       "      <td>16.0</td>\n",
       "      <td>37.0</td>\n",
       "      <td>31.0</td>\n",
       "      <td>0.0</td>\n",
       "      <td>0.0</td>\n",
       "      <td>0.0</td>\n",
       "      <td>0.0</td>\n",
       "      <td>0.0</td>\n",
       "      <td>0.0</td>\n",
       "      <td>4.0</td>\n",
       "    </tr>\n",
       "    <tr>\n",
       "      <th>3964</th>\n",
       "      <td>2015</td>\n",
       "      <td>484668011982</td>\n",
       "      <td>VALLE VERDE EARLY COLLEGE H S</td>\n",
       "      <td>Texas</td>\n",
       "      <td>YSLETA ISD</td>\n",
       "      <td>79915</td>\n",
       "      <td>City, large</td>\n",
       "      <td>High</td>\n",
       "      <td>Regular school</td>\n",
       "      <td>No</td>\n",
       "      <td>...</td>\n",
       "      <td>106.0</td>\n",
       "      <td>133.0</td>\n",
       "      <td>109.0</td>\n",
       "      <td>0.0</td>\n",
       "      <td>0.0</td>\n",
       "      <td>0.0</td>\n",
       "      <td>0.0</td>\n",
       "      <td>0.0</td>\n",
       "      <td>0.0</td>\n",
       "      <td>95.0</td>\n",
       "    </tr>\n",
       "    <tr>\n",
       "      <th>3965</th>\n",
       "      <td>2015</td>\n",
       "      <td>484671005351</td>\n",
       "      <td>ZAPATA H S</td>\n",
       "      <td>Texas</td>\n",
       "      <td>ZAPATA COUNTY ISD</td>\n",
       "      <td>78076</td>\n",
       "      <td>Rural, fringe</td>\n",
       "      <td>High</td>\n",
       "      <td>Regular school</td>\n",
       "      <td>No</td>\n",
       "      <td>...</td>\n",
       "      <td>267.0</td>\n",
       "      <td>228.0</td>\n",
       "      <td>278.0</td>\n",
       "      <td>0.0</td>\n",
       "      <td>0.0</td>\n",
       "      <td>0.0</td>\n",
       "      <td>0.0</td>\n",
       "      <td>0.0</td>\n",
       "      <td>0.0</td>\n",
       "      <td>203.0</td>\n",
       "    </tr>\n",
       "    <tr>\n",
       "      <th>3966</th>\n",
       "      <td>2015</td>\n",
       "      <td>489913005627</td>\n",
       "      <td>BENAVIDES SECONDARY</td>\n",
       "      <td>Texas</td>\n",
       "      <td>BENAVIDES ISD</td>\n",
       "      <td>78341</td>\n",
       "      <td>Rural, remote</td>\n",
       "      <td>High</td>\n",
       "      <td>Regular school</td>\n",
       "      <td>No</td>\n",
       "      <td>...</td>\n",
       "      <td>28.0</td>\n",
       "      <td>28.0</td>\n",
       "      <td>34.0</td>\n",
       "      <td>0.0</td>\n",
       "      <td>0.0</td>\n",
       "      <td>0.0</td>\n",
       "      <td>0.0</td>\n",
       "      <td>0.0</td>\n",
       "      <td>0.0</td>\n",
       "      <td>16.0</td>\n",
       "    </tr>\n",
       "  </tbody>\n",
       "</table>\n",
       "<p>20482 rows × 64 columns</p>\n",
       "</div>"
      ],
      "text/plain": [
       "      year       ncessch                                        school_name  \\\n",
       "0     2015   90000201136                 A. I. Prince Technical High School   \n",
       "1     2015   90000201137               Bullard-Havens Technical High School   \n",
       "2     2015   90000201138                E. C. Goodwin Technical High School   \n",
       "3     2015   90000201139  Ella T. Grasso Southeastern Technical High School   \n",
       "4     2015   90000201140                  Eli Whitney Technical High School   \n",
       "...    ...           ...                                                ...   \n",
       "3962  2015  484668006496                                      DEL VALLE H S   \n",
       "3963  2015  484668008548                                      PLATO ACADEMY   \n",
       "3964  2015  484668011982                      VALLE VERDE EARLY COLLEGE H S   \n",
       "3965  2015  484671005351                                         ZAPATA H S   \n",
       "3966  2015  489913005627                                BENAVIDES SECONDARY   \n",
       "\n",
       "       state_name                       lea_name zip_location  \\\n",
       "0     Connecticut  Connecticut Technical High Sc         6106   \n",
       "1     Connecticut  Connecticut Technical High Sc         6610   \n",
       "2     Connecticut  Connecticut Technical High Sc         6053   \n",
       "3     Connecticut  Connecticut Technical High Sc         6340   \n",
       "4     Connecticut  Connecticut Technical High Sc         6514   \n",
       "...           ...                            ...          ...   \n",
       "3962        Texas                     YSLETA ISD        79907   \n",
       "3963        Texas                     YSLETA ISD        79907   \n",
       "3964        Texas                     YSLETA ISD        79915   \n",
       "3965        Texas              ZAPATA COUNTY ISD        78076   \n",
       "3966        Texas                  BENAVIDES ISD        78341   \n",
       "\n",
       "     urban_centric_locale school_level               school_type charter  ...  \\\n",
       "0           City, midsize         High         Vocational school      No  ...   \n",
       "1           City, midsize         High         Vocational school      No  ...   \n",
       "2           Suburb, large         High         Vocational school      No  ...   \n",
       "3           Rural, fringe         High         Vocational school      No  ...   \n",
       "4           Suburb, large         High         Vocational school      No  ...   \n",
       "...                   ...          ...                       ...     ...  ...   \n",
       "3962          City, large         High            Regular school      No  ...   \n",
       "3963          City, large         High  Other/alternative school      No  ...   \n",
       "3964          City, large         High            Regular school      No  ...   \n",
       "3965        Rural, fringe         High            Regular school      No  ...   \n",
       "3966        Rural, remote         High            Regular school      No  ...   \n",
       "\n",
       "     enrl_algebra2  enrl_physics enrl_geometry instances_mech_restraint  \\\n",
       "0            212.0          66.0         180.0                      0.0   \n",
       "1            180.0           NaN         207.0                      0.0   \n",
       "2            308.0          45.0           NaN                      0.0   \n",
       "3            165.0          35.0           6.0                      0.0   \n",
       "4            150.0           NaN         147.0                      0.0   \n",
       "...            ...           ...           ...                      ...   \n",
       "3962         556.0         466.0         391.0                      0.0   \n",
       "3963          16.0          37.0          31.0                      0.0   \n",
       "3964         106.0         133.0         109.0                      0.0   \n",
       "3965         267.0         228.0         278.0                      0.0   \n",
       "3966          28.0          28.0          34.0                      0.0   \n",
       "\n",
       "     instances_phys_restraint  instances_seclusion students_mech_restraint  \\\n",
       "0                         0.0                  0.0                     0.0   \n",
       "1                         0.0                  0.0                     0.0   \n",
       "2                         0.0                  0.0                     0.0   \n",
       "3                         0.0                  0.0                     0.0   \n",
       "4                         0.0                  0.0                     0.0   \n",
       "...                       ...                  ...                     ...   \n",
       "3962                      4.0                  0.0                     0.0   \n",
       "3963                      0.0                  0.0                     0.0   \n",
       "3964                      0.0                  0.0                     0.0   \n",
       "3965                      0.0                  0.0                     0.0   \n",
       "3966                      0.0                  0.0                     0.0   \n",
       "\n",
       "     students_phys_restraint students_seclusion students_SAT_ACT  \n",
       "0                        0.0                0.0            243.0  \n",
       "1                        0.0                0.0            320.0  \n",
       "2                        0.0                0.0            209.0  \n",
       "3                        0.0                0.0            156.0  \n",
       "4                        0.0                0.0            171.0  \n",
       "...                      ...                ...              ...  \n",
       "3962                    12.0                0.0            404.0  \n",
       "3963                     0.0                0.0              4.0  \n",
       "3964                     0.0                0.0             95.0  \n",
       "3965                     0.0                0.0            203.0  \n",
       "3966                     0.0                0.0             16.0  \n",
       "\n",
       "[20482 rows x 64 columns]"
      ]
     },
     "execution_count": 15,
     "metadata": {},
     "output_type": "execute_result"
    }
   ],
   "source": [
    "df_school"
   ]
  },
  {
   "cell_type": "markdown",
   "metadata": {},
   "source": [
    "### Data Fields"
   ]
  },
  {
   "cell_type": "code",
   "execution_count": 16,
   "metadata": {
    "ExecuteTime": {
     "end_time": "2021-06-16T17:54:36.411009Z",
     "start_time": "2021-06-16T17:54:36.393018Z"
    },
    "scrolled": true
   },
   "outputs": [
    {
     "data": {
      "text/html": [
       "<div>\n",
       "<style scoped>\n",
       "    .dataframe tbody tr th:only-of-type {\n",
       "        vertical-align: middle;\n",
       "    }\n",
       "\n",
       "    .dataframe tbody tr th {\n",
       "        vertical-align: top;\n",
       "    }\n",
       "\n",
       "    .dataframe thead th {\n",
       "        text-align: right;\n",
       "    }\n",
       "</style>\n",
       "<table border=\"1\" class=\"dataframe\">\n",
       "  <thead>\n",
       "    <tr style=\"text-align: right;\">\n",
       "      <th></th>\n",
       "      <th>year</th>\n",
       "      <th>ncessch</th>\n",
       "      <th>school_name</th>\n",
       "      <th>state_name</th>\n",
       "      <th>lea_name</th>\n",
       "      <th>zip_location</th>\n",
       "      <th>urban_centric_locale</th>\n",
       "      <th>school_level</th>\n",
       "      <th>school_type</th>\n",
       "      <th>charter</th>\n",
       "      <th>...</th>\n",
       "      <th>enrl_algebra2</th>\n",
       "      <th>enrl_physics</th>\n",
       "      <th>enrl_geometry</th>\n",
       "      <th>instances_mech_restraint</th>\n",
       "      <th>instances_phys_restraint</th>\n",
       "      <th>instances_seclusion</th>\n",
       "      <th>students_mech_restraint</th>\n",
       "      <th>students_phys_restraint</th>\n",
       "      <th>students_seclusion</th>\n",
       "      <th>students_SAT_ACT</th>\n",
       "    </tr>\n",
       "  </thead>\n",
       "  <tbody>\n",
       "    <tr>\n",
       "      <th>0</th>\n",
       "      <td>2015</td>\n",
       "      <td>90000201136</td>\n",
       "      <td>A. I. Prince Technical High School</td>\n",
       "      <td>Connecticut</td>\n",
       "      <td>Connecticut Technical High Sc</td>\n",
       "      <td>6106</td>\n",
       "      <td>City, midsize</td>\n",
       "      <td>High</td>\n",
       "      <td>Vocational school</td>\n",
       "      <td>No</td>\n",
       "      <td>...</td>\n",
       "      <td>212.0</td>\n",
       "      <td>66.0</td>\n",
       "      <td>180.0</td>\n",
       "      <td>0.0</td>\n",
       "      <td>0.0</td>\n",
       "      <td>0.0</td>\n",
       "      <td>0.0</td>\n",
       "      <td>0.0</td>\n",
       "      <td>0.0</td>\n",
       "      <td>243.0</td>\n",
       "    </tr>\n",
       "    <tr>\n",
       "      <th>1</th>\n",
       "      <td>2015</td>\n",
       "      <td>90000201137</td>\n",
       "      <td>Bullard-Havens Technical High School</td>\n",
       "      <td>Connecticut</td>\n",
       "      <td>Connecticut Technical High Sc</td>\n",
       "      <td>6610</td>\n",
       "      <td>City, midsize</td>\n",
       "      <td>High</td>\n",
       "      <td>Vocational school</td>\n",
       "      <td>No</td>\n",
       "      <td>...</td>\n",
       "      <td>180.0</td>\n",
       "      <td>NaN</td>\n",
       "      <td>207.0</td>\n",
       "      <td>0.0</td>\n",
       "      <td>0.0</td>\n",
       "      <td>0.0</td>\n",
       "      <td>0.0</td>\n",
       "      <td>0.0</td>\n",
       "      <td>0.0</td>\n",
       "      <td>320.0</td>\n",
       "    </tr>\n",
       "    <tr>\n",
       "      <th>2</th>\n",
       "      <td>2015</td>\n",
       "      <td>90000201138</td>\n",
       "      <td>E. C. Goodwin Technical High School</td>\n",
       "      <td>Connecticut</td>\n",
       "      <td>Connecticut Technical High Sc</td>\n",
       "      <td>6053</td>\n",
       "      <td>Suburb, large</td>\n",
       "      <td>High</td>\n",
       "      <td>Vocational school</td>\n",
       "      <td>No</td>\n",
       "      <td>...</td>\n",
       "      <td>308.0</td>\n",
       "      <td>45.0</td>\n",
       "      <td>NaN</td>\n",
       "      <td>0.0</td>\n",
       "      <td>0.0</td>\n",
       "      <td>0.0</td>\n",
       "      <td>0.0</td>\n",
       "      <td>0.0</td>\n",
       "      <td>0.0</td>\n",
       "      <td>209.0</td>\n",
       "    </tr>\n",
       "    <tr>\n",
       "      <th>3</th>\n",
       "      <td>2015</td>\n",
       "      <td>90000201139</td>\n",
       "      <td>Ella T. Grasso Southeastern Technical High School</td>\n",
       "      <td>Connecticut</td>\n",
       "      <td>Connecticut Technical High Sc</td>\n",
       "      <td>6340</td>\n",
       "      <td>Rural, fringe</td>\n",
       "      <td>High</td>\n",
       "      <td>Vocational school</td>\n",
       "      <td>No</td>\n",
       "      <td>...</td>\n",
       "      <td>165.0</td>\n",
       "      <td>35.0</td>\n",
       "      <td>6.0</td>\n",
       "      <td>0.0</td>\n",
       "      <td>0.0</td>\n",
       "      <td>0.0</td>\n",
       "      <td>0.0</td>\n",
       "      <td>0.0</td>\n",
       "      <td>0.0</td>\n",
       "      <td>156.0</td>\n",
       "    </tr>\n",
       "    <tr>\n",
       "      <th>4</th>\n",
       "      <td>2015</td>\n",
       "      <td>90000201140</td>\n",
       "      <td>Eli Whitney Technical High School</td>\n",
       "      <td>Connecticut</td>\n",
       "      <td>Connecticut Technical High Sc</td>\n",
       "      <td>6514</td>\n",
       "      <td>Suburb, large</td>\n",
       "      <td>High</td>\n",
       "      <td>Vocational school</td>\n",
       "      <td>No</td>\n",
       "      <td>...</td>\n",
       "      <td>150.0</td>\n",
       "      <td>NaN</td>\n",
       "      <td>147.0</td>\n",
       "      <td>0.0</td>\n",
       "      <td>0.0</td>\n",
       "      <td>0.0</td>\n",
       "      <td>0.0</td>\n",
       "      <td>0.0</td>\n",
       "      <td>0.0</td>\n",
       "      <td>171.0</td>\n",
       "    </tr>\n",
       "  </tbody>\n",
       "</table>\n",
       "<p>5 rows × 64 columns</p>\n",
       "</div>"
      ],
      "text/plain": [
       "   year      ncessch                                        school_name  \\\n",
       "0  2015  90000201136                 A. I. Prince Technical High School   \n",
       "1  2015  90000201137               Bullard-Havens Technical High School   \n",
       "2  2015  90000201138                E. C. Goodwin Technical High School   \n",
       "3  2015  90000201139  Ella T. Grasso Southeastern Technical High School   \n",
       "4  2015  90000201140                  Eli Whitney Technical High School   \n",
       "\n",
       "    state_name                       lea_name zip_location  \\\n",
       "0  Connecticut  Connecticut Technical High Sc         6106   \n",
       "1  Connecticut  Connecticut Technical High Sc         6610   \n",
       "2  Connecticut  Connecticut Technical High Sc         6053   \n",
       "3  Connecticut  Connecticut Technical High Sc         6340   \n",
       "4  Connecticut  Connecticut Technical High Sc         6514   \n",
       "\n",
       "  urban_centric_locale school_level        school_type charter  ...  \\\n",
       "0        City, midsize         High  Vocational school      No  ...   \n",
       "1        City, midsize         High  Vocational school      No  ...   \n",
       "2        Suburb, large         High  Vocational school      No  ...   \n",
       "3        Rural, fringe         High  Vocational school      No  ...   \n",
       "4        Suburb, large         High  Vocational school      No  ...   \n",
       "\n",
       "  enrl_algebra2  enrl_physics enrl_geometry instances_mech_restraint  \\\n",
       "0         212.0          66.0         180.0                      0.0   \n",
       "1         180.0           NaN         207.0                      0.0   \n",
       "2         308.0          45.0           NaN                      0.0   \n",
       "3         165.0          35.0           6.0                      0.0   \n",
       "4         150.0           NaN         147.0                      0.0   \n",
       "\n",
       "  instances_phys_restraint  instances_seclusion students_mech_restraint  \\\n",
       "0                      0.0                  0.0                     0.0   \n",
       "1                      0.0                  0.0                     0.0   \n",
       "2                      0.0                  0.0                     0.0   \n",
       "3                      0.0                  0.0                     0.0   \n",
       "4                      0.0                  0.0                     0.0   \n",
       "\n",
       "  students_phys_restraint students_seclusion students_SAT_ACT  \n",
       "0                     0.0                0.0            243.0  \n",
       "1                     0.0                0.0            320.0  \n",
       "2                     0.0                0.0            209.0  \n",
       "3                     0.0                0.0            156.0  \n",
       "4                     0.0                0.0            171.0  \n",
       "\n",
       "[5 rows x 64 columns]"
      ]
     },
     "execution_count": 16,
     "metadata": {},
     "output_type": "execute_result"
    }
   ],
   "source": [
    "df_school.head()"
   ]
  },
  {
   "cell_type": "code",
   "execution_count": 17,
   "metadata": {
    "ExecuteTime": {
     "end_time": "2021-06-16T17:54:36.476898Z",
     "start_time": "2021-06-16T17:54:36.412456Z"
    },
    "scrolled": true
   },
   "outputs": [
    {
     "name": "stdout",
     "output_type": "stream",
     "text": [
      "<class 'pandas.core.frame.DataFrame'>\n",
      "Int64Index: 20482 entries, 0 to 3966\n",
      "Data columns (total 64 columns):\n",
      " #   Column                           Non-Null Count  Dtype  \n",
      "---  ------                           --------------  -----  \n",
      " 0   year                             20482 non-null  int64  \n",
      " 1   ncessch                          20482 non-null  int64  \n",
      " 2   school_name                      20482 non-null  object \n",
      " 3   state_name                       20482 non-null  object \n",
      " 4   lea_name                         20482 non-null  object \n",
      " 5   zip_location                     20482 non-null  object \n",
      " 6   urban_centric_locale             20457 non-null  object \n",
      " 7   school_level                     20482 non-null  object \n",
      " 8   school_type                      20482 non-null  object \n",
      " 9   charter                          20482 non-null  object \n",
      " 10  enrollment                       20482 non-null  object \n",
      " 11  read_test_num_valid              18073 non-null  float64\n",
      " 12  read_test_pct_prof_low           18073 non-null  object \n",
      " 13  read_test_pct_prof_high          18073 non-null  object \n",
      " 14  read_test_pct_prof_midpt         18073 non-null  object \n",
      " 15  math_test_num_valid              18132 non-null  float64\n",
      " 16  math_test_pct_prof_low           18132 non-null  object \n",
      " 17  math_test_pct_prof_high          18132 non-null  object \n",
      " 18  math_test_pct_prof_midpt         18132 non-null  object \n",
      " 19  students_susp_in_sch             18961 non-null  object \n",
      " 20  students_susp_out_sch_single     18961 non-null  object \n",
      " 21  students_susp_out_sch_multiple   18961 non-null  object \n",
      " 22  expulsions_no_ed_serv            18961 non-null  object \n",
      " 23  expulsions_with_ed_serv          18961 non-null  object \n",
      " 24  expulsions_zero_tolerance        18961 non-null  object \n",
      " 25  students_corporal_punish         18961 non-null  object \n",
      " 26  students_arrested                18961 non-null  object \n",
      " 27  students_referred_law_enforce    18961 non-null  object \n",
      " 28  transfers_alt_sch_disc           18961 non-null  float64\n",
      " 29  days_suspended                   18549 non-null  float64\n",
      " 30  suspensions_instances_preschool  18549 non-null  float64\n",
      " 31  suspensions_instances            18549 non-null  float64\n",
      " 32  corpinstances_preschool          18549 non-null  float64\n",
      " 33  corpinstances                    18549 non-null  float64\n",
      " 34  salaries_teachers                18549 non-null  object \n",
      " 35  cohort_num                       18337 non-null  float64\n",
      " 36  grad_rate_high                   18337 non-null  object \n",
      " 37  grad_rate_low                    18337 non-null  object \n",
      " 38  grad_rate_midpt                  18337 non-null  object \n",
      " 39  allegations_harass_sex           18961 non-null  object \n",
      " 40  allegations_harass_race          18961 non-null  object \n",
      " 41  allegations_harass_disability    18961 non-null  object \n",
      " 42  allegations_harass_orientation   18961 non-null  object \n",
      " 43  allegations_harass_religion      18961 non-null  object \n",
      " 44  students_disc_harass_dis         18961 non-null  float64\n",
      " 45  students_disc_harass_race        18961 non-null  float64\n",
      " 46  students_disc_harass_sex         18961 non-null  float64\n",
      " 47  students_report_harass_dis       18961 non-null  float64\n",
      " 48  students_report_harass_race      18961 non-null  float64\n",
      " 49  students_report_harass_sex       18961 non-null  float64\n",
      " 50  enrl_biology                     17067 non-null  float64\n",
      " 51  enrl_chemistry                   15532 non-null  float64\n",
      " 52  enrl_advanced_math               14161 non-null  float64\n",
      " 53  enrl_calculus                    11670 non-null  float64\n",
      " 54  enrl_algebra2                    16321 non-null  float64\n",
      " 55  enrl_physics                     13303 non-null  float64\n",
      " 56  enrl_geometry                    16722 non-null  float64\n",
      " 57  instances_mech_restraint         18424 non-null  float64\n",
      " 58  instances_phys_restraint         18827 non-null  float64\n",
      " 59  instances_seclusion              18827 non-null  float64\n",
      " 60  students_mech_restraint          18429 non-null  float64\n",
      " 61  students_phys_restraint          18813 non-null  float64\n",
      " 62  students_seclusion               18828 non-null  float64\n",
      " 63  students_SAT_ACT                 18961 non-null  float64\n",
      "dtypes: float64(29), int64(2), object(33)\n",
      "memory usage: 10.2+ MB\n"
     ]
    }
   ],
   "source": [
    "df_school.info()"
   ]
  },
  {
   "cell_type": "code",
   "execution_count": 18,
   "metadata": {
    "ExecuteTime": {
     "end_time": "2021-06-16T17:54:36.482277Z",
     "start_time": "2021-06-16T17:54:36.478582Z"
    },
    "scrolled": false
   },
   "outputs": [
    {
     "data": {
      "text/plain": [
       "(20482, 64)"
      ]
     },
     "execution_count": 18,
     "metadata": {},
     "output_type": "execute_result"
    }
   ],
   "source": [
    "df_school.shape"
   ]
  },
  {
   "cell_type": "markdown",
   "metadata": {},
   "source": [
    "#### Data Field Cleanup"
   ]
  },
  {
   "cell_type": "code",
   "execution_count": 19,
   "metadata": {
    "ExecuteTime": {
     "end_time": "2021-06-16T17:54:36.486446Z",
     "start_time": "2021-06-16T17:54:36.483948Z"
    }
   },
   "outputs": [],
   "source": [
    "column_names = list(df_school.columns)"
   ]
  },
  {
   "cell_type": "code",
   "execution_count": 20,
   "metadata": {
    "ExecuteTime": {
     "end_time": "2021-06-16T17:54:36.523093Z",
     "start_time": "2021-06-16T17:54:36.488762Z"
    }
   },
   "outputs": [],
   "source": [
    "for c in column_names:\n",
    "    df_school[c].replace('Suppressed data', np.NaN,inplace =True)"
   ]
  },
  {
   "cell_type": "code",
   "execution_count": 21,
   "metadata": {
    "ExecuteTime": {
     "end_time": "2021-06-16T17:54:36.554553Z",
     "start_time": "2021-06-16T17:54:36.524397Z"
    }
   },
   "outputs": [],
   "source": [
    "for c in column_names:\n",
    "    df_school[c].replace('Not applicable', np.NaN,inplace =True)"
   ]
  },
  {
   "cell_type": "code",
   "execution_count": 22,
   "metadata": {
    "ExecuteTime": {
     "end_time": "2021-06-16T17:54:36.585863Z",
     "start_time": "2021-06-16T17:54:36.556043Z"
    }
   },
   "outputs": [],
   "source": [
    "for c in column_names:\n",
    "    df_school[c].replace('Missing/not reported', np.NaN,inplace =True)"
   ]
  },
  {
   "cell_type": "markdown",
   "metadata": {},
   "source": [
    "### Columns to drop"
   ]
  },
  {
   "cell_type": "code",
   "execution_count": 23,
   "metadata": {
    "ExecuteTime": {
     "end_time": "2021-06-16T17:54:36.623771Z",
     "start_time": "2021-06-16T17:54:36.591690Z"
    }
   },
   "outputs": [
    {
     "name": "stdout",
     "output_type": "stream",
     "text": [
      "<class 'pandas.core.frame.DataFrame'>\n",
      "Int64Index: 20482 entries, 0 to 3966\n",
      "Data columns (total 64 columns):\n",
      " #   Column                           Non-Null Count  Dtype  \n",
      "---  ------                           --------------  -----  \n",
      " 0   year                             20482 non-null  int64  \n",
      " 1   ncessch                          20482 non-null  int64  \n",
      " 2   school_name                      20482 non-null  object \n",
      " 3   state_name                       20482 non-null  object \n",
      " 4   lea_name                         20482 non-null  object \n",
      " 5   zip_location                     19473 non-null  object \n",
      " 6   urban_centric_locale             20457 non-null  object \n",
      " 7   school_level                     20482 non-null  object \n",
      " 8   school_type                      20482 non-null  object \n",
      " 9   charter                          19368 non-null  object \n",
      " 10  enrollment                       20001 non-null  object \n",
      " 11  read_test_num_valid              18073 non-null  float64\n",
      " 12  read_test_pct_prof_low           17434 non-null  object \n",
      " 13  read_test_pct_prof_high          17434 non-null  object \n",
      " 14  read_test_pct_prof_midpt         17434 non-null  object \n",
      " 15  math_test_num_valid              18132 non-null  float64\n",
      " 16  math_test_pct_prof_low           17432 non-null  object \n",
      " 17  math_test_pct_prof_high          17432 non-null  object \n",
      " 18  math_test_pct_prof_midpt         17432 non-null  object \n",
      " 19  students_susp_in_sch             18732 non-null  object \n",
      " 20  students_susp_out_sch_single     18898 non-null  object \n",
      " 21  students_susp_out_sch_multiple   18898 non-null  object \n",
      " 22  expulsions_no_ed_serv            18898 non-null  object \n",
      " 23  expulsions_with_ed_serv          18732 non-null  object \n",
      " 24  expulsions_zero_tolerance        18898 non-null  object \n",
      " 25  students_corporal_punish         954 non-null    object \n",
      " 26  students_arrested                18305 non-null  object \n",
      " 27  students_referred_law_enforce    18728 non-null  object \n",
      " 28  transfers_alt_sch_disc           18961 non-null  float64\n",
      " 29  days_suspended                   18549 non-null  float64\n",
      " 30  suspensions_instances_preschool  18549 non-null  float64\n",
      " 31  suspensions_instances            18549 non-null  float64\n",
      " 32  corpinstances_preschool          18549 non-null  float64\n",
      " 33  corpinstances                    18549 non-null  float64\n",
      " 34  salaries_teachers                18049 non-null  object \n",
      " 35  cohort_num                       18337 non-null  float64\n",
      " 36  grad_rate_high                   17812 non-null  object \n",
      " 37  grad_rate_low                    17812 non-null  object \n",
      " 38  grad_rate_midpt                  17812 non-null  object \n",
      " 39  allegations_harass_sex           18836 non-null  object \n",
      " 40  allegations_harass_race          18836 non-null  object \n",
      " 41  allegations_harass_disability    18836 non-null  object \n",
      " 42  allegations_harass_orientation   18817 non-null  object \n",
      " 43  allegations_harass_religion      18817 non-null  object \n",
      " 44  students_disc_harass_dis         18961 non-null  float64\n",
      " 45  students_disc_harass_race        18961 non-null  float64\n",
      " 46  students_disc_harass_sex         18961 non-null  float64\n",
      " 47  students_report_harass_dis       18961 non-null  float64\n",
      " 48  students_report_harass_race      18961 non-null  float64\n",
      " 49  students_report_harass_sex       18961 non-null  float64\n",
      " 50  enrl_biology                     17067 non-null  float64\n",
      " 51  enrl_chemistry                   15532 non-null  float64\n",
      " 52  enrl_advanced_math               14161 non-null  float64\n",
      " 53  enrl_calculus                    11670 non-null  float64\n",
      " 54  enrl_algebra2                    16321 non-null  float64\n",
      " 55  enrl_physics                     13303 non-null  float64\n",
      " 56  enrl_geometry                    16722 non-null  float64\n",
      " 57  instances_mech_restraint         18424 non-null  float64\n",
      " 58  instances_phys_restraint         18827 non-null  float64\n",
      " 59  instances_seclusion              18827 non-null  float64\n",
      " 60  students_mech_restraint          18429 non-null  float64\n",
      " 61  students_phys_restraint          18813 non-null  float64\n",
      " 62  students_seclusion               18828 non-null  float64\n",
      " 63  students_SAT_ACT                 18961 non-null  float64\n",
      "dtypes: float64(29), int64(2), object(33)\n",
      "memory usage: 10.2+ MB\n"
     ]
    }
   ],
   "source": [
    "df_school.info()"
   ]
  },
  {
   "cell_type": "code",
   "execution_count": 24,
   "metadata": {
    "ExecuteTime": {
     "end_time": "2021-06-16T17:54:36.633984Z",
     "start_time": "2021-06-16T17:54:36.628230Z"
    }
   },
   "outputs": [
    {
     "data": {
      "text/plain": [
       "-1.0    0.904355\n",
       " NaN    0.094376\n",
       " 0.0    0.001221\n",
       " 3.0    0.000049\n",
       "Name: corpinstances_preschool, dtype: float64"
      ]
     },
     "execution_count": 24,
     "metadata": {},
     "output_type": "execute_result"
    }
   ],
   "source": [
    "df_school['corpinstances_preschool'].value_counts(normalize=True, dropna=False)"
   ]
  },
  {
   "cell_type": "code",
   "execution_count": 25,
   "metadata": {
    "ExecuteTime": {
     "end_time": "2021-06-16T17:54:36.641569Z",
     "start_time": "2021-06-16T17:54:36.635354Z"
    }
   },
   "outputs": [
    {
     "data": {
      "text/plain": [
       "NaN    0.953423\n",
       "0      0.007714\n",
       "2      0.005908\n",
       "4      0.003955\n",
       "6      0.002246\n",
       "         ...   \n",
       "171    0.000049\n",
       "78     0.000049\n",
       "350    0.000049\n",
       "181    0.000049\n",
       "48     0.000049\n",
       "Name: students_corporal_punish, Length: 116, dtype: float64"
      ]
     },
     "execution_count": 25,
     "metadata": {},
     "output_type": "execute_result"
    }
   ],
   "source": [
    "df_school['students_corporal_punish'].value_counts(normalize=True, dropna=False)"
   ]
  },
  {
   "cell_type": "markdown",
   "metadata": {},
   "source": [
    "- Drop year as this is the same for all rows\n",
    "- Drop corpinstances_preschool this column is mostly -1 which is not interpretable"
   ]
  },
  {
   "cell_type": "code",
   "execution_count": 26,
   "metadata": {
    "ExecuteTime": {
     "end_time": "2021-06-16T17:54:36.653482Z",
     "start_time": "2021-06-16T17:54:36.643036Z"
    }
   },
   "outputs": [],
   "source": [
    "df_school = df_school.drop(['year','corpinstances_preschool','students_corporal_punish','zip_location'], axis=1)"
   ]
  },
  {
   "cell_type": "markdown",
   "metadata": {},
   "source": [
    "### school_type"
   ]
  },
  {
   "cell_type": "code",
   "execution_count": 27,
   "metadata": {
    "ExecuteTime": {
     "end_time": "2021-06-16T17:54:36.662345Z",
     "start_time": "2021-06-16T17:54:36.655331Z"
    },
    "scrolled": true
   },
   "outputs": [
    {
     "data": {
      "text/plain": [
       "Regular school              0.798994\n",
       "Other/alternative school    0.136559\n",
       "Vocational school           0.050337\n",
       "Special education school    0.014110\n",
       "Name: school_type, dtype: float64"
      ]
     },
     "execution_count": 27,
     "metadata": {},
     "output_type": "execute_result"
    }
   ],
   "source": [
    "df_school['school_type'].value_counts(normalize=True, dropna=False)"
   ]
  },
  {
   "cell_type": "code",
   "execution_count": 28,
   "metadata": {
    "ExecuteTime": {
     "end_time": "2021-06-16T17:54:36.700966Z",
     "start_time": "2021-06-16T17:54:36.663690Z"
    },
    "scrolled": true
   },
   "outputs": [
    {
     "data": {
      "text/html": [
       "<div>\n",
       "<style scoped>\n",
       "    .dataframe tbody tr th:only-of-type {\n",
       "        vertical-align: middle;\n",
       "    }\n",
       "\n",
       "    .dataframe tbody tr th {\n",
       "        vertical-align: top;\n",
       "    }\n",
       "\n",
       "    .dataframe thead th {\n",
       "        text-align: right;\n",
       "    }\n",
       "</style>\n",
       "<table border=\"1\" class=\"dataframe\">\n",
       "  <thead>\n",
       "    <tr style=\"text-align: right;\">\n",
       "      <th></th>\n",
       "      <th>ncessch</th>\n",
       "      <th>school_name</th>\n",
       "      <th>state_name</th>\n",
       "      <th>lea_name</th>\n",
       "      <th>urban_centric_locale</th>\n",
       "      <th>school_level</th>\n",
       "      <th>school_type</th>\n",
       "      <th>charter</th>\n",
       "      <th>enrollment</th>\n",
       "      <th>read_test_num_valid</th>\n",
       "      <th>...</th>\n",
       "      <th>enrl_algebra2</th>\n",
       "      <th>enrl_physics</th>\n",
       "      <th>enrl_geometry</th>\n",
       "      <th>instances_mech_restraint</th>\n",
       "      <th>instances_phys_restraint</th>\n",
       "      <th>instances_seclusion</th>\n",
       "      <th>students_mech_restraint</th>\n",
       "      <th>students_phys_restraint</th>\n",
       "      <th>students_seclusion</th>\n",
       "      <th>students_SAT_ACT</th>\n",
       "    </tr>\n",
       "  </thead>\n",
       "  <tbody>\n",
       "    <tr>\n",
       "      <th>32</th>\n",
       "      <td>90000401360</td>\n",
       "      <td>Walter G. Cady School</td>\n",
       "      <td>Connecticut</td>\n",
       "      <td>UNIFIED SCHOOL DISTRICT #2</td>\n",
       "      <td>City, small</td>\n",
       "      <td>High</td>\n",
       "      <td>Regular school</td>\n",
       "      <td>No</td>\n",
       "      <td>62</td>\n",
       "      <td>3.0</td>\n",
       "      <td>...</td>\n",
       "      <td>31.0</td>\n",
       "      <td>NaN</td>\n",
       "      <td>31.0</td>\n",
       "      <td>5.0</td>\n",
       "      <td>12.0</td>\n",
       "      <td>0.0</td>\n",
       "      <td>5.0</td>\n",
       "      <td>9.0</td>\n",
       "      <td>0.0</td>\n",
       "      <td>0.0</td>\n",
       "    </tr>\n",
       "    <tr>\n",
       "      <th>33</th>\n",
       "      <td>90000501215</td>\n",
       "      <td>E. O. Smith High School</td>\n",
       "      <td>Connecticut</td>\n",
       "      <td>REGIONAL SCHOOL DISTRICT 19</td>\n",
       "      <td>Suburb, large</td>\n",
       "      <td>High</td>\n",
       "      <td>Regular school</td>\n",
       "      <td>No</td>\n",
       "      <td>1153</td>\n",
       "      <td>260.0</td>\n",
       "      <td>...</td>\n",
       "      <td>264.0</td>\n",
       "      <td>120.0</td>\n",
       "      <td>237.0</td>\n",
       "      <td>0.0</td>\n",
       "      <td>0.0</td>\n",
       "      <td>0.0</td>\n",
       "      <td>0.0</td>\n",
       "      <td>0.0</td>\n",
       "      <td>0.0</td>\n",
       "      <td>420.0</td>\n",
       "    </tr>\n",
       "    <tr>\n",
       "      <th>36</th>\n",
       "      <td>90001400807</td>\n",
       "      <td>Common Ground High School</td>\n",
       "      <td>Connecticut</td>\n",
       "      <td>COMMON GROUND HIGH SCHOOL DIS</td>\n",
       "      <td>City, midsize</td>\n",
       "      <td>High</td>\n",
       "      <td>Regular school</td>\n",
       "      <td>Yes</td>\n",
       "      <td>186</td>\n",
       "      <td>39.0</td>\n",
       "      <td>...</td>\n",
       "      <td>37.0</td>\n",
       "      <td>18.0</td>\n",
       "      <td>40.0</td>\n",
       "      <td>0.0</td>\n",
       "      <td>0.0</td>\n",
       "      <td>0.0</td>\n",
       "      <td>0.0</td>\n",
       "      <td>0.0</td>\n",
       "      <td>0.0</td>\n",
       "      <td>43.0</td>\n",
       "    </tr>\n",
       "    <tr>\n",
       "      <th>37</th>\n",
       "      <td>90001500809</td>\n",
       "      <td>The Bridge Academy</td>\n",
       "      <td>Connecticut</td>\n",
       "      <td>THE BRIDGE ACADEMY DISTRICT</td>\n",
       "      <td>City, midsize</td>\n",
       "      <td>High</td>\n",
       "      <td>Regular school</td>\n",
       "      <td>Yes</td>\n",
       "      <td>279</td>\n",
       "      <td>139.0</td>\n",
       "      <td>...</td>\n",
       "      <td>46.0</td>\n",
       "      <td>NaN</td>\n",
       "      <td>50.0</td>\n",
       "      <td>0.0</td>\n",
       "      <td>0.0</td>\n",
       "      <td>0.0</td>\n",
       "      <td>0.0</td>\n",
       "      <td>0.0</td>\n",
       "      <td>0.0</td>\n",
       "      <td>81.0</td>\n",
       "    </tr>\n",
       "    <tr>\n",
       "      <th>38</th>\n",
       "      <td>90001800834</td>\n",
       "      <td>Explorations</td>\n",
       "      <td>Connecticut</td>\n",
       "      <td>EXPLORATIONS DISTRICT</td>\n",
       "      <td>Town, fringe</td>\n",
       "      <td>High</td>\n",
       "      <td>Regular school</td>\n",
       "      <td>Yes</td>\n",
       "      <td>92</td>\n",
       "      <td>21.0</td>\n",
       "      <td>...</td>\n",
       "      <td>14.0</td>\n",
       "      <td>NaN</td>\n",
       "      <td>10.0</td>\n",
       "      <td>0.0</td>\n",
       "      <td>0.0</td>\n",
       "      <td>0.0</td>\n",
       "      <td>0.0</td>\n",
       "      <td>0.0</td>\n",
       "      <td>0.0</td>\n",
       "      <td>26.0</td>\n",
       "    </tr>\n",
       "    <tr>\n",
       "      <th>...</th>\n",
       "      <td>...</td>\n",
       "      <td>...</td>\n",
       "      <td>...</td>\n",
       "      <td>...</td>\n",
       "      <td>...</td>\n",
       "      <td>...</td>\n",
       "      <td>...</td>\n",
       "      <td>...</td>\n",
       "      <td>...</td>\n",
       "      <td>...</td>\n",
       "      <td>...</td>\n",
       "      <td>...</td>\n",
       "      <td>...</td>\n",
       "      <td>...</td>\n",
       "      <td>...</td>\n",
       "      <td>...</td>\n",
       "      <td>...</td>\n",
       "      <td>...</td>\n",
       "      <td>...</td>\n",
       "      <td>...</td>\n",
       "      <td>...</td>\n",
       "    </tr>\n",
       "    <tr>\n",
       "      <th>3960</th>\n",
       "      <td>484668005347</td>\n",
       "      <td>YSLETA H S</td>\n",
       "      <td>Texas</td>\n",
       "      <td>YSLETA ISD</td>\n",
       "      <td>City, large</td>\n",
       "      <td>High</td>\n",
       "      <td>Regular school</td>\n",
       "      <td>No</td>\n",
       "      <td>1337</td>\n",
       "      <td>966.0</td>\n",
       "      <td>...</td>\n",
       "      <td>320.0</td>\n",
       "      <td>347.0</td>\n",
       "      <td>NaN</td>\n",
       "      <td>0.0</td>\n",
       "      <td>3.0</td>\n",
       "      <td>0.0</td>\n",
       "      <td>0.0</td>\n",
       "      <td>4.0</td>\n",
       "      <td>0.0</td>\n",
       "      <td>347.0</td>\n",
       "    </tr>\n",
       "    <tr>\n",
       "      <th>3962</th>\n",
       "      <td>484668006496</td>\n",
       "      <td>DEL VALLE H S</td>\n",
       "      <td>Texas</td>\n",
       "      <td>YSLETA ISD</td>\n",
       "      <td>City, large</td>\n",
       "      <td>High</td>\n",
       "      <td>Regular school</td>\n",
       "      <td>No</td>\n",
       "      <td>1923</td>\n",
       "      <td>1259.0</td>\n",
       "      <td>...</td>\n",
       "      <td>556.0</td>\n",
       "      <td>466.0</td>\n",
       "      <td>391.0</td>\n",
       "      <td>0.0</td>\n",
       "      <td>4.0</td>\n",
       "      <td>0.0</td>\n",
       "      <td>0.0</td>\n",
       "      <td>12.0</td>\n",
       "      <td>0.0</td>\n",
       "      <td>404.0</td>\n",
       "    </tr>\n",
       "    <tr>\n",
       "      <th>3964</th>\n",
       "      <td>484668011982</td>\n",
       "      <td>VALLE VERDE EARLY COLLEGE H S</td>\n",
       "      <td>Texas</td>\n",
       "      <td>YSLETA ISD</td>\n",
       "      <td>City, large</td>\n",
       "      <td>High</td>\n",
       "      <td>Regular school</td>\n",
       "      <td>No</td>\n",
       "      <td>407</td>\n",
       "      <td>223.0</td>\n",
       "      <td>...</td>\n",
       "      <td>106.0</td>\n",
       "      <td>133.0</td>\n",
       "      <td>109.0</td>\n",
       "      <td>0.0</td>\n",
       "      <td>0.0</td>\n",
       "      <td>0.0</td>\n",
       "      <td>0.0</td>\n",
       "      <td>0.0</td>\n",
       "      <td>0.0</td>\n",
       "      <td>95.0</td>\n",
       "    </tr>\n",
       "    <tr>\n",
       "      <th>3965</th>\n",
       "      <td>484671005351</td>\n",
       "      <td>ZAPATA H S</td>\n",
       "      <td>Texas</td>\n",
       "      <td>ZAPATA COUNTY ISD</td>\n",
       "      <td>Rural, fringe</td>\n",
       "      <td>High</td>\n",
       "      <td>Regular school</td>\n",
       "      <td>No</td>\n",
       "      <td>987</td>\n",
       "      <td>823.0</td>\n",
       "      <td>...</td>\n",
       "      <td>267.0</td>\n",
       "      <td>228.0</td>\n",
       "      <td>278.0</td>\n",
       "      <td>0.0</td>\n",
       "      <td>0.0</td>\n",
       "      <td>0.0</td>\n",
       "      <td>0.0</td>\n",
       "      <td>0.0</td>\n",
       "      <td>0.0</td>\n",
       "      <td>203.0</td>\n",
       "    </tr>\n",
       "    <tr>\n",
       "      <th>3966</th>\n",
       "      <td>489913005627</td>\n",
       "      <td>BENAVIDES SECONDARY</td>\n",
       "      <td>Texas</td>\n",
       "      <td>BENAVIDES ISD</td>\n",
       "      <td>Rural, remote</td>\n",
       "      <td>High</td>\n",
       "      <td>Regular school</td>\n",
       "      <td>No</td>\n",
       "      <td>182</td>\n",
       "      <td>163.0</td>\n",
       "      <td>...</td>\n",
       "      <td>28.0</td>\n",
       "      <td>28.0</td>\n",
       "      <td>34.0</td>\n",
       "      <td>0.0</td>\n",
       "      <td>0.0</td>\n",
       "      <td>0.0</td>\n",
       "      <td>0.0</td>\n",
       "      <td>0.0</td>\n",
       "      <td>0.0</td>\n",
       "      <td>16.0</td>\n",
       "    </tr>\n",
       "  </tbody>\n",
       "</table>\n",
       "<p>16365 rows × 60 columns</p>\n",
       "</div>"
      ],
      "text/plain": [
       "           ncessch                    school_name   state_name  \\\n",
       "32     90000401360          Walter G. Cady School  Connecticut   \n",
       "33     90000501215        E. O. Smith High School  Connecticut   \n",
       "36     90001400807      Common Ground High School  Connecticut   \n",
       "37     90001500809             The Bridge Academy  Connecticut   \n",
       "38     90001800834                   Explorations  Connecticut   \n",
       "...            ...                            ...          ...   \n",
       "3960  484668005347                     YSLETA H S        Texas   \n",
       "3962  484668006496                  DEL VALLE H S        Texas   \n",
       "3964  484668011982  VALLE VERDE EARLY COLLEGE H S        Texas   \n",
       "3965  484671005351                     ZAPATA H S        Texas   \n",
       "3966  489913005627            BENAVIDES SECONDARY        Texas   \n",
       "\n",
       "                           lea_name urban_centric_locale school_level  \\\n",
       "32       UNIFIED SCHOOL DISTRICT #2          City, small         High   \n",
       "33      REGIONAL SCHOOL DISTRICT 19        Suburb, large         High   \n",
       "36    COMMON GROUND HIGH SCHOOL DIS        City, midsize         High   \n",
       "37      THE BRIDGE ACADEMY DISTRICT        City, midsize         High   \n",
       "38            EXPLORATIONS DISTRICT         Town, fringe         High   \n",
       "...                             ...                  ...          ...   \n",
       "3960                     YSLETA ISD          City, large         High   \n",
       "3962                     YSLETA ISD          City, large         High   \n",
       "3964                     YSLETA ISD          City, large         High   \n",
       "3965              ZAPATA COUNTY ISD        Rural, fringe         High   \n",
       "3966                  BENAVIDES ISD        Rural, remote         High   \n",
       "\n",
       "         school_type charter enrollment  read_test_num_valid  ...  \\\n",
       "32    Regular school      No         62                  3.0  ...   \n",
       "33    Regular school      No       1153                260.0  ...   \n",
       "36    Regular school     Yes        186                 39.0  ...   \n",
       "37    Regular school     Yes        279                139.0  ...   \n",
       "38    Regular school     Yes         92                 21.0  ...   \n",
       "...              ...     ...        ...                  ...  ...   \n",
       "3960  Regular school      No       1337                966.0  ...   \n",
       "3962  Regular school      No       1923               1259.0  ...   \n",
       "3964  Regular school      No        407                223.0  ...   \n",
       "3965  Regular school      No        987                823.0  ...   \n",
       "3966  Regular school      No        182                163.0  ...   \n",
       "\n",
       "     enrl_algebra2 enrl_physics enrl_geometry  instances_mech_restraint  \\\n",
       "32            31.0          NaN          31.0                       5.0   \n",
       "33           264.0        120.0         237.0                       0.0   \n",
       "36            37.0         18.0          40.0                       0.0   \n",
       "37            46.0          NaN          50.0                       0.0   \n",
       "38            14.0          NaN          10.0                       0.0   \n",
       "...            ...          ...           ...                       ...   \n",
       "3960         320.0        347.0           NaN                       0.0   \n",
       "3962         556.0        466.0         391.0                       0.0   \n",
       "3964         106.0        133.0         109.0                       0.0   \n",
       "3965         267.0        228.0         278.0                       0.0   \n",
       "3966          28.0         28.0          34.0                       0.0   \n",
       "\n",
       "     instances_phys_restraint instances_seclusion students_mech_restraint  \\\n",
       "32                       12.0                 0.0                     5.0   \n",
       "33                        0.0                 0.0                     0.0   \n",
       "36                        0.0                 0.0                     0.0   \n",
       "37                        0.0                 0.0                     0.0   \n",
       "38                        0.0                 0.0                     0.0   \n",
       "...                       ...                 ...                     ...   \n",
       "3960                      3.0                 0.0                     0.0   \n",
       "3962                      4.0                 0.0                     0.0   \n",
       "3964                      0.0                 0.0                     0.0   \n",
       "3965                      0.0                 0.0                     0.0   \n",
       "3966                      0.0                 0.0                     0.0   \n",
       "\n",
       "     students_phys_restraint students_seclusion students_SAT_ACT  \n",
       "32                       9.0                0.0              0.0  \n",
       "33                       0.0                0.0            420.0  \n",
       "36                       0.0                0.0             43.0  \n",
       "37                       0.0                0.0             81.0  \n",
       "38                       0.0                0.0             26.0  \n",
       "...                      ...                ...              ...  \n",
       "3960                     4.0                0.0            347.0  \n",
       "3962                    12.0                0.0            404.0  \n",
       "3964                     0.0                0.0             95.0  \n",
       "3965                     0.0                0.0            203.0  \n",
       "3966                     0.0                0.0             16.0  \n",
       "\n",
       "[16365 rows x 60 columns]"
      ]
     },
     "execution_count": 28,
     "metadata": {},
     "output_type": "execute_result"
    }
   ],
   "source": [
    "df_school_regular = df_school.loc[df_school['school_type'] == 'Regular school']\n",
    "df_school_regular"
   ]
  },
  {
   "cell_type": "code",
   "execution_count": 29,
   "metadata": {
    "ExecuteTime": {
     "end_time": "2021-06-16T17:54:36.790643Z",
     "start_time": "2021-06-16T17:54:36.702887Z"
    }
   },
   "outputs": [
    {
     "data": {
      "text/html": [
       "<div>\n",
       "<style scoped>\n",
       "    .dataframe tbody tr th:only-of-type {\n",
       "        vertical-align: middle;\n",
       "    }\n",
       "\n",
       "    .dataframe tbody tr th {\n",
       "        vertical-align: top;\n",
       "    }\n",
       "\n",
       "    .dataframe thead th {\n",
       "        text-align: right;\n",
       "    }\n",
       "</style>\n",
       "<table border=\"1\" class=\"dataframe\">\n",
       "  <thead>\n",
       "    <tr style=\"text-align: right;\">\n",
       "      <th></th>\n",
       "      <th>ncessch</th>\n",
       "      <th>school_name</th>\n",
       "      <th>state_name</th>\n",
       "      <th>lea_name</th>\n",
       "      <th>urban_centric_locale</th>\n",
       "      <th>school_level</th>\n",
       "      <th>school_type</th>\n",
       "      <th>charter</th>\n",
       "      <th>enrollment</th>\n",
       "      <th>read_test_num_valid</th>\n",
       "      <th>...</th>\n",
       "      <th>enrl_algebra2</th>\n",
       "      <th>enrl_physics</th>\n",
       "      <th>enrl_geometry</th>\n",
       "      <th>instances_mech_restraint</th>\n",
       "      <th>instances_phys_restraint</th>\n",
       "      <th>instances_seclusion</th>\n",
       "      <th>students_mech_restraint</th>\n",
       "      <th>students_phys_restraint</th>\n",
       "      <th>students_seclusion</th>\n",
       "      <th>students_SAT_ACT</th>\n",
       "    </tr>\n",
       "  </thead>\n",
       "  <tbody>\n",
       "    <tr>\n",
       "      <th>16</th>\n",
       "      <td>90000300343</td>\n",
       "      <td>Bridgeport Correctional Center</td>\n",
       "      <td>Connecticut</td>\n",
       "      <td>UNIFIED SCHOOL DISTRICT #1</td>\n",
       "      <td>City, midsize</td>\n",
       "      <td>High</td>\n",
       "      <td>Other/alternative school</td>\n",
       "      <td>No</td>\n",
       "      <td>6</td>\n",
       "      <td>NaN</td>\n",
       "      <td>...</td>\n",
       "      <td>NaN</td>\n",
       "      <td>NaN</td>\n",
       "      <td>NaN</td>\n",
       "      <td>NaN</td>\n",
       "      <td>NaN</td>\n",
       "      <td>NaN</td>\n",
       "      <td>NaN</td>\n",
       "      <td>NaN</td>\n",
       "      <td>NaN</td>\n",
       "      <td>NaN</td>\n",
       "    </tr>\n",
       "    <tr>\n",
       "      <th>17</th>\n",
       "      <td>90000300344</td>\n",
       "      <td>Brooklyn Correctional Institution</td>\n",
       "      <td>Connecticut</td>\n",
       "      <td>UNIFIED SCHOOL DISTRICT #1</td>\n",
       "      <td>Rural, fringe</td>\n",
       "      <td>High</td>\n",
       "      <td>Other/alternative school</td>\n",
       "      <td>No</td>\n",
       "      <td>1</td>\n",
       "      <td>NaN</td>\n",
       "      <td>...</td>\n",
       "      <td>NaN</td>\n",
       "      <td>NaN</td>\n",
       "      <td>NaN</td>\n",
       "      <td>NaN</td>\n",
       "      <td>NaN</td>\n",
       "      <td>NaN</td>\n",
       "      <td>NaN</td>\n",
       "      <td>NaN</td>\n",
       "      <td>NaN</td>\n",
       "      <td>NaN</td>\n",
       "    </tr>\n",
       "    <tr>\n",
       "      <th>18</th>\n",
       "      <td>90000300347</td>\n",
       "      <td>Cheshire Correctional Institution</td>\n",
       "      <td>Connecticut</td>\n",
       "      <td>UNIFIED SCHOOL DISTRICT #1</td>\n",
       "      <td>Suburb, large</td>\n",
       "      <td>High</td>\n",
       "      <td>Other/alternative school</td>\n",
       "      <td>No</td>\n",
       "      <td>10</td>\n",
       "      <td>NaN</td>\n",
       "      <td>...</td>\n",
       "      <td>NaN</td>\n",
       "      <td>NaN</td>\n",
       "      <td>NaN</td>\n",
       "      <td>NaN</td>\n",
       "      <td>NaN</td>\n",
       "      <td>NaN</td>\n",
       "      <td>NaN</td>\n",
       "      <td>NaN</td>\n",
       "      <td>NaN</td>\n",
       "      <td>NaN</td>\n",
       "    </tr>\n",
       "    <tr>\n",
       "      <th>19</th>\n",
       "      <td>90000300361</td>\n",
       "      <td>Hartford Correctional Center</td>\n",
       "      <td>Connecticut</td>\n",
       "      <td>UNIFIED SCHOOL DISTRICT #1</td>\n",
       "      <td>City, midsize</td>\n",
       "      <td>High</td>\n",
       "      <td>Other/alternative school</td>\n",
       "      <td>No</td>\n",
       "      <td>8</td>\n",
       "      <td>NaN</td>\n",
       "      <td>...</td>\n",
       "      <td>NaN</td>\n",
       "      <td>NaN</td>\n",
       "      <td>NaN</td>\n",
       "      <td>NaN</td>\n",
       "      <td>NaN</td>\n",
       "      <td>NaN</td>\n",
       "      <td>NaN</td>\n",
       "      <td>NaN</td>\n",
       "      <td>NaN</td>\n",
       "      <td>NaN</td>\n",
       "    </tr>\n",
       "    <tr>\n",
       "      <th>20</th>\n",
       "      <td>90000300374</td>\n",
       "      <td>New Haven Correctional Center</td>\n",
       "      <td>Connecticut</td>\n",
       "      <td>UNIFIED SCHOOL DISTRICT #1</td>\n",
       "      <td>City, midsize</td>\n",
       "      <td>High</td>\n",
       "      <td>Other/alternative school</td>\n",
       "      <td>No</td>\n",
       "      <td>3</td>\n",
       "      <td>NaN</td>\n",
       "      <td>...</td>\n",
       "      <td>NaN</td>\n",
       "      <td>NaN</td>\n",
       "      <td>NaN</td>\n",
       "      <td>NaN</td>\n",
       "      <td>NaN</td>\n",
       "      <td>NaN</td>\n",
       "      <td>NaN</td>\n",
       "      <td>NaN</td>\n",
       "      <td>NaN</td>\n",
       "      <td>NaN</td>\n",
       "    </tr>\n",
       "    <tr>\n",
       "      <th>...</th>\n",
       "      <td>...</td>\n",
       "      <td>...</td>\n",
       "      <td>...</td>\n",
       "      <td>...</td>\n",
       "      <td>...</td>\n",
       "      <td>...</td>\n",
       "      <td>...</td>\n",
       "      <td>...</td>\n",
       "      <td>...</td>\n",
       "      <td>...</td>\n",
       "      <td>...</td>\n",
       "      <td>...</td>\n",
       "      <td>...</td>\n",
       "      <td>...</td>\n",
       "      <td>...</td>\n",
       "      <td>...</td>\n",
       "      <td>...</td>\n",
       "      <td>...</td>\n",
       "      <td>...</td>\n",
       "      <td>...</td>\n",
       "      <td>...</td>\n",
       "    </tr>\n",
       "    <tr>\n",
       "      <th>3932</th>\n",
       "      <td>484578000736</td>\n",
       "      <td>HARRELL ACCELERATED LEARNING CENTER</td>\n",
       "      <td>Texas</td>\n",
       "      <td>WICHITA FALLS ISD</td>\n",
       "      <td>City, midsize</td>\n",
       "      <td>High</td>\n",
       "      <td>Other/alternative school</td>\n",
       "      <td>No</td>\n",
       "      <td>79</td>\n",
       "      <td>64.0</td>\n",
       "      <td>...</td>\n",
       "      <td>31.0</td>\n",
       "      <td>31.0</td>\n",
       "      <td>16.0</td>\n",
       "      <td>0.0</td>\n",
       "      <td>0.0</td>\n",
       "      <td>0.0</td>\n",
       "      <td>0.0</td>\n",
       "      <td>0.0</td>\n",
       "      <td>0.0</td>\n",
       "      <td>0.0</td>\n",
       "    </tr>\n",
       "    <tr>\n",
       "      <th>3936</th>\n",
       "      <td>484578009422</td>\n",
       "      <td>WICHITA COUNTY JUVENILE JUSTICE AEP</td>\n",
       "      <td>Texas</td>\n",
       "      <td>WICHITA FALLS ISD</td>\n",
       "      <td>City, midsize</td>\n",
       "      <td>High</td>\n",
       "      <td>Other/alternative school</td>\n",
       "      <td>No</td>\n",
       "      <td>27</td>\n",
       "      <td>29.0</td>\n",
       "      <td>...</td>\n",
       "      <td>NaN</td>\n",
       "      <td>NaN</td>\n",
       "      <td>8.0</td>\n",
       "      <td>0.0</td>\n",
       "      <td>0.0</td>\n",
       "      <td>0.0</td>\n",
       "      <td>0.0</td>\n",
       "      <td>0.0</td>\n",
       "      <td>0.0</td>\n",
       "      <td>0.0</td>\n",
       "    </tr>\n",
       "    <tr>\n",
       "      <th>3954</th>\n",
       "      <td>484668003897</td>\n",
       "      <td>CESAR CHAVEZ ACADEMY</td>\n",
       "      <td>Texas</td>\n",
       "      <td>YSLETA ISD</td>\n",
       "      <td>City, large</td>\n",
       "      <td>High</td>\n",
       "      <td>Other/alternative school</td>\n",
       "      <td>No</td>\n",
       "      <td>68</td>\n",
       "      <td>NaN</td>\n",
       "      <td>...</td>\n",
       "      <td>13.0</td>\n",
       "      <td>13.0</td>\n",
       "      <td>24.0</td>\n",
       "      <td>0.0</td>\n",
       "      <td>2.0</td>\n",
       "      <td>0.0</td>\n",
       "      <td>0.0</td>\n",
       "      <td>8.0</td>\n",
       "      <td>0.0</td>\n",
       "      <td>7.0</td>\n",
       "    </tr>\n",
       "    <tr>\n",
       "      <th>3961</th>\n",
       "      <td>484668005938</td>\n",
       "      <td>TEJAS SCHOOL OF CHOICE</td>\n",
       "      <td>Texas</td>\n",
       "      <td>YSLETA ISD</td>\n",
       "      <td>City, large</td>\n",
       "      <td>High</td>\n",
       "      <td>Other/alternative school</td>\n",
       "      <td>No</td>\n",
       "      <td>102</td>\n",
       "      <td>101.0</td>\n",
       "      <td>...</td>\n",
       "      <td>36.0</td>\n",
       "      <td>54.0</td>\n",
       "      <td>56.0</td>\n",
       "      <td>0.0</td>\n",
       "      <td>0.0</td>\n",
       "      <td>0.0</td>\n",
       "      <td>0.0</td>\n",
       "      <td>0.0</td>\n",
       "      <td>0.0</td>\n",
       "      <td>7.0</td>\n",
       "    </tr>\n",
       "    <tr>\n",
       "      <th>3963</th>\n",
       "      <td>484668008548</td>\n",
       "      <td>PLATO ACADEMY</td>\n",
       "      <td>Texas</td>\n",
       "      <td>YSLETA ISD</td>\n",
       "      <td>City, large</td>\n",
       "      <td>High</td>\n",
       "      <td>Other/alternative school</td>\n",
       "      <td>No</td>\n",
       "      <td>146</td>\n",
       "      <td>55.0</td>\n",
       "      <td>...</td>\n",
       "      <td>16.0</td>\n",
       "      <td>37.0</td>\n",
       "      <td>31.0</td>\n",
       "      <td>0.0</td>\n",
       "      <td>0.0</td>\n",
       "      <td>0.0</td>\n",
       "      <td>0.0</td>\n",
       "      <td>0.0</td>\n",
       "      <td>0.0</td>\n",
       "      <td>4.0</td>\n",
       "    </tr>\n",
       "  </tbody>\n",
       "</table>\n",
       "<p>2797 rows × 60 columns</p>\n",
       "</div>"
      ],
      "text/plain": [
       "           ncessch                          school_name   state_name  \\\n",
       "16     90000300343       Bridgeport Correctional Center  Connecticut   \n",
       "17     90000300344    Brooklyn Correctional Institution  Connecticut   \n",
       "18     90000300347    Cheshire Correctional Institution  Connecticut   \n",
       "19     90000300361         Hartford Correctional Center  Connecticut   \n",
       "20     90000300374        New Haven Correctional Center  Connecticut   \n",
       "...            ...                                  ...          ...   \n",
       "3932  484578000736  HARRELL ACCELERATED LEARNING CENTER        Texas   \n",
       "3936  484578009422  WICHITA COUNTY JUVENILE JUSTICE AEP        Texas   \n",
       "3954  484668003897                 CESAR CHAVEZ ACADEMY        Texas   \n",
       "3961  484668005938               TEJAS SCHOOL OF CHOICE        Texas   \n",
       "3963  484668008548                        PLATO ACADEMY        Texas   \n",
       "\n",
       "                        lea_name urban_centric_locale school_level  \\\n",
       "16    UNIFIED SCHOOL DISTRICT #1        City, midsize         High   \n",
       "17    UNIFIED SCHOOL DISTRICT #1        Rural, fringe         High   \n",
       "18    UNIFIED SCHOOL DISTRICT #1        Suburb, large         High   \n",
       "19    UNIFIED SCHOOL DISTRICT #1        City, midsize         High   \n",
       "20    UNIFIED SCHOOL DISTRICT #1        City, midsize         High   \n",
       "...                          ...                  ...          ...   \n",
       "3932           WICHITA FALLS ISD        City, midsize         High   \n",
       "3936           WICHITA FALLS ISD        City, midsize         High   \n",
       "3954                  YSLETA ISD          City, large         High   \n",
       "3961                  YSLETA ISD          City, large         High   \n",
       "3963                  YSLETA ISD          City, large         High   \n",
       "\n",
       "                   school_type charter enrollment  read_test_num_valid  ...  \\\n",
       "16    Other/alternative school      No          6                  NaN  ...   \n",
       "17    Other/alternative school      No          1                  NaN  ...   \n",
       "18    Other/alternative school      No         10                  NaN  ...   \n",
       "19    Other/alternative school      No          8                  NaN  ...   \n",
       "20    Other/alternative school      No          3                  NaN  ...   \n",
       "...                        ...     ...        ...                  ...  ...   \n",
       "3932  Other/alternative school      No         79                 64.0  ...   \n",
       "3936  Other/alternative school      No         27                 29.0  ...   \n",
       "3954  Other/alternative school      No         68                  NaN  ...   \n",
       "3961  Other/alternative school      No        102                101.0  ...   \n",
       "3963  Other/alternative school      No        146                 55.0  ...   \n",
       "\n",
       "     enrl_algebra2 enrl_physics enrl_geometry  instances_mech_restraint  \\\n",
       "16             NaN          NaN           NaN                       NaN   \n",
       "17             NaN          NaN           NaN                       NaN   \n",
       "18             NaN          NaN           NaN                       NaN   \n",
       "19             NaN          NaN           NaN                       NaN   \n",
       "20             NaN          NaN           NaN                       NaN   \n",
       "...            ...          ...           ...                       ...   \n",
       "3932          31.0         31.0          16.0                       0.0   \n",
       "3936           NaN          NaN           8.0                       0.0   \n",
       "3954          13.0         13.0          24.0                       0.0   \n",
       "3961          36.0         54.0          56.0                       0.0   \n",
       "3963          16.0         37.0          31.0                       0.0   \n",
       "\n",
       "     instances_phys_restraint instances_seclusion students_mech_restraint  \\\n",
       "16                        NaN                 NaN                     NaN   \n",
       "17                        NaN                 NaN                     NaN   \n",
       "18                        NaN                 NaN                     NaN   \n",
       "19                        NaN                 NaN                     NaN   \n",
       "20                        NaN                 NaN                     NaN   \n",
       "...                       ...                 ...                     ...   \n",
       "3932                      0.0                 0.0                     0.0   \n",
       "3936                      0.0                 0.0                     0.0   \n",
       "3954                      2.0                 0.0                     0.0   \n",
       "3961                      0.0                 0.0                     0.0   \n",
       "3963                      0.0                 0.0                     0.0   \n",
       "\n",
       "     students_phys_restraint students_seclusion students_SAT_ACT  \n",
       "16                       NaN                NaN              NaN  \n",
       "17                       NaN                NaN              NaN  \n",
       "18                       NaN                NaN              NaN  \n",
       "19                       NaN                NaN              NaN  \n",
       "20                       NaN                NaN              NaN  \n",
       "...                      ...                ...              ...  \n",
       "3932                     0.0                0.0              0.0  \n",
       "3936                     0.0                0.0              0.0  \n",
       "3954                     8.0                0.0              7.0  \n",
       "3961                     0.0                0.0              7.0  \n",
       "3963                     0.0                0.0              4.0  \n",
       "\n",
       "[2797 rows x 60 columns]"
      ]
     },
     "execution_count": 29,
     "metadata": {},
     "output_type": "execute_result"
    }
   ],
   "source": [
    "df_school_alternative = df_school.loc[df_school['school_type'] == 'Other/alternative school']\n",
    "df_school_alternative"
   ]
  },
  {
   "cell_type": "code",
   "execution_count": 30,
   "metadata": {
    "ExecuteTime": {
     "end_time": "2021-06-16T17:54:36.825912Z",
     "start_time": "2021-06-16T17:54:36.793440Z"
    }
   },
   "outputs": [
    {
     "data": {
      "text/html": [
       "<div>\n",
       "<style scoped>\n",
       "    .dataframe tbody tr th:only-of-type {\n",
       "        vertical-align: middle;\n",
       "    }\n",
       "\n",
       "    .dataframe tbody tr th {\n",
       "        vertical-align: top;\n",
       "    }\n",
       "\n",
       "    .dataframe thead th {\n",
       "        text-align: right;\n",
       "    }\n",
       "</style>\n",
       "<table border=\"1\" class=\"dataframe\">\n",
       "  <thead>\n",
       "    <tr style=\"text-align: right;\">\n",
       "      <th></th>\n",
       "      <th>ncessch</th>\n",
       "      <th>school_name</th>\n",
       "      <th>state_name</th>\n",
       "      <th>lea_name</th>\n",
       "      <th>urban_centric_locale</th>\n",
       "      <th>school_level</th>\n",
       "      <th>school_type</th>\n",
       "      <th>charter</th>\n",
       "      <th>enrollment</th>\n",
       "      <th>read_test_num_valid</th>\n",
       "      <th>...</th>\n",
       "      <th>enrl_algebra2</th>\n",
       "      <th>enrl_physics</th>\n",
       "      <th>enrl_geometry</th>\n",
       "      <th>instances_mech_restraint</th>\n",
       "      <th>instances_phys_restraint</th>\n",
       "      <th>instances_seclusion</th>\n",
       "      <th>students_mech_restraint</th>\n",
       "      <th>students_phys_restraint</th>\n",
       "      <th>students_seclusion</th>\n",
       "      <th>students_SAT_ACT</th>\n",
       "    </tr>\n",
       "  </thead>\n",
       "  <tbody>\n",
       "    <tr>\n",
       "      <th>0</th>\n",
       "      <td>90000201136</td>\n",
       "      <td>A. I. Prince Technical High School</td>\n",
       "      <td>Connecticut</td>\n",
       "      <td>Connecticut Technical High Sc</td>\n",
       "      <td>City, midsize</td>\n",
       "      <td>High</td>\n",
       "      <td>Vocational school</td>\n",
       "      <td>No</td>\n",
       "      <td>768</td>\n",
       "      <td>169.0</td>\n",
       "      <td>...</td>\n",
       "      <td>212.0</td>\n",
       "      <td>66.0</td>\n",
       "      <td>180.0</td>\n",
       "      <td>0.0</td>\n",
       "      <td>0.0</td>\n",
       "      <td>0.0</td>\n",
       "      <td>0.0</td>\n",
       "      <td>0.0</td>\n",
       "      <td>0.0</td>\n",
       "      <td>243.0</td>\n",
       "    </tr>\n",
       "    <tr>\n",
       "      <th>1</th>\n",
       "      <td>90000201137</td>\n",
       "      <td>Bullard-Havens Technical High School</td>\n",
       "      <td>Connecticut</td>\n",
       "      <td>Connecticut Technical High Sc</td>\n",
       "      <td>City, midsize</td>\n",
       "      <td>High</td>\n",
       "      <td>Vocational school</td>\n",
       "      <td>No</td>\n",
       "      <td>784</td>\n",
       "      <td>174.0</td>\n",
       "      <td>...</td>\n",
       "      <td>180.0</td>\n",
       "      <td>NaN</td>\n",
       "      <td>207.0</td>\n",
       "      <td>0.0</td>\n",
       "      <td>0.0</td>\n",
       "      <td>0.0</td>\n",
       "      <td>0.0</td>\n",
       "      <td>0.0</td>\n",
       "      <td>0.0</td>\n",
       "      <td>320.0</td>\n",
       "    </tr>\n",
       "    <tr>\n",
       "      <th>2</th>\n",
       "      <td>90000201138</td>\n",
       "      <td>E. C. Goodwin Technical High School</td>\n",
       "      <td>Connecticut</td>\n",
       "      <td>Connecticut Technical High Sc</td>\n",
       "      <td>Suburb, large</td>\n",
       "      <td>High</td>\n",
       "      <td>Vocational school</td>\n",
       "      <td>No</td>\n",
       "      <td>636</td>\n",
       "      <td>141.0</td>\n",
       "      <td>...</td>\n",
       "      <td>308.0</td>\n",
       "      <td>45.0</td>\n",
       "      <td>NaN</td>\n",
       "      <td>0.0</td>\n",
       "      <td>0.0</td>\n",
       "      <td>0.0</td>\n",
       "      <td>0.0</td>\n",
       "      <td>0.0</td>\n",
       "      <td>0.0</td>\n",
       "      <td>209.0</td>\n",
       "    </tr>\n",
       "    <tr>\n",
       "      <th>3</th>\n",
       "      <td>90000201139</td>\n",
       "      <td>Ella T. Grasso Southeastern Technical High School</td>\n",
       "      <td>Connecticut</td>\n",
       "      <td>Connecticut Technical High Sc</td>\n",
       "      <td>Rural, fringe</td>\n",
       "      <td>High</td>\n",
       "      <td>Vocational school</td>\n",
       "      <td>No</td>\n",
       "      <td>505</td>\n",
       "      <td>125.0</td>\n",
       "      <td>...</td>\n",
       "      <td>165.0</td>\n",
       "      <td>35.0</td>\n",
       "      <td>6.0</td>\n",
       "      <td>0.0</td>\n",
       "      <td>0.0</td>\n",
       "      <td>0.0</td>\n",
       "      <td>0.0</td>\n",
       "      <td>0.0</td>\n",
       "      <td>0.0</td>\n",
       "      <td>156.0</td>\n",
       "    </tr>\n",
       "    <tr>\n",
       "      <th>4</th>\n",
       "      <td>90000201140</td>\n",
       "      <td>Eli Whitney Technical High School</td>\n",
       "      <td>Connecticut</td>\n",
       "      <td>Connecticut Technical High Sc</td>\n",
       "      <td>Suburb, large</td>\n",
       "      <td>High</td>\n",
       "      <td>Vocational school</td>\n",
       "      <td>No</td>\n",
       "      <td>551</td>\n",
       "      <td>140.0</td>\n",
       "      <td>...</td>\n",
       "      <td>150.0</td>\n",
       "      <td>NaN</td>\n",
       "      <td>147.0</td>\n",
       "      <td>0.0</td>\n",
       "      <td>0.0</td>\n",
       "      <td>0.0</td>\n",
       "      <td>0.0</td>\n",
       "      <td>0.0</td>\n",
       "      <td>0.0</td>\n",
       "      <td>171.0</td>\n",
       "    </tr>\n",
       "    <tr>\n",
       "      <th>5</th>\n",
       "      <td>90000201141</td>\n",
       "      <td>Emmett OBrien Technical High School</td>\n",
       "      <td>Connecticut</td>\n",
       "      <td>Connecticut Technical High Sc</td>\n",
       "      <td>Suburb, large</td>\n",
       "      <td>High</td>\n",
       "      <td>Vocational school</td>\n",
       "      <td>No</td>\n",
       "      <td>573</td>\n",
       "      <td>131.0</td>\n",
       "      <td>...</td>\n",
       "      <td>134.0</td>\n",
       "      <td>69.0</td>\n",
       "      <td>147.0</td>\n",
       "      <td>0.0</td>\n",
       "      <td>0.0</td>\n",
       "      <td>0.0</td>\n",
       "      <td>0.0</td>\n",
       "      <td>0.0</td>\n",
       "      <td>0.0</td>\n",
       "      <td>219.0</td>\n",
       "    </tr>\n",
       "    <tr>\n",
       "      <th>6</th>\n",
       "      <td>90000201142</td>\n",
       "      <td>H. C. Wilcox Technical High School</td>\n",
       "      <td>Connecticut</td>\n",
       "      <td>Connecticut Technical High Sc</td>\n",
       "      <td>Suburb, large</td>\n",
       "      <td>High</td>\n",
       "      <td>Vocational school</td>\n",
       "      <td>No</td>\n",
       "      <td>760</td>\n",
       "      <td>188.0</td>\n",
       "      <td>...</td>\n",
       "      <td>191.0</td>\n",
       "      <td>141.0</td>\n",
       "      <td>177.0</td>\n",
       "      <td>0.0</td>\n",
       "      <td>0.0</td>\n",
       "      <td>0.0</td>\n",
       "      <td>0.0</td>\n",
       "      <td>0.0</td>\n",
       "      <td>0.0</td>\n",
       "      <td>270.0</td>\n",
       "    </tr>\n",
       "    <tr>\n",
       "      <th>7</th>\n",
       "      <td>90000201143</td>\n",
       "      <td>H. H. Ellis Technical High School</td>\n",
       "      <td>Connecticut</td>\n",
       "      <td>Connecticut Technical High Sc</td>\n",
       "      <td>Suburb, large</td>\n",
       "      <td>High</td>\n",
       "      <td>Vocational school</td>\n",
       "      <td>No</td>\n",
       "      <td>623</td>\n",
       "      <td>154.0</td>\n",
       "      <td>...</td>\n",
       "      <td>329.0</td>\n",
       "      <td>NaN</td>\n",
       "      <td>119.0</td>\n",
       "      <td>0.0</td>\n",
       "      <td>0.0</td>\n",
       "      <td>0.0</td>\n",
       "      <td>0.0</td>\n",
       "      <td>0.0</td>\n",
       "      <td>0.0</td>\n",
       "      <td>184.0</td>\n",
       "    </tr>\n",
       "    <tr>\n",
       "      <th>8</th>\n",
       "      <td>90000201144</td>\n",
       "      <td>Henry Abbott Technical High School</td>\n",
       "      <td>Connecticut</td>\n",
       "      <td>Connecticut Technical High Sc</td>\n",
       "      <td>City, small</td>\n",
       "      <td>High</td>\n",
       "      <td>Vocational school</td>\n",
       "      <td>No</td>\n",
       "      <td>640</td>\n",
       "      <td>145.0</td>\n",
       "      <td>...</td>\n",
       "      <td>173.0</td>\n",
       "      <td>93.0</td>\n",
       "      <td>172.0</td>\n",
       "      <td>0.0</td>\n",
       "      <td>0.0</td>\n",
       "      <td>0.0</td>\n",
       "      <td>0.0</td>\n",
       "      <td>0.0</td>\n",
       "      <td>0.0</td>\n",
       "      <td>233.0</td>\n",
       "    </tr>\n",
       "    <tr>\n",
       "      <th>9</th>\n",
       "      <td>90000201145</td>\n",
       "      <td>Howell Cheney Technical High School</td>\n",
       "      <td>Connecticut</td>\n",
       "      <td>Connecticut Technical High Sc</td>\n",
       "      <td>Suburb, large</td>\n",
       "      <td>High</td>\n",
       "      <td>Vocational school</td>\n",
       "      <td>No</td>\n",
       "      <td>653</td>\n",
       "      <td>148.0</td>\n",
       "      <td>...</td>\n",
       "      <td>182.0</td>\n",
       "      <td>19.0</td>\n",
       "      <td>153.0</td>\n",
       "      <td>0.0</td>\n",
       "      <td>0.0</td>\n",
       "      <td>0.0</td>\n",
       "      <td>0.0</td>\n",
       "      <td>0.0</td>\n",
       "      <td>0.0</td>\n",
       "      <td>200.0</td>\n",
       "    </tr>\n",
       "  </tbody>\n",
       "</table>\n",
       "<p>10 rows × 60 columns</p>\n",
       "</div>"
      ],
      "text/plain": [
       "       ncessch                                        school_name  \\\n",
       "0  90000201136                 A. I. Prince Technical High School   \n",
       "1  90000201137               Bullard-Havens Technical High School   \n",
       "2  90000201138                E. C. Goodwin Technical High School   \n",
       "3  90000201139  Ella T. Grasso Southeastern Technical High School   \n",
       "4  90000201140                  Eli Whitney Technical High School   \n",
       "5  90000201141                Emmett OBrien Technical High School   \n",
       "6  90000201142                 H. C. Wilcox Technical High School   \n",
       "7  90000201143                  H. H. Ellis Technical High School   \n",
       "8  90000201144                 Henry Abbott Technical High School   \n",
       "9  90000201145                Howell Cheney Technical High School   \n",
       "\n",
       "    state_name                       lea_name urban_centric_locale  \\\n",
       "0  Connecticut  Connecticut Technical High Sc        City, midsize   \n",
       "1  Connecticut  Connecticut Technical High Sc        City, midsize   \n",
       "2  Connecticut  Connecticut Technical High Sc        Suburb, large   \n",
       "3  Connecticut  Connecticut Technical High Sc        Rural, fringe   \n",
       "4  Connecticut  Connecticut Technical High Sc        Suburb, large   \n",
       "5  Connecticut  Connecticut Technical High Sc        Suburb, large   \n",
       "6  Connecticut  Connecticut Technical High Sc        Suburb, large   \n",
       "7  Connecticut  Connecticut Technical High Sc        Suburb, large   \n",
       "8  Connecticut  Connecticut Technical High Sc          City, small   \n",
       "9  Connecticut  Connecticut Technical High Sc        Suburb, large   \n",
       "\n",
       "  school_level        school_type charter enrollment  read_test_num_valid  \\\n",
       "0         High  Vocational school      No        768                169.0   \n",
       "1         High  Vocational school      No        784                174.0   \n",
       "2         High  Vocational school      No        636                141.0   \n",
       "3         High  Vocational school      No        505                125.0   \n",
       "4         High  Vocational school      No        551                140.0   \n",
       "5         High  Vocational school      No        573                131.0   \n",
       "6         High  Vocational school      No        760                188.0   \n",
       "7         High  Vocational school      No        623                154.0   \n",
       "8         High  Vocational school      No        640                145.0   \n",
       "9         High  Vocational school      No        653                148.0   \n",
       "\n",
       "   ... enrl_algebra2 enrl_physics enrl_geometry  instances_mech_restraint  \\\n",
       "0  ...         212.0         66.0         180.0                       0.0   \n",
       "1  ...         180.0          NaN         207.0                       0.0   \n",
       "2  ...         308.0         45.0           NaN                       0.0   \n",
       "3  ...         165.0         35.0           6.0                       0.0   \n",
       "4  ...         150.0          NaN         147.0                       0.0   \n",
       "5  ...         134.0         69.0         147.0                       0.0   \n",
       "6  ...         191.0        141.0         177.0                       0.0   \n",
       "7  ...         329.0          NaN         119.0                       0.0   \n",
       "8  ...         173.0         93.0         172.0                       0.0   \n",
       "9  ...         182.0         19.0         153.0                       0.0   \n",
       "\n",
       "  instances_phys_restraint instances_seclusion students_mech_restraint  \\\n",
       "0                      0.0                 0.0                     0.0   \n",
       "1                      0.0                 0.0                     0.0   \n",
       "2                      0.0                 0.0                     0.0   \n",
       "3                      0.0                 0.0                     0.0   \n",
       "4                      0.0                 0.0                     0.0   \n",
       "5                      0.0                 0.0                     0.0   \n",
       "6                      0.0                 0.0                     0.0   \n",
       "7                      0.0                 0.0                     0.0   \n",
       "8                      0.0                 0.0                     0.0   \n",
       "9                      0.0                 0.0                     0.0   \n",
       "\n",
       "  students_phys_restraint students_seclusion students_SAT_ACT  \n",
       "0                     0.0                0.0            243.0  \n",
       "1                     0.0                0.0            320.0  \n",
       "2                     0.0                0.0            209.0  \n",
       "3                     0.0                0.0            156.0  \n",
       "4                     0.0                0.0            171.0  \n",
       "5                     0.0                0.0            219.0  \n",
       "6                     0.0                0.0            270.0  \n",
       "7                     0.0                0.0            184.0  \n",
       "8                     0.0                0.0            233.0  \n",
       "9                     0.0                0.0            200.0  \n",
       "\n",
       "[10 rows x 60 columns]"
      ]
     },
     "execution_count": 30,
     "metadata": {},
     "output_type": "execute_result"
    }
   ],
   "source": [
    "df_school_vocational = df_school.loc[df_school['school_type'] == 'Vocational school']\n",
    "df_school_vocational.head(10)"
   ]
  },
  {
   "cell_type": "code",
   "execution_count": 31,
   "metadata": {
    "ExecuteTime": {
     "end_time": "2021-06-16T17:54:36.855719Z",
     "start_time": "2021-06-16T17:54:36.828442Z"
    },
    "scrolled": false
   },
   "outputs": [
    {
     "data": {
      "text/html": [
       "<div>\n",
       "<style scoped>\n",
       "    .dataframe tbody tr th:only-of-type {\n",
       "        vertical-align: middle;\n",
       "    }\n",
       "\n",
       "    .dataframe tbody tr th {\n",
       "        vertical-align: top;\n",
       "    }\n",
       "\n",
       "    .dataframe thead th {\n",
       "        text-align: right;\n",
       "    }\n",
       "</style>\n",
       "<table border=\"1\" class=\"dataframe\">\n",
       "  <thead>\n",
       "    <tr style=\"text-align: right;\">\n",
       "      <th></th>\n",
       "      <th>ncessch</th>\n",
       "      <th>school_name</th>\n",
       "      <th>state_name</th>\n",
       "      <th>lea_name</th>\n",
       "      <th>urban_centric_locale</th>\n",
       "      <th>school_level</th>\n",
       "      <th>school_type</th>\n",
       "      <th>charter</th>\n",
       "      <th>enrollment</th>\n",
       "      <th>read_test_num_valid</th>\n",
       "      <th>...</th>\n",
       "      <th>enrl_algebra2</th>\n",
       "      <th>enrl_physics</th>\n",
       "      <th>enrl_geometry</th>\n",
       "      <th>instances_mech_restraint</th>\n",
       "      <th>instances_phys_restraint</th>\n",
       "      <th>instances_seclusion</th>\n",
       "      <th>students_mech_restraint</th>\n",
       "      <th>students_phys_restraint</th>\n",
       "      <th>students_seclusion</th>\n",
       "      <th>students_SAT_ACT</th>\n",
       "    </tr>\n",
       "  </thead>\n",
       "  <tbody>\n",
       "    <tr>\n",
       "      <th>46</th>\n",
       "      <td>90007001588</td>\n",
       "      <td>Center for Autism Spectrum and Development Dis...</td>\n",
       "      <td>Connecticut</td>\n",
       "      <td>AREA COOPERATIVE EDUCATIONAL</td>\n",
       "      <td>Suburb, large</td>\n",
       "      <td>High</td>\n",
       "      <td>Special education school</td>\n",
       "      <td>No</td>\n",
       "      <td>38</td>\n",
       "      <td>NaN</td>\n",
       "      <td>...</td>\n",
       "      <td>NaN</td>\n",
       "      <td>NaN</td>\n",
       "      <td>NaN</td>\n",
       "      <td>0.0</td>\n",
       "      <td>58.0</td>\n",
       "      <td>150.0</td>\n",
       "      <td>0.0</td>\n",
       "      <td>14.0</td>\n",
       "      <td>16.0</td>\n",
       "      <td>0.0</td>\n",
       "    </tr>\n",
       "    <tr>\n",
       "      <th>64</th>\n",
       "      <td>90051001515</td>\n",
       "      <td>Community/Vocational Program</td>\n",
       "      <td>Connecticut</td>\n",
       "      <td>BRISTOL SCHOOL DISTRICT</td>\n",
       "      <td>Suburb, large</td>\n",
       "      <td>High</td>\n",
       "      <td>Special education school</td>\n",
       "      <td>No</td>\n",
       "      <td>12</td>\n",
       "      <td>NaN</td>\n",
       "      <td>...</td>\n",
       "      <td>NaN</td>\n",
       "      <td>NaN</td>\n",
       "      <td>NaN</td>\n",
       "      <td>0.0</td>\n",
       "      <td>0.0</td>\n",
       "      <td>0.0</td>\n",
       "      <td>0.0</td>\n",
       "      <td>0.0</td>\n",
       "      <td>0.0</td>\n",
       "      <td>0.0</td>\n",
       "    </tr>\n",
       "    <tr>\n",
       "      <th>71</th>\n",
       "      <td>90070001567</td>\n",
       "      <td>Lincoln Academy Regional Interdistrict Collabo...</td>\n",
       "      <td>Connecticut</td>\n",
       "      <td>CAPITOL REGION EDUCATION COUN</td>\n",
       "      <td>City, small</td>\n",
       "      <td>High</td>\n",
       "      <td>Special education school</td>\n",
       "      <td>No</td>\n",
       "      <td>12</td>\n",
       "      <td>NaN</td>\n",
       "      <td>...</td>\n",
       "      <td>NaN</td>\n",
       "      <td>NaN</td>\n",
       "      <td>NaN</td>\n",
       "      <td>NaN</td>\n",
       "      <td>NaN</td>\n",
       "      <td>NaN</td>\n",
       "      <td>NaN</td>\n",
       "      <td>NaN</td>\n",
       "      <td>NaN</td>\n",
       "      <td>NaN</td>\n",
       "    </tr>\n",
       "    <tr>\n",
       "      <th>73</th>\n",
       "      <td>90070001693</td>\n",
       "      <td>Soundbridge @ Wethersfield High School</td>\n",
       "      <td>Connecticut</td>\n",
       "      <td>CAPITOL REGION EDUCATION COUN</td>\n",
       "      <td>Suburb, large</td>\n",
       "      <td>High</td>\n",
       "      <td>Special education school</td>\n",
       "      <td>No</td>\n",
       "      <td>9</td>\n",
       "      <td>NaN</td>\n",
       "      <td>...</td>\n",
       "      <td>NaN</td>\n",
       "      <td>NaN</td>\n",
       "      <td>NaN</td>\n",
       "      <td>NaN</td>\n",
       "      <td>NaN</td>\n",
       "      <td>NaN</td>\n",
       "      <td>NaN</td>\n",
       "      <td>NaN</td>\n",
       "      <td>NaN</td>\n",
       "      <td>NaN</td>\n",
       "    </tr>\n",
       "    <tr>\n",
       "      <th>74</th>\n",
       "      <td>90070001802</td>\n",
       "      <td>STRIVE (Southern Transition Real-World and Ind...</td>\n",
       "      <td>Connecticut</td>\n",
       "      <td>CAPITOL REGION EDUCATION COUN</td>\n",
       "      <td>Suburb, large</td>\n",
       "      <td>High</td>\n",
       "      <td>Special education school</td>\n",
       "      <td>No</td>\n",
       "      <td>8</td>\n",
       "      <td>NaN</td>\n",
       "      <td>...</td>\n",
       "      <td>NaN</td>\n",
       "      <td>NaN</td>\n",
       "      <td>NaN</td>\n",
       "      <td>NaN</td>\n",
       "      <td>NaN</td>\n",
       "      <td>NaN</td>\n",
       "      <td>NaN</td>\n",
       "      <td>NaN</td>\n",
       "      <td>NaN</td>\n",
       "      <td>NaN</td>\n",
       "    </tr>\n",
       "    <tr>\n",
       "      <th>77</th>\n",
       "      <td>90075001766</td>\n",
       "      <td>Cheshire Quinnipiac University Transition Coll...</td>\n",
       "      <td>Connecticut</td>\n",
       "      <td>CHESHIRE SCHOOL DISTRICT</td>\n",
       "      <td>Suburb, large</td>\n",
       "      <td>High</td>\n",
       "      <td>Special education school</td>\n",
       "      <td>No</td>\n",
       "      <td>10</td>\n",
       "      <td>NaN</td>\n",
       "      <td>...</td>\n",
       "      <td>NaN</td>\n",
       "      <td>NaN</td>\n",
       "      <td>NaN</td>\n",
       "      <td>NaN</td>\n",
       "      <td>NaN</td>\n",
       "      <td>NaN</td>\n",
       "      <td>NaN</td>\n",
       "      <td>NaN</td>\n",
       "      <td>NaN</td>\n",
       "      <td>NaN</td>\n",
       "    </tr>\n",
       "    <tr>\n",
       "      <th>92</th>\n",
       "      <td>90123001514</td>\n",
       "      <td>The Learning Center at East Hampton</td>\n",
       "      <td>Connecticut</td>\n",
       "      <td>EAST HAMPTON SCHOOL DISTRICT</td>\n",
       "      <td>Town, fringe</td>\n",
       "      <td>High</td>\n",
       "      <td>Special education school</td>\n",
       "      <td>No</td>\n",
       "      <td>6</td>\n",
       "      <td>NaN</td>\n",
       "      <td>...</td>\n",
       "      <td>NaN</td>\n",
       "      <td>NaN</td>\n",
       "      <td>4.0</td>\n",
       "      <td>0.0</td>\n",
       "      <td>0.0</td>\n",
       "      <td>0.0</td>\n",
       "      <td>0.0</td>\n",
       "      <td>0.0</td>\n",
       "      <td>0.0</td>\n",
       "      <td>0.0</td>\n",
       "    </tr>\n",
       "    <tr>\n",
       "      <th>98</th>\n",
       "      <td>90132001730</td>\n",
       "      <td>Post High School Transition Program</td>\n",
       "      <td>Connecticut</td>\n",
       "      <td>EAST LYME SCHOOL DISTRICT</td>\n",
       "      <td>Suburb, midsize</td>\n",
       "      <td>High</td>\n",
       "      <td>Special education school</td>\n",
       "      <td>No</td>\n",
       "      <td>16</td>\n",
       "      <td>NaN</td>\n",
       "      <td>...</td>\n",
       "      <td>NaN</td>\n",
       "      <td>NaN</td>\n",
       "      <td>NaN</td>\n",
       "      <td>0.0</td>\n",
       "      <td>0.0</td>\n",
       "      <td>0.0</td>\n",
       "      <td>0.0</td>\n",
       "      <td>0.0</td>\n",
       "      <td>0.0</td>\n",
       "      <td>0.0</td>\n",
       "    </tr>\n",
       "    <tr>\n",
       "      <th>100</th>\n",
       "      <td>90132001843</td>\n",
       "      <td>Medically Fragile Program (WAVES)</td>\n",
       "      <td>Connecticut</td>\n",
       "      <td>EAST LYME SCHOOL DISTRICT</td>\n",
       "      <td>NaN</td>\n",
       "      <td>High</td>\n",
       "      <td>Special education school</td>\n",
       "      <td>No</td>\n",
       "      <td>2</td>\n",
       "      <td>NaN</td>\n",
       "      <td>...</td>\n",
       "      <td>NaN</td>\n",
       "      <td>NaN</td>\n",
       "      <td>NaN</td>\n",
       "      <td>0.0</td>\n",
       "      <td>0.0</td>\n",
       "      <td>0.0</td>\n",
       "      <td>0.0</td>\n",
       "      <td>0.0</td>\n",
       "      <td>0.0</td>\n",
       "      <td>0.0</td>\n",
       "    </tr>\n",
       "    <tr>\n",
       "      <th>108</th>\n",
       "      <td>90147001523</td>\n",
       "      <td>Enfield Transitional Learning Academy</td>\n",
       "      <td>Connecticut</td>\n",
       "      <td>ENFIELD SCHOOL DISTRICT</td>\n",
       "      <td>Suburb, large</td>\n",
       "      <td>High</td>\n",
       "      <td>Special education school</td>\n",
       "      <td>No</td>\n",
       "      <td>6</td>\n",
       "      <td>NaN</td>\n",
       "      <td>...</td>\n",
       "      <td>NaN</td>\n",
       "      <td>NaN</td>\n",
       "      <td>NaN</td>\n",
       "      <td>0.0</td>\n",
       "      <td>0.0</td>\n",
       "      <td>0.0</td>\n",
       "      <td>0.0</td>\n",
       "      <td>0.0</td>\n",
       "      <td>0.0</td>\n",
       "      <td>0.0</td>\n",
       "    </tr>\n",
       "  </tbody>\n",
       "</table>\n",
       "<p>10 rows × 60 columns</p>\n",
       "</div>"
      ],
      "text/plain": [
       "         ncessch                                        school_name  \\\n",
       "46   90007001588  Center for Autism Spectrum and Development Dis...   \n",
       "64   90051001515                       Community/Vocational Program   \n",
       "71   90070001567  Lincoln Academy Regional Interdistrict Collabo...   \n",
       "73   90070001693             Soundbridge @ Wethersfield High School   \n",
       "74   90070001802  STRIVE (Southern Transition Real-World and Ind...   \n",
       "77   90075001766  Cheshire Quinnipiac University Transition Coll...   \n",
       "92   90123001514                The Learning Center at East Hampton   \n",
       "98   90132001730                Post High School Transition Program   \n",
       "100  90132001843                  Medically Fragile Program (WAVES)   \n",
       "108  90147001523              Enfield Transitional Learning Academy   \n",
       "\n",
       "      state_name                       lea_name urban_centric_locale  \\\n",
       "46   Connecticut   AREA COOPERATIVE EDUCATIONAL        Suburb, large   \n",
       "64   Connecticut        BRISTOL SCHOOL DISTRICT        Suburb, large   \n",
       "71   Connecticut  CAPITOL REGION EDUCATION COUN          City, small   \n",
       "73   Connecticut  CAPITOL REGION EDUCATION COUN        Suburb, large   \n",
       "74   Connecticut  CAPITOL REGION EDUCATION COUN        Suburb, large   \n",
       "77   Connecticut       CHESHIRE SCHOOL DISTRICT        Suburb, large   \n",
       "92   Connecticut   EAST HAMPTON SCHOOL DISTRICT         Town, fringe   \n",
       "98   Connecticut      EAST LYME SCHOOL DISTRICT      Suburb, midsize   \n",
       "100  Connecticut      EAST LYME SCHOOL DISTRICT                  NaN   \n",
       "108  Connecticut        ENFIELD SCHOOL DISTRICT        Suburb, large   \n",
       "\n",
       "    school_level               school_type charter enrollment  \\\n",
       "46          High  Special education school      No         38   \n",
       "64          High  Special education school      No         12   \n",
       "71          High  Special education school      No         12   \n",
       "73          High  Special education school      No          9   \n",
       "74          High  Special education school      No          8   \n",
       "77          High  Special education school      No         10   \n",
       "92          High  Special education school      No          6   \n",
       "98          High  Special education school      No         16   \n",
       "100         High  Special education school      No          2   \n",
       "108         High  Special education school      No          6   \n",
       "\n",
       "     read_test_num_valid  ... enrl_algebra2 enrl_physics enrl_geometry  \\\n",
       "46                   NaN  ...           NaN          NaN           NaN   \n",
       "64                   NaN  ...           NaN          NaN           NaN   \n",
       "71                   NaN  ...           NaN          NaN           NaN   \n",
       "73                   NaN  ...           NaN          NaN           NaN   \n",
       "74                   NaN  ...           NaN          NaN           NaN   \n",
       "77                   NaN  ...           NaN          NaN           NaN   \n",
       "92                   NaN  ...           NaN          NaN           4.0   \n",
       "98                   NaN  ...           NaN          NaN           NaN   \n",
       "100                  NaN  ...           NaN          NaN           NaN   \n",
       "108                  NaN  ...           NaN          NaN           NaN   \n",
       "\n",
       "     instances_mech_restraint instances_phys_restraint instances_seclusion  \\\n",
       "46                        0.0                     58.0               150.0   \n",
       "64                        0.0                      0.0                 0.0   \n",
       "71                        NaN                      NaN                 NaN   \n",
       "73                        NaN                      NaN                 NaN   \n",
       "74                        NaN                      NaN                 NaN   \n",
       "77                        NaN                      NaN                 NaN   \n",
       "92                        0.0                      0.0                 0.0   \n",
       "98                        0.0                      0.0                 0.0   \n",
       "100                       0.0                      0.0                 0.0   \n",
       "108                       0.0                      0.0                 0.0   \n",
       "\n",
       "    students_mech_restraint students_phys_restraint students_seclusion  \\\n",
       "46                      0.0                    14.0               16.0   \n",
       "64                      0.0                     0.0                0.0   \n",
       "71                      NaN                     NaN                NaN   \n",
       "73                      NaN                     NaN                NaN   \n",
       "74                      NaN                     NaN                NaN   \n",
       "77                      NaN                     NaN                NaN   \n",
       "92                      0.0                     0.0                0.0   \n",
       "98                      0.0                     0.0                0.0   \n",
       "100                     0.0                     0.0                0.0   \n",
       "108                     0.0                     0.0                0.0   \n",
       "\n",
       "    students_SAT_ACT  \n",
       "46               0.0  \n",
       "64               0.0  \n",
       "71               NaN  \n",
       "73               NaN  \n",
       "74               NaN  \n",
       "77               NaN  \n",
       "92               0.0  \n",
       "98               0.0  \n",
       "100              0.0  \n",
       "108              0.0  \n",
       "\n",
       "[10 rows x 60 columns]"
      ]
     },
     "execution_count": 31,
     "metadata": {},
     "output_type": "execute_result"
    }
   ],
   "source": [
    "df_school_special = df_school.loc[df_school['school_type'] == 'Special education school']\n",
    "df_school_special.head(10)"
   ]
  },
  {
   "cell_type": "code",
   "execution_count": 32,
   "metadata": {
    "ExecuteTime": {
     "end_time": "2021-06-16T17:54:36.899897Z",
     "start_time": "2021-06-16T17:54:36.857985Z"
    },
    "scrolled": true
   },
   "outputs": [
    {
     "data": {
      "text/plain": [
       "'percent of nulls in df_school_regular is 4%'"
      ]
     },
     "execution_count": 32,
     "metadata": {},
     "output_type": "execute_result"
    }
   ],
   "source": [
    "#Proportion of nulls regular school type\n",
    "percent_null_df(df_school_regular,'df_school_regular')"
   ]
  },
  {
   "cell_type": "code",
   "execution_count": 33,
   "metadata": {
    "ExecuteTime": {
     "end_time": "2021-06-16T17:54:36.910863Z",
     "start_time": "2021-06-16T17:54:36.901617Z"
    },
    "scrolled": true
   },
   "outputs": [
    {
     "data": {
      "text/plain": [
       "'percent of nulls in df_school_vocational is 61%'"
      ]
     },
     "execution_count": 33,
     "metadata": {},
     "output_type": "execute_result"
    }
   ],
   "source": [
    "#Proportion of nulls vocational school type\n",
    "percent_null_df(df_school_vocational,'df_school_vocational')"
   ]
  },
  {
   "cell_type": "code",
   "execution_count": 34,
   "metadata": {
    "ExecuteTime": {
     "end_time": "2021-06-16T17:54:36.925865Z",
     "start_time": "2021-06-16T17:54:36.912658Z"
    },
    "scrolled": true
   },
   "outputs": [
    {
     "data": {
      "text/plain": [
       "'percent of nulls in df_school_alternative is 24%'"
      ]
     },
     "execution_count": 34,
     "metadata": {},
     "output_type": "execute_result"
    }
   ],
   "source": [
    "#Proportion of nulls alternative school type\n",
    "percent_null_df(df_school_alternative,'df_school_alternative')"
   ]
  },
  {
   "cell_type": "code",
   "execution_count": 35,
   "metadata": {
    "ExecuteTime": {
     "end_time": "2021-06-16T17:54:36.935734Z",
     "start_time": "2021-06-16T17:54:36.928072Z"
    },
    "scrolled": true
   },
   "outputs": [
    {
     "data": {
      "text/plain": [
       "'percent of nulls in df_school_special is 38%'"
      ]
     },
     "execution_count": 35,
     "metadata": {},
     "output_type": "execute_result"
    }
   ],
   "source": [
    "#Proportion of nulls special education school type\n",
    "percent_null_df(df_school_special,'df_school_special')"
   ]
  },
  {
   "cell_type": "markdown",
   "metadata": {},
   "source": [
    "Our Other/alternative school in the school_type field includes jails and detention centers. Many of these correctional facilities have a lot of NaN values in other data fields. We will remove all rows with alternative schools since there seems to be many missing values for these types of schools and because students in these types of schools are experiencing circumstances and educational experiences very different from the majority of students.\n",
    "\n",
    "We will also remove vocational and special education school types as these school types are a small percentage of the data and have high proportion of nulls"
   ]
  },
  {
   "cell_type": "code",
   "execution_count": 36,
   "metadata": {
    "ExecuteTime": {
     "end_time": "2021-06-16T17:54:36.941019Z",
     "start_time": "2021-06-16T17:54:36.937587Z"
    }
   },
   "outputs": [
    {
     "data": {
      "text/plain": [
       "20482"
      ]
     },
     "execution_count": 36,
     "metadata": {},
     "output_type": "execute_result"
    }
   ],
   "source": [
    "df_school.shape[0]"
   ]
  },
  {
   "cell_type": "code",
   "execution_count": 37,
   "metadata": {
    "ExecuteTime": {
     "end_time": "2021-06-16T17:54:36.958083Z",
     "start_time": "2021-06-16T17:54:36.943400Z"
    }
   },
   "outputs": [
    {
     "data": {
      "text/plain": [
       "16365"
      ]
     },
     "execution_count": 37,
     "metadata": {},
     "output_type": "execute_result"
    }
   ],
   "source": [
    "df_school = df_school.loc[df_school['school_type'] == 'Regular school']\n",
    "df_school.shape[0]"
   ]
  },
  {
   "cell_type": "markdown",
   "metadata": {},
   "source": [
    "### Graduation Rate - format the target"
   ]
  },
  {
   "cell_type": "markdown",
   "metadata": {},
   "source": [
    "- The graduation rates are numerical values separated into three columns.\n",
    " - grad_rate_high\n",
    " - grad_rate_midpt \n",
    " - grad_rate_low\n",
    " \n",
    "- Looking at the data documentation from EDFacts https://www2.ed.gov/about/inits/ed/edfacts/index.htmlThe we see that the reason for multiple columns is that some schools choose to report graduation rates in a range so that student privacy is protected. The range creates a low and a high column with the midpoint being the value in the middle of the low and high values.\n",
    "- We will use grad_rate_midpt to measure graduation rates as this is the most balanced.\n",
    "\n",
    "\n",
    "- The federal government defines graduation rates as low when less than 2/3 of a cohort receive a diploma in 4 years or less.  \n",
    "- We will classify high schools with midpoint graduation rates 66 and below as low and high schools with midpoint graduation rates of 67 and above as high.\n"
   ]
  },
  {
   "cell_type": "code",
   "execution_count": 38,
   "metadata": {
    "ExecuteTime": {
     "end_time": "2021-06-16T17:54:36.961482Z",
     "start_time": "2021-06-16T17:54:36.959435Z"
    }
   },
   "outputs": [],
   "source": [
    "#Let's see a few examples of the grad rate reporting range before we drop the high and low cols\n",
    "grad_rate_cols = ['school_name','cohort_num','grad_rate_high','grad_rate_midpt',\n",
    "                  'grad_rate_low']"
   ]
  },
  {
   "cell_type": "code",
   "execution_count": 39,
   "metadata": {
    "ExecuteTime": {
     "end_time": "2021-06-16T17:54:36.973420Z",
     "start_time": "2021-06-16T17:54:36.962874Z"
    }
   },
   "outputs": [
    {
     "data": {
      "text/html": [
       "<div>\n",
       "<style scoped>\n",
       "    .dataframe tbody tr th:only-of-type {\n",
       "        vertical-align: middle;\n",
       "    }\n",
       "\n",
       "    .dataframe tbody tr th {\n",
       "        vertical-align: top;\n",
       "    }\n",
       "\n",
       "    .dataframe thead th {\n",
       "        text-align: right;\n",
       "    }\n",
       "</style>\n",
       "<table border=\"1\" class=\"dataframe\">\n",
       "  <thead>\n",
       "    <tr style=\"text-align: right;\">\n",
       "      <th></th>\n",
       "      <th>school_name</th>\n",
       "      <th>cohort_num</th>\n",
       "      <th>grad_rate_high</th>\n",
       "      <th>grad_rate_midpt</th>\n",
       "      <th>grad_rate_low</th>\n",
       "    </tr>\n",
       "  </thead>\n",
       "  <tbody>\n",
       "    <tr>\n",
       "      <th>32</th>\n",
       "      <td>Walter G. Cady School</td>\n",
       "      <td>NaN</td>\n",
       "      <td>NaN</td>\n",
       "      <td>NaN</td>\n",
       "      <td>NaN</td>\n",
       "    </tr>\n",
       "    <tr>\n",
       "      <th>33</th>\n",
       "      <td>E. O. Smith High School</td>\n",
       "      <td>255.0</td>\n",
       "      <td>95</td>\n",
       "      <td>95</td>\n",
       "      <td>95</td>\n",
       "    </tr>\n",
       "    <tr>\n",
       "      <th>36</th>\n",
       "      <td>Common Ground High School</td>\n",
       "      <td>34.0</td>\n",
       "      <td>100</td>\n",
       "      <td>95</td>\n",
       "      <td>90</td>\n",
       "    </tr>\n",
       "    <tr>\n",
       "      <th>37</th>\n",
       "      <td>The Bridge Academy</td>\n",
       "      <td>34.0</td>\n",
       "      <td>79</td>\n",
       "      <td>74</td>\n",
       "      <td>70</td>\n",
       "    </tr>\n",
       "    <tr>\n",
       "      <th>38</th>\n",
       "      <td>Explorations</td>\n",
       "      <td>27.0</td>\n",
       "      <td>79</td>\n",
       "      <td>69</td>\n",
       "      <td>60</td>\n",
       "    </tr>\n",
       "    <tr>\n",
       "      <th>39</th>\n",
       "      <td>Connecticut Valley Hospital</td>\n",
       "      <td>NaN</td>\n",
       "      <td>NaN</td>\n",
       "      <td>NaN</td>\n",
       "      <td>NaN</td>\n",
       "    </tr>\n",
       "    <tr>\n",
       "      <th>40</th>\n",
       "      <td>Stamford Academy</td>\n",
       "      <td>53.0</td>\n",
       "      <td>29</td>\n",
       "      <td>24</td>\n",
       "      <td>20</td>\n",
       "    </tr>\n",
       "    <tr>\n",
       "      <th>42</th>\n",
       "      <td>Ansonia High School</td>\n",
       "      <td>125.0</td>\n",
       "      <td>89</td>\n",
       "      <td>87</td>\n",
       "      <td>85</td>\n",
       "    </tr>\n",
       "    <tr>\n",
       "      <th>47</th>\n",
       "      <td>Avon High School</td>\n",
       "      <td>239.0</td>\n",
       "      <td>97</td>\n",
       "      <td>97</td>\n",
       "      <td>97</td>\n",
       "    </tr>\n",
       "    <tr>\n",
       "      <th>48</th>\n",
       "      <td>Berlin High School</td>\n",
       "      <td>248.0</td>\n",
       "      <td>95</td>\n",
       "      <td>95</td>\n",
       "      <td>95</td>\n",
       "    </tr>\n",
       "  </tbody>\n",
       "</table>\n",
       "</div>"
      ],
      "text/plain": [
       "                    school_name  cohort_num grad_rate_high grad_rate_midpt  \\\n",
       "32        Walter G. Cady School         NaN            NaN             NaN   \n",
       "33      E. O. Smith High School       255.0             95              95   \n",
       "36    Common Ground High School        34.0            100              95   \n",
       "37           The Bridge Academy        34.0             79              74   \n",
       "38                 Explorations        27.0             79              69   \n",
       "39  Connecticut Valley Hospital         NaN            NaN             NaN   \n",
       "40             Stamford Academy        53.0             29              24   \n",
       "42          Ansonia High School       125.0             89              87   \n",
       "47             Avon High School       239.0             97              97   \n",
       "48           Berlin High School       248.0             95              95   \n",
       "\n",
       "   grad_rate_low  \n",
       "32           NaN  \n",
       "33            95  \n",
       "36            90  \n",
       "37            70  \n",
       "38            60  \n",
       "39           NaN  \n",
       "40            20  \n",
       "42            85  \n",
       "47            97  \n",
       "48            95  "
      ]
     },
     "execution_count": 39,
     "metadata": {},
     "output_type": "execute_result"
    }
   ],
   "source": [
    "df_school[grad_rate_cols].head(10)"
   ]
  },
  {
   "cell_type": "code",
   "execution_count": 40,
   "metadata": {
    "ExecuteTime": {
     "end_time": "2021-06-16T17:54:36.982543Z",
     "start_time": "2021-06-16T17:54:36.974884Z"
    }
   },
   "outputs": [],
   "source": [
    "df_school = df_school.drop(['grad_rate_high','grad_rate_low'], axis=1)"
   ]
  },
  {
   "cell_type": "code",
   "execution_count": 41,
   "metadata": {
    "ExecuteTime": {
     "end_time": "2021-06-16T17:54:37.012939Z",
     "start_time": "2021-06-16T17:54:36.984380Z"
    },
    "scrolled": true
   },
   "outputs": [
    {
     "name": "stdout",
     "output_type": "stream",
     "text": [
      "<class 'pandas.core.frame.DataFrame'>\n",
      "Int64Index: 16365 entries, 32 to 3966\n",
      "Data columns (total 58 columns):\n",
      " #   Column                           Non-Null Count  Dtype  \n",
      "---  ------                           --------------  -----  \n",
      " 0   ncessch                          16365 non-null  int64  \n",
      " 1   school_name                      16365 non-null  object \n",
      " 2   state_name                       16365 non-null  object \n",
      " 3   lea_name                         16365 non-null  object \n",
      " 4   urban_centric_locale             16364 non-null  object \n",
      " 5   school_level                     16365 non-null  object \n",
      " 6   school_type                      16365 non-null  object \n",
      " 7   charter                          15404 non-null  object \n",
      " 8   enrollment                       16328 non-null  object \n",
      " 9   read_test_num_valid              15747 non-null  float64\n",
      " 10  read_test_pct_prof_low           15500 non-null  object \n",
      " 11  read_test_pct_prof_high          15500 non-null  object \n",
      " 12  read_test_pct_prof_midpt         15500 non-null  object \n",
      " 13  math_test_num_valid              15819 non-null  float64\n",
      " 14  math_test_pct_prof_low           15543 non-null  object \n",
      " 15  math_test_pct_prof_high          15543 non-null  object \n",
      " 16  math_test_pct_prof_midpt         15543 non-null  object \n",
      " 17  students_susp_in_sch             15935 non-null  object \n",
      " 18  students_susp_out_sch_single     15977 non-null  object \n",
      " 19  students_susp_out_sch_multiple   15977 non-null  object \n",
      " 20  expulsions_no_ed_serv            15977 non-null  object \n",
      " 21  expulsions_with_ed_serv          15935 non-null  object \n",
      " 22  expulsions_zero_tolerance        15977 non-null  object \n",
      " 23  students_arrested                15560 non-null  object \n",
      " 24  students_referred_law_enforce    15931 non-null  object \n",
      " 25  transfers_alt_sch_disc           16001 non-null  float64\n",
      " 26  days_suspended                   15637 non-null  float64\n",
      " 27  suspensions_instances_preschool  15637 non-null  float64\n",
      " 28  suspensions_instances            15637 non-null  float64\n",
      " 29  corpinstances                    15637 non-null  float64\n",
      " 30  salaries_teachers                15448 non-null  object \n",
      " 31  cohort_num                       15995 non-null  float64\n",
      " 32  grad_rate_midpt                  15830 non-null  object \n",
      " 33  allegations_harass_sex           15926 non-null  object \n",
      " 34  allegations_harass_race          15926 non-null  object \n",
      " 35  allegations_harass_disability    15926 non-null  object \n",
      " 36  allegations_harass_orientation   15912 non-null  object \n",
      " 37  allegations_harass_religion      15912 non-null  object \n",
      " 38  students_disc_harass_dis         16001 non-null  float64\n",
      " 39  students_disc_harass_race        16001 non-null  float64\n",
      " 40  students_disc_harass_sex         16001 non-null  float64\n",
      " 41  students_report_harass_dis       16001 non-null  float64\n",
      " 42  students_report_harass_race      16001 non-null  float64\n",
      " 43  students_report_harass_sex       16001 non-null  float64\n",
      " 44  enrl_biology                     15165 non-null  float64\n",
      " 45  enrl_chemistry                   14442 non-null  float64\n",
      " 46  enrl_advanced_math               13498 non-null  float64\n",
      " 47  enrl_calculus                    11395 non-null  float64\n",
      " 48  enrl_algebra2                    14813 non-null  float64\n",
      " 49  enrl_physics                     12515 non-null  float64\n",
      " 50  enrl_geometry                    14891 non-null  float64\n",
      " 51  instances_mech_restraint         15565 non-null  float64\n",
      " 52  instances_phys_restraint         15917 non-null  float64\n",
      " 53  instances_seclusion              15917 non-null  float64\n",
      " 54  students_mech_restraint          15566 non-null  float64\n",
      " 55  students_phys_restraint          15905 non-null  float64\n",
      " 56  students_seclusion               15918 non-null  float64\n",
      " 57  students_SAT_ACT                 16001 non-null  float64\n",
      "dtypes: float64(28), int64(1), object(29)\n",
      "memory usage: 7.4+ MB\n"
     ]
    }
   ],
   "source": [
    "df_school.info()"
   ]
  },
  {
   "cell_type": "code",
   "execution_count": 42,
   "metadata": {
    "ExecuteTime": {
     "end_time": "2021-06-16T17:54:37.029505Z",
     "start_time": "2021-06-16T17:54:37.014945Z"
    }
   },
   "outputs": [],
   "source": [
    "df_school.update(df_school[['grad_rate_midpt']].fillna(0))"
   ]
  },
  {
   "cell_type": "code",
   "execution_count": 43,
   "metadata": {
    "ExecuteTime": {
     "end_time": "2021-06-16T17:54:37.039159Z",
     "start_time": "2021-06-16T17:54:37.031544Z"
    },
    "scrolled": true
   },
   "outputs": [
    {
     "data": {
      "text/plain": [
       "97    0.127345\n",
       "92    0.112679\n",
       "95    0.100214\n",
       "90    0.073816\n",
       "87    0.071983\n",
       "        ...   \n",
       "23    0.000061\n",
       "18    0.000061\n",
       "25    0.000061\n",
       "16    0.000061\n",
       "6     0.000061\n",
       "Name: grad_rate_midpt, Length: 92, dtype: float64"
      ]
     },
     "execution_count": 43,
     "metadata": {},
     "output_type": "execute_result"
    }
   ],
   "source": [
    "df_school['grad_rate_midpt'].value_counts(normalize=True,dropna=False)"
   ]
  },
  {
   "cell_type": "code",
   "execution_count": 44,
   "metadata": {
    "ExecuteTime": {
     "end_time": "2021-06-16T17:54:37.045671Z",
     "start_time": "2021-06-16T17:54:37.041372Z"
    }
   },
   "outputs": [
    {
     "data": {
      "text/plain": [
       "(16365, 58)"
      ]
     },
     "execution_count": 44,
     "metadata": {},
     "output_type": "execute_result"
    }
   ],
   "source": [
    "df_school.shape"
   ]
  },
  {
   "cell_type": "code",
   "execution_count": 45,
   "metadata": {
    "ExecuteTime": {
     "end_time": "2021-06-16T17:54:37.050953Z",
     "start_time": "2021-06-16T17:54:37.047653Z"
    },
    "scrolled": true
   },
   "outputs": [
    {
     "data": {
      "text/plain": [
       "10942.86"
      ]
     },
     "execution_count": 45,
     "metadata": {},
     "output_type": "execute_result"
    }
   ],
   "source": [
    "19198*(1-.43)"
   ]
  },
  {
   "cell_type": "code",
   "execution_count": 46,
   "metadata": {
    "ExecuteTime": {
     "end_time": "2021-06-16T17:54:37.065888Z",
     "start_time": "2021-06-16T17:54:37.053008Z"
    }
   },
   "outputs": [],
   "source": [
    "df_school = df_school[df_school.grad_rate_midpt != 0]"
   ]
  },
  {
   "cell_type": "code",
   "execution_count": 47,
   "metadata": {
    "ExecuteTime": {
     "end_time": "2021-06-16T17:54:37.071061Z",
     "start_time": "2021-06-16T17:54:37.067940Z"
    }
   },
   "outputs": [
    {
     "data": {
      "text/plain": [
       "15830"
      ]
     },
     "execution_count": 47,
     "metadata": {},
     "output_type": "execute_result"
    }
   ],
   "source": [
    "df_school.shape[0]"
   ]
  },
  {
   "cell_type": "code",
   "execution_count": 48,
   "metadata": {
    "ExecuteTime": {
     "end_time": "2021-06-16T17:54:37.082773Z",
     "start_time": "2021-06-16T17:54:37.072836Z"
    }
   },
   "outputs": [],
   "source": [
    "# convert grad rate columns to numeric\n",
    "df_school[['grad_rate_midpt']] = df_school[['grad_rate_midpt']].astype(str).astype(float).astype(int)\n"
   ]
  },
  {
   "cell_type": "code",
   "execution_count": 49,
   "metadata": {
    "ExecuteTime": {
     "end_time": "2021-06-16T17:54:37.093774Z",
     "start_time": "2021-06-16T17:54:37.085702Z"
    }
   },
   "outputs": [
    {
     "name": "stdout",
     "output_type": "stream",
     "text": [
      "count    15830.000000\n",
      "mean        85.590587\n",
      "std         15.379323\n",
      "min          0.000000\n",
      "25%         82.000000\n",
      "50%         90.000000\n",
      "75%         95.000000\n",
      "max         99.000000\n",
      "Name: grad_rate_midpt, dtype: float64\n"
     ]
    }
   ],
   "source": [
    "# Let's take a look at the summary statistics for the grad_rate_midpt column\n",
    "\n",
    "print(df_school['grad_rate_midpt'].describe())\n"
   ]
  },
  {
   "cell_type": "code",
   "execution_count": 50,
   "metadata": {
    "ExecuteTime": {
     "end_time": "2021-06-16T17:54:37.100754Z",
     "start_time": "2021-06-16T17:54:37.095793Z"
    }
   },
   "outputs": [
    {
     "name": "stdout",
     "output_type": "stream",
     "text": [
      "grad_rate_midpt \n",
      " 97    0.131649\n",
      "92    0.116488\n",
      "95    0.103601\n",
      "90    0.076311\n",
      "87    0.074416\n",
      "Name: grad_rate_midpt, dtype: float64 \n",
      "\n",
      "\n"
     ]
    }
   ],
   "source": [
    " print('grad_rate_midpt', '\\n', df_school['grad_rate_midpt'].value_counts(normalize=True).head(), '\\n\\n')"
   ]
  },
  {
   "cell_type": "code",
   "execution_count": 51,
   "metadata": {
    "ExecuteTime": {
     "end_time": "2021-06-16T17:54:37.265687Z",
     "start_time": "2021-06-16T17:54:37.102635Z"
    },
    "scrolled": false
   },
   "outputs": [
    {
     "data": {
      "image/png": "[encoded data removed]",
      "text/plain": [
       "<Figure size 432x288 with 1 Axes>"
      ]
     },
     "metadata": {
      "needs_background": "light"
     },
     "output_type": "display_data"
    }
   ],
   "source": [
    "# Plot of the target status group\n",
    "\n",
    "plt.hist(df_school['grad_rate_midpt'])\n",
    "plt.xlabel('Graduation Rate', fontsize=14)\n",
    "plt.ylabel('# of Students', fontsize=14)\n",
    "plt.title(\"Distribution Graduation Rates\", fontsize=16)\n",
    "plt.show()\n"
   ]
  },
  {
   "cell_type": "markdown",
   "metadata": {},
   "source": [
    "It looks like there is a strong skew towards higher performing high schools. Lets go ahead and bin our values and then take a look at the distribution again."
   ]
  },
  {
   "cell_type": "markdown",
   "metadata": {},
   "source": [
    "#### Bin the target"
   ]
  },
  {
   "cell_type": "markdown",
   "metadata": {},
   "source": [
    "As stated above based on how the federal government defines low graduation rates we will be dividing graduation rates into two bins:\n",
    "- Low: 66 and below\n",
    "- High: 67 and above"
   ]
  },
  {
   "cell_type": "code",
   "execution_count": 52,
   "metadata": {
    "ExecuteTime": {
     "end_time": "2021-06-16T17:54:37.269892Z",
     "start_time": "2021-06-16T17:54:37.267695Z"
    }
   },
   "outputs": [],
   "source": [
    "#Based on the federal government's definition we will define the bin ranges.\n",
    "grad_rate_bins = [0,66,100]"
   ]
  },
  {
   "cell_type": "code",
   "execution_count": 53,
   "metadata": {
    "ExecuteTime": {
     "end_time": "2021-06-16T17:54:37.283924Z",
     "start_time": "2021-06-16T17:54:37.271629Z"
    }
   },
   "outputs": [],
   "source": [
    "# now lets convert the grad_rate_midpt column to binned categories\n",
    "# note that when binning these, the default setting is that the values on the right are included in the bin\n",
    "\n",
    "df_school['grad_rate_midpt'] = pd.cut(df_school['grad_rate_midpt'], grad_rate_bins)"
   ]
  },
  {
   "cell_type": "code",
   "execution_count": 54,
   "metadata": {
    "ExecuteTime": {
     "end_time": "2021-06-16T17:54:37.292548Z",
     "start_time": "2021-06-16T17:54:37.285527Z"
    },
    "scrolled": false
   },
   "outputs": [
    {
     "name": "stdout",
     "output_type": "stream",
     "text": [
      "(66.0, 100.0]    0.931522\n",
      "(0.0, 66.0]      0.068414\n",
      "NaN              0.000063\n",
      "Name: grad_rate_midpt, dtype: float64\n"
     ]
    }
   ],
   "source": [
    "# and we will also take a look at the distribution across bins \n",
    "print(df_school['grad_rate_midpt'].value_counts(normalize=True, dropna=False))"
   ]
  },
  {
   "cell_type": "code",
   "execution_count": 55,
   "metadata": {
    "ExecuteTime": {
     "end_time": "2021-06-16T17:54:37.304902Z",
     "start_time": "2021-06-16T17:54:37.294118Z"
    }
   },
   "outputs": [
    {
     "data": {
      "text/plain": [
       "(15829, 58)"
      ]
     },
     "execution_count": 55,
     "metadata": {},
     "output_type": "execute_result"
    }
   ],
   "source": [
    "df_school = df_school.dropna(subset=['grad_rate_midpt'])\n",
    "df_school.shape"
   ]
  },
  {
   "cell_type": "code",
   "execution_count": 56,
   "metadata": {
    "ExecuteTime": {
     "end_time": "2021-06-16T17:54:37.311370Z",
     "start_time": "2021-06-16T17:54:37.306216Z"
    },
    "scrolled": false
   },
   "outputs": [
    {
     "name": "stdout",
     "output_type": "stream",
     "text": [
      "(66, 100]    0.931581\n",
      "(0, 66]      0.068419\n",
      "Name: grad_rate_midpt, dtype: float64\n"
     ]
    }
   ],
   "source": [
    "print(df_school['grad_rate_midpt'].value_counts(normalize=True, dropna=False))"
   ]
  },
  {
   "cell_type": "code",
   "execution_count": 57,
   "metadata": {
    "ExecuteTime": {
     "end_time": "2021-06-16T17:54:37.315433Z",
     "start_time": "2021-06-16T17:54:37.313881Z"
    }
   },
   "outputs": [],
   "source": [
    "# We will need to address this class imbalance\n"
   ]
  },
  {
   "cell_type": "markdown",
   "metadata": {},
   "source": [
    "#### Encode the target"
   ]
  },
  {
   "cell_type": "code",
   "execution_count": 58,
   "metadata": {
    "ExecuteTime": {
     "end_time": "2021-06-16T17:54:37.324991Z",
     "start_time": "2021-06-16T17:54:37.317205Z"
    },
    "scrolled": true
   },
   "outputs": [
    {
     "data": {
      "text/plain": [
       "(66, 100]    0.931581\n",
       "(0, 66]      0.068419\n",
       "Name: grad_rate_midpt, dtype: float64"
      ]
     },
     "execution_count": 58,
     "metadata": {},
     "output_type": "execute_result"
    }
   ],
   "source": [
    "df_school['grad_rate_midpt'].value_counts(normalize=True, dropna=False)"
   ]
  },
  {
   "cell_type": "code",
   "execution_count": 59,
   "metadata": {
    "ExecuteTime": {
     "end_time": "2021-06-16T17:54:37.378560Z",
     "start_time": "2021-06-16T17:54:37.326300Z"
    }
   },
   "outputs": [],
   "source": [
    " df_school['grad_rate_midpt'] = df_school['grad_rate_midpt'].astype(str)"
   ]
  },
  {
   "cell_type": "code",
   "execution_count": 60,
   "metadata": {
    "ExecuteTime": {
     "end_time": "2021-06-16T17:54:37.387241Z",
     "start_time": "2021-06-16T17:54:37.380318Z"
    },
    "scrolled": true
   },
   "outputs": [
    {
     "data": {
      "text/plain": [
       "(66, 100]    0.931581\n",
       "(0, 66]      0.068419\n",
       "Name: grad_rate_midpt, dtype: float64"
      ]
     },
     "execution_count": 60,
     "metadata": {},
     "output_type": "execute_result"
    }
   ],
   "source": [
    "df_school['grad_rate_midpt'].value_counts(normalize=True, dropna=False)"
   ]
  },
  {
   "cell_type": "code",
   "execution_count": 61,
   "metadata": {
    "ExecuteTime": {
     "end_time": "2021-06-16T17:54:37.392798Z",
     "start_time": "2021-06-16T17:54:37.388692Z"
    }
   },
   "outputs": [],
   "source": [
    " df_school['grad_rate_midpt'] = df_school['grad_rate_midpt'].replace('(0, 66]', 1)"
   ]
  },
  {
   "cell_type": "code",
   "execution_count": 62,
   "metadata": {
    "ExecuteTime": {
     "end_time": "2021-06-16T17:54:37.400846Z",
     "start_time": "2021-06-16T17:54:37.394254Z"
    }
   },
   "outputs": [],
   "source": [
    " df_school['grad_rate_midpt'] = df_school['grad_rate_midpt'].replace('(66, 100]', 0)"
   ]
  },
  {
   "cell_type": "markdown",
   "metadata": {},
   "source": [
    "### subject enrollment - drop all enrl columns"
   ]
  },
  {
   "cell_type": "code",
   "execution_count": 63,
   "metadata": {
    "ExecuteTime": {
     "end_time": "2021-06-16T17:54:37.439711Z",
     "start_time": "2021-06-16T17:54:37.402561Z"
    }
   },
   "outputs": [
    {
     "data": {
      "text/plain": [
       "'percent of nulls in df_school is 3%'"
      ]
     },
     "execution_count": 63,
     "metadata": {},
     "output_type": "execute_result"
    }
   ],
   "source": [
    "#Let's look at how many nulls we are dealing with now\n",
    "percent_null_df(df_school,'df_school')"
   ]
  },
  {
   "cell_type": "code",
   "execution_count": 64,
   "metadata": {
    "ExecuteTime": {
     "end_time": "2021-06-16T17:54:37.466735Z",
     "start_time": "2021-06-16T17:54:37.441511Z"
    }
   },
   "outputs": [
    {
     "name": "stdout",
     "output_type": "stream",
     "text": [
      "<class 'pandas.core.frame.DataFrame'>\n",
      "Int64Index: 15829 entries, 33 to 3966\n",
      "Data columns (total 58 columns):\n",
      " #   Column                           Non-Null Count  Dtype  \n",
      "---  ------                           --------------  -----  \n",
      " 0   ncessch                          15829 non-null  int64  \n",
      " 1   school_name                      15829 non-null  object \n",
      " 2   state_name                       15829 non-null  object \n",
      " 3   lea_name                         15829 non-null  object \n",
      " 4   urban_centric_locale             15829 non-null  object \n",
      " 5   school_level                     15829 non-null  object \n",
      " 6   school_type                      15829 non-null  object \n",
      " 7   charter                          14910 non-null  object \n",
      " 8   enrollment                       15822 non-null  object \n",
      " 9   read_test_num_valid              15478 non-null  float64\n",
      " 10  read_test_pct_prof_low           15305 non-null  object \n",
      " 11  read_test_pct_prof_high          15305 non-null  object \n",
      " 12  read_test_pct_prof_midpt         15305 non-null  object \n",
      " 13  math_test_num_valid              15552 non-null  float64\n",
      " 14  math_test_pct_prof_low           15343 non-null  object \n",
      " 15  math_test_pct_prof_high          15343 non-null  object \n",
      " 16  math_test_pct_prof_midpt         15343 non-null  object \n",
      " 17  students_susp_in_sch             15583 non-null  object \n",
      " 18  students_susp_out_sch_single     15598 non-null  object \n",
      " 19  students_susp_out_sch_multiple   15598 non-null  object \n",
      " 20  expulsions_no_ed_serv            15598 non-null  object \n",
      " 21  expulsions_with_ed_serv          15583 non-null  object \n",
      " 22  expulsions_zero_tolerance        15598 non-null  object \n",
      " 23  students_arrested                15218 non-null  object \n",
      " 24  students_referred_law_enforce    15579 non-null  object \n",
      " 25  transfers_alt_sch_disc           15617 non-null  float64\n",
      " 26  days_suspended                   15265 non-null  float64\n",
      " 27  suspensions_instances_preschool  15265 non-null  float64\n",
      " 28  suspensions_instances            15265 non-null  float64\n",
      " 29  corpinstances                    15265 non-null  float64\n",
      " 30  salaries_teachers                15107 non-null  object \n",
      " 31  cohort_num                       15829 non-null  float64\n",
      " 32  grad_rate_midpt                  15829 non-null  int64  \n",
      " 33  allegations_harass_sex           15547 non-null  object \n",
      " 34  allegations_harass_race          15547 non-null  object \n",
      " 35  allegations_harass_disability    15547 non-null  object \n",
      " 36  allegations_harass_orientation   15533 non-null  object \n",
      " 37  allegations_harass_religion      15533 non-null  object \n",
      " 38  students_disc_harass_dis         15617 non-null  float64\n",
      " 39  students_disc_harass_race        15617 non-null  float64\n",
      " 40  students_disc_harass_sex         15617 non-null  float64\n",
      " 41  students_report_harass_dis       15617 non-null  float64\n",
      " 42  students_report_harass_race      15617 non-null  float64\n",
      " 43  students_report_harass_sex       15617 non-null  float64\n",
      " 44  enrl_biology                     14892 non-null  float64\n",
      " 45  enrl_chemistry                   14262 non-null  float64\n",
      " 46  enrl_advanced_math               13362 non-null  float64\n",
      " 47  enrl_calculus                    11327 non-null  float64\n",
      " 48  enrl_algebra2                    14580 non-null  float64\n",
      " 49  enrl_physics                     12400 non-null  float64\n",
      " 50  enrl_geometry                    14621 non-null  float64\n",
      " 51  instances_mech_restraint         15196 non-null  float64\n",
      " 52  instances_phys_restraint         15538 non-null  float64\n",
      " 53  instances_seclusion              15538 non-null  float64\n",
      " 54  students_mech_restraint          15197 non-null  float64\n",
      " 55  students_phys_restraint          15526 non-null  float64\n",
      " 56  students_seclusion               15539 non-null  float64\n",
      " 57  students_SAT_ACT                 15617 non-null  float64\n",
      "dtypes: float64(28), int64(2), object(28)\n",
      "memory usage: 7.1+ MB\n"
     ]
    }
   ],
   "source": [
    "df_school.info()"
   ]
  },
  {
   "cell_type": "markdown",
   "metadata": {},
   "source": [
    "The class subject enrollment columns stand out as having the most null values let's drop those columns."
   ]
  },
  {
   "cell_type": "code",
   "execution_count": 65,
   "metadata": {
    "ExecuteTime": {
     "end_time": "2021-06-16T17:54:37.478820Z",
     "start_time": "2021-06-16T17:54:37.468364Z"
    },
    "scrolled": true
   },
   "outputs": [],
   "source": [
    "df_school = df_school.drop(['enrl_biology', 'enrl_chemistry','enrl_advanced_math',\n",
    "                            'enrl_calculus','enrl_algebra2','enrl_physics',\n",
    "                            'enrl_geometry'], axis=1)"
   ]
  },
  {
   "cell_type": "code",
   "execution_count": 66,
   "metadata": {
    "ExecuteTime": {
     "end_time": "2021-06-16T17:54:37.521387Z",
     "start_time": "2021-06-16T17:54:37.480677Z"
    }
   },
   "outputs": [
    {
     "data": {
      "text/plain": [
       "'percent of nulls in df_school is 1%'"
      ]
     },
     "execution_count": 66,
     "metadata": {},
     "output_type": "execute_result"
    }
   ],
   "source": [
    "#How do our nulls look\n",
    "percent_null_df(df_school,'df_school')"
   ]
  },
  {
   "cell_type": "markdown",
   "metadata": {},
   "source": [
    "### Encode Charter"
   ]
  },
  {
   "cell_type": "code",
   "execution_count": 67,
   "metadata": {
    "ExecuteTime": {
     "end_time": "2021-06-16T17:54:37.531220Z",
     "start_time": "2021-06-16T17:54:37.523383Z"
    },
    "scrolled": false
   },
   "outputs": [
    {
     "data": {
      "text/plain": [
       "No     0.872386\n",
       "Yes    0.069556\n",
       "NaN    0.058058\n",
       "Name: charter, dtype: float64"
      ]
     },
     "execution_count": 67,
     "metadata": {},
     "output_type": "execute_result"
    }
   ],
   "source": [
    "df_school['charter'].value_counts(normalize=True, dropna=False)"
   ]
  },
  {
   "cell_type": "code",
   "execution_count": 68,
   "metadata": {
    "ExecuteTime": {
     "end_time": "2021-06-16T17:54:37.552728Z",
     "start_time": "2021-06-16T17:54:37.547991Z"
    }
   },
   "outputs": [],
   "source": [
    " df_school['charter'] = df_school['charter'].replace('No', 0)"
   ]
  },
  {
   "cell_type": "code",
   "execution_count": 69,
   "metadata": {
    "ExecuteTime": {
     "end_time": "2021-06-16T17:54:37.570248Z",
     "start_time": "2021-06-16T17:54:37.562302Z"
    }
   },
   "outputs": [],
   "source": [
    " df_school['charter'] = df_school['charter'].replace('Yes', 1)"
   ]
  },
  {
   "cell_type": "code",
   "execution_count": 70,
   "metadata": {
    "ExecuteTime": {
     "end_time": "2021-06-16T17:54:37.576499Z",
     "start_time": "2021-06-16T17:54:37.571663Z"
    },
    "scrolled": true
   },
   "outputs": [
    {
     "data": {
      "text/plain": [
       "0.0    0.872386\n",
       "1.0    0.069556\n",
       "NaN    0.058058\n",
       "Name: charter, dtype: float64"
      ]
     },
     "execution_count": 70,
     "metadata": {},
     "output_type": "execute_result"
    }
   ],
   "source": [
    "df_school['charter'].value_counts(normalize=True, dropna=False)"
   ]
  },
  {
   "cell_type": "markdown",
   "metadata": {},
   "source": [
    "We will group the small proportion of NaN values with the majority class which is zero or a non charter school."
   ]
  },
  {
   "cell_type": "code",
   "execution_count": 71,
   "metadata": {
    "ExecuteTime": {
     "end_time": "2021-06-16T17:54:37.594685Z",
     "start_time": "2021-06-16T17:54:37.577989Z"
    }
   },
   "outputs": [],
   "source": [
    "df_school.update(df_school[['charter']].fillna(0))"
   ]
  },
  {
   "cell_type": "markdown",
   "metadata": {},
   "source": [
    "### Reading and Math Tests"
   ]
  },
  {
   "cell_type": "code",
   "execution_count": 72,
   "metadata": {
    "ExecuteTime": {
     "end_time": "2021-06-16T17:54:37.619213Z",
     "start_time": "2021-06-16T17:54:37.596728Z"
    }
   },
   "outputs": [
    {
     "name": "stdout",
     "output_type": "stream",
     "text": [
      "<class 'pandas.core.frame.DataFrame'>\n",
      "Int64Index: 15829 entries, 33 to 3966\n",
      "Data columns (total 51 columns):\n",
      " #   Column                           Non-Null Count  Dtype  \n",
      "---  ------                           --------------  -----  \n",
      " 0   ncessch                          15829 non-null  int64  \n",
      " 1   school_name                      15829 non-null  object \n",
      " 2   state_name                       15829 non-null  object \n",
      " 3   lea_name                         15829 non-null  object \n",
      " 4   urban_centric_locale             15829 non-null  object \n",
      " 5   school_level                     15829 non-null  object \n",
      " 6   school_type                      15829 non-null  object \n",
      " 7   charter                          15829 non-null  float64\n",
      " 8   enrollment                       15822 non-null  object \n",
      " 9   read_test_num_valid              15478 non-null  float64\n",
      " 10  read_test_pct_prof_low           15305 non-null  object \n",
      " 11  read_test_pct_prof_high          15305 non-null  object \n",
      " 12  read_test_pct_prof_midpt         15305 non-null  object \n",
      " 13  math_test_num_valid              15552 non-null  float64\n",
      " 14  math_test_pct_prof_low           15343 non-null  object \n",
      " 15  math_test_pct_prof_high          15343 non-null  object \n",
      " 16  math_test_pct_prof_midpt         15343 non-null  object \n",
      " 17  students_susp_in_sch             15583 non-null  object \n",
      " 18  students_susp_out_sch_single     15598 non-null  object \n",
      " 19  students_susp_out_sch_multiple   15598 non-null  object \n",
      " 20  expulsions_no_ed_serv            15598 non-null  object \n",
      " 21  expulsions_with_ed_serv          15583 non-null  object \n",
      " 22  expulsions_zero_tolerance        15598 non-null  object \n",
      " 23  students_arrested                15218 non-null  object \n",
      " 24  students_referred_law_enforce    15579 non-null  object \n",
      " 25  transfers_alt_sch_disc           15617 non-null  float64\n",
      " 26  days_suspended                   15265 non-null  float64\n",
      " 27  suspensions_instances_preschool  15265 non-null  float64\n",
      " 28  suspensions_instances            15265 non-null  float64\n",
      " 29  corpinstances                    15265 non-null  float64\n",
      " 30  salaries_teachers                15107 non-null  object \n",
      " 31  cohort_num                       15829 non-null  float64\n",
      " 32  grad_rate_midpt                  15829 non-null  int64  \n",
      " 33  allegations_harass_sex           15547 non-null  object \n",
      " 34  allegations_harass_race          15547 non-null  object \n",
      " 35  allegations_harass_disability    15547 non-null  object \n",
      " 36  allegations_harass_orientation   15533 non-null  object \n",
      " 37  allegations_harass_religion      15533 non-null  object \n",
      " 38  students_disc_harass_dis         15617 non-null  float64\n",
      " 39  students_disc_harass_race        15617 non-null  float64\n",
      " 40  students_disc_harass_sex         15617 non-null  float64\n",
      " 41  students_report_harass_dis       15617 non-null  float64\n",
      " 42  students_report_harass_race      15617 non-null  float64\n",
      " 43  students_report_harass_sex       15617 non-null  float64\n",
      " 44  instances_mech_restraint         15196 non-null  float64\n",
      " 45  instances_phys_restraint         15538 non-null  float64\n",
      " 46  instances_seclusion              15538 non-null  float64\n",
      " 47  students_mech_restraint          15197 non-null  float64\n",
      " 48  students_phys_restraint          15526 non-null  float64\n",
      " 49  students_seclusion               15539 non-null  float64\n",
      " 50  students_SAT_ACT                 15617 non-null  float64\n",
      "dtypes: float64(22), int64(2), object(27)\n",
      "memory usage: 6.3+ MB\n"
     ]
    }
   ],
   "source": [
    "df_school.info()"
   ]
  },
  {
   "cell_type": "code",
   "execution_count": 73,
   "metadata": {
    "ExecuteTime": {
     "end_time": "2021-06-16T17:54:37.623382Z",
     "start_time": "2021-06-16T17:54:37.621291Z"
    }
   },
   "outputs": [],
   "source": [
    "read_test = ['school_name', 'read_test_num_valid', 'read_test_pct_prof_low', \n",
    "             'read_test_pct_prof_high', 'read_test_pct_prof_midpt']"
   ]
  },
  {
   "cell_type": "code",
   "execution_count": 74,
   "metadata": {
    "ExecuteTime": {
     "end_time": "2021-06-16T17:54:37.636101Z",
     "start_time": "2021-06-16T17:54:37.625022Z"
    },
    "scrolled": true
   },
   "outputs": [
    {
     "data": {
      "text/html": [
       "<div>\n",
       "<style scoped>\n",
       "    .dataframe tbody tr th:only-of-type {\n",
       "        vertical-align: middle;\n",
       "    }\n",
       "\n",
       "    .dataframe tbody tr th {\n",
       "        vertical-align: top;\n",
       "    }\n",
       "\n",
       "    .dataframe thead th {\n",
       "        text-align: right;\n",
       "    }\n",
       "</style>\n",
       "<table border=\"1\" class=\"dataframe\">\n",
       "  <thead>\n",
       "    <tr style=\"text-align: right;\">\n",
       "      <th></th>\n",
       "      <th>school_name</th>\n",
       "      <th>read_test_num_valid</th>\n",
       "      <th>read_test_pct_prof_low</th>\n",
       "      <th>read_test_pct_prof_high</th>\n",
       "      <th>read_test_pct_prof_midpt</th>\n",
       "    </tr>\n",
       "  </thead>\n",
       "  <tbody>\n",
       "    <tr>\n",
       "      <th>33</th>\n",
       "      <td>E. O. Smith High School</td>\n",
       "      <td>260.0</td>\n",
       "      <td>82</td>\n",
       "      <td>82</td>\n",
       "      <td>82</td>\n",
       "    </tr>\n",
       "    <tr>\n",
       "      <th>36</th>\n",
       "      <td>Common Ground High School</td>\n",
       "      <td>39.0</td>\n",
       "      <td>30</td>\n",
       "      <td>39</td>\n",
       "      <td>34.5</td>\n",
       "    </tr>\n",
       "    <tr>\n",
       "      <th>37</th>\n",
       "      <td>The Bridge Academy</td>\n",
       "      <td>139.0</td>\n",
       "      <td>20</td>\n",
       "      <td>24</td>\n",
       "      <td>22</td>\n",
       "    </tr>\n",
       "    <tr>\n",
       "      <th>38</th>\n",
       "      <td>Explorations</td>\n",
       "      <td>21.0</td>\n",
       "      <td>21</td>\n",
       "      <td>39</td>\n",
       "      <td>30</td>\n",
       "    </tr>\n",
       "    <tr>\n",
       "      <th>40</th>\n",
       "      <td>Stamford Academy</td>\n",
       "      <td>25.0</td>\n",
       "      <td>0</td>\n",
       "      <td>20</td>\n",
       "      <td>10</td>\n",
       "    </tr>\n",
       "    <tr>\n",
       "      <th>42</th>\n",
       "      <td>Ansonia High School</td>\n",
       "      <td>137.0</td>\n",
       "      <td>50</td>\n",
       "      <td>54</td>\n",
       "      <td>52</td>\n",
       "    </tr>\n",
       "    <tr>\n",
       "      <th>47</th>\n",
       "      <td>Avon High School</td>\n",
       "      <td>244.0</td>\n",
       "      <td>90</td>\n",
       "      <td>90</td>\n",
       "      <td>90</td>\n",
       "    </tr>\n",
       "    <tr>\n",
       "      <th>48</th>\n",
       "      <td>Berlin High School</td>\n",
       "      <td>231.0</td>\n",
       "      <td>74</td>\n",
       "      <td>74</td>\n",
       "      <td>74</td>\n",
       "    </tr>\n",
       "    <tr>\n",
       "      <th>49</th>\n",
       "      <td>Path Academy</td>\n",
       "      <td>6.0</td>\n",
       "      <td>0</td>\n",
       "      <td>49</td>\n",
       "      <td>24.5</td>\n",
       "    </tr>\n",
       "    <tr>\n",
       "      <th>50</th>\n",
       "      <td>Bethel High School</td>\n",
       "      <td>199.0</td>\n",
       "      <td>75</td>\n",
       "      <td>79</td>\n",
       "      <td>77</td>\n",
       "    </tr>\n",
       "    <tr>\n",
       "      <th>51</th>\n",
       "      <td>Bloomfield High School</td>\n",
       "      <td>143.0</td>\n",
       "      <td>45</td>\n",
       "      <td>49</td>\n",
       "      <td>47</td>\n",
       "    </tr>\n",
       "    <tr>\n",
       "      <th>52</th>\n",
       "      <td>Learning Academy at Bloomfield</td>\n",
       "      <td>1.0</td>\n",
       "      <td>NaN</td>\n",
       "      <td>NaN</td>\n",
       "      <td>NaN</td>\n",
       "    </tr>\n",
       "    <tr>\n",
       "      <th>53</th>\n",
       "      <td>Bolton High School</td>\n",
       "      <td>67.0</td>\n",
       "      <td>80</td>\n",
       "      <td>84</td>\n",
       "      <td>82</td>\n",
       "    </tr>\n",
       "    <tr>\n",
       "      <th>54</th>\n",
       "      <td>Branford High School</td>\n",
       "      <td>233.0</td>\n",
       "      <td>65</td>\n",
       "      <td>65</td>\n",
       "      <td>65</td>\n",
       "    </tr>\n",
       "    <tr>\n",
       "      <th>56</th>\n",
       "      <td>Bassick High School</td>\n",
       "      <td>118.0</td>\n",
       "      <td>10</td>\n",
       "      <td>14</td>\n",
       "      <td>12</td>\n",
       "    </tr>\n",
       "    <tr>\n",
       "      <th>57</th>\n",
       "      <td>Central High School</td>\n",
       "      <td>249.0</td>\n",
       "      <td>32</td>\n",
       "      <td>32</td>\n",
       "      <td>32</td>\n",
       "    </tr>\n",
       "    <tr>\n",
       "      <th>58</th>\n",
       "      <td>Harding High School</td>\n",
       "      <td>173.0</td>\n",
       "      <td>6</td>\n",
       "      <td>9</td>\n",
       "      <td>7.5</td>\n",
       "    </tr>\n",
       "    <tr>\n",
       "      <th>59</th>\n",
       "      <td>Information Technology and Software Engineerin...</td>\n",
       "      <td>132.0</td>\n",
       "      <td>45</td>\n",
       "      <td>49</td>\n",
       "      <td>47</td>\n",
       "    </tr>\n",
       "    <tr>\n",
       "      <th>60</th>\n",
       "      <td>Biotechnology Research and Zoological Studies ...</td>\n",
       "      <td>134.0</td>\n",
       "      <td>35</td>\n",
       "      <td>39</td>\n",
       "      <td>37</td>\n",
       "    </tr>\n",
       "    <tr>\n",
       "      <th>61</th>\n",
       "      <td>Aerospace/Hydrospace Engineering and Physical ...</td>\n",
       "      <td>130.0</td>\n",
       "      <td>50</td>\n",
       "      <td>54</td>\n",
       "      <td>52</td>\n",
       "    </tr>\n",
       "  </tbody>\n",
       "</table>\n",
       "</div>"
      ],
      "text/plain": [
       "                                          school_name  read_test_num_valid  \\\n",
       "33                            E. O. Smith High School                260.0   \n",
       "36                          Common Ground High School                 39.0   \n",
       "37                                 The Bridge Academy                139.0   \n",
       "38                                       Explorations                 21.0   \n",
       "40                                   Stamford Academy                 25.0   \n",
       "42                                Ansonia High School                137.0   \n",
       "47                                   Avon High School                244.0   \n",
       "48                                 Berlin High School                231.0   \n",
       "49                                       Path Academy                  6.0   \n",
       "50                                 Bethel High School                199.0   \n",
       "51                             Bloomfield High School                143.0   \n",
       "52                     Learning Academy at Bloomfield                  1.0   \n",
       "53                                 Bolton High School                 67.0   \n",
       "54                               Branford High School                233.0   \n",
       "56                                Bassick High School                118.0   \n",
       "57                                Central High School                249.0   \n",
       "58                                Harding High School                173.0   \n",
       "59  Information Technology and Software Engineerin...                132.0   \n",
       "60  Biotechnology Research and Zoological Studies ...                134.0   \n",
       "61  Aerospace/Hydrospace Engineering and Physical ...                130.0   \n",
       "\n",
       "   read_test_pct_prof_low read_test_pct_prof_high read_test_pct_prof_midpt  \n",
       "33                     82                      82                       82  \n",
       "36                     30                      39                     34.5  \n",
       "37                     20                      24                       22  \n",
       "38                     21                      39                       30  \n",
       "40                      0                      20                       10  \n",
       "42                     50                      54                       52  \n",
       "47                     90                      90                       90  \n",
       "48                     74                      74                       74  \n",
       "49                      0                      49                     24.5  \n",
       "50                     75                      79                       77  \n",
       "51                     45                      49                       47  \n",
       "52                    NaN                     NaN                      NaN  \n",
       "53                     80                      84                       82  \n",
       "54                     65                      65                       65  \n",
       "56                     10                      14                       12  \n",
       "57                     32                      32                       32  \n",
       "58                      6                       9                      7.5  \n",
       "59                     45                      49                       47  \n",
       "60                     35                      39                       37  \n",
       "61                     50                      54                       52  "
      ]
     },
     "execution_count": 74,
     "metadata": {},
     "output_type": "execute_result"
    }
   ],
   "source": [
    "df_school[read_test].head(20)"
   ]
  },
  {
   "cell_type": "code",
   "execution_count": 75,
   "metadata": {
    "ExecuteTime": {
     "end_time": "2021-06-16T17:54:37.639581Z",
     "start_time": "2021-06-16T17:54:37.637596Z"
    }
   },
   "outputs": [],
   "source": [
    "math_test = ['school_name', 'math_test_num_valid' , 'math_test_pct_prof_low', \n",
    "             'math_test_pct_prof_high', 'math_test_pct_prof_midpt']"
   ]
  },
  {
   "cell_type": "code",
   "execution_count": 76,
   "metadata": {
    "ExecuteTime": {
     "end_time": "2021-06-16T17:54:37.652822Z",
     "start_time": "2021-06-16T17:54:37.641145Z"
    }
   },
   "outputs": [
    {
     "data": {
      "text/html": [
       "<div>\n",
       "<style scoped>\n",
       "    .dataframe tbody tr th:only-of-type {\n",
       "        vertical-align: middle;\n",
       "    }\n",
       "\n",
       "    .dataframe tbody tr th {\n",
       "        vertical-align: top;\n",
       "    }\n",
       "\n",
       "    .dataframe thead th {\n",
       "        text-align: right;\n",
       "    }\n",
       "</style>\n",
       "<table border=\"1\" class=\"dataframe\">\n",
       "  <thead>\n",
       "    <tr style=\"text-align: right;\">\n",
       "      <th></th>\n",
       "      <th>school_name</th>\n",
       "      <th>math_test_num_valid</th>\n",
       "      <th>math_test_pct_prof_low</th>\n",
       "      <th>math_test_pct_prof_high</th>\n",
       "      <th>math_test_pct_prof_midpt</th>\n",
       "    </tr>\n",
       "  </thead>\n",
       "  <tbody>\n",
       "    <tr>\n",
       "      <th>33</th>\n",
       "      <td>E. O. Smith High School</td>\n",
       "      <td>260.0</td>\n",
       "      <td>55</td>\n",
       "      <td>55</td>\n",
       "      <td>55</td>\n",
       "    </tr>\n",
       "    <tr>\n",
       "      <th>36</th>\n",
       "      <td>Common Ground High School</td>\n",
       "      <td>39.0</td>\n",
       "      <td>0</td>\n",
       "      <td>10</td>\n",
       "      <td>5</td>\n",
       "    </tr>\n",
       "    <tr>\n",
       "      <th>37</th>\n",
       "      <td>The Bridge Academy</td>\n",
       "      <td>139.0</td>\n",
       "      <td>6</td>\n",
       "      <td>9</td>\n",
       "      <td>7.5</td>\n",
       "    </tr>\n",
       "    <tr>\n",
       "      <th>38</th>\n",
       "      <td>Explorations</td>\n",
       "      <td>21.0</td>\n",
       "      <td>0</td>\n",
       "      <td>20</td>\n",
       "      <td>10</td>\n",
       "    </tr>\n",
       "    <tr>\n",
       "      <th>40</th>\n",
       "      <td>Stamford Academy</td>\n",
       "      <td>25.0</td>\n",
       "      <td>0</td>\n",
       "      <td>20</td>\n",
       "      <td>10</td>\n",
       "    </tr>\n",
       "    <tr>\n",
       "      <th>42</th>\n",
       "      <td>Ansonia High School</td>\n",
       "      <td>137.0</td>\n",
       "      <td>20</td>\n",
       "      <td>24</td>\n",
       "      <td>22</td>\n",
       "    </tr>\n",
       "    <tr>\n",
       "      <th>47</th>\n",
       "      <td>Avon High School</td>\n",
       "      <td>246.0</td>\n",
       "      <td>77</td>\n",
       "      <td>77</td>\n",
       "      <td>77</td>\n",
       "    </tr>\n",
       "    <tr>\n",
       "      <th>48</th>\n",
       "      <td>Berlin High School</td>\n",
       "      <td>231.0</td>\n",
       "      <td>49</td>\n",
       "      <td>49</td>\n",
       "      <td>49</td>\n",
       "    </tr>\n",
       "    <tr>\n",
       "      <th>49</th>\n",
       "      <td>Path Academy</td>\n",
       "      <td>6.0</td>\n",
       "      <td>0</td>\n",
       "      <td>49</td>\n",
       "      <td>24.5</td>\n",
       "    </tr>\n",
       "    <tr>\n",
       "      <th>50</th>\n",
       "      <td>Bethel High School</td>\n",
       "      <td>199.0</td>\n",
       "      <td>55</td>\n",
       "      <td>59</td>\n",
       "      <td>57</td>\n",
       "    </tr>\n",
       "    <tr>\n",
       "      <th>51</th>\n",
       "      <td>Bloomfield High School</td>\n",
       "      <td>143.0</td>\n",
       "      <td>15</td>\n",
       "      <td>19</td>\n",
       "      <td>17</td>\n",
       "    </tr>\n",
       "    <tr>\n",
       "      <th>52</th>\n",
       "      <td>Learning Academy at Bloomfield</td>\n",
       "      <td>1.0</td>\n",
       "      <td>NaN</td>\n",
       "      <td>NaN</td>\n",
       "      <td>NaN</td>\n",
       "    </tr>\n",
       "    <tr>\n",
       "      <th>53</th>\n",
       "      <td>Bolton High School</td>\n",
       "      <td>67.0</td>\n",
       "      <td>45</td>\n",
       "      <td>49</td>\n",
       "      <td>47</td>\n",
       "    </tr>\n",
       "    <tr>\n",
       "      <th>54</th>\n",
       "      <td>Branford High School</td>\n",
       "      <td>233.0</td>\n",
       "      <td>36</td>\n",
       "      <td>36</td>\n",
       "      <td>36</td>\n",
       "    </tr>\n",
       "    <tr>\n",
       "      <th>56</th>\n",
       "      <td>Bassick High School</td>\n",
       "      <td>119.0</td>\n",
       "      <td>0</td>\n",
       "      <td>5</td>\n",
       "      <td>2.5</td>\n",
       "    </tr>\n",
       "    <tr>\n",
       "      <th>57</th>\n",
       "      <td>Central High School</td>\n",
       "      <td>249.0</td>\n",
       "      <td>12</td>\n",
       "      <td>12</td>\n",
       "      <td>12</td>\n",
       "    </tr>\n",
       "    <tr>\n",
       "      <th>58</th>\n",
       "      <td>Harding High School</td>\n",
       "      <td>176.0</td>\n",
       "      <td>0</td>\n",
       "      <td>5</td>\n",
       "      <td>2.5</td>\n",
       "    </tr>\n",
       "    <tr>\n",
       "      <th>59</th>\n",
       "      <td>Information Technology and Software Engineerin...</td>\n",
       "      <td>132.0</td>\n",
       "      <td>15</td>\n",
       "      <td>19</td>\n",
       "      <td>17</td>\n",
       "    </tr>\n",
       "    <tr>\n",
       "      <th>60</th>\n",
       "      <td>Biotechnology Research and Zoological Studies ...</td>\n",
       "      <td>134.0</td>\n",
       "      <td>10</td>\n",
       "      <td>14</td>\n",
       "      <td>12</td>\n",
       "    </tr>\n",
       "    <tr>\n",
       "      <th>61</th>\n",
       "      <td>Aerospace/Hydrospace Engineering and Physical ...</td>\n",
       "      <td>130.0</td>\n",
       "      <td>20</td>\n",
       "      <td>24</td>\n",
       "      <td>22</td>\n",
       "    </tr>\n",
       "  </tbody>\n",
       "</table>\n",
       "</div>"
      ],
      "text/plain": [
       "                                          school_name  math_test_num_valid  \\\n",
       "33                            E. O. Smith High School                260.0   \n",
       "36                          Common Ground High School                 39.0   \n",
       "37                                 The Bridge Academy                139.0   \n",
       "38                                       Explorations                 21.0   \n",
       "40                                   Stamford Academy                 25.0   \n",
       "42                                Ansonia High School                137.0   \n",
       "47                                   Avon High School                246.0   \n",
       "48                                 Berlin High School                231.0   \n",
       "49                                       Path Academy                  6.0   \n",
       "50                                 Bethel High School                199.0   \n",
       "51                             Bloomfield High School                143.0   \n",
       "52                     Learning Academy at Bloomfield                  1.0   \n",
       "53                                 Bolton High School                 67.0   \n",
       "54                               Branford High School                233.0   \n",
       "56                                Bassick High School                119.0   \n",
       "57                                Central High School                249.0   \n",
       "58                                Harding High School                176.0   \n",
       "59  Information Technology and Software Engineerin...                132.0   \n",
       "60  Biotechnology Research and Zoological Studies ...                134.0   \n",
       "61  Aerospace/Hydrospace Engineering and Physical ...                130.0   \n",
       "\n",
       "   math_test_pct_prof_low math_test_pct_prof_high math_test_pct_prof_midpt  \n",
       "33                     55                      55                       55  \n",
       "36                      0                      10                        5  \n",
       "37                      6                       9                      7.5  \n",
       "38                      0                      20                       10  \n",
       "40                      0                      20                       10  \n",
       "42                     20                      24                       22  \n",
       "47                     77                      77                       77  \n",
       "48                     49                      49                       49  \n",
       "49                      0                      49                     24.5  \n",
       "50                     55                      59                       57  \n",
       "51                     15                      19                       17  \n",
       "52                    NaN                     NaN                      NaN  \n",
       "53                     45                      49                       47  \n",
       "54                     36                      36                       36  \n",
       "56                      0                       5                      2.5  \n",
       "57                     12                      12                       12  \n",
       "58                      0                       5                      2.5  \n",
       "59                     15                      19                       17  \n",
       "60                     10                      14                       12  \n",
       "61                     20                      24                       22  "
      ]
     },
     "execution_count": 76,
     "metadata": {},
     "output_type": "execute_result"
    }
   ],
   "source": [
    "df_school[math_test].head(20)"
   ]
  },
  {
   "cell_type": "markdown",
   "metadata": {},
   "source": [
    "The read_test_num_valid column and the math_test_num_valid column desribe the Number of students who completed a reading, and math assessment and for whom a proficiency level was assigned\n",
    "\n",
    "The low, high, and midpt columns describe the low, high, and midpoint of the range used to report the share of students scoring proficient on a reading or language arts assessment (0–100 scale)\n",
    "\n"
   ]
  },
  {
   "cell_type": "code",
   "execution_count": 77,
   "metadata": {
    "ExecuteTime": {
     "end_time": "2021-06-16T17:54:37.662420Z",
     "start_time": "2021-06-16T17:54:37.654715Z"
    }
   },
   "outputs": [],
   "source": [
    "# The midpoint column is the most balanced measure so we will drop the others\n",
    "df_school = df_school.drop(['math_test_pct_prof_low','math_test_pct_prof_high',\n",
    "                           'read_test_pct_prof_low','read_test_pct_prof_high'], axis=1)"
   ]
  },
  {
   "cell_type": "markdown",
   "metadata": {},
   "source": [
    "### Numeric Columns - nulls"
   ]
  },
  {
   "cell_type": "markdown",
   "metadata": {},
   "source": [
    "Let's take a look at our columns and check back in on the proportion of nulls. If our proportion is small we will fill the NaNs in the remaining numerical columns with medians."
   ]
  },
  {
   "cell_type": "code",
   "execution_count": 78,
   "metadata": {
    "ExecuteTime": {
     "end_time": "2021-06-16T17:54:37.685476Z",
     "start_time": "2021-06-16T17:54:37.664165Z"
    },
    "scrolled": true
   },
   "outputs": [
    {
     "name": "stdout",
     "output_type": "stream",
     "text": [
      "<class 'pandas.core.frame.DataFrame'>\n",
      "Int64Index: 15829 entries, 33 to 3966\n",
      "Data columns (total 47 columns):\n",
      " #   Column                           Non-Null Count  Dtype  \n",
      "---  ------                           --------------  -----  \n",
      " 0   ncessch                          15829 non-null  int64  \n",
      " 1   school_name                      15829 non-null  object \n",
      " 2   state_name                       15829 non-null  object \n",
      " 3   lea_name                         15829 non-null  object \n",
      " 4   urban_centric_locale             15829 non-null  object \n",
      " 5   school_level                     15829 non-null  object \n",
      " 6   school_type                      15829 non-null  object \n",
      " 7   charter                          15829 non-null  float64\n",
      " 8   enrollment                       15822 non-null  object \n",
      " 9   read_test_num_valid              15478 non-null  float64\n",
      " 10  read_test_pct_prof_midpt         15305 non-null  object \n",
      " 11  math_test_num_valid              15552 non-null  float64\n",
      " 12  math_test_pct_prof_midpt         15343 non-null  object \n",
      " 13  students_susp_in_sch             15583 non-null  object \n",
      " 14  students_susp_out_sch_single     15598 non-null  object \n",
      " 15  students_susp_out_sch_multiple   15598 non-null  object \n",
      " 16  expulsions_no_ed_serv            15598 non-null  object \n",
      " 17  expulsions_with_ed_serv          15583 non-null  object \n",
      " 18  expulsions_zero_tolerance        15598 non-null  object \n",
      " 19  students_arrested                15218 non-null  object \n",
      " 20  students_referred_law_enforce    15579 non-null  object \n",
      " 21  transfers_alt_sch_disc           15617 non-null  float64\n",
      " 22  days_suspended                   15265 non-null  float64\n",
      " 23  suspensions_instances_preschool  15265 non-null  float64\n",
      " 24  suspensions_instances            15265 non-null  float64\n",
      " 25  corpinstances                    15265 non-null  float64\n",
      " 26  salaries_teachers                15107 non-null  object \n",
      " 27  cohort_num                       15829 non-null  float64\n",
      " 28  grad_rate_midpt                  15829 non-null  int64  \n",
      " 29  allegations_harass_sex           15547 non-null  object \n",
      " 30  allegations_harass_race          15547 non-null  object \n",
      " 31  allegations_harass_disability    15547 non-null  object \n",
      " 32  allegations_harass_orientation   15533 non-null  object \n",
      " 33  allegations_harass_religion      15533 non-null  object \n",
      " 34  students_disc_harass_dis         15617 non-null  float64\n",
      " 35  students_disc_harass_race        15617 non-null  float64\n",
      " 36  students_disc_harass_sex         15617 non-null  float64\n",
      " 37  students_report_harass_dis       15617 non-null  float64\n",
      " 38  students_report_harass_race      15617 non-null  float64\n",
      " 39  students_report_harass_sex       15617 non-null  float64\n",
      " 40  instances_mech_restraint         15196 non-null  float64\n",
      " 41  instances_phys_restraint         15538 non-null  float64\n",
      " 42  instances_seclusion              15538 non-null  float64\n",
      " 43  students_mech_restraint          15197 non-null  float64\n",
      " 44  students_phys_restraint          15526 non-null  float64\n",
      " 45  students_seclusion               15539 non-null  float64\n",
      " 46  students_SAT_ACT                 15617 non-null  float64\n",
      "dtypes: float64(22), int64(2), object(23)\n",
      "memory usage: 5.8+ MB\n"
     ]
    }
   ],
   "source": [
    "df_school.info()"
   ]
  },
  {
   "cell_type": "code",
   "execution_count": 79,
   "metadata": {
    "ExecuteTime": {
     "end_time": "2021-06-16T17:54:37.717396Z",
     "start_time": "2021-06-16T17:54:37.687584Z"
    }
   },
   "outputs": [
    {
     "data": {
      "text/plain": [
       "'percent of nulls in df_school is 1%'"
      ]
     },
     "execution_count": 79,
     "metadata": {},
     "output_type": "execute_result"
    }
   ],
   "source": [
    "#How do our nulls look?\n",
    "percent_null_df(df_school,'df_school')"
   ]
  },
  {
   "cell_type": "code",
   "execution_count": 80,
   "metadata": {
    "ExecuteTime": {
     "end_time": "2021-06-16T17:54:37.721594Z",
     "start_time": "2021-06-16T17:54:37.719359Z"
    }
   },
   "outputs": [],
   "source": [
    "column_names = list(df_school.columns)"
   ]
  },
  {
   "cell_type": "code",
   "execution_count": 81,
   "metadata": {
    "ExecuteTime": {
     "end_time": "2021-06-16T17:54:37.726043Z",
     "start_time": "2021-06-16T17:54:37.723512Z"
    }
   },
   "outputs": [],
   "source": [
    "categorical = ['year','ncessch','school_name','state_name','lea_name','zip_location',\n",
    "               'urban_centric_locale','school_level','school_type','charter',\n",
    "               'corpinstances_preschool']\n"
   ]
  },
  {
   "cell_type": "code",
   "execution_count": 82,
   "metadata": {
    "ExecuteTime": {
     "end_time": "2021-06-16T17:54:37.732452Z",
     "start_time": "2021-06-16T17:54:37.727924Z"
    }
   },
   "outputs": [
    {
     "data": {
      "text/plain": [
       "['transfers_alt_sch_disc',\n",
       " 'students_disc_harass_race',\n",
       " 'days_suspended',\n",
       " 'students_disc_harass_dis',\n",
       " 'students_arrested',\n",
       " 'expulsions_no_ed_serv',\n",
       " 'instances_seclusion',\n",
       " 'suspensions_instances',\n",
       " 'students_susp_out_sch_single',\n",
       " 'enrollment',\n",
       " 'allegations_harass_disability',\n",
       " 'allegations_harass_sex',\n",
       " 'students_disc_harass_sex',\n",
       " 'math_test_pct_prof_midpt',\n",
       " 'allegations_harass_race',\n",
       " 'suspensions_instances_preschool',\n",
       " 'students_phys_restraint',\n",
       " 'students_susp_in_sch',\n",
       " 'students_referred_law_enforce',\n",
       " 'students_seclusion',\n",
       " 'corpinstances',\n",
       " 'allegations_harass_orientation',\n",
       " 'students_report_harass_race',\n",
       " 'allegations_harass_religion',\n",
       " 'students_susp_out_sch_multiple',\n",
       " 'instances_phys_restraint',\n",
       " 'read_test_pct_prof_midpt',\n",
       " 'cohort_num',\n",
       " 'instances_mech_restraint',\n",
       " 'math_test_num_valid',\n",
       " 'read_test_num_valid',\n",
       " 'expulsions_with_ed_serv',\n",
       " 'students_report_harass_sex',\n",
       " 'grad_rate_midpt',\n",
       " 'expulsions_zero_tolerance',\n",
       " 'students_report_harass_dis',\n",
       " 'salaries_teachers',\n",
       " 'students_SAT_ACT',\n",
       " 'students_mech_restraint']"
      ]
     },
     "execution_count": 82,
     "metadata": {},
     "output_type": "execute_result"
    }
   ],
   "source": [
    "# We've dropped some of our numerical columns let's update our numerical list\n",
    "numerical = set(column_names) - set(categorical)\n",
    "numerical = list(numerical)\n",
    "numerical"
   ]
  },
  {
   "cell_type": "code",
   "execution_count": 83,
   "metadata": {
    "ExecuteTime": {
     "end_time": "2021-06-16T17:54:37.735902Z",
     "start_time": "2021-06-16T17:54:37.733994Z"
    },
    "scrolled": true
   },
   "outputs": [],
   "source": [
    "numerical.remove('grad_rate_midpt')"
   ]
  },
  {
   "cell_type": "code",
   "execution_count": 84,
   "metadata": {
    "ExecuteTime": {
     "end_time": "2021-06-16T17:54:37.753462Z",
     "start_time": "2021-06-16T17:54:37.737495Z"
    }
   },
   "outputs": [
    {
     "name": "stdout",
     "output_type": "stream",
     "text": [
      "['enrollment', 'read_test_num_valid', 'read_test_pct_prof_midpt', 'math_test_num_valid', 'math_test_pct_prof_midpt', 'students_susp_in_sch', 'students_susp_out_sch_single', 'students_susp_out_sch_multiple', 'expulsions_no_ed_serv', 'expulsions_with_ed_serv', 'expulsions_zero_tolerance', 'students_arrested', 'students_referred_law_enforce', 'transfers_alt_sch_disc', 'days_suspended', 'suspensions_instances_preschool', 'suspensions_instances', 'corpinstances', 'salaries_teachers', 'allegations_harass_sex', 'allegations_harass_race', 'allegations_harass_disability', 'allegations_harass_orientation', 'allegations_harass_religion', 'students_disc_harass_dis', 'students_disc_harass_race', 'students_disc_harass_sex', 'students_report_harass_dis', 'students_report_harass_race', 'students_report_harass_sex', 'instances_mech_restraint', 'instances_phys_restraint', 'instances_seclusion', 'students_mech_restraint', 'students_phys_restraint', 'students_seclusion', 'students_SAT_ACT']\n"
     ]
    }
   ],
   "source": [
    "nan_values = df_school.isna()\n",
    "nan_columns = nan_values.any()\n",
    "columns_with_nan = df_school.columns[nan_columns].tolist()\n",
    "print(columns_with_nan)"
   ]
  },
  {
   "cell_type": "code",
   "execution_count": 85,
   "metadata": {
    "ExecuteTime": {
     "end_time": "2021-06-16T17:54:37.847394Z",
     "start_time": "2021-06-16T17:54:37.755591Z"
    }
   },
   "outputs": [],
   "source": [
    "#Replace NaNs with median for each column\n",
    "df_school[numerical] = df_school[numerical].fillna(df_school[numerical].median())"
   ]
  },
  {
   "cell_type": "code",
   "execution_count": 86,
   "metadata": {
    "ExecuteTime": {
     "end_time": "2021-06-16T17:54:37.871901Z",
     "start_time": "2021-06-16T17:54:37.849794Z"
    },
    "scrolled": true
   },
   "outputs": [
    {
     "name": "stdout",
     "output_type": "stream",
     "text": [
      "[]\n"
     ]
    }
   ],
   "source": [
    "nan_values = df_school.isna()\n",
    "nan_columns = nan_values.any()\n",
    "columns_with_nan = df_school.columns[nan_columns].tolist()\n",
    "print(columns_with_nan)"
   ]
  },
  {
   "cell_type": "code",
   "execution_count": 87,
   "metadata": {
    "ExecuteTime": {
     "end_time": "2021-06-16T17:54:38.132177Z",
     "start_time": "2021-06-16T17:54:37.874224Z"
    }
   },
   "outputs": [],
   "source": [
    "df_school[numerical] = df_school[numerical].astype(str).astype(float).astype(int)"
   ]
  },
  {
   "cell_type": "code",
   "execution_count": 88,
   "metadata": {
    "ExecuteTime": {
     "end_time": "2021-06-16T17:54:38.163571Z",
     "start_time": "2021-06-16T17:54:38.135006Z"
    },
    "scrolled": true
   },
   "outputs": [
    {
     "data": {
      "text/plain": [
       "'percent of nulls in df_school is 0%'"
      ]
     },
     "execution_count": 88,
     "metadata": {},
     "output_type": "execute_result"
    }
   ],
   "source": [
    "#How do our nulls look?\n",
    "percent_null_df(df_school,'df_school')"
   ]
  },
  {
   "cell_type": "markdown",
   "metadata": {},
   "source": [
    "### Visualizations"
   ]
  },
  {
   "cell_type": "code",
   "execution_count": null,
   "metadata": {
    "ExecuteTime": {
     "end_time": "2021-06-16T19:10:29.435431Z",
     "start_time": "2021-06-16T18:15:56.729Z"
    }
   },
   "outputs": [],
   "source": [
    "df_school.info()"
   ]
  },
  {
   "cell_type": "code",
   "execution_count": null,
   "metadata": {},
   "outputs": [],
   "source": [
    "graph_feats = ['days_suspended','suspensions_instances','students_SAT_ACT',\n",
    "              'salaries_teachers','math_test_num_valid','read_test_num_valid','cohort_num']"
   ]
  },
  {
   "cell_type": "code",
   "execution_count": null,
   "metadata": {},
   "outputs": [],
   "source": [
    "for variable in graph_feats:\n",
    "    ax, figure = plt.subplots(1,1,figsize=(12,12))\n",
    "    plt.ylim(-100,2500)\n",
    "    sns.boxplot(x='grad_rate_midpt', y=variable, data=df_train)\n",
    "    plt.title(\"{} vs. Graduation Rate\".format(variable))"
   ]
  },
  {
   "cell_type": "code",
   "execution_count": 142,
   "metadata": {
    "ExecuteTime": {
     "end_time": "2021-06-16T19:33:29.493866Z",
     "start_time": "2021-06-16T19:33:29.491394Z"
    }
   },
   "outputs": [],
   "source": [
    "numerical_teacher = ['salaries_teachers']"
   ]
  },
  {
   "cell_type": "code",
   "execution_count": 146,
   "metadata": {
    "ExecuteTime": {
     "end_time": "2021-06-16T19:34:06.216131Z",
     "start_time": "2021-06-16T19:34:05.965662Z"
    },
    "scrolled": true
   },
   "outputs": [
    {
     "data": {
      "image/png": "[encoded data removed]",
      "text/plain": [
       "<Figure size 864x864 with 1 Axes>"
      ]
     },
     "metadata": {
      "needs_background": "light"
     },
     "output_type": "display_data"
    }
   ],
   "source": [
    "for variable in numerical_teacher:\n",
    "    ax, figure = plt.subplots(1,1,figsize=(12,12))\n",
    "    plt.ylim(-100,10000000)\n",
    "    sns.boxplot(x='grad_rate_midpt', y=variable, data=df_train)\n",
    "    plt.title(\"{} vs. Graduation Rate\".format(variable))"
   ]
  },
  {
   "cell_type": "code",
   "execution_count": 88,
   "metadata": {
    "ExecuteTime": {
     "end_time": "2021-06-16T19:29:46.276020Z",
     "start_time": "2021-06-16T19:29:46.273882Z"
    }
   },
   "outputs": [],
   "source": [
    "graph_feats = ['days_suspended','suspensions_instances','students_SAT_ACT',\n",
    "              'salaries_teachers','math_test_num_valid','read_test_num_valid','cohort_num']"
   ]
  },
  {
   "cell_type": "code",
   "execution_count": 89,
   "metadata": {
    "ExecuteTime": {
     "end_time": "2021-06-16T19:29:47.204103Z",
     "start_time": "2021-06-16T19:29:46.277779Z"
    }
   },
   "outputs": [
    {
     "data": {
      "image/png": "[encoded data removed]",
      "text/plain": [
       "<Figure size 864x864 with 1 Axes>"
      ]
     },
     "metadata": {
      "needs_background": "light"
     },
     "output_type": "display_data"
    },
    {
     "data": {
      "image/png": "[encoded data removed]",
      "text/plain": [
       "<Figure size 864x864 with 1 Axes>"
      ]
     },
     "metadata": {
      "needs_background": "light"
     },
     "output_type": "display_data"
    },
    {
     "data": {
      "image/png": "[encoded data removed]",
      "text/plain": [
       "<Figure size 864x864 with 1 Axes>"
      ]
     },
     "metadata": {
      "needs_background": "light"
     },
     "output_type": "display_data"
    },
    {
     "data": {
      "image/png": "[encoded data removed]",
      "text/plain": [
       "<Figure size 864x864 with 1 Axes>"
      ]
     },
     "metadata": {
      "needs_background": "light"
     },
     "output_type": "display_data"
    },
    {
     "data": {
      "image/png": "[encoded data removed]",
      "text/plain": [
       "<Figure size 864x864 with 1 Axes>"
      ]
     },
     "metadata": {
      "needs_background": "light"
     },
     "output_type": "display_data"
    },
    {
     "data": {
      "image/png": "[encoded data removed]",
      "text/plain": [
       "<Figure size 864x864 with 1 Axes>"
      ]
     },
     "metadata": {
      "needs_background": "light"
     },
     "output_type": "display_data"
    },
    {
     "data": {
      "image/png": "[encoded data removed]",
      "text/plain": [
       "<Figure size 864x864 with 1 Axes>"
      ]
     },
     "metadata": {
      "needs_background": "light"
     },
     "output_type": "display_data"
    }
   ],
   "source": [
    "for variable in graph_feats:\n",
    "    ax, figure = plt.subplots(1,1,figsize=(12,12))\n",
    "    plt.ylim(-100,2500)\n",
    "    sns.boxplot(x='grad_rate_midpt', y=variable, data=df_school)\n",
    "    plt.title(\"{} vs. Graduation Rate\".format(variable))"
   ]
  },
  {
   "cell_type": "code",
   "execution_count": null,
   "metadata": {},
   "outputs": [],
   "source": []
  },
  {
   "cell_type": "markdown",
   "metadata": {},
   "source": [
    "## df_district"
   ]
  },
  {
   "cell_type": "code",
   "execution_count": 89,
   "metadata": {
    "ExecuteTime": {
     "end_time": "2021-06-16T17:54:38.191418Z",
     "start_time": "2021-06-16T17:54:38.165283Z"
    }
   },
   "outputs": [],
   "source": [
    "#Concatenate district info for all three states into one dataframe\n",
    "df_district = pd.concat([df_district_northeast, df_district_south_atl, \n",
    "                         df_district_midwest, df_district_west, df_district_south_central])"
   ]
  },
  {
   "cell_type": "code",
   "execution_count": 90,
   "metadata": {
    "ExecuteTime": {
     "end_time": "2021-06-16T17:54:38.202835Z",
     "start_time": "2021-06-16T17:54:38.193516Z"
    }
   },
   "outputs": [
    {
     "data": {
      "text/plain": [
       "Texas                   0.067443\n",
       "California              0.062879\n",
       "Ohio                    0.060570\n",
       "Illinois                0.057134\n",
       "New York                0.055308\n",
       "Michigan                0.049992\n",
       "Pennsylvania            0.042958\n",
       "Arizona                 0.038125\n",
       "New Jersey              0.037427\n",
       "Oklahoma                0.032594\n",
       "Minnesota               0.031305\n",
       "Missouri                0.030768\n",
       "Montana                 0.026687\n",
       "Wisconsin               0.025345\n",
       "Indiana                 0.023090\n",
       "Massachusetts           0.021962\n",
       "Vermont                 0.019492\n",
       "Iowa                    0.018633\n",
       "Washington              0.017720\n",
       "Kansas                  0.017022\n",
       "North Carolina          0.016968\n",
       "New Hampshire           0.016109\n",
       "Arkansas                0.015626\n",
       "Nebraska                0.015250\n",
       "Maine                   0.014391\n",
       "Colorado                0.014230\n",
       "North Dakota            0.012189\n",
       "Georgia                 0.011974\n",
       "Virginia                0.011974\n",
       "Louisiana               0.011974\n",
       "Oregon                  0.011867\n",
       "Connecticut             0.011115\n",
       "Kentucky                0.009988\n",
       "Alabama                 0.009665\n",
       "South Dakota            0.009182\n",
       "Utah                    0.008914\n",
       "Mississippi             0.008645\n",
       "Idaho                   0.008592\n",
       "New Mexico              0.008538\n",
       "Tennessee               0.007840\n",
       "South Carolina          0.005477\n",
       "Florida                 0.004081\n",
       "District of Columbia    0.003974\n",
       "Rhode Island            0.003437\n",
       "Wyoming                 0.003276\n",
       "West Virginia           0.003061\n",
       "Delaware                0.002846\n",
       "Maryland                0.001342\n",
       "Nevada                  0.001020\n",
       "Name: state_name, dtype: float64"
      ]
     },
     "execution_count": 90,
     "metadata": {},
     "output_type": "execute_result"
    }
   ],
   "source": [
    "df_district['state_name'].value_counts(normalize=True, dropna=False)"
   ]
  },
  {
   "cell_type": "markdown",
   "metadata": {},
   "source": [
    "### Data Fields"
   ]
  },
  {
   "cell_type": "code",
   "execution_count": 91,
   "metadata": {
    "ExecuteTime": {
     "end_time": "2021-06-16T17:54:38.226137Z",
     "start_time": "2021-06-16T17:54:38.204715Z"
    },
    "scrolled": false
   },
   "outputs": [
    {
     "data": {
      "text/html": [
       "<div>\n",
       "<style scoped>\n",
       "    .dataframe tbody tr th:only-of-type {\n",
       "        vertical-align: middle;\n",
       "    }\n",
       "\n",
       "    .dataframe tbody tr th {\n",
       "        vertical-align: top;\n",
       "    }\n",
       "\n",
       "    .dataframe thead th {\n",
       "        text-align: right;\n",
       "    }\n",
       "</style>\n",
       "<table border=\"1\" class=\"dataframe\">\n",
       "  <thead>\n",
       "    <tr style=\"text-align: right;\">\n",
       "      <th></th>\n",
       "      <th>year</th>\n",
       "      <th>leaid</th>\n",
       "      <th>lea_name</th>\n",
       "      <th>state_name</th>\n",
       "      <th>state_leaid</th>\n",
       "      <th>city_location</th>\n",
       "      <th>urban_centric_locale</th>\n",
       "      <th>agency_type</th>\n",
       "      <th>enrollment</th>\n",
       "      <th>english_language_learners</th>\n",
       "      <th>...</th>\n",
       "      <th>outlay_capital_instruc_equip</th>\n",
       "      <th>outlay_capital_other_equip</th>\n",
       "      <th>outlay_capital_nonspec_equip</th>\n",
       "      <th>salaries_total</th>\n",
       "      <th>salaries_instruction</th>\n",
       "      <th>benefits_employee_total</th>\n",
       "      <th>cohort_num</th>\n",
       "      <th>grad_rate_high</th>\n",
       "      <th>grad_rate_low</th>\n",
       "      <th>grad_rate_midpt</th>\n",
       "    </tr>\n",
       "  </thead>\n",
       "  <tbody>\n",
       "    <tr>\n",
       "      <th>0</th>\n",
       "      <td>2015</td>\n",
       "      <td>900001</td>\n",
       "      <td>UNIFIED SCHOOL DISTRICT #3</td>\n",
       "      <td>Connecticut</td>\n",
       "      <td>349</td>\n",
       "      <td>HARTFORD</td>\n",
       "      <td>City, midsize</td>\n",
       "      <td>State-operated agency</td>\n",
       "      <td>NaN</td>\n",
       "      <td>NaN</td>\n",
       "      <td>...</td>\n",
       "      <td>Not applicable</td>\n",
       "      <td>Not applicable</td>\n",
       "      <td>Not applicable</td>\n",
       "      <td>Not applicable</td>\n",
       "      <td>Not applicable</td>\n",
       "      <td>Not applicable</td>\n",
       "      <td>NaN</td>\n",
       "      <td>NaN</td>\n",
       "      <td>NaN</td>\n",
       "      <td>NaN</td>\n",
       "    </tr>\n",
       "    <tr>\n",
       "      <th>1</th>\n",
       "      <td>2015</td>\n",
       "      <td>900002</td>\n",
       "      <td>Connecticut Technical High Sc</td>\n",
       "      <td>Connecticut</td>\n",
       "      <td>900</td>\n",
       "      <td>MIDDLETOWN</td>\n",
       "      <td>Suburb, large</td>\n",
       "      <td>State-operated agency</td>\n",
       "      <td>10710</td>\n",
       "      <td>374</td>\n",
       "      <td>...</td>\n",
       "      <td>Not applicable</td>\n",
       "      <td>Not applicable</td>\n",
       "      <td>Not applicable</td>\n",
       "      <td>Not applicable</td>\n",
       "      <td>Not applicable</td>\n",
       "      <td>Not applicable</td>\n",
       "      <td>2471.0</td>\n",
       "      <td>97</td>\n",
       "      <td>97</td>\n",
       "      <td>97</td>\n",
       "    </tr>\n",
       "    <tr>\n",
       "      <th>2</th>\n",
       "      <td>2015</td>\n",
       "      <td>900003</td>\n",
       "      <td>UNIFIED SCHOOL DISTRICT #1</td>\n",
       "      <td>Connecticut</td>\n",
       "      <td>336</td>\n",
       "      <td>WETHERSFIELD</td>\n",
       "      <td>Suburb, large</td>\n",
       "      <td>State-operated agency</td>\n",
       "      <td>390</td>\n",
       "      <td>12</td>\n",
       "      <td>...</td>\n",
       "      <td>Not applicable</td>\n",
       "      <td>Not applicable</td>\n",
       "      <td>Not applicable</td>\n",
       "      <td>Not applicable</td>\n",
       "      <td>Not applicable</td>\n",
       "      <td>Not applicable</td>\n",
       "      <td>341.0</td>\n",
       "      <td>2</td>\n",
       "      <td>2</td>\n",
       "      <td>2</td>\n",
       "    </tr>\n",
       "    <tr>\n",
       "      <th>3</th>\n",
       "      <td>2015</td>\n",
       "      <td>900004</td>\n",
       "      <td>UNIFIED SCHOOL DISTRICT #2</td>\n",
       "      <td>Connecticut</td>\n",
       "      <td>347</td>\n",
       "      <td>HARTFORD</td>\n",
       "      <td>City, small</td>\n",
       "      <td>State-operated agency</td>\n",
       "      <td>151</td>\n",
       "      <td>Missing/not reported</td>\n",
       "      <td>...</td>\n",
       "      <td>Not applicable</td>\n",
       "      <td>Not applicable</td>\n",
       "      <td>Not applicable</td>\n",
       "      <td>Not applicable</td>\n",
       "      <td>Not applicable</td>\n",
       "      <td>Not applicable</td>\n",
       "      <td>49.0</td>\n",
       "      <td>29</td>\n",
       "      <td>20</td>\n",
       "      <td>24</td>\n",
       "    </tr>\n",
       "    <tr>\n",
       "      <th>4</th>\n",
       "      <td>2015</td>\n",
       "      <td>900005</td>\n",
       "      <td>REGIONAL SCHOOL DISTRICT 19</td>\n",
       "      <td>Connecticut</td>\n",
       "      <td>219</td>\n",
       "      <td>STORRS</td>\n",
       "      <td>Suburb, large</td>\n",
       "      <td>Regular local school district</td>\n",
       "      <td>1206</td>\n",
       "      <td>19</td>\n",
       "      <td>...</td>\n",
       "      <td>151000</td>\n",
       "      <td>203000</td>\n",
       "      <td>0</td>\n",
       "      <td>12377000</td>\n",
       "      <td>8867000</td>\n",
       "      <td>5745000</td>\n",
       "      <td>288.0</td>\n",
       "      <td>92</td>\n",
       "      <td>92</td>\n",
       "      <td>92</td>\n",
       "    </tr>\n",
       "  </tbody>\n",
       "</table>\n",
       "<p>5 rows × 55 columns</p>\n",
       "</div>"
      ],
      "text/plain": [
       "   year   leaid                       lea_name   state_name state_leaid  \\\n",
       "0  2015  900001     UNIFIED SCHOOL DISTRICT #3  Connecticut         349   \n",
       "1  2015  900002  Connecticut Technical High Sc  Connecticut         900   \n",
       "2  2015  900003     UNIFIED SCHOOL DISTRICT #1  Connecticut         336   \n",
       "3  2015  900004     UNIFIED SCHOOL DISTRICT #2  Connecticut         347   \n",
       "4  2015  900005    REGIONAL SCHOOL DISTRICT 19  Connecticut         219   \n",
       "\n",
       "  city_location urban_centric_locale                    agency_type  \\\n",
       "0      HARTFORD        City, midsize          State-operated agency   \n",
       "1    MIDDLETOWN        Suburb, large          State-operated agency   \n",
       "2  WETHERSFIELD        Suburb, large          State-operated agency   \n",
       "3      HARTFORD          City, small          State-operated agency   \n",
       "4        STORRS        Suburb, large  Regular local school district   \n",
       "\n",
       "  enrollment english_language_learners  ...  outlay_capital_instruc_equip  \\\n",
       "0        NaN                       NaN  ...                Not applicable   \n",
       "1      10710                       374  ...                Not applicable   \n",
       "2        390                        12  ...                Not applicable   \n",
       "3        151      Missing/not reported  ...                Not applicable   \n",
       "4       1206                        19  ...                        151000   \n",
       "\n",
       "   outlay_capital_other_equip  outlay_capital_nonspec_equip  salaries_total  \\\n",
       "0              Not applicable                Not applicable  Not applicable   \n",
       "1              Not applicable                Not applicable  Not applicable   \n",
       "2              Not applicable                Not applicable  Not applicable   \n",
       "3              Not applicable                Not applicable  Not applicable   \n",
       "4                      203000                             0        12377000   \n",
       "\n",
       "  salaries_instruction benefits_employee_total cohort_num grad_rate_high  \\\n",
       "0       Not applicable          Not applicable        NaN            NaN   \n",
       "1       Not applicable          Not applicable     2471.0             97   \n",
       "2       Not applicable          Not applicable      341.0              2   \n",
       "3       Not applicable          Not applicable       49.0             29   \n",
       "4              8867000                 5745000      288.0             92   \n",
       "\n",
       "  grad_rate_low grad_rate_midpt  \n",
       "0           NaN             NaN  \n",
       "1            97              97  \n",
       "2             2               2  \n",
       "3            20              24  \n",
       "4            92              92  \n",
       "\n",
       "[5 rows x 55 columns]"
      ]
     },
     "execution_count": 91,
     "metadata": {},
     "output_type": "execute_result"
    }
   ],
   "source": [
    "df_district.head()"
   ]
  },
  {
   "cell_type": "code",
   "execution_count": 92,
   "metadata": {
    "ExecuteTime": {
     "end_time": "2021-06-16T17:54:38.291658Z",
     "start_time": "2021-06-16T17:54:38.228525Z"
    },
    "scrolled": true
   },
   "outputs": [
    {
     "name": "stdout",
     "output_type": "stream",
     "text": [
      "<class 'pandas.core.frame.DataFrame'>\n",
      "Int64Index: 18623 entries, 0 to 3049\n",
      "Data columns (total 55 columns):\n",
      " #   Column                           Non-Null Count  Dtype  \n",
      "---  ------                           --------------  -----  \n",
      " 0   year                             18623 non-null  int64  \n",
      " 1   leaid                            18623 non-null  int64  \n",
      " 2   lea_name                         18623 non-null  object \n",
      " 3   state_name                       18623 non-null  object \n",
      " 4   state_leaid                      18623 non-null  object \n",
      " 5   city_location                    18623 non-null  object \n",
      " 6   urban_centric_locale             18592 non-null  object \n",
      " 7   agency_type                      18623 non-null  object \n",
      " 8   enrollment                       17346 non-null  object \n",
      " 9   english_language_learners        17346 non-null  object \n",
      " 10  est_population_total             13111 non-null  float64\n",
      " 11  est_population_5_17_poverty      13111 non-null  float64\n",
      " 12  est_population_5_17_poverty_pct  13107 non-null  float64\n",
      " 13  rev_total                        18623 non-null  object \n",
      " 14  rev_fed_total                    18623 non-null  object \n",
      " 15  rev_state_total                  18623 non-null  object \n",
      " 16  rev_local_total                  18623 non-null  object \n",
      " 17  rev_local_prop_tax               18623 non-null  object \n",
      " 18  exp_total                        18623 non-null  object \n",
      " 19  exp_current_elsec_total          18623 non-null  object \n",
      " 20  exp_current_instruction_total    18623 non-null  object \n",
      " 21  exp_current_supp_serve_total     18623 non-null  object \n",
      " 22  exp_current_pupils               18623 non-null  object \n",
      " 23  exp_current_instruc_staff        18623 non-null  object \n",
      " 24  exp_current_general_admin        18623 non-null  object \n",
      " 25  exp_current_sch_admin            18623 non-null  object \n",
      " 26  exp_current_operation_plant      18623 non-null  object \n",
      " 27  exp_current_student_transport    18623 non-null  object \n",
      " 28  exp_current_bco                  18623 non-null  object \n",
      " 29  exp_current_supp_serv_nonspec    18623 non-null  object \n",
      " 30  exp_current_other                18623 non-null  object \n",
      " 31  exp_current_food_serv            18623 non-null  object \n",
      " 32  exp_current_enterprise           18623 non-null  object \n",
      " 33  exp_current_other_elsec          18623 non-null  object \n",
      " 34  exp_nonelsec                     18623 non-null  object \n",
      " 35  exp_nonelsec_community_serv      18623 non-null  object \n",
      " 36  exp_nonelsec_adult_education     18623 non-null  object \n",
      " 37  exp_nonelsec_other               18623 non-null  object \n",
      " 38  exp_textbooks                    18623 non-null  object \n",
      " 39  exp_utilities_energy             18623 non-null  object \n",
      " 40  exp_tech_supplies_services       18623 non-null  object \n",
      " 41  exp_tech_equipment               18623 non-null  object \n",
      " 42  outlay_capital_total             18623 non-null  object \n",
      " 43  outlay_capital_construction      18623 non-null  object \n",
      " 44  outlay_capital_land_structures   18623 non-null  object \n",
      " 45  outlay_capital_instruc_equip     18623 non-null  object \n",
      " 46  outlay_capital_other_equip       18623 non-null  object \n",
      " 47  outlay_capital_nonspec_equip     18623 non-null  object \n",
      " 48  salaries_total                   18623 non-null  object \n",
      " 49  salaries_instruction             18623 non-null  object \n",
      " 50  benefits_employee_total          18623 non-null  object \n",
      " 51  cohort_num                       12235 non-null  float64\n",
      " 52  grad_rate_high                   12235 non-null  object \n",
      " 53  grad_rate_low                    12235 non-null  object \n",
      " 54  grad_rate_midpt                  12235 non-null  object \n",
      "dtypes: float64(4), int64(2), object(49)\n",
      "memory usage: 8.0+ MB\n"
     ]
    }
   ],
   "source": [
    "df_district.info()"
   ]
  },
  {
   "cell_type": "code",
   "execution_count": 93,
   "metadata": {
    "ExecuteTime": {
     "end_time": "2021-06-16T17:54:38.362389Z",
     "start_time": "2021-06-16T17:54:38.294563Z"
    },
    "scrolled": true
   },
   "outputs": [
    {
     "data": {
      "text/plain": [
       "'percent of nulls in df_district is 4%'"
      ]
     },
     "execution_count": 93,
     "metadata": {},
     "output_type": "execute_result"
    }
   ],
   "source": [
    "#What proportion of our data frame is nulls?\n",
    "percent_null_df(df_district,'df_district')"
   ]
  },
  {
   "cell_type": "markdown",
   "metadata": {},
   "source": [
    "#### Data Field Cleanup"
   ]
  },
  {
   "cell_type": "code",
   "execution_count": 94,
   "metadata": {
    "ExecuteTime": {
     "end_time": "2021-06-16T17:54:38.366773Z",
     "start_time": "2021-06-16T17:54:38.364564Z"
    }
   },
   "outputs": [],
   "source": [
    "column_names = list(df_district.columns)"
   ]
  },
  {
   "cell_type": "code",
   "execution_count": 95,
   "metadata": {
    "ExecuteTime": {
     "end_time": "2021-06-16T17:54:38.370449Z",
     "start_time": "2021-06-16T17:54:38.368381Z"
    }
   },
   "outputs": [],
   "source": [
    "categorical = ['year','leaid','leaname','state_name','state_leaid','city_location',\n",
    "               'urban_centric_locale','agency_type']\n"
   ]
  },
  {
   "cell_type": "code",
   "execution_count": 96,
   "metadata": {
    "ExecuteTime": {
     "end_time": "2021-06-16T17:54:38.375075Z",
     "start_time": "2021-06-16T17:54:38.372333Z"
    }
   },
   "outputs": [],
   "source": [
    "for ele in categorical:\n",
    "    try:\n",
    "        column_names.remove(ele)\n",
    "    except ValueError:\n",
    "        pass"
   ]
  },
  {
   "cell_type": "code",
   "execution_count": 97,
   "metadata": {
    "ExecuteTime": {
     "end_time": "2021-06-16T17:54:38.378596Z",
     "start_time": "2021-06-16T17:54:38.376590Z"
    }
   },
   "outputs": [],
   "source": [
    "numerical = column_names"
   ]
  },
  {
   "cell_type": "code",
   "execution_count": 98,
   "metadata": {
    "ExecuteTime": {
     "end_time": "2021-06-16T17:54:38.382159Z",
     "start_time": "2021-06-16T17:54:38.379987Z"
    }
   },
   "outputs": [],
   "source": [
    "column_names = list(df_district.columns)"
   ]
  },
  {
   "cell_type": "code",
   "execution_count": 99,
   "metadata": {
    "ExecuteTime": {
     "end_time": "2021-06-16T17:54:38.425480Z",
     "start_time": "2021-06-16T17:54:38.384302Z"
    }
   },
   "outputs": [],
   "source": [
    "for c in column_names:\n",
    "    df_district[c].replace('Suppressed data', np.NaN,inplace =True)"
   ]
  },
  {
   "cell_type": "code",
   "execution_count": 100,
   "metadata": {
    "ExecuteTime": {
     "end_time": "2021-06-16T17:54:38.468341Z",
     "start_time": "2021-06-16T17:54:38.427607Z"
    }
   },
   "outputs": [],
   "source": [
    "for c in column_names:\n",
    "    df_district[c].replace('Not applicable', np.NaN,inplace =True)"
   ]
  },
  {
   "cell_type": "code",
   "execution_count": 101,
   "metadata": {
    "ExecuteTime": {
     "end_time": "2021-06-16T17:54:38.514135Z",
     "start_time": "2021-06-16T17:54:38.470675Z"
    }
   },
   "outputs": [],
   "source": [
    "for c in column_names:\n",
    "    df_district[c].replace('Missing/not reported', np.NaN,inplace =True)"
   ]
  },
  {
   "cell_type": "markdown",
   "metadata": {},
   "source": [
    "### Columns to drop"
   ]
  },
  {
   "cell_type": "code",
   "execution_count": 102,
   "metadata": {
    "ExecuteTime": {
     "end_time": "2021-06-16T17:54:38.553919Z",
     "start_time": "2021-06-16T17:54:38.515661Z"
    }
   },
   "outputs": [
    {
     "name": "stdout",
     "output_type": "stream",
     "text": [
      "<class 'pandas.core.frame.DataFrame'>\n",
      "Int64Index: 18623 entries, 0 to 3049\n",
      "Data columns (total 55 columns):\n",
      " #   Column                           Non-Null Count  Dtype  \n",
      "---  ------                           --------------  -----  \n",
      " 0   year                             18623 non-null  int64  \n",
      " 1   leaid                            18623 non-null  int64  \n",
      " 2   lea_name                         18623 non-null  object \n",
      " 3   state_name                       18623 non-null  object \n",
      " 4   state_leaid                      18623 non-null  object \n",
      " 5   city_location                    18623 non-null  object \n",
      " 6   urban_centric_locale             18592 non-null  object \n",
      " 7   agency_type                      18623 non-null  object \n",
      " 8   enrollment                       17047 non-null  object \n",
      " 9   english_language_learners        12381 non-null  object \n",
      " 10  est_population_total             13111 non-null  float64\n",
      " 11  est_population_5_17_poverty      13111 non-null  float64\n",
      " 12  est_population_5_17_poverty_pct  13107 non-null  float64\n",
      " 13  rev_total                        16883 non-null  object \n",
      " 14  rev_fed_total                    16883 non-null  object \n",
      " 15  rev_state_total                  16883 non-null  object \n",
      " 16  rev_local_total                  16883 non-null  object \n",
      " 17  rev_local_prop_tax               12577 non-null  object \n",
      " 18  exp_total                        16883 non-null  object \n",
      " 19  exp_current_elsec_total          16883 non-null  object \n",
      " 20  exp_current_instruction_total    16883 non-null  object \n",
      " 21  exp_current_supp_serve_total     16883 non-null  object \n",
      " 22  exp_current_pupils               16883 non-null  object \n",
      " 23  exp_current_instruc_staff        16883 non-null  object \n",
      " 24  exp_current_general_admin        16883 non-null  object \n",
      " 25  exp_current_sch_admin            16883 non-null  object \n",
      " 26  exp_current_operation_plant      16883 non-null  object \n",
      " 27  exp_current_student_transport    16883 non-null  object \n",
      " 28  exp_current_bco                  16883 non-null  object \n",
      " 29  exp_current_supp_serv_nonspec    16883 non-null  object \n",
      " 30  exp_current_other                16883 non-null  object \n",
      " 31  exp_current_food_serv            16883 non-null  object \n",
      " 32  exp_current_enterprise           16883 non-null  object \n",
      " 33  exp_current_other_elsec          16883 non-null  object \n",
      " 34  exp_nonelsec                     16883 non-null  object \n",
      " 35  exp_nonelsec_community_serv      16883 non-null  object \n",
      " 36  exp_nonelsec_adult_education     16883 non-null  object \n",
      " 37  exp_nonelsec_other               16883 non-null  object \n",
      " 38  exp_textbooks                    16883 non-null  object \n",
      " 39  exp_utilities_energy             16883 non-null  object \n",
      " 40  exp_tech_supplies_services       16883 non-null  object \n",
      " 41  exp_tech_equipment               16883 non-null  object \n",
      " 42  outlay_capital_total             16883 non-null  object \n",
      " 43  outlay_capital_construction      16883 non-null  object \n",
      " 44  outlay_capital_land_structures   16883 non-null  object \n",
      " 45  outlay_capital_instruc_equip     16883 non-null  object \n",
      " 46  outlay_capital_other_equip       16883 non-null  object \n",
      " 47  outlay_capital_nonspec_equip     16883 non-null  object \n",
      " 48  salaries_total                   16883 non-null  object \n",
      " 49  salaries_instruction             16883 non-null  object \n",
      " 50  benefits_employee_total          16883 non-null  object \n",
      " 51  cohort_num                       12235 non-null  float64\n",
      " 52  grad_rate_high                   11972 non-null  object \n",
      " 53  grad_rate_low                    11972 non-null  object \n",
      " 54  grad_rate_midpt                  11972 non-null  object \n",
      "dtypes: float64(4), int64(2), object(49)\n",
      "memory usage: 8.0+ MB\n"
     ]
    }
   ],
   "source": [
    "df_district.info()"
   ]
  },
  {
   "cell_type": "code",
   "execution_count": 103,
   "metadata": {
    "ExecuteTime": {
     "end_time": "2021-06-16T17:54:38.566233Z",
     "start_time": "2021-06-16T17:54:38.555435Z"
    }
   },
   "outputs": [],
   "source": [
    "# Our population columns have the highest proportion of nulls\n",
    "df_district = df_district.drop(['est_population_total','est_population_5_17_poverty',\n",
    "                           'est_population_5_17_poverty_pct'], axis=1)"
   ]
  },
  {
   "cell_type": "code",
   "execution_count": 104,
   "metadata": {
    "ExecuteTime": {
     "end_time": "2021-06-16T17:54:38.577887Z",
     "start_time": "2021-06-16T17:54:38.567675Z"
    }
   },
   "outputs": [],
   "source": [
    "# Drop grad rates and urban centric locale: \n",
    "# we don't want to delete any districts and are using grad rate and urban centric locale at school level\n",
    "df_district = df_district.drop(['grad_rate_high','grad_rate_low',\n",
    "                                'grad_rate_midpt','cohort_num','urban_centric_locale','city_location'], axis=1)"
   ]
  },
  {
   "cell_type": "code",
   "execution_count": 105,
   "metadata": {
    "ExecuteTime": {
     "end_time": "2021-06-16T17:54:38.589336Z",
     "start_time": "2021-06-16T17:54:38.579327Z"
    }
   },
   "outputs": [
    {
     "data": {
      "text/plain": [
       "NaN      0.084627\n",
       "0        0.020459\n",
       "177      0.001557\n",
       "202      0.001450\n",
       "178      0.001289\n",
       "           ...   \n",
       "3495     0.000054\n",
       "13872    0.000054\n",
       "13815    0.000054\n",
       "4572     0.000054\n",
       "3885     0.000054\n",
       "Name: enrollment, Length: 5443, dtype: float64"
      ]
     },
     "execution_count": 105,
     "metadata": {},
     "output_type": "execute_result"
    }
   ],
   "source": [
    "df_district['enrollment'].value_counts(normalize=True, dropna=False)"
   ]
  },
  {
   "cell_type": "code",
   "execution_count": 106,
   "metadata": {
    "ExecuteTime": {
     "end_time": "2021-06-16T17:54:38.599914Z",
     "start_time": "2021-06-16T17:54:38.590718Z"
    }
   },
   "outputs": [],
   "source": [
    "# Enrollment is mostly zeros or NaNs \n",
    "df_district = df_district.drop(['enrollment'], axis=1)"
   ]
  },
  {
   "cell_type": "code",
   "execution_count": 107,
   "metadata": {
    "ExecuteTime": {
     "end_time": "2021-06-16T17:54:38.610820Z",
     "start_time": "2021-06-16T17:54:38.601547Z"
    }
   },
   "outputs": [],
   "source": [
    "# year is the same for all rows, state_name same in school data, state_leaid unnecessary\n",
    "df_district = df_district.drop(['year','state_name','state_leaid'], axis=1)"
   ]
  },
  {
   "cell_type": "code",
   "execution_count": 108,
   "metadata": {
    "ExecuteTime": {
     "end_time": "2021-06-16T17:54:38.666681Z",
     "start_time": "2021-06-16T17:54:38.612300Z"
    },
    "scrolled": true
   },
   "outputs": [
    {
     "data": {
      "text/plain": [
       "'percent of nulls in df_district is 9%'"
      ]
     },
     "execution_count": 108,
     "metadata": {},
     "output_type": "execute_result"
    }
   ],
   "source": [
    "#What proportion of our data frame is nulls?\n",
    "percent_null_df(df_district,'df_district')"
   ]
  },
  {
   "cell_type": "markdown",
   "metadata": {},
   "source": [
    "### english_language_learners"
   ]
  },
  {
   "cell_type": "code",
   "execution_count": 109,
   "metadata": {
    "ExecuteTime": {
     "end_time": "2021-06-16T17:54:38.676004Z",
     "start_time": "2021-06-16T17:54:38.668488Z"
    },
    "scrolled": true
   },
   "outputs": [
    {
     "data": {
      "text/plain": [
       "NaN     0.335177\n",
       "3       0.102669\n",
       "4       0.021694\n",
       "0       0.020459\n",
       "5       0.018955\n",
       "          ...   \n",
       "2616    0.000054\n",
       "6772    0.000054\n",
       "3014    0.000054\n",
       "3930    0.000054\n",
       "2789    0.000054\n",
       "Name: english_language_learners, Length: 1581, dtype: float64"
      ]
     },
     "execution_count": 109,
     "metadata": {},
     "output_type": "execute_result"
    }
   ],
   "source": [
    "df_district['english_language_learners'].value_counts(normalize=True, dropna=False)"
   ]
  },
  {
   "cell_type": "code",
   "execution_count": 110,
   "metadata": {
    "ExecuteTime": {
     "end_time": "2021-06-16T17:54:38.679490Z",
     "start_time": "2021-06-16T17:54:38.677526Z"
    }
   },
   "outputs": [],
   "source": [
    "ell = ['english_language_learners']"
   ]
  },
  {
   "cell_type": "code",
   "execution_count": 111,
   "metadata": {
    "ExecuteTime": {
     "end_time": "2021-06-16T17:54:38.684320Z",
     "start_time": "2021-06-16T17:54:38.680877Z"
    }
   },
   "outputs": [],
   "source": [
    "for c in ell:\n",
    "    df_district[c].replace('Missing/not reported', np.NaN,inplace =True)"
   ]
  },
  {
   "cell_type": "code",
   "execution_count": 112,
   "metadata": {
    "ExecuteTime": {
     "end_time": "2021-06-16T17:54:38.693396Z",
     "start_time": "2021-06-16T17:54:38.685968Z"
    },
    "scrolled": false
   },
   "outputs": [
    {
     "data": {
      "text/plain": [
       "NaN     0.335177\n",
       "3       0.102669\n",
       "4       0.021694\n",
       "0       0.020459\n",
       "5       0.018955\n",
       "          ...   \n",
       "2616    0.000054\n",
       "6772    0.000054\n",
       "3014    0.000054\n",
       "3930    0.000054\n",
       "2789    0.000054\n",
       "Name: english_language_learners, Length: 1581, dtype: float64"
      ]
     },
     "execution_count": 112,
     "metadata": {},
     "output_type": "execute_result"
    }
   ],
   "source": [
    "df_district['english_language_learners'].value_counts(normalize=True, dropna=False)"
   ]
  },
  {
   "cell_type": "code",
   "execution_count": 113,
   "metadata": {
    "ExecuteTime": {
     "end_time": "2021-06-16T17:54:38.701924Z",
     "start_time": "2021-06-16T17:54:38.695095Z"
    }
   },
   "outputs": [],
   "source": [
    "# fill na with median\n",
    "df_district['english_language_learners'] = df_district['english_language_learners'].fillna(df_district['english_language_learners'].median())"
   ]
  },
  {
   "cell_type": "code",
   "execution_count": 114,
   "metadata": {
    "ExecuteTime": {
     "end_time": "2021-06-16T17:54:38.713029Z",
     "start_time": "2021-06-16T17:54:38.704393Z"
    }
   },
   "outputs": [
    {
     "data": {
      "text/plain": [
       "26.0    0.335177\n",
       "3       0.102669\n",
       "4       0.021694\n",
       "0       0.020459\n",
       "5       0.018955\n",
       "          ...   \n",
       "2616    0.000054\n",
       "6772    0.000054\n",
       "3014    0.000054\n",
       "3930    0.000054\n",
       "2789    0.000054\n",
       "Name: english_language_learners, Length: 1581, dtype: float64"
      ]
     },
     "execution_count": 114,
     "metadata": {},
     "output_type": "execute_result"
    }
   ],
   "source": [
    "df_district['english_language_learners'].value_counts(normalize=True, dropna=False)"
   ]
  },
  {
   "cell_type": "code",
   "execution_count": 115,
   "metadata": {
    "ExecuteTime": {
     "end_time": "2021-06-16T17:54:38.747660Z",
     "start_time": "2021-06-16T17:54:38.714837Z"
    },
    "scrolled": true
   },
   "outputs": [
    {
     "name": "stdout",
     "output_type": "stream",
     "text": [
      "<class 'pandas.core.frame.DataFrame'>\n",
      "Int64Index: 18623 entries, 0 to 3049\n",
      "Data columns (total 42 columns):\n",
      " #   Column                          Non-Null Count  Dtype \n",
      "---  ------                          --------------  ----- \n",
      " 0   leaid                           18623 non-null  int64 \n",
      " 1   lea_name                        18623 non-null  object\n",
      " 2   agency_type                     18623 non-null  object\n",
      " 3   english_language_learners       18623 non-null  object\n",
      " 4   rev_total                       16883 non-null  object\n",
      " 5   rev_fed_total                   16883 non-null  object\n",
      " 6   rev_state_total                 16883 non-null  object\n",
      " 7   rev_local_total                 16883 non-null  object\n",
      " 8   rev_local_prop_tax              12577 non-null  object\n",
      " 9   exp_total                       16883 non-null  object\n",
      " 10  exp_current_elsec_total         16883 non-null  object\n",
      " 11  exp_current_instruction_total   16883 non-null  object\n",
      " 12  exp_current_supp_serve_total    16883 non-null  object\n",
      " 13  exp_current_pupils              16883 non-null  object\n",
      " 14  exp_current_instruc_staff       16883 non-null  object\n",
      " 15  exp_current_general_admin       16883 non-null  object\n",
      " 16  exp_current_sch_admin           16883 non-null  object\n",
      " 17  exp_current_operation_plant     16883 non-null  object\n",
      " 18  exp_current_student_transport   16883 non-null  object\n",
      " 19  exp_current_bco                 16883 non-null  object\n",
      " 20  exp_current_supp_serv_nonspec   16883 non-null  object\n",
      " 21  exp_current_other               16883 non-null  object\n",
      " 22  exp_current_food_serv           16883 non-null  object\n",
      " 23  exp_current_enterprise          16883 non-null  object\n",
      " 24  exp_current_other_elsec         16883 non-null  object\n",
      " 25  exp_nonelsec                    16883 non-null  object\n",
      " 26  exp_nonelsec_community_serv     16883 non-null  object\n",
      " 27  exp_nonelsec_adult_education    16883 non-null  object\n",
      " 28  exp_nonelsec_other              16883 non-null  object\n",
      " 29  exp_textbooks                   16883 non-null  object\n",
      " 30  exp_utilities_energy            16883 non-null  object\n",
      " 31  exp_tech_supplies_services      16883 non-null  object\n",
      " 32  exp_tech_equipment              16883 non-null  object\n",
      " 33  outlay_capital_total            16883 non-null  object\n",
      " 34  outlay_capital_construction     16883 non-null  object\n",
      " 35  outlay_capital_land_structures  16883 non-null  object\n",
      " 36  outlay_capital_instruc_equip    16883 non-null  object\n",
      " 37  outlay_capital_other_equip      16883 non-null  object\n",
      " 38  outlay_capital_nonspec_equip    16883 non-null  object\n",
      " 39  salaries_total                  16883 non-null  object\n",
      " 40  salaries_instruction            16883 non-null  object\n",
      " 41  benefits_employee_total         16883 non-null  object\n",
      "dtypes: int64(1), object(41)\n",
      "memory usage: 6.1+ MB\n"
     ]
    }
   ],
   "source": [
    "df_district.info()"
   ]
  },
  {
   "cell_type": "code",
   "execution_count": 116,
   "metadata": {
    "ExecuteTime": {
     "end_time": "2021-06-16T17:54:38.764210Z",
     "start_time": "2021-06-16T17:54:38.749657Z"
    }
   },
   "outputs": [],
   "source": [
    "df_district = df_district.drop_duplicates(subset=['lea_name'])"
   ]
  },
  {
   "cell_type": "markdown",
   "metadata": {},
   "source": [
    "# Join Datasets"
   ]
  },
  {
   "cell_type": "code",
   "execution_count": 117,
   "metadata": {
    "ExecuteTime": {
     "end_time": "2021-06-16T17:54:38.770089Z",
     "start_time": "2021-06-16T17:54:38.766090Z"
    }
   },
   "outputs": [
    {
     "data": {
      "text/plain": [
       "(15829, 47)"
      ]
     },
     "execution_count": 117,
     "metadata": {},
     "output_type": "execute_result"
    }
   ],
   "source": [
    "df_school.shape"
   ]
  },
  {
   "cell_type": "code",
   "execution_count": 118,
   "metadata": {
    "ExecuteTime": {
     "end_time": "2021-06-16T17:54:38.774608Z",
     "start_time": "2021-06-16T17:54:38.771977Z"
    },
    "scrolled": true
   },
   "outputs": [
    {
     "data": {
      "text/plain": [
       "(18257, 42)"
      ]
     },
     "execution_count": 118,
     "metadata": {},
     "output_type": "execute_result"
    }
   ],
   "source": [
    "df_district.shape"
   ]
  },
  {
   "cell_type": "code",
   "execution_count": 119,
   "metadata": {
    "ExecuteTime": {
     "end_time": "2021-06-16T17:54:38.781234Z",
     "start_time": "2021-06-16T17:54:38.775904Z"
    }
   },
   "outputs": [],
   "source": [
    "# Columns to drop \n",
    "df_school = df_school.drop(['ncessch','school_level','school_type','school_name','suspensions_instances_preschool'], axis=1)"
   ]
  },
  {
   "cell_type": "code",
   "execution_count": 120,
   "metadata": {
    "ExecuteTime": {
     "end_time": "2021-06-16T17:54:38.842361Z",
     "start_time": "2021-06-16T17:54:38.782587Z"
    },
    "scrolled": true
   },
   "outputs": [
    {
     "data": {
      "text/html": [
       "<div>\n",
       "<style scoped>\n",
       "    .dataframe tbody tr th:only-of-type {\n",
       "        vertical-align: middle;\n",
       "    }\n",
       "\n",
       "    .dataframe tbody tr th {\n",
       "        vertical-align: top;\n",
       "    }\n",
       "\n",
       "    .dataframe thead th {\n",
       "        text-align: right;\n",
       "    }\n",
       "</style>\n",
       "<table border=\"1\" class=\"dataframe\">\n",
       "  <thead>\n",
       "    <tr style=\"text-align: right;\">\n",
       "      <th></th>\n",
       "      <th>state_name</th>\n",
       "      <th>lea_name</th>\n",
       "      <th>urban_centric_locale</th>\n",
       "      <th>charter</th>\n",
       "      <th>enrollment</th>\n",
       "      <th>read_test_num_valid</th>\n",
       "      <th>read_test_pct_prof_midpt</th>\n",
       "      <th>math_test_num_valid</th>\n",
       "      <th>math_test_pct_prof_midpt</th>\n",
       "      <th>students_susp_in_sch</th>\n",
       "      <th>...</th>\n",
       "      <th>exp_tech_equipment</th>\n",
       "      <th>outlay_capital_total</th>\n",
       "      <th>outlay_capital_construction</th>\n",
       "      <th>outlay_capital_land_structures</th>\n",
       "      <th>outlay_capital_instruc_equip</th>\n",
       "      <th>outlay_capital_other_equip</th>\n",
       "      <th>outlay_capital_nonspec_equip</th>\n",
       "      <th>salaries_total</th>\n",
       "      <th>salaries_instruction</th>\n",
       "      <th>benefits_employee_total</th>\n",
       "    </tr>\n",
       "  </thead>\n",
       "  <tbody>\n",
       "    <tr>\n",
       "      <th>0</th>\n",
       "      <td>Connecticut</td>\n",
       "      <td>REGIONAL SCHOOL DISTRICT 19</td>\n",
       "      <td>Suburb, large</td>\n",
       "      <td>0.0</td>\n",
       "      <td>1153</td>\n",
       "      <td>260</td>\n",
       "      <td>82</td>\n",
       "      <td>260</td>\n",
       "      <td>55</td>\n",
       "      <td>35</td>\n",
       "      <td>...</td>\n",
       "      <td>0</td>\n",
       "      <td>354000</td>\n",
       "      <td>0</td>\n",
       "      <td>0</td>\n",
       "      <td>151000</td>\n",
       "      <td>203000</td>\n",
       "      <td>0</td>\n",
       "      <td>12377000</td>\n",
       "      <td>8867000</td>\n",
       "      <td>5745000</td>\n",
       "    </tr>\n",
       "    <tr>\n",
       "      <th>1</th>\n",
       "      <td>Connecticut</td>\n",
       "      <td>COMMON GROUND HIGH SCHOOL DIS</td>\n",
       "      <td>City, midsize</td>\n",
       "      <td>1.0</td>\n",
       "      <td>186</td>\n",
       "      <td>39</td>\n",
       "      <td>34</td>\n",
       "      <td>39</td>\n",
       "      <td>5</td>\n",
       "      <td>6</td>\n",
       "      <td>...</td>\n",
       "      <td>0</td>\n",
       "      <td>6558000</td>\n",
       "      <td>6558000</td>\n",
       "      <td>0</td>\n",
       "      <td>0</td>\n",
       "      <td>0</td>\n",
       "      <td>0</td>\n",
       "      <td>1773000</td>\n",
       "      <td>944000</td>\n",
       "      <td>311000</td>\n",
       "    </tr>\n",
       "    <tr>\n",
       "      <th>2</th>\n",
       "      <td>Connecticut</td>\n",
       "      <td>THE BRIDGE ACADEMY DISTRICT</td>\n",
       "      <td>City, midsize</td>\n",
       "      <td>1.0</td>\n",
       "      <td>279</td>\n",
       "      <td>139</td>\n",
       "      <td>22</td>\n",
       "      <td>139</td>\n",
       "      <td>7</td>\n",
       "      <td>25</td>\n",
       "      <td>...</td>\n",
       "      <td>0</td>\n",
       "      <td>712000</td>\n",
       "      <td>659000</td>\n",
       "      <td>0</td>\n",
       "      <td>14000</td>\n",
       "      <td>39000</td>\n",
       "      <td>0</td>\n",
       "      <td>2368000</td>\n",
       "      <td>1615000</td>\n",
       "      <td>473000</td>\n",
       "    </tr>\n",
       "    <tr>\n",
       "      <th>3</th>\n",
       "      <td>Connecticut</td>\n",
       "      <td>EXPLORATIONS DISTRICT</td>\n",
       "      <td>Town, fringe</td>\n",
       "      <td>1.0</td>\n",
       "      <td>92</td>\n",
       "      <td>21</td>\n",
       "      <td>30</td>\n",
       "      <td>21</td>\n",
       "      <td>10</td>\n",
       "      <td>10</td>\n",
       "      <td>...</td>\n",
       "      <td>0</td>\n",
       "      <td>214000</td>\n",
       "      <td>0</td>\n",
       "      <td>0</td>\n",
       "      <td>0</td>\n",
       "      <td>214000</td>\n",
       "      <td>0</td>\n",
       "      <td>773000</td>\n",
       "      <td>521000</td>\n",
       "      <td>118000</td>\n",
       "    </tr>\n",
       "    <tr>\n",
       "      <th>4</th>\n",
       "      <td>Connecticut</td>\n",
       "      <td>Stamford Academy</td>\n",
       "      <td>City, midsize</td>\n",
       "      <td>1.0</td>\n",
       "      <td>150</td>\n",
       "      <td>25</td>\n",
       "      <td>10</td>\n",
       "      <td>25</td>\n",
       "      <td>10</td>\n",
       "      <td>23</td>\n",
       "      <td>...</td>\n",
       "      <td>0</td>\n",
       "      <td>0</td>\n",
       "      <td>0</td>\n",
       "      <td>0</td>\n",
       "      <td>0</td>\n",
       "      <td>0</td>\n",
       "      <td>0</td>\n",
       "      <td>1710000</td>\n",
       "      <td>777000</td>\n",
       "      <td>359000</td>\n",
       "    </tr>\n",
       "  </tbody>\n",
       "</table>\n",
       "<p>5 rows × 83 columns</p>\n",
       "</div>"
      ],
      "text/plain": [
       "    state_name                       lea_name urban_centric_locale  charter  \\\n",
       "0  Connecticut    REGIONAL SCHOOL DISTRICT 19        Suburb, large      0.0   \n",
       "1  Connecticut  COMMON GROUND HIGH SCHOOL DIS        City, midsize      1.0   \n",
       "2  Connecticut    THE BRIDGE ACADEMY DISTRICT        City, midsize      1.0   \n",
       "3  Connecticut          EXPLORATIONS DISTRICT         Town, fringe      1.0   \n",
       "4  Connecticut               Stamford Academy        City, midsize      1.0   \n",
       "\n",
       "   enrollment  read_test_num_valid  read_test_pct_prof_midpt  \\\n",
       "0        1153                  260                        82   \n",
       "1         186                   39                        34   \n",
       "2         279                  139                        22   \n",
       "3          92                   21                        30   \n",
       "4         150                   25                        10   \n",
       "\n",
       "   math_test_num_valid  math_test_pct_prof_midpt  students_susp_in_sch  ...  \\\n",
       "0                  260                        55                    35  ...   \n",
       "1                   39                         5                     6  ...   \n",
       "2                  139                         7                    25  ...   \n",
       "3                   21                        10                    10  ...   \n",
       "4                   25                        10                    23  ...   \n",
       "\n",
       "   exp_tech_equipment  outlay_capital_total  outlay_capital_construction  \\\n",
       "0                   0                354000                            0   \n",
       "1                   0               6558000                      6558000   \n",
       "2                   0                712000                       659000   \n",
       "3                   0                214000                            0   \n",
       "4                   0                     0                            0   \n",
       "\n",
       "   outlay_capital_land_structures  outlay_capital_instruc_equip  \\\n",
       "0                               0                        151000   \n",
       "1                               0                             0   \n",
       "2                               0                         14000   \n",
       "3                               0                             0   \n",
       "4                               0                             0   \n",
       "\n",
       "   outlay_capital_other_equip  outlay_capital_nonspec_equip  salaries_total  \\\n",
       "0                      203000                             0        12377000   \n",
       "1                           0                             0         1773000   \n",
       "2                       39000                             0         2368000   \n",
       "3                      214000                             0          773000   \n",
       "4                           0                             0         1710000   \n",
       "\n",
       "   salaries_instruction  benefits_employee_total  \n",
       "0               8867000                  5745000  \n",
       "1                944000                   311000  \n",
       "2               1615000                   473000  \n",
       "3                521000                   118000  \n",
       "4                777000                   359000  \n",
       "\n",
       "[5 rows x 83 columns]"
      ]
     },
     "execution_count": 120,
     "metadata": {},
     "output_type": "execute_result"
    }
   ],
   "source": [
    "df_train = df_school.merge(df_district, on = 'lea_name')\n",
    "df_train.head()"
   ]
  },
  {
   "cell_type": "code",
   "execution_count": 121,
   "metadata": {
    "ExecuteTime": {
     "end_time": "2021-06-16T17:54:38.903989Z",
     "start_time": "2021-06-16T17:54:38.844652Z"
    },
    "scrolled": true
   },
   "outputs": [
    {
     "name": "stdout",
     "output_type": "stream",
     "text": [
      "<class 'pandas.core.frame.DataFrame'>\n",
      "Int64Index: 15785 entries, 0 to 15784\n",
      "Data columns (total 83 columns):\n",
      " #   Column                          Non-Null Count  Dtype  \n",
      "---  ------                          --------------  -----  \n",
      " 0   state_name                      15785 non-null  object \n",
      " 1   lea_name                        15785 non-null  object \n",
      " 2   urban_centric_locale            15785 non-null  object \n",
      " 3   charter                         15785 non-null  float64\n",
      " 4   enrollment                      15785 non-null  int64  \n",
      " 5   read_test_num_valid             15785 non-null  int64  \n",
      " 6   read_test_pct_prof_midpt        15785 non-null  int64  \n",
      " 7   math_test_num_valid             15785 non-null  int64  \n",
      " 8   math_test_pct_prof_midpt        15785 non-null  int64  \n",
      " 9   students_susp_in_sch            15785 non-null  int64  \n",
      " 10  students_susp_out_sch_single    15785 non-null  int64  \n",
      " 11  students_susp_out_sch_multiple  15785 non-null  int64  \n",
      " 12  expulsions_no_ed_serv           15785 non-null  int64  \n",
      " 13  expulsions_with_ed_serv         15785 non-null  int64  \n",
      " 14  expulsions_zero_tolerance       15785 non-null  int64  \n",
      " 15  students_arrested               15785 non-null  int64  \n",
      " 16  students_referred_law_enforce   15785 non-null  int64  \n",
      " 17  transfers_alt_sch_disc          15785 non-null  int64  \n",
      " 18  days_suspended                  15785 non-null  int64  \n",
      " 19  suspensions_instances           15785 non-null  int64  \n",
      " 20  corpinstances                   15785 non-null  int64  \n",
      " 21  salaries_teachers               15785 non-null  int64  \n",
      " 22  cohort_num                      15785 non-null  int64  \n",
      " 23  grad_rate_midpt                 15785 non-null  int64  \n",
      " 24  allegations_harass_sex          15785 non-null  int64  \n",
      " 25  allegations_harass_race         15785 non-null  int64  \n",
      " 26  allegations_harass_disability   15785 non-null  int64  \n",
      " 27  allegations_harass_orientation  15785 non-null  int64  \n",
      " 28  allegations_harass_religion     15785 non-null  int64  \n",
      " 29  students_disc_harass_dis        15785 non-null  int64  \n",
      " 30  students_disc_harass_race       15785 non-null  int64  \n",
      " 31  students_disc_harass_sex        15785 non-null  int64  \n",
      " 32  students_report_harass_dis      15785 non-null  int64  \n",
      " 33  students_report_harass_race     15785 non-null  int64  \n",
      " 34  students_report_harass_sex      15785 non-null  int64  \n",
      " 35  instances_mech_restraint        15785 non-null  int64  \n",
      " 36  instances_phys_restraint        15785 non-null  int64  \n",
      " 37  instances_seclusion             15785 non-null  int64  \n",
      " 38  students_mech_restraint         15785 non-null  int64  \n",
      " 39  students_phys_restraint         15785 non-null  int64  \n",
      " 40  students_seclusion              15785 non-null  int64  \n",
      " 41  students_SAT_ACT                15785 non-null  int64  \n",
      " 42  leaid                           15785 non-null  int64  \n",
      " 43  agency_type                     15785 non-null  object \n",
      " 44  english_language_learners       15785 non-null  object \n",
      " 45  rev_total                       15331 non-null  object \n",
      " 46  rev_fed_total                   15331 non-null  object \n",
      " 47  rev_state_total                 15331 non-null  object \n",
      " 48  rev_local_total                 15331 non-null  object \n",
      " 49  rev_local_prop_tax              13039 non-null  object \n",
      " 50  exp_total                       15331 non-null  object \n",
      " 51  exp_current_elsec_total         15331 non-null  object \n",
      " 52  exp_current_instruction_total   15331 non-null  object \n",
      " 53  exp_current_supp_serve_total    15331 non-null  object \n",
      " 54  exp_current_pupils              15331 non-null  object \n",
      " 55  exp_current_instruc_staff       15331 non-null  object \n",
      " 56  exp_current_general_admin       15331 non-null  object \n",
      " 57  exp_current_sch_admin           15331 non-null  object \n",
      " 58  exp_current_operation_plant     15331 non-null  object \n",
      " 59  exp_current_student_transport   15331 non-null  object \n",
      " 60  exp_current_bco                 15331 non-null  object \n",
      " 61  exp_current_supp_serv_nonspec   15331 non-null  object \n",
      " 62  exp_current_other               15331 non-null  object \n",
      " 63  exp_current_food_serv           15331 non-null  object \n",
      " 64  exp_current_enterprise          15331 non-null  object \n",
      " 65  exp_current_other_elsec         15331 non-null  object \n",
      " 66  exp_nonelsec                    15331 non-null  object \n",
      " 67  exp_nonelsec_community_serv     15331 non-null  object \n",
      " 68  exp_nonelsec_adult_education    15331 non-null  object \n",
      " 69  exp_nonelsec_other              15331 non-null  object \n",
      " 70  exp_textbooks                   15331 non-null  object \n",
      " 71  exp_utilities_energy            15331 non-null  object \n",
      " 72  exp_tech_supplies_services      15331 non-null  object \n",
      " 73  exp_tech_equipment              15331 non-null  object \n",
      " 74  outlay_capital_total            15331 non-null  object \n",
      " 75  outlay_capital_construction     15331 non-null  object \n",
      " 76  outlay_capital_land_structures  15331 non-null  object \n",
      " 77  outlay_capital_instruc_equip    15331 non-null  object \n",
      " 78  outlay_capital_other_equip      15331 non-null  object \n",
      " 79  outlay_capital_nonspec_equip    15331 non-null  object \n",
      " 80  salaries_total                  15331 non-null  object \n",
      " 81  salaries_instruction            15331 non-null  object \n",
      " 82  benefits_employee_total         15331 non-null  object \n",
      "dtypes: float64(1), int64(39), object(43)\n",
      "memory usage: 10.1+ MB\n"
     ]
    }
   ],
   "source": [
    "df_train.info()"
   ]
  },
  {
   "cell_type": "code",
   "execution_count": 122,
   "metadata": {
    "ExecuteTime": {
     "end_time": "2021-06-16T17:54:38.929741Z",
     "start_time": "2021-06-16T17:54:38.906325Z"
    },
    "scrolled": true
   },
   "outputs": [],
   "source": [
    "# Columns to drop - we don't need these anymore \n",
    "df_train = df_train.drop(['leaid','lea_name'], axis=1)"
   ]
  },
  {
   "cell_type": "markdown",
   "metadata": {},
   "source": [
    "## Final Check for NaNs"
   ]
  },
  {
   "cell_type": "code",
   "execution_count": 123,
   "metadata": {
    "ExecuteTime": {
     "end_time": "2021-06-16T17:54:38.959437Z",
     "start_time": "2021-06-16T17:54:38.932362Z"
    }
   },
   "outputs": [],
   "source": [
    "nan_values = df_train.isna()\n",
    "nan_columns = nan_values.any()"
   ]
  },
  {
   "cell_type": "code",
   "execution_count": 124,
   "metadata": {
    "ExecuteTime": {
     "end_time": "2021-06-16T17:54:38.963387Z",
     "start_time": "2021-06-16T17:54:38.960884Z"
    }
   },
   "outputs": [
    {
     "name": "stdout",
     "output_type": "stream",
     "text": [
      "['rev_total', 'rev_fed_total', 'rev_state_total', 'rev_local_total', 'rev_local_prop_tax', 'exp_total', 'exp_current_elsec_total', 'exp_current_instruction_total', 'exp_current_supp_serve_total', 'exp_current_pupils', 'exp_current_instruc_staff', 'exp_current_general_admin', 'exp_current_sch_admin', 'exp_current_operation_plant', 'exp_current_student_transport', 'exp_current_bco', 'exp_current_supp_serv_nonspec', 'exp_current_other', 'exp_current_food_serv', 'exp_current_enterprise', 'exp_current_other_elsec', 'exp_nonelsec', 'exp_nonelsec_community_serv', 'exp_nonelsec_adult_education', 'exp_nonelsec_other', 'exp_textbooks', 'exp_utilities_energy', 'exp_tech_supplies_services', 'exp_tech_equipment', 'outlay_capital_total', 'outlay_capital_construction', 'outlay_capital_land_structures', 'outlay_capital_instruc_equip', 'outlay_capital_other_equip', 'outlay_capital_nonspec_equip', 'salaries_total', 'salaries_instruction', 'benefits_employee_total']\n"
     ]
    }
   ],
   "source": [
    "columns_with_nan = df_train.columns[nan_columns].tolist()\n",
    "print(columns_with_nan)"
   ]
  },
  {
   "cell_type": "markdown",
   "metadata": {},
   "source": [
    "We still have NaN values in our numerical fields"
   ]
  },
  {
   "cell_type": "markdown",
   "metadata": {},
   "source": [
    "# Numeric Columns - cleanup"
   ]
  },
  {
   "cell_type": "code",
   "execution_count": 125,
   "metadata": {
    "ExecuteTime": {
     "end_time": "2021-06-16T17:54:38.967447Z",
     "start_time": "2021-06-16T17:54:38.965075Z"
    }
   },
   "outputs": [],
   "source": [
    "col_names_category = ['state_name','urban_centric_locale',\n",
    "                      'agency_type','grad_rate_midpt']"
   ]
  },
  {
   "cell_type": "code",
   "execution_count": 126,
   "metadata": {
    "ExecuteTime": {
     "end_time": "2021-06-16T17:54:38.972051Z",
     "start_time": "2021-06-16T17:54:38.969790Z"
    }
   },
   "outputs": [],
   "source": [
    "col_names = list(df_train.columns)"
   ]
  },
  {
   "cell_type": "code",
   "execution_count": 127,
   "metadata": {
    "ExecuteTime": {
     "end_time": "2021-06-16T17:54:38.976594Z",
     "start_time": "2021-06-16T17:54:38.973990Z"
    }
   },
   "outputs": [],
   "source": [
    "num_col_names = set(col_names) - set(col_names_category)\n",
    "num_col_names = list(num_col_names)"
   ]
  },
  {
   "cell_type": "code",
   "execution_count": 128,
   "metadata": {
    "ExecuteTime": {
     "end_time": "2021-06-16T17:54:39.210596Z",
     "start_time": "2021-06-16T17:54:38.979048Z"
    }
   },
   "outputs": [],
   "source": [
    "df_train[num_col_names] = df_train[num_col_names].fillna(df_train[num_col_names].median())"
   ]
  },
  {
   "cell_type": "code",
   "execution_count": 129,
   "metadata": {
    "ExecuteTime": {
     "end_time": "2021-06-16T17:54:39.901147Z",
     "start_time": "2021-06-16T17:54:39.212522Z"
    },
    "scrolled": true
   },
   "outputs": [],
   "source": [
    "df_train[num_col_names] = df_train[num_col_names].astype(str).astype(float).astype(int)"
   ]
  },
  {
   "cell_type": "markdown",
   "metadata": {},
   "source": [
    "# Category Columns - cleanup"
   ]
  },
  {
   "cell_type": "code",
   "execution_count": 130,
   "metadata": {
    "ExecuteTime": {
     "end_time": "2021-06-16T17:54:39.940526Z",
     "start_time": "2021-06-16T17:54:39.903697Z"
    }
   },
   "outputs": [],
   "source": [
    "df_train[col_names_category] = df_train[col_names_category].astype('category')"
   ]
  },
  {
   "cell_type": "code",
   "execution_count": 131,
   "metadata": {
    "ExecuteTime": {
     "end_time": "2021-06-16T17:54:39.945460Z",
     "start_time": "2021-06-16T17:54:39.942869Z"
    }
   },
   "outputs": [],
   "source": [
    "col_names_ohe = ['state_name','urban_centric_locale',\n",
    "                 'agency_type']"
   ]
  },
  {
   "cell_type": "code",
   "execution_count": 132,
   "metadata": {
    "ExecuteTime": {
     "end_time": "2021-06-16T17:54:39.964756Z",
     "start_time": "2021-06-16T17:54:39.947329Z"
    }
   },
   "outputs": [],
   "source": [
    "df_train[col_names_ohe] = df_train[col_names_ohe].astype(str)"
   ]
  },
  {
   "cell_type": "code",
   "execution_count": 133,
   "metadata": {
    "ExecuteTime": {
     "end_time": "2021-06-16T17:54:39.987740Z",
     "start_time": "2021-06-16T17:54:39.966716Z"
    },
    "scrolled": true
   },
   "outputs": [
    {
     "name": "stdout",
     "output_type": "stream",
     "text": [
      "<class 'pandas.core.frame.DataFrame'>\n",
      "Int64Index: 15785 entries, 0 to 15784\n",
      "Data columns (total 81 columns):\n",
      " #   Column                          Non-Null Count  Dtype   \n",
      "---  ------                          --------------  -----   \n",
      " 0   state_name                      15785 non-null  object  \n",
      " 1   urban_centric_locale            15785 non-null  object  \n",
      " 2   charter                         15785 non-null  int64   \n",
      " 3   enrollment                      15785 non-null  int64   \n",
      " 4   read_test_num_valid             15785 non-null  int64   \n",
      " 5   read_test_pct_prof_midpt        15785 non-null  int64   \n",
      " 6   math_test_num_valid             15785 non-null  int64   \n",
      " 7   math_test_pct_prof_midpt        15785 non-null  int64   \n",
      " 8   students_susp_in_sch            15785 non-null  int64   \n",
      " 9   students_susp_out_sch_single    15785 non-null  int64   \n",
      " 10  students_susp_out_sch_multiple  15785 non-null  int64   \n",
      " 11  expulsions_no_ed_serv           15785 non-null  int64   \n",
      " 12  expulsions_with_ed_serv         15785 non-null  int64   \n",
      " 13  expulsions_zero_tolerance       15785 non-null  int64   \n",
      " 14  students_arrested               15785 non-null  int64   \n",
      " 15  students_referred_law_enforce   15785 non-null  int64   \n",
      " 16  transfers_alt_sch_disc          15785 non-null  int64   \n",
      " 17  days_suspended                  15785 non-null  int64   \n",
      " 18  suspensions_instances           15785 non-null  int64   \n",
      " 19  corpinstances                   15785 non-null  int64   \n",
      " 20  salaries_teachers               15785 non-null  int64   \n",
      " 21  cohort_num                      15785 non-null  int64   \n",
      " 22  grad_rate_midpt                 15785 non-null  category\n",
      " 23  allegations_harass_sex          15785 non-null  int64   \n",
      " 24  allegations_harass_race         15785 non-null  int64   \n",
      " 25  allegations_harass_disability   15785 non-null  int64   \n",
      " 26  allegations_harass_orientation  15785 non-null  int64   \n",
      " 27  allegations_harass_religion     15785 non-null  int64   \n",
      " 28  students_disc_harass_dis        15785 non-null  int64   \n",
      " 29  students_disc_harass_race       15785 non-null  int64   \n",
      " 30  students_disc_harass_sex        15785 non-null  int64   \n",
      " 31  students_report_harass_dis      15785 non-null  int64   \n",
      " 32  students_report_harass_race     15785 non-null  int64   \n",
      " 33  students_report_harass_sex      15785 non-null  int64   \n",
      " 34  instances_mech_restraint        15785 non-null  int64   \n",
      " 35  instances_phys_restraint        15785 non-null  int64   \n",
      " 36  instances_seclusion             15785 non-null  int64   \n",
      " 37  students_mech_restraint         15785 non-null  int64   \n",
      " 38  students_phys_restraint         15785 non-null  int64   \n",
      " 39  students_seclusion              15785 non-null  int64   \n",
      " 40  students_SAT_ACT                15785 non-null  int64   \n",
      " 41  agency_type                     15785 non-null  object  \n",
      " 42  english_language_learners       15785 non-null  int64   \n",
      " 43  rev_total                       15785 non-null  int64   \n",
      " 44  rev_fed_total                   15785 non-null  int64   \n",
      " 45  rev_state_total                 15785 non-null  int64   \n",
      " 46  rev_local_total                 15785 non-null  int64   \n",
      " 47  rev_local_prop_tax              15785 non-null  int64   \n",
      " 48  exp_total                       15785 non-null  int64   \n",
      " 49  exp_current_elsec_total         15785 non-null  int64   \n",
      " 50  exp_current_instruction_total   15785 non-null  int64   \n",
      " 51  exp_current_supp_serve_total    15785 non-null  int64   \n",
      " 52  exp_current_pupils              15785 non-null  int64   \n",
      " 53  exp_current_instruc_staff       15785 non-null  int64   \n",
      " 54  exp_current_general_admin       15785 non-null  int64   \n",
      " 55  exp_current_sch_admin           15785 non-null  int64   \n",
      " 56  exp_current_operation_plant     15785 non-null  int64   \n",
      " 57  exp_current_student_transport   15785 non-null  int64   \n",
      " 58  exp_current_bco                 15785 non-null  int64   \n",
      " 59  exp_current_supp_serv_nonspec   15785 non-null  int64   \n",
      " 60  exp_current_other               15785 non-null  int64   \n",
      " 61  exp_current_food_serv           15785 non-null  int64   \n",
      " 62  exp_current_enterprise          15785 non-null  int64   \n",
      " 63  exp_current_other_elsec         15785 non-null  int64   \n",
      " 64  exp_nonelsec                    15785 non-null  int64   \n",
      " 65  exp_nonelsec_community_serv     15785 non-null  int64   \n",
      " 66  exp_nonelsec_adult_education    15785 non-null  int64   \n",
      " 67  exp_nonelsec_other              15785 non-null  int64   \n",
      " 68  exp_textbooks                   15785 non-null  int64   \n",
      " 69  exp_utilities_energy            15785 non-null  int64   \n",
      " 70  exp_tech_supplies_services      15785 non-null  int64   \n",
      " 71  exp_tech_equipment              15785 non-null  int64   \n",
      " 72  outlay_capital_total            15785 non-null  int64   \n",
      " 73  outlay_capital_construction     15785 non-null  int64   \n",
      " 74  outlay_capital_land_structures  15785 non-null  int64   \n",
      " 75  outlay_capital_instruc_equip    15785 non-null  int64   \n",
      " 76  outlay_capital_other_equip      15785 non-null  int64   \n",
      " 77  outlay_capital_nonspec_equip    15785 non-null  int64   \n",
      " 78  salaries_total                  15785 non-null  int64   \n",
      " 79  salaries_instruction            15785 non-null  int64   \n",
      " 80  benefits_employee_total         15785 non-null  int64   \n",
      "dtypes: category(1), int64(77), object(3)\n",
      "memory usage: 9.8+ MB\n"
     ]
    }
   ],
   "source": [
    "df_train.info()"
   ]
  },
  {
   "cell_type": "markdown",
   "metadata": {},
   "source": [
    "# Train Test Split"
   ]
  },
  {
   "cell_type": "code",
   "execution_count": 134,
   "metadata": {
    "ExecuteTime": {
     "end_time": "2021-06-16T17:54:39.998603Z",
     "start_time": "2021-06-16T17:54:39.989276Z"
    },
    "scrolled": true
   },
   "outputs": [],
   "source": [
    "X=df_train.drop(columns = ['grad_rate_midpt']) # Features\n",
    "y=df_train['grad_rate_midpt'] #Target"
   ]
  },
  {
   "cell_type": "code",
   "execution_count": 135,
   "metadata": {
    "ExecuteTime": {
     "end_time": "2021-06-16T17:54:40.015016Z",
     "start_time": "2021-06-16T17:54:40.000435Z"
    }
   },
   "outputs": [],
   "source": [
    "X_train, X_test, y_train, y_test = train_test_split(X, y, test_size=0.3) # 70% training and 30% test"
   ]
  },
  {
   "cell_type": "code",
   "execution_count": 136,
   "metadata": {
    "ExecuteTime": {
     "end_time": "2021-06-16T17:54:40.041224Z",
     "start_time": "2021-06-16T17:54:40.016979Z"
    },
    "scrolled": false
   },
   "outputs": [
    {
     "data": {
      "text/html": [
       "<div>\n",
       "<style scoped>\n",
       "    .dataframe tbody tr th:only-of-type {\n",
       "        vertical-align: middle;\n",
       "    }\n",
       "\n",
       "    .dataframe tbody tr th {\n",
       "        vertical-align: top;\n",
       "    }\n",
       "\n",
       "    .dataframe thead th {\n",
       "        text-align: right;\n",
       "    }\n",
       "</style>\n",
       "<table border=\"1\" class=\"dataframe\">\n",
       "  <thead>\n",
       "    <tr style=\"text-align: right;\">\n",
       "      <th></th>\n",
       "      <th>state_name</th>\n",
       "      <th>urban_centric_locale</th>\n",
       "      <th>charter</th>\n",
       "      <th>enrollment</th>\n",
       "      <th>read_test_num_valid</th>\n",
       "      <th>read_test_pct_prof_midpt</th>\n",
       "      <th>math_test_num_valid</th>\n",
       "      <th>math_test_pct_prof_midpt</th>\n",
       "      <th>students_susp_in_sch</th>\n",
       "      <th>students_susp_out_sch_single</th>\n",
       "      <th>...</th>\n",
       "      <th>exp_tech_equipment</th>\n",
       "      <th>outlay_capital_total</th>\n",
       "      <th>outlay_capital_construction</th>\n",
       "      <th>outlay_capital_land_structures</th>\n",
       "      <th>outlay_capital_instruc_equip</th>\n",
       "      <th>outlay_capital_other_equip</th>\n",
       "      <th>outlay_capital_nonspec_equip</th>\n",
       "      <th>salaries_total</th>\n",
       "      <th>salaries_instruction</th>\n",
       "      <th>benefits_employee_total</th>\n",
       "    </tr>\n",
       "  </thead>\n",
       "  <tbody>\n",
       "    <tr>\n",
       "      <th>10840</th>\n",
       "      <td>California</td>\n",
       "      <td>Suburb, small</td>\n",
       "      <td>0</td>\n",
       "      <td>1358</td>\n",
       "      <td>347</td>\n",
       "      <td>59</td>\n",
       "      <td>347</td>\n",
       "      <td>22</td>\n",
       "      <td>109</td>\n",
       "      <td>76</td>\n",
       "      <td>...</td>\n",
       "      <td>0</td>\n",
       "      <td>29168000</td>\n",
       "      <td>28172000</td>\n",
       "      <td>0</td>\n",
       "      <td>141000</td>\n",
       "      <td>855000</td>\n",
       "      <td>0</td>\n",
       "      <td>146107000</td>\n",
       "      <td>93801000</td>\n",
       "      <td>50834000</td>\n",
       "    </tr>\n",
       "    <tr>\n",
       "      <th>14542</th>\n",
       "      <td>Tennessee</td>\n",
       "      <td>Rural, fringe</td>\n",
       "      <td>0</td>\n",
       "      <td>718</td>\n",
       "      <td>172</td>\n",
       "      <td>42</td>\n",
       "      <td>160</td>\n",
       "      <td>7</td>\n",
       "      <td>151</td>\n",
       "      <td>51</td>\n",
       "      <td>...</td>\n",
       "      <td>0</td>\n",
       "      <td>1354000</td>\n",
       "      <td>116000</td>\n",
       "      <td>0</td>\n",
       "      <td>503000</td>\n",
       "      <td>735000</td>\n",
       "      <td>0</td>\n",
       "      <td>27057000</td>\n",
       "      <td>18625000</td>\n",
       "      <td>9195000</td>\n",
       "    </tr>\n",
       "    <tr>\n",
       "      <th>8421</th>\n",
       "      <td>Ohio</td>\n",
       "      <td>City, small</td>\n",
       "      <td>1</td>\n",
       "      <td>51</td>\n",
       "      <td>50</td>\n",
       "      <td>24</td>\n",
       "      <td>42</td>\n",
       "      <td>15</td>\n",
       "      <td>0</td>\n",
       "      <td>0</td>\n",
       "      <td>...</td>\n",
       "      <td>0</td>\n",
       "      <td>86000</td>\n",
       "      <td>66000</td>\n",
       "      <td>0</td>\n",
       "      <td>14000</td>\n",
       "      <td>6000</td>\n",
       "      <td>0</td>\n",
       "      <td>285000</td>\n",
       "      <td>163000</td>\n",
       "      <td>69000</td>\n",
       "    </tr>\n",
       "    <tr>\n",
       "      <th>10371</th>\n",
       "      <td>California</td>\n",
       "      <td>City, small</td>\n",
       "      <td>0</td>\n",
       "      <td>1816</td>\n",
       "      <td>392</td>\n",
       "      <td>73</td>\n",
       "      <td>393</td>\n",
       "      <td>46</td>\n",
       "      <td>55</td>\n",
       "      <td>28</td>\n",
       "      <td>...</td>\n",
       "      <td>0</td>\n",
       "      <td>22594000</td>\n",
       "      <td>21788000</td>\n",
       "      <td>345000</td>\n",
       "      <td>40000</td>\n",
       "      <td>421000</td>\n",
       "      <td>0</td>\n",
       "      <td>73316000</td>\n",
       "      <td>50535000</td>\n",
       "      <td>37115000</td>\n",
       "    </tr>\n",
       "    <tr>\n",
       "      <th>14221</th>\n",
       "      <td>Oklahoma</td>\n",
       "      <td>Rural, distant</td>\n",
       "      <td>0</td>\n",
       "      <td>118</td>\n",
       "      <td>29</td>\n",
       "      <td>49</td>\n",
       "      <td>34</td>\n",
       "      <td>64</td>\n",
       "      <td>56</td>\n",
       "      <td>32</td>\n",
       "      <td>...</td>\n",
       "      <td>0</td>\n",
       "      <td>64000</td>\n",
       "      <td>0</td>\n",
       "      <td>1000</td>\n",
       "      <td>0</td>\n",
       "      <td>63000</td>\n",
       "      <td>0</td>\n",
       "      <td>2302000</td>\n",
       "      <td>1475000</td>\n",
       "      <td>717000</td>\n",
       "    </tr>\n",
       "    <tr>\n",
       "      <th>...</th>\n",
       "      <td>...</td>\n",
       "      <td>...</td>\n",
       "      <td>...</td>\n",
       "      <td>...</td>\n",
       "      <td>...</td>\n",
       "      <td>...</td>\n",
       "      <td>...</td>\n",
       "      <td>...</td>\n",
       "      <td>...</td>\n",
       "      <td>...</td>\n",
       "      <td>...</td>\n",
       "      <td>...</td>\n",
       "      <td>...</td>\n",
       "      <td>...</td>\n",
       "      <td>...</td>\n",
       "      <td>...</td>\n",
       "      <td>...</td>\n",
       "      <td>...</td>\n",
       "      <td>...</td>\n",
       "      <td>...</td>\n",
       "      <td>...</td>\n",
       "    </tr>\n",
       "    <tr>\n",
       "      <th>5503</th>\n",
       "      <td>Illinois</td>\n",
       "      <td>Town, remote</td>\n",
       "      <td>0</td>\n",
       "      <td>1047</td>\n",
       "      <td>444</td>\n",
       "      <td>39</td>\n",
       "      <td>362</td>\n",
       "      <td>11</td>\n",
       "      <td>188</td>\n",
       "      <td>107</td>\n",
       "      <td>...</td>\n",
       "      <td>0</td>\n",
       "      <td>14502000</td>\n",
       "      <td>13846000</td>\n",
       "      <td>0</td>\n",
       "      <td>499000</td>\n",
       "      <td>157000</td>\n",
       "      <td>0</td>\n",
       "      <td>37955000</td>\n",
       "      <td>25359000</td>\n",
       "      <td>25681000</td>\n",
       "    </tr>\n",
       "    <tr>\n",
       "      <th>1088</th>\n",
       "      <td>New York</td>\n",
       "      <td>City, large</td>\n",
       "      <td>0</td>\n",
       "      <td>429</td>\n",
       "      <td>94</td>\n",
       "      <td>97</td>\n",
       "      <td>98</td>\n",
       "      <td>92</td>\n",
       "      <td>27</td>\n",
       "      <td>8</td>\n",
       "      <td>...</td>\n",
       "      <td>0</td>\n",
       "      <td>2014000</td>\n",
       "      <td>916000</td>\n",
       "      <td>0</td>\n",
       "      <td>57000</td>\n",
       "      <td>348000</td>\n",
       "      <td>0</td>\n",
       "      <td>20231000</td>\n",
       "      <td>13728000</td>\n",
       "      <td>8254000</td>\n",
       "    </tr>\n",
       "    <tr>\n",
       "      <th>3673</th>\n",
       "      <td>Georgia</td>\n",
       "      <td>City, midsize</td>\n",
       "      <td>0</td>\n",
       "      <td>632</td>\n",
       "      <td>124</td>\n",
       "      <td>2</td>\n",
       "      <td>153</td>\n",
       "      <td>2</td>\n",
       "      <td>273</td>\n",
       "      <td>126</td>\n",
       "      <td>...</td>\n",
       "      <td>0</td>\n",
       "      <td>50881000</td>\n",
       "      <td>45557000</td>\n",
       "      <td>896000</td>\n",
       "      <td>92000</td>\n",
       "      <td>4336000</td>\n",
       "      <td>0</td>\n",
       "      <td>179026000</td>\n",
       "      <td>111691000</td>\n",
       "      <td>68387000</td>\n",
       "    </tr>\n",
       "    <tr>\n",
       "      <th>6726</th>\n",
       "      <td>Michigan</td>\n",
       "      <td>Suburb, large</td>\n",
       "      <td>0</td>\n",
       "      <td>855</td>\n",
       "      <td>159</td>\n",
       "      <td>47</td>\n",
       "      <td>160</td>\n",
       "      <td>37</td>\n",
       "      <td>0</td>\n",
       "      <td>121</td>\n",
       "      <td>...</td>\n",
       "      <td>0</td>\n",
       "      <td>680000</td>\n",
       "      <td>522000</td>\n",
       "      <td>0</td>\n",
       "      <td>10000</td>\n",
       "      <td>148000</td>\n",
       "      <td>0</td>\n",
       "      <td>12167000</td>\n",
       "      <td>9025000</td>\n",
       "      <td>7229000</td>\n",
       "    </tr>\n",
       "    <tr>\n",
       "      <th>9410</th>\n",
       "      <td>Wisconsin</td>\n",
       "      <td>Suburb, large</td>\n",
       "      <td>0</td>\n",
       "      <td>1060</td>\n",
       "      <td>233</td>\n",
       "      <td>43</td>\n",
       "      <td>234</td>\n",
       "      <td>38</td>\n",
       "      <td>19</td>\n",
       "      <td>22</td>\n",
       "      <td>...</td>\n",
       "      <td>0</td>\n",
       "      <td>10568000</td>\n",
       "      <td>9812000</td>\n",
       "      <td>34000</td>\n",
       "      <td>158000</td>\n",
       "      <td>458000</td>\n",
       "      <td>106000</td>\n",
       "      <td>21558000</td>\n",
       "      <td>14400000</td>\n",
       "      <td>8286000</td>\n",
       "    </tr>\n",
       "  </tbody>\n",
       "</table>\n",
       "<p>11049 rows × 80 columns</p>\n",
       "</div>"
      ],
      "text/plain": [
       "       state_name urban_centric_locale  charter  enrollment  \\\n",
       "10840  California        Suburb, small        0        1358   \n",
       "14542   Tennessee        Rural, fringe        0         718   \n",
       "8421         Ohio          City, small        1          51   \n",
       "10371  California          City, small        0        1816   \n",
       "14221    Oklahoma       Rural, distant        0         118   \n",
       "...           ...                  ...      ...         ...   \n",
       "5503     Illinois         Town, remote        0        1047   \n",
       "1088     New York          City, large        0         429   \n",
       "3673      Georgia        City, midsize        0         632   \n",
       "6726     Michigan        Suburb, large        0         855   \n",
       "9410    Wisconsin        Suburb, large        0        1060   \n",
       "\n",
       "       read_test_num_valid  read_test_pct_prof_midpt  math_test_num_valid  \\\n",
       "10840                  347                        59                  347   \n",
       "14542                  172                        42                  160   \n",
       "8421                    50                        24                   42   \n",
       "10371                  392                        73                  393   \n",
       "14221                   29                        49                   34   \n",
       "...                    ...                       ...                  ...   \n",
       "5503                   444                        39                  362   \n",
       "1088                    94                        97                   98   \n",
       "3673                   124                         2                  153   \n",
       "6726                   159                        47                  160   \n",
       "9410                   233                        43                  234   \n",
       "\n",
       "       math_test_pct_prof_midpt  students_susp_in_sch  \\\n",
       "10840                        22                   109   \n",
       "14542                         7                   151   \n",
       "8421                         15                     0   \n",
       "10371                        46                    55   \n",
       "14221                        64                    56   \n",
       "...                         ...                   ...   \n",
       "5503                         11                   188   \n",
       "1088                         92                    27   \n",
       "3673                          2                   273   \n",
       "6726                         37                     0   \n",
       "9410                         38                    19   \n",
       "\n",
       "       students_susp_out_sch_single  ...  exp_tech_equipment  \\\n",
       "10840                            76  ...                   0   \n",
       "14542                            51  ...                   0   \n",
       "8421                              0  ...                   0   \n",
       "10371                            28  ...                   0   \n",
       "14221                            32  ...                   0   \n",
       "...                             ...  ...                 ...   \n",
       "5503                            107  ...                   0   \n",
       "1088                              8  ...                   0   \n",
       "3673                            126  ...                   0   \n",
       "6726                            121  ...                   0   \n",
       "9410                             22  ...                   0   \n",
       "\n",
       "       outlay_capital_total  outlay_capital_construction  \\\n",
       "10840              29168000                     28172000   \n",
       "14542               1354000                       116000   \n",
       "8421                  86000                        66000   \n",
       "10371              22594000                     21788000   \n",
       "14221                 64000                            0   \n",
       "...                     ...                          ...   \n",
       "5503               14502000                     13846000   \n",
       "1088                2014000                       916000   \n",
       "3673               50881000                     45557000   \n",
       "6726                 680000                       522000   \n",
       "9410               10568000                      9812000   \n",
       "\n",
       "       outlay_capital_land_structures  outlay_capital_instruc_equip  \\\n",
       "10840                               0                        141000   \n",
       "14542                               0                        503000   \n",
       "8421                                0                         14000   \n",
       "10371                          345000                         40000   \n",
       "14221                            1000                             0   \n",
       "...                               ...                           ...   \n",
       "5503                                0                        499000   \n",
       "1088                                0                         57000   \n",
       "3673                           896000                         92000   \n",
       "6726                                0                         10000   \n",
       "9410                            34000                        158000   \n",
       "\n",
       "       outlay_capital_other_equip  outlay_capital_nonspec_equip  \\\n",
       "10840                      855000                             0   \n",
       "14542                      735000                             0   \n",
       "8421                         6000                             0   \n",
       "10371                      421000                             0   \n",
       "14221                       63000                             0   \n",
       "...                           ...                           ...   \n",
       "5503                       157000                             0   \n",
       "1088                       348000                             0   \n",
       "3673                      4336000                             0   \n",
       "6726                       148000                             0   \n",
       "9410                       458000                        106000   \n",
       "\n",
       "       salaries_total  salaries_instruction  benefits_employee_total  \n",
       "10840       146107000              93801000                 50834000  \n",
       "14542        27057000              18625000                  9195000  \n",
       "8421           285000                163000                    69000  \n",
       "10371        73316000              50535000                 37115000  \n",
       "14221         2302000               1475000                   717000  \n",
       "...               ...                   ...                      ...  \n",
       "5503         37955000              25359000                 25681000  \n",
       "1088         20231000              13728000                  8254000  \n",
       "3673        179026000             111691000                 68387000  \n",
       "6726         12167000               9025000                  7229000  \n",
       "9410         21558000              14400000                  8286000  \n",
       "\n",
       "[11049 rows x 80 columns]"
      ]
     },
     "execution_count": 136,
     "metadata": {},
     "output_type": "execute_result"
    }
   ],
   "source": [
    "X_train"
   ]
  },
  {
   "cell_type": "code",
   "execution_count": 137,
   "metadata": {
    "ExecuteTime": {
     "end_time": "2021-06-16T17:54:40.046813Z",
     "start_time": "2021-06-16T17:54:40.043415Z"
    }
   },
   "outputs": [
    {
     "data": {
      "text/plain": [
       "(11049, 80)"
      ]
     },
     "execution_count": 137,
     "metadata": {},
     "output_type": "execute_result"
    }
   ],
   "source": [
    "X_train.shape"
   ]
  },
  {
   "cell_type": "code",
   "execution_count": 138,
   "metadata": {
    "ExecuteTime": {
     "end_time": "2021-06-16T17:54:40.051928Z",
     "start_time": "2021-06-16T17:54:40.048943Z"
    },
    "scrolled": true
   },
   "outputs": [
    {
     "data": {
      "text/plain": [
       "(4736, 80)"
      ]
     },
     "execution_count": 138,
     "metadata": {},
     "output_type": "execute_result"
    }
   ],
   "source": [
    "X_test.shape"
   ]
  },
  {
   "cell_type": "markdown",
   "metadata": {},
   "source": [
    "# Encode Features"
   ]
  },
  {
   "cell_type": "code",
   "execution_count": 139,
   "metadata": {
    "ExecuteTime": {
     "end_time": "2021-06-16T17:54:40.056724Z",
     "start_time": "2021-06-16T17:54:40.053642Z"
    }
   },
   "outputs": [],
   "source": [
    "# define transformers\n",
    "ss = StandardScaler()\n",
    "ohe = OneHotEncoder(handle_unknown='ignore', sparse=False,)\n",
    "# set up pipelines for each column group\n",
    "numeric_pipe = Pipeline([('ss', ss)])\n",
    "categorical_pipe = Pipeline([('ohe', ohe)])\n",
    "# set up columnTransformer\n",
    "col_transformer = ColumnTransformer(\n",
    "                    transformers=[\n",
    "                        ('nums', numeric_pipe, num_col_names),\n",
    "                        ('cats', categorical_pipe, col_names_ohe),                        \n",
    "                    ],\n",
    "                    remainder='drop',\n",
    "                    n_jobs=-1\n",
    "                    )"
   ]
  },
  {
   "cell_type": "markdown",
   "metadata": {},
   "source": [
    "## X_train Encode"
   ]
  },
  {
   "cell_type": "code",
   "execution_count": 140,
   "metadata": {
    "ExecuteTime": {
     "end_time": "2021-06-16T17:54:42.335445Z",
     "start_time": "2021-06-16T17:54:40.058055Z"
    }
   },
   "outputs": [],
   "source": [
    "X_train = col_transformer.fit_transform(X_train)"
   ]
  },
  {
   "cell_type": "code",
   "execution_count": 141,
   "metadata": {
    "ExecuteTime": {
     "end_time": "2021-06-16T17:54:42.342991Z",
     "start_time": "2021-06-16T17:54:42.338176Z"
    },
    "scrolled": false
   },
   "outputs": [
    {
     "data": {
      "text/plain": [
       "array(['x0_Alabama', 'x0_Arizona', 'x0_Arkansas', 'x0_California',\n",
       "       'x0_Colorado', 'x0_Connecticut', 'x0_Delaware',\n",
       "       'x0_District of Columbia', 'x0_Florida', 'x0_Georgia', 'x0_Idaho',\n",
       "       'x0_Illinois', 'x0_Indiana', 'x0_Iowa', 'x0_Kansas', 'x0_Kentucky',\n",
       "       'x0_Louisiana', 'x0_Maine', 'x0_Maryland', 'x0_Massachusetts',\n",
       "       'x0_Michigan', 'x0_Minnesota', 'x0_Mississippi', 'x0_Missouri',\n",
       "       'x0_Montana', 'x0_Nebraska', 'x0_Nevada', 'x0_New Hampshire',\n",
       "       'x0_New Jersey', 'x0_New Mexico', 'x0_New York',\n",
       "       'x0_North Carolina', 'x0_North Dakota', 'x0_Ohio', 'x0_Oklahoma',\n",
       "       'x0_Oregon', 'x0_Pennsylvania', 'x0_Rhode Island',\n",
       "       'x0_South Carolina', 'x0_South Dakota', 'x0_Tennessee', 'x0_Texas',\n",
       "       'x0_Utah', 'x0_Vermont', 'x0_Virginia', 'x0_Washington',\n",
       "       'x0_West Virginia', 'x0_Wisconsin', 'x0_Wyoming', 'x1_City, large',\n",
       "       'x1_City, midsize', 'x1_City, small', 'x1_Rural, distant',\n",
       "       'x1_Rural, fringe', 'x1_Rural, remote', 'x1_Suburb, large',\n",
       "       'x1_Suburb, midsize', 'x1_Suburb, small', 'x1_Town, distant',\n",
       "       'x1_Town, fringe', 'x1_Town, remote', 'x2_Charter agency',\n",
       "       'x2_Local school district that is a component of a supervisory union',\n",
       "       'x2_Other education agency',\n",
       "       'x2_Regional education service agency',\n",
       "       'x2_Regular local school district', 'x2_State-operated agency',\n",
       "       'x2_Supervisory union'], dtype=object)"
      ]
     },
     "execution_count": 141,
     "metadata": {},
     "output_type": "execute_result"
    }
   ],
   "source": [
    "col_transformer.named_transformers_['cats'].named_steps['ohe']\\\n",
    "     .get_feature_names()"
   ]
  },
  {
   "cell_type": "code",
   "execution_count": 142,
   "metadata": {
    "ExecuteTime": {
     "end_time": "2021-06-16T17:54:42.350904Z",
     "start_time": "2021-06-16T17:54:42.345156Z"
    }
   },
   "outputs": [
    {
     "data": {
      "text/plain": [
       "(11049, 145)"
      ]
     },
     "execution_count": 142,
     "metadata": {},
     "output_type": "execute_result"
    }
   ],
   "source": [
    "X_train.shape"
   ]
  },
  {
   "cell_type": "markdown",
   "metadata": {},
   "source": [
    "\n",
    "\n",
    "\n",
    "## X_test Encode"
   ]
  },
  {
   "cell_type": "code",
   "execution_count": 143,
   "metadata": {
    "ExecuteTime": {
     "end_time": "2021-06-16T17:54:43.237511Z",
     "start_time": "2021-06-16T17:54:42.353085Z"
    }
   },
   "outputs": [],
   "source": [
    "X_test = col_transformer.transform(X_test)"
   ]
  },
  {
   "cell_type": "code",
   "execution_count": 144,
   "metadata": {
    "ExecuteTime": {
     "end_time": "2021-06-16T17:54:43.246347Z",
     "start_time": "2021-06-16T17:54:43.240708Z"
    },
    "scrolled": false
   },
   "outputs": [
    {
     "data": {
      "text/plain": [
       "array(['x0_Alabama', 'x0_Arizona', 'x0_Arkansas', 'x0_California',\n",
       "       'x0_Colorado', 'x0_Connecticut', 'x0_Delaware',\n",
       "       'x0_District of Columbia', 'x0_Florida', 'x0_Georgia', 'x0_Idaho',\n",
       "       'x0_Illinois', 'x0_Indiana', 'x0_Iowa', 'x0_Kansas', 'x0_Kentucky',\n",
       "       'x0_Louisiana', 'x0_Maine', 'x0_Maryland', 'x0_Massachusetts',\n",
       "       'x0_Michigan', 'x0_Minnesota', 'x0_Mississippi', 'x0_Missouri',\n",
       "       'x0_Montana', 'x0_Nebraska', 'x0_Nevada', 'x0_New Hampshire',\n",
       "       'x0_New Jersey', 'x0_New Mexico', 'x0_New York',\n",
       "       'x0_North Carolina', 'x0_North Dakota', 'x0_Ohio', 'x0_Oklahoma',\n",
       "       'x0_Oregon', 'x0_Pennsylvania', 'x0_Rhode Island',\n",
       "       'x0_South Carolina', 'x0_South Dakota', 'x0_Tennessee', 'x0_Texas',\n",
       "       'x0_Utah', 'x0_Vermont', 'x0_Virginia', 'x0_Washington',\n",
       "       'x0_West Virginia', 'x0_Wisconsin', 'x0_Wyoming', 'x1_City, large',\n",
       "       'x1_City, midsize', 'x1_City, small', 'x1_Rural, distant',\n",
       "       'x1_Rural, fringe', 'x1_Rural, remote', 'x1_Suburb, large',\n",
       "       'x1_Suburb, midsize', 'x1_Suburb, small', 'x1_Town, distant',\n",
       "       'x1_Town, fringe', 'x1_Town, remote', 'x2_Charter agency',\n",
       "       'x2_Local school district that is a component of a supervisory union',\n",
       "       'x2_Other education agency',\n",
       "       'x2_Regional education service agency',\n",
       "       'x2_Regular local school district', 'x2_State-operated agency',\n",
       "       'x2_Supervisory union'], dtype=object)"
      ]
     },
     "execution_count": 144,
     "metadata": {},
     "output_type": "execute_result"
    }
   ],
   "source": [
    "col_transformer.named_transformers_['cats'].named_steps['ohe']\\\n",
    "     .get_feature_names()"
   ]
  },
  {
   "cell_type": "code",
   "execution_count": 145,
   "metadata": {
    "ExecuteTime": {
     "end_time": "2021-06-16T17:54:43.254945Z",
     "start_time": "2021-06-16T17:54:43.249231Z"
    }
   },
   "outputs": [
    {
     "data": {
      "text/plain": [
       "(4736, 145)"
      ]
     },
     "execution_count": 145,
     "metadata": {},
     "output_type": "execute_result"
    }
   ],
   "source": [
    "X_test.shape"
   ]
  },
  {
   "cell_type": "code",
   "execution_count": 146,
   "metadata": {
    "ExecuteTime": {
     "end_time": "2021-06-16T17:54:43.261747Z",
     "start_time": "2021-06-16T17:54:43.257133Z"
    }
   },
   "outputs": [
    {
     "data": {
      "text/plain": [
       "(4736, 145)"
      ]
     },
     "execution_count": 146,
     "metadata": {},
     "output_type": "execute_result"
    }
   ],
   "source": [
    "X_test.shape"
   ]
  },
  {
   "cell_type": "markdown",
   "metadata": {},
   "source": [
    "# Model Development"
   ]
  },
  {
   "cell_type": "markdown",
   "metadata": {},
   "source": [
    "## Logistic Regression"
   ]
  },
  {
   "cell_type": "code",
   "execution_count": 147,
   "metadata": {
    "ExecuteTime": {
     "end_time": "2021-06-16T17:54:43.512712Z",
     "start_time": "2021-06-16T17:54:43.264028Z"
    }
   },
   "outputs": [],
   "source": [
    "# Logistic model\n",
    "log_clf = LogisticRegression(class_weight='balanced')\n",
    "log_model = log_clf.fit(X_train, y_train)\n",
    "y_pred_train = log_model.predict(X_train)\n",
    "y_pred = log_model.predict(X_test)"
   ]
  },
  {
   "cell_type": "code",
   "execution_count": 148,
   "metadata": {
    "ExecuteTime": {
     "end_time": "2021-06-16T17:54:43.526608Z",
     "start_time": "2021-06-16T17:54:43.514982Z"
    },
    "scrolled": false
   },
   "outputs": [
    {
     "name": "stdout",
     "output_type": "stream",
     "text": [
      "Confusion Matrix:\n",
      " [[3943  481]\n",
      " [  44  268]]\n"
     ]
    }
   ],
   "source": [
    "#Confusion matrix for Logistic Regression\n",
    "log_matrix = confusion_matrix(y_test, y_pred)\n",
    "print('Confusion Matrix:\\n', log_matrix)"
   ]
  },
  {
   "cell_type": "code",
   "execution_count": 149,
   "metadata": {
    "ExecuteTime": {
     "end_time": "2021-06-16T17:54:43.544269Z",
     "start_time": "2021-06-16T17:54:43.528778Z"
    }
   },
   "outputs": [
    {
     "name": "stdout",
     "output_type": "stream",
     "text": [
      "The f1 score for the training model is: 0.5572059413890004\n",
      "The f1 score for the model is: 0.5051837888784166\n"
     ]
    }
   ],
   "source": [
    "print('The f1 score for the training model is:',f1_score(y_train, y_pred_train))\n",
    "print('The f1 score for the model is:',f1_score(y_test, y_pred))"
   ]
  },
  {
   "cell_type": "code",
   "execution_count": 150,
   "metadata": {
    "ExecuteTime": {
     "end_time": "2021-06-16T17:54:43.561801Z",
     "start_time": "2021-06-16T17:54:43.547356Z"
    }
   },
   "outputs": [
    {
     "name": "stdout",
     "output_type": "stream",
     "text": [
      "                  precision    recall  f1-score   support\n",
      "\n",
      "normal grad rate       0.99      0.89      0.94      4424\n",
      "   low grad rate       0.36      0.86      0.51       312\n",
      "\n",
      "        accuracy                           0.89      4736\n",
      "       macro avg       0.67      0.88      0.72      4736\n",
      "    weighted avg       0.95      0.89      0.91      4736\n",
      "\n"
     ]
    }
   ],
   "source": [
    "print(metrics.classification_report(y_test, y_pred, labels=[0,1],\n",
    "                                    target_names=['normal grad rate','low grad rate']))"
   ]
  },
  {
   "cell_type": "markdown",
   "metadata": {},
   "source": [
    "### Check for Overfit"
   ]
  },
  {
   "cell_type": "code",
   "execution_count": 151,
   "metadata": {
    "ExecuteTime": {
     "end_time": "2021-06-16T17:54:43.578660Z",
     "start_time": "2021-06-16T17:54:43.563752Z"
    },
    "scrolled": false
   },
   "outputs": [
    {
     "data": {
      "text/plain": [
       "array([[9252, 1029],\n",
       "       [  74,  694]])"
      ]
     },
     "execution_count": 151,
     "metadata": {},
     "output_type": "execute_result"
    }
   ],
   "source": [
    "# View confusion matrix for train data and predictions\n",
    "confusion_matrix(y_train, y_pred_train)"
   ]
  },
  {
   "cell_type": "code",
   "execution_count": 152,
   "metadata": {
    "ExecuteTime": {
     "end_time": "2021-06-16T17:54:43.589623Z",
     "start_time": "2021-06-16T17:54:43.580423Z"
    },
    "scrolled": true
   },
   "outputs": [
    {
     "data": {
      "text/plain": [
       "array([[3943,  481],\n",
       "       [  44,  268]])"
      ]
     },
     "execution_count": 152,
     "metadata": {},
     "output_type": "execute_result"
    }
   ],
   "source": [
    "# View confusion matrix for test data and predictions\n",
    "confusion_matrix(y_test, y_pred)"
   ]
  },
  {
   "cell_type": "code",
   "execution_count": 153,
   "metadata": {
    "ExecuteTime": {
     "end_time": "2021-06-16T17:54:43.613946Z",
     "start_time": "2021-06-16T17:54:43.591724Z"
    },
    "scrolled": true
   },
   "outputs": [
    {
     "name": "stdout",
     "output_type": "stream",
     "text": [
      "                  precision    recall  f1-score   support\n",
      "\n",
      "normal grad rate       0.99      0.90      0.94     10281\n",
      "   low grad rate       0.40      0.90      0.56       768\n",
      "\n",
      "        accuracy                           0.90     11049\n",
      "       macro avg       0.70      0.90      0.75     11049\n",
      "    weighted avg       0.95      0.90      0.92     11049\n",
      "\n"
     ]
    }
   ],
   "source": [
    "print(metrics.classification_report(y_train, y_pred_train, labels=[0,1],\n",
    "                                    target_names=['normal grad rate','low grad rate']))"
   ]
  },
  {
   "cell_type": "code",
   "execution_count": 154,
   "metadata": {
    "ExecuteTime": {
     "end_time": "2021-06-16T17:54:43.630702Z",
     "start_time": "2021-06-16T17:54:43.615808Z"
    },
    "scrolled": true
   },
   "outputs": [
    {
     "name": "stdout",
     "output_type": "stream",
     "text": [
      "                  precision    recall  f1-score   support\n",
      "\n",
      "normal grad rate       0.99      0.89      0.94      4424\n",
      "   low grad rate       0.36      0.86      0.51       312\n",
      "\n",
      "        accuracy                           0.89      4736\n",
      "       macro avg       0.67      0.88      0.72      4736\n",
      "    weighted avg       0.95      0.89      0.91      4736\n",
      "\n"
     ]
    }
   ],
   "source": [
    "print(metrics.classification_report(y_test, y_pred, labels=[0,1],\n",
    "                                    target_names=['normal grad rate','low grad rate']))"
   ]
  },
  {
   "cell_type": "markdown",
   "metadata": {},
   "source": [
    "### Model reiteration - parameter tuning"
   ]
  },
  {
   "cell_type": "code",
   "execution_count": 155,
   "metadata": {
    "ExecuteTime": {
     "end_time": "2021-06-16T17:54:43.973007Z",
     "start_time": "2021-06-16T17:54:43.632577Z"
    }
   },
   "outputs": [],
   "source": [
    "# Logistic model\n",
    "log_clf = LogisticRegression( class_weight='balanced')\n",
    "log_model = log_clf.fit(X_train, y_train)\n",
    "y_pred_train = log_model.predict(X_train)\n",
    "y_pred = log_model.predict(X_test)"
   ]
  },
  {
   "cell_type": "code",
   "execution_count": 156,
   "metadata": {
    "ExecuteTime": {
     "end_time": "2021-06-16T17:54:43.978883Z",
     "start_time": "2021-06-16T17:54:43.975423Z"
    }
   },
   "outputs": [],
   "source": [
    "model_params = {\n",
    "    #Algorithm to use in the optimization problem\n",
    "    'solver': ['newton-cg', 'sag', 'saga','lbfgs'],\n",
    "    # Maximum number of iterations taken for the solvers to converge\n",
    "    'max_iter': [10,50,100],\n",
    "    # random state\n",
    "    'random_state': [1]\n",
    "}"
   ]
  },
  {
   "cell_type": "code",
   "execution_count": 157,
   "metadata": {
    "ExecuteTime": {
     "end_time": "2021-06-16T17:55:14.393814Z",
     "start_time": "2021-06-16T17:54:43.981940Z"
    },
    "scrolled": true
   },
   "outputs": [
    {
     "data": {
      "text/plain": [
       "GridSearchCV(estimator=LogisticRegression(class_weight='balanced'),\n",
       "             param_grid={'max_iter': [10, 50, 100], 'random_state': [1],\n",
       "                         'solver': ['newton-cg', 'sag', 'saga', 'lbfgs']},\n",
       "             scoring='recall')"
      ]
     },
     "execution_count": 157,
     "metadata": {},
     "output_type": "execute_result"
    }
   ],
   "source": [
    "# Instantiate and fit the LogisticReg Model\n",
    "log_clf = LogisticRegression(class_weight='balanced')\n",
    "log_clf = GridSearchCV(log_clf,model_params,scoring = 'recall')\n",
    "log_clf.fit(X_train,y_train)"
   ]
  },
  {
   "cell_type": "code",
   "execution_count": 158,
   "metadata": {
    "ExecuteTime": {
     "end_time": "2021-06-16T17:55:14.399473Z",
     "start_time": "2021-06-16T17:55:14.395637Z"
    }
   },
   "outputs": [
    {
     "data": {
      "text/plain": [
       "dict_keys(['C', 'class_weight', 'dual', 'fit_intercept', 'intercept_scaling', 'l1_ratio', 'max_iter', 'multi_class', 'n_jobs', 'penalty', 'random_state', 'solver', 'tol', 'verbose', 'warm_start'])"
      ]
     },
     "execution_count": 158,
     "metadata": {},
     "output_type": "execute_result"
    }
   ],
   "source": [
    "LogisticRegression(class_weight='balanced').get_params().keys()"
   ]
  },
  {
   "cell_type": "code",
   "execution_count": 159,
   "metadata": {
    "ExecuteTime": {
     "end_time": "2021-06-16T17:55:14.406130Z",
     "start_time": "2021-06-16T17:55:14.401796Z"
    },
    "scrolled": true
   },
   "outputs": [
    {
     "name": "stdout",
     "output_type": "stream",
     "text": [
      "{'C': 1.0, 'class_weight': 'balanced', 'dual': False, 'fit_intercept': True, 'intercept_scaling': 1, 'l1_ratio': None, 'max_iter': 50, 'multi_class': 'auto', 'n_jobs': None, 'penalty': 'l2', 'random_state': 1, 'solver': 'lbfgs', 'tol': 0.0001, 'verbose': 0, 'warm_start': False}\n"
     ]
    }
   ],
   "source": [
    "print(log_clf.best_estimator_.get_params())"
   ]
  },
  {
   "cell_type": "code",
   "execution_count": 160,
   "metadata": {
    "ExecuteTime": {
     "end_time": "2021-06-16T17:55:14.419998Z",
     "start_time": "2021-06-16T17:55:14.408737Z"
    }
   },
   "outputs": [
    {
     "name": "stdout",
     "output_type": "stream",
     "text": [
      "The f1 score for the training model is: 0.5572059413890004\n",
      "The f1 score for the model is: 0.5051837888784166\n"
     ]
    }
   ],
   "source": [
    "print('The f1 score for the training model is:',f1_score(y_train, y_pred_train))\n",
    "print('The f1 score for the model is:',f1_score(y_test, y_pred))"
   ]
  },
  {
   "cell_type": "code",
   "execution_count": 161,
   "metadata": {
    "ExecuteTime": {
     "end_time": "2021-06-16T17:55:14.443487Z",
     "start_time": "2021-06-16T17:55:14.422701Z"
    },
    "scrolled": false
   },
   "outputs": [
    {
     "name": "stdout",
     "output_type": "stream",
     "text": [
      "                  precision    recall  f1-score   support\n",
      "\n",
      "normal grad rate       0.99      0.90      0.94     10281\n",
      "   low grad rate       0.40      0.90      0.56       768\n",
      "\n",
      "        accuracy                           0.90     11049\n",
      "       macro avg       0.70      0.90      0.75     11049\n",
      "    weighted avg       0.95      0.90      0.92     11049\n",
      "\n"
     ]
    }
   ],
   "source": [
    "print(metrics.classification_report(y_train, y_pred_train, labels=[0,1],\n",
    "                                    target_names=['normal grad rate','low grad rate']))"
   ]
  },
  {
   "cell_type": "code",
   "execution_count": 162,
   "metadata": {
    "ExecuteTime": {
     "end_time": "2021-06-16T17:55:14.459202Z",
     "start_time": "2021-06-16T17:55:14.445607Z"
    },
    "scrolled": false
   },
   "outputs": [
    {
     "name": "stdout",
     "output_type": "stream",
     "text": [
      "                  precision    recall  f1-score   support\n",
      "\n",
      "normal grad rate       0.99      0.89      0.94      4424\n",
      "   low grad rate       0.36      0.86      0.51       312\n",
      "\n",
      "        accuracy                           0.89      4736\n",
      "       macro avg       0.67      0.88      0.72      4736\n",
      "    weighted avg       0.95      0.89      0.91      4736\n",
      "\n"
     ]
    }
   ],
   "source": [
    "print(metrics.classification_report(y_test, y_pred, labels=[0,1],\n",
    "                                    target_names=['normal grad rate','low grad rate']))"
   ]
  },
  {
   "cell_type": "markdown",
   "metadata": {},
   "source": [
    "## Random Forest Classifier"
   ]
  },
  {
   "cell_type": "code",
   "execution_count": 163,
   "metadata": {
    "ExecuteTime": {
     "end_time": "2021-06-16T17:55:14.816508Z",
     "start_time": "2021-06-16T17:55:14.461290Z"
    }
   },
   "outputs": [
    {
     "data": {
      "text/plain": [
       "RandomForestClassifier(class_weight='balanced', n_estimators=10)"
      ]
     },
     "execution_count": 163,
     "metadata": {},
     "output_type": "execute_result"
    }
   ],
   "source": [
    "# Instantiate and fit the RandomForestClassifier\n",
    "rfc=RandomForestClassifier(n_estimators=10,class_weight='balanced')\n",
    "rfc.fit(X_train,y_train)"
   ]
  },
  {
   "cell_type": "code",
   "execution_count": 164,
   "metadata": {
    "ExecuteTime": {
     "end_time": "2021-06-16T17:55:15.130445Z",
     "start_time": "2021-06-16T17:55:14.818496Z"
    },
    "scrolled": true
   },
   "outputs": [
    {
     "name": "stdout",
     "output_type": "stream",
     "text": [
      "Scikit-Learn's Random Forest Classifier's prediction accuracy is: 95.06\n",
      "Time consumed for training: 0.281 seconds\n",
      "Time consumed for prediction: 0.02587 seconds\n"
     ]
    }
   ],
   "source": [
    "training_start = time.perf_counter()\n",
    "rfc.fit(X_train, y_train)\n",
    "training_end = time.perf_counter()\n",
    "prediction_start = time.perf_counter()\n",
    "y_pred = rfc.predict(X_test)\n",
    "y_pred_train = rfc.predict(X_train)\n",
    "prediction_end = time.perf_counter()\n",
    "acc_rfc = (y_pred == y_test).sum().astype(float) / len(y_pred)*100\n",
    "rfc_train_time = training_end-training_start\n",
    "rfc_prediction_time = prediction_end-prediction_start\n",
    "print(\"Scikit-Learn's Random Forest Classifier's prediction accuracy is: %3.2f\" % (acc_rfc))\n",
    "print(\"Time consumed for training: %4.3f seconds\" % (rfc_train_time))\n",
    "print(\"Time consumed for prediction: %6.5f seconds\" % (rfc_prediction_time))"
   ]
  },
  {
   "cell_type": "code",
   "execution_count": 165,
   "metadata": {
    "ExecuteTime": {
     "end_time": "2021-06-16T17:55:15.144398Z",
     "start_time": "2021-06-16T17:55:15.132802Z"
    }
   },
   "outputs": [
    {
     "name": "stdout",
     "output_type": "stream",
     "text": [
      "The f1 score for the training model is: 0.9656565656565657\n",
      "The f1 score for the model is: 0.5063291139240507\n"
     ]
    }
   ],
   "source": [
    "print('The f1 score for the training model is:',f1_score(y_train, y_pred_train))\n",
    "print('The f1 score for the model is:',f1_score(y_test, y_pred))"
   ]
  },
  {
   "cell_type": "code",
   "execution_count": 166,
   "metadata": {
    "ExecuteTime": {
     "end_time": "2021-06-16T17:55:15.157411Z",
     "start_time": "2021-06-16T17:55:15.146475Z"
    },
    "scrolled": false
   },
   "outputs": [
    {
     "name": "stdout",
     "output_type": "stream",
     "text": [
      "                  precision    recall  f1-score   support\n",
      "\n",
      "normal grad rate       0.96      0.99      0.97      4424\n",
      "   low grad rate       0.74      0.38      0.51       312\n",
      "\n",
      "        accuracy                           0.95      4736\n",
      "       macro avg       0.85      0.69      0.74      4736\n",
      "    weighted avg       0.94      0.95      0.94      4736\n",
      "\n"
     ]
    }
   ],
   "source": [
    "print(metrics.classification_report(y_test, y_pred, labels=[0,1],\n",
    "                                    target_names=['normal grad rate','low grad rate']))"
   ]
  },
  {
   "cell_type": "markdown",
   "metadata": {},
   "source": [
    "### Check for Overfit"
   ]
  },
  {
   "cell_type": "code",
   "execution_count": 167,
   "metadata": {
    "ExecuteTime": {
     "end_time": "2021-06-16T17:55:15.171731Z",
     "start_time": "2021-06-16T17:55:15.159759Z"
    },
    "scrolled": true
   },
   "outputs": [
    {
     "data": {
      "text/plain": [
       "array([[10281,     0],\n",
       "       [   51,   717]])"
      ]
     },
     "execution_count": 167,
     "metadata": {},
     "output_type": "execute_result"
    }
   ],
   "source": [
    "# View confusion matrix for train data and predictions\n",
    "confusion_matrix(y_train, y_pred_train)"
   ]
  },
  {
   "cell_type": "code",
   "execution_count": 168,
   "metadata": {
    "ExecuteTime": {
     "end_time": "2021-06-16T17:55:15.182328Z",
     "start_time": "2021-06-16T17:55:15.173877Z"
    },
    "scrolled": true
   },
   "outputs": [
    {
     "data": {
      "text/plain": [
       "array([[4382,   42],\n",
       "       [ 192,  120]])"
      ]
     },
     "execution_count": 168,
     "metadata": {},
     "output_type": "execute_result"
    }
   ],
   "source": [
    "# View confusion matrix for test data and predictions\n",
    "confusion_matrix(y_test, y_pred)"
   ]
  },
  {
   "cell_type": "code",
   "execution_count": 169,
   "metadata": {
    "ExecuteTime": {
     "end_time": "2021-06-16T17:55:15.219683Z",
     "start_time": "2021-06-16T17:55:15.184174Z"
    }
   },
   "outputs": [
    {
     "name": "stdout",
     "output_type": "stream",
     "text": [
      "0.9656565656565657\n",
      "0.5063291139240507\n"
     ]
    }
   ],
   "source": [
    "rfc_training_preds = rfc.predict(X_train)\n",
    "rfc_training_f1 = f1_score(y_train, rfc_training_preds)\n",
    "\n",
    "rfc_val_preds = rfc.predict(X_test) # y_hat\n",
    "rfc_val_f1 = f1_score(y_test, rfc_val_preds)\n",
    "print(rfc_training_f1)\n",
    "print(rfc_val_f1)"
   ]
  },
  {
   "cell_type": "code",
   "execution_count": 170,
   "metadata": {
    "ExecuteTime": {
     "end_time": "2021-06-16T17:55:15.238557Z",
     "start_time": "2021-06-16T17:55:15.221176Z"
    }
   },
   "outputs": [
    {
     "name": "stdout",
     "output_type": "stream",
     "text": [
      "                  precision    recall  f1-score   support\n",
      "\n",
      "normal grad rate       1.00      1.00      1.00     10281\n",
      "   low grad rate       1.00      0.93      0.97       768\n",
      "\n",
      "        accuracy                           1.00     11049\n",
      "       macro avg       1.00      0.97      0.98     11049\n",
      "    weighted avg       1.00      1.00      1.00     11049\n",
      "\n"
     ]
    }
   ],
   "source": [
    "print(metrics.classification_report(y_train, y_pred_train, labels=[0,1], \n",
    "                                    target_names=['normal grad rate','low grad rate']))"
   ]
  },
  {
   "cell_type": "code",
   "execution_count": 171,
   "metadata": {
    "ExecuteTime": {
     "end_time": "2021-06-16T17:55:15.252761Z",
     "start_time": "2021-06-16T17:55:15.240050Z"
    },
    "scrolled": true
   },
   "outputs": [
    {
     "name": "stdout",
     "output_type": "stream",
     "text": [
      "              precision    recall  f1-score   support\n",
      "\n",
      "           0       0.96      0.99      0.97      4424\n",
      "           1       0.74      0.38      0.51       312\n",
      "\n",
      "    accuracy                           0.95      4736\n",
      "   macro avg       0.85      0.69      0.74      4736\n",
      "weighted avg       0.94      0.95      0.94      4736\n",
      "\n"
     ]
    }
   ],
   "source": [
    "print(metrics.classification_report(y_test, y_pred, labels=['normal grad rate','low grad rate']))"
   ]
  },
  {
   "cell_type": "markdown",
   "metadata": {},
   "source": [
    "Definitely overfit we see this especially in the low grad rate class"
   ]
  },
  {
   "cell_type": "markdown",
   "metadata": {},
   "source": [
    "### Feature Importance"
   ]
  },
  {
   "cell_type": "code",
   "execution_count": 172,
   "metadata": {
    "ExecuteTime": {
     "end_time": "2021-06-16T17:55:15.259503Z",
     "start_time": "2021-06-16T17:55:15.254533Z"
    }
   },
   "outputs": [],
   "source": [
    "# Need to make a list of feature names for feat importance graph \n",
    "# Need function since data is in numpy arrays\n",
    "def get_column_names_from_ColumnTransformer(column_transformer):    \n",
    "    col_name = []\n",
    "    for transformer_in_columns in column_transformer.transformers_[:-1]:#the last transformer is ColumnTransformer's 'remainder'\n",
    "        raw_col_name = transformer_in_columns[2]\n",
    "        if isinstance(transformer_in_columns[1],Pipeline): \n",
    "            transformer = transformer_in_columns[1].steps[-1][1]\n",
    "        else:\n",
    "            transformer = transformer_in_columns[1]\n",
    "        try:\n",
    "            names = transformer.get_feature_names()\n",
    "        except AttributeError: # if no 'get_feature_names' function, use raw column name\n",
    "            names = raw_col_name\n",
    "        if isinstance(names,np.ndarray): # eg.\n",
    "            col_name += names.tolist()\n",
    "        elif isinstance(names,list):\n",
    "            col_name += names    \n",
    "        elif isinstance(names,str):\n",
    "            col_name.append(names)\n",
    "    return col_name"
   ]
  },
  {
   "cell_type": "code",
   "execution_count": 173,
   "metadata": {
    "ExecuteTime": {
     "end_time": "2021-06-16T17:55:15.263853Z",
     "start_time": "2021-06-16T17:55:15.261306Z"
    },
    "scrolled": true
   },
   "outputs": [],
   "source": [
    "col_name_num = get_column_names_from_ColumnTransformer(col_transformer)"
   ]
  },
  {
   "cell_type": "code",
   "execution_count": 174,
   "metadata": {
    "ExecuteTime": {
     "end_time": "2021-06-16T17:55:15.268457Z",
     "start_time": "2021-06-16T17:55:15.265855Z"
    }
   },
   "outputs": [],
   "source": [
    "col_name_cat = list(col_transformer.named_transformers_['cats'].named_steps['ohe']\\\n",
    "     .get_feature_names())"
   ]
  },
  {
   "cell_type": "code",
   "execution_count": 175,
   "metadata": {
    "ExecuteTime": {
     "end_time": "2021-06-16T17:55:15.273856Z",
     "start_time": "2021-06-16T17:55:15.271106Z"
    }
   },
   "outputs": [],
   "source": [
    "rfc_columns = col_name_num + col_name_cat"
   ]
  },
  {
   "cell_type": "code",
   "execution_count": 176,
   "metadata": {
    "ExecuteTime": {
     "end_time": "2021-06-16T17:55:15.518393Z",
     "start_time": "2021-06-16T17:55:15.277129Z"
    },
    "scrolled": false
   },
   "outputs": [
    {
     "data": {
      "text/plain": [
       "<AxesSubplot:>"
      ]
     },
     "execution_count": 176,
     "metadata": {},
     "output_type": "execute_result"
    },
    {
     "data": {
      "image/png": "[encoded data removed]",
      "text/plain": [
       "<Figure size 432x288 with 1 Axes>"
      ]
     },
     "metadata": {
      "needs_background": "light"
     },
     "output_type": "display_data"
    }
   ],
   "source": [
    "feat_importances = pd.Series(rfc.feature_importances_, index = rfc_columns)\n",
    "feat_importances.nlargest(20).plot(kind='barh')"
   ]
  },
  {
   "cell_type": "markdown",
   "metadata": {},
   "source": [
    "### Model reiteration - parameter tuning"
   ]
  },
  {
   "cell_type": "code",
   "execution_count": 177,
   "metadata": {
    "ExecuteTime": {
     "end_time": "2021-06-16T17:55:15.522889Z",
     "start_time": "2021-06-16T17:55:15.519935Z"
    }
   },
   "outputs": [],
   "source": [
    "model_params = {\n",
    "    # number of \n",
    "    'n_estimators': [5,10,20,50,100,200],\n",
    "    # number of max features\n",
    "    'max_features': [10,15,20,50,100],\n",
    "    # max number of levels in each decision tree\n",
    "    'max_depth': [5,10,15],\n",
    "    # minimum amount of samples in a node\n",
    "    'min_samples_leaf': [10],\n",
    "    # minimum amount of samples to split\n",
    "    'min_samples_split' : [100,1000],\n",
    "    # random state\n",
    "    'random_state': [1]\n",
    "    \n",
    "}"
   ]
  },
  {
   "cell_type": "code",
   "execution_count": 178,
   "metadata": {
    "ExecuteTime": {
     "end_time": "2021-06-16T18:36:01.273413Z",
     "start_time": "2021-06-16T17:55:15.525773Z"
    },
    "scrolled": true
   },
   "outputs": [
    {
     "data": {
      "text/plain": [
       "GridSearchCV(estimator=RandomForestClassifier(class_weight='balanced'),\n",
       "             param_grid={'max_depth': [5, 10, 15],\n",
       "                         'max_features': [10, 15, 20, 50, 100],\n",
       "                         'min_samples_leaf': [10],\n",
       "                         'min_samples_split': [100, 1000],\n",
       "                         'n_estimators': [5, 10, 20, 50, 100, 200],\n",
       "                         'random_state': [1]},\n",
       "             scoring='recall')"
      ]
     },
     "execution_count": 178,
     "metadata": {},
     "output_type": "execute_result"
    }
   ],
   "source": [
    "# Instantiate and fit the RandomForestClassifier\n",
    "rfc=RandomForestClassifier(class_weight='balanced')\n",
    "rfc = GridSearchCV(rfc, model_params, scoring = 'recall')\n",
    "rfc.fit(X_train,y_train)"
   ]
  },
  {
   "cell_type": "code",
   "execution_count": 179,
   "metadata": {
    "ExecuteTime": {
     "end_time": "2021-06-16T18:36:01.281724Z",
     "start_time": "2021-06-16T18:36:01.276398Z"
    },
    "scrolled": true
   },
   "outputs": [
    {
     "name": "stdout",
     "output_type": "stream",
     "text": [
      "{'bootstrap': True, 'ccp_alpha': 0.0, 'class_weight': 'balanced', 'criterion': 'gini', 'max_depth': 15, 'max_features': 100, 'max_leaf_nodes': None, 'max_samples': None, 'min_impurity_decrease': 0.0, 'min_impurity_split': None, 'min_samples_leaf': 10, 'min_samples_split': 1000, 'min_weight_fraction_leaf': 0.0, 'n_estimators': 200, 'n_jobs': None, 'oob_score': False, 'random_state': 1, 'verbose': 0, 'warm_start': False}\n"
     ]
    }
   ],
   "source": [
    "print(rfc.best_estimator_.get_params())"
   ]
  },
  {
   "cell_type": "code",
   "execution_count": 180,
   "metadata": {
    "ExecuteTime": {
     "end_time": "2021-06-16T18:36:01.304707Z",
     "start_time": "2021-06-16T18:36:01.286931Z"
    }
   },
   "outputs": [
    {
     "name": "stdout",
     "output_type": "stream",
     "text": [
      "The f1 score for the training model is: 0.9656565656565657\n",
      "The f1 score for the model is: 0.5063291139240507\n"
     ]
    }
   ],
   "source": [
    "print('The f1 score for the training model is:',f1_score(y_train, y_pred_train))\n",
    "print('The f1 score for the model is:',f1_score(y_test, y_pred))"
   ]
  },
  {
   "cell_type": "code",
   "execution_count": 181,
   "metadata": {
    "ExecuteTime": {
     "end_time": "2021-06-16T18:36:01.323335Z",
     "start_time": "2021-06-16T18:36:01.306723Z"
    },
    "scrolled": false
   },
   "outputs": [
    {
     "name": "stdout",
     "output_type": "stream",
     "text": [
      "                  precision    recall  f1-score   support\n",
      "\n",
      "normal grad rate       1.00      1.00      1.00     10281\n",
      "   low grad rate       1.00      0.93      0.97       768\n",
      "\n",
      "        accuracy                           1.00     11049\n",
      "       macro avg       1.00      0.97      0.98     11049\n",
      "    weighted avg       1.00      1.00      1.00     11049\n",
      "\n"
     ]
    }
   ],
   "source": [
    "print(metrics.classification_report(y_train, y_pred_train, labels=[0,1],\n",
    "                                    target_names=['normal grad rate','low grad rate']))"
   ]
  },
  {
   "cell_type": "code",
   "execution_count": 182,
   "metadata": {
    "ExecuteTime": {
     "end_time": "2021-06-16T18:36:01.335773Z",
     "start_time": "2021-06-16T18:36:01.325039Z"
    },
    "scrolled": true
   },
   "outputs": [
    {
     "name": "stdout",
     "output_type": "stream",
     "text": [
      "                  precision    recall  f1-score   support\n",
      "\n",
      "normal grad rate       0.96      0.99      0.97      4424\n",
      "   low grad rate       0.74      0.38      0.51       312\n",
      "\n",
      "        accuracy                           0.95      4736\n",
      "       macro avg       0.85      0.69      0.74      4736\n",
      "    weighted avg       0.94      0.95      0.94      4736\n",
      "\n"
     ]
    }
   ],
   "source": [
    "print(metrics.classification_report(y_test, y_pred, labels=[0,1],\n",
    "                                    target_names=['normal grad rate','low grad rate']))"
   ]
  },
  {
   "cell_type": "markdown",
   "metadata": {},
   "source": [
    "## Gradient Boosting Classifier"
   ]
  },
  {
   "cell_type": "code",
   "execution_count": 183,
   "metadata": {
    "ExecuteTime": {
     "end_time": "2021-06-16T18:36:13.360603Z",
     "start_time": "2021-06-16T18:36:01.337552Z"
    },
    "scrolled": false
   },
   "outputs": [],
   "source": [
    "gb_clf = GradientBoostingClassifier()\n",
    "gb_clf.fit(X_train, y_train)\n",
    "y_pred = gb_clf.predict(X_test)\n",
    "y_pred_train = gb_clf.predict(X_train)\n",
    "\n",
    "# print(\"Accuracy score (training): {0:.3f}\".format(gb_clf.score(X_train, y_train)))\n",
    "# print(\"Accuracy score (validation): {0:.3f}\".format(gb_clf.score(X_test, y_test)))"
   ]
  },
  {
   "cell_type": "code",
   "execution_count": 184,
   "metadata": {
    "ExecuteTime": {
     "end_time": "2021-06-16T18:36:13.372688Z",
     "start_time": "2021-06-16T18:36:13.362610Z"
    },
    "scrolled": true
   },
   "outputs": [
    {
     "name": "stdout",
     "output_type": "stream",
     "text": [
      "The f1 score for the training model is: 0.7354056103108416\n",
      "The f1 score for the model is: 0.6103646833013435\n"
     ]
    }
   ],
   "source": [
    "print('The f1 score for the training model is:',f1_score(y_train, y_pred_train))\n",
    "print('The f1 score for the model is:',f1_score(y_test, y_pred))"
   ]
  },
  {
   "cell_type": "code",
   "execution_count": 185,
   "metadata": {
    "ExecuteTime": {
     "end_time": "2021-06-16T18:36:13.385461Z",
     "start_time": "2021-06-16T18:36:13.374136Z"
    },
    "scrolled": true
   },
   "outputs": [
    {
     "name": "stdout",
     "output_type": "stream",
     "text": [
      "                  precision    recall  f1-score   support\n",
      "\n",
      "normal grad rate       0.97      0.99      0.98      4424\n",
      "   low grad rate       0.76      0.51      0.61       312\n",
      "\n",
      "        accuracy                           0.96      4736\n",
      "       macro avg       0.86      0.75      0.79      4736\n",
      "    weighted avg       0.95      0.96      0.95      4736\n",
      "\n"
     ]
    }
   ],
   "source": [
    "print(metrics.classification_report(y_test, y_pred, labels=[0,1],\n",
    "                                    target_names=['normal grad rate','low grad rate']))"
   ]
  },
  {
   "cell_type": "markdown",
   "metadata": {},
   "source": [
    "### Check for Overfit"
   ]
  },
  {
   "cell_type": "code",
   "execution_count": 186,
   "metadata": {
    "ExecuteTime": {
     "end_time": "2021-06-16T18:36:13.412698Z",
     "start_time": "2021-06-16T18:36:13.387525Z"
    },
    "scrolled": false
   },
   "outputs": [
    {
     "data": {
      "text/plain": [
       "array([[10215,    66],\n",
       "       [  283,   485]])"
      ]
     },
     "execution_count": 186,
     "metadata": {},
     "output_type": "execute_result"
    }
   ],
   "source": [
    "# View confusion matrix for train data and predictions\n",
    "confusion_matrix(y_train, y_pred_train)"
   ]
  },
  {
   "cell_type": "code",
   "execution_count": 187,
   "metadata": {
    "ExecuteTime": {
     "end_time": "2021-06-16T18:36:13.424487Z",
     "start_time": "2021-06-16T18:36:13.415400Z"
    },
    "scrolled": true
   },
   "outputs": [
    {
     "data": {
      "text/plain": [
       "array([[4374,   50],\n",
       "       [ 153,  159]])"
      ]
     },
     "execution_count": 187,
     "metadata": {},
     "output_type": "execute_result"
    }
   ],
   "source": [
    "# View confusion matrix for test data and predictions\n",
    "confusion_matrix(y_test, y_pred)"
   ]
  },
  {
   "cell_type": "code",
   "execution_count": 188,
   "metadata": {
    "ExecuteTime": {
     "end_time": "2021-06-16T18:36:13.443959Z",
     "start_time": "2021-06-16T18:36:13.426414Z"
    },
    "scrolled": true
   },
   "outputs": [
    {
     "name": "stdout",
     "output_type": "stream",
     "text": [
      "                  precision    recall  f1-score   support\n",
      "\n",
      "normal grad rate       0.97      0.99      0.98     10281\n",
      "   low grad rate       0.88      0.63      0.74       768\n",
      "\n",
      "        accuracy                           0.97     11049\n",
      "       macro avg       0.93      0.81      0.86     11049\n",
      "    weighted avg       0.97      0.97      0.97     11049\n",
      "\n"
     ]
    }
   ],
   "source": [
    "print(metrics.classification_report(y_train, y_pred_train, labels=[0,1],\n",
    "                                    target_names=['normal grad rate','low grad rate']))"
   ]
  },
  {
   "cell_type": "code",
   "execution_count": 189,
   "metadata": {
    "ExecuteTime": {
     "end_time": "2021-06-16T18:36:13.456688Z",
     "start_time": "2021-06-16T18:36:13.445784Z"
    },
    "scrolled": false
   },
   "outputs": [
    {
     "name": "stdout",
     "output_type": "stream",
     "text": [
      "                  precision    recall  f1-score   support\n",
      "\n",
      "normal grad rate       0.97      0.99      0.98      4424\n",
      "   low grad rate       0.76      0.51      0.61       312\n",
      "\n",
      "        accuracy                           0.96      4736\n",
      "       macro avg       0.86      0.75      0.79      4736\n",
      "    weighted avg       0.95      0.96      0.95      4736\n",
      "\n"
     ]
    }
   ],
   "source": [
    "print(metrics.classification_report(y_test, y_pred, labels=[0,1],\n",
    "                                    target_names=['normal grad rate','low grad rate']))"
   ]
  },
  {
   "cell_type": "markdown",
   "metadata": {},
   "source": [
    "### Model reiteration - parameter tuning"
   ]
  },
  {
   "cell_type": "code",
   "execution_count": 190,
   "metadata": {
    "ExecuteTime": {
     "end_time": "2021-06-16T18:36:13.462058Z",
     "start_time": "2021-06-16T18:36:13.458609Z"
    }
   },
   "outputs": [],
   "source": [
    "model_params = {\n",
    "    # number of boosting stages\n",
    "    'n_estimators': [5,10,20,50,100,200],\n",
    "    # number of max features\n",
    "    'max_features': [10,15,20,50,100],\n",
    "     # minimum amount of samples in a node\n",
    "    'min_samples_leaf': [10],\n",
    "    # Learning rate\n",
    "    'learning_rate':[.25,.5,.75,1],\n",
    "    #The minimum number of samples required to split an internal node\n",
    "    'min_samples_split' : [100,1000],\n",
    "     # random state\n",
    "    'random_state':[1]\n",
    "}"
   ]
  },
  {
   "cell_type": "code",
   "execution_count": 191,
   "metadata": {
    "ExecuteTime": {
     "end_time": "2021-06-16T19:10:11.419264Z",
     "start_time": "2021-06-16T18:36:13.463958Z"
    },
    "scrolled": true
   },
   "outputs": [
    {
     "data": {
      "text/plain": [
       "GridSearchCV(estimator=GradientBoostingClassifier(),\n",
       "             param_grid={'learning_rate': [0.25, 0.5, 0.75, 1],\n",
       "                         'max_features': [10, 15, 20, 50, 100],\n",
       "                         'min_samples_leaf': [10],\n",
       "                         'min_samples_split': [100, 1000],\n",
       "                         'n_estimators': [5, 10, 20, 50, 100, 200],\n",
       "                         'random_state': [1]},\n",
       "             scoring='recall')"
      ]
     },
     "execution_count": 191,
     "metadata": {},
     "output_type": "execute_result"
    }
   ],
   "source": [
    "gb_clf = GradientBoostingClassifier()\n",
    "gb_clf = GridSearchCV(gb_clf,model_params, scoring = 'recall')\n",
    "gb_clf.fit(X_train,y_train)"
   ]
  },
  {
   "cell_type": "code",
   "execution_count": 192,
   "metadata": {
    "ExecuteTime": {
     "end_time": "2021-06-16T19:10:11.448898Z",
     "start_time": "2021-06-16T19:10:11.423504Z"
    }
   },
   "outputs": [
    {
     "name": "stdout",
     "output_type": "stream",
     "text": [
      "                  precision    recall  f1-score   support\n",
      "\n",
      "normal grad rate       0.97      0.99      0.98     10281\n",
      "   low grad rate       0.88      0.63      0.74       768\n",
      "\n",
      "        accuracy                           0.97     11049\n",
      "       macro avg       0.93      0.81      0.86     11049\n",
      "    weighted avg       0.97      0.97      0.97     11049\n",
      "\n"
     ]
    }
   ],
   "source": [
    "print(metrics.classification_report(y_train, y_pred_train, labels=[0,1],\n",
    "                                    target_names=['normal grad rate','low grad rate']))"
   ]
  },
  {
   "cell_type": "code",
   "execution_count": 193,
   "metadata": {
    "ExecuteTime": {
     "end_time": "2021-06-16T19:10:11.462764Z",
     "start_time": "2021-06-16T19:10:11.451854Z"
    },
    "scrolled": true
   },
   "outputs": [
    {
     "name": "stdout",
     "output_type": "stream",
     "text": [
      "                  precision    recall  f1-score   support\n",
      "\n",
      "normal grad rate       0.97      0.99      0.98      4424\n",
      "   low grad rate       0.76      0.51      0.61       312\n",
      "\n",
      "        accuracy                           0.96      4736\n",
      "       macro avg       0.86      0.75      0.79      4736\n",
      "    weighted avg       0.95      0.96      0.95      4736\n",
      "\n"
     ]
    }
   ],
   "source": [
    "print(metrics.classification_report(y_test, y_pred, labels=[0,1],\n",
    "                                    target_names=['normal grad rate','low grad rate']))"
   ]
  },
  {
   "cell_type": "code",
   "execution_count": 194,
   "metadata": {
    "ExecuteTime": {
     "end_time": "2021-06-16T19:10:28.943583Z",
     "start_time": "2021-06-16T19:10:11.464856Z"
    },
    "scrolled": false
   },
   "outputs": [
    {
     "name": "stdout",
     "output_type": "stream",
     "text": [
      "Learning rate:  0.05\n",
      "Accuracy score (training): 0.940\n",
      "Accuracy score (validation): 0.940\n",
      "The f1 score for the training model is: 0.7354056103108416\n",
      "The f1 score for the model is: 0.6103646833013435\n",
      "Learning rate:  0.075\n",
      "Accuracy score (training): 0.948\n",
      "Accuracy score (validation): 0.947\n",
      "The f1 score for the training model is: 0.7354056103108416\n",
      "The f1 score for the model is: 0.6103646833013435\n",
      "Learning rate:  0.1\n",
      "Accuracy score (training): 0.951\n",
      "Accuracy score (validation): 0.950\n",
      "The f1 score for the training model is: 0.7354056103108416\n",
      "The f1 score for the model is: 0.6103646833013435\n",
      "Learning rate:  0.25\n",
      "Accuracy score (training): 0.961\n",
      "Accuracy score (validation): 0.956\n",
      "The f1 score for the training model is: 0.7354056103108416\n",
      "The f1 score for the model is: 0.6103646833013435\n",
      "Learning rate:  0.5\n",
      "Accuracy score (training): 0.967\n",
      "Accuracy score (validation): 0.951\n",
      "The f1 score for the training model is: 0.7354056103108416\n",
      "The f1 score for the model is: 0.6103646833013435\n",
      "Learning rate:  0.75\n",
      "Accuracy score (training): 0.968\n",
      "Accuracy score (validation): 0.950\n",
      "The f1 score for the training model is: 0.7354056103108416\n",
      "The f1 score for the model is: 0.6103646833013435\n",
      "Learning rate:  1\n",
      "Accuracy score (training): 0.895\n",
      "Accuracy score (validation): 0.894\n",
      "The f1 score for the training model is: 0.7354056103108416\n",
      "The f1 score for the model is: 0.6103646833013435\n"
     ]
    }
   ],
   "source": [
    "lr_list = [0.05, 0.075, 0.1, 0.25, 0.5, 0.75, 1]\n",
    "\n",
    "for learning_rate in lr_list:\n",
    "    gb_clf = GradientBoostingClassifier(n_estimators=20, learning_rate=learning_rate)\n",
    "    gb_clf.fit(X_train, y_train)\n",
    "\n",
    "    print(\"Learning rate: \", learning_rate)\n",
    "    print(\"Accuracy score (training): {0:.3f}\".format(gb_clf.score(X_train, y_train)))\n",
    "    print(\"Accuracy score (validation): {0:.3f}\".format(gb_clf.score(X_test, y_test)))\n",
    "    print('The f1 score for the training model is:',f1_score(y_train, y_pred_train))\n",
    "    print('The f1 score for the model is:',f1_score(y_test, y_pred))"
   ]
  },
  {
   "cell_type": "markdown",
   "metadata": {},
   "source": [
    "# Conclusions"
   ]
  },
  {
   "cell_type": "markdown",
   "metadata": {},
   "source": [
    "- Our modeling struggles with overfitting and is better at classifying the majority class (normal graduation rate). However, we were able to achieve a high enough performance that we feel confident in making recommendations based on the the features which had the greatest feature importance for our modeling.\n",
    "- The number of students who completed math and reading tests and received a proficient grade were major indicators for higher graduation rates.\n",
    "- Our modeling showed that the number of suspensions and lengthier suspensions were a major indicator for low graduation rate high schools.\n",
    "- The number of students participating in ACT/SAT tests was a strong indicator for our model. Higher participation meant higher likelihood of being in a normal graduation rate group.\n",
    "- Total local revenue and teacher salaries were the most important financial factors. Higher local revenue and teacher salaries were an indicator of normal high school graduation rates.\n"
   ]
  },
  {
   "cell_type": "markdown",
   "metadata": {},
   "source": [
    "# Recommendations"
   ]
  },
  {
   "cell_type": "markdown",
   "metadata": {},
   "source": [
    "- Mathematics and Reading: Focus resources  on providing extra support for mathematics and reading. School districts should investigate the best way to improve these scores whether it be through offering remedial opportunities additional tutoring or increasing testing practice for these specific areas.\n",
    "- Suspensions: Although, these metrics are not easily separated from other influencing factors. We can broadly say that behavioral issues have a negative impact on academic success. Additionally, there is a large and accepted body of research in the education field that dealing with behavioral issues by keeping kids from coming to school is unproductive and has negative impacts on academic success. School districts and administrators should investigate more productive disciplinary recourse than suspensions and explore preventative measures that help students work through behavioral issues.\n",
    "- ACT/SAT: As with many education metrics ACT/SAT participation likely also has a relationship with school funding and other types of factors. However, regardless of other factors ACT/SAT prep can be a motivating factor for students even at underfunded schools. With the view that the main goal for students in high school is to prepare themselves so they will be accepted into college\n",
    "- Local Revenue and Teacher Salaries: Of these two important financial factors teacher salaries are more easily influenced by school districts. We recommend making teacher salaries the top priority in budgeting plans as this was a strong indicator for higher graduation rates.\n",
    "- Wait until future work is completed to use a model as a primary classification technique"
   ]
  },
  {
   "cell_type": "markdown",
   "metadata": {},
   "source": [
    "# Future Work"
   ]
  },
  {
   "cell_type": "markdown",
   "metadata": {},
   "source": [
    "- Perform feature selection steps to improve overfit of the modeling.\n",
    "- Investigate adding new features. Now that we have a better handle on which types of features are important we should investigate adding new features from our reporting sources and also engineering new features with the data we already have on hand. Engineering features to make them proportional to the overall population of the graduating class could make them stronger and more informative. For example, % of students participating in ACT/SAT per cohort would be a much better metric than the total number.\n",
    "- Investigate which types of schools did not report graduation rates. We need to know if we are missing any important type of data for unreported graduation rates. Is the type of schools not reporting graduation rates similar to those that do report?\n"
   ]
  }
 ],
 "metadata": {
  "kernelspec": {
   "display_name": "Python 3",
   "language": "python",
   "name": "python3"
  },
  "language_info": {
   "codemirror_mode": {
    "name": "ipython",
    "version": 3
   },
   "file_extension": ".py",
   "mimetype": "text/x-python",
   "name": "python",
   "nbconvert_exporter": "python",
   "pygments_lexer": "ipython3",
   "version": "3.8.5"
  },
  "toc": {
   "base_numbering": 1,
   "nav_menu": {},
   "number_sections": true,
   "sideBar": true,
   "skip_h1_title": false,
   "title_cell": "Table of Contents",
   "title_sidebar": "Contents",
   "toc_cell": false,
   "toc_position": {
    "height": "calc(100% - 180px)",
    "left": "10px",
    "top": "150px",
    "width": "297px"
   },
   "toc_section_display": true,
   "toc_window_display": true
  }
 },
 "nbformat": 4,
 "nbformat_minor": 4
}
