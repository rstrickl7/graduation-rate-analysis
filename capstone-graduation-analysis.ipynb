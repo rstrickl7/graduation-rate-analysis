{
 "cells": [
  {
   "cell_type": "markdown",
   "metadata": {},
   "source": [
    "# Business Problem:"
   ]
  },
  {
   "cell_type": "markdown",
   "metadata": {},
   "source": [
    "## Background"
   ]
  },
  {
   "cell_type": "markdown",
   "metadata": {},
   "source": [
    "Add Information Education/Grad rates in the Tri-State area\n",
    "\n",
    "The Northeast includes Maine, New Hampshire, Vermont, Massachusetts, Rhode Island, Connecticut, New York, New Jersey, and Pennsylvania."
   ]
  },
  {
   "cell_type": "markdown",
   "metadata": {},
   "source": [
    "## Problem Statement"
   ]
  },
  {
   "cell_type": "markdown",
   "metadata": {},
   "source": [
    "Predict which schools have high and which schools have low high school graduation rates. Identify which characteristics are the best indicator of high and low graduation rates so that school districts know where to focus resources when attempting to increase high school graduation rates."
   ]
  },
  {
   "cell_type": "markdown",
   "metadata": {},
   "source": [
    "# Import Libraries"
   ]
  },
  {
   "cell_type": "code",
   "execution_count": 1,
   "metadata": {
    "ExecuteTime": {
     "end_time": "2021-06-14T05:30:50.339629Z",
     "start_time": "2021-06-14T05:30:47.968027Z"
    }
   },
   "outputs": [],
   "source": [
    "import pandas as pd\n",
    "import matplotlib.pyplot as plt\n",
    "import matplotlib.ticker as mtick\n",
    "import seaborn as sns\n",
    "import numpy as np\n",
    "import scipy.stats as stats\n",
    "import statsmodels.api as sm\n",
    "# import xgboost as xgb\n",
    "import catboost\n",
    "import time\n",
    "import warnings\n",
    "warnings.filterwarnings('ignore')\n",
    "\n",
    "from sklearn.utils import class_weight\n",
    "from sklearn.metrics import accuracy_score, confusion_matrix, classification_report\n",
    "from catboost import Pool, sum_models\n",
    "from catboost import CatBoostClassifier\n",
    "from statsmodels.formula.api import ols\n",
    "from sklearn.feature_selection import RFE\n",
    "from sklearn.linear_model import LinearRegression\n",
    "from sklearn.linear_model import LogisticRegression\n",
    "from sklearn.metrics import mean_squared_error, r2_score, mean_absolute_error, balanced_accuracy_score\n",
    "from sklearn.model_selection import KFold, cross_val_score, StratifiedKFold\n",
    "from sklearn.model_selection import train_test_split\n",
    "from sklearn.model_selection import GridSearchCV\n",
    "from sklearn.model_selection import RandomizedSearchCV\n",
    "from sklearn.preprocessing import LabelEncoder,  OneHotEncoder, MinMaxScaler, StandardScaler \n",
    "from sklearn.tree import DecisionTreeRegressor\n",
    "from sklearn.ensemble import RandomForestRegressor, RandomForestClassifier\n",
    "from sklearn.ensemble import GradientBoostingClassifier\n",
    "from sklearn import metrics\n",
    "from sklearn.preprocessing import OneHotEncoder\n",
    "from sklearn.preprocessing import LabelEncoder\n",
    "from sklearn.impute import SimpleImputer, MissingIndicator\n",
    "from sklearn.compose import ColumnTransformer\n",
    "from sklearn.pipeline import FeatureUnion\n",
    "from sklearn.pipeline import Pipeline\n",
    "from scipy.stats import uniform, truncnorm, randint"
   ]
  },
  {
   "cell_type": "markdown",
   "metadata": {},
   "source": [
    "# Data Exploration and Prep"
   ]
  },
  {
   "cell_type": "markdown",
   "metadata": {},
   "source": [
    "## Data Load"
   ]
  },
  {
   "cell_type": "code",
   "execution_count": 2,
   "metadata": {
    "ExecuteTime": {
     "end_time": "2021-06-14T05:30:50.387239Z",
     "start_time": "2021-06-14T05:30:50.341427Z"
    }
   },
   "outputs": [],
   "source": [
    "#New York school and district data\n",
    "df_school_NY = pd.read_csv('data/EducationDataPortal_schools_NY.csv')\n",
    "df_district_NY = pd.read_csv('data/EducationDataPortal_districts_NY.csv')"
   ]
  },
  {
   "cell_type": "code",
   "execution_count": 3,
   "metadata": {
    "ExecuteTime": {
     "end_time": "2021-06-14T05:30:50.446257Z",
     "start_time": "2021-06-14T05:30:50.390392Z"
    }
   },
   "outputs": [],
   "source": [
    "#Pennsylvania school and district data \n",
    "df_school_PA = pd.read_csv('data/EducationDataPortal_schools_PA.csv')\n",
    "df_district_PA = pd.read_csv('data/EducationDataPortal_districts_PA.csv')"
   ]
  },
  {
   "cell_type": "code",
   "execution_count": 4,
   "metadata": {
    "ExecuteTime": {
     "end_time": "2021-06-14T05:30:50.502125Z",
     "start_time": "2021-06-14T05:30:50.449266Z"
    }
   },
   "outputs": [],
   "source": [
    "#New Jersey school and district data\n",
    "df_school_NJ = pd.read_csv('data/EducationDataPortal_schools_NJ.csv')\n",
    "df_district_NJ = pd.read_csv('data/EducationDataPortal_districts_NJ.csv')"
   ]
  },
  {
   "cell_type": "code",
   "execution_count": 5,
   "metadata": {
    "ExecuteTime": {
     "end_time": "2021-06-14T05:30:50.530677Z",
     "start_time": "2021-06-14T05:30:50.504006Z"
    }
   },
   "outputs": [],
   "source": [
    "#Maine school and district data\n",
    "df_school_ME = pd.read_csv('data/EducationDataPortal_schools_ME.csv')\n",
    "df_district_ME = pd.read_csv('data/EducationDataPortal_districts_ME.csv')"
   ]
  },
  {
   "cell_type": "code",
   "execution_count": 6,
   "metadata": {
    "ExecuteTime": {
     "end_time": "2021-06-14T05:30:50.626873Z",
     "start_time": "2021-06-14T05:30:50.606802Z"
    }
   },
   "outputs": [],
   "source": [
    "#Massachusetts school and district data\n",
    "df_school_MA = pd.read_csv('data/EducationDataPortal_schools_MA.csv')\n",
    "df_district_MA = pd.read_csv('data/EducationDataPortal_districts_MA.csv')"
   ]
  },
  {
   "cell_type": "code",
   "execution_count": 7,
   "metadata": {
    "ExecuteTime": {
     "end_time": "2021-06-14T05:30:50.626873Z",
     "start_time": "2021-06-14T05:30:50.606802Z"
    }
   },
   "outputs": [],
   "source": [
    "#Rhode Island school and district data\n",
    "df_school_RI = pd.read_csv('data/EducationDataPortal_schools_RI.csv')\n",
    "df_district_RI = pd.read_csv('data/EducationDataPortal_districts_RI.csv')"
   ]
  },
  {
   "cell_type": "code",
   "execution_count": 8,
   "metadata": {
    "ExecuteTime": {
     "end_time": "2021-06-14T05:30:50.626873Z",
     "start_time": "2021-06-14T05:30:50.606802Z"
    }
   },
   "outputs": [],
   "source": [
    "#Vermont school and district data\n",
    "df_school_VT = pd.read_csv('data/EducationDataPortal_schools_VT.csv')\n",
    "df_district_VT = pd.read_csv('data/EducationDataPortal_districts_VT.csv')"
   ]
  },
  {
   "cell_type": "code",
   "execution_count": 9,
   "metadata": {
    "ExecuteTime": {
     "end_time": "2021-06-14T05:30:50.626873Z",
     "start_time": "2021-06-14T05:30:50.606802Z"
    }
   },
   "outputs": [],
   "source": [
    "#Connecticut school and district data\n",
    "df_school_CT = pd.read_csv('data/EducationDataPortal_schools_CT.csv')\n",
    "df_district_CT = pd.read_csv('data/EducationDataPortal_districts_CT.csv')"
   ]
  },
  {
   "cell_type": "code",
   "execution_count": 10,
   "metadata": {
    "ExecuteTime": {
     "end_time": "2021-06-14T05:30:50.649079Z",
     "start_time": "2021-06-14T05:30:50.628665Z"
    }
   },
   "outputs": [],
   "source": [
    "#Connecticut school and district data\n",
    "df_school_NH = pd.read_csv('data/EducationDataPortal_schools_NH.csv')\n",
    "df_district_NH = pd.read_csv('data/EducationDataPortal_districts_NH.csv')"
   ]
  },
  {
   "cell_type": "markdown",
   "metadata": {},
   "source": [
    "## Functions"
   ]
  },
  {
   "cell_type": "code",
   "execution_count": 11,
   "metadata": {
    "ExecuteTime": {
     "end_time": "2021-06-14T05:30:50.653205Z",
     "start_time": "2021-06-14T05:30:50.650439Z"
    }
   },
   "outputs": [],
   "source": [
    "# Returns the percentage of values in a dataframe that are nulls\n",
    "def percent_null_df (df,str_name):\n",
    "    count_null = df.isnull().sum().sum()\n",
    "    count_non_null = df.count().sum()\n",
    "    return 'percent of nulls in '+ str_name +' is '+str(int((count_null/(count_null + count_non_null))*100))+'%'\n",
    "    "
   ]
  },
  {
   "cell_type": "markdown",
   "metadata": {},
   "source": [
    "## df_school"
   ]
  },
  {
   "cell_type": "code",
   "execution_count": 12,
   "metadata": {
    "ExecuteTime": {
     "end_time": "2021-06-14T05:30:50.680877Z",
     "start_time": "2021-06-14T05:30:50.654831Z"
    }
   },
   "outputs": [],
   "source": [
    "#Concatenate school info for all three states into one dataframe\n",
    "df_school = pd.concat([df_school_NY, df_school_PA, df_school_NJ,\n",
    "                       df_school_ME, df_school_MA,df_school_VT,\n",
    "                       df_school_CT,df_school_RI,df_school_NH])"
   ]
  },
  {
   "cell_type": "code",
   "execution_count": 13,
   "metadata": {
    "ExecuteTime": {
     "end_time": "2021-06-14T05:30:50.700237Z",
     "start_time": "2021-06-14T05:30:50.682793Z"
    },
    "scrolled": false
   },
   "outputs": [
    {
     "data": {
      "text/plain": [
       "Pennsylvania     0.262852\n",
       "New Jersey       0.222289\n",
       "Massachusetts    0.160974\n",
       "Connecticut      0.117421\n",
       "New York         0.087532\n",
       "Maine            0.052775\n",
       "New Hampshire    0.042015\n",
       "Vermont          0.027156\n",
       "Rhode Island     0.026985\n",
       "Name: state_name, dtype: float64"
      ]
     },
     "execution_count": 13,
     "metadata": {},
     "output_type": "execute_result"
    }
   ],
   "source": [
    "df_school['state_name'].value_counts(normalize=True, dropna=False)"
   ]
  },
  {
   "cell_type": "code",
   "execution_count": 14,
   "metadata": {
    "ExecuteTime": {
     "end_time": "2021-06-14T05:30:50.738502Z",
     "start_time": "2021-06-14T05:30:50.701987Z"
    },
    "scrolled": true
   },
   "outputs": [
    {
     "data": {
      "text/html": [
       "<div>\n",
       "<style scoped>\n",
       "    .dataframe tbody tr th:only-of-type {\n",
       "        vertical-align: middle;\n",
       "    }\n",
       "\n",
       "    .dataframe tbody tr th {\n",
       "        vertical-align: top;\n",
       "    }\n",
       "\n",
       "    .dataframe thead th {\n",
       "        text-align: right;\n",
       "    }\n",
       "</style>\n",
       "<table border=\"1\" class=\"dataframe\">\n",
       "  <thead>\n",
       "    <tr style=\"text-align: right;\">\n",
       "      <th></th>\n",
       "      <th>year</th>\n",
       "      <th>ncessch</th>\n",
       "      <th>school_name</th>\n",
       "      <th>state_name</th>\n",
       "      <th>lea_name</th>\n",
       "      <th>zip_location</th>\n",
       "      <th>urban_centric_locale</th>\n",
       "      <th>school_level</th>\n",
       "      <th>school_type</th>\n",
       "      <th>charter</th>\n",
       "      <th>...</th>\n",
       "      <th>enrl_algebra2</th>\n",
       "      <th>enrl_physics</th>\n",
       "      <th>enrl_geometry</th>\n",
       "      <th>instances_mech_restraint</th>\n",
       "      <th>instances_phys_restraint</th>\n",
       "      <th>instances_seclusion</th>\n",
       "      <th>students_mech_restraint</th>\n",
       "      <th>students_phys_restraint</th>\n",
       "      <th>students_seclusion</th>\n",
       "      <th>students_SAT_ACT</th>\n",
       "    </tr>\n",
       "  </thead>\n",
       "  <tbody>\n",
       "    <tr>\n",
       "      <th>0</th>\n",
       "      <td>2015</td>\n",
       "      <td>360000104498</td>\n",
       "      <td>JAMES A GREEN HIGH SCHOOL</td>\n",
       "      <td>New York</td>\n",
       "      <td>DOLGEVILLE CENTRAL SCHOOL DISTRICT</td>\n",
       "      <td>13329</td>\n",
       "      <td>Rural, distant</td>\n",
       "      <td>High</td>\n",
       "      <td>Regular school</td>\n",
       "      <td>No</td>\n",
       "      <td>...</td>\n",
       "      <td>28.0</td>\n",
       "      <td>10.0</td>\n",
       "      <td>58.0</td>\n",
       "      <td>0.0</td>\n",
       "      <td>0.0</td>\n",
       "      <td>0.0</td>\n",
       "      <td>0.0</td>\n",
       "      <td>0.0</td>\n",
       "      <td>0.0</td>\n",
       "      <td>27.0</td>\n",
       "    </tr>\n",
       "    <tr>\n",
       "      <th>1</th>\n",
       "      <td>2015</td>\n",
       "      <td>360000204500</td>\n",
       "      <td>SAUQUOIT VALLEY HIGH SCHOOL</td>\n",
       "      <td>New York</td>\n",
       "      <td>SAUQUOIT VALLEY CENTRAL SCHOOL DISTRICT</td>\n",
       "      <td>13456</td>\n",
       "      <td>Rural, fringe</td>\n",
       "      <td>High</td>\n",
       "      <td>Regular school</td>\n",
       "      <td>No</td>\n",
       "      <td>...</td>\n",
       "      <td>43.0</td>\n",
       "      <td>28.0</td>\n",
       "      <td>62.0</td>\n",
       "      <td>0.0</td>\n",
       "      <td>0.0</td>\n",
       "      <td>0.0</td>\n",
       "      <td>0.0</td>\n",
       "      <td>0.0</td>\n",
       "      <td>0.0</td>\n",
       "      <td>71.0</td>\n",
       "    </tr>\n",
       "    <tr>\n",
       "      <th>2</th>\n",
       "      <td>2015</td>\n",
       "      <td>360000304543</td>\n",
       "      <td>EDWARDS-KNOX JUNIOR-SENIOR HIGH SCHOOL</td>\n",
       "      <td>New York</td>\n",
       "      <td>EDWARDS-KNOX CENTRAL SCHOOL DISTRICT</td>\n",
       "      <td>13652</td>\n",
       "      <td>Rural, remote</td>\n",
       "      <td>High</td>\n",
       "      <td>Regular school</td>\n",
       "      <td>No</td>\n",
       "      <td>...</td>\n",
       "      <td>16.0</td>\n",
       "      <td>13.0</td>\n",
       "      <td>30.0</td>\n",
       "      <td>0.0</td>\n",
       "      <td>0.0</td>\n",
       "      <td>0.0</td>\n",
       "      <td>0.0</td>\n",
       "      <td>0.0</td>\n",
       "      <td>0.0</td>\n",
       "      <td>31.0</td>\n",
       "    </tr>\n",
       "    <tr>\n",
       "      <th>3</th>\n",
       "      <td>2015</td>\n",
       "      <td>360000404545</td>\n",
       "      <td>MOHONASEN SENIOR HIGH SCHOOL</td>\n",
       "      <td>New York</td>\n",
       "      <td>ROTTERDAM-MOHONASEN CENTRAL SCHOOL DISTRICT</td>\n",
       "      <td>12303</td>\n",
       "      <td>Suburb, large</td>\n",
       "      <td>High</td>\n",
       "      <td>Regular school</td>\n",
       "      <td>No</td>\n",
       "      <td>...</td>\n",
       "      <td>107.0</td>\n",
       "      <td>41.0</td>\n",
       "      <td>140.0</td>\n",
       "      <td>0.0</td>\n",
       "      <td>0.0</td>\n",
       "      <td>0.0</td>\n",
       "      <td>0.0</td>\n",
       "      <td>0.0</td>\n",
       "      <td>0.0</td>\n",
       "      <td>606.0</td>\n",
       "    </tr>\n",
       "    <tr>\n",
       "      <th>4</th>\n",
       "      <td>2015</td>\n",
       "      <td>360000500282</td>\n",
       "      <td>BROADALBIN-PERTH HIGH SCHOOL</td>\n",
       "      <td>New York</td>\n",
       "      <td>BROADALBIN-PERTH CENTRAL SCHOOL DISTRICT</td>\n",
       "      <td>12025</td>\n",
       "      <td>Rural, distant</td>\n",
       "      <td>High</td>\n",
       "      <td>Regular school</td>\n",
       "      <td>No</td>\n",
       "      <td>...</td>\n",
       "      <td>32.0</td>\n",
       "      <td>29.0</td>\n",
       "      <td>73.0</td>\n",
       "      <td>0.0</td>\n",
       "      <td>0.0</td>\n",
       "      <td>0.0</td>\n",
       "      <td>0.0</td>\n",
       "      <td>0.0</td>\n",
       "      <td>0.0</td>\n",
       "      <td>54.0</td>\n",
       "    </tr>\n",
       "    <tr>\n",
       "      <th>...</th>\n",
       "      <td>...</td>\n",
       "      <td>...</td>\n",
       "      <td>...</td>\n",
       "      <td>...</td>\n",
       "      <td>...</td>\n",
       "      <td>...</td>\n",
       "      <td>...</td>\n",
       "      <td>...</td>\n",
       "      <td>...</td>\n",
       "      <td>...</td>\n",
       "      <td>...</td>\n",
       "      <td>...</td>\n",
       "      <td>...</td>\n",
       "      <td>...</td>\n",
       "      <td>...</td>\n",
       "      <td>...</td>\n",
       "      <td>...</td>\n",
       "      <td>...</td>\n",
       "      <td>...</td>\n",
       "      <td>...</td>\n",
       "      <td>...</td>\n",
       "    </tr>\n",
       "    <tr>\n",
       "      <th>487</th>\n",
       "      <td>2015</td>\n",
       "      <td>330730000466</td>\n",
       "      <td>Winnisquam Regional Middle School</td>\n",
       "      <td>New Hampshire</td>\n",
       "      <td>Winnisquam Regional School District</td>\n",
       "      <td>3276</td>\n",
       "      <td>Town, distant</td>\n",
       "      <td>Middle</td>\n",
       "      <td>Regular school</td>\n",
       "      <td>No</td>\n",
       "      <td>...</td>\n",
       "      <td>NaN</td>\n",
       "      <td>NaN</td>\n",
       "      <td>NaN</td>\n",
       "      <td>0.0</td>\n",
       "      <td>0.0</td>\n",
       "      <td>0.0</td>\n",
       "      <td>0.0</td>\n",
       "      <td>0.0</td>\n",
       "      <td>0.0</td>\n",
       "      <td>0.0</td>\n",
       "    </tr>\n",
       "    <tr>\n",
       "      <th>488</th>\n",
       "      <td>2015</td>\n",
       "      <td>330730000467</td>\n",
       "      <td>Union Sanborn School</td>\n",
       "      <td>New Hampshire</td>\n",
       "      <td>Winnisquam Regional School District</td>\n",
       "      <td>3276</td>\n",
       "      <td>Town, distant</td>\n",
       "      <td>Primary</td>\n",
       "      <td>Regular school</td>\n",
       "      <td>No</td>\n",
       "      <td>...</td>\n",
       "      <td>NaN</td>\n",
       "      <td>NaN</td>\n",
       "      <td>NaN</td>\n",
       "      <td>0.0</td>\n",
       "      <td>1.0</td>\n",
       "      <td>0.0</td>\n",
       "      <td>0.0</td>\n",
       "      <td>2.0</td>\n",
       "      <td>0.0</td>\n",
       "      <td>0.0</td>\n",
       "    </tr>\n",
       "    <tr>\n",
       "      <th>489</th>\n",
       "      <td>2015</td>\n",
       "      <td>330733000519</td>\n",
       "      <td>Coe-Brown Northwood Academy</td>\n",
       "      <td>New Hampshire</td>\n",
       "      <td>Coe Brown Academy School District</td>\n",
       "      <td>3261</td>\n",
       "      <td>Rural, distant</td>\n",
       "      <td>High</td>\n",
       "      <td>Regular school</td>\n",
       "      <td>No</td>\n",
       "      <td>...</td>\n",
       "      <td>111.0</td>\n",
       "      <td>33.0</td>\n",
       "      <td>99.0</td>\n",
       "      <td>0.0</td>\n",
       "      <td>0.0</td>\n",
       "      <td>0.0</td>\n",
       "      <td>0.0</td>\n",
       "      <td>0.0</td>\n",
       "      <td>0.0</td>\n",
       "      <td>174.0</td>\n",
       "    </tr>\n",
       "    <tr>\n",
       "      <th>490</th>\n",
       "      <td>2015</td>\n",
       "      <td>330736000510</td>\n",
       "      <td>Pinkerton Academy</td>\n",
       "      <td>New Hampshire</td>\n",
       "      <td>Pinkerton Academy School District</td>\n",
       "      <td>3038</td>\n",
       "      <td>Suburb, midsize</td>\n",
       "      <td>High</td>\n",
       "      <td>Regular school</td>\n",
       "      <td>No</td>\n",
       "      <td>...</td>\n",
       "      <td>699.0</td>\n",
       "      <td>1194.0</td>\n",
       "      <td>834.0</td>\n",
       "      <td>0.0</td>\n",
       "      <td>0.0</td>\n",
       "      <td>0.0</td>\n",
       "      <td>0.0</td>\n",
       "      <td>0.0</td>\n",
       "      <td>0.0</td>\n",
       "      <td>798.0</td>\n",
       "    </tr>\n",
       "    <tr>\n",
       "      <th>491</th>\n",
       "      <td>2015</td>\n",
       "      <td>339996500369</td>\n",
       "      <td>Plymouth Regional High School</td>\n",
       "      <td>New Hampshire</td>\n",
       "      <td>Pemi-baker Regional School District</td>\n",
       "      <td>3264</td>\n",
       "      <td>Rural, fringe</td>\n",
       "      <td>High</td>\n",
       "      <td>Regular school</td>\n",
       "      <td>No</td>\n",
       "      <td>...</td>\n",
       "      <td>193.0</td>\n",
       "      <td>239.0</td>\n",
       "      <td>170.0</td>\n",
       "      <td>0.0</td>\n",
       "      <td>5.0</td>\n",
       "      <td>0.0</td>\n",
       "      <td>0.0</td>\n",
       "      <td>2.0</td>\n",
       "      <td>0.0</td>\n",
       "      <td>291.0</td>\n",
       "    </tr>\n",
       "  </tbody>\n",
       "</table>\n",
       "<p>11710 rows × 64 columns</p>\n",
       "</div>"
      ],
      "text/plain": [
       "     year       ncessch                             school_name  \\\n",
       "0    2015  360000104498               JAMES A GREEN HIGH SCHOOL   \n",
       "1    2015  360000204500             SAUQUOIT VALLEY HIGH SCHOOL   \n",
       "2    2015  360000304543  EDWARDS-KNOX JUNIOR-SENIOR HIGH SCHOOL   \n",
       "3    2015  360000404545            MOHONASEN SENIOR HIGH SCHOOL   \n",
       "4    2015  360000500282            BROADALBIN-PERTH HIGH SCHOOL   \n",
       "..    ...           ...                                     ...   \n",
       "487  2015  330730000466       Winnisquam Regional Middle School   \n",
       "488  2015  330730000467                    Union Sanborn School   \n",
       "489  2015  330733000519             Coe-Brown Northwood Academy   \n",
       "490  2015  330736000510                       Pinkerton Academy   \n",
       "491  2015  339996500369           Plymouth Regional High School   \n",
       "\n",
       "        state_name                                     lea_name  zip_location  \\\n",
       "0         New York           DOLGEVILLE CENTRAL SCHOOL DISTRICT         13329   \n",
       "1         New York      SAUQUOIT VALLEY CENTRAL SCHOOL DISTRICT         13456   \n",
       "2         New York         EDWARDS-KNOX CENTRAL SCHOOL DISTRICT         13652   \n",
       "3         New York  ROTTERDAM-MOHONASEN CENTRAL SCHOOL DISTRICT         12303   \n",
       "4         New York     BROADALBIN-PERTH CENTRAL SCHOOL DISTRICT         12025   \n",
       "..             ...                                          ...           ...   \n",
       "487  New Hampshire          Winnisquam Regional School District          3276   \n",
       "488  New Hampshire          Winnisquam Regional School District          3276   \n",
       "489  New Hampshire            Coe Brown Academy School District          3261   \n",
       "490  New Hampshire            Pinkerton Academy School District          3038   \n",
       "491  New Hampshire          Pemi-baker Regional School District          3264   \n",
       "\n",
       "    urban_centric_locale school_level     school_type charter  ...  \\\n",
       "0         Rural, distant         High  Regular school      No  ...   \n",
       "1          Rural, fringe         High  Regular school      No  ...   \n",
       "2          Rural, remote         High  Regular school      No  ...   \n",
       "3          Suburb, large         High  Regular school      No  ...   \n",
       "4         Rural, distant         High  Regular school      No  ...   \n",
       "..                   ...          ...             ...     ...  ...   \n",
       "487        Town, distant       Middle  Regular school      No  ...   \n",
       "488        Town, distant      Primary  Regular school      No  ...   \n",
       "489       Rural, distant         High  Regular school      No  ...   \n",
       "490      Suburb, midsize         High  Regular school      No  ...   \n",
       "491        Rural, fringe         High  Regular school      No  ...   \n",
       "\n",
       "    enrl_algebra2  enrl_physics enrl_geometry instances_mech_restraint  \\\n",
       "0            28.0          10.0          58.0                      0.0   \n",
       "1            43.0          28.0          62.0                      0.0   \n",
       "2            16.0          13.0          30.0                      0.0   \n",
       "3           107.0          41.0         140.0                      0.0   \n",
       "4            32.0          29.0          73.0                      0.0   \n",
       "..            ...           ...           ...                      ...   \n",
       "487           NaN           NaN           NaN                      0.0   \n",
       "488           NaN           NaN           NaN                      0.0   \n",
       "489         111.0          33.0          99.0                      0.0   \n",
       "490         699.0        1194.0         834.0                      0.0   \n",
       "491         193.0         239.0         170.0                      0.0   \n",
       "\n",
       "    instances_phys_restraint  instances_seclusion students_mech_restraint  \\\n",
       "0                        0.0                  0.0                     0.0   \n",
       "1                        0.0                  0.0                     0.0   \n",
       "2                        0.0                  0.0                     0.0   \n",
       "3                        0.0                  0.0                     0.0   \n",
       "4                        0.0                  0.0                     0.0   \n",
       "..                       ...                  ...                     ...   \n",
       "487                      0.0                  0.0                     0.0   \n",
       "488                      1.0                  0.0                     0.0   \n",
       "489                      0.0                  0.0                     0.0   \n",
       "490                      0.0                  0.0                     0.0   \n",
       "491                      5.0                  0.0                     0.0   \n",
       "\n",
       "    students_phys_restraint students_seclusion students_SAT_ACT  \n",
       "0                       0.0                0.0             27.0  \n",
       "1                       0.0                0.0             71.0  \n",
       "2                       0.0                0.0             31.0  \n",
       "3                       0.0                0.0            606.0  \n",
       "4                       0.0                0.0             54.0  \n",
       "..                      ...                ...              ...  \n",
       "487                     0.0                0.0              0.0  \n",
       "488                     2.0                0.0              0.0  \n",
       "489                     0.0                0.0            174.0  \n",
       "490                     0.0                0.0            798.0  \n",
       "491                     2.0                0.0            291.0  \n",
       "\n",
       "[11710 rows x 64 columns]"
      ]
     },
     "execution_count": 14,
     "metadata": {},
     "output_type": "execute_result"
    }
   ],
   "source": [
    "df_school"
   ]
  },
  {
   "cell_type": "markdown",
   "metadata": {},
   "source": [
    "### Data Fields"
   ]
  },
  {
   "cell_type": "code",
   "execution_count": 15,
   "metadata": {
    "ExecuteTime": {
     "end_time": "2021-06-14T05:30:50.759847Z",
     "start_time": "2021-06-14T05:30:50.740293Z"
    },
    "scrolled": true
   },
   "outputs": [
    {
     "data": {
      "text/html": [
       "<div>\n",
       "<style scoped>\n",
       "    .dataframe tbody tr th:only-of-type {\n",
       "        vertical-align: middle;\n",
       "    }\n",
       "\n",
       "    .dataframe tbody tr th {\n",
       "        vertical-align: top;\n",
       "    }\n",
       "\n",
       "    .dataframe thead th {\n",
       "        text-align: right;\n",
       "    }\n",
       "</style>\n",
       "<table border=\"1\" class=\"dataframe\">\n",
       "  <thead>\n",
       "    <tr style=\"text-align: right;\">\n",
       "      <th></th>\n",
       "      <th>year</th>\n",
       "      <th>ncessch</th>\n",
       "      <th>school_name</th>\n",
       "      <th>state_name</th>\n",
       "      <th>lea_name</th>\n",
       "      <th>zip_location</th>\n",
       "      <th>urban_centric_locale</th>\n",
       "      <th>school_level</th>\n",
       "      <th>school_type</th>\n",
       "      <th>charter</th>\n",
       "      <th>...</th>\n",
       "      <th>enrl_algebra2</th>\n",
       "      <th>enrl_physics</th>\n",
       "      <th>enrl_geometry</th>\n",
       "      <th>instances_mech_restraint</th>\n",
       "      <th>instances_phys_restraint</th>\n",
       "      <th>instances_seclusion</th>\n",
       "      <th>students_mech_restraint</th>\n",
       "      <th>students_phys_restraint</th>\n",
       "      <th>students_seclusion</th>\n",
       "      <th>students_SAT_ACT</th>\n",
       "    </tr>\n",
       "  </thead>\n",
       "  <tbody>\n",
       "    <tr>\n",
       "      <th>0</th>\n",
       "      <td>2015</td>\n",
       "      <td>360000104498</td>\n",
       "      <td>JAMES A GREEN HIGH SCHOOL</td>\n",
       "      <td>New York</td>\n",
       "      <td>DOLGEVILLE CENTRAL SCHOOL DISTRICT</td>\n",
       "      <td>13329</td>\n",
       "      <td>Rural, distant</td>\n",
       "      <td>High</td>\n",
       "      <td>Regular school</td>\n",
       "      <td>No</td>\n",
       "      <td>...</td>\n",
       "      <td>28.0</td>\n",
       "      <td>10.0</td>\n",
       "      <td>58.0</td>\n",
       "      <td>0.0</td>\n",
       "      <td>0.0</td>\n",
       "      <td>0.0</td>\n",
       "      <td>0.0</td>\n",
       "      <td>0.0</td>\n",
       "      <td>0.0</td>\n",
       "      <td>27.0</td>\n",
       "    </tr>\n",
       "    <tr>\n",
       "      <th>1</th>\n",
       "      <td>2015</td>\n",
       "      <td>360000204500</td>\n",
       "      <td>SAUQUOIT VALLEY HIGH SCHOOL</td>\n",
       "      <td>New York</td>\n",
       "      <td>SAUQUOIT VALLEY CENTRAL SCHOOL DISTRICT</td>\n",
       "      <td>13456</td>\n",
       "      <td>Rural, fringe</td>\n",
       "      <td>High</td>\n",
       "      <td>Regular school</td>\n",
       "      <td>No</td>\n",
       "      <td>...</td>\n",
       "      <td>43.0</td>\n",
       "      <td>28.0</td>\n",
       "      <td>62.0</td>\n",
       "      <td>0.0</td>\n",
       "      <td>0.0</td>\n",
       "      <td>0.0</td>\n",
       "      <td>0.0</td>\n",
       "      <td>0.0</td>\n",
       "      <td>0.0</td>\n",
       "      <td>71.0</td>\n",
       "    </tr>\n",
       "    <tr>\n",
       "      <th>2</th>\n",
       "      <td>2015</td>\n",
       "      <td>360000304543</td>\n",
       "      <td>EDWARDS-KNOX JUNIOR-SENIOR HIGH SCHOOL</td>\n",
       "      <td>New York</td>\n",
       "      <td>EDWARDS-KNOX CENTRAL SCHOOL DISTRICT</td>\n",
       "      <td>13652</td>\n",
       "      <td>Rural, remote</td>\n",
       "      <td>High</td>\n",
       "      <td>Regular school</td>\n",
       "      <td>No</td>\n",
       "      <td>...</td>\n",
       "      <td>16.0</td>\n",
       "      <td>13.0</td>\n",
       "      <td>30.0</td>\n",
       "      <td>0.0</td>\n",
       "      <td>0.0</td>\n",
       "      <td>0.0</td>\n",
       "      <td>0.0</td>\n",
       "      <td>0.0</td>\n",
       "      <td>0.0</td>\n",
       "      <td>31.0</td>\n",
       "    </tr>\n",
       "    <tr>\n",
       "      <th>3</th>\n",
       "      <td>2015</td>\n",
       "      <td>360000404545</td>\n",
       "      <td>MOHONASEN SENIOR HIGH SCHOOL</td>\n",
       "      <td>New York</td>\n",
       "      <td>ROTTERDAM-MOHONASEN CENTRAL SCHOOL DISTRICT</td>\n",
       "      <td>12303</td>\n",
       "      <td>Suburb, large</td>\n",
       "      <td>High</td>\n",
       "      <td>Regular school</td>\n",
       "      <td>No</td>\n",
       "      <td>...</td>\n",
       "      <td>107.0</td>\n",
       "      <td>41.0</td>\n",
       "      <td>140.0</td>\n",
       "      <td>0.0</td>\n",
       "      <td>0.0</td>\n",
       "      <td>0.0</td>\n",
       "      <td>0.0</td>\n",
       "      <td>0.0</td>\n",
       "      <td>0.0</td>\n",
       "      <td>606.0</td>\n",
       "    </tr>\n",
       "    <tr>\n",
       "      <th>4</th>\n",
       "      <td>2015</td>\n",
       "      <td>360000500282</td>\n",
       "      <td>BROADALBIN-PERTH HIGH SCHOOL</td>\n",
       "      <td>New York</td>\n",
       "      <td>BROADALBIN-PERTH CENTRAL SCHOOL DISTRICT</td>\n",
       "      <td>12025</td>\n",
       "      <td>Rural, distant</td>\n",
       "      <td>High</td>\n",
       "      <td>Regular school</td>\n",
       "      <td>No</td>\n",
       "      <td>...</td>\n",
       "      <td>32.0</td>\n",
       "      <td>29.0</td>\n",
       "      <td>73.0</td>\n",
       "      <td>0.0</td>\n",
       "      <td>0.0</td>\n",
       "      <td>0.0</td>\n",
       "      <td>0.0</td>\n",
       "      <td>0.0</td>\n",
       "      <td>0.0</td>\n",
       "      <td>54.0</td>\n",
       "    </tr>\n",
       "  </tbody>\n",
       "</table>\n",
       "<p>5 rows × 64 columns</p>\n",
       "</div>"
      ],
      "text/plain": [
       "   year       ncessch                             school_name state_name  \\\n",
       "0  2015  360000104498               JAMES A GREEN HIGH SCHOOL   New York   \n",
       "1  2015  360000204500             SAUQUOIT VALLEY HIGH SCHOOL   New York   \n",
       "2  2015  360000304543  EDWARDS-KNOX JUNIOR-SENIOR HIGH SCHOOL   New York   \n",
       "3  2015  360000404545            MOHONASEN SENIOR HIGH SCHOOL   New York   \n",
       "4  2015  360000500282            BROADALBIN-PERTH HIGH SCHOOL   New York   \n",
       "\n",
       "                                      lea_name  zip_location  \\\n",
       "0           DOLGEVILLE CENTRAL SCHOOL DISTRICT         13329   \n",
       "1      SAUQUOIT VALLEY CENTRAL SCHOOL DISTRICT         13456   \n",
       "2         EDWARDS-KNOX CENTRAL SCHOOL DISTRICT         13652   \n",
       "3  ROTTERDAM-MOHONASEN CENTRAL SCHOOL DISTRICT         12303   \n",
       "4     BROADALBIN-PERTH CENTRAL SCHOOL DISTRICT         12025   \n",
       "\n",
       "  urban_centric_locale school_level     school_type charter  ...  \\\n",
       "0       Rural, distant         High  Regular school      No  ...   \n",
       "1        Rural, fringe         High  Regular school      No  ...   \n",
       "2        Rural, remote         High  Regular school      No  ...   \n",
       "3        Suburb, large         High  Regular school      No  ...   \n",
       "4       Rural, distant         High  Regular school      No  ...   \n",
       "\n",
       "  enrl_algebra2  enrl_physics enrl_geometry instances_mech_restraint  \\\n",
       "0          28.0          10.0          58.0                      0.0   \n",
       "1          43.0          28.0          62.0                      0.0   \n",
       "2          16.0          13.0          30.0                      0.0   \n",
       "3         107.0          41.0         140.0                      0.0   \n",
       "4          32.0          29.0          73.0                      0.0   \n",
       "\n",
       "  instances_phys_restraint  instances_seclusion students_mech_restraint  \\\n",
       "0                      0.0                  0.0                     0.0   \n",
       "1                      0.0                  0.0                     0.0   \n",
       "2                      0.0                  0.0                     0.0   \n",
       "3                      0.0                  0.0                     0.0   \n",
       "4                      0.0                  0.0                     0.0   \n",
       "\n",
       "  students_phys_restraint students_seclusion students_SAT_ACT  \n",
       "0                     0.0                0.0             27.0  \n",
       "1                     0.0                0.0             71.0  \n",
       "2                     0.0                0.0             31.0  \n",
       "3                     0.0                0.0            606.0  \n",
       "4                     0.0                0.0             54.0  \n",
       "\n",
       "[5 rows x 64 columns]"
      ]
     },
     "execution_count": 15,
     "metadata": {},
     "output_type": "execute_result"
    }
   ],
   "source": [
    "df_school.head()"
   ]
  },
  {
   "cell_type": "code",
   "execution_count": 16,
   "metadata": {
    "ExecuteTime": {
     "end_time": "2021-06-14T05:30:50.793406Z",
     "start_time": "2021-06-14T05:30:50.761263Z"
    },
    "scrolled": true
   },
   "outputs": [
    {
     "name": "stdout",
     "output_type": "stream",
     "text": [
      "<class 'pandas.core.frame.DataFrame'>\n",
      "Int64Index: 11710 entries, 0 to 491\n",
      "Data columns (total 64 columns):\n",
      " #   Column                           Non-Null Count  Dtype  \n",
      "---  ------                           --------------  -----  \n",
      " 0   year                             11710 non-null  int64  \n",
      " 1   ncessch                          11710 non-null  int64  \n",
      " 2   school_name                      11710 non-null  object \n",
      " 3   state_name                       11710 non-null  object \n",
      " 4   lea_name                         11710 non-null  object \n",
      " 5   zip_location                     11710 non-null  int64  \n",
      " 6   urban_centric_locale             11607 non-null  object \n",
      " 7   school_level                     11710 non-null  object \n",
      " 8   school_type                      11710 non-null  object \n",
      " 9   charter                          11710 non-null  object \n",
      " 10  enrollment                       11531 non-null  object \n",
      " 11  read_test_num_valid              10375 non-null  float64\n",
      " 12  read_test_pct_prof_low           10375 non-null  object \n",
      " 13  read_test_pct_prof_high          10375 non-null  object \n",
      " 14  read_test_pct_prof_midpt         10375 non-null  object \n",
      " 15  math_test_num_valid              10379 non-null  float64\n",
      " 16  math_test_pct_prof_low           10379 non-null  object \n",
      " 17  math_test_pct_prof_high          10379 non-null  object \n",
      " 18  math_test_pct_prof_midpt         10379 non-null  object \n",
      " 19  students_susp_in_sch             11255 non-null  object \n",
      " 20  students_susp_out_sch_single     11255 non-null  object \n",
      " 21  students_susp_out_sch_multiple   11255 non-null  object \n",
      " 22  expulsions_no_ed_serv            11255 non-null  object \n",
      " 23  expulsions_with_ed_serv          11255 non-null  object \n",
      " 24  expulsions_zero_tolerance        11255 non-null  object \n",
      " 25  students_corporal_punish         11255 non-null  object \n",
      " 26  students_arrested                11255 non-null  object \n",
      " 27  students_referred_law_enforce    11255 non-null  object \n",
      " 28  transfers_alt_sch_disc           11255 non-null  float64\n",
      " 29  days_suspended                   10859 non-null  float64\n",
      " 30  suspensions_instances_preschool  10859 non-null  float64\n",
      " 31  suspensions_instances            10859 non-null  float64\n",
      " 32  corpinstances_preschool          10859 non-null  float64\n",
      " 33  corpinstances                    10859 non-null  float64\n",
      " 34  salaries_teachers                10859 non-null  object \n",
      " 35  cohort_num                       3029 non-null   float64\n",
      " 36  grad_rate_high                   3029 non-null   object \n",
      " 37  grad_rate_low                    3029 non-null   object \n",
      " 38  grad_rate_midpt                  3029 non-null   object \n",
      " 39  allegations_harass_sex           11255 non-null  object \n",
      " 40  allegations_harass_race          11255 non-null  object \n",
      " 41  allegations_harass_disability    11255 non-null  object \n",
      " 42  allegations_harass_orientation   11255 non-null  object \n",
      " 43  allegations_harass_religion      11255 non-null  object \n",
      " 44  students_disc_harass_dis         11255 non-null  float64\n",
      " 45  students_disc_harass_race        11255 non-null  float64\n",
      " 46  students_disc_harass_sex         11255 non-null  float64\n",
      " 47  students_report_harass_dis       11255 non-null  float64\n",
      " 48  students_report_harass_race      11255 non-null  float64\n",
      " 49  students_report_harass_sex       11255 non-null  float64\n",
      " 50  enrl_biology                     2764 non-null   float64\n",
      " 51  enrl_chemistry                   2617 non-null   float64\n",
      " 52  enrl_advanced_math               2377 non-null   float64\n",
      " 53  enrl_calculus                    2221 non-null   float64\n",
      " 54  enrl_algebra2                    2688 non-null   float64\n",
      " 55  enrl_physics                     2387 non-null   float64\n",
      " 56  enrl_geometry                    2740 non-null   float64\n",
      " 57  instances_mech_restraint         10493 non-null  float64\n",
      " 58  instances_phys_restraint         10884 non-null  float64\n",
      " 59  instances_seclusion              10884 non-null  float64\n",
      " 60  students_mech_restraint          10494 non-null  float64\n",
      " 61  students_phys_restraint          10829 non-null  float64\n",
      " 62  students_seclusion               10885 non-null  float64\n",
      " 63  students_SAT_ACT                 11255 non-null  float64\n",
      "dtypes: float64(29), int64(3), object(32)\n",
      "memory usage: 5.8+ MB\n"
     ]
    }
   ],
   "source": [
    "df_school.info()"
   ]
  },
  {
   "cell_type": "code",
   "execution_count": 17,
   "metadata": {
    "ExecuteTime": {
     "end_time": "2021-06-14T05:30:50.797707Z",
     "start_time": "2021-06-14T05:30:50.795143Z"
    },
    "scrolled": false
   },
   "outputs": [
    {
     "data": {
      "text/plain": [
       "(11710, 64)"
      ]
     },
     "execution_count": 17,
     "metadata": {},
     "output_type": "execute_result"
    }
   ],
   "source": [
    "df_school.shape"
   ]
  },
  {
   "cell_type": "code",
   "execution_count": 18,
   "metadata": {
    "ExecuteTime": {
     "end_time": "2021-06-14T05:30:50.802081Z",
     "start_time": "2021-06-14T05:30:50.799338Z"
    }
   },
   "outputs": [
    {
     "data": {
      "text/plain": [
       "(3078, 64)"
      ]
     },
     "execution_count": 18,
     "metadata": {},
     "output_type": "execute_result"
    }
   ],
   "source": [
    "df_school_PA.shape"
   ]
  },
  {
   "cell_type": "code",
   "execution_count": 19,
   "metadata": {
    "ExecuteTime": {
     "end_time": "2021-06-14T05:30:50.806363Z",
     "start_time": "2021-06-14T05:30:50.803383Z"
    }
   },
   "outputs": [
    {
     "data": {
      "text/plain": [
       "1015.74"
      ]
     },
     "execution_count": 19,
     "metadata": {},
     "output_type": "execute_result"
    }
   ],
   "source": [
    "3078*.33"
   ]
  },
  {
   "cell_type": "code",
   "execution_count": 20,
   "metadata": {
    "ExecuteTime": {
     "end_time": "2021-06-14T05:30:50.813255Z",
     "start_time": "2021-06-14T05:30:50.807810Z"
    },
    "scrolled": true
   },
   "outputs": [
    {
     "data": {
      "text/plain": [
       "NaN                0.778428\n",
       "92                 0.045159\n",
       "97                 0.044185\n",
       "87                 0.022092\n",
       "95                 0.019168\n",
       "96                 0.008447\n",
       "82                 0.007472\n",
       "84                 0.006173\n",
       "93                 0.005848\n",
       "91                 0.005198\n",
       "99                 0.005198\n",
       "94                 0.005198\n",
       "90                 0.004224\n",
       "98                 0.003899\n",
       "77                 0.003249\n",
       "75                 0.002274\n",
       "85                 0.001949\n",
       "71                 0.001949\n",
       "88                 0.001949\n",
       "67                 0.001624\n",
       "89                 0.001624\n",
       "86                 0.001624\n",
       "57                 0.001300\n",
       "Suppressed data    0.001300\n",
       "24                 0.001300\n",
       "52                 0.001300\n",
       "62                 0.001300\n",
       "72                 0.001300\n",
       "2                  0.001300\n",
       "44                 0.001300\n",
       "69                 0.000975\n",
       "66                 0.000650\n",
       "56                 0.000650\n",
       "83                 0.000650\n",
       "42                 0.000650\n",
       "68                 0.000650\n",
       "64                 0.000650\n",
       "79                 0.000650\n",
       "74                 0.000650\n",
       "65                 0.000325\n",
       "81                 0.000325\n",
       "51                 0.000325\n",
       "70                 0.000325\n",
       "76                 0.000325\n",
       "41                 0.000325\n",
       "63                 0.000325\n",
       "10                 0.000325\n",
       "15                 0.000325\n",
       "47                 0.000325\n",
       "59                 0.000325\n",
       "48                 0.000325\n",
       "53                 0.000325\n",
       "46                 0.000325\n",
       "78                 0.000325\n",
       "54                 0.000325\n",
       "17                 0.000325\n",
       "55                 0.000325\n",
       "49                 0.000325\n",
       "34                 0.000325\n",
       "Name: grad_rate_midpt, dtype: float64"
      ]
     },
     "execution_count": 20,
     "metadata": {},
     "output_type": "execute_result"
    }
   ],
   "source": [
    "df_school_PA['grad_rate_midpt'].value_counts(normalize=True,dropna=False)"
   ]
  },
  {
   "cell_type": "code",
   "execution_count": 21,
   "metadata": {
    "ExecuteTime": {
     "end_time": "2021-06-14T05:30:50.818423Z",
     "start_time": "2021-06-14T05:30:50.814654Z"
    },
    "scrolled": true
   },
   "outputs": [
    {
     "data": {
      "text/plain": [
       "(2603, 64)"
      ]
     },
     "execution_count": 21,
     "metadata": {},
     "output_type": "execute_result"
    }
   ],
   "source": [
    "df_school_NJ.shape"
   ]
  },
  {
   "cell_type": "code",
   "execution_count": 22,
   "metadata": {
    "ExecuteTime": {
     "end_time": "2021-06-14T05:30:50.823009Z",
     "start_time": "2021-06-14T05:30:50.819924Z"
    }
   },
   "outputs": [
    {
     "data": {
      "text/plain": [
       "416.4800000000001"
      ]
     },
     "execution_count": 22,
     "metadata": {},
     "output_type": "execute_result"
    }
   ],
   "source": [
    "2603*(1-.84)"
   ]
  },
  {
   "cell_type": "code",
   "execution_count": 23,
   "metadata": {
    "ExecuteTime": {
     "end_time": "2021-06-14T05:30:50.833711Z",
     "start_time": "2021-06-14T05:30:50.828423Z"
    }
   },
   "outputs": [
    {
     "data": {
      "text/plain": [
       "NaN     0.839800\n",
       "97.0    0.036881\n",
       "92.0    0.019209\n",
       "95.0    0.013446\n",
       "87.0    0.012678\n",
       "96.0    0.009220\n",
       "98.0    0.008452\n",
       "94.0    0.006147\n",
       "91.0    0.005763\n",
       "90.0    0.005378\n",
       "82.0    0.003458\n",
       "99.0    0.003458\n",
       "93.0    0.003458\n",
       "77.0    0.003073\n",
       "72.0    0.003073\n",
       "89.0    0.002305\n",
       "84.0    0.002305\n",
       "85.0    0.001921\n",
       "75.0    0.001921\n",
       "24.0    0.001153\n",
       "78.0    0.001153\n",
       "88.0    0.001153\n",
       "83.0    0.001153\n",
       "79.0    0.001153\n",
       "86.0    0.001153\n",
       "74.0    0.001153\n",
       "81.0    0.001153\n",
       "67.0    0.000768\n",
       "71.0    0.000768\n",
       "69.0    0.000768\n",
       "80.0    0.000768\n",
       "64.0    0.000768\n",
       "62.0    0.000384\n",
       "60.0    0.000384\n",
       "2.0     0.000384\n",
       "61.0    0.000384\n",
       "54.0    0.000384\n",
       "66.0    0.000384\n",
       "51.0    0.000384\n",
       "70.0    0.000384\n",
       "76.0    0.000384\n",
       "65.0    0.000384\n",
       "41.0    0.000384\n",
       "27.0    0.000384\n",
       "73.0    0.000384\n",
       "Name: grad_rate_midpt, dtype: float64"
      ]
     },
     "execution_count": 23,
     "metadata": {},
     "output_type": "execute_result"
    }
   ],
   "source": [
    "df_school_NJ['grad_rate_midpt'].value_counts(normalize=True,dropna=False)"
   ]
  },
  {
   "cell_type": "markdown",
   "metadata": {},
   "source": [
    "#### Data Field Cleanup"
   ]
  },
  {
   "cell_type": "code",
   "execution_count": 24,
   "metadata": {
    "ExecuteTime": {
     "end_time": "2021-06-14T05:30:50.839349Z",
     "start_time": "2021-06-14T05:30:50.837468Z"
    }
   },
   "outputs": [],
   "source": [
    "column_names = list(df_school.columns)"
   ]
  },
  {
   "cell_type": "code",
   "execution_count": 25,
   "metadata": {
    "ExecuteTime": {
     "end_time": "2021-06-14T05:30:50.842962Z",
     "start_time": "2021-06-14T05:30:50.840695Z"
    }
   },
   "outputs": [],
   "source": [
    "categorical = ['year','ncessch','school_name','state_name','lea_name','zip_location',\n",
    "               'urban_centric_locale','school_level','school_type','charter',\n",
    "               'corpinstances_preschool']\n"
   ]
  },
  {
   "cell_type": "code",
   "execution_count": 26,
   "metadata": {
    "ExecuteTime": {
     "end_time": "2021-06-14T05:30:50.846646Z",
     "start_time": "2021-06-14T05:30:50.844444Z"
    }
   },
   "outputs": [],
   "source": [
    "#use for loop if statement to create numerical list is more intuitive\n",
    "for ele in categorical:\n",
    "    try:\n",
    "        column_names.remove(ele)\n",
    "    except ValueError:\n",
    "        pass"
   ]
  },
  {
   "cell_type": "code",
   "execution_count": 27,
   "metadata": {
    "ExecuteTime": {
     "end_time": "2021-06-14T05:30:50.850240Z",
     "start_time": "2021-06-14T05:30:50.848203Z"
    }
   },
   "outputs": [],
   "source": [
    "numerical = column_names"
   ]
  },
  {
   "cell_type": "code",
   "execution_count": 28,
   "metadata": {
    "ExecuteTime": {
     "end_time": "2021-06-14T05:30:50.853631Z",
     "start_time": "2021-06-14T05:30:50.851771Z"
    }
   },
   "outputs": [],
   "source": [
    "column_names = list(df_school.columns)"
   ]
  },
  {
   "cell_type": "code",
   "execution_count": 29,
   "metadata": {
    "ExecuteTime": {
     "end_time": "2021-06-14T05:30:50.930022Z",
     "start_time": "2021-06-14T05:30:50.854941Z"
    }
   },
   "outputs": [],
   "source": [
    "for c in column_names:\n",
    "    df_school[c].replace('Suppressed data', np.NaN,inplace =True)"
   ]
  },
  {
   "cell_type": "code",
   "execution_count": 30,
   "metadata": {
    "ExecuteTime": {
     "end_time": "2021-06-14T05:30:50.958056Z",
     "start_time": "2021-06-14T05:30:50.931842Z"
    }
   },
   "outputs": [],
   "source": [
    "for c in column_names:\n",
    "    df_school[c].replace('Not applicable', np.NaN,inplace =True)"
   ]
  },
  {
   "cell_type": "code",
   "execution_count": 31,
   "metadata": {
    "ExecuteTime": {
     "end_time": "2021-06-14T05:30:50.983692Z",
     "start_time": "2021-06-14T05:30:50.959603Z"
    }
   },
   "outputs": [],
   "source": [
    "for c in column_names:\n",
    "    df_school[c].replace('Missing/not reported', np.NaN,inplace =True)"
   ]
  },
  {
   "cell_type": "markdown",
   "metadata": {},
   "source": [
    "### Columns to drop"
   ]
  },
  {
   "cell_type": "code",
   "execution_count": 32,
   "metadata": {
    "ExecuteTime": {
     "end_time": "2021-06-14T05:30:51.006281Z",
     "start_time": "2021-06-14T05:30:50.985280Z"
    }
   },
   "outputs": [
    {
     "name": "stdout",
     "output_type": "stream",
     "text": [
      "<class 'pandas.core.frame.DataFrame'>\n",
      "Int64Index: 11710 entries, 0 to 491\n",
      "Data columns (total 64 columns):\n",
      " #   Column                           Non-Null Count  Dtype  \n",
      "---  ------                           --------------  -----  \n",
      " 0   year                             11710 non-null  int64  \n",
      " 1   ncessch                          11710 non-null  int64  \n",
      " 2   school_name                      11710 non-null  object \n",
      " 3   state_name                       11710 non-null  object \n",
      " 4   lea_name                         11710 non-null  object \n",
      " 5   zip_location                     11710 non-null  int64  \n",
      " 6   urban_centric_locale             11607 non-null  object \n",
      " 7   school_level                     11531 non-null  object \n",
      " 8   school_type                      11710 non-null  object \n",
      " 9   charter                          11392 non-null  object \n",
      " 10  enrollment                       11465 non-null  object \n",
      " 11  read_test_num_valid              10375 non-null  float64\n",
      " 12  read_test_pct_prof_low           10290 non-null  object \n",
      " 13  read_test_pct_prof_high          10290 non-null  object \n",
      " 14  read_test_pct_prof_midpt         10290 non-null  object \n",
      " 15  math_test_num_valid              10379 non-null  float64\n",
      " 16  math_test_pct_prof_low           10292 non-null  object \n",
      " 17  math_test_pct_prof_high          10292 non-null  object \n",
      " 18  math_test_pct_prof_midpt         10292 non-null  object \n",
      " 19  students_susp_in_sch             11079 non-null  object \n",
      " 20  students_susp_out_sch_single     11101 non-null  object \n",
      " 21  students_susp_out_sch_multiple   11101 non-null  object \n",
      " 22  expulsions_no_ed_serv            11102 non-null  object \n",
      " 23  expulsions_with_ed_serv          11079 non-null  object \n",
      " 24  expulsions_zero_tolerance        11102 non-null  object \n",
      " 25  students_corporal_punish         6 non-null      object \n",
      " 26  students_arrested                10688 non-null  object \n",
      " 27  students_referred_law_enforce    11077 non-null  object \n",
      " 28  transfers_alt_sch_disc           11255 non-null  float64\n",
      " 29  days_suspended                   10859 non-null  float64\n",
      " 30  suspensions_instances_preschool  10859 non-null  float64\n",
      " 31  suspensions_instances            10859 non-null  float64\n",
      " 32  corpinstances_preschool          10859 non-null  float64\n",
      " 33  corpinstances                    10859 non-null  float64\n",
      " 34  salaries_teachers                10592 non-null  object \n",
      " 35  cohort_num                       3029 non-null   float64\n",
      " 36  grad_rate_high                   3007 non-null   object \n",
      " 37  grad_rate_low                    3007 non-null   object \n",
      " 38  grad_rate_midpt                  3007 non-null   object \n",
      " 39  allegations_harass_sex           11101 non-null  object \n",
      " 40  allegations_harass_race          11101 non-null  object \n",
      " 41  allegations_harass_disability    11101 non-null  object \n",
      " 42  allegations_harass_orientation   11101 non-null  object \n",
      " 43  allegations_harass_religion      11101 non-null  object \n",
      " 44  students_disc_harass_dis         11255 non-null  float64\n",
      " 45  students_disc_harass_race        11255 non-null  float64\n",
      " 46  students_disc_harass_sex         11255 non-null  float64\n",
      " 47  students_report_harass_dis       11255 non-null  float64\n",
      " 48  students_report_harass_race      11255 non-null  float64\n",
      " 49  students_report_harass_sex       11255 non-null  float64\n",
      " 50  enrl_biology                     2764 non-null   float64\n",
      " 51  enrl_chemistry                   2617 non-null   float64\n",
      " 52  enrl_advanced_math               2377 non-null   float64\n",
      " 53  enrl_calculus                    2221 non-null   float64\n",
      " 54  enrl_algebra2                    2688 non-null   float64\n",
      " 55  enrl_physics                     2387 non-null   float64\n",
      " 56  enrl_geometry                    2740 non-null   float64\n",
      " 57  instances_mech_restraint         10493 non-null  float64\n",
      " 58  instances_phys_restraint         10884 non-null  float64\n",
      " 59  instances_seclusion              10884 non-null  float64\n",
      " 60  students_mech_restraint          10494 non-null  float64\n",
      " 61  students_phys_restraint          10829 non-null  float64\n",
      " 62  students_seclusion               10885 non-null  float64\n",
      " 63  students_SAT_ACT                 11255 non-null  float64\n",
      "dtypes: float64(29), int64(3), object(32)\n",
      "memory usage: 5.8+ MB\n"
     ]
    }
   ],
   "source": [
    "df_school.info()"
   ]
  },
  {
   "cell_type": "code",
   "execution_count": 33,
   "metadata": {
    "ExecuteTime": {
     "end_time": "2021-06-14T05:30:51.012809Z",
     "start_time": "2021-06-14T05:30:51.007726Z"
    }
   },
   "outputs": [
    {
     "data": {
      "text/plain": [
       "-1.0    0.926815\n",
       " NaN    0.072673\n",
       " 0.0    0.000427\n",
       " 1.0    0.000085\n",
       "Name: corpinstances_preschool, dtype: float64"
      ]
     },
     "execution_count": 33,
     "metadata": {},
     "output_type": "execute_result"
    }
   ],
   "source": [
    "df_school['corpinstances_preschool'].value_counts(normalize=True, dropna=False)"
   ]
  },
  {
   "cell_type": "code",
   "execution_count": 34,
   "metadata": {
    "ExecuteTime": {
     "end_time": "2021-06-14T05:30:51.019518Z",
     "start_time": "2021-06-14T05:30:51.014231Z"
    }
   },
   "outputs": [
    {
     "data": {
      "text/plain": [
       "NaN    0.999488\n",
       "0      0.000512\n",
       "Name: students_corporal_punish, dtype: float64"
      ]
     },
     "execution_count": 34,
     "metadata": {},
     "output_type": "execute_result"
    }
   ],
   "source": [
    "df_school['students_corporal_punish'].value_counts(normalize=True, dropna=False)"
   ]
  },
  {
   "cell_type": "markdown",
   "metadata": {},
   "source": [
    "- Drop year as this is the same for all rows\n",
    "- Drop corpinstances_preschool this column is mostly -1 which is not interpretable"
   ]
  },
  {
   "cell_type": "code",
   "execution_count": 35,
   "metadata": {
    "ExecuteTime": {
     "end_time": "2021-06-14T05:30:51.027004Z",
     "start_time": "2021-06-14T05:30:51.020800Z"
    }
   },
   "outputs": [],
   "source": [
    "df_school = df_school.drop(['year','corpinstances_preschool','students_corporal_punish'], axis=1)"
   ]
  },
  {
   "cell_type": "markdown",
   "metadata": {},
   "source": [
    "### school_type"
   ]
  },
  {
   "cell_type": "code",
   "execution_count": 36,
   "metadata": {
    "ExecuteTime": {
     "end_time": "2021-06-14T05:30:51.034404Z",
     "start_time": "2021-06-14T05:30:51.028221Z"
    },
    "scrolled": true
   },
   "outputs": [
    {
     "data": {
      "text/plain": [
       "Regular school              0.930231\n",
       "Other/alternative school    0.024167\n",
       "Vocational school           0.022801\n",
       "Special education school    0.022801\n",
       "Name: school_type, dtype: float64"
      ]
     },
     "execution_count": 36,
     "metadata": {},
     "output_type": "execute_result"
    }
   ],
   "source": [
    "df_school['school_type'].value_counts(normalize=True, dropna=False)"
   ]
  },
  {
   "cell_type": "code",
   "execution_count": 37,
   "metadata": {
    "ExecuteTime": {
     "end_time": "2021-06-14T05:30:51.071341Z",
     "start_time": "2021-06-14T05:30:51.036025Z"
    },
    "scrolled": true
   },
   "outputs": [
    {
     "data": {
      "text/html": [
       "<div>\n",
       "<style scoped>\n",
       "    .dataframe tbody tr th:only-of-type {\n",
       "        vertical-align: middle;\n",
       "    }\n",
       "\n",
       "    .dataframe tbody tr th {\n",
       "        vertical-align: top;\n",
       "    }\n",
       "\n",
       "    .dataframe thead th {\n",
       "        text-align: right;\n",
       "    }\n",
       "</style>\n",
       "<table border=\"1\" class=\"dataframe\">\n",
       "  <thead>\n",
       "    <tr style=\"text-align: right;\">\n",
       "      <th></th>\n",
       "      <th>ncessch</th>\n",
       "      <th>school_name</th>\n",
       "      <th>state_name</th>\n",
       "      <th>lea_name</th>\n",
       "      <th>zip_location</th>\n",
       "      <th>urban_centric_locale</th>\n",
       "      <th>school_level</th>\n",
       "      <th>school_type</th>\n",
       "      <th>charter</th>\n",
       "      <th>enrollment</th>\n",
       "      <th>...</th>\n",
       "      <th>enrl_algebra2</th>\n",
       "      <th>enrl_physics</th>\n",
       "      <th>enrl_geometry</th>\n",
       "      <th>instances_mech_restraint</th>\n",
       "      <th>instances_phys_restraint</th>\n",
       "      <th>instances_seclusion</th>\n",
       "      <th>students_mech_restraint</th>\n",
       "      <th>students_phys_restraint</th>\n",
       "      <th>students_seclusion</th>\n",
       "      <th>students_SAT_ACT</th>\n",
       "    </tr>\n",
       "  </thead>\n",
       "  <tbody>\n",
       "    <tr>\n",
       "      <th>0</th>\n",
       "      <td>360000104498</td>\n",
       "      <td>JAMES A GREEN HIGH SCHOOL</td>\n",
       "      <td>New York</td>\n",
       "      <td>DOLGEVILLE CENTRAL SCHOOL DISTRICT</td>\n",
       "      <td>13329</td>\n",
       "      <td>Rural, distant</td>\n",
       "      <td>High</td>\n",
       "      <td>Regular school</td>\n",
       "      <td>No</td>\n",
       "      <td>288</td>\n",
       "      <td>...</td>\n",
       "      <td>28.0</td>\n",
       "      <td>10.0</td>\n",
       "      <td>58.0</td>\n",
       "      <td>0.0</td>\n",
       "      <td>0.0</td>\n",
       "      <td>0.0</td>\n",
       "      <td>0.0</td>\n",
       "      <td>0.0</td>\n",
       "      <td>0.0</td>\n",
       "      <td>27.0</td>\n",
       "    </tr>\n",
       "    <tr>\n",
       "      <th>1</th>\n",
       "      <td>360000204500</td>\n",
       "      <td>SAUQUOIT VALLEY HIGH SCHOOL</td>\n",
       "      <td>New York</td>\n",
       "      <td>SAUQUOIT VALLEY CENTRAL SCHOOL DISTRICT</td>\n",
       "      <td>13456</td>\n",
       "      <td>Rural, fringe</td>\n",
       "      <td>High</td>\n",
       "      <td>Regular school</td>\n",
       "      <td>No</td>\n",
       "      <td>309</td>\n",
       "      <td>...</td>\n",
       "      <td>43.0</td>\n",
       "      <td>28.0</td>\n",
       "      <td>62.0</td>\n",
       "      <td>0.0</td>\n",
       "      <td>0.0</td>\n",
       "      <td>0.0</td>\n",
       "      <td>0.0</td>\n",
       "      <td>0.0</td>\n",
       "      <td>0.0</td>\n",
       "      <td>71.0</td>\n",
       "    </tr>\n",
       "    <tr>\n",
       "      <th>2</th>\n",
       "      <td>360000304543</td>\n",
       "      <td>EDWARDS-KNOX JUNIOR-SENIOR HIGH SCHOOL</td>\n",
       "      <td>New York</td>\n",
       "      <td>EDWARDS-KNOX CENTRAL SCHOOL DISTRICT</td>\n",
       "      <td>13652</td>\n",
       "      <td>Rural, remote</td>\n",
       "      <td>High</td>\n",
       "      <td>Regular school</td>\n",
       "      <td>No</td>\n",
       "      <td>270</td>\n",
       "      <td>...</td>\n",
       "      <td>16.0</td>\n",
       "      <td>13.0</td>\n",
       "      <td>30.0</td>\n",
       "      <td>0.0</td>\n",
       "      <td>0.0</td>\n",
       "      <td>0.0</td>\n",
       "      <td>0.0</td>\n",
       "      <td>0.0</td>\n",
       "      <td>0.0</td>\n",
       "      <td>31.0</td>\n",
       "    </tr>\n",
       "    <tr>\n",
       "      <th>3</th>\n",
       "      <td>360000404545</td>\n",
       "      <td>MOHONASEN SENIOR HIGH SCHOOL</td>\n",
       "      <td>New York</td>\n",
       "      <td>ROTTERDAM-MOHONASEN CENTRAL SCHOOL DISTRICT</td>\n",
       "      <td>12303</td>\n",
       "      <td>Suburb, large</td>\n",
       "      <td>High</td>\n",
       "      <td>Regular school</td>\n",
       "      <td>No</td>\n",
       "      <td>946</td>\n",
       "      <td>...</td>\n",
       "      <td>107.0</td>\n",
       "      <td>41.0</td>\n",
       "      <td>140.0</td>\n",
       "      <td>0.0</td>\n",
       "      <td>0.0</td>\n",
       "      <td>0.0</td>\n",
       "      <td>0.0</td>\n",
       "      <td>0.0</td>\n",
       "      <td>0.0</td>\n",
       "      <td>606.0</td>\n",
       "    </tr>\n",
       "    <tr>\n",
       "      <th>4</th>\n",
       "      <td>360000500282</td>\n",
       "      <td>BROADALBIN-PERTH HIGH SCHOOL</td>\n",
       "      <td>New York</td>\n",
       "      <td>BROADALBIN-PERTH CENTRAL SCHOOL DISTRICT</td>\n",
       "      <td>12025</td>\n",
       "      <td>Rural, distant</td>\n",
       "      <td>High</td>\n",
       "      <td>Regular school</td>\n",
       "      <td>No</td>\n",
       "      <td>551</td>\n",
       "      <td>...</td>\n",
       "      <td>32.0</td>\n",
       "      <td>29.0</td>\n",
       "      <td>73.0</td>\n",
       "      <td>0.0</td>\n",
       "      <td>0.0</td>\n",
       "      <td>0.0</td>\n",
       "      <td>0.0</td>\n",
       "      <td>0.0</td>\n",
       "      <td>0.0</td>\n",
       "      <td>54.0</td>\n",
       "    </tr>\n",
       "    <tr>\n",
       "      <th>...</th>\n",
       "      <td>...</td>\n",
       "      <td>...</td>\n",
       "      <td>...</td>\n",
       "      <td>...</td>\n",
       "      <td>...</td>\n",
       "      <td>...</td>\n",
       "      <td>...</td>\n",
       "      <td>...</td>\n",
       "      <td>...</td>\n",
       "      <td>...</td>\n",
       "      <td>...</td>\n",
       "      <td>...</td>\n",
       "      <td>...</td>\n",
       "      <td>...</td>\n",
       "      <td>...</td>\n",
       "      <td>...</td>\n",
       "      <td>...</td>\n",
       "      <td>...</td>\n",
       "      <td>...</td>\n",
       "      <td>...</td>\n",
       "      <td>...</td>\n",
       "    </tr>\n",
       "    <tr>\n",
       "      <th>487</th>\n",
       "      <td>330730000466</td>\n",
       "      <td>Winnisquam Regional Middle School</td>\n",
       "      <td>New Hampshire</td>\n",
       "      <td>Winnisquam Regional School District</td>\n",
       "      <td>3276</td>\n",
       "      <td>Town, distant</td>\n",
       "      <td>Middle</td>\n",
       "      <td>Regular school</td>\n",
       "      <td>No</td>\n",
       "      <td>353</td>\n",
       "      <td>...</td>\n",
       "      <td>NaN</td>\n",
       "      <td>NaN</td>\n",
       "      <td>NaN</td>\n",
       "      <td>0.0</td>\n",
       "      <td>0.0</td>\n",
       "      <td>0.0</td>\n",
       "      <td>0.0</td>\n",
       "      <td>0.0</td>\n",
       "      <td>0.0</td>\n",
       "      <td>0.0</td>\n",
       "    </tr>\n",
       "    <tr>\n",
       "      <th>488</th>\n",
       "      <td>330730000467</td>\n",
       "      <td>Union Sanborn School</td>\n",
       "      <td>New Hampshire</td>\n",
       "      <td>Winnisquam Regional School District</td>\n",
       "      <td>3276</td>\n",
       "      <td>Town, distant</td>\n",
       "      <td>Primary</td>\n",
       "      <td>Regular school</td>\n",
       "      <td>No</td>\n",
       "      <td>243</td>\n",
       "      <td>...</td>\n",
       "      <td>NaN</td>\n",
       "      <td>NaN</td>\n",
       "      <td>NaN</td>\n",
       "      <td>0.0</td>\n",
       "      <td>1.0</td>\n",
       "      <td>0.0</td>\n",
       "      <td>0.0</td>\n",
       "      <td>2.0</td>\n",
       "      <td>0.0</td>\n",
       "      <td>0.0</td>\n",
       "    </tr>\n",
       "    <tr>\n",
       "      <th>489</th>\n",
       "      <td>330733000519</td>\n",
       "      <td>Coe-Brown Northwood Academy</td>\n",
       "      <td>New Hampshire</td>\n",
       "      <td>Coe Brown Academy School District</td>\n",
       "      <td>3261</td>\n",
       "      <td>Rural, distant</td>\n",
       "      <td>High</td>\n",
       "      <td>Regular school</td>\n",
       "      <td>No</td>\n",
       "      <td>701</td>\n",
       "      <td>...</td>\n",
       "      <td>111.0</td>\n",
       "      <td>33.0</td>\n",
       "      <td>99.0</td>\n",
       "      <td>0.0</td>\n",
       "      <td>0.0</td>\n",
       "      <td>0.0</td>\n",
       "      <td>0.0</td>\n",
       "      <td>0.0</td>\n",
       "      <td>0.0</td>\n",
       "      <td>174.0</td>\n",
       "    </tr>\n",
       "    <tr>\n",
       "      <th>490</th>\n",
       "      <td>330736000510</td>\n",
       "      <td>Pinkerton Academy</td>\n",
       "      <td>New Hampshire</td>\n",
       "      <td>Pinkerton Academy School District</td>\n",
       "      <td>3038</td>\n",
       "      <td>Suburb, midsize</td>\n",
       "      <td>High</td>\n",
       "      <td>Regular school</td>\n",
       "      <td>No</td>\n",
       "      <td>3111</td>\n",
       "      <td>...</td>\n",
       "      <td>699.0</td>\n",
       "      <td>1194.0</td>\n",
       "      <td>834.0</td>\n",
       "      <td>0.0</td>\n",
       "      <td>0.0</td>\n",
       "      <td>0.0</td>\n",
       "      <td>0.0</td>\n",
       "      <td>0.0</td>\n",
       "      <td>0.0</td>\n",
       "      <td>798.0</td>\n",
       "    </tr>\n",
       "    <tr>\n",
       "      <th>491</th>\n",
       "      <td>339996500369</td>\n",
       "      <td>Plymouth Regional High School</td>\n",
       "      <td>New Hampshire</td>\n",
       "      <td>Pemi-baker Regional School District</td>\n",
       "      <td>3264</td>\n",
       "      <td>Rural, fringe</td>\n",
       "      <td>High</td>\n",
       "      <td>Regular school</td>\n",
       "      <td>No</td>\n",
       "      <td>682</td>\n",
       "      <td>...</td>\n",
       "      <td>193.0</td>\n",
       "      <td>239.0</td>\n",
       "      <td>170.0</td>\n",
       "      <td>0.0</td>\n",
       "      <td>5.0</td>\n",
       "      <td>0.0</td>\n",
       "      <td>0.0</td>\n",
       "      <td>2.0</td>\n",
       "      <td>0.0</td>\n",
       "      <td>291.0</td>\n",
       "    </tr>\n",
       "  </tbody>\n",
       "</table>\n",
       "<p>10893 rows × 61 columns</p>\n",
       "</div>"
      ],
      "text/plain": [
       "          ncessch                             school_name     state_name  \\\n",
       "0    360000104498               JAMES A GREEN HIGH SCHOOL       New York   \n",
       "1    360000204500             SAUQUOIT VALLEY HIGH SCHOOL       New York   \n",
       "2    360000304543  EDWARDS-KNOX JUNIOR-SENIOR HIGH SCHOOL       New York   \n",
       "3    360000404545            MOHONASEN SENIOR HIGH SCHOOL       New York   \n",
       "4    360000500282            BROADALBIN-PERTH HIGH SCHOOL       New York   \n",
       "..            ...                                     ...            ...   \n",
       "487  330730000466       Winnisquam Regional Middle School  New Hampshire   \n",
       "488  330730000467                    Union Sanborn School  New Hampshire   \n",
       "489  330733000519             Coe-Brown Northwood Academy  New Hampshire   \n",
       "490  330736000510                       Pinkerton Academy  New Hampshire   \n",
       "491  339996500369           Plymouth Regional High School  New Hampshire   \n",
       "\n",
       "                                        lea_name  zip_location  \\\n",
       "0             DOLGEVILLE CENTRAL SCHOOL DISTRICT         13329   \n",
       "1        SAUQUOIT VALLEY CENTRAL SCHOOL DISTRICT         13456   \n",
       "2           EDWARDS-KNOX CENTRAL SCHOOL DISTRICT         13652   \n",
       "3    ROTTERDAM-MOHONASEN CENTRAL SCHOOL DISTRICT         12303   \n",
       "4       BROADALBIN-PERTH CENTRAL SCHOOL DISTRICT         12025   \n",
       "..                                           ...           ...   \n",
       "487          Winnisquam Regional School District          3276   \n",
       "488          Winnisquam Regional School District          3276   \n",
       "489            Coe Brown Academy School District          3261   \n",
       "490            Pinkerton Academy School District          3038   \n",
       "491          Pemi-baker Regional School District          3264   \n",
       "\n",
       "    urban_centric_locale school_level     school_type charter enrollment  ...  \\\n",
       "0         Rural, distant         High  Regular school      No        288  ...   \n",
       "1          Rural, fringe         High  Regular school      No        309  ...   \n",
       "2          Rural, remote         High  Regular school      No        270  ...   \n",
       "3          Suburb, large         High  Regular school      No        946  ...   \n",
       "4         Rural, distant         High  Regular school      No        551  ...   \n",
       "..                   ...          ...             ...     ...        ...  ...   \n",
       "487        Town, distant       Middle  Regular school      No        353  ...   \n",
       "488        Town, distant      Primary  Regular school      No        243  ...   \n",
       "489       Rural, distant         High  Regular school      No        701  ...   \n",
       "490      Suburb, midsize         High  Regular school      No       3111  ...   \n",
       "491        Rural, fringe         High  Regular school      No        682  ...   \n",
       "\n",
       "     enrl_algebra2 enrl_physics enrl_geometry instances_mech_restraint  \\\n",
       "0             28.0         10.0          58.0                      0.0   \n",
       "1             43.0         28.0          62.0                      0.0   \n",
       "2             16.0         13.0          30.0                      0.0   \n",
       "3            107.0         41.0         140.0                      0.0   \n",
       "4             32.0         29.0          73.0                      0.0   \n",
       "..             ...          ...           ...                      ...   \n",
       "487            NaN          NaN           NaN                      0.0   \n",
       "488            NaN          NaN           NaN                      0.0   \n",
       "489          111.0         33.0          99.0                      0.0   \n",
       "490          699.0       1194.0         834.0                      0.0   \n",
       "491          193.0        239.0         170.0                      0.0   \n",
       "\n",
       "     instances_phys_restraint instances_seclusion students_mech_restraint  \\\n",
       "0                         0.0                 0.0                     0.0   \n",
       "1                         0.0                 0.0                     0.0   \n",
       "2                         0.0                 0.0                     0.0   \n",
       "3                         0.0                 0.0                     0.0   \n",
       "4                         0.0                 0.0                     0.0   \n",
       "..                        ...                 ...                     ...   \n",
       "487                       0.0                 0.0                     0.0   \n",
       "488                       1.0                 0.0                     0.0   \n",
       "489                       0.0                 0.0                     0.0   \n",
       "490                       0.0                 0.0                     0.0   \n",
       "491                       5.0                 0.0                     0.0   \n",
       "\n",
       "    students_phys_restraint students_seclusion students_SAT_ACT  \n",
       "0                       0.0                0.0             27.0  \n",
       "1                       0.0                0.0             71.0  \n",
       "2                       0.0                0.0             31.0  \n",
       "3                       0.0                0.0            606.0  \n",
       "4                       0.0                0.0             54.0  \n",
       "..                      ...                ...              ...  \n",
       "487                     0.0                0.0              0.0  \n",
       "488                     2.0                0.0              0.0  \n",
       "489                     0.0                0.0            174.0  \n",
       "490                     0.0                0.0            798.0  \n",
       "491                     2.0                0.0            291.0  \n",
       "\n",
       "[10893 rows x 61 columns]"
      ]
     },
     "execution_count": 37,
     "metadata": {},
     "output_type": "execute_result"
    }
   ],
   "source": [
    "df_school_regular = df_school.loc[df_school['school_type'] == 'Regular school']\n",
    "df_school_regular"
   ]
  },
  {
   "cell_type": "code",
   "execution_count": 38,
   "metadata": {
    "ExecuteTime": {
     "end_time": "2021-06-14T05:30:51.101034Z",
     "start_time": "2021-06-14T05:30:51.072836Z"
    }
   },
   "outputs": [
    {
     "data": {
      "text/html": [
       "<div>\n",
       "<style scoped>\n",
       "    .dataframe tbody tr th:only-of-type {\n",
       "        vertical-align: middle;\n",
       "    }\n",
       "\n",
       "    .dataframe tbody tr th {\n",
       "        vertical-align: top;\n",
       "    }\n",
       "\n",
       "    .dataframe thead th {\n",
       "        text-align: right;\n",
       "    }\n",
       "</style>\n",
       "<table border=\"1\" class=\"dataframe\">\n",
       "  <thead>\n",
       "    <tr style=\"text-align: right;\">\n",
       "      <th></th>\n",
       "      <th>ncessch</th>\n",
       "      <th>school_name</th>\n",
       "      <th>state_name</th>\n",
       "      <th>lea_name</th>\n",
       "      <th>zip_location</th>\n",
       "      <th>urban_centric_locale</th>\n",
       "      <th>school_level</th>\n",
       "      <th>school_type</th>\n",
       "      <th>charter</th>\n",
       "      <th>enrollment</th>\n",
       "      <th>...</th>\n",
       "      <th>enrl_algebra2</th>\n",
       "      <th>enrl_physics</th>\n",
       "      <th>enrl_geometry</th>\n",
       "      <th>instances_mech_restraint</th>\n",
       "      <th>instances_phys_restraint</th>\n",
       "      <th>instances_seclusion</th>\n",
       "      <th>students_mech_restraint</th>\n",
       "      <th>students_phys_restraint</th>\n",
       "      <th>students_seclusion</th>\n",
       "      <th>students_SAT_ACT</th>\n",
       "    </tr>\n",
       "  </thead>\n",
       "  <tbody>\n",
       "    <tr>\n",
       "      <th>13</th>\n",
       "      <td>360001706539</td>\n",
       "      <td>ALLEGANY CO SHERIFF C/O TREASURER</td>\n",
       "      <td>New York</td>\n",
       "      <td>GENESEE VALLEY CENTRAL SCHOOL DISTRICT</td>\n",
       "      <td>14813</td>\n",
       "      <td>Rural, distant</td>\n",
       "      <td>High</td>\n",
       "      <td>Other/alternative school</td>\n",
       "      <td>No</td>\n",
       "      <td>2</td>\n",
       "      <td>...</td>\n",
       "      <td>NaN</td>\n",
       "      <td>NaN</td>\n",
       "      <td>NaN</td>\n",
       "      <td>NaN</td>\n",
       "      <td>NaN</td>\n",
       "      <td>NaN</td>\n",
       "      <td>NaN</td>\n",
       "      <td>NaN</td>\n",
       "      <td>NaN</td>\n",
       "      <td>NaN</td>\n",
       "    </tr>\n",
       "    <tr>\n",
       "      <th>15</th>\n",
       "      <td>360001806526</td>\n",
       "      <td>CHAUTAUQUA COUNTY JAIL</td>\n",
       "      <td>New York</td>\n",
       "      <td>CHAUTAUQUA LAKE CENTRAL SCHOOL DISTRICT</td>\n",
       "      <td>14757</td>\n",
       "      <td>Rural, distant</td>\n",
       "      <td>High</td>\n",
       "      <td>Other/alternative school</td>\n",
       "      <td>No</td>\n",
       "      <td>17</td>\n",
       "      <td>...</td>\n",
       "      <td>NaN</td>\n",
       "      <td>NaN</td>\n",
       "      <td>14.0</td>\n",
       "      <td>0.0</td>\n",
       "      <td>0.0</td>\n",
       "      <td>0.0</td>\n",
       "      <td>0.0</td>\n",
       "      <td>0.0</td>\n",
       "      <td>0.0</td>\n",
       "      <td>0.0</td>\n",
       "    </tr>\n",
       "    <tr>\n",
       "      <th>20</th>\n",
       "      <td>360005304411</td>\n",
       "      <td>JOHN V LINDSAY WILDCAT ACADEMY CHARTER SCHOOL</td>\n",
       "      <td>New York</td>\n",
       "      <td>JOHN V LINDSAY WILDCAT ACADEMY CHARTER SCHOOL</td>\n",
       "      <td>10004</td>\n",
       "      <td>City, large</td>\n",
       "      <td>High</td>\n",
       "      <td>Other/alternative school</td>\n",
       "      <td>Yes</td>\n",
       "      <td>473</td>\n",
       "      <td>...</td>\n",
       "      <td>17.0</td>\n",
       "      <td>NaN</td>\n",
       "      <td>176.0</td>\n",
       "      <td>0.0</td>\n",
       "      <td>0.0</td>\n",
       "      <td>0.0</td>\n",
       "      <td>0.0</td>\n",
       "      <td>0.0</td>\n",
       "      <td>0.0</td>\n",
       "      <td>22.0</td>\n",
       "    </tr>\n",
       "    <tr>\n",
       "      <th>21</th>\n",
       "      <td>360007600624</td>\n",
       "      <td>LOWER EAST SIDE PREPARATORY HIGH SCHOOL</td>\n",
       "      <td>New York</td>\n",
       "      <td>NEW YORK CITY GEOGRAPHIC DISTRICT # 1</td>\n",
       "      <td>10002</td>\n",
       "      <td>City, large</td>\n",
       "      <td>High</td>\n",
       "      <td>Other/alternative school</td>\n",
       "      <td>No</td>\n",
       "      <td>487</td>\n",
       "      <td>...</td>\n",
       "      <td>NaN</td>\n",
       "      <td>NaN</td>\n",
       "      <td>NaN</td>\n",
       "      <td>NaN</td>\n",
       "      <td>0.0</td>\n",
       "      <td>0.0</td>\n",
       "      <td>NaN</td>\n",
       "      <td>0.0</td>\n",
       "      <td>0.0</td>\n",
       "      <td>30.0</td>\n",
       "    </tr>\n",
       "    <tr>\n",
       "      <th>23</th>\n",
       "      <td>360007603352</td>\n",
       "      <td>CASCADES HIGH SCHOOL</td>\n",
       "      <td>New York</td>\n",
       "      <td>NEW YORK CITY GEOGRAPHIC DISTRICT # 1</td>\n",
       "      <td>10002</td>\n",
       "      <td>City, large</td>\n",
       "      <td>High</td>\n",
       "      <td>Other/alternative school</td>\n",
       "      <td>No</td>\n",
       "      <td>220</td>\n",
       "      <td>...</td>\n",
       "      <td>NaN</td>\n",
       "      <td>NaN</td>\n",
       "      <td>NaN</td>\n",
       "      <td>NaN</td>\n",
       "      <td>0.0</td>\n",
       "      <td>0.0</td>\n",
       "      <td>NaN</td>\n",
       "      <td>0.0</td>\n",
       "      <td>0.0</td>\n",
       "      <td>14.0</td>\n",
       "    </tr>\n",
       "    <tr>\n",
       "      <th>...</th>\n",
       "      <td>...</td>\n",
       "      <td>...</td>\n",
       "      <td>...</td>\n",
       "      <td>...</td>\n",
       "      <td>...</td>\n",
       "      <td>...</td>\n",
       "      <td>...</td>\n",
       "      <td>...</td>\n",
       "      <td>...</td>\n",
       "      <td>...</td>\n",
       "      <td>...</td>\n",
       "      <td>...</td>\n",
       "      <td>...</td>\n",
       "      <td>...</td>\n",
       "      <td>...</td>\n",
       "      <td>...</td>\n",
       "      <td>...</td>\n",
       "      <td>...</td>\n",
       "      <td>...</td>\n",
       "      <td>...</td>\n",
       "      <td>...</td>\n",
       "    </tr>\n",
       "    <tr>\n",
       "      <th>7</th>\n",
       "      <td>440000900413</td>\n",
       "      <td>DCYF Alternative Ed. Program</td>\n",
       "      <td>Rhode Island</td>\n",
       "      <td>DCYF</td>\n",
       "      <td>2920</td>\n",
       "      <td>Suburb, large</td>\n",
       "      <td>High</td>\n",
       "      <td>Other/alternative school</td>\n",
       "      <td>No</td>\n",
       "      <td>65</td>\n",
       "      <td>...</td>\n",
       "      <td>11.0</td>\n",
       "      <td>NaN</td>\n",
       "      <td>9.0</td>\n",
       "      <td>0.0</td>\n",
       "      <td>0.0</td>\n",
       "      <td>0.0</td>\n",
       "      <td>0.0</td>\n",
       "      <td>0.0</td>\n",
       "      <td>0.0</td>\n",
       "      <td>0.0</td>\n",
       "    </tr>\n",
       "    <tr>\n",
       "      <th>58</th>\n",
       "      <td>440015000286</td>\n",
       "      <td>The R.Y.S.E School</td>\n",
       "      <td>Rhode Island</td>\n",
       "      <td>Chariho</td>\n",
       "      <td>2894</td>\n",
       "      <td>Rural, fringe</td>\n",
       "      <td>Other</td>\n",
       "      <td>Other/alternative school</td>\n",
       "      <td>No</td>\n",
       "      <td>55</td>\n",
       "      <td>...</td>\n",
       "      <td>14.0</td>\n",
       "      <td>NaN</td>\n",
       "      <td>9.0</td>\n",
       "      <td>0.0</td>\n",
       "      <td>68.0</td>\n",
       "      <td>0.0</td>\n",
       "      <td>0.0</td>\n",
       "      <td>11.0</td>\n",
       "      <td>0.0</td>\n",
       "      <td>0.0</td>\n",
       "    </tr>\n",
       "    <tr>\n",
       "      <th>204</th>\n",
       "      <td>440090000055</td>\n",
       "      <td>Academy for Career Exploration</td>\n",
       "      <td>Rhode Island</td>\n",
       "      <td>Providence</td>\n",
       "      <td>2907</td>\n",
       "      <td>City, midsize</td>\n",
       "      <td>High</td>\n",
       "      <td>Other/alternative school</td>\n",
       "      <td>Yes</td>\n",
       "      <td>201</td>\n",
       "      <td>...</td>\n",
       "      <td>63.0</td>\n",
       "      <td>75.0</td>\n",
       "      <td>60.0</td>\n",
       "      <td>0.0</td>\n",
       "      <td>0.0</td>\n",
       "      <td>0.0</td>\n",
       "      <td>0.0</td>\n",
       "      <td>0.0</td>\n",
       "      <td>0.0</td>\n",
       "      <td>9.0</td>\n",
       "    </tr>\n",
       "    <tr>\n",
       "      <th>210</th>\n",
       "      <td>440090000157</td>\n",
       "      <td>Times2 Academy</td>\n",
       "      <td>Rhode Island</td>\n",
       "      <td>Providence</td>\n",
       "      <td>2908</td>\n",
       "      <td>City, midsize</td>\n",
       "      <td>Other</td>\n",
       "      <td>Other/alternative school</td>\n",
       "      <td>Yes</td>\n",
       "      <td>675</td>\n",
       "      <td>...</td>\n",
       "      <td>62.0</td>\n",
       "      <td>54.0</td>\n",
       "      <td>77.0</td>\n",
       "      <td>0.0</td>\n",
       "      <td>0.0</td>\n",
       "      <td>0.0</td>\n",
       "      <td>0.0</td>\n",
       "      <td>0.0</td>\n",
       "      <td>0.0</td>\n",
       "      <td>26.0</td>\n",
       "    </tr>\n",
       "    <tr>\n",
       "      <th>237</th>\n",
       "      <td>440090000323</td>\n",
       "      <td>E-Cubed Academy</td>\n",
       "      <td>Rhode Island</td>\n",
       "      <td>Providence</td>\n",
       "      <td>2904</td>\n",
       "      <td>City, midsize</td>\n",
       "      <td>High</td>\n",
       "      <td>Other/alternative school</td>\n",
       "      <td>No</td>\n",
       "      <td>346</td>\n",
       "      <td>...</td>\n",
       "      <td>84.0</td>\n",
       "      <td>115.0</td>\n",
       "      <td>107.0</td>\n",
       "      <td>0.0</td>\n",
       "      <td>0.0</td>\n",
       "      <td>0.0</td>\n",
       "      <td>0.0</td>\n",
       "      <td>0.0</td>\n",
       "      <td>0.0</td>\n",
       "      <td>25.0</td>\n",
       "    </tr>\n",
       "  </tbody>\n",
       "</table>\n",
       "<p>283 rows × 61 columns</p>\n",
       "</div>"
      ],
      "text/plain": [
       "          ncessch                                    school_name  \\\n",
       "13   360001706539              ALLEGANY CO SHERIFF C/O TREASURER   \n",
       "15   360001806526                         CHAUTAUQUA COUNTY JAIL   \n",
       "20   360005304411  JOHN V LINDSAY WILDCAT ACADEMY CHARTER SCHOOL   \n",
       "21   360007600624        LOWER EAST SIDE PREPARATORY HIGH SCHOOL   \n",
       "23   360007603352                           CASCADES HIGH SCHOOL   \n",
       "..            ...                                            ...   \n",
       "7    440000900413                   DCYF Alternative Ed. Program   \n",
       "58   440015000286                             The R.Y.S.E School   \n",
       "204  440090000055                 Academy for Career Exploration   \n",
       "210  440090000157                                 Times2 Academy   \n",
       "237  440090000323                                E-Cubed Academy   \n",
       "\n",
       "       state_name                                       lea_name  \\\n",
       "13       New York         GENESEE VALLEY CENTRAL SCHOOL DISTRICT   \n",
       "15       New York        CHAUTAUQUA LAKE CENTRAL SCHOOL DISTRICT   \n",
       "20       New York  JOHN V LINDSAY WILDCAT ACADEMY CHARTER SCHOOL   \n",
       "21       New York          NEW YORK CITY GEOGRAPHIC DISTRICT # 1   \n",
       "23       New York          NEW YORK CITY GEOGRAPHIC DISTRICT # 1   \n",
       "..            ...                                            ...   \n",
       "7    Rhode Island                                           DCYF   \n",
       "58   Rhode Island                                        Chariho   \n",
       "204  Rhode Island                                     Providence   \n",
       "210  Rhode Island                                     Providence   \n",
       "237  Rhode Island                                     Providence   \n",
       "\n",
       "     zip_location urban_centric_locale school_level               school_type  \\\n",
       "13          14813       Rural, distant         High  Other/alternative school   \n",
       "15          14757       Rural, distant         High  Other/alternative school   \n",
       "20          10004          City, large         High  Other/alternative school   \n",
       "21          10002          City, large         High  Other/alternative school   \n",
       "23          10002          City, large         High  Other/alternative school   \n",
       "..            ...                  ...          ...                       ...   \n",
       "7            2920        Suburb, large         High  Other/alternative school   \n",
       "58           2894        Rural, fringe        Other  Other/alternative school   \n",
       "204          2907        City, midsize         High  Other/alternative school   \n",
       "210          2908        City, midsize        Other  Other/alternative school   \n",
       "237          2904        City, midsize         High  Other/alternative school   \n",
       "\n",
       "    charter enrollment  ...  enrl_algebra2 enrl_physics enrl_geometry  \\\n",
       "13       No          2  ...            NaN          NaN           NaN   \n",
       "15       No         17  ...            NaN          NaN          14.0   \n",
       "20      Yes        473  ...           17.0          NaN         176.0   \n",
       "21       No        487  ...            NaN          NaN           NaN   \n",
       "23       No        220  ...            NaN          NaN           NaN   \n",
       "..      ...        ...  ...            ...          ...           ...   \n",
       "7        No         65  ...           11.0          NaN           9.0   \n",
       "58       No         55  ...           14.0          NaN           9.0   \n",
       "204     Yes        201  ...           63.0         75.0          60.0   \n",
       "210     Yes        675  ...           62.0         54.0          77.0   \n",
       "237      No        346  ...           84.0        115.0         107.0   \n",
       "\n",
       "    instances_mech_restraint  instances_phys_restraint instances_seclusion  \\\n",
       "13                       NaN                       NaN                 NaN   \n",
       "15                       0.0                       0.0                 0.0   \n",
       "20                       0.0                       0.0                 0.0   \n",
       "21                       NaN                       0.0                 0.0   \n",
       "23                       NaN                       0.0                 0.0   \n",
       "..                       ...                       ...                 ...   \n",
       "7                        0.0                       0.0                 0.0   \n",
       "58                       0.0                      68.0                 0.0   \n",
       "204                      0.0                       0.0                 0.0   \n",
       "210                      0.0                       0.0                 0.0   \n",
       "237                      0.0                       0.0                 0.0   \n",
       "\n",
       "    students_mech_restraint students_phys_restraint students_seclusion  \\\n",
       "13                      NaN                     NaN                NaN   \n",
       "15                      0.0                     0.0                0.0   \n",
       "20                      0.0                     0.0                0.0   \n",
       "21                      NaN                     0.0                0.0   \n",
       "23                      NaN                     0.0                0.0   \n",
       "..                      ...                     ...                ...   \n",
       "7                       0.0                     0.0                0.0   \n",
       "58                      0.0                    11.0                0.0   \n",
       "204                     0.0                     0.0                0.0   \n",
       "210                     0.0                     0.0                0.0   \n",
       "237                     0.0                     0.0                0.0   \n",
       "\n",
       "    students_SAT_ACT  \n",
       "13               NaN  \n",
       "15               0.0  \n",
       "20              22.0  \n",
       "21              30.0  \n",
       "23              14.0  \n",
       "..               ...  \n",
       "7                0.0  \n",
       "58               0.0  \n",
       "204              9.0  \n",
       "210             26.0  \n",
       "237             25.0  \n",
       "\n",
       "[283 rows x 61 columns]"
      ]
     },
     "execution_count": 38,
     "metadata": {},
     "output_type": "execute_result"
    }
   ],
   "source": [
    "df_school_alternative = df_school.loc[df_school['school_type'] == 'Other/alternative school']\n",
    "df_school_alternative"
   ]
  },
  {
   "cell_type": "code",
   "execution_count": 39,
   "metadata": {
    "ExecuteTime": {
     "end_time": "2021-06-14T05:30:51.124335Z",
     "start_time": "2021-06-14T05:30:51.102563Z"
    }
   },
   "outputs": [
    {
     "data": {
      "text/html": [
       "<div>\n",
       "<style scoped>\n",
       "    .dataframe tbody tr th:only-of-type {\n",
       "        vertical-align: middle;\n",
       "    }\n",
       "\n",
       "    .dataframe tbody tr th {\n",
       "        vertical-align: top;\n",
       "    }\n",
       "\n",
       "    .dataframe thead th {\n",
       "        text-align: right;\n",
       "    }\n",
       "</style>\n",
       "<table border=\"1\" class=\"dataframe\">\n",
       "  <thead>\n",
       "    <tr style=\"text-align: right;\">\n",
       "      <th></th>\n",
       "      <th>ncessch</th>\n",
       "      <th>school_name</th>\n",
       "      <th>state_name</th>\n",
       "      <th>lea_name</th>\n",
       "      <th>zip_location</th>\n",
       "      <th>urban_centric_locale</th>\n",
       "      <th>school_level</th>\n",
       "      <th>school_type</th>\n",
       "      <th>charter</th>\n",
       "      <th>enrollment</th>\n",
       "      <th>...</th>\n",
       "      <th>enrl_algebra2</th>\n",
       "      <th>enrl_physics</th>\n",
       "      <th>enrl_geometry</th>\n",
       "      <th>instances_mech_restraint</th>\n",
       "      <th>instances_phys_restraint</th>\n",
       "      <th>instances_seclusion</th>\n",
       "      <th>students_mech_restraint</th>\n",
       "      <th>students_phys_restraint</th>\n",
       "      <th>students_seclusion</th>\n",
       "      <th>students_SAT_ACT</th>\n",
       "    </tr>\n",
       "  </thead>\n",
       "  <tbody>\n",
       "    <tr>\n",
       "      <th>41</th>\n",
       "      <td>360007701911</td>\n",
       "      <td>ART AND DESIGN HIGH SCHOOL</td>\n",
       "      <td>New York</td>\n",
       "      <td>NEW YORK CITY GEOGRAPHIC DISTRICT # 2</td>\n",
       "      <td>10019</td>\n",
       "      <td>City, large</td>\n",
       "      <td>High</td>\n",
       "      <td>Vocational school</td>\n",
       "      <td>No</td>\n",
       "      <td>1448</td>\n",
       "      <td>...</td>\n",
       "      <td>NaN</td>\n",
       "      <td>NaN</td>\n",
       "      <td>NaN</td>\n",
       "      <td>NaN</td>\n",
       "      <td>0.0</td>\n",
       "      <td>0.0</td>\n",
       "      <td>NaN</td>\n",
       "      <td>0.0</td>\n",
       "      <td>0.0</td>\n",
       "      <td>190.0</td>\n",
       "    </tr>\n",
       "    <tr>\n",
       "      <th>42</th>\n",
       "      <td>360007701934</td>\n",
       "      <td>CHELSEA CAREER AND TECHNICAL EDUCATION HIGH SC...</td>\n",
       "      <td>New York</td>\n",
       "      <td>NEW YORK CITY GEOGRAPHIC DISTRICT # 2</td>\n",
       "      <td>10013</td>\n",
       "      <td>City, large</td>\n",
       "      <td>High</td>\n",
       "      <td>Vocational school</td>\n",
       "      <td>No</td>\n",
       "      <td>439</td>\n",
       "      <td>...</td>\n",
       "      <td>NaN</td>\n",
       "      <td>NaN</td>\n",
       "      <td>NaN</td>\n",
       "      <td>NaN</td>\n",
       "      <td>0.0</td>\n",
       "      <td>0.0</td>\n",
       "      <td>NaN</td>\n",
       "      <td>0.0</td>\n",
       "      <td>0.0</td>\n",
       "      <td>60.0</td>\n",
       "    </tr>\n",
       "    <tr>\n",
       "      <th>43</th>\n",
       "      <td>360007701949</td>\n",
       "      <td>HIGH SCHOOL OF FASHION INDUSTRIES (THE)</td>\n",
       "      <td>New York</td>\n",
       "      <td>NEW YORK CITY GEOGRAPHIC DISTRICT # 2</td>\n",
       "      <td>10011</td>\n",
       "      <td>City, large</td>\n",
       "      <td>High</td>\n",
       "      <td>Vocational school</td>\n",
       "      <td>No</td>\n",
       "      <td>1807</td>\n",
       "      <td>...</td>\n",
       "      <td>NaN</td>\n",
       "      <td>NaN</td>\n",
       "      <td>NaN</td>\n",
       "      <td>NaN</td>\n",
       "      <td>0.0</td>\n",
       "      <td>0.0</td>\n",
       "      <td>NaN</td>\n",
       "      <td>0.0</td>\n",
       "      <td>0.0</td>\n",
       "      <td>463.0</td>\n",
       "    </tr>\n",
       "    <tr>\n",
       "      <th>52</th>\n",
       "      <td>360007704519</td>\n",
       "      <td>HIGH SCHOOL OF GRAPHIC COMMUNICATION ARTS</td>\n",
       "      <td>New York</td>\n",
       "      <td>NEW YORK CITY GEOGRAPHIC DISTRICT # 2</td>\n",
       "      <td>10019</td>\n",
       "      <td>City, large</td>\n",
       "      <td>High</td>\n",
       "      <td>Vocational school</td>\n",
       "      <td>No</td>\n",
       "      <td>139</td>\n",
       "      <td>...</td>\n",
       "      <td>NaN</td>\n",
       "      <td>NaN</td>\n",
       "      <td>NaN</td>\n",
       "      <td>NaN</td>\n",
       "      <td>0.0</td>\n",
       "      <td>0.0</td>\n",
       "      <td>NaN</td>\n",
       "      <td>0.0</td>\n",
       "      <td>0.0</td>\n",
       "      <td>14.0</td>\n",
       "    </tr>\n",
       "    <tr>\n",
       "      <th>120</th>\n",
       "      <td>360008401909</td>\n",
       "      <td>ALFRED E SMITH CAREER AND TECHNICAL HIGH SCHOOL</td>\n",
       "      <td>New York</td>\n",
       "      <td>NEW YORK CITY GEOGRAPHIC DISTRICT # 7</td>\n",
       "      <td>10451</td>\n",
       "      <td>City, large</td>\n",
       "      <td>High</td>\n",
       "      <td>Vocational school</td>\n",
       "      <td>No</td>\n",
       "      <td>417</td>\n",
       "      <td>...</td>\n",
       "      <td>NaN</td>\n",
       "      <td>NaN</td>\n",
       "      <td>NaN</td>\n",
       "      <td>NaN</td>\n",
       "      <td>0.0</td>\n",
       "      <td>0.0</td>\n",
       "      <td>NaN</td>\n",
       "      <td>0.0</td>\n",
       "      <td>0.0</td>\n",
       "      <td>32.0</td>\n",
       "    </tr>\n",
       "    <tr>\n",
       "      <th>219</th>\n",
       "      <td>360009101928</td>\n",
       "      <td>BROOKLYN TECHNICAL HIGH SCHOOL</td>\n",
       "      <td>New York</td>\n",
       "      <td>NEW YORK CITY GEOGRAPHIC DISTRICT #13</td>\n",
       "      <td>11217</td>\n",
       "      <td>City, large</td>\n",
       "      <td>High</td>\n",
       "      <td>Vocational school</td>\n",
       "      <td>No</td>\n",
       "      <td>5534</td>\n",
       "      <td>...</td>\n",
       "      <td>NaN</td>\n",
       "      <td>NaN</td>\n",
       "      <td>NaN</td>\n",
       "      <td>NaN</td>\n",
       "      <td>0.0</td>\n",
       "      <td>0.0</td>\n",
       "      <td>NaN</td>\n",
       "      <td>0.0</td>\n",
       "      <td>0.0</td>\n",
       "      <td>1708.0</td>\n",
       "    </tr>\n",
       "    <tr>\n",
       "      <th>220</th>\n",
       "      <td>360009101955</td>\n",
       "      <td>GEORGE WESTINGHOUSE CAREER &amp; TECHNICAL ED HIGH...</td>\n",
       "      <td>New York</td>\n",
       "      <td>NEW YORK CITY GEOGRAPHIC DISTRICT #13</td>\n",
       "      <td>11201</td>\n",
       "      <td>City, large</td>\n",
       "      <td>High</td>\n",
       "      <td>Vocational school</td>\n",
       "      <td>No</td>\n",
       "      <td>613</td>\n",
       "      <td>...</td>\n",
       "      <td>NaN</td>\n",
       "      <td>NaN</td>\n",
       "      <td>NaN</td>\n",
       "      <td>NaN</td>\n",
       "      <td>0.0</td>\n",
       "      <td>0.0</td>\n",
       "      <td>NaN</td>\n",
       "      <td>0.0</td>\n",
       "      <td>0.0</td>\n",
       "      <td>41.0</td>\n",
       "    </tr>\n",
       "    <tr>\n",
       "      <th>247</th>\n",
       "      <td>360009501937</td>\n",
       "      <td>CLARA BARTON HIGH SCHOOL</td>\n",
       "      <td>New York</td>\n",
       "      <td>NEW YORK CITY GEOGRAPHIC DISTRICT #17</td>\n",
       "      <td>11225</td>\n",
       "      <td>City, large</td>\n",
       "      <td>High</td>\n",
       "      <td>Vocational school</td>\n",
       "      <td>No</td>\n",
       "      <td>1352</td>\n",
       "      <td>...</td>\n",
       "      <td>NaN</td>\n",
       "      <td>NaN</td>\n",
       "      <td>NaN</td>\n",
       "      <td>NaN</td>\n",
       "      <td>0.0</td>\n",
       "      <td>0.0</td>\n",
       "      <td>NaN</td>\n",
       "      <td>0.0</td>\n",
       "      <td>0.0</td>\n",
       "      <td>227.0</td>\n",
       "    </tr>\n",
       "    <tr>\n",
       "      <th>281</th>\n",
       "      <td>360009801915</td>\n",
       "      <td>AVIATION CAREER AND TECHNICAL HIGH SCHOOL</td>\n",
       "      <td>New York</td>\n",
       "      <td>NEW YORK CITY GEOGRAPHIC DISTRICT #24</td>\n",
       "      <td>11101</td>\n",
       "      <td>City, large</td>\n",
       "      <td>High</td>\n",
       "      <td>Vocational school</td>\n",
       "      <td>No</td>\n",
       "      <td>2147</td>\n",
       "      <td>...</td>\n",
       "      <td>NaN</td>\n",
       "      <td>NaN</td>\n",
       "      <td>NaN</td>\n",
       "      <td>NaN</td>\n",
       "      <td>0.0</td>\n",
       "      <td>0.0</td>\n",
       "      <td>NaN</td>\n",
       "      <td>0.0</td>\n",
       "      <td>0.0</td>\n",
       "      <td>338.0</td>\n",
       "    </tr>\n",
       "    <tr>\n",
       "      <th>284</th>\n",
       "      <td>360009802860</td>\n",
       "      <td>QUEENS VOCATIONAL AND TECHNICAL HIGH SCHOOL</td>\n",
       "      <td>New York</td>\n",
       "      <td>NEW YORK CITY GEOGRAPHIC DISTRICT #24</td>\n",
       "      <td>11101</td>\n",
       "      <td>City, large</td>\n",
       "      <td>High</td>\n",
       "      <td>Vocational school</td>\n",
       "      <td>No</td>\n",
       "      <td>1581</td>\n",
       "      <td>...</td>\n",
       "      <td>NaN</td>\n",
       "      <td>NaN</td>\n",
       "      <td>NaN</td>\n",
       "      <td>NaN</td>\n",
       "      <td>0.0</td>\n",
       "      <td>0.0</td>\n",
       "      <td>NaN</td>\n",
       "      <td>0.0</td>\n",
       "      <td>0.0</td>\n",
       "      <td>232.0</td>\n",
       "    </tr>\n",
       "  </tbody>\n",
       "</table>\n",
       "<p>10 rows × 61 columns</p>\n",
       "</div>"
      ],
      "text/plain": [
       "          ncessch                                        school_name  \\\n",
       "41   360007701911                         ART AND DESIGN HIGH SCHOOL   \n",
       "42   360007701934  CHELSEA CAREER AND TECHNICAL EDUCATION HIGH SC...   \n",
       "43   360007701949            HIGH SCHOOL OF FASHION INDUSTRIES (THE)   \n",
       "52   360007704519          HIGH SCHOOL OF GRAPHIC COMMUNICATION ARTS   \n",
       "120  360008401909    ALFRED E SMITH CAREER AND TECHNICAL HIGH SCHOOL   \n",
       "219  360009101928                     BROOKLYN TECHNICAL HIGH SCHOOL   \n",
       "220  360009101955  GEORGE WESTINGHOUSE CAREER & TECHNICAL ED HIGH...   \n",
       "247  360009501937                           CLARA BARTON HIGH SCHOOL   \n",
       "281  360009801915          AVIATION CAREER AND TECHNICAL HIGH SCHOOL   \n",
       "284  360009802860        QUEENS VOCATIONAL AND TECHNICAL HIGH SCHOOL   \n",
       "\n",
       "    state_name                               lea_name  zip_location  \\\n",
       "41    New York  NEW YORK CITY GEOGRAPHIC DISTRICT # 2         10019   \n",
       "42    New York  NEW YORK CITY GEOGRAPHIC DISTRICT # 2         10013   \n",
       "43    New York  NEW YORK CITY GEOGRAPHIC DISTRICT # 2         10011   \n",
       "52    New York  NEW YORK CITY GEOGRAPHIC DISTRICT # 2         10019   \n",
       "120   New York  NEW YORK CITY GEOGRAPHIC DISTRICT # 7         10451   \n",
       "219   New York  NEW YORK CITY GEOGRAPHIC DISTRICT #13         11217   \n",
       "220   New York  NEW YORK CITY GEOGRAPHIC DISTRICT #13         11201   \n",
       "247   New York  NEW YORK CITY GEOGRAPHIC DISTRICT #17         11225   \n",
       "281   New York  NEW YORK CITY GEOGRAPHIC DISTRICT #24         11101   \n",
       "284   New York  NEW YORK CITY GEOGRAPHIC DISTRICT #24         11101   \n",
       "\n",
       "    urban_centric_locale school_level        school_type charter enrollment  \\\n",
       "41           City, large         High  Vocational school      No       1448   \n",
       "42           City, large         High  Vocational school      No        439   \n",
       "43           City, large         High  Vocational school      No       1807   \n",
       "52           City, large         High  Vocational school      No        139   \n",
       "120          City, large         High  Vocational school      No        417   \n",
       "219          City, large         High  Vocational school      No       5534   \n",
       "220          City, large         High  Vocational school      No        613   \n",
       "247          City, large         High  Vocational school      No       1352   \n",
       "281          City, large         High  Vocational school      No       2147   \n",
       "284          City, large         High  Vocational school      No       1581   \n",
       "\n",
       "     ...  enrl_algebra2 enrl_physics enrl_geometry instances_mech_restraint  \\\n",
       "41   ...            NaN          NaN           NaN                      NaN   \n",
       "42   ...            NaN          NaN           NaN                      NaN   \n",
       "43   ...            NaN          NaN           NaN                      NaN   \n",
       "52   ...            NaN          NaN           NaN                      NaN   \n",
       "120  ...            NaN          NaN           NaN                      NaN   \n",
       "219  ...            NaN          NaN           NaN                      NaN   \n",
       "220  ...            NaN          NaN           NaN                      NaN   \n",
       "247  ...            NaN          NaN           NaN                      NaN   \n",
       "281  ...            NaN          NaN           NaN                      NaN   \n",
       "284  ...            NaN          NaN           NaN                      NaN   \n",
       "\n",
       "     instances_phys_restraint instances_seclusion students_mech_restraint  \\\n",
       "41                        0.0                 0.0                     NaN   \n",
       "42                        0.0                 0.0                     NaN   \n",
       "43                        0.0                 0.0                     NaN   \n",
       "52                        0.0                 0.0                     NaN   \n",
       "120                       0.0                 0.0                     NaN   \n",
       "219                       0.0                 0.0                     NaN   \n",
       "220                       0.0                 0.0                     NaN   \n",
       "247                       0.0                 0.0                     NaN   \n",
       "281                       0.0                 0.0                     NaN   \n",
       "284                       0.0                 0.0                     NaN   \n",
       "\n",
       "    students_phys_restraint students_seclusion students_SAT_ACT  \n",
       "41                      0.0                0.0            190.0  \n",
       "42                      0.0                0.0             60.0  \n",
       "43                      0.0                0.0            463.0  \n",
       "52                      0.0                0.0             14.0  \n",
       "120                     0.0                0.0             32.0  \n",
       "219                     0.0                0.0           1708.0  \n",
       "220                     0.0                0.0             41.0  \n",
       "247                     0.0                0.0            227.0  \n",
       "281                     0.0                0.0            338.0  \n",
       "284                     0.0                0.0            232.0  \n",
       "\n",
       "[10 rows x 61 columns]"
      ]
     },
     "execution_count": 39,
     "metadata": {},
     "output_type": "execute_result"
    }
   ],
   "source": [
    "df_school_vocational = df_school.loc[df_school['school_type'] == 'Vocational school']\n",
    "df_school_vocational.head(10)"
   ]
  },
  {
   "cell_type": "code",
   "execution_count": 40,
   "metadata": {
    "ExecuteTime": {
     "end_time": "2021-06-14T05:30:51.148361Z",
     "start_time": "2021-06-14T05:30:51.125808Z"
    },
    "scrolled": false
   },
   "outputs": [
    {
     "data": {
      "text/html": [
       "<div>\n",
       "<style scoped>\n",
       "    .dataframe tbody tr th:only-of-type {\n",
       "        vertical-align: middle;\n",
       "    }\n",
       "\n",
       "    .dataframe tbody tr th {\n",
       "        vertical-align: top;\n",
       "    }\n",
       "\n",
       "    .dataframe thead th {\n",
       "        text-align: right;\n",
       "    }\n",
       "</style>\n",
       "<table border=\"1\" class=\"dataframe\">\n",
       "  <thead>\n",
       "    <tr style=\"text-align: right;\">\n",
       "      <th></th>\n",
       "      <th>ncessch</th>\n",
       "      <th>school_name</th>\n",
       "      <th>state_name</th>\n",
       "      <th>lea_name</th>\n",
       "      <th>zip_location</th>\n",
       "      <th>urban_centric_locale</th>\n",
       "      <th>school_level</th>\n",
       "      <th>school_type</th>\n",
       "      <th>charter</th>\n",
       "      <th>enrollment</th>\n",
       "      <th>...</th>\n",
       "      <th>enrl_algebra2</th>\n",
       "      <th>enrl_physics</th>\n",
       "      <th>enrl_geometry</th>\n",
       "      <th>instances_mech_restraint</th>\n",
       "      <th>instances_phys_restraint</th>\n",
       "      <th>instances_seclusion</th>\n",
       "      <th>students_mech_restraint</th>\n",
       "      <th>students_phys_restraint</th>\n",
       "      <th>students_seclusion</th>\n",
       "      <th>students_SAT_ACT</th>\n",
       "    </tr>\n",
       "  </thead>\n",
       "  <tbody>\n",
       "    <tr>\n",
       "      <th>395</th>\n",
       "      <td>360013500806</td>\n",
       "      <td>PS 373 BROOKLYN TRANSITION CENTER</td>\n",
       "      <td>New York</td>\n",
       "      <td>NYC SPECIAL SCHOOLS - DISTRICT 75</td>\n",
       "      <td>11206</td>\n",
       "      <td>City, large</td>\n",
       "      <td>High</td>\n",
       "      <td>Special education school</td>\n",
       "      <td>No</td>\n",
       "      <td>383</td>\n",
       "      <td>...</td>\n",
       "      <td>NaN</td>\n",
       "      <td>NaN</td>\n",
       "      <td>NaN</td>\n",
       "      <td>NaN</td>\n",
       "      <td>0.0</td>\n",
       "      <td>0.0</td>\n",
       "      <td>NaN</td>\n",
       "      <td>0.0</td>\n",
       "      <td>0.0</td>\n",
       "      <td>0.0</td>\n",
       "    </tr>\n",
       "    <tr>\n",
       "      <th>396</th>\n",
       "      <td>360013501923</td>\n",
       "      <td>PS 721 STEVEN MCSWEENEY SCHOOL</td>\n",
       "      <td>New York</td>\n",
       "      <td>NYC SPECIAL SCHOOLS - DISTRICT 75</td>\n",
       "      <td>10461</td>\n",
       "      <td>City, large</td>\n",
       "      <td>High</td>\n",
       "      <td>Special education school</td>\n",
       "      <td>No</td>\n",
       "      <td>561</td>\n",
       "      <td>...</td>\n",
       "      <td>NaN</td>\n",
       "      <td>NaN</td>\n",
       "      <td>NaN</td>\n",
       "      <td>NaN</td>\n",
       "      <td>0.0</td>\n",
       "      <td>0.0</td>\n",
       "      <td>NaN</td>\n",
       "      <td>0.0</td>\n",
       "      <td>0.0</td>\n",
       "      <td>18.0</td>\n",
       "    </tr>\n",
       "    <tr>\n",
       "      <th>397</th>\n",
       "      <td>360013502026</td>\n",
       "      <td>PS 721 MANHATTAN OCCUPATIONAL TRAINING CENTER</td>\n",
       "      <td>New York</td>\n",
       "      <td>NYC SPECIAL SCHOOLS - DISTRICT 75</td>\n",
       "      <td>10014</td>\n",
       "      <td>City, large</td>\n",
       "      <td>High</td>\n",
       "      <td>Special education school</td>\n",
       "      <td>No</td>\n",
       "      <td>176</td>\n",
       "      <td>...</td>\n",
       "      <td>NaN</td>\n",
       "      <td>NaN</td>\n",
       "      <td>NaN</td>\n",
       "      <td>NaN</td>\n",
       "      <td>0.0</td>\n",
       "      <td>0.0</td>\n",
       "      <td>NaN</td>\n",
       "      <td>0.0</td>\n",
       "      <td>0.0</td>\n",
       "      <td>2.0</td>\n",
       "    </tr>\n",
       "    <tr>\n",
       "      <th>398</th>\n",
       "      <td>360013502827</td>\n",
       "      <td>PS 371 LILLIAN L RASHKIS</td>\n",
       "      <td>New York</td>\n",
       "      <td>NYC SPECIAL SCHOOLS - DISTRICT 75</td>\n",
       "      <td>11232</td>\n",
       "      <td>City, large</td>\n",
       "      <td>High</td>\n",
       "      <td>Special education school</td>\n",
       "      <td>No</td>\n",
       "      <td>267</td>\n",
       "      <td>...</td>\n",
       "      <td>NaN</td>\n",
       "      <td>NaN</td>\n",
       "      <td>NaN</td>\n",
       "      <td>NaN</td>\n",
       "      <td>0.0</td>\n",
       "      <td>0.0</td>\n",
       "      <td>NaN</td>\n",
       "      <td>0.0</td>\n",
       "      <td>0.0</td>\n",
       "      <td>6.0</td>\n",
       "    </tr>\n",
       "    <tr>\n",
       "      <th>399</th>\n",
       "      <td>360013502844</td>\n",
       "      <td>PS 811</td>\n",
       "      <td>New York</td>\n",
       "      <td>NYC SPECIAL SCHOOLS - DISTRICT 75</td>\n",
       "      <td>10459</td>\n",
       "      <td>City, large</td>\n",
       "      <td>High</td>\n",
       "      <td>Special education school</td>\n",
       "      <td>No</td>\n",
       "      <td>639</td>\n",
       "      <td>...</td>\n",
       "      <td>NaN</td>\n",
       "      <td>NaN</td>\n",
       "      <td>NaN</td>\n",
       "      <td>NaN</td>\n",
       "      <td>0.0</td>\n",
       "      <td>0.0</td>\n",
       "      <td>NaN</td>\n",
       "      <td>0.0</td>\n",
       "      <td>0.0</td>\n",
       "      <td>2.0</td>\n",
       "    </tr>\n",
       "    <tr>\n",
       "      <th>400</th>\n",
       "      <td>360013502859</td>\n",
       "      <td>JOHN F KENNEDY JR SCHOOL</td>\n",
       "      <td>New York</td>\n",
       "      <td>NYC SPECIAL SCHOOLS - DISTRICT 75</td>\n",
       "      <td>11373</td>\n",
       "      <td>City, large</td>\n",
       "      <td>High</td>\n",
       "      <td>Special education school</td>\n",
       "      <td>No</td>\n",
       "      <td>486</td>\n",
       "      <td>...</td>\n",
       "      <td>NaN</td>\n",
       "      <td>NaN</td>\n",
       "      <td>NaN</td>\n",
       "      <td>NaN</td>\n",
       "      <td>0.0</td>\n",
       "      <td>0.0</td>\n",
       "      <td>NaN</td>\n",
       "      <td>0.0</td>\n",
       "      <td>0.0</td>\n",
       "      <td>2.0</td>\n",
       "    </tr>\n",
       "    <tr>\n",
       "      <th>401</th>\n",
       "      <td>360013502870</td>\n",
       "      <td>MANHATTAN SCHOOL FOR CAREER DEVELOPMENT</td>\n",
       "      <td>New York</td>\n",
       "      <td>NYC SPECIAL SCHOOLS - DISTRICT 75</td>\n",
       "      <td>10003</td>\n",
       "      <td>City, large</td>\n",
       "      <td>High</td>\n",
       "      <td>Special education school</td>\n",
       "      <td>No</td>\n",
       "      <td>188</td>\n",
       "      <td>...</td>\n",
       "      <td>NaN</td>\n",
       "      <td>NaN</td>\n",
       "      <td>NaN</td>\n",
       "      <td>NaN</td>\n",
       "      <td>0.0</td>\n",
       "      <td>0.0</td>\n",
       "      <td>NaN</td>\n",
       "      <td>0.0</td>\n",
       "      <td>0.0</td>\n",
       "      <td>4.0</td>\n",
       "    </tr>\n",
       "    <tr>\n",
       "      <th>402</th>\n",
       "      <td>360013504319</td>\n",
       "      <td>PS 753 SCHOOL FOR CAREER DEVELOPMENT</td>\n",
       "      <td>New York</td>\n",
       "      <td>NYC SPECIAL SCHOOLS - DISTRICT 75</td>\n",
       "      <td>11238</td>\n",
       "      <td>City, large</td>\n",
       "      <td>High</td>\n",
       "      <td>Special education school</td>\n",
       "      <td>No</td>\n",
       "      <td>213</td>\n",
       "      <td>...</td>\n",
       "      <td>NaN</td>\n",
       "      <td>NaN</td>\n",
       "      <td>NaN</td>\n",
       "      <td>NaN</td>\n",
       "      <td>0.0</td>\n",
       "      <td>0.0</td>\n",
       "      <td>NaN</td>\n",
       "      <td>0.0</td>\n",
       "      <td>0.0</td>\n",
       "      <td>0.0</td>\n",
       "    </tr>\n",
       "    <tr>\n",
       "      <th>403</th>\n",
       "      <td>360013504481</td>\n",
       "      <td>QUEENS TRANSITION CENTER</td>\n",
       "      <td>New York</td>\n",
       "      <td>NYC SPECIAL SCHOOLS - DISTRICT 75</td>\n",
       "      <td>11436</td>\n",
       "      <td>City, large</td>\n",
       "      <td>High</td>\n",
       "      <td>Special education school</td>\n",
       "      <td>No</td>\n",
       "      <td>385</td>\n",
       "      <td>...</td>\n",
       "      <td>NaN</td>\n",
       "      <td>NaN</td>\n",
       "      <td>NaN</td>\n",
       "      <td>NaN</td>\n",
       "      <td>0.0</td>\n",
       "      <td>0.0</td>\n",
       "      <td>NaN</td>\n",
       "      <td>0.0</td>\n",
       "      <td>0.0</td>\n",
       "      <td>4.0</td>\n",
       "    </tr>\n",
       "    <tr>\n",
       "      <th>404</th>\n",
       "      <td>360013504522</td>\n",
       "      <td>JM RAPPORT SCHOOL FOR CAREER DEVELOPMENT</td>\n",
       "      <td>New York</td>\n",
       "      <td>NYC SPECIAL SCHOOLS - DISTRICT 75</td>\n",
       "      <td>10455</td>\n",
       "      <td>City, large</td>\n",
       "      <td>High</td>\n",
       "      <td>Special education school</td>\n",
       "      <td>No</td>\n",
       "      <td>509</td>\n",
       "      <td>...</td>\n",
       "      <td>NaN</td>\n",
       "      <td>NaN</td>\n",
       "      <td>NaN</td>\n",
       "      <td>NaN</td>\n",
       "      <td>0.0</td>\n",
       "      <td>0.0</td>\n",
       "      <td>NaN</td>\n",
       "      <td>0.0</td>\n",
       "      <td>0.0</td>\n",
       "      <td>2.0</td>\n",
       "    </tr>\n",
       "  </tbody>\n",
       "</table>\n",
       "<p>10 rows × 61 columns</p>\n",
       "</div>"
      ],
      "text/plain": [
       "          ncessch                                    school_name state_name  \\\n",
       "395  360013500806              PS 373 BROOKLYN TRANSITION CENTER   New York   \n",
       "396  360013501923                 PS 721 STEVEN MCSWEENEY SCHOOL   New York   \n",
       "397  360013502026  PS 721 MANHATTAN OCCUPATIONAL TRAINING CENTER   New York   \n",
       "398  360013502827                       PS 371 LILLIAN L RASHKIS   New York   \n",
       "399  360013502844                                         PS 811   New York   \n",
       "400  360013502859                       JOHN F KENNEDY JR SCHOOL   New York   \n",
       "401  360013502870        MANHATTAN SCHOOL FOR CAREER DEVELOPMENT   New York   \n",
       "402  360013504319           PS 753 SCHOOL FOR CAREER DEVELOPMENT   New York   \n",
       "403  360013504481                       QUEENS TRANSITION CENTER   New York   \n",
       "404  360013504522       JM RAPPORT SCHOOL FOR CAREER DEVELOPMENT   New York   \n",
       "\n",
       "                              lea_name  zip_location urban_centric_locale  \\\n",
       "395  NYC SPECIAL SCHOOLS - DISTRICT 75         11206          City, large   \n",
       "396  NYC SPECIAL SCHOOLS - DISTRICT 75         10461          City, large   \n",
       "397  NYC SPECIAL SCHOOLS - DISTRICT 75         10014          City, large   \n",
       "398  NYC SPECIAL SCHOOLS - DISTRICT 75         11232          City, large   \n",
       "399  NYC SPECIAL SCHOOLS - DISTRICT 75         10459          City, large   \n",
       "400  NYC SPECIAL SCHOOLS - DISTRICT 75         11373          City, large   \n",
       "401  NYC SPECIAL SCHOOLS - DISTRICT 75         10003          City, large   \n",
       "402  NYC SPECIAL SCHOOLS - DISTRICT 75         11238          City, large   \n",
       "403  NYC SPECIAL SCHOOLS - DISTRICT 75         11436          City, large   \n",
       "404  NYC SPECIAL SCHOOLS - DISTRICT 75         10455          City, large   \n",
       "\n",
       "    school_level               school_type charter enrollment  ...  \\\n",
       "395         High  Special education school      No        383  ...   \n",
       "396         High  Special education school      No        561  ...   \n",
       "397         High  Special education school      No        176  ...   \n",
       "398         High  Special education school      No        267  ...   \n",
       "399         High  Special education school      No        639  ...   \n",
       "400         High  Special education school      No        486  ...   \n",
       "401         High  Special education school      No        188  ...   \n",
       "402         High  Special education school      No        213  ...   \n",
       "403         High  Special education school      No        385  ...   \n",
       "404         High  Special education school      No        509  ...   \n",
       "\n",
       "     enrl_algebra2 enrl_physics enrl_geometry instances_mech_restraint  \\\n",
       "395            NaN          NaN           NaN                      NaN   \n",
       "396            NaN          NaN           NaN                      NaN   \n",
       "397            NaN          NaN           NaN                      NaN   \n",
       "398            NaN          NaN           NaN                      NaN   \n",
       "399            NaN          NaN           NaN                      NaN   \n",
       "400            NaN          NaN           NaN                      NaN   \n",
       "401            NaN          NaN           NaN                      NaN   \n",
       "402            NaN          NaN           NaN                      NaN   \n",
       "403            NaN          NaN           NaN                      NaN   \n",
       "404            NaN          NaN           NaN                      NaN   \n",
       "\n",
       "     instances_phys_restraint instances_seclusion students_mech_restraint  \\\n",
       "395                       0.0                 0.0                     NaN   \n",
       "396                       0.0                 0.0                     NaN   \n",
       "397                       0.0                 0.0                     NaN   \n",
       "398                       0.0                 0.0                     NaN   \n",
       "399                       0.0                 0.0                     NaN   \n",
       "400                       0.0                 0.0                     NaN   \n",
       "401                       0.0                 0.0                     NaN   \n",
       "402                       0.0                 0.0                     NaN   \n",
       "403                       0.0                 0.0                     NaN   \n",
       "404                       0.0                 0.0                     NaN   \n",
       "\n",
       "    students_phys_restraint students_seclusion students_SAT_ACT  \n",
       "395                     0.0                0.0              0.0  \n",
       "396                     0.0                0.0             18.0  \n",
       "397                     0.0                0.0              2.0  \n",
       "398                     0.0                0.0              6.0  \n",
       "399                     0.0                0.0              2.0  \n",
       "400                     0.0                0.0              2.0  \n",
       "401                     0.0                0.0              4.0  \n",
       "402                     0.0                0.0              0.0  \n",
       "403                     0.0                0.0              4.0  \n",
       "404                     0.0                0.0              2.0  \n",
       "\n",
       "[10 rows x 61 columns]"
      ]
     },
     "execution_count": 40,
     "metadata": {},
     "output_type": "execute_result"
    }
   ],
   "source": [
    "df_school_special = df_school.loc[df_school['school_type'] == 'Special education school']\n",
    "df_school_special.head(10)"
   ]
  },
  {
   "cell_type": "code",
   "execution_count": 41,
   "metadata": {
    "ExecuteTime": {
     "end_time": "2021-06-14T05:30:51.176948Z",
     "start_time": "2021-06-14T05:30:51.149750Z"
    },
    "scrolled": true
   },
   "outputs": [
    {
     "data": {
      "text/plain": [
       "'percent of nulls in df_school_regular is 16%'"
      ]
     },
     "execution_count": 41,
     "metadata": {},
     "output_type": "execute_result"
    }
   ],
   "source": [
    "#Proportion of nulls regular school type\n",
    "percent_null_df(df_school_regular,'df_school_regular')"
   ]
  },
  {
   "cell_type": "code",
   "execution_count": 42,
   "metadata": {
    "ExecuteTime": {
     "end_time": "2021-06-14T05:30:51.184976Z",
     "start_time": "2021-06-14T05:30:51.179150Z"
    },
    "scrolled": true
   },
   "outputs": [
    {
     "data": {
      "text/plain": [
       "'percent of nulls in df_school_vocational is 35%'"
      ]
     },
     "execution_count": 42,
     "metadata": {},
     "output_type": "execute_result"
    }
   ],
   "source": [
    "#Proportion of nulls vocational school type\n",
    "percent_null_df(df_school_vocational,'df_school_vocational')"
   ]
  },
  {
   "cell_type": "code",
   "execution_count": 43,
   "metadata": {
    "ExecuteTime": {
     "end_time": "2021-06-14T05:30:51.191676Z",
     "start_time": "2021-06-14T05:30:51.186170Z"
    },
    "scrolled": true
   },
   "outputs": [
    {
     "data": {
      "text/plain": [
       "'percent of nulls in df_school_alternative is 41%'"
      ]
     },
     "execution_count": 43,
     "metadata": {},
     "output_type": "execute_result"
    }
   ],
   "source": [
    "#Proportion of nulls alternative school type\n",
    "percent_null_df(df_school_alternative,'df_school_alternative')"
   ]
  },
  {
   "cell_type": "code",
   "execution_count": 44,
   "metadata": {
    "ExecuteTime": {
     "end_time": "2021-06-14T05:30:51.198529Z",
     "start_time": "2021-06-14T05:30:51.192989Z"
    },
    "scrolled": true
   },
   "outputs": [
    {
     "data": {
      "text/plain": [
       "'percent of nulls in df_school_special is 49%'"
      ]
     },
     "execution_count": 44,
     "metadata": {},
     "output_type": "execute_result"
    }
   ],
   "source": [
    "#Proportion of nulls special education school type\n",
    "percent_null_df(df_school_special,'df_school_special')"
   ]
  },
  {
   "cell_type": "markdown",
   "metadata": {},
   "source": [
    "Our Other/alternative school in the school_type field includes jails and detention centers. Many of these correctional facilities have a lot of NaN values in other data fields. We will remove all rows with alternative schools since there seems to be many missing values for these types of schools and because students in these types of schools are experiencing circumstances and educational experiences very different from the majority of students.\n",
    "\n",
    "We will also remove vocational and special education school types as these school types are a small percentage of the data and have high proportion of nulls"
   ]
  },
  {
   "cell_type": "code",
   "execution_count": 45,
   "metadata": {
    "ExecuteTime": {
     "end_time": "2021-06-14T05:30:51.203268Z",
     "start_time": "2021-06-14T05:30:51.199899Z"
    }
   },
   "outputs": [
    {
     "data": {
      "text/plain": [
       "11710"
      ]
     },
     "execution_count": 45,
     "metadata": {},
     "output_type": "execute_result"
    }
   ],
   "source": [
    "df_school.shape[0]"
   ]
  },
  {
   "cell_type": "code",
   "execution_count": 46,
   "metadata": {
    "ExecuteTime": {
     "end_time": "2021-06-14T05:30:51.215315Z",
     "start_time": "2021-06-14T05:30:51.204899Z"
    }
   },
   "outputs": [
    {
     "data": {
      "text/plain": [
       "10893"
      ]
     },
     "execution_count": 46,
     "metadata": {},
     "output_type": "execute_result"
    }
   ],
   "source": [
    "df_school = df_school.loc[df_school['school_type'] == 'Regular school']\n",
    "df_school.shape[0]"
   ]
  },
  {
   "cell_type": "code",
   "execution_count": 47,
   "metadata": {
    "ExecuteTime": {
     "end_time": "2021-06-14T05:30:51.218904Z",
     "start_time": "2021-06-14T05:30:51.217294Z"
    }
   },
   "outputs": [],
   "source": [
    "# # Set it equal to regular instead of taking out each of the three\n",
    "# df_school.drop(df_school[df_school['school_type'] == 'Other/alternative school' ].index, inplace = True)\n",
    "# df_school.shape[0]"
   ]
  },
  {
   "cell_type": "code",
   "execution_count": 48,
   "metadata": {
    "ExecuteTime": {
     "end_time": "2021-06-14T05:30:51.221842Z",
     "start_time": "2021-06-14T05:30:51.220284Z"
    },
    "scrolled": false
   },
   "outputs": [],
   "source": [
    "# df_school.drop(df_school[df_school['school_type'] == 'Vocational school' ].index, inplace = True)\n",
    "# df_school.shape[0]"
   ]
  },
  {
   "cell_type": "code",
   "execution_count": 49,
   "metadata": {
    "ExecuteTime": {
     "end_time": "2021-06-14T05:30:51.225333Z",
     "start_time": "2021-06-14T05:30:51.223547Z"
    },
    "scrolled": true
   },
   "outputs": [],
   "source": [
    "# df_school.drop(df_school[df_school['school_type'] == 'Special education school' ].index, inplace = True)\n",
    "# df_school.shape[0]"
   ]
  },
  {
   "cell_type": "markdown",
   "metadata": {},
   "source": [
    "### Graduation Rate - format the target"
   ]
  },
  {
   "cell_type": "markdown",
   "metadata": {},
   "source": [
    "- The graduation rates are numerical values separated into three columns.\n",
    " - grad_rate_high\n",
    " - grad_rate_midpt \n",
    " - grad_rate_low\n",
    " \n",
    "- Looking at the data documentation from EDFacts https://www2.ed.gov/about/inits/ed/edfacts/index.htmlThe we see that the reason for multiple columns is that some schools choose to report graduation rates in a range so that student privacy is protected. The range creates a low and a high column with the midpoint being the value in the middle of the low and high values.\n",
    "- We will use grad_rate_midpt to measure graduation rates as this is the most balanced.\n",
    "\n",
    "\n",
    "- The federal government defines graduation rates as low when less than 2/3 of a cohort receive a diploma in 4 years or less.  \n",
    "- We will classify high schools with midpoint graduation rates 66 and below as low and high schools with midpoint graduation rates of 67 and above as high.\n"
   ]
  },
  {
   "cell_type": "code",
   "execution_count": 50,
   "metadata": {
    "ExecuteTime": {
     "end_time": "2021-06-14T05:30:51.228946Z",
     "start_time": "2021-06-14T05:30:51.227035Z"
    }
   },
   "outputs": [],
   "source": [
    "#Let's see a few examples of the grad rate reporting range before we drop the high and low cols\n",
    "grad_rate_cols = ['school_name','cohort_num','grad_rate_high','grad_rate_midpt',\n",
    "                  'grad_rate_low']"
   ]
  },
  {
   "cell_type": "code",
   "execution_count": 51,
   "metadata": {
    "ExecuteTime": {
     "end_time": "2021-06-14T05:30:51.239408Z",
     "start_time": "2021-06-14T05:30:51.230315Z"
    }
   },
   "outputs": [
    {
     "data": {
      "text/html": [
       "<div>\n",
       "<style scoped>\n",
       "    .dataframe tbody tr th:only-of-type {\n",
       "        vertical-align: middle;\n",
       "    }\n",
       "\n",
       "    .dataframe tbody tr th {\n",
       "        vertical-align: top;\n",
       "    }\n",
       "\n",
       "    .dataframe thead th {\n",
       "        text-align: right;\n",
       "    }\n",
       "</style>\n",
       "<table border=\"1\" class=\"dataframe\">\n",
       "  <thead>\n",
       "    <tr style=\"text-align: right;\">\n",
       "      <th></th>\n",
       "      <th>school_name</th>\n",
       "      <th>cohort_num</th>\n",
       "      <th>grad_rate_high</th>\n",
       "      <th>grad_rate_midpt</th>\n",
       "      <th>grad_rate_low</th>\n",
       "    </tr>\n",
       "  </thead>\n",
       "  <tbody>\n",
       "    <tr>\n",
       "      <th>0</th>\n",
       "      <td>JAMES A GREEN HIGH SCHOOL</td>\n",
       "      <td>70.0</td>\n",
       "      <td>89</td>\n",
       "      <td>87</td>\n",
       "      <td>85</td>\n",
       "    </tr>\n",
       "    <tr>\n",
       "      <th>1</th>\n",
       "      <td>SAUQUOIT VALLEY HIGH SCHOOL</td>\n",
       "      <td>86.0</td>\n",
       "      <td>94</td>\n",
       "      <td>92</td>\n",
       "      <td>90</td>\n",
       "    </tr>\n",
       "    <tr>\n",
       "      <th>2</th>\n",
       "      <td>EDWARDS-KNOX JUNIOR-SENIOR HIGH SCHOOL</td>\n",
       "      <td>51.0</td>\n",
       "      <td>79</td>\n",
       "      <td>74</td>\n",
       "      <td>70</td>\n",
       "    </tr>\n",
       "    <tr>\n",
       "      <th>3</th>\n",
       "      <td>MOHONASEN SENIOR HIGH SCHOOL</td>\n",
       "      <td>227.0</td>\n",
       "      <td>85</td>\n",
       "      <td>85</td>\n",
       "      <td>85</td>\n",
       "    </tr>\n",
       "    <tr>\n",
       "      <th>4</th>\n",
       "      <td>BROADALBIN-PERTH HIGH SCHOOL</td>\n",
       "      <td>132.0</td>\n",
       "      <td>94</td>\n",
       "      <td>92</td>\n",
       "      <td>90</td>\n",
       "    </tr>\n",
       "    <tr>\n",
       "      <th>5</th>\n",
       "      <td>JASPER-TROUPSBURG JUNIOR-SENIOR HIGH SCHOOL</td>\n",
       "      <td>49.0</td>\n",
       "      <td>79</td>\n",
       "      <td>74</td>\n",
       "      <td>70</td>\n",
       "    </tr>\n",
       "    <tr>\n",
       "      <th>6</th>\n",
       "      <td>BELLPORT SENIOR HIGH SCHOOL</td>\n",
       "      <td>349.0</td>\n",
       "      <td>84</td>\n",
       "      <td>84</td>\n",
       "      <td>84</td>\n",
       "    </tr>\n",
       "    <tr>\n",
       "      <th>7</th>\n",
       "      <td>SARANAC HIGH SCHOOL</td>\n",
       "      <td>131.0</td>\n",
       "      <td>89</td>\n",
       "      <td>87</td>\n",
       "      <td>85</td>\n",
       "    </tr>\n",
       "    <tr>\n",
       "      <th>8</th>\n",
       "      <td>WAYLAND-COHOCTON HIGH SCHOOL</td>\n",
       "      <td>103.0</td>\n",
       "      <td>94</td>\n",
       "      <td>92</td>\n",
       "      <td>90</td>\n",
       "    </tr>\n",
       "    <tr>\n",
       "      <th>9</th>\n",
       "      <td>ONEIDA SENIOR HIGH SCHOOL</td>\n",
       "      <td>171.0</td>\n",
       "      <td>84</td>\n",
       "      <td>82</td>\n",
       "      <td>80</td>\n",
       "    </tr>\n",
       "  </tbody>\n",
       "</table>\n",
       "</div>"
      ],
      "text/plain": [
       "                                   school_name  cohort_num grad_rate_high  \\\n",
       "0                    JAMES A GREEN HIGH SCHOOL        70.0             89   \n",
       "1                  SAUQUOIT VALLEY HIGH SCHOOL        86.0             94   \n",
       "2       EDWARDS-KNOX JUNIOR-SENIOR HIGH SCHOOL        51.0             79   \n",
       "3                 MOHONASEN SENIOR HIGH SCHOOL       227.0             85   \n",
       "4                 BROADALBIN-PERTH HIGH SCHOOL       132.0             94   \n",
       "5  JASPER-TROUPSBURG JUNIOR-SENIOR HIGH SCHOOL        49.0             79   \n",
       "6                  BELLPORT SENIOR HIGH SCHOOL       349.0             84   \n",
       "7                          SARANAC HIGH SCHOOL       131.0             89   \n",
       "8                 WAYLAND-COHOCTON HIGH SCHOOL       103.0             94   \n",
       "9                    ONEIDA SENIOR HIGH SCHOOL       171.0             84   \n",
       "\n",
       "  grad_rate_midpt grad_rate_low  \n",
       "0              87            85  \n",
       "1              92            90  \n",
       "2              74            70  \n",
       "3              85            85  \n",
       "4              92            90  \n",
       "5              74            70  \n",
       "6              84            84  \n",
       "7              87            85  \n",
       "8              92            90  \n",
       "9              82            80  "
      ]
     },
     "execution_count": 51,
     "metadata": {},
     "output_type": "execute_result"
    }
   ],
   "source": [
    "df_school[grad_rate_cols].head(10)"
   ]
  },
  {
   "cell_type": "code",
   "execution_count": 52,
   "metadata": {
    "ExecuteTime": {
     "end_time": "2021-06-14T05:30:51.246700Z",
     "start_time": "2021-06-14T05:30:51.241254Z"
    }
   },
   "outputs": [],
   "source": [
    "df_school = df_school.drop(['grad_rate_high','grad_rate_low'], axis=1)"
   ]
  },
  {
   "cell_type": "code",
   "execution_count": 53,
   "metadata": {
    "ExecuteTime": {
     "end_time": "2021-06-14T05:30:51.268021Z",
     "start_time": "2021-06-14T05:30:51.247922Z"
    },
    "scrolled": true
   },
   "outputs": [
    {
     "name": "stdout",
     "output_type": "stream",
     "text": [
      "<class 'pandas.core.frame.DataFrame'>\n",
      "Int64Index: 10893 entries, 0 to 491\n",
      "Data columns (total 59 columns):\n",
      " #   Column                           Non-Null Count  Dtype  \n",
      "---  ------                           --------------  -----  \n",
      " 0   ncessch                          10893 non-null  int64  \n",
      " 1   school_name                      10893 non-null  object \n",
      " 2   state_name                       10893 non-null  object \n",
      " 3   lea_name                         10893 non-null  object \n",
      " 4   zip_location                     10893 non-null  int64  \n",
      " 5   urban_centric_locale             10879 non-null  object \n",
      " 6   school_level                     10780 non-null  object \n",
      " 7   school_type                      10893 non-null  object \n",
      " 8   charter                          10591 non-null  object \n",
      " 9   enrollment                       10768 non-null  object \n",
      " 10  read_test_num_valid              10097 non-null  float64\n",
      " 11  read_test_pct_prof_low           10054 non-null  object \n",
      " 12  read_test_pct_prof_high          10054 non-null  object \n",
      " 13  read_test_pct_prof_midpt         10054 non-null  object \n",
      " 14  math_test_num_valid              10098 non-null  float64\n",
      " 15  math_test_pct_prof_low           10050 non-null  object \n",
      " 16  math_test_pct_prof_high          10050 non-null  object \n",
      " 17  math_test_pct_prof_midpt         10050 non-null  object \n",
      " 18  students_susp_in_sch             10559 non-null  object \n",
      " 19  students_susp_out_sch_single     10560 non-null  object \n",
      " 20  students_susp_out_sch_multiple   10560 non-null  object \n",
      " 21  expulsions_no_ed_serv            10561 non-null  object \n",
      " 22  expulsions_with_ed_serv          10559 non-null  object \n",
      " 23  expulsions_zero_tolerance        10561 non-null  object \n",
      " 24  students_arrested                10212 non-null  object \n",
      " 25  students_referred_law_enforce    10557 non-null  object \n",
      " 26  transfers_alt_sch_disc           10698 non-null  float64\n",
      " 27  days_suspended                   10346 non-null  float64\n",
      " 28  suspensions_instances_preschool  10346 non-null  float64\n",
      " 29  suspensions_instances            10346 non-null  float64\n",
      " 30  corpinstances                    10346 non-null  float64\n",
      " 31  salaries_teachers                10165 non-null  object \n",
      " 32  cohort_num                       2828 non-null   float64\n",
      " 33  grad_rate_midpt                  2813 non-null   object \n",
      " 34  allegations_harass_sex           10560 non-null  object \n",
      " 35  allegations_harass_race          10560 non-null  object \n",
      " 36  allegations_harass_disability    10560 non-null  object \n",
      " 37  allegations_harass_orientation   10560 non-null  object \n",
      " 38  allegations_harass_religion      10560 non-null  object \n",
      " 39  students_disc_harass_dis         10698 non-null  float64\n",
      " 40  students_disc_harass_race        10698 non-null  float64\n",
      " 41  students_disc_harass_sex         10698 non-null  float64\n",
      " 42  students_report_harass_dis       10698 non-null  float64\n",
      " 43  students_report_harass_race      10698 non-null  float64\n",
      " 44  students_report_harass_sex       10698 non-null  float64\n",
      " 45  enrl_biology                     2494 non-null   float64\n",
      " 46  enrl_chemistry                   2423 non-null   float64\n",
      " 47  enrl_advanced_math               2246 non-null   float64\n",
      " 48  enrl_calculus                    2131 non-null   float64\n",
      " 49  enrl_algebra2                    2447 non-null   float64\n",
      " 50  enrl_physics                     2265 non-null   float64\n",
      " 51  enrl_geometry                    2471 non-null   float64\n",
      " 52  instances_mech_restraint         10003 non-null  float64\n",
      " 53  instances_phys_restraint         10350 non-null  float64\n",
      " 54  instances_seclusion              10350 non-null  float64\n",
      " 55  students_mech_restraint          10004 non-null  float64\n",
      " 56  students_phys_restraint          10298 non-null  float64\n",
      " 57  students_seclusion               10351 non-null  float64\n",
      " 58  students_SAT_ACT                 10698 non-null  float64\n",
      "dtypes: float64(28), int64(2), object(29)\n",
      "memory usage: 5.0+ MB\n"
     ]
    }
   ],
   "source": [
    "df_school.info()"
   ]
  },
  {
   "cell_type": "code",
   "execution_count": 54,
   "metadata": {
    "ExecuteTime": {
     "end_time": "2021-06-14T05:30:51.274945Z",
     "start_time": "2021-06-14T05:30:51.269416Z"
    },
    "scrolled": true
   },
   "outputs": [
    {
     "data": {
      "text/plain": [
       "NaN     0.741761\n",
       "97      0.029560\n",
       "92      0.027173\n",
       "87      0.017167\n",
       "97.0    0.013219\n",
       "          ...   \n",
       "66.0    0.000092\n",
       "36      0.000092\n",
       "35      0.000092\n",
       "70.0    0.000092\n",
       "48      0.000092\n",
       "Name: grad_rate_midpt, Length: 125, dtype: float64"
      ]
     },
     "execution_count": 54,
     "metadata": {},
     "output_type": "execute_result"
    }
   ],
   "source": [
    "df_school['grad_rate_midpt'].value_counts(normalize=True,dropna=False)"
   ]
  },
  {
   "cell_type": "code",
   "execution_count": 55,
   "metadata": {
    "ExecuteTime": {
     "end_time": "2021-06-14T05:30:51.288027Z",
     "start_time": "2021-06-14T05:30:51.276381Z"
    }
   },
   "outputs": [],
   "source": [
    "df_school.update(df_school[['grad_rate_midpt']].fillna(0))"
   ]
  },
  {
   "cell_type": "code",
   "execution_count": 56,
   "metadata": {
    "ExecuteTime": {
     "end_time": "2021-06-14T05:30:51.293218Z",
     "start_time": "2021-06-14T05:30:51.289747Z"
    }
   },
   "outputs": [
    {
     "data": {
      "text/plain": [
       "(10893, 59)"
      ]
     },
     "execution_count": 56,
     "metadata": {},
     "output_type": "execute_result"
    }
   ],
   "source": [
    "df_school.shape"
   ]
  },
  {
   "cell_type": "code",
   "execution_count": 57,
   "metadata": {
    "ExecuteTime": {
     "end_time": "2021-06-14T05:30:51.301117Z",
     "start_time": "2021-06-14T05:30:51.295292Z"
    },
    "scrolled": true
   },
   "outputs": [
    {
     "data": {
      "text/plain": [
       "0       0.741761\n",
       "97      0.029560\n",
       "92      0.027173\n",
       "87      0.017167\n",
       "97.0    0.013219\n",
       "          ...   \n",
       "66.0    0.000092\n",
       "36      0.000092\n",
       "35      0.000092\n",
       "70.0    0.000092\n",
       "48      0.000092\n",
       "Name: grad_rate_midpt, Length: 125, dtype: float64"
      ]
     },
     "execution_count": 57,
     "metadata": {},
     "output_type": "execute_result"
    }
   ],
   "source": [
    "df_school['grad_rate_midpt'].value_counts(normalize=True,dropna=False)"
   ]
  },
  {
   "cell_type": "code",
   "execution_count": 58,
   "metadata": {
    "ExecuteTime": {
     "end_time": "2021-06-14T05:30:51.305526Z",
     "start_time": "2021-06-14T05:30:51.302714Z"
    },
    "scrolled": true
   },
   "outputs": [
    {
     "data": {
      "text/plain": [
       "1755.3000000000002"
      ]
     },
     "execution_count": 58,
     "metadata": {},
     "output_type": "execute_result"
    }
   ],
   "source": [
    "5851*(1-.7)"
   ]
  },
  {
   "cell_type": "code",
   "execution_count": 59,
   "metadata": {
    "ExecuteTime": {
     "end_time": "2021-06-14T05:30:51.311545Z",
     "start_time": "2021-06-14T05:30:51.306904Z"
    }
   },
   "outputs": [],
   "source": [
    "df_school = df_school[df_school.grad_rate_midpt != 0]"
   ]
  },
  {
   "cell_type": "code",
   "execution_count": 60,
   "metadata": {
    "ExecuteTime": {
     "end_time": "2021-06-14T05:30:51.315665Z",
     "start_time": "2021-06-14T05:30:51.312893Z"
    }
   },
   "outputs": [
    {
     "data": {
      "text/plain": [
       "2813"
      ]
     },
     "execution_count": 60,
     "metadata": {},
     "output_type": "execute_result"
    }
   ],
   "source": [
    "df_school.shape[0]"
   ]
  },
  {
   "cell_type": "code",
   "execution_count": 61,
   "metadata": {
    "ExecuteTime": {
     "end_time": "2021-06-14T05:30:51.321837Z",
     "start_time": "2021-06-14T05:30:51.317007Z"
    }
   },
   "outputs": [],
   "source": [
    "# convert grad rate columns to numeric\n",
    "df_school[['grad_rate_midpt']] = df_school[['grad_rate_midpt']].astype(str).astype(float).astype(int)\n"
   ]
  },
  {
   "cell_type": "code",
   "execution_count": 62,
   "metadata": {
    "ExecuteTime": {
     "end_time": "2021-06-14T05:30:51.330653Z",
     "start_time": "2021-06-14T05:30:51.322993Z"
    }
   },
   "outputs": [
    {
     "name": "stdout",
     "output_type": "stream",
     "text": [
      "count    2813.000000\n",
      "mean       84.835763\n",
      "std        16.951988\n",
      "min         2.000000\n",
      "25%        82.000000\n",
      "50%        92.000000\n",
      "75%        96.000000\n",
      "max        99.000000\n",
      "Name: grad_rate_midpt, dtype: float64\n"
     ]
    }
   ],
   "source": [
    "# Let's take a look at the summary statistics for the grad_rate_midpt column\n",
    "\n",
    "print(df_school['grad_rate_midpt'].describe())\n"
   ]
  },
  {
   "cell_type": "code",
   "execution_count": 63,
   "metadata": {
    "ExecuteTime": {
     "end_time": "2021-06-14T05:30:51.338068Z",
     "start_time": "2021-06-14T05:30:51.332889Z"
    }
   },
   "outputs": [
    {
     "name": "stdout",
     "output_type": "stream",
     "text": [
      "grad_rate_midpt \n",
      " 97    0.165659\n",
      "92    0.143619\n",
      "87    0.094205\n",
      "95    0.069677\n",
      "82    0.044437\n",
      "Name: grad_rate_midpt, dtype: float64 \n",
      "\n",
      "\n"
     ]
    }
   ],
   "source": [
    " print('grad_rate_midpt', '\\n', df_school['grad_rate_midpt'].value_counts(normalize=True).head(), '\\n\\n')"
   ]
  },
  {
   "cell_type": "code",
   "execution_count": 64,
   "metadata": {
    "ExecuteTime": {
     "end_time": "2021-06-14T05:30:51.494651Z",
     "start_time": "2021-06-14T05:30:51.340284Z"
    },
    "scrolled": false
   },
   "outputs": [
    {
     "data": {
      "image/png": "[encoded data removed]",
      "text/plain": [
       "<Figure size 432x288 with 1 Axes>"
      ]
     },
     "metadata": {
      "needs_background": "light"
     },
     "output_type": "display_data"
    }
   ],
   "source": [
    "# Plot of the target status group\n",
    "\n",
    "plt.hist(df_school['grad_rate_midpt'])\n",
    "plt.xlabel('Graduation Rate', fontsize=14)\n",
    "plt.title(\"Distribution Graduation Rates\", fontsize=16)\n",
    "plt.show()\n"
   ]
  },
  {
   "cell_type": "markdown",
   "metadata": {},
   "source": [
    "It looks like there is a strong skew towards higher performing high schools. Lets go ahead and bin our values and then take a look at the distribution again."
   ]
  },
  {
   "cell_type": "markdown",
   "metadata": {},
   "source": [
    "#### Bin the target"
   ]
  },
  {
   "cell_type": "markdown",
   "metadata": {},
   "source": [
    "As stated above based on how the federal government defines low graduation rates we will be dividing graduation rates into two bins:\n",
    "- Low: 66 and below\n",
    "- High: 67 and above"
   ]
  },
  {
   "cell_type": "code",
   "execution_count": 65,
   "metadata": {
    "ExecuteTime": {
     "end_time": "2021-06-14T05:30:51.499298Z",
     "start_time": "2021-06-14T05:30:51.496648Z"
    }
   },
   "outputs": [],
   "source": [
    "#Based on the federal government's definition we will define the bin ranges.\n",
    "tsh_bins = [-1,0,20,350000]\n",
    "grad_rate_bins = [0,66,100]"
   ]
  },
  {
   "cell_type": "code",
   "execution_count": 66,
   "metadata": {
    "ExecuteTime": {
     "end_time": "2021-06-14T05:30:51.506507Z",
     "start_time": "2021-06-14T05:30:51.501404Z"
    }
   },
   "outputs": [],
   "source": [
    "# now lets convert the grad_rate_midpt column to binned categories\n",
    "# note that when binning these, the default setting is that the values on the right are included in the bin\n",
    "\n",
    "df_school['grad_rate_midpt'] = pd.cut(df_school['grad_rate_midpt'], grad_rate_bins)"
   ]
  },
  {
   "cell_type": "code",
   "execution_count": 67,
   "metadata": {
    "ExecuteTime": {
     "end_time": "2021-06-14T05:30:51.512769Z",
     "start_time": "2021-06-14T05:30:51.507864Z"
    },
    "scrolled": false
   },
   "outputs": [
    {
     "name": "stdout",
     "output_type": "stream",
     "text": [
      "(66, 100]    0.89513\n",
      "(0, 66]      0.10487\n",
      "Name: grad_rate_midpt, dtype: float64\n"
     ]
    }
   ],
   "source": [
    "# and we will also take a look at the distribution across bins \n",
    "print(df_school['grad_rate_midpt'].value_counts(normalize=True, dropna=False))"
   ]
  },
  {
   "cell_type": "code",
   "execution_count": 68,
   "metadata": {
    "ExecuteTime": {
     "end_time": "2021-06-14T05:30:51.527505Z",
     "start_time": "2021-06-14T05:30:51.525778Z"
    }
   },
   "outputs": [],
   "source": [
    "# We need to address this class imbalance\n"
   ]
  },
  {
   "cell_type": "markdown",
   "metadata": {},
   "source": [
    "#### Encode the target"
   ]
  },
  {
   "cell_type": "code",
   "execution_count": 69,
   "metadata": {
    "ExecuteTime": {
     "end_time": "2021-06-14T05:30:51.543896Z",
     "start_time": "2021-06-14T05:30:51.535731Z"
    },
    "scrolled": true
   },
   "outputs": [
    {
     "data": {
      "text/plain": [
       "(66, 100]    0.89513\n",
       "(0, 66]      0.10487\n",
       "Name: grad_rate_midpt, dtype: float64"
      ]
     },
     "execution_count": 69,
     "metadata": {},
     "output_type": "execute_result"
    }
   ],
   "source": [
    "df_school['grad_rate_midpt'].value_counts(normalize=True, dropna=False)"
   ]
  },
  {
   "cell_type": "code",
   "execution_count": 70,
   "metadata": {
    "ExecuteTime": {
     "end_time": "2021-06-14T05:30:51.559133Z",
     "start_time": "2021-06-14T05:30:51.545631Z"
    }
   },
   "outputs": [],
   "source": [
    " df_school['grad_rate_midpt'] = df_school['grad_rate_midpt'].astype(str)"
   ]
  },
  {
   "cell_type": "code",
   "execution_count": 71,
   "metadata": {
    "ExecuteTime": {
     "end_time": "2021-06-14T05:30:51.567804Z",
     "start_time": "2021-06-14T05:30:51.561423Z"
    },
    "scrolled": true
   },
   "outputs": [
    {
     "data": {
      "text/plain": [
       "(66, 100]    0.89513\n",
       "(0, 66]      0.10487\n",
       "Name: grad_rate_midpt, dtype: float64"
      ]
     },
     "execution_count": 71,
     "metadata": {},
     "output_type": "execute_result"
    }
   ],
   "source": [
    "df_school['grad_rate_midpt'].value_counts(normalize=True, dropna=False)"
   ]
  },
  {
   "cell_type": "code",
   "execution_count": 72,
   "metadata": {
    "ExecuteTime": {
     "end_time": "2021-06-14T05:30:51.573025Z",
     "start_time": "2021-06-14T05:30:51.569841Z"
    }
   },
   "outputs": [],
   "source": [
    " df_school['grad_rate_midpt'] = df_school['grad_rate_midpt'].replace('(0, 66]', 0)"
   ]
  },
  {
   "cell_type": "code",
   "execution_count": 73,
   "metadata": {
    "ExecuteTime": {
     "end_time": "2021-06-14T05:30:51.578806Z",
     "start_time": "2021-06-14T05:30:51.574959Z"
    }
   },
   "outputs": [],
   "source": [
    " df_school['grad_rate_midpt'] = df_school['grad_rate_midpt'].replace('(66, 100]', 1)"
   ]
  },
  {
   "cell_type": "markdown",
   "metadata": {},
   "source": [
    "### subject enrollment - drop all enrl columns"
   ]
  },
  {
   "cell_type": "code",
   "execution_count": 74,
   "metadata": {
    "ExecuteTime": {
     "end_time": "2021-06-14T05:30:51.591280Z",
     "start_time": "2021-06-14T05:30:51.580226Z"
    }
   },
   "outputs": [
    {
     "data": {
      "text/plain": [
       "'percent of nulls in df_school is 4%'"
      ]
     },
     "execution_count": 74,
     "metadata": {},
     "output_type": "execute_result"
    }
   ],
   "source": [
    "#Let's look at how many nulls we are dealing with now\n",
    "percent_null_df(df_school,'df_school')"
   ]
  },
  {
   "cell_type": "code",
   "execution_count": 75,
   "metadata": {
    "ExecuteTime": {
     "end_time": "2021-06-14T05:30:51.605631Z",
     "start_time": "2021-06-14T05:30:51.592741Z"
    }
   },
   "outputs": [
    {
     "name": "stdout",
     "output_type": "stream",
     "text": [
      "<class 'pandas.core.frame.DataFrame'>\n",
      "Int64Index: 2813 entries, 0 to 491\n",
      "Data columns (total 59 columns):\n",
      " #   Column                           Non-Null Count  Dtype  \n",
      "---  ------                           --------------  -----  \n",
      " 0   ncessch                          2813 non-null   int64  \n",
      " 1   school_name                      2813 non-null   object \n",
      " 2   state_name                       2813 non-null   object \n",
      " 3   lea_name                         2813 non-null   object \n",
      " 4   zip_location                     2813 non-null   int64  \n",
      " 5   urban_centric_locale             2813 non-null   object \n",
      " 6   school_level                     2813 non-null   object \n",
      " 7   school_type                      2813 non-null   object \n",
      " 8   charter                          2753 non-null   object \n",
      " 9   enrollment                       2811 non-null   object \n",
      " 10  read_test_num_valid              2807 non-null   float64\n",
      " 11  read_test_pct_prof_low           2792 non-null   object \n",
      " 12  read_test_pct_prof_high          2792 non-null   object \n",
      " 13  read_test_pct_prof_midpt         2792 non-null   object \n",
      " 14  math_test_num_valid              2808 non-null   float64\n",
      " 15  math_test_pct_prof_low           2788 non-null   object \n",
      " 16  math_test_pct_prof_high          2788 non-null   object \n",
      " 17  math_test_pct_prof_midpt         2788 non-null   object \n",
      " 18  students_susp_in_sch             2795 non-null   object \n",
      " 19  students_susp_out_sch_single     2795 non-null   object \n",
      " 20  students_susp_out_sch_multiple   2795 non-null   object \n",
      " 21  expulsions_no_ed_serv            2795 non-null   object \n",
      " 22  expulsions_with_ed_serv          2795 non-null   object \n",
      " 23  expulsions_zero_tolerance        2795 non-null   object \n",
      " 24  students_arrested                2458 non-null   object \n",
      " 25  students_referred_law_enforce    2793 non-null   object \n",
      " 26  transfers_alt_sch_disc           2795 non-null   float64\n",
      " 27  days_suspended                   2455 non-null   float64\n",
      " 28  suspensions_instances_preschool  2455 non-null   float64\n",
      " 29  suspensions_instances            2455 non-null   float64\n",
      " 30  corpinstances                    2455 non-null   float64\n",
      " 31  salaries_teachers                2440 non-null   object \n",
      " 32  cohort_num                       2813 non-null   float64\n",
      " 33  grad_rate_midpt                  2813 non-null   int64  \n",
      " 34  allegations_harass_sex           2794 non-null   object \n",
      " 35  allegations_harass_race          2794 non-null   object \n",
      " 36  allegations_harass_disability    2794 non-null   object \n",
      " 37  allegations_harass_orientation   2794 non-null   object \n",
      " 38  allegations_harass_religion      2794 non-null   object \n",
      " 39  students_disc_harass_dis         2795 non-null   float64\n",
      " 40  students_disc_harass_race        2795 non-null   float64\n",
      " 41  students_disc_harass_sex         2795 non-null   float64\n",
      " 42  students_report_harass_dis       2795 non-null   float64\n",
      " 43  students_report_harass_race      2795 non-null   float64\n",
      " 44  students_report_harass_sex       2795 non-null   float64\n",
      " 45  enrl_biology                     2407 non-null   float64\n",
      " 46  enrl_chemistry                   2371 non-null   float64\n",
      " 47  enrl_advanced_math               2205 non-null   float64\n",
      " 48  enrl_calculus                    2097 non-null   float64\n",
      " 49  enrl_algebra2                    2372 non-null   float64\n",
      " 50  enrl_physics                     2218 non-null   float64\n",
      " 51  enrl_geometry                    2384 non-null   float64\n",
      " 52  instances_mech_restraint         2417 non-null   float64\n",
      " 53  instances_phys_restraint         2754 non-null   float64\n",
      " 54  instances_seclusion              2754 non-null   float64\n",
      " 55  students_mech_restraint          2418 non-null   float64\n",
      " 56  students_phys_restraint          2741 non-null   float64\n",
      " 57  students_seclusion               2755 non-null   float64\n",
      " 58  students_SAT_ACT                 2795 non-null   float64\n",
      "dtypes: float64(28), int64(3), object(28)\n",
      "memory usage: 1.3+ MB\n"
     ]
    }
   ],
   "source": [
    "df_school.info()"
   ]
  },
  {
   "cell_type": "markdown",
   "metadata": {},
   "source": [
    "The class subject enrollment columns stand out as having the most null values let's drop those columns."
   ]
  },
  {
   "cell_type": "code",
   "execution_count": 76,
   "metadata": {
    "ExecuteTime": {
     "end_time": "2021-06-14T05:30:51.612689Z",
     "start_time": "2021-06-14T05:30:51.607720Z"
    },
    "scrolled": true
   },
   "outputs": [],
   "source": [
    "df_school = df_school.drop(['enrl_biology', 'enrl_chemistry','enrl_advanced_math',\n",
    "                            'enrl_calculus','enrl_algebra2','enrl_physics',\n",
    "                            'enrl_geometry'], axis=1)"
   ]
  },
  {
   "cell_type": "code",
   "execution_count": 77,
   "metadata": {
    "ExecuteTime": {
     "end_time": "2021-06-14T05:30:51.625027Z",
     "start_time": "2021-06-14T05:30:51.614386Z"
    }
   },
   "outputs": [
    {
     "data": {
      "text/plain": [
       "'percent of nulls in df_school is 2%'"
      ]
     },
     "execution_count": 77,
     "metadata": {},
     "output_type": "execute_result"
    }
   ],
   "source": [
    "#How do our nulls look\n",
    "percent_null_df(df_school,'df_school')"
   ]
  },
  {
   "cell_type": "markdown",
   "metadata": {},
   "source": [
    "### Encode Charter"
   ]
  },
  {
   "cell_type": "code",
   "execution_count": 78,
   "metadata": {
    "ExecuteTime": {
     "end_time": "2021-06-14T05:30:51.631622Z",
     "start_time": "2021-06-14T05:30:51.626325Z"
    },
    "scrolled": false
   },
   "outputs": [
    {
     "data": {
      "text/plain": [
       "No     0.91006\n",
       "Yes    0.06861\n",
       "NaN    0.02133\n",
       "Name: charter, dtype: float64"
      ]
     },
     "execution_count": 78,
     "metadata": {},
     "output_type": "execute_result"
    }
   ],
   "source": [
    "df_school['charter'].value_counts(normalize=True, dropna=False)"
   ]
  },
  {
   "cell_type": "code",
   "execution_count": 79,
   "metadata": {
    "ExecuteTime": {
     "end_time": "2021-06-14T05:30:51.636146Z",
     "start_time": "2021-06-14T05:30:51.633116Z"
    }
   },
   "outputs": [],
   "source": [
    " df_school['charter'] = df_school['charter'].replace('No', 0)"
   ]
  },
  {
   "cell_type": "code",
   "execution_count": 80,
   "metadata": {
    "ExecuteTime": {
     "end_time": "2021-06-14T05:30:51.641521Z",
     "start_time": "2021-06-14T05:30:51.637524Z"
    }
   },
   "outputs": [],
   "source": [
    " df_school['charter'] = df_school['charter'].replace('Yes', 1)"
   ]
  },
  {
   "cell_type": "code",
   "execution_count": 81,
   "metadata": {
    "ExecuteTime": {
     "end_time": "2021-06-14T05:30:51.647507Z",
     "start_time": "2021-06-14T05:30:51.642865Z"
    },
    "scrolled": true
   },
   "outputs": [
    {
     "data": {
      "text/plain": [
       "0.0    0.91006\n",
       "1.0    0.06861\n",
       "NaN    0.02133\n",
       "Name: charter, dtype: float64"
      ]
     },
     "execution_count": 81,
     "metadata": {},
     "output_type": "execute_result"
    }
   ],
   "source": [
    "df_school['charter'].value_counts(normalize=True, dropna=False)"
   ]
  },
  {
   "cell_type": "markdown",
   "metadata": {},
   "source": [
    "### Reading and Math Tests"
   ]
  },
  {
   "cell_type": "code",
   "execution_count": 82,
   "metadata": {
    "ExecuteTime": {
     "end_time": "2021-06-14T05:30:51.661221Z",
     "start_time": "2021-06-14T05:30:51.648756Z"
    }
   },
   "outputs": [
    {
     "name": "stdout",
     "output_type": "stream",
     "text": [
      "<class 'pandas.core.frame.DataFrame'>\n",
      "Int64Index: 2813 entries, 0 to 491\n",
      "Data columns (total 52 columns):\n",
      " #   Column                           Non-Null Count  Dtype  \n",
      "---  ------                           --------------  -----  \n",
      " 0   ncessch                          2813 non-null   int64  \n",
      " 1   school_name                      2813 non-null   object \n",
      " 2   state_name                       2813 non-null   object \n",
      " 3   lea_name                         2813 non-null   object \n",
      " 4   zip_location                     2813 non-null   int64  \n",
      " 5   urban_centric_locale             2813 non-null   object \n",
      " 6   school_level                     2813 non-null   object \n",
      " 7   school_type                      2813 non-null   object \n",
      " 8   charter                          2753 non-null   float64\n",
      " 9   enrollment                       2811 non-null   object \n",
      " 10  read_test_num_valid              2807 non-null   float64\n",
      " 11  read_test_pct_prof_low           2792 non-null   object \n",
      " 12  read_test_pct_prof_high          2792 non-null   object \n",
      " 13  read_test_pct_prof_midpt         2792 non-null   object \n",
      " 14  math_test_num_valid              2808 non-null   float64\n",
      " 15  math_test_pct_prof_low           2788 non-null   object \n",
      " 16  math_test_pct_prof_high          2788 non-null   object \n",
      " 17  math_test_pct_prof_midpt         2788 non-null   object \n",
      " 18  students_susp_in_sch             2795 non-null   object \n",
      " 19  students_susp_out_sch_single     2795 non-null   object \n",
      " 20  students_susp_out_sch_multiple   2795 non-null   object \n",
      " 21  expulsions_no_ed_serv            2795 non-null   object \n",
      " 22  expulsions_with_ed_serv          2795 non-null   object \n",
      " 23  expulsions_zero_tolerance        2795 non-null   object \n",
      " 24  students_arrested                2458 non-null   object \n",
      " 25  students_referred_law_enforce    2793 non-null   object \n",
      " 26  transfers_alt_sch_disc           2795 non-null   float64\n",
      " 27  days_suspended                   2455 non-null   float64\n",
      " 28  suspensions_instances_preschool  2455 non-null   float64\n",
      " 29  suspensions_instances            2455 non-null   float64\n",
      " 30  corpinstances                    2455 non-null   float64\n",
      " 31  salaries_teachers                2440 non-null   object \n",
      " 32  cohort_num                       2813 non-null   float64\n",
      " 33  grad_rate_midpt                  2813 non-null   int64  \n",
      " 34  allegations_harass_sex           2794 non-null   object \n",
      " 35  allegations_harass_race          2794 non-null   object \n",
      " 36  allegations_harass_disability    2794 non-null   object \n",
      " 37  allegations_harass_orientation   2794 non-null   object \n",
      " 38  allegations_harass_religion      2794 non-null   object \n",
      " 39  students_disc_harass_dis         2795 non-null   float64\n",
      " 40  students_disc_harass_race        2795 non-null   float64\n",
      " 41  students_disc_harass_sex         2795 non-null   float64\n",
      " 42  students_report_harass_dis       2795 non-null   float64\n",
      " 43  students_report_harass_race      2795 non-null   float64\n",
      " 44  students_report_harass_sex       2795 non-null   float64\n",
      " 45  instances_mech_restraint         2417 non-null   float64\n",
      " 46  instances_phys_restraint         2754 non-null   float64\n",
      " 47  instances_seclusion              2754 non-null   float64\n",
      " 48  students_mech_restraint          2418 non-null   float64\n",
      " 49  students_phys_restraint          2741 non-null   float64\n",
      " 50  students_seclusion               2755 non-null   float64\n",
      " 51  students_SAT_ACT                 2795 non-null   float64\n",
      "dtypes: float64(22), int64(3), object(27)\n",
      "memory usage: 1.1+ MB\n"
     ]
    }
   ],
   "source": [
    "df_school.info()"
   ]
  },
  {
   "cell_type": "code",
   "execution_count": 83,
   "metadata": {
    "ExecuteTime": {
     "end_time": "2021-06-14T05:30:51.664805Z",
     "start_time": "2021-06-14T05:30:51.662597Z"
    }
   },
   "outputs": [],
   "source": [
    "read_test = ['school_name', 'read_test_num_valid', 'read_test_pct_prof_low', \n",
    "             'read_test_pct_prof_high', 'read_test_pct_prof_midpt']"
   ]
  },
  {
   "cell_type": "code",
   "execution_count": 84,
   "metadata": {
    "ExecuteTime": {
     "end_time": "2021-06-14T05:30:51.677562Z",
     "start_time": "2021-06-14T05:30:51.666396Z"
    },
    "scrolled": true
   },
   "outputs": [
    {
     "data": {
      "text/html": [
       "<div>\n",
       "<style scoped>\n",
       "    .dataframe tbody tr th:only-of-type {\n",
       "        vertical-align: middle;\n",
       "    }\n",
       "\n",
       "    .dataframe tbody tr th {\n",
       "        vertical-align: top;\n",
       "    }\n",
       "\n",
       "    .dataframe thead th {\n",
       "        text-align: right;\n",
       "    }\n",
       "</style>\n",
       "<table border=\"1\" class=\"dataframe\">\n",
       "  <thead>\n",
       "    <tr style=\"text-align: right;\">\n",
       "      <th></th>\n",
       "      <th>school_name</th>\n",
       "      <th>read_test_num_valid</th>\n",
       "      <th>read_test_pct_prof_low</th>\n",
       "      <th>read_test_pct_prof_high</th>\n",
       "      <th>read_test_pct_prof_midpt</th>\n",
       "    </tr>\n",
       "  </thead>\n",
       "  <tbody>\n",
       "    <tr>\n",
       "      <th>0</th>\n",
       "      <td>JAMES A GREEN HIGH SCHOOL</td>\n",
       "      <td>58.0</td>\n",
       "      <td>90</td>\n",
       "      <td>100</td>\n",
       "      <td>95</td>\n",
       "    </tr>\n",
       "    <tr>\n",
       "      <th>1</th>\n",
       "      <td>SAUQUOIT VALLEY HIGH SCHOOL</td>\n",
       "      <td>71.0</td>\n",
       "      <td>95</td>\n",
       "      <td>100</td>\n",
       "      <td>97.5</td>\n",
       "    </tr>\n",
       "    <tr>\n",
       "      <th>2</th>\n",
       "      <td>EDWARDS-KNOX JUNIOR-SENIOR HIGH SCHOOL</td>\n",
       "      <td>130.0</td>\n",
       "      <td>45</td>\n",
       "      <td>49</td>\n",
       "      <td>47</td>\n",
       "    </tr>\n",
       "    <tr>\n",
       "      <th>3</th>\n",
       "      <td>MOHONASEN SENIOR HIGH SCHOOL</td>\n",
       "      <td>243.0</td>\n",
       "      <td>94</td>\n",
       "      <td>94</td>\n",
       "      <td>94</td>\n",
       "    </tr>\n",
       "    <tr>\n",
       "      <th>4</th>\n",
       "      <td>BROADALBIN-PERTH HIGH SCHOOL</td>\n",
       "      <td>146.0</td>\n",
       "      <td>90</td>\n",
       "      <td>94</td>\n",
       "      <td>92</td>\n",
       "    </tr>\n",
       "    <tr>\n",
       "      <th>5</th>\n",
       "      <td>JASPER-TROUPSBURG JUNIOR-SENIOR HIGH SCHOOL</td>\n",
       "      <td>103.0</td>\n",
       "      <td>45</td>\n",
       "      <td>49</td>\n",
       "      <td>47</td>\n",
       "    </tr>\n",
       "    <tr>\n",
       "      <th>6</th>\n",
       "      <td>BELLPORT SENIOR HIGH SCHOOL</td>\n",
       "      <td>287.0</td>\n",
       "      <td>89</td>\n",
       "      <td>89</td>\n",
       "      <td>89</td>\n",
       "    </tr>\n",
       "    <tr>\n",
       "      <th>7</th>\n",
       "      <td>SARANAC HIGH SCHOOL</td>\n",
       "      <td>102.0</td>\n",
       "      <td>95</td>\n",
       "      <td>100</td>\n",
       "      <td>97.5</td>\n",
       "    </tr>\n",
       "    <tr>\n",
       "      <th>8</th>\n",
       "      <td>WAYLAND-COHOCTON HIGH SCHOOL</td>\n",
       "      <td>83.0</td>\n",
       "      <td>95</td>\n",
       "      <td>100</td>\n",
       "      <td>97.5</td>\n",
       "    </tr>\n",
       "    <tr>\n",
       "      <th>9</th>\n",
       "      <td>ONEIDA SENIOR HIGH SCHOOL</td>\n",
       "      <td>174.0</td>\n",
       "      <td>90</td>\n",
       "      <td>94</td>\n",
       "      <td>92</td>\n",
       "    </tr>\n",
       "    <tr>\n",
       "      <th>10</th>\n",
       "      <td>WATERLOO HIGH SCHOOL</td>\n",
       "      <td>107.0</td>\n",
       "      <td>90</td>\n",
       "      <td>94</td>\n",
       "      <td>92</td>\n",
       "    </tr>\n",
       "    <tr>\n",
       "      <th>11</th>\n",
       "      <td>ALLEGANY-LIMESTONE HIGH SCHOOL</td>\n",
       "      <td>95.0</td>\n",
       "      <td>95</td>\n",
       "      <td>100</td>\n",
       "      <td>97.5</td>\n",
       "    </tr>\n",
       "    <tr>\n",
       "      <th>12</th>\n",
       "      <td>AVERILL PARK HIGH SCHOOL</td>\n",
       "      <td>248.0</td>\n",
       "      <td>98</td>\n",
       "      <td>98</td>\n",
       "      <td>98</td>\n",
       "    </tr>\n",
       "    <tr>\n",
       "      <th>14</th>\n",
       "      <td>CHAUTAUQUA LAKE SECONDARY SCHOOL</td>\n",
       "      <td>179.0</td>\n",
       "      <td>55</td>\n",
       "      <td>59</td>\n",
       "      <td>57</td>\n",
       "    </tr>\n",
       "    <tr>\n",
       "      <th>16</th>\n",
       "      <td>CAMPBELL-SAVONA JUNIOR/SENIOR HIGH SCHOOL</td>\n",
       "      <td>194.0</td>\n",
       "      <td>60</td>\n",
       "      <td>64</td>\n",
       "      <td>62</td>\n",
       "    </tr>\n",
       "    <tr>\n",
       "      <th>17</th>\n",
       "      <td>MATTITUCK JUNIOR-SENIOR HIGH SCHOOL</td>\n",
       "      <td>188.0</td>\n",
       "      <td>80</td>\n",
       "      <td>84</td>\n",
       "      <td>82</td>\n",
       "    </tr>\n",
       "    <tr>\n",
       "      <th>18</th>\n",
       "      <td>SULLIVAN WEST HIGH SCHOOL AT LAKE HUNTINGTON</td>\n",
       "      <td>179.0</td>\n",
       "      <td>70</td>\n",
       "      <td>74</td>\n",
       "      <td>72</td>\n",
       "    </tr>\n",
       "    <tr>\n",
       "      <th>19</th>\n",
       "      <td>CATTARAUGUS-LITTLE VALLEY HIGH SCHOOL</td>\n",
       "      <td>113.0</td>\n",
       "      <td>70</td>\n",
       "      <td>74</td>\n",
       "      <td>72</td>\n",
       "    </tr>\n",
       "    <tr>\n",
       "      <th>22</th>\n",
       "      <td>MARTA VALLE HIGH SCHOOL</td>\n",
       "      <td>58.0</td>\n",
       "      <td>90</td>\n",
       "      <td>100</td>\n",
       "      <td>95</td>\n",
       "    </tr>\n",
       "    <tr>\n",
       "      <th>24</th>\n",
       "      <td>UNIVERSITY NEIGHBORHOOD HIGH SCHOOL</td>\n",
       "      <td>51.0</td>\n",
       "      <td>90</td>\n",
       "      <td>100</td>\n",
       "      <td>95</td>\n",
       "    </tr>\n",
       "  </tbody>\n",
       "</table>\n",
       "</div>"
      ],
      "text/plain": [
       "                                     school_name  read_test_num_valid  \\\n",
       "0                      JAMES A GREEN HIGH SCHOOL                 58.0   \n",
       "1                    SAUQUOIT VALLEY HIGH SCHOOL                 71.0   \n",
       "2         EDWARDS-KNOX JUNIOR-SENIOR HIGH SCHOOL                130.0   \n",
       "3                   MOHONASEN SENIOR HIGH SCHOOL                243.0   \n",
       "4                   BROADALBIN-PERTH HIGH SCHOOL                146.0   \n",
       "5    JASPER-TROUPSBURG JUNIOR-SENIOR HIGH SCHOOL                103.0   \n",
       "6                    BELLPORT SENIOR HIGH SCHOOL                287.0   \n",
       "7                            SARANAC HIGH SCHOOL                102.0   \n",
       "8                   WAYLAND-COHOCTON HIGH SCHOOL                 83.0   \n",
       "9                      ONEIDA SENIOR HIGH SCHOOL                174.0   \n",
       "10                          WATERLOO HIGH SCHOOL                107.0   \n",
       "11                ALLEGANY-LIMESTONE HIGH SCHOOL                 95.0   \n",
       "12                      AVERILL PARK HIGH SCHOOL                248.0   \n",
       "14              CHAUTAUQUA LAKE SECONDARY SCHOOL                179.0   \n",
       "16     CAMPBELL-SAVONA JUNIOR/SENIOR HIGH SCHOOL                194.0   \n",
       "17           MATTITUCK JUNIOR-SENIOR HIGH SCHOOL                188.0   \n",
       "18  SULLIVAN WEST HIGH SCHOOL AT LAKE HUNTINGTON                179.0   \n",
       "19         CATTARAUGUS-LITTLE VALLEY HIGH SCHOOL                113.0   \n",
       "22                       MARTA VALLE HIGH SCHOOL                 58.0   \n",
       "24           UNIVERSITY NEIGHBORHOOD HIGH SCHOOL                 51.0   \n",
       "\n",
       "   read_test_pct_prof_low read_test_pct_prof_high read_test_pct_prof_midpt  \n",
       "0                      90                     100                       95  \n",
       "1                      95                     100                     97.5  \n",
       "2                      45                      49                       47  \n",
       "3                      94                      94                       94  \n",
       "4                      90                      94                       92  \n",
       "5                      45                      49                       47  \n",
       "6                      89                      89                       89  \n",
       "7                      95                     100                     97.5  \n",
       "8                      95                     100                     97.5  \n",
       "9                      90                      94                       92  \n",
       "10                     90                      94                       92  \n",
       "11                     95                     100                     97.5  \n",
       "12                     98                      98                       98  \n",
       "14                     55                      59                       57  \n",
       "16                     60                      64                       62  \n",
       "17                     80                      84                       82  \n",
       "18                     70                      74                       72  \n",
       "19                     70                      74                       72  \n",
       "22                     90                     100                       95  \n",
       "24                     90                     100                       95  "
      ]
     },
     "execution_count": 84,
     "metadata": {},
     "output_type": "execute_result"
    }
   ],
   "source": [
    "df_school[read_test].head(20)"
   ]
  },
  {
   "cell_type": "code",
   "execution_count": 85,
   "metadata": {
    "ExecuteTime": {
     "end_time": "2021-06-14T05:30:51.681276Z",
     "start_time": "2021-06-14T05:30:51.679135Z"
    }
   },
   "outputs": [],
   "source": [
    "math_test = ['school_name', 'math_test_num_valid' , 'math_test_pct_prof_low', \n",
    "             'math_test_pct_prof_high', 'math_test_pct_prof_midpt']"
   ]
  },
  {
   "cell_type": "code",
   "execution_count": 86,
   "metadata": {
    "ExecuteTime": {
     "end_time": "2021-06-14T05:30:51.693382Z",
     "start_time": "2021-06-14T05:30:51.682566Z"
    }
   },
   "outputs": [
    {
     "data": {
      "text/html": [
       "<div>\n",
       "<style scoped>\n",
       "    .dataframe tbody tr th:only-of-type {\n",
       "        vertical-align: middle;\n",
       "    }\n",
       "\n",
       "    .dataframe tbody tr th {\n",
       "        vertical-align: top;\n",
       "    }\n",
       "\n",
       "    .dataframe thead th {\n",
       "        text-align: right;\n",
       "    }\n",
       "</style>\n",
       "<table border=\"1\" class=\"dataframe\">\n",
       "  <thead>\n",
       "    <tr style=\"text-align: right;\">\n",
       "      <th></th>\n",
       "      <th>school_name</th>\n",
       "      <th>math_test_num_valid</th>\n",
       "      <th>math_test_pct_prof_low</th>\n",
       "      <th>math_test_pct_prof_high</th>\n",
       "      <th>math_test_pct_prof_midpt</th>\n",
       "    </tr>\n",
       "  </thead>\n",
       "  <tbody>\n",
       "    <tr>\n",
       "      <th>0</th>\n",
       "      <td>JAMES A GREEN HIGH SCHOOL</td>\n",
       "      <td>58.0</td>\n",
       "      <td>80</td>\n",
       "      <td>89</td>\n",
       "      <td>84.5</td>\n",
       "    </tr>\n",
       "    <tr>\n",
       "      <th>1</th>\n",
       "      <td>SAUQUOIT VALLEY HIGH SCHOOL</td>\n",
       "      <td>73.0</td>\n",
       "      <td>95</td>\n",
       "      <td>100</td>\n",
       "      <td>97.5</td>\n",
       "    </tr>\n",
       "    <tr>\n",
       "      <th>2</th>\n",
       "      <td>EDWARDS-KNOX JUNIOR-SENIOR HIGH SCHOOL</td>\n",
       "      <td>127.0</td>\n",
       "      <td>50</td>\n",
       "      <td>54</td>\n",
       "      <td>52</td>\n",
       "    </tr>\n",
       "    <tr>\n",
       "      <th>3</th>\n",
       "      <td>MOHONASEN SENIOR HIGH SCHOOL</td>\n",
       "      <td>244.0</td>\n",
       "      <td>96</td>\n",
       "      <td>96</td>\n",
       "      <td>96</td>\n",
       "    </tr>\n",
       "    <tr>\n",
       "      <th>4</th>\n",
       "      <td>BROADALBIN-PERTH HIGH SCHOOL</td>\n",
       "      <td>147.0</td>\n",
       "      <td>90</td>\n",
       "      <td>94</td>\n",
       "      <td>92</td>\n",
       "    </tr>\n",
       "    <tr>\n",
       "      <th>5</th>\n",
       "      <td>JASPER-TROUPSBURG JUNIOR-SENIOR HIGH SCHOOL</td>\n",
       "      <td>99.0</td>\n",
       "      <td>40</td>\n",
       "      <td>44</td>\n",
       "      <td>42</td>\n",
       "    </tr>\n",
       "    <tr>\n",
       "      <th>6</th>\n",
       "      <td>BELLPORT SENIOR HIGH SCHOOL</td>\n",
       "      <td>296.0</td>\n",
       "      <td>89</td>\n",
       "      <td>89</td>\n",
       "      <td>89</td>\n",
       "    </tr>\n",
       "    <tr>\n",
       "      <th>7</th>\n",
       "      <td>SARANAC HIGH SCHOOL</td>\n",
       "      <td>102.0</td>\n",
       "      <td>95</td>\n",
       "      <td>100</td>\n",
       "      <td>97.5</td>\n",
       "    </tr>\n",
       "    <tr>\n",
       "      <th>8</th>\n",
       "      <td>WAYLAND-COHOCTON HIGH SCHOOL</td>\n",
       "      <td>84.0</td>\n",
       "      <td>95</td>\n",
       "      <td>100</td>\n",
       "      <td>97.5</td>\n",
       "    </tr>\n",
       "    <tr>\n",
       "      <th>9</th>\n",
       "      <td>ONEIDA SENIOR HIGH SCHOOL</td>\n",
       "      <td>175.0</td>\n",
       "      <td>90</td>\n",
       "      <td>94</td>\n",
       "      <td>92</td>\n",
       "    </tr>\n",
       "    <tr>\n",
       "      <th>10</th>\n",
       "      <td>WATERLOO HIGH SCHOOL</td>\n",
       "      <td>110.0</td>\n",
       "      <td>95</td>\n",
       "      <td>100</td>\n",
       "      <td>97.5</td>\n",
       "    </tr>\n",
       "    <tr>\n",
       "      <th>11</th>\n",
       "      <td>ALLEGANY-LIMESTONE HIGH SCHOOL</td>\n",
       "      <td>96.0</td>\n",
       "      <td>95</td>\n",
       "      <td>100</td>\n",
       "      <td>97.5</td>\n",
       "    </tr>\n",
       "    <tr>\n",
       "      <th>12</th>\n",
       "      <td>AVERILL PARK HIGH SCHOOL</td>\n",
       "      <td>249.0</td>\n",
       "      <td>98</td>\n",
       "      <td>98</td>\n",
       "      <td>98</td>\n",
       "    </tr>\n",
       "    <tr>\n",
       "      <th>14</th>\n",
       "      <td>CHAUTAUQUA LAKE SECONDARY SCHOOL</td>\n",
       "      <td>174.0</td>\n",
       "      <td>60</td>\n",
       "      <td>64</td>\n",
       "      <td>62</td>\n",
       "    </tr>\n",
       "    <tr>\n",
       "      <th>16</th>\n",
       "      <td>CAMPBELL-SAVONA JUNIOR/SENIOR HIGH SCHOOL</td>\n",
       "      <td>192.0</td>\n",
       "      <td>45</td>\n",
       "      <td>49</td>\n",
       "      <td>47</td>\n",
       "    </tr>\n",
       "    <tr>\n",
       "      <th>17</th>\n",
       "      <td>MATTITUCK JUNIOR-SENIOR HIGH SCHOOL</td>\n",
       "      <td>207.0</td>\n",
       "      <td>86</td>\n",
       "      <td>86</td>\n",
       "      <td>86</td>\n",
       "    </tr>\n",
       "    <tr>\n",
       "      <th>18</th>\n",
       "      <td>SULLIVAN WEST HIGH SCHOOL AT LAKE HUNTINGTON</td>\n",
       "      <td>163.0</td>\n",
       "      <td>65</td>\n",
       "      <td>69</td>\n",
       "      <td>67</td>\n",
       "    </tr>\n",
       "    <tr>\n",
       "      <th>19</th>\n",
       "      <td>CATTARAUGUS-LITTLE VALLEY HIGH SCHOOL</td>\n",
       "      <td>113.0</td>\n",
       "      <td>65</td>\n",
       "      <td>69</td>\n",
       "      <td>67</td>\n",
       "    </tr>\n",
       "    <tr>\n",
       "      <th>22</th>\n",
       "      <td>MARTA VALLE HIGH SCHOOL</td>\n",
       "      <td>57.0</td>\n",
       "      <td>80</td>\n",
       "      <td>89</td>\n",
       "      <td>84.5</td>\n",
       "    </tr>\n",
       "    <tr>\n",
       "      <th>24</th>\n",
       "      <td>UNIVERSITY NEIGHBORHOOD HIGH SCHOOL</td>\n",
       "      <td>51.0</td>\n",
       "      <td>90</td>\n",
       "      <td>100</td>\n",
       "      <td>95</td>\n",
       "    </tr>\n",
       "  </tbody>\n",
       "</table>\n",
       "</div>"
      ],
      "text/plain": [
       "                                     school_name  math_test_num_valid  \\\n",
       "0                      JAMES A GREEN HIGH SCHOOL                 58.0   \n",
       "1                    SAUQUOIT VALLEY HIGH SCHOOL                 73.0   \n",
       "2         EDWARDS-KNOX JUNIOR-SENIOR HIGH SCHOOL                127.0   \n",
       "3                   MOHONASEN SENIOR HIGH SCHOOL                244.0   \n",
       "4                   BROADALBIN-PERTH HIGH SCHOOL                147.0   \n",
       "5    JASPER-TROUPSBURG JUNIOR-SENIOR HIGH SCHOOL                 99.0   \n",
       "6                    BELLPORT SENIOR HIGH SCHOOL                296.0   \n",
       "7                            SARANAC HIGH SCHOOL                102.0   \n",
       "8                   WAYLAND-COHOCTON HIGH SCHOOL                 84.0   \n",
       "9                      ONEIDA SENIOR HIGH SCHOOL                175.0   \n",
       "10                          WATERLOO HIGH SCHOOL                110.0   \n",
       "11                ALLEGANY-LIMESTONE HIGH SCHOOL                 96.0   \n",
       "12                      AVERILL PARK HIGH SCHOOL                249.0   \n",
       "14              CHAUTAUQUA LAKE SECONDARY SCHOOL                174.0   \n",
       "16     CAMPBELL-SAVONA JUNIOR/SENIOR HIGH SCHOOL                192.0   \n",
       "17           MATTITUCK JUNIOR-SENIOR HIGH SCHOOL                207.0   \n",
       "18  SULLIVAN WEST HIGH SCHOOL AT LAKE HUNTINGTON                163.0   \n",
       "19         CATTARAUGUS-LITTLE VALLEY HIGH SCHOOL                113.0   \n",
       "22                       MARTA VALLE HIGH SCHOOL                 57.0   \n",
       "24           UNIVERSITY NEIGHBORHOOD HIGH SCHOOL                 51.0   \n",
       "\n",
       "   math_test_pct_prof_low math_test_pct_prof_high math_test_pct_prof_midpt  \n",
       "0                      80                      89                     84.5  \n",
       "1                      95                     100                     97.5  \n",
       "2                      50                      54                       52  \n",
       "3                      96                      96                       96  \n",
       "4                      90                      94                       92  \n",
       "5                      40                      44                       42  \n",
       "6                      89                      89                       89  \n",
       "7                      95                     100                     97.5  \n",
       "8                      95                     100                     97.5  \n",
       "9                      90                      94                       92  \n",
       "10                     95                     100                     97.5  \n",
       "11                     95                     100                     97.5  \n",
       "12                     98                      98                       98  \n",
       "14                     60                      64                       62  \n",
       "16                     45                      49                       47  \n",
       "17                     86                      86                       86  \n",
       "18                     65                      69                       67  \n",
       "19                     65                      69                       67  \n",
       "22                     80                      89                     84.5  \n",
       "24                     90                     100                       95  "
      ]
     },
     "execution_count": 86,
     "metadata": {},
     "output_type": "execute_result"
    }
   ],
   "source": [
    "df_school[math_test].head(20)"
   ]
  },
  {
   "cell_type": "markdown",
   "metadata": {},
   "source": [
    "The read_test_num_valid column and the math_test_num_valid column desribe the Number of students who completed a reading, and math assessment and for whom a proficiency level was assigned\n",
    "\n",
    "The low, high, and midpt columns describe the low, high, and midpoint of the range used to report the share of students scoring proficient on a reading or language arts assessment (0–100 scale)\n",
    "\n"
   ]
  },
  {
   "cell_type": "code",
   "execution_count": 87,
   "metadata": {
    "ExecuteTime": {
     "end_time": "2021-06-14T05:30:51.698987Z",
     "start_time": "2021-06-14T05:30:51.695053Z"
    }
   },
   "outputs": [],
   "source": [
    "# The midpoint column is the most balanced measure so we will drop the others\n",
    "df_school = df_school.drop(['math_test_pct_prof_low','math_test_pct_prof_high',\n",
    "                           'read_test_pct_prof_low','read_test_pct_prof_high'], axis=1)"
   ]
  },
  {
   "cell_type": "markdown",
   "metadata": {},
   "source": [
    "### Numeric Columns - nulls"
   ]
  },
  {
   "cell_type": "markdown",
   "metadata": {},
   "source": [
    "Let's take a look at our columns and check back in on the proportion of nulls. If our proportion is small we will fill the NaNs in the remaining numerical columns with medians."
   ]
  },
  {
   "cell_type": "code",
   "execution_count": 88,
   "metadata": {
    "ExecuteTime": {
     "end_time": "2021-06-14T05:30:51.712361Z",
     "start_time": "2021-06-14T05:30:51.700417Z"
    },
    "scrolled": true
   },
   "outputs": [
    {
     "name": "stdout",
     "output_type": "stream",
     "text": [
      "<class 'pandas.core.frame.DataFrame'>\n",
      "Int64Index: 2813 entries, 0 to 491\n",
      "Data columns (total 48 columns):\n",
      " #   Column                           Non-Null Count  Dtype  \n",
      "---  ------                           --------------  -----  \n",
      " 0   ncessch                          2813 non-null   int64  \n",
      " 1   school_name                      2813 non-null   object \n",
      " 2   state_name                       2813 non-null   object \n",
      " 3   lea_name                         2813 non-null   object \n",
      " 4   zip_location                     2813 non-null   int64  \n",
      " 5   urban_centric_locale             2813 non-null   object \n",
      " 6   school_level                     2813 non-null   object \n",
      " 7   school_type                      2813 non-null   object \n",
      " 8   charter                          2753 non-null   float64\n",
      " 9   enrollment                       2811 non-null   object \n",
      " 10  read_test_num_valid              2807 non-null   float64\n",
      " 11  read_test_pct_prof_midpt         2792 non-null   object \n",
      " 12  math_test_num_valid              2808 non-null   float64\n",
      " 13  math_test_pct_prof_midpt         2788 non-null   object \n",
      " 14  students_susp_in_sch             2795 non-null   object \n",
      " 15  students_susp_out_sch_single     2795 non-null   object \n",
      " 16  students_susp_out_sch_multiple   2795 non-null   object \n",
      " 17  expulsions_no_ed_serv            2795 non-null   object \n",
      " 18  expulsions_with_ed_serv          2795 non-null   object \n",
      " 19  expulsions_zero_tolerance        2795 non-null   object \n",
      " 20  students_arrested                2458 non-null   object \n",
      " 21  students_referred_law_enforce    2793 non-null   object \n",
      " 22  transfers_alt_sch_disc           2795 non-null   float64\n",
      " 23  days_suspended                   2455 non-null   float64\n",
      " 24  suspensions_instances_preschool  2455 non-null   float64\n",
      " 25  suspensions_instances            2455 non-null   float64\n",
      " 26  corpinstances                    2455 non-null   float64\n",
      " 27  salaries_teachers                2440 non-null   object \n",
      " 28  cohort_num                       2813 non-null   float64\n",
      " 29  grad_rate_midpt                  2813 non-null   int64  \n",
      " 30  allegations_harass_sex           2794 non-null   object \n",
      " 31  allegations_harass_race          2794 non-null   object \n",
      " 32  allegations_harass_disability    2794 non-null   object \n",
      " 33  allegations_harass_orientation   2794 non-null   object \n",
      " 34  allegations_harass_religion      2794 non-null   object \n",
      " 35  students_disc_harass_dis         2795 non-null   float64\n",
      " 36  students_disc_harass_race        2795 non-null   float64\n",
      " 37  students_disc_harass_sex         2795 non-null   float64\n",
      " 38  students_report_harass_dis       2795 non-null   float64\n",
      " 39  students_report_harass_race      2795 non-null   float64\n",
      " 40  students_report_harass_sex       2795 non-null   float64\n",
      " 41  instances_mech_restraint         2417 non-null   float64\n",
      " 42  instances_phys_restraint         2754 non-null   float64\n",
      " 43  instances_seclusion              2754 non-null   float64\n",
      " 44  students_mech_restraint          2418 non-null   float64\n",
      " 45  students_phys_restraint          2741 non-null   float64\n",
      " 46  students_seclusion               2755 non-null   float64\n",
      " 47  students_SAT_ACT                 2795 non-null   float64\n",
      "dtypes: float64(22), int64(3), object(23)\n",
      "memory usage: 1.1+ MB\n"
     ]
    }
   ],
   "source": [
    "df_school.info()"
   ]
  },
  {
   "cell_type": "code",
   "execution_count": 89,
   "metadata": {
    "ExecuteTime": {
     "end_time": "2021-06-14T05:30:51.723916Z",
     "start_time": "2021-06-14T05:30:51.713861Z"
    }
   },
   "outputs": [
    {
     "data": {
      "text/plain": [
       "'percent of nulls in df_school is 2%'"
      ]
     },
     "execution_count": 89,
     "metadata": {},
     "output_type": "execute_result"
    }
   ],
   "source": [
    "#How do our nulls look?\n",
    "percent_null_df(df_school,'df_school')"
   ]
  },
  {
   "cell_type": "code",
   "execution_count": 90,
   "metadata": {
    "ExecuteTime": {
     "end_time": "2021-06-14T05:30:51.727485Z",
     "start_time": "2021-06-14T05:30:51.725381Z"
    }
   },
   "outputs": [],
   "source": [
    "column_names = list(df_school.columns)"
   ]
  },
  {
   "cell_type": "code",
   "execution_count": 91,
   "metadata": {
    "ExecuteTime": {
     "end_time": "2021-06-14T05:30:51.732409Z",
     "start_time": "2021-06-14T05:30:51.728855Z"
    }
   },
   "outputs": [
    {
     "data": {
      "text/plain": [
       "['allegations_harass_sex',\n",
       " 'instances_mech_restraint',\n",
       " 'students_arrested',\n",
       " 'students_report_harass_race',\n",
       " 'students_mech_restraint',\n",
       " 'suspensions_instances',\n",
       " 'students_disc_harass_sex',\n",
       " 'grad_rate_midpt',\n",
       " 'corpinstances',\n",
       " 'instances_phys_restraint',\n",
       " 'students_report_harass_sex',\n",
       " 'expulsions_with_ed_serv',\n",
       " 'math_test_pct_prof_midpt',\n",
       " 'students_phys_restraint',\n",
       " 'students_susp_out_sch_multiple',\n",
       " 'students_susp_out_sch_single',\n",
       " 'expulsions_zero_tolerance',\n",
       " 'cohort_num',\n",
       " 'students_susp_in_sch',\n",
       " 'transfers_alt_sch_disc',\n",
       " 'allegations_harass_race',\n",
       " 'allegations_harass_disability',\n",
       " 'read_test_pct_prof_midpt',\n",
       " 'days_suspended',\n",
       " 'instances_seclusion',\n",
       " 'enrollment',\n",
       " 'students_SAT_ACT',\n",
       " 'students_disc_harass_dis',\n",
       " 'allegations_harass_orientation',\n",
       " 'math_test_num_valid',\n",
       " 'students_report_harass_dis',\n",
       " 'allegations_harass_religion',\n",
       " 'students_disc_harass_race',\n",
       " 'expulsions_no_ed_serv',\n",
       " 'students_seclusion',\n",
       " 'students_referred_law_enforce',\n",
       " 'salaries_teachers',\n",
       " 'read_test_num_valid',\n",
       " 'suspensions_instances_preschool']"
      ]
     },
     "execution_count": 91,
     "metadata": {},
     "output_type": "execute_result"
    }
   ],
   "source": [
    "# We've dropped some of our numerical columns let's update our numerical list\n",
    "numerical = set(column_names) - set(categorical)\n",
    "numerical = list(numerical)\n",
    "numerical"
   ]
  },
  {
   "cell_type": "code",
   "execution_count": 92,
   "metadata": {
    "ExecuteTime": {
     "end_time": "2021-06-14T05:30:51.735710Z",
     "start_time": "2021-06-14T05:30:51.733762Z"
    },
    "scrolled": true
   },
   "outputs": [],
   "source": [
    "numerical.remove('grad_rate_midpt')"
   ]
  },
  {
   "cell_type": "code",
   "execution_count": 93,
   "metadata": {
    "ExecuteTime": {
     "end_time": "2021-06-14T05:30:51.743431Z",
     "start_time": "2021-06-14T05:30:51.737218Z"
    }
   },
   "outputs": [
    {
     "name": "stdout",
     "output_type": "stream",
     "text": [
      "['charter', 'enrollment', 'read_test_num_valid', 'read_test_pct_prof_midpt', 'math_test_num_valid', 'math_test_pct_prof_midpt', 'students_susp_in_sch', 'students_susp_out_sch_single', 'students_susp_out_sch_multiple', 'expulsions_no_ed_serv', 'expulsions_with_ed_serv', 'expulsions_zero_tolerance', 'students_arrested', 'students_referred_law_enforce', 'transfers_alt_sch_disc', 'days_suspended', 'suspensions_instances_preschool', 'suspensions_instances', 'corpinstances', 'salaries_teachers', 'allegations_harass_sex', 'allegations_harass_race', 'allegations_harass_disability', 'allegations_harass_orientation', 'allegations_harass_religion', 'students_disc_harass_dis', 'students_disc_harass_race', 'students_disc_harass_sex', 'students_report_harass_dis', 'students_report_harass_race', 'students_report_harass_sex', 'instances_mech_restraint', 'instances_phys_restraint', 'instances_seclusion', 'students_mech_restraint', 'students_phys_restraint', 'students_seclusion', 'students_SAT_ACT']\n"
     ]
    }
   ],
   "source": [
    "nan_values = df_school.isna()\n",
    "nan_columns = nan_values.any()\n",
    "columns_with_nan = df_school.columns[nan_columns].tolist()\n",
    "print(columns_with_nan)"
   ]
  },
  {
   "cell_type": "code",
   "execution_count": 94,
   "metadata": {
    "ExecuteTime": {
     "end_time": "2021-06-14T05:30:51.773362Z",
     "start_time": "2021-06-14T05:30:51.744873Z"
    }
   },
   "outputs": [],
   "source": [
    "#Replace NaNs with median for each column\n",
    "df_school[numerical] = df_school[numerical].fillna(df_school[numerical].median())"
   ]
  },
  {
   "cell_type": "code",
   "execution_count": 95,
   "metadata": {
    "ExecuteTime": {
     "end_time": "2021-06-14T05:30:51.780723Z",
     "start_time": "2021-06-14T05:30:51.774864Z"
    }
   },
   "outputs": [
    {
     "name": "stdout",
     "output_type": "stream",
     "text": [
      "['charter']\n"
     ]
    }
   ],
   "source": [
    "nan_values = df_school.isna()\n",
    "nan_columns = nan_values.any()\n",
    "columns_with_nan = df_school.columns[nan_columns].tolist()\n",
    "print(columns_with_nan)"
   ]
  },
  {
   "cell_type": "code",
   "execution_count": 96,
   "metadata": {
    "ExecuteTime": {
     "end_time": "2021-06-14T05:30:51.832254Z",
     "start_time": "2021-06-14T05:30:51.782144Z"
    }
   },
   "outputs": [],
   "source": [
    "df_school[numerical] = df_school[numerical].astype(str).astype(float).astype(int)"
   ]
  },
  {
   "cell_type": "code",
   "execution_count": 97,
   "metadata": {
    "ExecuteTime": {
     "end_time": "2021-06-14T05:30:51.843210Z",
     "start_time": "2021-06-14T05:30:51.833614Z"
    },
    "scrolled": false
   },
   "outputs": [
    {
     "data": {
      "text/plain": [
       "'percent of nulls in df_school is 0%'"
      ]
     },
     "execution_count": 97,
     "metadata": {},
     "output_type": "execute_result"
    }
   ],
   "source": [
    "#How do our nulls look?\n",
    "percent_null_df(df_school,'df_school')"
   ]
  },
  {
   "cell_type": "markdown",
   "metadata": {},
   "source": [
    "## df_district"
   ]
  },
  {
   "cell_type": "code",
   "execution_count": 98,
   "metadata": {
    "ExecuteTime": {
     "end_time": "2021-06-14T05:30:51.861692Z",
     "start_time": "2021-06-14T05:30:51.844507Z"
    }
   },
   "outputs": [],
   "source": [
    "#Concatenate district info for all three states into one dataframe\n",
    "df_district = pd.concat([df_district_NY, df_district_PA, df_district_NJ,\n",
    "                         df_district_ME, df_district_MA, df_district_VT,\n",
    "                         df_district_CT,df_district_RI, df_district_NH])"
   ]
  },
  {
   "cell_type": "code",
   "execution_count": 99,
   "metadata": {
    "ExecuteTime": {
     "end_time": "2021-06-14T05:30:51.868420Z",
     "start_time": "2021-06-14T05:30:51.863247Z"
    }
   },
   "outputs": [
    {
     "data": {
      "text/plain": [
       "New York         0.248913\n",
       "Pennsylvania     0.193330\n",
       "New Jersey       0.168439\n",
       "Massachusetts    0.098840\n",
       "Vermont          0.087724\n",
       "New Hampshire    0.072499\n",
       "Maine            0.064766\n",
       "Connecticut      0.050024\n",
       "Rhode Island     0.015466\n",
       "Name: state_name, dtype: float64"
      ]
     },
     "execution_count": 99,
     "metadata": {},
     "output_type": "execute_result"
    }
   ],
   "source": [
    "df_district['state_name'].value_counts(normalize=True, dropna=False)"
   ]
  },
  {
   "cell_type": "markdown",
   "metadata": {},
   "source": [
    "### Data Fields"
   ]
  },
  {
   "cell_type": "code",
   "execution_count": 100,
   "metadata": {
    "ExecuteTime": {
     "end_time": "2021-06-14T05:30:51.889233Z",
     "start_time": "2021-06-14T05:30:51.869958Z"
    },
    "scrolled": false
   },
   "outputs": [
    {
     "data": {
      "text/html": [
       "<div>\n",
       "<style scoped>\n",
       "    .dataframe tbody tr th:only-of-type {\n",
       "        vertical-align: middle;\n",
       "    }\n",
       "\n",
       "    .dataframe tbody tr th {\n",
       "        vertical-align: top;\n",
       "    }\n",
       "\n",
       "    .dataframe thead th {\n",
       "        text-align: right;\n",
       "    }\n",
       "</style>\n",
       "<table border=\"1\" class=\"dataframe\">\n",
       "  <thead>\n",
       "    <tr style=\"text-align: right;\">\n",
       "      <th></th>\n",
       "      <th>year</th>\n",
       "      <th>leaid</th>\n",
       "      <th>lea_name</th>\n",
       "      <th>state_name</th>\n",
       "      <th>state_leaid</th>\n",
       "      <th>city_location</th>\n",
       "      <th>urban_centric_locale</th>\n",
       "      <th>agency_type</th>\n",
       "      <th>enrollment</th>\n",
       "      <th>english_language_learners</th>\n",
       "      <th>...</th>\n",
       "      <th>outlay_capital_instruc_equip</th>\n",
       "      <th>outlay_capital_other_equip</th>\n",
       "      <th>outlay_capital_nonspec_equip</th>\n",
       "      <th>salaries_total</th>\n",
       "      <th>salaries_instruction</th>\n",
       "      <th>benefits_employee_total</th>\n",
       "      <th>cohort_num</th>\n",
       "      <th>grad_rate_high</th>\n",
       "      <th>grad_rate_low</th>\n",
       "      <th>grad_rate_midpt</th>\n",
       "    </tr>\n",
       "  </thead>\n",
       "  <tbody>\n",
       "    <tr>\n",
       "      <th>0</th>\n",
       "      <td>2015</td>\n",
       "      <td>3600001</td>\n",
       "      <td>DOLGEVILLE CENTRAL SCHOOL DISTRICT</td>\n",
       "      <td>New York</td>\n",
       "      <td>211003040000</td>\n",
       "      <td>DOLGEVILLE</td>\n",
       "      <td>Rural, distant</td>\n",
       "      <td>Regular local school district</td>\n",
       "      <td>928</td>\n",
       "      <td>Missing/not reported</td>\n",
       "      <td>...</td>\n",
       "      <td>52000</td>\n",
       "      <td>498000</td>\n",
       "      <td>0</td>\n",
       "      <td>9357000</td>\n",
       "      <td>6683000</td>\n",
       "      <td>5053000</td>\n",
       "      <td>76.0</td>\n",
       "      <td>84</td>\n",
       "      <td>80</td>\n",
       "      <td>82</td>\n",
       "    </tr>\n",
       "    <tr>\n",
       "      <th>1</th>\n",
       "      <td>2015</td>\n",
       "      <td>3600002</td>\n",
       "      <td>SAUQUOIT VALLEY CENTRAL SCHOOL DISTRICT</td>\n",
       "      <td>New York</td>\n",
       "      <td>411603040000</td>\n",
       "      <td>SAUQUOIT</td>\n",
       "      <td>Rural, fringe</td>\n",
       "      <td>Regular local school district</td>\n",
       "      <td>1055</td>\n",
       "      <td>4</td>\n",
       "      <td>...</td>\n",
       "      <td>0</td>\n",
       "      <td>369000</td>\n",
       "      <td>0</td>\n",
       "      <td>10433000</td>\n",
       "      <td>7323000</td>\n",
       "      <td>5564000</td>\n",
       "      <td>87.0</td>\n",
       "      <td>94</td>\n",
       "      <td>90</td>\n",
       "      <td>92</td>\n",
       "    </tr>\n",
       "    <tr>\n",
       "      <th>2</th>\n",
       "      <td>2015</td>\n",
       "      <td>3600003</td>\n",
       "      <td>EDWARDS-KNOX CENTRAL SCHOOL DISTRICT</td>\n",
       "      <td>New York</td>\n",
       "      <td>513102040000</td>\n",
       "      <td>HERMON</td>\n",
       "      <td>Rural, remote</td>\n",
       "      <td>Regular local school district</td>\n",
       "      <td>599</td>\n",
       "      <td>Missing/not reported</td>\n",
       "      <td>...</td>\n",
       "      <td>1000</td>\n",
       "      <td>280000</td>\n",
       "      <td>0</td>\n",
       "      <td>6310000</td>\n",
       "      <td>4101000</td>\n",
       "      <td>4012000</td>\n",
       "      <td>52.0</td>\n",
       "      <td>79</td>\n",
       "      <td>70</td>\n",
       "      <td>74</td>\n",
       "    </tr>\n",
       "    <tr>\n",
       "      <th>3</th>\n",
       "      <td>2015</td>\n",
       "      <td>3600004</td>\n",
       "      <td>ROTTERDAM-MOHONASEN CENTRAL SCHOOL DISTRICT</td>\n",
       "      <td>New York</td>\n",
       "      <td>530515060000</td>\n",
       "      <td>SCHENECTADY</td>\n",
       "      <td>Suburb, large</td>\n",
       "      <td>Regular local school district</td>\n",
       "      <td>2812</td>\n",
       "      <td>28</td>\n",
       "      <td>...</td>\n",
       "      <td>16000</td>\n",
       "      <td>648000</td>\n",
       "      <td>0</td>\n",
       "      <td>26195000</td>\n",
       "      <td>17815000</td>\n",
       "      <td>11884000</td>\n",
       "      <td>235.0</td>\n",
       "      <td>83</td>\n",
       "      <td>83</td>\n",
       "      <td>83</td>\n",
       "    </tr>\n",
       "    <tr>\n",
       "      <th>4</th>\n",
       "      <td>2015</td>\n",
       "      <td>3600005</td>\n",
       "      <td>BROADALBIN-PERTH CENTRAL SCHOOL DISTRICT</td>\n",
       "      <td>New York</td>\n",
       "      <td>171102040000</td>\n",
       "      <td>BROADALBIN</td>\n",
       "      <td>Rural, distant</td>\n",
       "      <td>Regular local school district</td>\n",
       "      <td>1836</td>\n",
       "      <td>3</td>\n",
       "      <td>...</td>\n",
       "      <td>0</td>\n",
       "      <td>602000</td>\n",
       "      <td>0</td>\n",
       "      <td>17090000</td>\n",
       "      <td>12135000</td>\n",
       "      <td>8621000</td>\n",
       "      <td>133.0</td>\n",
       "      <td>94</td>\n",
       "      <td>90</td>\n",
       "      <td>92</td>\n",
       "    </tr>\n",
       "  </tbody>\n",
       "</table>\n",
       "<p>5 rows × 55 columns</p>\n",
       "</div>"
      ],
      "text/plain": [
       "   year    leaid                                     lea_name state_name  \\\n",
       "0  2015  3600001           DOLGEVILLE CENTRAL SCHOOL DISTRICT   New York   \n",
       "1  2015  3600002      SAUQUOIT VALLEY CENTRAL SCHOOL DISTRICT   New York   \n",
       "2  2015  3600003         EDWARDS-KNOX CENTRAL SCHOOL DISTRICT   New York   \n",
       "3  2015  3600004  ROTTERDAM-MOHONASEN CENTRAL SCHOOL DISTRICT   New York   \n",
       "4  2015  3600005     BROADALBIN-PERTH CENTRAL SCHOOL DISTRICT   New York   \n",
       "\n",
       "    state_leaid city_location urban_centric_locale  \\\n",
       "0  211003040000    DOLGEVILLE       Rural, distant   \n",
       "1  411603040000      SAUQUOIT        Rural, fringe   \n",
       "2  513102040000        HERMON        Rural, remote   \n",
       "3  530515060000   SCHENECTADY        Suburb, large   \n",
       "4  171102040000    BROADALBIN       Rural, distant   \n",
       "\n",
       "                     agency_type enrollment english_language_learners  ...  \\\n",
       "0  Regular local school district        928      Missing/not reported  ...   \n",
       "1  Regular local school district       1055                         4  ...   \n",
       "2  Regular local school district        599      Missing/not reported  ...   \n",
       "3  Regular local school district       2812                        28  ...   \n",
       "4  Regular local school district       1836                         3  ...   \n",
       "\n",
       "   outlay_capital_instruc_equip  outlay_capital_other_equip  \\\n",
       "0                         52000                      498000   \n",
       "1                             0                      369000   \n",
       "2                          1000                      280000   \n",
       "3                         16000                      648000   \n",
       "4                             0                      602000   \n",
       "\n",
       "   outlay_capital_nonspec_equip salaries_total salaries_instruction  \\\n",
       "0                             0        9357000              6683000   \n",
       "1                             0       10433000              7323000   \n",
       "2                             0        6310000              4101000   \n",
       "3                             0       26195000             17815000   \n",
       "4                             0       17090000             12135000   \n",
       "\n",
       "  benefits_employee_total cohort_num grad_rate_high grad_rate_low  \\\n",
       "0                 5053000       76.0             84            80   \n",
       "1                 5564000       87.0             94            90   \n",
       "2                 4012000       52.0             79            70   \n",
       "3                11884000      235.0             83            83   \n",
       "4                 8621000      133.0             94            90   \n",
       "\n",
       "  grad_rate_midpt  \n",
       "0              82  \n",
       "1              92  \n",
       "2              74  \n",
       "3              83  \n",
       "4              92  \n",
       "\n",
       "[5 rows x 55 columns]"
      ]
     },
     "execution_count": 100,
     "metadata": {},
     "output_type": "execute_result"
    }
   ],
   "source": [
    "df_district.head()"
   ]
  },
  {
   "cell_type": "code",
   "execution_count": 101,
   "metadata": {
    "ExecuteTime": {
     "end_time": "2021-06-14T05:30:51.915131Z",
     "start_time": "2021-06-14T05:30:51.891533Z"
    },
    "scrolled": true
   },
   "outputs": [
    {
     "name": "stdout",
     "output_type": "stream",
     "text": [
      "<class 'pandas.core.frame.DataFrame'>\n",
      "Int64Index: 4138 entries, 0 to 299\n",
      "Data columns (total 55 columns):\n",
      " #   Column                           Non-Null Count  Dtype  \n",
      "---  ------                           --------------  -----  \n",
      " 0   year                             4138 non-null   int64  \n",
      " 1   leaid                            4138 non-null   int64  \n",
      " 2   lea_name                         4138 non-null   object \n",
      " 3   state_name                       4138 non-null   object \n",
      " 4   state_leaid                      3867 non-null   object \n",
      " 5   city_location                    4138 non-null   object \n",
      " 6   urban_centric_locale             3867 non-null   object \n",
      " 7   agency_type                      4138 non-null   object \n",
      " 8   enrollment                       3927 non-null   object \n",
      " 9   english_language_learners        3664 non-null   object \n",
      " 10  est_population_total             2505 non-null   float64\n",
      " 11  est_population_5_17_poverty      2505 non-null   float64\n",
      " 12  est_population_5_17_poverty_pct  2503 non-null   float64\n",
      " 13  rev_total                        3867 non-null   object \n",
      " 14  rev_fed_total                    3867 non-null   object \n",
      " 15  rev_state_total                  3867 non-null   object \n",
      " 16  rev_local_total                  3867 non-null   object \n",
      " 17  rev_local_prop_tax               3867 non-null   object \n",
      " 18  exp_total                        3867 non-null   object \n",
      " 19  exp_current_elsec_total          3867 non-null   object \n",
      " 20  exp_current_instruction_total    3867 non-null   object \n",
      " 21  exp_current_supp_serve_total     3867 non-null   object \n",
      " 22  exp_current_pupils               3867 non-null   object \n",
      " 23  exp_current_instruc_staff        3867 non-null   object \n",
      " 24  exp_current_general_admin        3867 non-null   object \n",
      " 25  exp_current_sch_admin            3867 non-null   object \n",
      " 26  exp_current_operation_plant      3867 non-null   object \n",
      " 27  exp_current_student_transport    3867 non-null   object \n",
      " 28  exp_current_bco                  3867 non-null   object \n",
      " 29  exp_current_supp_serv_nonspec    3867 non-null   object \n",
      " 30  exp_current_other                3867 non-null   object \n",
      " 31  exp_current_food_serv            3867 non-null   object \n",
      " 32  exp_current_enterprise           3867 non-null   object \n",
      " 33  exp_current_other_elsec          3867 non-null   object \n",
      " 34  exp_nonelsec                     3867 non-null   object \n",
      " 35  exp_nonelsec_community_serv      3867 non-null   object \n",
      " 36  exp_nonelsec_adult_education     3867 non-null   object \n",
      " 37  exp_nonelsec_other               3867 non-null   object \n",
      " 38  exp_textbooks                    3867 non-null   object \n",
      " 39  exp_utilities_energy             3867 non-null   object \n",
      " 40  exp_tech_supplies_services       3867 non-null   object \n",
      " 41  exp_tech_equipment               3867 non-null   object \n",
      " 42  outlay_capital_total             3867 non-null   object \n",
      " 43  outlay_capital_construction      3867 non-null   object \n",
      " 44  outlay_capital_land_structures   3867 non-null   object \n",
      " 45  outlay_capital_instruc_equip     3867 non-null   object \n",
      " 46  outlay_capital_other_equip       3867 non-null   object \n",
      " 47  outlay_capital_nonspec_equip     3867 non-null   object \n",
      " 48  salaries_total                   3867 non-null   object \n",
      " 49  salaries_instruction             3867 non-null   object \n",
      " 50  benefits_employee_total          3867 non-null   object \n",
      " 51  cohort_num                       2374 non-null   float64\n",
      " 52  grad_rate_high                   2374 non-null   object \n",
      " 53  grad_rate_low                    2374 non-null   object \n",
      " 54  grad_rate_midpt                  2374 non-null   object \n",
      "dtypes: float64(4), int64(2), object(49)\n",
      "memory usage: 1.8+ MB\n"
     ]
    }
   ],
   "source": [
    "df_district.info()"
   ]
  },
  {
   "cell_type": "code",
   "execution_count": 102,
   "metadata": {
    "ExecuteTime": {
     "end_time": "2021-06-14T05:30:51.936455Z",
     "start_time": "2021-06-14T05:30:51.916672Z"
    },
    "scrolled": true
   },
   "outputs": [
    {
     "data": {
      "text/plain": [
       "'percent of nulls in df_district is 10%'"
      ]
     },
     "execution_count": 102,
     "metadata": {},
     "output_type": "execute_result"
    }
   ],
   "source": [
    "#What proportion of our data frame is nulls?\n",
    "percent_null_df(df_district,'df_district')"
   ]
  },
  {
   "cell_type": "markdown",
   "metadata": {},
   "source": [
    "Not bad. Let's deal with that 4%"
   ]
  },
  {
   "cell_type": "markdown",
   "metadata": {},
   "source": [
    "#### Data Field Cleanup"
   ]
  },
  {
   "cell_type": "code",
   "execution_count": 103,
   "metadata": {
    "ExecuteTime": {
     "end_time": "2021-06-14T05:30:51.941397Z",
     "start_time": "2021-06-14T05:30:51.938968Z"
    }
   },
   "outputs": [],
   "source": [
    "column_names = list(df_district.columns)"
   ]
  },
  {
   "cell_type": "code",
   "execution_count": 104,
   "metadata": {
    "ExecuteTime": {
     "end_time": "2021-06-14T05:30:51.945031Z",
     "start_time": "2021-06-14T05:30:51.942982Z"
    }
   },
   "outputs": [],
   "source": [
    "categorical = ['year','leaid','leaname','state_name','state_leaid','city_location',\n",
    "               'urban_centric_locale','agency_type']\n"
   ]
  },
  {
   "cell_type": "code",
   "execution_count": 105,
   "metadata": {
    "ExecuteTime": {
     "end_time": "2021-06-14T05:30:51.948670Z",
     "start_time": "2021-06-14T05:30:51.946692Z"
    }
   },
   "outputs": [],
   "source": [
    "for ele in categorical:\n",
    "    try:\n",
    "        column_names.remove(ele)\n",
    "    except ValueError:\n",
    "        pass"
   ]
  },
  {
   "cell_type": "code",
   "execution_count": 106,
   "metadata": {
    "ExecuteTime": {
     "end_time": "2021-06-14T05:30:51.952504Z",
     "start_time": "2021-06-14T05:30:51.950376Z"
    }
   },
   "outputs": [],
   "source": [
    "numerical = column_names"
   ]
  },
  {
   "cell_type": "code",
   "execution_count": 107,
   "metadata": {
    "ExecuteTime": {
     "end_time": "2021-06-14T05:30:51.956196Z",
     "start_time": "2021-06-14T05:30:51.954081Z"
    }
   },
   "outputs": [],
   "source": [
    "column_names = list(df_district.columns)"
   ]
  },
  {
   "cell_type": "code",
   "execution_count": 108,
   "metadata": {
    "ExecuteTime": {
     "end_time": "2021-06-14T05:30:51.982145Z",
     "start_time": "2021-06-14T05:30:51.957724Z"
    }
   },
   "outputs": [],
   "source": [
    "for c in column_names:\n",
    "    df_district[c].replace('Suppressed data', np.NaN,inplace =True)"
   ]
  },
  {
   "cell_type": "code",
   "execution_count": 109,
   "metadata": {
    "ExecuteTime": {
     "end_time": "2021-06-14T05:30:52.009043Z",
     "start_time": "2021-06-14T05:30:51.983834Z"
    }
   },
   "outputs": [],
   "source": [
    "for c in column_names:\n",
    "    df_district[c].replace('Not applicable', np.NaN,inplace =True)"
   ]
  },
  {
   "cell_type": "code",
   "execution_count": 110,
   "metadata": {
    "ExecuteTime": {
     "end_time": "2021-06-14T05:30:52.037006Z",
     "start_time": "2021-06-14T05:30:52.010452Z"
    }
   },
   "outputs": [],
   "source": [
    "for c in column_names:\n",
    "    df_district[c].replace('Missing/not reported', np.NaN,inplace =True)"
   ]
  },
  {
   "cell_type": "markdown",
   "metadata": {},
   "source": [
    "### Columns to drop"
   ]
  },
  {
   "cell_type": "code",
   "execution_count": 111,
   "metadata": {
    "ExecuteTime": {
     "end_time": "2021-06-14T05:30:52.053858Z",
     "start_time": "2021-06-14T05:30:52.038669Z"
    }
   },
   "outputs": [
    {
     "name": "stdout",
     "output_type": "stream",
     "text": [
      "<class 'pandas.core.frame.DataFrame'>\n",
      "Int64Index: 4138 entries, 0 to 299\n",
      "Data columns (total 55 columns):\n",
      " #   Column                           Non-Null Count  Dtype  \n",
      "---  ------                           --------------  -----  \n",
      " 0   year                             4138 non-null   int64  \n",
      " 1   leaid                            4138 non-null   int64  \n",
      " 2   lea_name                         4138 non-null   object \n",
      " 3   state_name                       4138 non-null   object \n",
      " 4   state_leaid                      3867 non-null   object \n",
      " 5   city_location                    4138 non-null   object \n",
      " 6   urban_centric_locale             3867 non-null   object \n",
      " 7   agency_type                      4138 non-null   object \n",
      " 8   enrollment                       3806 non-null   object \n",
      " 9   english_language_learners        2618 non-null   object \n",
      " 10  est_population_total             2505 non-null   float64\n",
      " 11  est_population_5_17_poverty      2505 non-null   float64\n",
      " 12  est_population_5_17_poverty_pct  2503 non-null   float64\n",
      " 13  rev_total                        3298 non-null   object \n",
      " 14  rev_fed_total                    3298 non-null   object \n",
      " 15  rev_state_total                  3298 non-null   object \n",
      " 16  rev_local_total                  3298 non-null   object \n",
      " 17  rev_local_prop_tax               2321 non-null   object \n",
      " 18  exp_total                        3298 non-null   object \n",
      " 19  exp_current_elsec_total          3298 non-null   object \n",
      " 20  exp_current_instruction_total    3298 non-null   object \n",
      " 21  exp_current_supp_serve_total     3298 non-null   object \n",
      " 22  exp_current_pupils               3298 non-null   object \n",
      " 23  exp_current_instruc_staff        3298 non-null   object \n",
      " 24  exp_current_general_admin        3298 non-null   object \n",
      " 25  exp_current_sch_admin            3298 non-null   object \n",
      " 26  exp_current_operation_plant      3298 non-null   object \n",
      " 27  exp_current_student_transport    3298 non-null   object \n",
      " 28  exp_current_bco                  3298 non-null   object \n",
      " 29  exp_current_supp_serv_nonspec    3298 non-null   object \n",
      " 30  exp_current_other                3298 non-null   object \n",
      " 31  exp_current_food_serv            3298 non-null   object \n",
      " 32  exp_current_enterprise           3298 non-null   object \n",
      " 33  exp_current_other_elsec          3298 non-null   object \n",
      " 34  exp_nonelsec                     3298 non-null   object \n",
      " 35  exp_nonelsec_community_serv      3298 non-null   object \n",
      " 36  exp_nonelsec_adult_education     3298 non-null   object \n",
      " 37  exp_nonelsec_other               3298 non-null   object \n",
      " 38  exp_textbooks                    3298 non-null   object \n",
      " 39  exp_utilities_energy             3298 non-null   object \n",
      " 40  exp_tech_supplies_services       3298 non-null   object \n",
      " 41  exp_tech_equipment               3298 non-null   object \n",
      " 42  outlay_capital_total             3298 non-null   object \n",
      " 43  outlay_capital_construction      3298 non-null   object \n",
      " 44  outlay_capital_land_structures   3298 non-null   object \n",
      " 45  outlay_capital_instruc_equip     3298 non-null   object \n",
      " 46  outlay_capital_other_equip       3298 non-null   object \n",
      " 47  outlay_capital_nonspec_equip     3298 non-null   object \n",
      " 48  salaries_total                   3298 non-null   object \n",
      " 49  salaries_instruction             3298 non-null   object \n",
      " 50  benefits_employee_total          3298 non-null   object \n",
      " 51  cohort_num                       2374 non-null   float64\n",
      " 52  grad_rate_high                   2346 non-null   object \n",
      " 53  grad_rate_low                    2346 non-null   object \n",
      " 54  grad_rate_midpt                  2346 non-null   object \n",
      "dtypes: float64(4), int64(2), object(49)\n",
      "memory usage: 1.8+ MB\n"
     ]
    }
   ],
   "source": [
    "df_district.info()"
   ]
  },
  {
   "cell_type": "code",
   "execution_count": 112,
   "metadata": {
    "ExecuteTime": {
     "end_time": "2021-06-14T05:30:52.059630Z",
     "start_time": "2021-06-14T05:30:52.055829Z"
    }
   },
   "outputs": [],
   "source": [
    "df_district = df_district.drop([], axis=1)"
   ]
  },
  {
   "cell_type": "code",
   "execution_count": 113,
   "metadata": {
    "ExecuteTime": {
     "end_time": "2021-06-14T05:30:52.065956Z",
     "start_time": "2021-06-14T05:30:52.061231Z"
    }
   },
   "outputs": [],
   "source": [
    "# Our population columns have the highest proportion of nulls\n",
    "df_district = df_district.drop(['est_population_total','est_population_5_17_poverty',\n",
    "                           'est_population_5_17_poverty_pct'], axis=1)"
   ]
  },
  {
   "cell_type": "code",
   "execution_count": 114,
   "metadata": {
    "ExecuteTime": {
     "end_time": "2021-06-14T05:30:52.072248Z",
     "start_time": "2021-06-14T05:30:52.067413Z"
    }
   },
   "outputs": [],
   "source": [
    "# Drop grad rates: we don't want to delete any districts and are using grad rate at school level\n",
    "df_district = df_district.drop(['grad_rate_high','grad_rate_low',\n",
    "                                'grad_rate_midpt','cohort_num'], axis=1)"
   ]
  },
  {
   "cell_type": "code",
   "execution_count": 115,
   "metadata": {
    "ExecuteTime": {
     "end_time": "2021-06-14T05:30:52.080830Z",
     "start_time": "2021-06-14T05:30:52.073448Z"
    }
   },
   "outputs": [
    {
     "data": {
      "text/plain": [
       "NaN       0.080232\n",
       "0         0.025133\n",
       "202.0     0.001208\n",
       "375       0.001208\n",
       "247.0     0.001208\n",
       "            ...   \n",
       "2405.0    0.000242\n",
       "662       0.000242\n",
       "1769      0.000242\n",
       "2412      0.000242\n",
       "595       0.000242\n",
       "Name: enrollment, Length: 2817, dtype: float64"
      ]
     },
     "execution_count": 115,
     "metadata": {},
     "output_type": "execute_result"
    }
   ],
   "source": [
    "df_district['enrollment'].value_counts(normalize=True, dropna=False)"
   ]
  },
  {
   "cell_type": "code",
   "execution_count": 116,
   "metadata": {
    "ExecuteTime": {
     "end_time": "2021-06-14T05:30:52.086281Z",
     "start_time": "2021-06-14T05:30:52.082211Z"
    }
   },
   "outputs": [],
   "source": [
    "# Enrollment is mostly zeros or NaNs \n",
    "df_district = df_district.drop(['enrollment'], axis=1)"
   ]
  },
  {
   "cell_type": "code",
   "execution_count": 117,
   "metadata": {
    "ExecuteTime": {
     "end_time": "2021-06-14T05:30:52.091946Z",
     "start_time": "2021-06-14T05:30:52.087814Z"
    }
   },
   "outputs": [],
   "source": [
    "# year is the same for all rows, state_name same in school data, state_leaid unnecessary\n",
    "df_district = df_district.drop(['year','state_name','state_leaid'], axis=1)"
   ]
  },
  {
   "cell_type": "code",
   "execution_count": 118,
   "metadata": {
    "ExecuteTime": {
     "end_time": "2021-06-14T05:30:52.109301Z",
     "start_time": "2021-06-14T05:30:52.093491Z"
    },
    "scrolled": true
   },
   "outputs": [
    {
     "data": {
      "text/plain": [
       "'percent of nulls in df_district is 19%'"
      ]
     },
     "execution_count": 118,
     "metadata": {},
     "output_type": "execute_result"
    }
   ],
   "source": [
    "#What proportion of our data frame is nulls?\n",
    "percent_null_df(df_district,'df_district')"
   ]
  },
  {
   "cell_type": "markdown",
   "metadata": {},
   "source": [
    "### english_language_learners"
   ]
  },
  {
   "cell_type": "code",
   "execution_count": 119,
   "metadata": {
    "ExecuteTime": {
     "end_time": "2021-06-14T05:30:52.116967Z",
     "start_time": "2021-06-14T05:30:52.111158Z"
    },
    "scrolled": true
   },
   "outputs": [
    {
     "data": {
      "text/plain": [
       "NaN     0.367327\n",
       "3       0.108990\n",
       "4       0.025616\n",
       "0       0.025133\n",
       "5       0.020058\n",
       "          ...   \n",
       "117     0.000242\n",
       "4561    0.000242\n",
       "408     0.000242\n",
       "266     0.000242\n",
       "278     0.000242\n",
       "Name: english_language_learners, Length: 417, dtype: float64"
      ]
     },
     "execution_count": 119,
     "metadata": {},
     "output_type": "execute_result"
    }
   ],
   "source": [
    "df_district['english_language_learners'].value_counts(normalize=True, dropna=False)"
   ]
  },
  {
   "cell_type": "code",
   "execution_count": 120,
   "metadata": {
    "ExecuteTime": {
     "end_time": "2021-06-14T05:30:52.120597Z",
     "start_time": "2021-06-14T05:30:52.118726Z"
    }
   },
   "outputs": [],
   "source": [
    "ell = ['english_language_learners']"
   ]
  },
  {
   "cell_type": "code",
   "execution_count": 121,
   "metadata": {
    "ExecuteTime": {
     "end_time": "2021-06-14T05:30:52.125048Z",
     "start_time": "2021-06-14T05:30:52.122316Z"
    }
   },
   "outputs": [],
   "source": [
    "for c in ell:\n",
    "    df_district[c].replace('Missing/not reported', np.NaN,inplace =True)"
   ]
  },
  {
   "cell_type": "code",
   "execution_count": 122,
   "metadata": {
    "ExecuteTime": {
     "end_time": "2021-06-14T05:30:52.132500Z",
     "start_time": "2021-06-14T05:30:52.126767Z"
    },
    "scrolled": false
   },
   "outputs": [
    {
     "data": {
      "text/plain": [
       "NaN     0.367327\n",
       "3       0.108990\n",
       "4       0.025616\n",
       "0       0.025133\n",
       "5       0.020058\n",
       "          ...   \n",
       "117     0.000242\n",
       "4561    0.000242\n",
       "408     0.000242\n",
       "266     0.000242\n",
       "278     0.000242\n",
       "Name: english_language_learners, Length: 417, dtype: float64"
      ]
     },
     "execution_count": 122,
     "metadata": {},
     "output_type": "execute_result"
    }
   ],
   "source": [
    "df_district['english_language_learners'].value_counts(normalize=True, dropna=False)"
   ]
  },
  {
   "cell_type": "code",
   "execution_count": 123,
   "metadata": {
    "ExecuteTime": {
     "end_time": "2021-06-14T05:30:52.138058Z",
     "start_time": "2021-06-14T05:30:52.133813Z"
    }
   },
   "outputs": [],
   "source": [
    "# fill na with median\n",
    "df_district['english_language_learners'] = df_district['english_language_learners'].fillna(df_district['english_language_learners'].median())"
   ]
  },
  {
   "cell_type": "code",
   "execution_count": 124,
   "metadata": {
    "ExecuteTime": {
     "end_time": "2021-06-14T05:30:52.145214Z",
     "start_time": "2021-06-14T05:30:52.139347Z"
    }
   },
   "outputs": [
    {
     "data": {
      "text/plain": [
       "17.0    0.367327\n",
       "3       0.108990\n",
       "4       0.025616\n",
       "0       0.025133\n",
       "5       0.020058\n",
       "          ...   \n",
       "117     0.000242\n",
       "4561    0.000242\n",
       "408     0.000242\n",
       "266     0.000242\n",
       "305     0.000242\n",
       "Name: english_language_learners, Length: 417, dtype: float64"
      ]
     },
     "execution_count": 124,
     "metadata": {},
     "output_type": "execute_result"
    }
   ],
   "source": [
    "df_district['english_language_learners'].value_counts(normalize=True, dropna=False)"
   ]
  },
  {
   "cell_type": "code",
   "execution_count": 125,
   "metadata": {
    "ExecuteTime": {
     "end_time": "2021-06-14T05:30:52.163200Z",
     "start_time": "2021-06-14T05:30:52.146485Z"
    },
    "scrolled": true
   },
   "outputs": [
    {
     "name": "stdout",
     "output_type": "stream",
     "text": [
      "<class 'pandas.core.frame.DataFrame'>\n",
      "Int64Index: 4138 entries, 0 to 299\n",
      "Data columns (total 44 columns):\n",
      " #   Column                          Non-Null Count  Dtype \n",
      "---  ------                          --------------  ----- \n",
      " 0   leaid                           4138 non-null   int64 \n",
      " 1   lea_name                        4138 non-null   object\n",
      " 2   city_location                   4138 non-null   object\n",
      " 3   urban_centric_locale            3867 non-null   object\n",
      " 4   agency_type                     4138 non-null   object\n",
      " 5   english_language_learners       4138 non-null   object\n",
      " 6   rev_total                       3298 non-null   object\n",
      " 7   rev_fed_total                   3298 non-null   object\n",
      " 8   rev_state_total                 3298 non-null   object\n",
      " 9   rev_local_total                 3298 non-null   object\n",
      " 10  rev_local_prop_tax              2321 non-null   object\n",
      " 11  exp_total                       3298 non-null   object\n",
      " 12  exp_current_elsec_total         3298 non-null   object\n",
      " 13  exp_current_instruction_total   3298 non-null   object\n",
      " 14  exp_current_supp_serve_total    3298 non-null   object\n",
      " 15  exp_current_pupils              3298 non-null   object\n",
      " 16  exp_current_instruc_staff       3298 non-null   object\n",
      " 17  exp_current_general_admin       3298 non-null   object\n",
      " 18  exp_current_sch_admin           3298 non-null   object\n",
      " 19  exp_current_operation_plant     3298 non-null   object\n",
      " 20  exp_current_student_transport   3298 non-null   object\n",
      " 21  exp_current_bco                 3298 non-null   object\n",
      " 22  exp_current_supp_serv_nonspec   3298 non-null   object\n",
      " 23  exp_current_other               3298 non-null   object\n",
      " 24  exp_current_food_serv           3298 non-null   object\n",
      " 25  exp_current_enterprise          3298 non-null   object\n",
      " 26  exp_current_other_elsec         3298 non-null   object\n",
      " 27  exp_nonelsec                    3298 non-null   object\n",
      " 28  exp_nonelsec_community_serv     3298 non-null   object\n",
      " 29  exp_nonelsec_adult_education    3298 non-null   object\n",
      " 30  exp_nonelsec_other              3298 non-null   object\n",
      " 31  exp_textbooks                   3298 non-null   object\n",
      " 32  exp_utilities_energy            3298 non-null   object\n",
      " 33  exp_tech_supplies_services      3298 non-null   object\n",
      " 34  exp_tech_equipment              3298 non-null   object\n",
      " 35  outlay_capital_total            3298 non-null   object\n",
      " 36  outlay_capital_construction     3298 non-null   object\n",
      " 37  outlay_capital_land_structures  3298 non-null   object\n",
      " 38  outlay_capital_instruc_equip    3298 non-null   object\n",
      " 39  outlay_capital_other_equip      3298 non-null   object\n",
      " 40  outlay_capital_nonspec_equip    3298 non-null   object\n",
      " 41  salaries_total                  3298 non-null   object\n",
      " 42  salaries_instruction            3298 non-null   object\n",
      " 43  benefits_employee_total         3298 non-null   object\n",
      "dtypes: int64(1), object(43)\n",
      "memory usage: 1.4+ MB\n"
     ]
    }
   ],
   "source": [
    "df_district.info()"
   ]
  },
  {
   "cell_type": "code",
   "execution_count": 126,
   "metadata": {
    "ExecuteTime": {
     "end_time": "2021-06-14T05:30:52.172990Z",
     "start_time": "2021-06-14T05:30:52.165730Z"
    }
   },
   "outputs": [],
   "source": [
    "df_district = df_district.drop_duplicates(subset=['lea_name'])"
   ]
  },
  {
   "cell_type": "markdown",
   "metadata": {},
   "source": [
    "# Join Datasets"
   ]
  },
  {
   "cell_type": "code",
   "execution_count": 127,
   "metadata": {
    "ExecuteTime": {
     "end_time": "2021-06-14T05:30:52.179882Z",
     "start_time": "2021-06-14T05:30:52.175269Z"
    }
   },
   "outputs": [
    {
     "data": {
      "text/plain": [
       "(2813, 48)"
      ]
     },
     "execution_count": 127,
     "metadata": {},
     "output_type": "execute_result"
    }
   ],
   "source": [
    "df_school.shape"
   ]
  },
  {
   "cell_type": "code",
   "execution_count": 128,
   "metadata": {
    "ExecuteTime": {
     "end_time": "2021-06-14T05:30:52.186389Z",
     "start_time": "2021-06-14T05:30:52.182407Z"
    },
    "scrolled": true
   },
   "outputs": [
    {
     "data": {
      "text/plain": [
       "(4106, 44)"
      ]
     },
     "execution_count": 128,
     "metadata": {},
     "output_type": "execute_result"
    }
   ],
   "source": [
    "df_district.shape"
   ]
  },
  {
   "cell_type": "code",
   "execution_count": 129,
   "metadata": {
    "ExecuteTime": {
     "end_time": "2021-06-14T05:30:52.191688Z",
     "start_time": "2021-06-14T05:30:52.188160Z"
    }
   },
   "outputs": [],
   "source": [
    "# Columns to drop \n",
    "df_school = df_school.drop(['ncessch','school_level','school_type','school_name','suspensions_instances_preschool'], axis=1)"
   ]
  },
  {
   "cell_type": "code",
   "execution_count": 130,
   "metadata": {
    "ExecuteTime": {
     "end_time": "2021-06-14T05:30:52.225374Z",
     "start_time": "2021-06-14T05:30:52.193990Z"
    },
    "scrolled": true
   },
   "outputs": [
    {
     "data": {
      "text/html": [
       "<div>\n",
       "<style scoped>\n",
       "    .dataframe tbody tr th:only-of-type {\n",
       "        vertical-align: middle;\n",
       "    }\n",
       "\n",
       "    .dataframe tbody tr th {\n",
       "        vertical-align: top;\n",
       "    }\n",
       "\n",
       "    .dataframe thead th {\n",
       "        text-align: right;\n",
       "    }\n",
       "</style>\n",
       "<table border=\"1\" class=\"dataframe\">\n",
       "  <thead>\n",
       "    <tr style=\"text-align: right;\">\n",
       "      <th></th>\n",
       "      <th>state_name</th>\n",
       "      <th>lea_name</th>\n",
       "      <th>zip_location</th>\n",
       "      <th>urban_centric_locale_x</th>\n",
       "      <th>charter</th>\n",
       "      <th>enrollment</th>\n",
       "      <th>read_test_num_valid</th>\n",
       "      <th>read_test_pct_prof_midpt</th>\n",
       "      <th>math_test_num_valid</th>\n",
       "      <th>math_test_pct_prof_midpt</th>\n",
       "      <th>...</th>\n",
       "      <th>exp_tech_equipment</th>\n",
       "      <th>outlay_capital_total</th>\n",
       "      <th>outlay_capital_construction</th>\n",
       "      <th>outlay_capital_land_structures</th>\n",
       "      <th>outlay_capital_instruc_equip</th>\n",
       "      <th>outlay_capital_other_equip</th>\n",
       "      <th>outlay_capital_nonspec_equip</th>\n",
       "      <th>salaries_total</th>\n",
       "      <th>salaries_instruction</th>\n",
       "      <th>benefits_employee_total</th>\n",
       "    </tr>\n",
       "  </thead>\n",
       "  <tbody>\n",
       "    <tr>\n",
       "      <th>0</th>\n",
       "      <td>New York</td>\n",
       "      <td>DOLGEVILLE CENTRAL SCHOOL DISTRICT</td>\n",
       "      <td>13329</td>\n",
       "      <td>Rural, distant</td>\n",
       "      <td>0.0</td>\n",
       "      <td>288</td>\n",
       "      <td>58</td>\n",
       "      <td>95</td>\n",
       "      <td>58</td>\n",
       "      <td>84</td>\n",
       "      <td>...</td>\n",
       "      <td>0</td>\n",
       "      <td>4749000</td>\n",
       "      <td>4199000</td>\n",
       "      <td>0</td>\n",
       "      <td>52000</td>\n",
       "      <td>498000</td>\n",
       "      <td>0</td>\n",
       "      <td>9357000</td>\n",
       "      <td>6683000</td>\n",
       "      <td>5053000</td>\n",
       "    </tr>\n",
       "    <tr>\n",
       "      <th>1</th>\n",
       "      <td>New York</td>\n",
       "      <td>SAUQUOIT VALLEY CENTRAL SCHOOL DISTRICT</td>\n",
       "      <td>13456</td>\n",
       "      <td>Rural, fringe</td>\n",
       "      <td>0.0</td>\n",
       "      <td>309</td>\n",
       "      <td>71</td>\n",
       "      <td>97</td>\n",
       "      <td>73</td>\n",
       "      <td>97</td>\n",
       "      <td>...</td>\n",
       "      <td>0</td>\n",
       "      <td>1457000</td>\n",
       "      <td>1088000</td>\n",
       "      <td>0</td>\n",
       "      <td>0</td>\n",
       "      <td>369000</td>\n",
       "      <td>0</td>\n",
       "      <td>10433000</td>\n",
       "      <td>7323000</td>\n",
       "      <td>5564000</td>\n",
       "    </tr>\n",
       "    <tr>\n",
       "      <th>2</th>\n",
       "      <td>New York</td>\n",
       "      <td>EDWARDS-KNOX CENTRAL SCHOOL DISTRICT</td>\n",
       "      <td>13652</td>\n",
       "      <td>Rural, remote</td>\n",
       "      <td>0.0</td>\n",
       "      <td>270</td>\n",
       "      <td>130</td>\n",
       "      <td>47</td>\n",
       "      <td>127</td>\n",
       "      <td>52</td>\n",
       "      <td>...</td>\n",
       "      <td>0</td>\n",
       "      <td>3690000</td>\n",
       "      <td>3409000</td>\n",
       "      <td>0</td>\n",
       "      <td>1000</td>\n",
       "      <td>280000</td>\n",
       "      <td>0</td>\n",
       "      <td>6310000</td>\n",
       "      <td>4101000</td>\n",
       "      <td>4012000</td>\n",
       "    </tr>\n",
       "    <tr>\n",
       "      <th>3</th>\n",
       "      <td>New York</td>\n",
       "      <td>ROTTERDAM-MOHONASEN CENTRAL SCHOOL DISTRICT</td>\n",
       "      <td>12303</td>\n",
       "      <td>Suburb, large</td>\n",
       "      <td>0.0</td>\n",
       "      <td>946</td>\n",
       "      <td>243</td>\n",
       "      <td>94</td>\n",
       "      <td>244</td>\n",
       "      <td>96</td>\n",
       "      <td>...</td>\n",
       "      <td>0</td>\n",
       "      <td>25980000</td>\n",
       "      <td>25316000</td>\n",
       "      <td>0</td>\n",
       "      <td>16000</td>\n",
       "      <td>648000</td>\n",
       "      <td>0</td>\n",
       "      <td>26195000</td>\n",
       "      <td>17815000</td>\n",
       "      <td>11884000</td>\n",
       "    </tr>\n",
       "    <tr>\n",
       "      <th>4</th>\n",
       "      <td>New York</td>\n",
       "      <td>BROADALBIN-PERTH CENTRAL SCHOOL DISTRICT</td>\n",
       "      <td>12025</td>\n",
       "      <td>Rural, distant</td>\n",
       "      <td>0.0</td>\n",
       "      <td>551</td>\n",
       "      <td>146</td>\n",
       "      <td>92</td>\n",
       "      <td>147</td>\n",
       "      <td>92</td>\n",
       "      <td>...</td>\n",
       "      <td>0</td>\n",
       "      <td>676000</td>\n",
       "      <td>55000</td>\n",
       "      <td>19000</td>\n",
       "      <td>0</td>\n",
       "      <td>602000</td>\n",
       "      <td>0</td>\n",
       "      <td>17090000</td>\n",
       "      <td>12135000</td>\n",
       "      <td>8621000</td>\n",
       "    </tr>\n",
       "  </tbody>\n",
       "</table>\n",
       "<p>5 rows × 86 columns</p>\n",
       "</div>"
      ],
      "text/plain": [
       "  state_name                                     lea_name  zip_location  \\\n",
       "0   New York           DOLGEVILLE CENTRAL SCHOOL DISTRICT         13329   \n",
       "1   New York      SAUQUOIT VALLEY CENTRAL SCHOOL DISTRICT         13456   \n",
       "2   New York         EDWARDS-KNOX CENTRAL SCHOOL DISTRICT         13652   \n",
       "3   New York  ROTTERDAM-MOHONASEN CENTRAL SCHOOL DISTRICT         12303   \n",
       "4   New York     BROADALBIN-PERTH CENTRAL SCHOOL DISTRICT         12025   \n",
       "\n",
       "  urban_centric_locale_x  charter  enrollment  read_test_num_valid  \\\n",
       "0         Rural, distant      0.0         288                   58   \n",
       "1          Rural, fringe      0.0         309                   71   \n",
       "2          Rural, remote      0.0         270                  130   \n",
       "3          Suburb, large      0.0         946                  243   \n",
       "4         Rural, distant      0.0         551                  146   \n",
       "\n",
       "   read_test_pct_prof_midpt  math_test_num_valid  math_test_pct_prof_midpt  \\\n",
       "0                        95                   58                        84   \n",
       "1                        97                   73                        97   \n",
       "2                        47                  127                        52   \n",
       "3                        94                  244                        96   \n",
       "4                        92                  147                        92   \n",
       "\n",
       "   ...  exp_tech_equipment  outlay_capital_total  outlay_capital_construction  \\\n",
       "0  ...                   0               4749000                      4199000   \n",
       "1  ...                   0               1457000                      1088000   \n",
       "2  ...                   0               3690000                      3409000   \n",
       "3  ...                   0              25980000                     25316000   \n",
       "4  ...                   0                676000                        55000   \n",
       "\n",
       "   outlay_capital_land_structures  outlay_capital_instruc_equip  \\\n",
       "0                               0                         52000   \n",
       "1                               0                             0   \n",
       "2                               0                          1000   \n",
       "3                               0                         16000   \n",
       "4                           19000                             0   \n",
       "\n",
       "   outlay_capital_other_equip  outlay_capital_nonspec_equip  salaries_total  \\\n",
       "0                      498000                             0         9357000   \n",
       "1                      369000                             0        10433000   \n",
       "2                      280000                             0         6310000   \n",
       "3                      648000                             0        26195000   \n",
       "4                      602000                             0        17090000   \n",
       "\n",
       "   salaries_instruction  benefits_employee_total  \n",
       "0               6683000                  5053000  \n",
       "1               7323000                  5564000  \n",
       "2               4101000                  4012000  \n",
       "3              17815000                 11884000  \n",
       "4              12135000                  8621000  \n",
       "\n",
       "[5 rows x 86 columns]"
      ]
     },
     "execution_count": 130,
     "metadata": {},
     "output_type": "execute_result"
    }
   ],
   "source": [
    "df_train = df_school.merge(df_district, on = 'lea_name')\n",
    "df_train.head()"
   ]
  },
  {
   "cell_type": "code",
   "execution_count": 131,
   "metadata": {
    "ExecuteTime": {
     "end_time": "2021-06-14T05:30:52.232667Z",
     "start_time": "2021-06-14T05:30:52.227104Z"
    },
    "scrolled": true
   },
   "outputs": [
    {
     "data": {
      "text/plain": [
       "Regular local school district                                       0.603020\n",
       "Charter agency                                                      0.169508\n",
       "Local school district that is a component of a supervisory union    0.118850\n",
       "Regional education service agency                                   0.060399\n",
       "Supervisory union                                                   0.037750\n",
       "State-operated agency                                               0.009742\n",
       "Other education agency                                              0.000731\n",
       "Name: agency_type, dtype: float64"
      ]
     },
     "execution_count": 131,
     "metadata": {},
     "output_type": "execute_result"
    }
   ],
   "source": [
    "df_district['agency_type'].value_counts(normalize=True, dropna=False)"
   ]
  },
  {
   "cell_type": "code",
   "execution_count": 132,
   "metadata": {
    "ExecuteTime": {
     "end_time": "2021-06-14T05:30:52.253527Z",
     "start_time": "2021-06-14T05:30:52.234309Z"
    },
    "scrolled": true
   },
   "outputs": [
    {
     "name": "stdout",
     "output_type": "stream",
     "text": [
      "<class 'pandas.core.frame.DataFrame'>\n",
      "Int64Index: 2811 entries, 0 to 2810\n",
      "Data columns (total 86 columns):\n",
      " #   Column                          Non-Null Count  Dtype  \n",
      "---  ------                          --------------  -----  \n",
      " 0   state_name                      2811 non-null   object \n",
      " 1   lea_name                        2811 non-null   object \n",
      " 2   zip_location                    2811 non-null   int64  \n",
      " 3   urban_centric_locale_x          2811 non-null   object \n",
      " 4   charter                         2751 non-null   float64\n",
      " 5   enrollment                      2811 non-null   int64  \n",
      " 6   read_test_num_valid             2811 non-null   int64  \n",
      " 7   read_test_pct_prof_midpt        2811 non-null   int64  \n",
      " 8   math_test_num_valid             2811 non-null   int64  \n",
      " 9   math_test_pct_prof_midpt        2811 non-null   int64  \n",
      " 10  students_susp_in_sch            2811 non-null   int64  \n",
      " 11  students_susp_out_sch_single    2811 non-null   int64  \n",
      " 12  students_susp_out_sch_multiple  2811 non-null   int64  \n",
      " 13  expulsions_no_ed_serv           2811 non-null   int64  \n",
      " 14  expulsions_with_ed_serv         2811 non-null   int64  \n",
      " 15  expulsions_zero_tolerance       2811 non-null   int64  \n",
      " 16  students_arrested               2811 non-null   int64  \n",
      " 17  students_referred_law_enforce   2811 non-null   int64  \n",
      " 18  transfers_alt_sch_disc          2811 non-null   int64  \n",
      " 19  days_suspended                  2811 non-null   int64  \n",
      " 20  suspensions_instances           2811 non-null   int64  \n",
      " 21  corpinstances                   2811 non-null   int64  \n",
      " 22  salaries_teachers               2811 non-null   int64  \n",
      " 23  cohort_num                      2811 non-null   int64  \n",
      " 24  grad_rate_midpt                 2811 non-null   int64  \n",
      " 25  allegations_harass_sex          2811 non-null   int64  \n",
      " 26  allegations_harass_race         2811 non-null   int64  \n",
      " 27  allegations_harass_disability   2811 non-null   int64  \n",
      " 28  allegations_harass_orientation  2811 non-null   int64  \n",
      " 29  allegations_harass_religion     2811 non-null   int64  \n",
      " 30  students_disc_harass_dis        2811 non-null   int64  \n",
      " 31  students_disc_harass_race       2811 non-null   int64  \n",
      " 32  students_disc_harass_sex        2811 non-null   int64  \n",
      " 33  students_report_harass_dis      2811 non-null   int64  \n",
      " 34  students_report_harass_race     2811 non-null   int64  \n",
      " 35  students_report_harass_sex      2811 non-null   int64  \n",
      " 36  instances_mech_restraint        2811 non-null   int64  \n",
      " 37  instances_phys_restraint        2811 non-null   int64  \n",
      " 38  instances_seclusion             2811 non-null   int64  \n",
      " 39  students_mech_restraint         2811 non-null   int64  \n",
      " 40  students_phys_restraint         2811 non-null   int64  \n",
      " 41  students_seclusion              2811 non-null   int64  \n",
      " 42  students_SAT_ACT                2811 non-null   int64  \n",
      " 43  leaid                           2811 non-null   int64  \n",
      " 44  city_location                   2811 non-null   object \n",
      " 45  urban_centric_locale_y          2575 non-null   object \n",
      " 46  agency_type                     2811 non-null   object \n",
      " 47  english_language_learners       2811 non-null   object \n",
      " 48  rev_total                       2192 non-null   object \n",
      " 49  rev_fed_total                   2192 non-null   object \n",
      " 50  rev_state_total                 2192 non-null   object \n",
      " 51  rev_local_total                 2192 non-null   object \n",
      " 52  rev_local_prop_tax              1684 non-null   object \n",
      " 53  exp_total                       2192 non-null   object \n",
      " 54  exp_current_elsec_total         2192 non-null   object \n",
      " 55  exp_current_instruction_total   2192 non-null   object \n",
      " 56  exp_current_supp_serve_total    2192 non-null   object \n",
      " 57  exp_current_pupils              2192 non-null   object \n",
      " 58  exp_current_instruc_staff       2192 non-null   object \n",
      " 59  exp_current_general_admin       2192 non-null   object \n",
      " 60  exp_current_sch_admin           2192 non-null   object \n",
      " 61  exp_current_operation_plant     2192 non-null   object \n",
      " 62  exp_current_student_transport   2192 non-null   object \n",
      " 63  exp_current_bco                 2192 non-null   object \n",
      " 64  exp_current_supp_serv_nonspec   2192 non-null   object \n",
      " 65  exp_current_other               2192 non-null   object \n",
      " 66  exp_current_food_serv           2192 non-null   object \n",
      " 67  exp_current_enterprise          2192 non-null   object \n",
      " 68  exp_current_other_elsec         2192 non-null   object \n",
      " 69  exp_nonelsec                    2192 non-null   object \n",
      " 70  exp_nonelsec_community_serv     2192 non-null   object \n",
      " 71  exp_nonelsec_adult_education    2192 non-null   object \n",
      " 72  exp_nonelsec_other              2192 non-null   object \n",
      " 73  exp_textbooks                   2192 non-null   object \n",
      " 74  exp_utilities_energy            2192 non-null   object \n",
      " 75  exp_tech_supplies_services      2192 non-null   object \n",
      " 76  exp_tech_equipment              2192 non-null   object \n",
      " 77  outlay_capital_total            2192 non-null   object \n",
      " 78  outlay_capital_construction     2192 non-null   object \n",
      " 79  outlay_capital_land_structures  2192 non-null   object \n",
      " 80  outlay_capital_instruc_equip    2192 non-null   object \n",
      " 81  outlay_capital_other_equip      2192 non-null   object \n",
      " 82  outlay_capital_nonspec_equip    2192 non-null   object \n",
      " 83  salaries_total                  2192 non-null   object \n",
      " 84  salaries_instruction            2192 non-null   object \n",
      " 85  benefits_employee_total         2192 non-null   object \n",
      "dtypes: float64(1), int64(40), object(45)\n",
      "memory usage: 1.9+ MB\n"
     ]
    }
   ],
   "source": [
    "df_train.info()"
   ]
  },
  {
   "cell_type": "code",
   "execution_count": 133,
   "metadata": {
    "ExecuteTime": {
     "end_time": "2021-06-14T05:30:52.259858Z",
     "start_time": "2021-06-14T05:30:52.255550Z"
    },
    "scrolled": true
   },
   "outputs": [],
   "source": [
    "# Columns to drop \n",
    "df_train = df_train.drop(['leaid','lea_name'], axis=1)"
   ]
  },
  {
   "cell_type": "markdown",
   "metadata": {},
   "source": [
    "## Final Check for NaNs"
   ]
  },
  {
   "cell_type": "code",
   "execution_count": 134,
   "metadata": {
    "ExecuteTime": {
     "end_time": "2021-06-14T05:30:52.269382Z",
     "start_time": "2021-06-14T05:30:52.261496Z"
    }
   },
   "outputs": [],
   "source": [
    "nan_values = df_train.isna()\n",
    "nan_columns = nan_values.any()"
   ]
  },
  {
   "cell_type": "code",
   "execution_count": 135,
   "metadata": {
    "ExecuteTime": {
     "end_time": "2021-06-14T05:30:52.274026Z",
     "start_time": "2021-06-14T05:30:52.271390Z"
    }
   },
   "outputs": [
    {
     "name": "stdout",
     "output_type": "stream",
     "text": [
      "['charter', 'urban_centric_locale_y', 'rev_total', 'rev_fed_total', 'rev_state_total', 'rev_local_total', 'rev_local_prop_tax', 'exp_total', 'exp_current_elsec_total', 'exp_current_instruction_total', 'exp_current_supp_serve_total', 'exp_current_pupils', 'exp_current_instruc_staff', 'exp_current_general_admin', 'exp_current_sch_admin', 'exp_current_operation_plant', 'exp_current_student_transport', 'exp_current_bco', 'exp_current_supp_serv_nonspec', 'exp_current_other', 'exp_current_food_serv', 'exp_current_enterprise', 'exp_current_other_elsec', 'exp_nonelsec', 'exp_nonelsec_community_serv', 'exp_nonelsec_adult_education', 'exp_nonelsec_other', 'exp_textbooks', 'exp_utilities_energy', 'exp_tech_supplies_services', 'exp_tech_equipment', 'outlay_capital_total', 'outlay_capital_construction', 'outlay_capital_land_structures', 'outlay_capital_instruc_equip', 'outlay_capital_other_equip', 'outlay_capital_nonspec_equip', 'salaries_total', 'salaries_instruction', 'benefits_employee_total']\n"
     ]
    }
   ],
   "source": [
    "columns_with_nan = df_train.columns[nan_columns].tolist()\n",
    "print(columns_with_nan)"
   ]
  },
  {
   "cell_type": "markdown",
   "metadata": {},
   "source": [
    "We still have NaN values in our numerical fields"
   ]
  },
  {
   "cell_type": "markdown",
   "metadata": {},
   "source": [
    "# Numeric Columns - cleanup"
   ]
  },
  {
   "cell_type": "code",
   "execution_count": 136,
   "metadata": {
    "ExecuteTime": {
     "end_time": "2021-06-14T05:30:52.277434Z",
     "start_time": "2021-06-14T05:30:52.275382Z"
    }
   },
   "outputs": [],
   "source": [
    "col_names_category = ['state_name','zip_location',\n",
    "                 'urban_centric_locale_x','city_location',\n",
    "                 'urban_centric_locale_y','agency_type','grad_rate_midpt']"
   ]
  },
  {
   "cell_type": "code",
   "execution_count": 137,
   "metadata": {
    "ExecuteTime": {
     "end_time": "2021-06-14T05:30:52.281443Z",
     "start_time": "2021-06-14T05:30:52.279360Z"
    }
   },
   "outputs": [],
   "source": [
    "col_names = list(df_train.columns)"
   ]
  },
  {
   "cell_type": "code",
   "execution_count": 138,
   "metadata": {
    "ExecuteTime": {
     "end_time": "2021-06-14T05:30:52.284941Z",
     "start_time": "2021-06-14T05:30:52.282831Z"
    }
   },
   "outputs": [],
   "source": [
    "num_col_names = set(col_names) - set(col_names_category)\n",
    "num_col_names = list(num_col_names)"
   ]
  },
  {
   "cell_type": "code",
   "execution_count": 139,
   "metadata": {
    "ExecuteTime": {
     "end_time": "2021-06-14T05:30:52.343323Z",
     "start_time": "2021-06-14T05:30:52.286779Z"
    }
   },
   "outputs": [],
   "source": [
    "df_train[num_col_names] = df_train[num_col_names].fillna(df_train[num_col_names].median())"
   ]
  },
  {
   "cell_type": "code",
   "execution_count": 140,
   "metadata": {
    "ExecuteTime": {
     "end_time": "2021-06-14T05:30:52.478753Z",
     "start_time": "2021-06-14T05:30:52.344779Z"
    },
    "scrolled": true
   },
   "outputs": [],
   "source": [
    "df_train[num_col_names] = df_train[num_col_names].astype(str).astype(float).astype(int)"
   ]
  },
  {
   "cell_type": "markdown",
   "metadata": {},
   "source": [
    "# Category Columns - cleanup"
   ]
  },
  {
   "cell_type": "code",
   "execution_count": 141,
   "metadata": {
    "ExecuteTime": {
     "end_time": "2021-06-14T05:30:52.495306Z",
     "start_time": "2021-06-14T05:30:52.480270Z"
    }
   },
   "outputs": [],
   "source": [
    "df_train[col_names_category] = df_train[col_names_category].astype('category')"
   ]
  },
  {
   "cell_type": "code",
   "execution_count": 142,
   "metadata": {
    "ExecuteTime": {
     "end_time": "2021-06-14T05:30:52.520937Z",
     "start_time": "2021-06-14T05:30:52.496789Z"
    },
    "scrolled": true
   },
   "outputs": [
    {
     "name": "stdout",
     "output_type": "stream",
     "text": [
      "<class 'pandas.core.frame.DataFrame'>\n",
      "Int64Index: 2811 entries, 0 to 2810\n",
      "Data columns (total 84 columns):\n",
      " #   Column                          Non-Null Count  Dtype   \n",
      "---  ------                          --------------  -----   \n",
      " 0   state_name                      2811 non-null   category\n",
      " 1   zip_location                    2811 non-null   category\n",
      " 2   urban_centric_locale_x          2811 non-null   category\n",
      " 3   charter                         2811 non-null   int64   \n",
      " 4   enrollment                      2811 non-null   int64   \n",
      " 5   read_test_num_valid             2811 non-null   int64   \n",
      " 6   read_test_pct_prof_midpt        2811 non-null   int64   \n",
      " 7   math_test_num_valid             2811 non-null   int64   \n",
      " 8   math_test_pct_prof_midpt        2811 non-null   int64   \n",
      " 9   students_susp_in_sch            2811 non-null   int64   \n",
      " 10  students_susp_out_sch_single    2811 non-null   int64   \n",
      " 11  students_susp_out_sch_multiple  2811 non-null   int64   \n",
      " 12  expulsions_no_ed_serv           2811 non-null   int64   \n",
      " 13  expulsions_with_ed_serv         2811 non-null   int64   \n",
      " 14  expulsions_zero_tolerance       2811 non-null   int64   \n",
      " 15  students_arrested               2811 non-null   int64   \n",
      " 16  students_referred_law_enforce   2811 non-null   int64   \n",
      " 17  transfers_alt_sch_disc          2811 non-null   int64   \n",
      " 18  days_suspended                  2811 non-null   int64   \n",
      " 19  suspensions_instances           2811 non-null   int64   \n",
      " 20  corpinstances                   2811 non-null   int64   \n",
      " 21  salaries_teachers               2811 non-null   int64   \n",
      " 22  cohort_num                      2811 non-null   int64   \n",
      " 23  grad_rate_midpt                 2811 non-null   category\n",
      " 24  allegations_harass_sex          2811 non-null   int64   \n",
      " 25  allegations_harass_race         2811 non-null   int64   \n",
      " 26  allegations_harass_disability   2811 non-null   int64   \n",
      " 27  allegations_harass_orientation  2811 non-null   int64   \n",
      " 28  allegations_harass_religion     2811 non-null   int64   \n",
      " 29  students_disc_harass_dis        2811 non-null   int64   \n",
      " 30  students_disc_harass_race       2811 non-null   int64   \n",
      " 31  students_disc_harass_sex        2811 non-null   int64   \n",
      " 32  students_report_harass_dis      2811 non-null   int64   \n",
      " 33  students_report_harass_race     2811 non-null   int64   \n",
      " 34  students_report_harass_sex      2811 non-null   int64   \n",
      " 35  instances_mech_restraint        2811 non-null   int64   \n",
      " 36  instances_phys_restraint        2811 non-null   int64   \n",
      " 37  instances_seclusion             2811 non-null   int64   \n",
      " 38  students_mech_restraint         2811 non-null   int64   \n",
      " 39  students_phys_restraint         2811 non-null   int64   \n",
      " 40  students_seclusion              2811 non-null   int64   \n",
      " 41  students_SAT_ACT                2811 non-null   int64   \n",
      " 42  city_location                   2811 non-null   category\n",
      " 43  urban_centric_locale_y          2575 non-null   category\n",
      " 44  agency_type                     2811 non-null   category\n",
      " 45  english_language_learners       2811 non-null   int64   \n",
      " 46  rev_total                       2811 non-null   int64   \n",
      " 47  rev_fed_total                   2811 non-null   int64   \n",
      " 48  rev_state_total                 2811 non-null   int64   \n",
      " 49  rev_local_total                 2811 non-null   int64   \n",
      " 50  rev_local_prop_tax              2811 non-null   int64   \n",
      " 51  exp_total                       2811 non-null   int64   \n",
      " 52  exp_current_elsec_total         2811 non-null   int64   \n",
      " 53  exp_current_instruction_total   2811 non-null   int64   \n",
      " 54  exp_current_supp_serve_total    2811 non-null   int64   \n",
      " 55  exp_current_pupils              2811 non-null   int64   \n",
      " 56  exp_current_instruc_staff       2811 non-null   int64   \n",
      " 57  exp_current_general_admin       2811 non-null   int64   \n",
      " 58  exp_current_sch_admin           2811 non-null   int64   \n",
      " 59  exp_current_operation_plant     2811 non-null   int64   \n",
      " 60  exp_current_student_transport   2811 non-null   int64   \n",
      " 61  exp_current_bco                 2811 non-null   int64   \n",
      " 62  exp_current_supp_serv_nonspec   2811 non-null   int64   \n",
      " 63  exp_current_other               2811 non-null   int64   \n",
      " 64  exp_current_food_serv           2811 non-null   int64   \n",
      " 65  exp_current_enterprise          2811 non-null   int64   \n",
      " 66  exp_current_other_elsec         2811 non-null   int64   \n",
      " 67  exp_nonelsec                    2811 non-null   int64   \n",
      " 68  exp_nonelsec_community_serv     2811 non-null   int64   \n",
      " 69  exp_nonelsec_adult_education    2811 non-null   int64   \n",
      " 70  exp_nonelsec_other              2811 non-null   int64   \n",
      " 71  exp_textbooks                   2811 non-null   int64   \n",
      " 72  exp_utilities_energy            2811 non-null   int64   \n",
      " 73  exp_tech_supplies_services      2811 non-null   int64   \n",
      " 74  exp_tech_equipment              2811 non-null   int64   \n",
      " 75  outlay_capital_total            2811 non-null   int64   \n",
      " 76  outlay_capital_construction     2811 non-null   int64   \n",
      " 77  outlay_capital_land_structures  2811 non-null   int64   \n",
      " 78  outlay_capital_instruc_equip    2811 non-null   int64   \n",
      " 79  outlay_capital_other_equip      2811 non-null   int64   \n",
      " 80  outlay_capital_nonspec_equip    2811 non-null   int64   \n",
      " 81  salaries_total                  2811 non-null   int64   \n",
      " 82  salaries_instruction            2811 non-null   int64   \n",
      " 83  benefits_employee_total         2811 non-null   int64   \n",
      "dtypes: category(7), int64(77)\n",
      "memory usage: 1.9 MB\n"
     ]
    }
   ],
   "source": [
    "df_train.info()"
   ]
  },
  {
   "cell_type": "markdown",
   "metadata": {},
   "source": [
    "# Train Test Split"
   ]
  },
  {
   "cell_type": "code",
   "execution_count": 143,
   "metadata": {
    "ExecuteTime": {
     "end_time": "2021-06-14T05:30:52.526014Z",
     "start_time": "2021-06-14T05:30:52.522532Z"
    },
    "scrolled": true
   },
   "outputs": [],
   "source": [
    "X=df_train.drop(columns = ['grad_rate_midpt']) # Features\n",
    "y=df_train['grad_rate_midpt'] #Target"
   ]
  },
  {
   "cell_type": "code",
   "execution_count": 144,
   "metadata": {
    "ExecuteTime": {
     "end_time": "2021-06-14T05:30:52.533124Z",
     "start_time": "2021-06-14T05:30:52.527681Z"
    }
   },
   "outputs": [],
   "source": [
    "X_train, X_test, y_train, y_test = train_test_split(X, y, test_size=0.3) # 70% training and 30% test"
   ]
  },
  {
   "cell_type": "code",
   "execution_count": 145,
   "metadata": {
    "ExecuteTime": {
     "end_time": "2021-06-14T05:30:52.555933Z",
     "start_time": "2021-06-14T05:30:52.534637Z"
    },
    "scrolled": false
   },
   "outputs": [
    {
     "data": {
      "text/html": [
       "<div>\n",
       "<style scoped>\n",
       "    .dataframe tbody tr th:only-of-type {\n",
       "        vertical-align: middle;\n",
       "    }\n",
       "\n",
       "    .dataframe tbody tr th {\n",
       "        vertical-align: top;\n",
       "    }\n",
       "\n",
       "    .dataframe thead th {\n",
       "        text-align: right;\n",
       "    }\n",
       "</style>\n",
       "<table border=\"1\" class=\"dataframe\">\n",
       "  <thead>\n",
       "    <tr style=\"text-align: right;\">\n",
       "      <th></th>\n",
       "      <th>state_name</th>\n",
       "      <th>zip_location</th>\n",
       "      <th>urban_centric_locale_x</th>\n",
       "      <th>charter</th>\n",
       "      <th>enrollment</th>\n",
       "      <th>read_test_num_valid</th>\n",
       "      <th>read_test_pct_prof_midpt</th>\n",
       "      <th>math_test_num_valid</th>\n",
       "      <th>math_test_pct_prof_midpt</th>\n",
       "      <th>students_susp_in_sch</th>\n",
       "      <th>...</th>\n",
       "      <th>exp_tech_equipment</th>\n",
       "      <th>outlay_capital_total</th>\n",
       "      <th>outlay_capital_construction</th>\n",
       "      <th>outlay_capital_land_structures</th>\n",
       "      <th>outlay_capital_instruc_equip</th>\n",
       "      <th>outlay_capital_other_equip</th>\n",
       "      <th>outlay_capital_nonspec_equip</th>\n",
       "      <th>salaries_total</th>\n",
       "      <th>salaries_instruction</th>\n",
       "      <th>benefits_employee_total</th>\n",
       "    </tr>\n",
       "  </thead>\n",
       "  <tbody>\n",
       "    <tr>\n",
       "      <th>314</th>\n",
       "      <td>New York</td>\n",
       "      <td>11208</td>\n",
       "      <td>City, large</td>\n",
       "      <td>0</td>\n",
       "      <td>239</td>\n",
       "      <td>62</td>\n",
       "      <td>82</td>\n",
       "      <td>65</td>\n",
       "      <td>87</td>\n",
       "      <td>17</td>\n",
       "      <td>...</td>\n",
       "      <td>0</td>\n",
       "      <td>1175500</td>\n",
       "      <td>355000</td>\n",
       "      <td>0</td>\n",
       "      <td>56000</td>\n",
       "      <td>252000</td>\n",
       "      <td>0</td>\n",
       "      <td>20753500</td>\n",
       "      <td>14263500</td>\n",
       "      <td>9824000</td>\n",
       "    </tr>\n",
       "    <tr>\n",
       "      <th>1575</th>\n",
       "      <td>Pennsylvania</td>\n",
       "      <td>18702</td>\n",
       "      <td>City, small</td>\n",
       "      <td>0</td>\n",
       "      <td>849</td>\n",
       "      <td>422</td>\n",
       "      <td>30</td>\n",
       "      <td>422</td>\n",
       "      <td>13</td>\n",
       "      <td>0</td>\n",
       "      <td>...</td>\n",
       "      <td>0</td>\n",
       "      <td>9056000</td>\n",
       "      <td>8438000</td>\n",
       "      <td>440000</td>\n",
       "      <td>0</td>\n",
       "      <td>178000</td>\n",
       "      <td>0</td>\n",
       "      <td>52437000</td>\n",
       "      <td>38407000</td>\n",
       "      <td>31130000</td>\n",
       "    </tr>\n",
       "    <tr>\n",
       "      <th>930</th>\n",
       "      <td>Pennsylvania</td>\n",
       "      <td>16125</td>\n",
       "      <td>Rural, fringe</td>\n",
       "      <td>1</td>\n",
       "      <td>203</td>\n",
       "      <td>81</td>\n",
       "      <td>12</td>\n",
       "      <td>82</td>\n",
       "      <td>7</td>\n",
       "      <td>0</td>\n",
       "      <td>...</td>\n",
       "      <td>0</td>\n",
       "      <td>0</td>\n",
       "      <td>0</td>\n",
       "      <td>0</td>\n",
       "      <td>0</td>\n",
       "      <td>0</td>\n",
       "      <td>0</td>\n",
       "      <td>2141000</td>\n",
       "      <td>1514000</td>\n",
       "      <td>881000</td>\n",
       "    </tr>\n",
       "    <tr>\n",
       "      <th>1155</th>\n",
       "      <td>Pennsylvania</td>\n",
       "      <td>17022</td>\n",
       "      <td>Suburb, large</td>\n",
       "      <td>0</td>\n",
       "      <td>1240</td>\n",
       "      <td>292</td>\n",
       "      <td>82</td>\n",
       "      <td>292</td>\n",
       "      <td>73</td>\n",
       "      <td>107</td>\n",
       "      <td>...</td>\n",
       "      <td>0</td>\n",
       "      <td>1260000</td>\n",
       "      <td>785000</td>\n",
       "      <td>257000</td>\n",
       "      <td>203000</td>\n",
       "      <td>15000</td>\n",
       "      <td>0</td>\n",
       "      <td>24662000</td>\n",
       "      <td>17948000</td>\n",
       "      <td>14249000</td>\n",
       "    </tr>\n",
       "    <tr>\n",
       "      <th>29</th>\n",
       "      <td>New York</td>\n",
       "      <td>10006</td>\n",
       "      <td>City, large</td>\n",
       "      <td>0</td>\n",
       "      <td>673</td>\n",
       "      <td>134</td>\n",
       "      <td>92</td>\n",
       "      <td>139</td>\n",
       "      <td>77</td>\n",
       "      <td>48</td>\n",
       "      <td>...</td>\n",
       "      <td>0</td>\n",
       "      <td>1175500</td>\n",
       "      <td>355000</td>\n",
       "      <td>0</td>\n",
       "      <td>56000</td>\n",
       "      <td>252000</td>\n",
       "      <td>0</td>\n",
       "      <td>20753500</td>\n",
       "      <td>14263500</td>\n",
       "      <td>9824000</td>\n",
       "    </tr>\n",
       "    <tr>\n",
       "      <th>...</th>\n",
       "      <td>...</td>\n",
       "      <td>...</td>\n",
       "      <td>...</td>\n",
       "      <td>...</td>\n",
       "      <td>...</td>\n",
       "      <td>...</td>\n",
       "      <td>...</td>\n",
       "      <td>...</td>\n",
       "      <td>...</td>\n",
       "      <td>...</td>\n",
       "      <td>...</td>\n",
       "      <td>...</td>\n",
       "      <td>...</td>\n",
       "      <td>...</td>\n",
       "      <td>...</td>\n",
       "      <td>...</td>\n",
       "      <td>...</td>\n",
       "      <td>...</td>\n",
       "      <td>...</td>\n",
       "      <td>...</td>\n",
       "      <td>...</td>\n",
       "    </tr>\n",
       "    <tr>\n",
       "      <th>2156</th>\n",
       "      <td>Massachusetts</td>\n",
       "      <td>2115</td>\n",
       "      <td>City, large</td>\n",
       "      <td>0</td>\n",
       "      <td>2439</td>\n",
       "      <td>1161</td>\n",
       "      <td>99</td>\n",
       "      <td>1152</td>\n",
       "      <td>98</td>\n",
       "      <td>0</td>\n",
       "      <td>...</td>\n",
       "      <td>0</td>\n",
       "      <td>47297000</td>\n",
       "      <td>29505000</td>\n",
       "      <td>5729000</td>\n",
       "      <td>1668000</td>\n",
       "      <td>10395000</td>\n",
       "      <td>0</td>\n",
       "      <td>745675000</td>\n",
       "      <td>498943000</td>\n",
       "      <td>270232000</td>\n",
       "    </tr>\n",
       "    <tr>\n",
       "      <th>460</th>\n",
       "      <td>New York</td>\n",
       "      <td>12921</td>\n",
       "      <td>Rural, distant</td>\n",
       "      <td>0</td>\n",
       "      <td>216</td>\n",
       "      <td>75</td>\n",
       "      <td>57</td>\n",
       "      <td>78</td>\n",
       "      <td>57</td>\n",
       "      <td>22</td>\n",
       "      <td>...</td>\n",
       "      <td>0</td>\n",
       "      <td>1421000</td>\n",
       "      <td>1290000</td>\n",
       "      <td>0</td>\n",
       "      <td>2000</td>\n",
       "      <td>129000</td>\n",
       "      <td>0</td>\n",
       "      <td>4548000</td>\n",
       "      <td>3094000</td>\n",
       "      <td>3224000</td>\n",
       "    </tr>\n",
       "    <tr>\n",
       "      <th>1821</th>\n",
       "      <td>New Jersey</td>\n",
       "      <td>7860</td>\n",
       "      <td>Town, fringe</td>\n",
       "      <td>0</td>\n",
       "      <td>760</td>\n",
       "      <td>496</td>\n",
       "      <td>50</td>\n",
       "      <td>454</td>\n",
       "      <td>24</td>\n",
       "      <td>4</td>\n",
       "      <td>...</td>\n",
       "      <td>0</td>\n",
       "      <td>223000</td>\n",
       "      <td>183000</td>\n",
       "      <td>0</td>\n",
       "      <td>14000</td>\n",
       "      <td>26000</td>\n",
       "      <td>0</td>\n",
       "      <td>17912000</td>\n",
       "      <td>11845000</td>\n",
       "      <td>7937000</td>\n",
       "    </tr>\n",
       "    <tr>\n",
       "      <th>2649</th>\n",
       "      <td>Connecticut</td>\n",
       "      <td>6708</td>\n",
       "      <td>Suburb, midsize</td>\n",
       "      <td>0</td>\n",
       "      <td>1301</td>\n",
       "      <td>250</td>\n",
       "      <td>33</td>\n",
       "      <td>254</td>\n",
       "      <td>9</td>\n",
       "      <td>376</td>\n",
       "      <td>...</td>\n",
       "      <td>0</td>\n",
       "      <td>1175500</td>\n",
       "      <td>355000</td>\n",
       "      <td>0</td>\n",
       "      <td>56000</td>\n",
       "      <td>252000</td>\n",
       "      <td>0</td>\n",
       "      <td>20753500</td>\n",
       "      <td>14263500</td>\n",
       "      <td>9824000</td>\n",
       "    </tr>\n",
       "    <tr>\n",
       "      <th>2704</th>\n",
       "      <td>Rhode Island</td>\n",
       "      <td>2905</td>\n",
       "      <td>City, midsize</td>\n",
       "      <td>0</td>\n",
       "      <td>677</td>\n",
       "      <td>247</td>\n",
       "      <td>12</td>\n",
       "      <td>214</td>\n",
       "      <td>5</td>\n",
       "      <td>0</td>\n",
       "      <td>...</td>\n",
       "      <td>0</td>\n",
       "      <td>1175500</td>\n",
       "      <td>355000</td>\n",
       "      <td>0</td>\n",
       "      <td>56000</td>\n",
       "      <td>252000</td>\n",
       "      <td>0</td>\n",
       "      <td>20753500</td>\n",
       "      <td>14263500</td>\n",
       "      <td>9824000</td>\n",
       "    </tr>\n",
       "  </tbody>\n",
       "</table>\n",
       "<p>1967 rows × 83 columns</p>\n",
       "</div>"
      ],
      "text/plain": [
       "         state_name zip_location urban_centric_locale_x  charter  enrollment  \\\n",
       "314        New York        11208            City, large        0         239   \n",
       "1575   Pennsylvania        18702            City, small        0         849   \n",
       "930    Pennsylvania        16125          Rural, fringe        1         203   \n",
       "1155   Pennsylvania        17022          Suburb, large        0        1240   \n",
       "29         New York        10006            City, large        0         673   \n",
       "...             ...          ...                    ...      ...         ...   \n",
       "2156  Massachusetts         2115            City, large        0        2439   \n",
       "460        New York        12921         Rural, distant        0         216   \n",
       "1821     New Jersey         7860           Town, fringe        0         760   \n",
       "2649    Connecticut         6708        Suburb, midsize        0        1301   \n",
       "2704   Rhode Island         2905          City, midsize        0         677   \n",
       "\n",
       "      read_test_num_valid  read_test_pct_prof_midpt  math_test_num_valid  \\\n",
       "314                    62                        82                   65   \n",
       "1575                  422                        30                  422   \n",
       "930                    81                        12                   82   \n",
       "1155                  292                        82                  292   \n",
       "29                    134                        92                  139   \n",
       "...                   ...                       ...                  ...   \n",
       "2156                 1161                        99                 1152   \n",
       "460                    75                        57                   78   \n",
       "1821                  496                        50                  454   \n",
       "2649                  250                        33                  254   \n",
       "2704                  247                        12                  214   \n",
       "\n",
       "      math_test_pct_prof_midpt  students_susp_in_sch  ...  exp_tech_equipment  \\\n",
       "314                         87                    17  ...                   0   \n",
       "1575                        13                     0  ...                   0   \n",
       "930                          7                     0  ...                   0   \n",
       "1155                        73                   107  ...                   0   \n",
       "29                          77                    48  ...                   0   \n",
       "...                        ...                   ...  ...                 ...   \n",
       "2156                        98                     0  ...                   0   \n",
       "460                         57                    22  ...                   0   \n",
       "1821                        24                     4  ...                   0   \n",
       "2649                         9                   376  ...                   0   \n",
       "2704                         5                     0  ...                   0   \n",
       "\n",
       "      outlay_capital_total  outlay_capital_construction  \\\n",
       "314                1175500                       355000   \n",
       "1575               9056000                      8438000   \n",
       "930                      0                            0   \n",
       "1155               1260000                       785000   \n",
       "29                 1175500                       355000   \n",
       "...                    ...                          ...   \n",
       "2156              47297000                     29505000   \n",
       "460                1421000                      1290000   \n",
       "1821                223000                       183000   \n",
       "2649               1175500                       355000   \n",
       "2704               1175500                       355000   \n",
       "\n",
       "      outlay_capital_land_structures  outlay_capital_instruc_equip  \\\n",
       "314                                0                         56000   \n",
       "1575                          440000                             0   \n",
       "930                                0                             0   \n",
       "1155                          257000                        203000   \n",
       "29                                 0                         56000   \n",
       "...                              ...                           ...   \n",
       "2156                         5729000                       1668000   \n",
       "460                                0                          2000   \n",
       "1821                               0                         14000   \n",
       "2649                               0                         56000   \n",
       "2704                               0                         56000   \n",
       "\n",
       "      outlay_capital_other_equip  outlay_capital_nonspec_equip  \\\n",
       "314                       252000                             0   \n",
       "1575                      178000                             0   \n",
       "930                            0                             0   \n",
       "1155                       15000                             0   \n",
       "29                        252000                             0   \n",
       "...                          ...                           ...   \n",
       "2156                    10395000                             0   \n",
       "460                       129000                             0   \n",
       "1821                       26000                             0   \n",
       "2649                      252000                             0   \n",
       "2704                      252000                             0   \n",
       "\n",
       "      salaries_total  salaries_instruction  benefits_employee_total  \n",
       "314         20753500              14263500                  9824000  \n",
       "1575        52437000              38407000                 31130000  \n",
       "930          2141000               1514000                   881000  \n",
       "1155        24662000              17948000                 14249000  \n",
       "29          20753500              14263500                  9824000  \n",
       "...              ...                   ...                      ...  \n",
       "2156       745675000             498943000                270232000  \n",
       "460          4548000               3094000                  3224000  \n",
       "1821        17912000              11845000                  7937000  \n",
       "2649        20753500              14263500                  9824000  \n",
       "2704        20753500              14263500                  9824000  \n",
       "\n",
       "[1967 rows x 83 columns]"
      ]
     },
     "execution_count": 145,
     "metadata": {},
     "output_type": "execute_result"
    }
   ],
   "source": [
    "X_train"
   ]
  },
  {
   "cell_type": "code",
   "execution_count": 146,
   "metadata": {
    "ExecuteTime": {
     "end_time": "2021-06-14T05:30:52.560954Z",
     "start_time": "2021-06-14T05:30:52.557875Z"
    }
   },
   "outputs": [
    {
     "data": {
      "text/plain": [
       "(1967, 83)"
      ]
     },
     "execution_count": 146,
     "metadata": {},
     "output_type": "execute_result"
    }
   ],
   "source": [
    "X_train.shape"
   ]
  },
  {
   "cell_type": "code",
   "execution_count": 147,
   "metadata": {
    "ExecuteTime": {
     "end_time": "2021-06-14T05:30:52.565468Z",
     "start_time": "2021-06-14T05:30:52.562446Z"
    },
    "scrolled": false
   },
   "outputs": [
    {
     "data": {
      "text/plain": [
       "(844, 83)"
      ]
     },
     "execution_count": 147,
     "metadata": {},
     "output_type": "execute_result"
    }
   ],
   "source": [
    "X_test.shape"
   ]
  },
  {
   "cell_type": "markdown",
   "metadata": {},
   "source": [
    "# Encode Features"
   ]
  },
  {
   "cell_type": "code",
   "execution_count": 148,
   "metadata": {
    "ExecuteTime": {
     "end_time": "2021-06-14T05:30:52.568757Z",
     "start_time": "2021-06-14T05:30:52.566857Z"
    }
   },
   "outputs": [],
   "source": [
    "col_names = list(df_train.columns)"
   ]
  },
  {
   "cell_type": "code",
   "execution_count": 149,
   "metadata": {
    "ExecuteTime": {
     "end_time": "2021-06-14T05:30:52.572059Z",
     "start_time": "2021-06-14T05:30:52.570083Z"
    }
   },
   "outputs": [],
   "source": [
    "col_names_ohe = ['state_name','zip_location',\n",
    "                 'urban_centric_locale_x','city_location',\n",
    "                 'urban_centric_locale_y','agency_type']"
   ]
  },
  {
   "cell_type": "code",
   "execution_count": 150,
   "metadata": {
    "ExecuteTime": {
     "end_time": "2021-06-14T05:30:52.577227Z",
     "start_time": "2021-06-14T05:30:52.573914Z"
    }
   },
   "outputs": [],
   "source": [
    "X_train_ohe = X_train[col_names_ohe]\n",
    "X_test_ohe = X_test[col_names_ohe]"
   ]
  },
  {
   "cell_type": "markdown",
   "metadata": {},
   "source": [
    "## X_train Encode"
   ]
  },
  {
   "cell_type": "code",
   "execution_count": 151,
   "metadata": {
    "ExecuteTime": {
     "end_time": "2021-06-14T05:30:52.595910Z",
     "start_time": "2021-06-14T05:30:52.578558Z"
    }
   },
   "outputs": [
    {
     "name": "stdout",
     "output_type": "stream",
     "text": [
      "<class 'pandas.core.frame.DataFrame'>\n",
      "Int64Index: 1967 entries, 314 to 2704\n",
      "Data columns (total 83 columns):\n",
      " #   Column                          Non-Null Count  Dtype   \n",
      "---  ------                          --------------  -----   \n",
      " 0   state_name                      1967 non-null   category\n",
      " 1   zip_location                    1967 non-null   category\n",
      " 2   urban_centric_locale_x          1967 non-null   category\n",
      " 3   charter                         1967 non-null   int64   \n",
      " 4   enrollment                      1967 non-null   int64   \n",
      " 5   read_test_num_valid             1967 non-null   int64   \n",
      " 6   read_test_pct_prof_midpt        1967 non-null   int64   \n",
      " 7   math_test_num_valid             1967 non-null   int64   \n",
      " 8   math_test_pct_prof_midpt        1967 non-null   int64   \n",
      " 9   students_susp_in_sch            1967 non-null   int64   \n",
      " 10  students_susp_out_sch_single    1967 non-null   int64   \n",
      " 11  students_susp_out_sch_multiple  1967 non-null   int64   \n",
      " 12  expulsions_no_ed_serv           1967 non-null   int64   \n",
      " 13  expulsions_with_ed_serv         1967 non-null   int64   \n",
      " 14  expulsions_zero_tolerance       1967 non-null   int64   \n",
      " 15  students_arrested               1967 non-null   int64   \n",
      " 16  students_referred_law_enforce   1967 non-null   int64   \n",
      " 17  transfers_alt_sch_disc          1967 non-null   int64   \n",
      " 18  days_suspended                  1967 non-null   int64   \n",
      " 19  suspensions_instances           1967 non-null   int64   \n",
      " 20  corpinstances                   1967 non-null   int64   \n",
      " 21  salaries_teachers               1967 non-null   int64   \n",
      " 22  cohort_num                      1967 non-null   int64   \n",
      " 23  allegations_harass_sex          1967 non-null   int64   \n",
      " 24  allegations_harass_race         1967 non-null   int64   \n",
      " 25  allegations_harass_disability   1967 non-null   int64   \n",
      " 26  allegations_harass_orientation  1967 non-null   int64   \n",
      " 27  allegations_harass_religion     1967 non-null   int64   \n",
      " 28  students_disc_harass_dis        1967 non-null   int64   \n",
      " 29  students_disc_harass_race       1967 non-null   int64   \n",
      " 30  students_disc_harass_sex        1967 non-null   int64   \n",
      " 31  students_report_harass_dis      1967 non-null   int64   \n",
      " 32  students_report_harass_race     1967 non-null   int64   \n",
      " 33  students_report_harass_sex      1967 non-null   int64   \n",
      " 34  instances_mech_restraint        1967 non-null   int64   \n",
      " 35  instances_phys_restraint        1967 non-null   int64   \n",
      " 36  instances_seclusion             1967 non-null   int64   \n",
      " 37  students_mech_restraint         1967 non-null   int64   \n",
      " 38  students_phys_restraint         1967 non-null   int64   \n",
      " 39  students_seclusion              1967 non-null   int64   \n",
      " 40  students_SAT_ACT                1967 non-null   int64   \n",
      " 41  city_location                   1967 non-null   category\n",
      " 42  urban_centric_locale_y          1807 non-null   category\n",
      " 43  agency_type                     1967 non-null   category\n",
      " 44  english_language_learners       1967 non-null   int64   \n",
      " 45  rev_total                       1967 non-null   int64   \n",
      " 46  rev_fed_total                   1967 non-null   int64   \n",
      " 47  rev_state_total                 1967 non-null   int64   \n",
      " 48  rev_local_total                 1967 non-null   int64   \n",
      " 49  rev_local_prop_tax              1967 non-null   int64   \n",
      " 50  exp_total                       1967 non-null   int64   \n",
      " 51  exp_current_elsec_total         1967 non-null   int64   \n",
      " 52  exp_current_instruction_total   1967 non-null   int64   \n",
      " 53  exp_current_supp_serve_total    1967 non-null   int64   \n",
      " 54  exp_current_pupils              1967 non-null   int64   \n",
      " 55  exp_current_instruc_staff       1967 non-null   int64   \n",
      " 56  exp_current_general_admin       1967 non-null   int64   \n",
      " 57  exp_current_sch_admin           1967 non-null   int64   \n",
      " 58  exp_current_operation_plant     1967 non-null   int64   \n",
      " 59  exp_current_student_transport   1967 non-null   int64   \n",
      " 60  exp_current_bco                 1967 non-null   int64   \n",
      " 61  exp_current_supp_serv_nonspec   1967 non-null   int64   \n",
      " 62  exp_current_other               1967 non-null   int64   \n",
      " 63  exp_current_food_serv           1967 non-null   int64   \n",
      " 64  exp_current_enterprise          1967 non-null   int64   \n",
      " 65  exp_current_other_elsec         1967 non-null   int64   \n",
      " 66  exp_nonelsec                    1967 non-null   int64   \n",
      " 67  exp_nonelsec_community_serv     1967 non-null   int64   \n",
      " 68  exp_nonelsec_adult_education    1967 non-null   int64   \n",
      " 69  exp_nonelsec_other              1967 non-null   int64   \n",
      " 70  exp_textbooks                   1967 non-null   int64   \n",
      " 71  exp_utilities_energy            1967 non-null   int64   \n",
      " 72  exp_tech_supplies_services      1967 non-null   int64   \n",
      " 73  exp_tech_equipment              1967 non-null   int64   \n",
      " 74  outlay_capital_total            1967 non-null   int64   \n",
      " 75  outlay_capital_construction     1967 non-null   int64   \n",
      " 76  outlay_capital_land_structures  1967 non-null   int64   \n",
      " 77  outlay_capital_instruc_equip    1967 non-null   int64   \n",
      " 78  outlay_capital_other_equip      1967 non-null   int64   \n",
      " 79  outlay_capital_nonspec_equip    1967 non-null   int64   \n",
      " 80  salaries_total                  1967 non-null   int64   \n",
      " 81  salaries_instruction            1967 non-null   int64   \n",
      " 82  benefits_employee_total         1967 non-null   int64   \n",
      "dtypes: category(6), int64(77)\n",
      "memory usage: 1.4 MB\n"
     ]
    }
   ],
   "source": [
    "X_train.info()"
   ]
  },
  {
   "cell_type": "code",
   "execution_count": 152,
   "metadata": {
    "ExecuteTime": {
     "end_time": "2021-06-14T05:30:52.599814Z",
     "start_time": "2021-06-14T05:30:52.597789Z"
    }
   },
   "outputs": [],
   "source": [
    "enc = OneHotEncoder(handle_unknown='ignore',sparse=False)"
   ]
  },
  {
   "cell_type": "code",
   "execution_count": 153,
   "metadata": {
    "ExecuteTime": {
     "end_time": "2021-06-14T05:30:52.608186Z",
     "start_time": "2021-06-14T05:30:52.601333Z"
    }
   },
   "outputs": [
    {
     "data": {
      "text/plain": [
       "OneHotEncoder(handle_unknown='ignore', sparse=False)"
      ]
     },
     "execution_count": 153,
     "metadata": {},
     "output_type": "execute_result"
    }
   ],
   "source": [
    "enc.fit(X_train_ohe) "
   ]
  },
  {
   "cell_type": "code",
   "execution_count": 154,
   "metadata": {
    "ExecuteTime": {
     "end_time": "2021-06-14T05:30:52.613784Z",
     "start_time": "2021-06-14T05:30:52.609673Z"
    },
    "scrolled": true
   },
   "outputs": [
    {
     "data": {
      "text/plain": [
       "[array(['Connecticut', 'Maine', 'Massachusetts', 'New Hampshire',\n",
       "        'New Jersey', 'New York', 'Pennsylvania', 'Rhode Island',\n",
       "        'Vermont'], dtype=object),\n",
       " array([ 1002,  1005,  1020, ..., 19606, 19607, 19609]),\n",
       " array(['City, large', 'City, midsize', 'City, small', 'Rural, distant',\n",
       "        'Rural, fringe', 'Rural, remote', 'Suburb, large',\n",
       "        'Suburb, midsize', 'Suburb, small', 'Town, distant',\n",
       "        'Town, fringe', 'Town, remote'], dtype=object),\n",
       " array(['ACCORD', 'ADAMS CENTER', 'AFTON', ..., 'Yarmouth', 'York',\n",
       "        'York Springs'], dtype=object),\n",
       " array(['City, large', 'City, midsize', 'City, small', 'Rural, distant',\n",
       "        'Rural, fringe', 'Rural, remote', 'Suburb, large',\n",
       "        'Suburb, midsize', 'Suburb, small', 'Town, distant',\n",
       "        'Town, fringe', 'Town, remote', nan], dtype=object),\n",
       " array(['Charter agency',\n",
       "        'Local school district that is a component of a supervisory union',\n",
       "        'Regional education service agency',\n",
       "        'Regular local school district', 'State-operated agency'],\n",
       "       dtype=object)]"
      ]
     },
     "execution_count": 154,
     "metadata": {},
     "output_type": "execute_result"
    }
   ],
   "source": [
    "enc.categories_"
   ]
  },
  {
   "cell_type": "code",
   "execution_count": 155,
   "metadata": {
    "ExecuteTime": {
     "end_time": "2021-06-14T05:30:52.640728Z",
     "start_time": "2021-06-14T05:30:52.615474Z"
    }
   },
   "outputs": [],
   "source": [
    "X_train2 = enc.transform(X_train_ohe)"
   ]
  },
  {
   "cell_type": "code",
   "execution_count": 156,
   "metadata": {
    "ExecuteTime": {
     "end_time": "2021-06-14T05:30:52.645979Z",
     "start_time": "2021-06-14T05:30:52.642563Z"
    },
    "scrolled": true
   },
   "outputs": [
    {
     "data": {
      "text/plain": [
       "(1967, 2949)"
      ]
     },
     "execution_count": 156,
     "metadata": {},
     "output_type": "execute_result"
    }
   ],
   "source": [
    "X_train2.shape"
   ]
  },
  {
   "cell_type": "code",
   "execution_count": 157,
   "metadata": {
    "ExecuteTime": {
     "end_time": "2021-06-14T05:30:52.655180Z",
     "start_time": "2021-06-14T05:30:52.647830Z"
    },
    "scrolled": true
   },
   "outputs": [],
   "source": [
    "enc.get_feature_names()\n",
    "column_name = enc.get_feature_names()\n",
    "one_hot_encoded_frame =  pd.DataFrame(X_train2, columns= column_name)"
   ]
  },
  {
   "cell_type": "code",
   "execution_count": 158,
   "metadata": {
    "ExecuteTime": {
     "end_time": "2021-06-14T05:30:52.791826Z",
     "start_time": "2021-06-14T05:30:52.657373Z"
    }
   },
   "outputs": [],
   "source": [
    "X_train = one_hot_encoded_frame.reset_index(drop=True).merge(X_train.reset_index(drop=True), left_index=True, right_index=True)\n"
   ]
  },
  {
   "cell_type": "code",
   "execution_count": 159,
   "metadata": {
    "ExecuteTime": {
     "end_time": "2021-06-14T05:30:52.832879Z",
     "start_time": "2021-06-14T05:30:52.793724Z"
    },
    "scrolled": true
   },
   "outputs": [
    {
     "data": {
      "text/html": [
       "<div>\n",
       "<style scoped>\n",
       "    .dataframe tbody tr th:only-of-type {\n",
       "        vertical-align: middle;\n",
       "    }\n",
       "\n",
       "    .dataframe tbody tr th {\n",
       "        vertical-align: top;\n",
       "    }\n",
       "\n",
       "    .dataframe thead th {\n",
       "        text-align: right;\n",
       "    }\n",
       "</style>\n",
       "<table border=\"1\" class=\"dataframe\">\n",
       "  <thead>\n",
       "    <tr style=\"text-align: right;\">\n",
       "      <th></th>\n",
       "      <th>x0_Connecticut</th>\n",
       "      <th>x0_Maine</th>\n",
       "      <th>x0_Massachusetts</th>\n",
       "      <th>x0_New Hampshire</th>\n",
       "      <th>x0_New Jersey</th>\n",
       "      <th>x0_New York</th>\n",
       "      <th>x0_Pennsylvania</th>\n",
       "      <th>x0_Rhode Island</th>\n",
       "      <th>x0_Vermont</th>\n",
       "      <th>x1_1002</th>\n",
       "      <th>...</th>\n",
       "      <th>exp_tech_equipment</th>\n",
       "      <th>outlay_capital_total</th>\n",
       "      <th>outlay_capital_construction</th>\n",
       "      <th>outlay_capital_land_structures</th>\n",
       "      <th>outlay_capital_instruc_equip</th>\n",
       "      <th>outlay_capital_other_equip</th>\n",
       "      <th>outlay_capital_nonspec_equip</th>\n",
       "      <th>salaries_total</th>\n",
       "      <th>salaries_instruction</th>\n",
       "      <th>benefits_employee_total</th>\n",
       "    </tr>\n",
       "  </thead>\n",
       "  <tbody>\n",
       "    <tr>\n",
       "      <th>0</th>\n",
       "      <td>0.0</td>\n",
       "      <td>0.0</td>\n",
       "      <td>0.0</td>\n",
       "      <td>0.0</td>\n",
       "      <td>0.0</td>\n",
       "      <td>1.0</td>\n",
       "      <td>0.0</td>\n",
       "      <td>0.0</td>\n",
       "      <td>0.0</td>\n",
       "      <td>0.0</td>\n",
       "      <td>...</td>\n",
       "      <td>0</td>\n",
       "      <td>1175500</td>\n",
       "      <td>355000</td>\n",
       "      <td>0</td>\n",
       "      <td>56000</td>\n",
       "      <td>252000</td>\n",
       "      <td>0</td>\n",
       "      <td>20753500</td>\n",
       "      <td>14263500</td>\n",
       "      <td>9824000</td>\n",
       "    </tr>\n",
       "    <tr>\n",
       "      <th>1</th>\n",
       "      <td>0.0</td>\n",
       "      <td>0.0</td>\n",
       "      <td>0.0</td>\n",
       "      <td>0.0</td>\n",
       "      <td>0.0</td>\n",
       "      <td>0.0</td>\n",
       "      <td>1.0</td>\n",
       "      <td>0.0</td>\n",
       "      <td>0.0</td>\n",
       "      <td>0.0</td>\n",
       "      <td>...</td>\n",
       "      <td>0</td>\n",
       "      <td>9056000</td>\n",
       "      <td>8438000</td>\n",
       "      <td>440000</td>\n",
       "      <td>0</td>\n",
       "      <td>178000</td>\n",
       "      <td>0</td>\n",
       "      <td>52437000</td>\n",
       "      <td>38407000</td>\n",
       "      <td>31130000</td>\n",
       "    </tr>\n",
       "    <tr>\n",
       "      <th>2</th>\n",
       "      <td>0.0</td>\n",
       "      <td>0.0</td>\n",
       "      <td>0.0</td>\n",
       "      <td>0.0</td>\n",
       "      <td>0.0</td>\n",
       "      <td>0.0</td>\n",
       "      <td>1.0</td>\n",
       "      <td>0.0</td>\n",
       "      <td>0.0</td>\n",
       "      <td>0.0</td>\n",
       "      <td>...</td>\n",
       "      <td>0</td>\n",
       "      <td>0</td>\n",
       "      <td>0</td>\n",
       "      <td>0</td>\n",
       "      <td>0</td>\n",
       "      <td>0</td>\n",
       "      <td>0</td>\n",
       "      <td>2141000</td>\n",
       "      <td>1514000</td>\n",
       "      <td>881000</td>\n",
       "    </tr>\n",
       "    <tr>\n",
       "      <th>3</th>\n",
       "      <td>0.0</td>\n",
       "      <td>0.0</td>\n",
       "      <td>0.0</td>\n",
       "      <td>0.0</td>\n",
       "      <td>0.0</td>\n",
       "      <td>0.0</td>\n",
       "      <td>1.0</td>\n",
       "      <td>0.0</td>\n",
       "      <td>0.0</td>\n",
       "      <td>0.0</td>\n",
       "      <td>...</td>\n",
       "      <td>0</td>\n",
       "      <td>1260000</td>\n",
       "      <td>785000</td>\n",
       "      <td>257000</td>\n",
       "      <td>203000</td>\n",
       "      <td>15000</td>\n",
       "      <td>0</td>\n",
       "      <td>24662000</td>\n",
       "      <td>17948000</td>\n",
       "      <td>14249000</td>\n",
       "    </tr>\n",
       "    <tr>\n",
       "      <th>4</th>\n",
       "      <td>0.0</td>\n",
       "      <td>0.0</td>\n",
       "      <td>0.0</td>\n",
       "      <td>0.0</td>\n",
       "      <td>0.0</td>\n",
       "      <td>1.0</td>\n",
       "      <td>0.0</td>\n",
       "      <td>0.0</td>\n",
       "      <td>0.0</td>\n",
       "      <td>0.0</td>\n",
       "      <td>...</td>\n",
       "      <td>0</td>\n",
       "      <td>1175500</td>\n",
       "      <td>355000</td>\n",
       "      <td>0</td>\n",
       "      <td>56000</td>\n",
       "      <td>252000</td>\n",
       "      <td>0</td>\n",
       "      <td>20753500</td>\n",
       "      <td>14263500</td>\n",
       "      <td>9824000</td>\n",
       "    </tr>\n",
       "    <tr>\n",
       "      <th>...</th>\n",
       "      <td>...</td>\n",
       "      <td>...</td>\n",
       "      <td>...</td>\n",
       "      <td>...</td>\n",
       "      <td>...</td>\n",
       "      <td>...</td>\n",
       "      <td>...</td>\n",
       "      <td>...</td>\n",
       "      <td>...</td>\n",
       "      <td>...</td>\n",
       "      <td>...</td>\n",
       "      <td>...</td>\n",
       "      <td>...</td>\n",
       "      <td>...</td>\n",
       "      <td>...</td>\n",
       "      <td>...</td>\n",
       "      <td>...</td>\n",
       "      <td>...</td>\n",
       "      <td>...</td>\n",
       "      <td>...</td>\n",
       "      <td>...</td>\n",
       "    </tr>\n",
       "    <tr>\n",
       "      <th>1962</th>\n",
       "      <td>0.0</td>\n",
       "      <td>0.0</td>\n",
       "      <td>1.0</td>\n",
       "      <td>0.0</td>\n",
       "      <td>0.0</td>\n",
       "      <td>0.0</td>\n",
       "      <td>0.0</td>\n",
       "      <td>0.0</td>\n",
       "      <td>0.0</td>\n",
       "      <td>0.0</td>\n",
       "      <td>...</td>\n",
       "      <td>0</td>\n",
       "      <td>47297000</td>\n",
       "      <td>29505000</td>\n",
       "      <td>5729000</td>\n",
       "      <td>1668000</td>\n",
       "      <td>10395000</td>\n",
       "      <td>0</td>\n",
       "      <td>745675000</td>\n",
       "      <td>498943000</td>\n",
       "      <td>270232000</td>\n",
       "    </tr>\n",
       "    <tr>\n",
       "      <th>1963</th>\n",
       "      <td>0.0</td>\n",
       "      <td>0.0</td>\n",
       "      <td>0.0</td>\n",
       "      <td>0.0</td>\n",
       "      <td>0.0</td>\n",
       "      <td>1.0</td>\n",
       "      <td>0.0</td>\n",
       "      <td>0.0</td>\n",
       "      <td>0.0</td>\n",
       "      <td>0.0</td>\n",
       "      <td>...</td>\n",
       "      <td>0</td>\n",
       "      <td>1421000</td>\n",
       "      <td>1290000</td>\n",
       "      <td>0</td>\n",
       "      <td>2000</td>\n",
       "      <td>129000</td>\n",
       "      <td>0</td>\n",
       "      <td>4548000</td>\n",
       "      <td>3094000</td>\n",
       "      <td>3224000</td>\n",
       "    </tr>\n",
       "    <tr>\n",
       "      <th>1964</th>\n",
       "      <td>0.0</td>\n",
       "      <td>0.0</td>\n",
       "      <td>0.0</td>\n",
       "      <td>0.0</td>\n",
       "      <td>1.0</td>\n",
       "      <td>0.0</td>\n",
       "      <td>0.0</td>\n",
       "      <td>0.0</td>\n",
       "      <td>0.0</td>\n",
       "      <td>0.0</td>\n",
       "      <td>...</td>\n",
       "      <td>0</td>\n",
       "      <td>223000</td>\n",
       "      <td>183000</td>\n",
       "      <td>0</td>\n",
       "      <td>14000</td>\n",
       "      <td>26000</td>\n",
       "      <td>0</td>\n",
       "      <td>17912000</td>\n",
       "      <td>11845000</td>\n",
       "      <td>7937000</td>\n",
       "    </tr>\n",
       "    <tr>\n",
       "      <th>1965</th>\n",
       "      <td>1.0</td>\n",
       "      <td>0.0</td>\n",
       "      <td>0.0</td>\n",
       "      <td>0.0</td>\n",
       "      <td>0.0</td>\n",
       "      <td>0.0</td>\n",
       "      <td>0.0</td>\n",
       "      <td>0.0</td>\n",
       "      <td>0.0</td>\n",
       "      <td>0.0</td>\n",
       "      <td>...</td>\n",
       "      <td>0</td>\n",
       "      <td>1175500</td>\n",
       "      <td>355000</td>\n",
       "      <td>0</td>\n",
       "      <td>56000</td>\n",
       "      <td>252000</td>\n",
       "      <td>0</td>\n",
       "      <td>20753500</td>\n",
       "      <td>14263500</td>\n",
       "      <td>9824000</td>\n",
       "    </tr>\n",
       "    <tr>\n",
       "      <th>1966</th>\n",
       "      <td>0.0</td>\n",
       "      <td>0.0</td>\n",
       "      <td>0.0</td>\n",
       "      <td>0.0</td>\n",
       "      <td>0.0</td>\n",
       "      <td>0.0</td>\n",
       "      <td>0.0</td>\n",
       "      <td>1.0</td>\n",
       "      <td>0.0</td>\n",
       "      <td>0.0</td>\n",
       "      <td>...</td>\n",
       "      <td>0</td>\n",
       "      <td>1175500</td>\n",
       "      <td>355000</td>\n",
       "      <td>0</td>\n",
       "      <td>56000</td>\n",
       "      <td>252000</td>\n",
       "      <td>0</td>\n",
       "      <td>20753500</td>\n",
       "      <td>14263500</td>\n",
       "      <td>9824000</td>\n",
       "    </tr>\n",
       "  </tbody>\n",
       "</table>\n",
       "<p>1967 rows × 3026 columns</p>\n",
       "</div>"
      ],
      "text/plain": [
       "      x0_Connecticut  x0_Maine  x0_Massachusetts  x0_New Hampshire  \\\n",
       "0                0.0       0.0               0.0               0.0   \n",
       "1                0.0       0.0               0.0               0.0   \n",
       "2                0.0       0.0               0.0               0.0   \n",
       "3                0.0       0.0               0.0               0.0   \n",
       "4                0.0       0.0               0.0               0.0   \n",
       "...              ...       ...               ...               ...   \n",
       "1962             0.0       0.0               1.0               0.0   \n",
       "1963             0.0       0.0               0.0               0.0   \n",
       "1964             0.0       0.0               0.0               0.0   \n",
       "1965             1.0       0.0               0.0               0.0   \n",
       "1966             0.0       0.0               0.0               0.0   \n",
       "\n",
       "      x0_New Jersey  x0_New York  x0_Pennsylvania  x0_Rhode Island  \\\n",
       "0               0.0          1.0              0.0              0.0   \n",
       "1               0.0          0.0              1.0              0.0   \n",
       "2               0.0          0.0              1.0              0.0   \n",
       "3               0.0          0.0              1.0              0.0   \n",
       "4               0.0          1.0              0.0              0.0   \n",
       "...             ...          ...              ...              ...   \n",
       "1962            0.0          0.0              0.0              0.0   \n",
       "1963            0.0          1.0              0.0              0.0   \n",
       "1964            1.0          0.0              0.0              0.0   \n",
       "1965            0.0          0.0              0.0              0.0   \n",
       "1966            0.0          0.0              0.0              1.0   \n",
       "\n",
       "      x0_Vermont  x1_1002  ...  exp_tech_equipment  outlay_capital_total  \\\n",
       "0            0.0      0.0  ...                   0               1175500   \n",
       "1            0.0      0.0  ...                   0               9056000   \n",
       "2            0.0      0.0  ...                   0                     0   \n",
       "3            0.0      0.0  ...                   0               1260000   \n",
       "4            0.0      0.0  ...                   0               1175500   \n",
       "...          ...      ...  ...                 ...                   ...   \n",
       "1962         0.0      0.0  ...                   0              47297000   \n",
       "1963         0.0      0.0  ...                   0               1421000   \n",
       "1964         0.0      0.0  ...                   0                223000   \n",
       "1965         0.0      0.0  ...                   0               1175500   \n",
       "1966         0.0      0.0  ...                   0               1175500   \n",
       "\n",
       "      outlay_capital_construction  outlay_capital_land_structures  \\\n",
       "0                          355000                               0   \n",
       "1                         8438000                          440000   \n",
       "2                               0                               0   \n",
       "3                          785000                          257000   \n",
       "4                          355000                               0   \n",
       "...                           ...                             ...   \n",
       "1962                     29505000                         5729000   \n",
       "1963                      1290000                               0   \n",
       "1964                       183000                               0   \n",
       "1965                       355000                               0   \n",
       "1966                       355000                               0   \n",
       "\n",
       "      outlay_capital_instruc_equip  outlay_capital_other_equip  \\\n",
       "0                            56000                      252000   \n",
       "1                                0                      178000   \n",
       "2                                0                           0   \n",
       "3                           203000                       15000   \n",
       "4                            56000                      252000   \n",
       "...                            ...                         ...   \n",
       "1962                       1668000                    10395000   \n",
       "1963                          2000                      129000   \n",
       "1964                         14000                       26000   \n",
       "1965                         56000                      252000   \n",
       "1966                         56000                      252000   \n",
       "\n",
       "      outlay_capital_nonspec_equip  salaries_total  salaries_instruction  \\\n",
       "0                                0        20753500              14263500   \n",
       "1                                0        52437000              38407000   \n",
       "2                                0         2141000               1514000   \n",
       "3                                0        24662000              17948000   \n",
       "4                                0        20753500              14263500   \n",
       "...                            ...             ...                   ...   \n",
       "1962                             0       745675000             498943000   \n",
       "1963                             0         4548000               3094000   \n",
       "1964                             0        17912000              11845000   \n",
       "1965                             0        20753500              14263500   \n",
       "1966                             0        20753500              14263500   \n",
       "\n",
       "      benefits_employee_total  \n",
       "0                     9824000  \n",
       "1                    31130000  \n",
       "2                      881000  \n",
       "3                    14249000  \n",
       "4                     9824000  \n",
       "...                       ...  \n",
       "1962                270232000  \n",
       "1963                  3224000  \n",
       "1964                  7937000  \n",
       "1965                  9824000  \n",
       "1966                  9824000  \n",
       "\n",
       "[1967 rows x 3026 columns]"
      ]
     },
     "execution_count": 159,
     "metadata": {},
     "output_type": "execute_result"
    }
   ],
   "source": [
    "X_train.drop(col_names_ohe, axis=1, inplace=True)\n",
    "X_train"
   ]
  },
  {
   "cell_type": "markdown",
   "metadata": {},
   "source": [
    "\n",
    "\n",
    "\n",
    "## X_test Encode"
   ]
  },
  {
   "cell_type": "code",
   "execution_count": 160,
   "metadata": {
    "ExecuteTime": {
     "end_time": "2021-06-14T05:30:52.854733Z",
     "start_time": "2021-06-14T05:30:52.834547Z"
    },
    "scrolled": true
   },
   "outputs": [
    {
     "name": "stdout",
     "output_type": "stream",
     "text": [
      "<class 'pandas.core.frame.DataFrame'>\n",
      "Int64Index: 844 entries, 1097 to 378\n",
      "Data columns (total 83 columns):\n",
      " #   Column                          Non-Null Count  Dtype   \n",
      "---  ------                          --------------  -----   \n",
      " 0   state_name                      844 non-null    category\n",
      " 1   zip_location                    844 non-null    category\n",
      " 2   urban_centric_locale_x          844 non-null    category\n",
      " 3   charter                         844 non-null    int64   \n",
      " 4   enrollment                      844 non-null    int64   \n",
      " 5   read_test_num_valid             844 non-null    int64   \n",
      " 6   read_test_pct_prof_midpt        844 non-null    int64   \n",
      " 7   math_test_num_valid             844 non-null    int64   \n",
      " 8   math_test_pct_prof_midpt        844 non-null    int64   \n",
      " 9   students_susp_in_sch            844 non-null    int64   \n",
      " 10  students_susp_out_sch_single    844 non-null    int64   \n",
      " 11  students_susp_out_sch_multiple  844 non-null    int64   \n",
      " 12  expulsions_no_ed_serv           844 non-null    int64   \n",
      " 13  expulsions_with_ed_serv         844 non-null    int64   \n",
      " 14  expulsions_zero_tolerance       844 non-null    int64   \n",
      " 15  students_arrested               844 non-null    int64   \n",
      " 16  students_referred_law_enforce   844 non-null    int64   \n",
      " 17  transfers_alt_sch_disc          844 non-null    int64   \n",
      " 18  days_suspended                  844 non-null    int64   \n",
      " 19  suspensions_instances           844 non-null    int64   \n",
      " 20  corpinstances                   844 non-null    int64   \n",
      " 21  salaries_teachers               844 non-null    int64   \n",
      " 22  cohort_num                      844 non-null    int64   \n",
      " 23  allegations_harass_sex          844 non-null    int64   \n",
      " 24  allegations_harass_race         844 non-null    int64   \n",
      " 25  allegations_harass_disability   844 non-null    int64   \n",
      " 26  allegations_harass_orientation  844 non-null    int64   \n",
      " 27  allegations_harass_religion     844 non-null    int64   \n",
      " 28  students_disc_harass_dis        844 non-null    int64   \n",
      " 29  students_disc_harass_race       844 non-null    int64   \n",
      " 30  students_disc_harass_sex        844 non-null    int64   \n",
      " 31  students_report_harass_dis      844 non-null    int64   \n",
      " 32  students_report_harass_race     844 non-null    int64   \n",
      " 33  students_report_harass_sex      844 non-null    int64   \n",
      " 34  instances_mech_restraint        844 non-null    int64   \n",
      " 35  instances_phys_restraint        844 non-null    int64   \n",
      " 36  instances_seclusion             844 non-null    int64   \n",
      " 37  students_mech_restraint         844 non-null    int64   \n",
      " 38  students_phys_restraint         844 non-null    int64   \n",
      " 39  students_seclusion              844 non-null    int64   \n",
      " 40  students_SAT_ACT                844 non-null    int64   \n",
      " 41  city_location                   844 non-null    category\n",
      " 42  urban_centric_locale_y          768 non-null    category\n",
      " 43  agency_type                     844 non-null    category\n",
      " 44  english_language_learners       844 non-null    int64   \n",
      " 45  rev_total                       844 non-null    int64   \n",
      " 46  rev_fed_total                   844 non-null    int64   \n",
      " 47  rev_state_total                 844 non-null    int64   \n",
      " 48  rev_local_total                 844 non-null    int64   \n",
      " 49  rev_local_prop_tax              844 non-null    int64   \n",
      " 50  exp_total                       844 non-null    int64   \n",
      " 51  exp_current_elsec_total         844 non-null    int64   \n",
      " 52  exp_current_instruction_total   844 non-null    int64   \n",
      " 53  exp_current_supp_serve_total    844 non-null    int64   \n",
      " 54  exp_current_pupils              844 non-null    int64   \n",
      " 55  exp_current_instruc_staff       844 non-null    int64   \n",
      " 56  exp_current_general_admin       844 non-null    int64   \n",
      " 57  exp_current_sch_admin           844 non-null    int64   \n",
      " 58  exp_current_operation_plant     844 non-null    int64   \n",
      " 59  exp_current_student_transport   844 non-null    int64   \n",
      " 60  exp_current_bco                 844 non-null    int64   \n",
      " 61  exp_current_supp_serv_nonspec   844 non-null    int64   \n",
      " 62  exp_current_other               844 non-null    int64   \n",
      " 63  exp_current_food_serv           844 non-null    int64   \n",
      " 64  exp_current_enterprise          844 non-null    int64   \n",
      " 65  exp_current_other_elsec         844 non-null    int64   \n",
      " 66  exp_nonelsec                    844 non-null    int64   \n",
      " 67  exp_nonelsec_community_serv     844 non-null    int64   \n",
      " 68  exp_nonelsec_adult_education    844 non-null    int64   \n",
      " 69  exp_nonelsec_other              844 non-null    int64   \n",
      " 70  exp_textbooks                   844 non-null    int64   \n",
      " 71  exp_utilities_energy            844 non-null    int64   \n",
      " 72  exp_tech_supplies_services      844 non-null    int64   \n",
      " 73  exp_tech_equipment              844 non-null    int64   \n",
      " 74  outlay_capital_total            844 non-null    int64   \n",
      " 75  outlay_capital_construction     844 non-null    int64   \n",
      " 76  outlay_capital_land_structures  844 non-null    int64   \n",
      " 77  outlay_capital_instruc_equip    844 non-null    int64   \n",
      " 78  outlay_capital_other_equip      844 non-null    int64   \n",
      " 79  outlay_capital_nonspec_equip    844 non-null    int64   \n",
      " 80  salaries_total                  844 non-null    int64   \n",
      " 81  salaries_instruction            844 non-null    int64   \n",
      " 82  benefits_employee_total         844 non-null    int64   \n",
      "dtypes: category(6), int64(77)\n",
      "memory usage: 712.5 KB\n"
     ]
    }
   ],
   "source": [
    "X_test.info()"
   ]
  },
  {
   "cell_type": "code",
   "execution_count": 161,
   "metadata": {
    "ExecuteTime": {
     "end_time": "2021-06-14T05:30:52.860856Z",
     "start_time": "2021-06-14T05:30:52.856503Z"
    },
    "scrolled": true
   },
   "outputs": [
    {
     "data": {
      "text/plain": [
       "[array(['Connecticut', 'Maine', 'Massachusetts', 'New Hampshire',\n",
       "        'New Jersey', 'New York', 'Pennsylvania', 'Rhode Island',\n",
       "        'Vermont'], dtype=object),\n",
       " array([ 1002,  1005,  1020, ..., 19606, 19607, 19609]),\n",
       " array(['City, large', 'City, midsize', 'City, small', 'Rural, distant',\n",
       "        'Rural, fringe', 'Rural, remote', 'Suburb, large',\n",
       "        'Suburb, midsize', 'Suburb, small', 'Town, distant',\n",
       "        'Town, fringe', 'Town, remote'], dtype=object),\n",
       " array(['ACCORD', 'ADAMS CENTER', 'AFTON', ..., 'Yarmouth', 'York',\n",
       "        'York Springs'], dtype=object),\n",
       " array(['City, large', 'City, midsize', 'City, small', 'Rural, distant',\n",
       "        'Rural, fringe', 'Rural, remote', 'Suburb, large',\n",
       "        'Suburb, midsize', 'Suburb, small', 'Town, distant',\n",
       "        'Town, fringe', 'Town, remote', nan], dtype=object),\n",
       " array(['Charter agency',\n",
       "        'Local school district that is a component of a supervisory union',\n",
       "        'Regional education service agency',\n",
       "        'Regular local school district', 'State-operated agency'],\n",
       "       dtype=object)]"
      ]
     },
     "execution_count": 161,
     "metadata": {},
     "output_type": "execute_result"
    }
   ],
   "source": [
    "enc.categories_"
   ]
  },
  {
   "cell_type": "code",
   "execution_count": 162,
   "metadata": {
    "ExecuteTime": {
     "end_time": "2021-06-14T05:30:52.875208Z",
     "start_time": "2021-06-14T05:30:52.862552Z"
    }
   },
   "outputs": [],
   "source": [
    "X_test2 = enc.transform(X_test_ohe)"
   ]
  },
  {
   "cell_type": "code",
   "execution_count": 163,
   "metadata": {
    "ExecuteTime": {
     "end_time": "2021-06-14T05:30:52.880360Z",
     "start_time": "2021-06-14T05:30:52.877133Z"
    },
    "scrolled": true
   },
   "outputs": [
    {
     "data": {
      "text/plain": [
       "(844, 2949)"
      ]
     },
     "execution_count": 163,
     "metadata": {},
     "output_type": "execute_result"
    }
   ],
   "source": [
    "X_test2.shape"
   ]
  },
  {
   "cell_type": "code",
   "execution_count": 164,
   "metadata": {
    "ExecuteTime": {
     "end_time": "2021-06-14T05:30:52.888489Z",
     "start_time": "2021-06-14T05:30:52.882004Z"
    },
    "scrolled": true
   },
   "outputs": [],
   "source": [
    "enc.get_feature_names()\n",
    "column_name = enc.get_feature_names()\n",
    "one_hot_encoded_frame =  pd.DataFrame(X_test2, columns= column_name)"
   ]
  },
  {
   "cell_type": "code",
   "execution_count": 165,
   "metadata": {
    "ExecuteTime": {
     "end_time": "2021-06-14T05:30:52.937251Z",
     "start_time": "2021-06-14T05:30:52.890441Z"
    }
   },
   "outputs": [],
   "source": [
    "X_test = one_hot_encoded_frame.reset_index(drop=True).merge(X_test.reset_index(drop=True), left_index=True, right_index=True)\n"
   ]
  },
  {
   "cell_type": "code",
   "execution_count": 166,
   "metadata": {
    "ExecuteTime": {
     "end_time": "2021-06-14T05:30:52.970600Z",
     "start_time": "2021-06-14T05:30:52.938838Z"
    },
    "scrolled": true
   },
   "outputs": [
    {
     "data": {
      "text/html": [
       "<div>\n",
       "<style scoped>\n",
       "    .dataframe tbody tr th:only-of-type {\n",
       "        vertical-align: middle;\n",
       "    }\n",
       "\n",
       "    .dataframe tbody tr th {\n",
       "        vertical-align: top;\n",
       "    }\n",
       "\n",
       "    .dataframe thead th {\n",
       "        text-align: right;\n",
       "    }\n",
       "</style>\n",
       "<table border=\"1\" class=\"dataframe\">\n",
       "  <thead>\n",
       "    <tr style=\"text-align: right;\">\n",
       "      <th></th>\n",
       "      <th>x0_Connecticut</th>\n",
       "      <th>x0_Maine</th>\n",
       "      <th>x0_Massachusetts</th>\n",
       "      <th>x0_New Hampshire</th>\n",
       "      <th>x0_New Jersey</th>\n",
       "      <th>x0_New York</th>\n",
       "      <th>x0_Pennsylvania</th>\n",
       "      <th>x0_Rhode Island</th>\n",
       "      <th>x0_Vermont</th>\n",
       "      <th>x1_1002</th>\n",
       "      <th>...</th>\n",
       "      <th>exp_tech_equipment</th>\n",
       "      <th>outlay_capital_total</th>\n",
       "      <th>outlay_capital_construction</th>\n",
       "      <th>outlay_capital_land_structures</th>\n",
       "      <th>outlay_capital_instruc_equip</th>\n",
       "      <th>outlay_capital_other_equip</th>\n",
       "      <th>outlay_capital_nonspec_equip</th>\n",
       "      <th>salaries_total</th>\n",
       "      <th>salaries_instruction</th>\n",
       "      <th>benefits_employee_total</th>\n",
       "    </tr>\n",
       "  </thead>\n",
       "  <tbody>\n",
       "    <tr>\n",
       "      <th>0</th>\n",
       "      <td>0.0</td>\n",
       "      <td>0.0</td>\n",
       "      <td>0.0</td>\n",
       "      <td>0.0</td>\n",
       "      <td>0.0</td>\n",
       "      <td>0.0</td>\n",
       "      <td>1.0</td>\n",
       "      <td>0.0</td>\n",
       "      <td>0.0</td>\n",
       "      <td>0.0</td>\n",
       "      <td>...</td>\n",
       "      <td>0</td>\n",
       "      <td>3384000</td>\n",
       "      <td>2441000</td>\n",
       "      <td>0</td>\n",
       "      <td>662000</td>\n",
       "      <td>281000</td>\n",
       "      <td>0</td>\n",
       "      <td>24632000</td>\n",
       "      <td>17010000</td>\n",
       "      <td>17287000</td>\n",
       "    </tr>\n",
       "    <tr>\n",
       "      <th>1</th>\n",
       "      <td>0.0</td>\n",
       "      <td>1.0</td>\n",
       "      <td>0.0</td>\n",
       "      <td>0.0</td>\n",
       "      <td>0.0</td>\n",
       "      <td>0.0</td>\n",
       "      <td>0.0</td>\n",
       "      <td>0.0</td>\n",
       "      <td>0.0</td>\n",
       "      <td>0.0</td>\n",
       "      <td>...</td>\n",
       "      <td>149000</td>\n",
       "      <td>330000</td>\n",
       "      <td>0</td>\n",
       "      <td>0</td>\n",
       "      <td>32000</td>\n",
       "      <td>298000</td>\n",
       "      <td>0</td>\n",
       "      <td>7109000</td>\n",
       "      <td>4520000</td>\n",
       "      <td>3118000</td>\n",
       "    </tr>\n",
       "    <tr>\n",
       "      <th>2</th>\n",
       "      <td>0.0</td>\n",
       "      <td>0.0</td>\n",
       "      <td>0.0</td>\n",
       "      <td>0.0</td>\n",
       "      <td>0.0</td>\n",
       "      <td>1.0</td>\n",
       "      <td>0.0</td>\n",
       "      <td>0.0</td>\n",
       "      <td>0.0</td>\n",
       "      <td>0.0</td>\n",
       "      <td>...</td>\n",
       "      <td>0</td>\n",
       "      <td>367000</td>\n",
       "      <td>171000</td>\n",
       "      <td>0</td>\n",
       "      <td>86000</td>\n",
       "      <td>110000</td>\n",
       "      <td>0</td>\n",
       "      <td>9849000</td>\n",
       "      <td>7592000</td>\n",
       "      <td>6080000</td>\n",
       "    </tr>\n",
       "    <tr>\n",
       "      <th>3</th>\n",
       "      <td>0.0</td>\n",
       "      <td>0.0</td>\n",
       "      <td>0.0</td>\n",
       "      <td>0.0</td>\n",
       "      <td>0.0</td>\n",
       "      <td>1.0</td>\n",
       "      <td>0.0</td>\n",
       "      <td>0.0</td>\n",
       "      <td>0.0</td>\n",
       "      <td>0.0</td>\n",
       "      <td>...</td>\n",
       "      <td>0</td>\n",
       "      <td>2957000</td>\n",
       "      <td>967000</td>\n",
       "      <td>1228000</td>\n",
       "      <td>381000</td>\n",
       "      <td>381000</td>\n",
       "      <td>0</td>\n",
       "      <td>107234000</td>\n",
       "      <td>78885000</td>\n",
       "      <td>45786000</td>\n",
       "    </tr>\n",
       "    <tr>\n",
       "      <th>4</th>\n",
       "      <td>0.0</td>\n",
       "      <td>0.0</td>\n",
       "      <td>0.0</td>\n",
       "      <td>0.0</td>\n",
       "      <td>0.0</td>\n",
       "      <td>1.0</td>\n",
       "      <td>0.0</td>\n",
       "      <td>0.0</td>\n",
       "      <td>0.0</td>\n",
       "      <td>0.0</td>\n",
       "      <td>...</td>\n",
       "      <td>0</td>\n",
       "      <td>1175500</td>\n",
       "      <td>355000</td>\n",
       "      <td>0</td>\n",
       "      <td>56000</td>\n",
       "      <td>252000</td>\n",
       "      <td>0</td>\n",
       "      <td>20753500</td>\n",
       "      <td>14263500</td>\n",
       "      <td>9824000</td>\n",
       "    </tr>\n",
       "    <tr>\n",
       "      <th>...</th>\n",
       "      <td>...</td>\n",
       "      <td>...</td>\n",
       "      <td>...</td>\n",
       "      <td>...</td>\n",
       "      <td>...</td>\n",
       "      <td>...</td>\n",
       "      <td>...</td>\n",
       "      <td>...</td>\n",
       "      <td>...</td>\n",
       "      <td>...</td>\n",
       "      <td>...</td>\n",
       "      <td>...</td>\n",
       "      <td>...</td>\n",
       "      <td>...</td>\n",
       "      <td>...</td>\n",
       "      <td>...</td>\n",
       "      <td>...</td>\n",
       "      <td>...</td>\n",
       "      <td>...</td>\n",
       "      <td>...</td>\n",
       "      <td>...</td>\n",
       "    </tr>\n",
       "    <tr>\n",
       "      <th>839</th>\n",
       "      <td>0.0</td>\n",
       "      <td>0.0</td>\n",
       "      <td>1.0</td>\n",
       "      <td>0.0</td>\n",
       "      <td>0.0</td>\n",
       "      <td>0.0</td>\n",
       "      <td>0.0</td>\n",
       "      <td>0.0</td>\n",
       "      <td>0.0</td>\n",
       "      <td>0.0</td>\n",
       "      <td>...</td>\n",
       "      <td>0</td>\n",
       "      <td>686000</td>\n",
       "      <td>0</td>\n",
       "      <td>496000</td>\n",
       "      <td>190000</td>\n",
       "      <td>0</td>\n",
       "      <td>0</td>\n",
       "      <td>39054000</td>\n",
       "      <td>26554000</td>\n",
       "      <td>12211000</td>\n",
       "    </tr>\n",
       "    <tr>\n",
       "      <th>840</th>\n",
       "      <td>0.0</td>\n",
       "      <td>0.0</td>\n",
       "      <td>0.0</td>\n",
       "      <td>0.0</td>\n",
       "      <td>0.0</td>\n",
       "      <td>1.0</td>\n",
       "      <td>0.0</td>\n",
       "      <td>0.0</td>\n",
       "      <td>0.0</td>\n",
       "      <td>0.0</td>\n",
       "      <td>...</td>\n",
       "      <td>0</td>\n",
       "      <td>1346000</td>\n",
       "      <td>474000</td>\n",
       "      <td>0</td>\n",
       "      <td>57000</td>\n",
       "      <td>815000</td>\n",
       "      <td>0</td>\n",
       "      <td>16714000</td>\n",
       "      <td>12574000</td>\n",
       "      <td>7315000</td>\n",
       "    </tr>\n",
       "    <tr>\n",
       "      <th>841</th>\n",
       "      <td>0.0</td>\n",
       "      <td>0.0</td>\n",
       "      <td>0.0</td>\n",
       "      <td>0.0</td>\n",
       "      <td>0.0</td>\n",
       "      <td>1.0</td>\n",
       "      <td>0.0</td>\n",
       "      <td>0.0</td>\n",
       "      <td>0.0</td>\n",
       "      <td>0.0</td>\n",
       "      <td>...</td>\n",
       "      <td>0</td>\n",
       "      <td>1175500</td>\n",
       "      <td>355000</td>\n",
       "      <td>0</td>\n",
       "      <td>56000</td>\n",
       "      <td>252000</td>\n",
       "      <td>0</td>\n",
       "      <td>20753500</td>\n",
       "      <td>14263500</td>\n",
       "      <td>9824000</td>\n",
       "    </tr>\n",
       "    <tr>\n",
       "      <th>842</th>\n",
       "      <td>0.0</td>\n",
       "      <td>0.0</td>\n",
       "      <td>1.0</td>\n",
       "      <td>0.0</td>\n",
       "      <td>0.0</td>\n",
       "      <td>0.0</td>\n",
       "      <td>0.0</td>\n",
       "      <td>0.0</td>\n",
       "      <td>0.0</td>\n",
       "      <td>0.0</td>\n",
       "      <td>...</td>\n",
       "      <td>0</td>\n",
       "      <td>132000</td>\n",
       "      <td>0</td>\n",
       "      <td>0</td>\n",
       "      <td>132000</td>\n",
       "      <td>0</td>\n",
       "      <td>0</td>\n",
       "      <td>132406000</td>\n",
       "      <td>84841000</td>\n",
       "      <td>49225000</td>\n",
       "    </tr>\n",
       "    <tr>\n",
       "      <th>843</th>\n",
       "      <td>0.0</td>\n",
       "      <td>0.0</td>\n",
       "      <td>0.0</td>\n",
       "      <td>0.0</td>\n",
       "      <td>0.0</td>\n",
       "      <td>1.0</td>\n",
       "      <td>0.0</td>\n",
       "      <td>0.0</td>\n",
       "      <td>0.0</td>\n",
       "      <td>0.0</td>\n",
       "      <td>...</td>\n",
       "      <td>0</td>\n",
       "      <td>1175500</td>\n",
       "      <td>355000</td>\n",
       "      <td>0</td>\n",
       "      <td>56000</td>\n",
       "      <td>252000</td>\n",
       "      <td>0</td>\n",
       "      <td>20753500</td>\n",
       "      <td>14263500</td>\n",
       "      <td>9824000</td>\n",
       "    </tr>\n",
       "  </tbody>\n",
       "</table>\n",
       "<p>844 rows × 3026 columns</p>\n",
       "</div>"
      ],
      "text/plain": [
       "     x0_Connecticut  x0_Maine  x0_Massachusetts  x0_New Hampshire  \\\n",
       "0               0.0       0.0               0.0               0.0   \n",
       "1               0.0       1.0               0.0               0.0   \n",
       "2               0.0       0.0               0.0               0.0   \n",
       "3               0.0       0.0               0.0               0.0   \n",
       "4               0.0       0.0               0.0               0.0   \n",
       "..              ...       ...               ...               ...   \n",
       "839             0.0       0.0               1.0               0.0   \n",
       "840             0.0       0.0               0.0               0.0   \n",
       "841             0.0       0.0               0.0               0.0   \n",
       "842             0.0       0.0               1.0               0.0   \n",
       "843             0.0       0.0               0.0               0.0   \n",
       "\n",
       "     x0_New Jersey  x0_New York  x0_Pennsylvania  x0_Rhode Island  x0_Vermont  \\\n",
       "0              0.0          0.0              1.0              0.0         0.0   \n",
       "1              0.0          0.0              0.0              0.0         0.0   \n",
       "2              0.0          1.0              0.0              0.0         0.0   \n",
       "3              0.0          1.0              0.0              0.0         0.0   \n",
       "4              0.0          1.0              0.0              0.0         0.0   \n",
       "..             ...          ...              ...              ...         ...   \n",
       "839            0.0          0.0              0.0              0.0         0.0   \n",
       "840            0.0          1.0              0.0              0.0         0.0   \n",
       "841            0.0          1.0              0.0              0.0         0.0   \n",
       "842            0.0          0.0              0.0              0.0         0.0   \n",
       "843            0.0          1.0              0.0              0.0         0.0   \n",
       "\n",
       "     x1_1002  ...  exp_tech_equipment  outlay_capital_total  \\\n",
       "0        0.0  ...                   0               3384000   \n",
       "1        0.0  ...              149000                330000   \n",
       "2        0.0  ...                   0                367000   \n",
       "3        0.0  ...                   0               2957000   \n",
       "4        0.0  ...                   0               1175500   \n",
       "..       ...  ...                 ...                   ...   \n",
       "839      0.0  ...                   0                686000   \n",
       "840      0.0  ...                   0               1346000   \n",
       "841      0.0  ...                   0               1175500   \n",
       "842      0.0  ...                   0                132000   \n",
       "843      0.0  ...                   0               1175500   \n",
       "\n",
       "     outlay_capital_construction  outlay_capital_land_structures  \\\n",
       "0                        2441000                               0   \n",
       "1                              0                               0   \n",
       "2                         171000                               0   \n",
       "3                         967000                         1228000   \n",
       "4                         355000                               0   \n",
       "..                           ...                             ...   \n",
       "839                            0                          496000   \n",
       "840                       474000                               0   \n",
       "841                       355000                               0   \n",
       "842                            0                               0   \n",
       "843                       355000                               0   \n",
       "\n",
       "     outlay_capital_instruc_equip  outlay_capital_other_equip  \\\n",
       "0                          662000                      281000   \n",
       "1                           32000                      298000   \n",
       "2                           86000                      110000   \n",
       "3                          381000                      381000   \n",
       "4                           56000                      252000   \n",
       "..                            ...                         ...   \n",
       "839                        190000                           0   \n",
       "840                         57000                      815000   \n",
       "841                         56000                      252000   \n",
       "842                        132000                           0   \n",
       "843                         56000                      252000   \n",
       "\n",
       "     outlay_capital_nonspec_equip  salaries_total  salaries_instruction  \\\n",
       "0                               0        24632000              17010000   \n",
       "1                               0         7109000               4520000   \n",
       "2                               0         9849000               7592000   \n",
       "3                               0       107234000              78885000   \n",
       "4                               0        20753500              14263500   \n",
       "..                            ...             ...                   ...   \n",
       "839                             0        39054000              26554000   \n",
       "840                             0        16714000              12574000   \n",
       "841                             0        20753500              14263500   \n",
       "842                             0       132406000              84841000   \n",
       "843                             0        20753500              14263500   \n",
       "\n",
       "     benefits_employee_total  \n",
       "0                   17287000  \n",
       "1                    3118000  \n",
       "2                    6080000  \n",
       "3                   45786000  \n",
       "4                    9824000  \n",
       "..                       ...  \n",
       "839                 12211000  \n",
       "840                  7315000  \n",
       "841                  9824000  \n",
       "842                 49225000  \n",
       "843                  9824000  \n",
       "\n",
       "[844 rows x 3026 columns]"
      ]
     },
     "execution_count": 166,
     "metadata": {},
     "output_type": "execute_result"
    }
   ],
   "source": [
    "X_test.drop(col_names_ohe, axis=1, inplace=True)\n",
    "X_test"
   ]
  },
  {
   "cell_type": "code",
   "execution_count": 167,
   "metadata": {
    "ExecuteTime": {
     "end_time": "2021-06-14T05:30:52.975947Z",
     "start_time": "2021-06-14T05:30:52.972893Z"
    }
   },
   "outputs": [
    {
     "data": {
      "text/plain": [
       "(1967, 3026)"
      ]
     },
     "execution_count": 167,
     "metadata": {},
     "output_type": "execute_result"
    }
   ],
   "source": [
    "X_train.shape"
   ]
  },
  {
   "cell_type": "code",
   "execution_count": 168,
   "metadata": {
    "ExecuteTime": {
     "end_time": "2021-06-14T05:30:52.980341Z",
     "start_time": "2021-06-14T05:30:52.977342Z"
    },
    "scrolled": false
   },
   "outputs": [
    {
     "data": {
      "text/plain": [
       "(844, 3026)"
      ]
     },
     "execution_count": 168,
     "metadata": {},
     "output_type": "execute_result"
    }
   ],
   "source": [
    "X_test.shape"
   ]
  },
  {
   "cell_type": "markdown",
   "metadata": {},
   "source": [
    "# Model Development"
   ]
  },
  {
   "cell_type": "markdown",
   "metadata": {},
   "source": [
    "## Logistic Regression"
   ]
  },
  {
   "cell_type": "code",
   "execution_count": 169,
   "metadata": {
    "ExecuteTime": {
     "end_time": "2021-06-14T05:30:53.607089Z",
     "start_time": "2021-06-14T05:30:52.981846Z"
    }
   },
   "outputs": [],
   "source": [
    "# Logistic model\n",
    "log_clf = LogisticRegression(class_weight='balanced')\n",
    "log_model = log_clf.fit(X_train, y_train)\n",
    "y_pred_train = log_model.predict(X_train)\n",
    "y_pred = log_model.predict(X_test)\n",
    "log_training_accuracy = accuracy_score(y_train, y_pred_train)\n",
    "log_val_accuracy = accuracy_score(y_test, y_pred)"
   ]
  },
  {
   "cell_type": "code",
   "execution_count": 170,
   "metadata": {
    "ExecuteTime": {
     "end_time": "2021-06-14T05:30:53.615226Z",
     "start_time": "2021-06-14T05:30:53.609134Z"
    },
    "scrolled": false
   },
   "outputs": [
    {
     "name": "stdout",
     "output_type": "stream",
     "text": [
      "Confusion Matrix:\n",
      " [[ 71  13]\n",
      " [195 565]]\n"
     ]
    }
   ],
   "source": [
    "#Confusion matrix for Logistic Regression\n",
    "log_matrix = confusion_matrix(y_test, y_pred)\n",
    "print('Confusion Matrix:\\n', log_matrix)"
   ]
  },
  {
   "cell_type": "code",
   "execution_count": 171,
   "metadata": {
    "ExecuteTime": {
     "end_time": "2021-06-14T05:30:53.619959Z",
     "start_time": "2021-06-14T05:30:53.616981Z"
    },
    "scrolled": false
   },
   "outputs": [
    {
     "name": "stdout",
     "output_type": "stream",
     "text": [
      "0.7839349262836808\n",
      "0.7535545023696683\n"
     ]
    }
   ],
   "source": [
    "print(log_training_accuracy)\n",
    "print(log_val_accuracy)"
   ]
  },
  {
   "cell_type": "code",
   "execution_count": 172,
   "metadata": {
    "ExecuteTime": {
     "end_time": "2021-06-14T05:30:53.630642Z",
     "start_time": "2021-06-14T05:30:53.621991Z"
    }
   },
   "outputs": [
    {
     "name": "stdout",
     "output_type": "stream",
     "text": [
      "              precision    recall  f1-score   support\n",
      "\n",
      "           0       0.27      0.85      0.41        84\n",
      "           1       0.98      0.74      0.84       760\n",
      "\n",
      "    accuracy                           0.75       844\n",
      "   macro avg       0.62      0.79      0.63       844\n",
      "weighted avg       0.91      0.75      0.80       844\n",
      "\n"
     ]
    }
   ],
   "source": [
    "print(metrics.classification_report(y_test, y_pred, labels=[0,1]))"
   ]
  },
  {
   "cell_type": "markdown",
   "metadata": {},
   "source": [
    "### Check for Overfit"
   ]
  },
  {
   "cell_type": "code",
   "execution_count": 173,
   "metadata": {
    "ExecuteTime": {
     "end_time": "2021-06-14T05:30:53.639497Z",
     "start_time": "2021-06-14T05:30:53.632738Z"
    },
    "scrolled": false
   },
   "outputs": [
    {
     "data": {
      "text/plain": [
       "array([[ 197,   14],\n",
       "       [ 411, 1345]])"
      ]
     },
     "execution_count": 173,
     "metadata": {},
     "output_type": "execute_result"
    }
   ],
   "source": [
    "# View confusion matrix for train data and predictions\n",
    "confusion_matrix(y_train, y_pred_train)"
   ]
  },
  {
   "cell_type": "code",
   "execution_count": 174,
   "metadata": {
    "ExecuteTime": {
     "end_time": "2021-06-14T05:30:53.647438Z",
     "start_time": "2021-06-14T05:30:53.641548Z"
    },
    "scrolled": true
   },
   "outputs": [
    {
     "data": {
      "text/plain": [
       "array([[ 71,  13],\n",
       "       [195, 565]])"
      ]
     },
     "execution_count": 174,
     "metadata": {},
     "output_type": "execute_result"
    }
   ],
   "source": [
    "# View confusion matrix for test data and predictions\n",
    "confusion_matrix(y_test, y_pred)"
   ]
  },
  {
   "cell_type": "code",
   "execution_count": 175,
   "metadata": {
    "ExecuteTime": {
     "end_time": "2021-06-14T05:30:53.659061Z",
     "start_time": "2021-06-14T05:30:53.649266Z"
    },
    "scrolled": true
   },
   "outputs": [
    {
     "name": "stdout",
     "output_type": "stream",
     "text": [
      "              precision    recall  f1-score   support\n",
      "\n",
      "           0       0.32      0.93      0.48       211\n",
      "           1       0.99      0.77      0.86      1756\n",
      "\n",
      "    accuracy                           0.78      1967\n",
      "   macro avg       0.66      0.85      0.67      1967\n",
      "weighted avg       0.92      0.78      0.82      1967\n",
      "\n"
     ]
    }
   ],
   "source": [
    "print(metrics.classification_report(y_train, y_pred_train, labels=[0,1]))"
   ]
  },
  {
   "cell_type": "code",
   "execution_count": 176,
   "metadata": {
    "ExecuteTime": {
     "end_time": "2021-06-14T05:30:53.669194Z",
     "start_time": "2021-06-14T05:30:53.660754Z"
    },
    "scrolled": true
   },
   "outputs": [
    {
     "name": "stdout",
     "output_type": "stream",
     "text": [
      "              precision    recall  f1-score   support\n",
      "\n",
      "           0       0.27      0.85      0.41        84\n",
      "           1       0.98      0.74      0.84       760\n",
      "\n",
      "    accuracy                           0.75       844\n",
      "   macro avg       0.62      0.79      0.63       844\n",
      "weighted avg       0.91      0.75      0.80       844\n",
      "\n"
     ]
    }
   ],
   "source": [
    "print(metrics.classification_report(y_test, y_pred, labels=[0,1]))"
   ]
  },
  {
   "cell_type": "markdown",
   "metadata": {},
   "source": [
    "### Model reiteration - parameter tuning"
   ]
  },
  {
   "cell_type": "code",
   "execution_count": 177,
   "metadata": {
    "ExecuteTime": {
     "end_time": "2021-06-14T05:30:54.248198Z",
     "start_time": "2021-06-14T05:30:53.673082Z"
    }
   },
   "outputs": [],
   "source": [
    "# Logistic model\n",
    "log_clf = LogisticRegression( class_weight='balanced')\n",
    "log_model = log_clf.fit(X_train, y_train)\n",
    "y_pred_train = log_model.predict(X_train)\n",
    "y_pred = log_model.predict(X_test)\n",
    "log_training_accuracy = accuracy_score(y_train, y_pred_train)\n",
    "log_val_accuracy = accuracy_score(y_test, y_pred)"
   ]
  },
  {
   "cell_type": "code",
   "execution_count": 178,
   "metadata": {
    "ExecuteTime": {
     "end_time": "2021-06-14T05:30:54.252393Z",
     "start_time": "2021-06-14T05:30:54.250036Z"
    }
   },
   "outputs": [],
   "source": [
    "model_params = {\n",
    "    #Algorithm to use in the optimization problem\n",
    "    'solver': ['newton-cg', 'sag', 'saga','lbfgs']\n",
    "}"
   ]
  },
  {
   "cell_type": "code",
   "execution_count": 179,
   "metadata": {
    "ExecuteTime": {
     "end_time": "2021-06-14T05:31:40.185957Z",
     "start_time": "2021-06-14T05:30:54.254261Z"
    },
    "scrolled": true
   },
   "outputs": [
    {
     "data": {
      "text/plain": [
       "RandomizedSearchCV(cv=3, estimator=LogisticRegression(class_weight='balanced'),\n",
       "                   param_distributions={'solver': ['newton-cg', 'sag', 'saga',\n",
       "                                                   'lbfgs']})"
      ]
     },
     "execution_count": 179,
     "metadata": {},
     "output_type": "execute_result"
    }
   ],
   "source": [
    "# Instantiate and fit the LogisticReg Model\n",
    "log_clf = LogisticRegression(class_weight='balanced')\n",
    "log_clf = RandomizedSearchCV(log_clf,model_params, n_iter=10, cv=3)\n",
    "log_clf.fit(X_train,y_train)"
   ]
  },
  {
   "cell_type": "code",
   "execution_count": 180,
   "metadata": {
    "ExecuteTime": {
     "end_time": "2021-06-14T05:31:40.190726Z",
     "start_time": "2021-06-14T05:31:40.188002Z"
    }
   },
   "outputs": [
    {
     "name": "stdout",
     "output_type": "stream",
     "text": [
      "{'C': 1.0, 'class_weight': 'balanced', 'dual': False, 'fit_intercept': True, 'intercept_scaling': 1, 'l1_ratio': None, 'max_iter': 100, 'multi_class': 'auto', 'n_jobs': None, 'penalty': 'l2', 'random_state': None, 'solver': 'saga', 'tol': 0.0001, 'verbose': 0, 'warm_start': False}\n"
     ]
    }
   ],
   "source": [
    "print(log_clf.best_estimator_.get_params())"
   ]
  },
  {
   "cell_type": "code",
   "execution_count": 181,
   "metadata": {
    "ExecuteTime": {
     "end_time": "2021-06-14T05:31:40.202413Z",
     "start_time": "2021-06-14T05:31:40.192519Z"
    },
    "scrolled": false
   },
   "outputs": [
    {
     "name": "stdout",
     "output_type": "stream",
     "text": [
      "              precision    recall  f1-score   support\n",
      "\n",
      "           0       0.32      0.93      0.48       211\n",
      "           1       0.99      0.77      0.86      1756\n",
      "\n",
      "    accuracy                           0.78      1967\n",
      "   macro avg       0.66      0.85      0.67      1967\n",
      "weighted avg       0.92      0.78      0.82      1967\n",
      "\n"
     ]
    }
   ],
   "source": [
    "print(metrics.classification_report(y_train, y_pred_train, labels=[0,1]))"
   ]
  },
  {
   "cell_type": "code",
   "execution_count": 182,
   "metadata": {
    "ExecuteTime": {
     "end_time": "2021-06-14T05:31:40.212136Z",
     "start_time": "2021-06-14T05:31:40.204460Z"
    },
    "scrolled": false
   },
   "outputs": [
    {
     "name": "stdout",
     "output_type": "stream",
     "text": [
      "              precision    recall  f1-score   support\n",
      "\n",
      "           0       0.27      0.85      0.41        84\n",
      "           1       0.98      0.74      0.84       760\n",
      "\n",
      "    accuracy                           0.75       844\n",
      "   macro avg       0.62      0.79      0.63       844\n",
      "weighted avg       0.91      0.75      0.80       844\n",
      "\n"
     ]
    }
   ],
   "source": [
    "print(metrics.classification_report(y_test, y_pred, labels=[0,1]))"
   ]
  },
  {
   "cell_type": "markdown",
   "metadata": {},
   "source": [
    "## Random Forest Classifier"
   ]
  },
  {
   "cell_type": "code",
   "execution_count": 183,
   "metadata": {
    "ExecuteTime": {
     "end_time": "2021-06-14T05:31:40.343991Z",
     "start_time": "2021-06-14T05:31:40.214160Z"
    }
   },
   "outputs": [
    {
     "data": {
      "text/plain": [
       "RandomForestClassifier(class_weight='balanced', n_estimators=10)"
      ]
     },
     "execution_count": 183,
     "metadata": {},
     "output_type": "execute_result"
    }
   ],
   "source": [
    "# Instantiate and fit the RandomForestClassifier\n",
    "rfc=RandomForestClassifier(n_estimators=10,class_weight='balanced')\n",
    "rfc.fit(X_train,y_train)"
   ]
  },
  {
   "cell_type": "code",
   "execution_count": 184,
   "metadata": {
    "ExecuteTime": {
     "end_time": "2021-06-14T05:31:40.579057Z",
     "start_time": "2021-06-14T05:31:40.346877Z"
    },
    "scrolled": false
   },
   "outputs": [
    {
     "name": "stdout",
     "output_type": "stream",
     "text": [
      "Scikit-Learn's Random Forest Classifier's prediction accuracy is: 92.06\n",
      "Time consumed for training: 0.133 seconds\n",
      "Time consumed for prediction: 0.09325 seconds\n"
     ]
    }
   ],
   "source": [
    "training_start = time.perf_counter()\n",
    "rfc.fit(X_train, y_train)\n",
    "training_end = time.perf_counter()\n",
    "prediction_start = time.perf_counter()\n",
    "y_pred = rfc.predict(X_test)\n",
    "y_pred_train = rfc.predict(X_train)\n",
    "prediction_end = time.perf_counter()\n",
    "acc_rfc = (y_pred == y_test).sum().astype(float) / len(y_pred)*100\n",
    "rfc_train_time = training_end-training_start\n",
    "rfc_prediction_time = prediction_end-prediction_start\n",
    "print(\"Scikit-Learn's Random Forest Classifier's prediction accuracy is: %3.2f\" % (acc_rfc))\n",
    "print(\"Time consumed for training: %4.3f seconds\" % (rfc_train_time))\n",
    "print(\"Time consumed for prediction: %6.5f seconds\" % (rfc_prediction_time))"
   ]
  },
  {
   "cell_type": "code",
   "execution_count": 185,
   "metadata": {
    "ExecuteTime": {
     "end_time": "2021-06-14T05:31:40.590374Z",
     "start_time": "2021-06-14T05:31:40.581049Z"
    },
    "scrolled": false
   },
   "outputs": [
    {
     "name": "stdout",
     "output_type": "stream",
     "text": [
      "              precision    recall  f1-score   support\n",
      "\n",
      "           0       0.64      0.45      0.53        84\n",
      "           1       0.94      0.97      0.96       760\n",
      "\n",
      "    accuracy                           0.92       844\n",
      "   macro avg       0.79      0.71      0.74       844\n",
      "weighted avg       0.91      0.92      0.91       844\n",
      "\n"
     ]
    }
   ],
   "source": [
    "print(metrics.classification_report(y_test, y_pred, labels=[0,1]))"
   ]
  },
  {
   "cell_type": "markdown",
   "metadata": {},
   "source": [
    "### Check for Overfit"
   ]
  },
  {
   "cell_type": "code",
   "execution_count": 186,
   "metadata": {
    "ExecuteTime": {
     "end_time": "2021-06-14T05:31:40.598969Z",
     "start_time": "2021-06-14T05:31:40.592203Z"
    },
    "scrolled": true
   },
   "outputs": [
    {
     "data": {
      "text/plain": [
       "array([[ 210,    1],\n",
       "       [   3, 1753]])"
      ]
     },
     "execution_count": 186,
     "metadata": {},
     "output_type": "execute_result"
    }
   ],
   "source": [
    "# View confusion matrix for train data and predictions\n",
    "confusion_matrix(y_train, y_pred_train)"
   ]
  },
  {
   "cell_type": "code",
   "execution_count": 187,
   "metadata": {
    "ExecuteTime": {
     "end_time": "2021-06-14T05:31:40.606774Z",
     "start_time": "2021-06-14T05:31:40.600953Z"
    },
    "scrolled": true
   },
   "outputs": [
    {
     "data": {
      "text/plain": [
       "array([[ 38,  46],\n",
       "       [ 21, 739]])"
      ]
     },
     "execution_count": 187,
     "metadata": {},
     "output_type": "execute_result"
    }
   ],
   "source": [
    "# View confusion matrix for test data and predictions\n",
    "confusion_matrix(y_test, y_pred)"
   ]
  },
  {
   "cell_type": "code",
   "execution_count": 188,
   "metadata": {
    "ExecuteTime": {
     "end_time": "2021-06-14T05:31:40.699317Z",
     "start_time": "2021-06-14T05:31:40.608240Z"
    }
   },
   "outputs": [
    {
     "name": "stdout",
     "output_type": "stream",
     "text": [
      "0.9979664463650229\n",
      "0.9206161137440758\n"
     ]
    }
   ],
   "source": [
    "rfc_training_preds = rfc.predict(X_train)\n",
    "rfc_training_accuracy = accuracy_score(y_train, rfc_training_preds)\n",
    "\n",
    "rfc_val_preds = rfc.predict(X_test) # y_hat\n",
    "rfc_val_accuracy = accuracy_score(y_test, rfc_val_preds)\n",
    "print(rfc_training_accuracy)\n",
    "print(rfc_val_accuracy)"
   ]
  },
  {
   "cell_type": "markdown",
   "metadata": {},
   "source": [
    "Because we are looking for the minority class accuracy scores are not the best measure overfit.\n",
    "\n",
    "Lets take a look at other metrics in the classification report."
   ]
  },
  {
   "cell_type": "code",
   "execution_count": 189,
   "metadata": {
    "ExecuteTime": {
     "end_time": "2021-06-14T05:31:40.716198Z",
     "start_time": "2021-06-14T05:31:40.702058Z"
    }
   },
   "outputs": [
    {
     "name": "stdout",
     "output_type": "stream",
     "text": [
      "              precision    recall  f1-score   support\n",
      "\n",
      "           0       0.99      1.00      0.99       211\n",
      "           1       1.00      1.00      1.00      1756\n",
      "\n",
      "    accuracy                           1.00      1967\n",
      "   macro avg       0.99      1.00      0.99      1967\n",
      "weighted avg       1.00      1.00      1.00      1967\n",
      "\n"
     ]
    }
   ],
   "source": [
    "print(metrics.classification_report(y_train, y_pred_train, labels=[0,1]))"
   ]
  },
  {
   "cell_type": "code",
   "execution_count": 190,
   "metadata": {
    "ExecuteTime": {
     "end_time": "2021-06-14T05:31:40.727171Z",
     "start_time": "2021-06-14T05:31:40.718475Z"
    },
    "scrolled": true
   },
   "outputs": [
    {
     "name": "stdout",
     "output_type": "stream",
     "text": [
      "              precision    recall  f1-score   support\n",
      "\n",
      "           0       0.64      0.45      0.53        84\n",
      "           1       0.94      0.97      0.96       760\n",
      "\n",
      "    accuracy                           0.92       844\n",
      "   macro avg       0.79      0.71      0.74       844\n",
      "weighted avg       0.91      0.92      0.91       844\n",
      "\n"
     ]
    }
   ],
   "source": [
    "print(metrics.classification_report(y_test, y_pred, labels=[0,1]))"
   ]
  },
  {
   "cell_type": "markdown",
   "metadata": {},
   "source": [
    "Add labels so it's clear which class is being described"
   ]
  },
  {
   "cell_type": "markdown",
   "metadata": {},
   "source": [
    "### Feature Importance"
   ]
  },
  {
   "cell_type": "code",
   "execution_count": 191,
   "metadata": {
    "ExecuteTime": {
     "end_time": "2021-06-14T05:31:40.732092Z",
     "start_time": "2021-06-14T05:31:40.729251Z"
    }
   },
   "outputs": [],
   "source": [
    "# create list so that random forest model important features are named\n",
    "rfc_columns = list(X_train.columns)"
   ]
  },
  {
   "cell_type": "code",
   "execution_count": 192,
   "metadata": {
    "ExecuteTime": {
     "end_time": "2021-06-14T05:31:41.014337Z",
     "start_time": "2021-06-14T05:31:40.734836Z"
    },
    "scrolled": true
   },
   "outputs": [
    {
     "data": {
      "text/plain": [
       "<AxesSubplot:>"
      ]
     },
     "execution_count": 192,
     "metadata": {},
     "output_type": "execute_result"
    },
    {
     "data": {
      "image/png": "[encoded data removed]",
      "text/plain": [
       "<Figure size 432x288 with 1 Axes>"
      ]
     },
     "metadata": {
      "needs_background": "light"
     },
     "output_type": "display_data"
    }
   ],
   "source": [
    "feat_importances = pd.Series(rfc.feature_importances_, index = rfc_columns)\n",
    "feat_importances.nlargest(20).plot(kind='barh')"
   ]
  },
  {
   "cell_type": "markdown",
   "metadata": {},
   "source": [
    "### Model reiteration - parameter tuning"
   ]
  },
  {
   "cell_type": "markdown",
   "metadata": {},
   "source": [
    "Don't set anything to random, choose the ones that you want, don't use trunc norm, set all of them as lists,  then you can use settings like log/auto or floats for percentage of features."
   ]
  },
  {
   "cell_type": "code",
   "execution_count": 193,
   "metadata": {
    "ExecuteTime": {
     "end_time": "2021-06-14T05:31:41.020543Z",
     "start_time": "2021-06-14T05:31:41.016791Z"
    }
   },
   "outputs": [],
   "source": [
    "model_params = {\n",
    "    # number of trees\n",
    "    'n_estimators': [5,10,20,50,100,200],\n",
    "    # number of max features\n",
    "    'max_features': [10,15,20,50,100],\n",
    "    # max number of levels in each decision tre\n",
    "    'max_depth': [5,10,15],\n",
    "    'min_samples_split' : [100,1000]\n",
    "}"
   ]
  },
  {
   "cell_type": "code",
   "execution_count": 194,
   "metadata": {
    "ExecuteTime": {
     "end_time": "2021-06-14T05:31:47.977889Z",
     "start_time": "2021-06-14T05:31:41.023014Z"
    },
    "scrolled": true
   },
   "outputs": [
    {
     "data": {
      "text/plain": [
       "RandomizedSearchCV(cv=3,\n",
       "                   estimator=RandomForestClassifier(class_weight='balanced'),\n",
       "                   param_distributions={'max_depth': [5, 10, 15],\n",
       "                                        'max_features': [10, 15, 20, 50, 100],\n",
       "                                        'min_samples_split': [100, 1000],\n",
       "                                        'n_estimators': [5, 10, 20, 50, 100,\n",
       "                                                         200]},\n",
       "                   random_state=1)"
      ]
     },
     "execution_count": 194,
     "metadata": {},
     "output_type": "execute_result"
    }
   ],
   "source": [
    "# Instantiate and fit the RandomForestClassifier\n",
    "rfc=RandomForestClassifier(class_weight='balanced')\n",
    "rfc = RandomizedSearchCV(rfc,model_params, n_iter=10, cv=3, random_state=1)\n",
    "rfc.fit(X_train,y_train)"
   ]
  },
  {
   "cell_type": "code",
   "execution_count": 195,
   "metadata": {
    "ExecuteTime": {
     "end_time": "2021-06-14T05:31:47.982552Z",
     "start_time": "2021-06-14T05:31:47.980003Z"
    }
   },
   "outputs": [
    {
     "name": "stdout",
     "output_type": "stream",
     "text": [
      "{'bootstrap': True, 'ccp_alpha': 0.0, 'class_weight': 'balanced', 'criterion': 'gini', 'max_depth': 10, 'max_features': 100, 'max_leaf_nodes': None, 'max_samples': None, 'min_impurity_decrease': 0.0, 'min_impurity_split': None, 'min_samples_leaf': 1, 'min_samples_split': 1000, 'min_weight_fraction_leaf': 0.0, 'n_estimators': 20, 'n_jobs': None, 'oob_score': False, 'random_state': None, 'verbose': 0, 'warm_start': False}\n"
     ]
    }
   ],
   "source": [
    "print(rfc.best_estimator_.get_params())"
   ]
  },
  {
   "cell_type": "code",
   "execution_count": 196,
   "metadata": {
    "ExecuteTime": {
     "end_time": "2021-06-14T05:31:47.992901Z",
     "start_time": "2021-06-14T05:31:47.984608Z"
    },
    "scrolled": false
   },
   "outputs": [
    {
     "name": "stdout",
     "output_type": "stream",
     "text": [
      "              precision    recall  f1-score   support\n",
      "\n",
      "           0       0.99      1.00      0.99       211\n",
      "           1       1.00      1.00      1.00      1756\n",
      "\n",
      "    accuracy                           1.00      1967\n",
      "   macro avg       0.99      1.00      0.99      1967\n",
      "weighted avg       1.00      1.00      1.00      1967\n",
      "\n"
     ]
    }
   ],
   "source": [
    "print(metrics.classification_report(y_train, y_pred_train, labels=[0,1]))"
   ]
  },
  {
   "cell_type": "code",
   "execution_count": 197,
   "metadata": {
    "ExecuteTime": {
     "end_time": "2021-06-14T05:31:48.001655Z",
     "start_time": "2021-06-14T05:31:47.994368Z"
    },
    "scrolled": false
   },
   "outputs": [
    {
     "name": "stdout",
     "output_type": "stream",
     "text": [
      "              precision    recall  f1-score   support\n",
      "\n",
      "           0       0.64      0.45      0.53        84\n",
      "           1       0.94      0.97      0.96       760\n",
      "\n",
      "    accuracy                           0.92       844\n",
      "   macro avg       0.79      0.71      0.74       844\n",
      "weighted avg       0.91      0.92      0.91       844\n",
      "\n"
     ]
    }
   ],
   "source": [
    "print(metrics.classification_report(y_test, y_pred, labels=[0,1]))"
   ]
  },
  {
   "cell_type": "markdown",
   "metadata": {},
   "source": [
    "## XGBoost"
   ]
  },
  {
   "cell_type": "markdown",
   "metadata": {},
   "source": [
    "# Might Use Later"
   ]
  },
  {
   "cell_type": "markdown",
   "metadata": {},
   "source": [
    "Change Sci kit learn OHE set sparse to false set handle errors to ignore drop first equals if binary"
   ]
  },
  {
   "cell_type": "markdown",
   "metadata": {},
   "source": [
    "Change Sci kit learn OHE set sparse to false set handle errors to ignore drop first equals if binary"
   ]
  },
  {
   "cell_type": "code",
   "execution_count": 198,
   "metadata": {
    "ExecuteTime": {
     "end_time": "2021-06-14T05:31:48.254436Z",
     "start_time": "2021-06-14T05:31:48.003047Z"
    },
    "scrolled": false
   },
   "outputs": [
    {
     "ename": "AttributeError",
     "evalue": "'Series' object has no attribute 'columns'",
     "output_type": "error",
     "traceback": [
      "\u001b[0;31m---------------------------------------------------------------------------\u001b[0m",
      "\u001b[0;31mAttributeError\u001b[0m                            Traceback (most recent call last)",
      "\u001b[0;32m<ipython-input-198-268aa53c6c9c>\u001b[0m in \u001b[0;36m<module>\u001b[0;34m\u001b[0m\n\u001b[1;32m      1\u001b[0m \u001b[0;31m# print top 5 most frequent values in each grad_rate column\u001b[0m\u001b[0;34m\u001b[0m\u001b[0;34m\u001b[0m\u001b[0;34m\u001b[0m\u001b[0m\n\u001b[0;32m----> 2\u001b[0;31m \u001b[0;32mfor\u001b[0m \u001b[0mcol\u001b[0m \u001b[0;32min\u001b[0m \u001b[0mdf_school\u001b[0m\u001b[0;34m[\u001b[0m\u001b[0;34m'grad_rate_midpt'\u001b[0m\u001b[0;34m]\u001b[0m\u001b[0;34m.\u001b[0m\u001b[0mcolumns\u001b[0m\u001b[0;34m:\u001b[0m\u001b[0;34m\u001b[0m\u001b[0;34m\u001b[0m\u001b[0m\n\u001b[0m\u001b[1;32m      3\u001b[0m     \u001b[0mprint\u001b[0m\u001b[0;34m(\u001b[0m\u001b[0mcol\u001b[0m\u001b[0;34m,\u001b[0m \u001b[0;34m'\\n'\u001b[0m\u001b[0;34m,\u001b[0m \u001b[0mdf_school\u001b[0m\u001b[0;34m[\u001b[0m\u001b[0mcol\u001b[0m\u001b[0;34m]\u001b[0m\u001b[0;34m.\u001b[0m\u001b[0mvalue_counts\u001b[0m\u001b[0;34m(\u001b[0m\u001b[0mnormalize\u001b[0m\u001b[0;34m=\u001b[0m\u001b[0;32mTrue\u001b[0m\u001b[0;34m)\u001b[0m\u001b[0;34m.\u001b[0m\u001b[0mhead\u001b[0m\u001b[0;34m(\u001b[0m\u001b[0;34m)\u001b[0m\u001b[0;34m,\u001b[0m \u001b[0;34m'\\n\\n'\u001b[0m\u001b[0;34m)\u001b[0m\u001b[0;34m\u001b[0m\u001b[0;34m\u001b[0m\u001b[0m\n",
      "\u001b[0;32m~/opt/anaconda3/lib/python3.8/site-packages/pandas/core/generic.py\u001b[0m in \u001b[0;36m__getattr__\u001b[0;34m(self, name)\u001b[0m\n\u001b[1;32m   5137\u001b[0m             \u001b[0;32mif\u001b[0m \u001b[0mself\u001b[0m\u001b[0;34m.\u001b[0m\u001b[0m_info_axis\u001b[0m\u001b[0;34m.\u001b[0m\u001b[0m_can_hold_identifiers_and_holds_name\u001b[0m\u001b[0;34m(\u001b[0m\u001b[0mname\u001b[0m\u001b[0;34m)\u001b[0m\u001b[0;34m:\u001b[0m\u001b[0;34m\u001b[0m\u001b[0;34m\u001b[0m\u001b[0m\n\u001b[1;32m   5138\u001b[0m                 \u001b[0;32mreturn\u001b[0m \u001b[0mself\u001b[0m\u001b[0;34m[\u001b[0m\u001b[0mname\u001b[0m\u001b[0;34m]\u001b[0m\u001b[0;34m\u001b[0m\u001b[0;34m\u001b[0m\u001b[0m\n\u001b[0;32m-> 5139\u001b[0;31m             \u001b[0;32mreturn\u001b[0m \u001b[0mobject\u001b[0m\u001b[0;34m.\u001b[0m\u001b[0m__getattribute__\u001b[0m\u001b[0;34m(\u001b[0m\u001b[0mself\u001b[0m\u001b[0;34m,\u001b[0m \u001b[0mname\u001b[0m\u001b[0;34m)\u001b[0m\u001b[0;34m\u001b[0m\u001b[0;34m\u001b[0m\u001b[0m\n\u001b[0m\u001b[1;32m   5140\u001b[0m \u001b[0;34m\u001b[0m\u001b[0m\n\u001b[1;32m   5141\u001b[0m     \u001b[0;32mdef\u001b[0m \u001b[0m__setattr__\u001b[0m\u001b[0;34m(\u001b[0m\u001b[0mself\u001b[0m\u001b[0;34m,\u001b[0m \u001b[0mname\u001b[0m\u001b[0;34m:\u001b[0m \u001b[0mstr\u001b[0m\u001b[0;34m,\u001b[0m \u001b[0mvalue\u001b[0m\u001b[0;34m)\u001b[0m \u001b[0;34m->\u001b[0m \u001b[0;32mNone\u001b[0m\u001b[0;34m:\u001b[0m\u001b[0;34m\u001b[0m\u001b[0;34m\u001b[0m\u001b[0m\n",
      "\u001b[0;31mAttributeError\u001b[0m: 'Series' object has no attribute 'columns'"
     ]
    }
   ],
   "source": [
    "# print top 5 most frequent values in each grad_rate column\n",
    "for col in df_school['grad_rate_midpt'].columns:\n",
    "    print(col, '\\n', df_school[col].value_counts(normalize=True).head(), '\\n\\n')\n"
   ]
  },
  {
   "cell_type": "code",
   "execution_count": null,
   "metadata": {
    "ExecuteTime": {
     "end_time": "2021-06-14T05:31:48.257688Z",
     "start_time": "2021-06-14T05:30:48.853Z"
    }
   },
   "outputs": [],
   "source": [
    "def target_col (row):\n",
    "   if row['eri_hispanic   '] == 1 :\n",
    "      return 'Hispanic'\n",
    "   if row['eri_afr_amer'] + row['eri_asian'] + row['eri_hawaiian'] + row['eri_nat_amer'] + row['eri_white'] > 1 :\n",
    "      return 'Two Or More'\n",
    "   if row['eri_nat_amer'] == 1 :\n",
    "      return 'A/I AK Native'\n",
    "   if row['eri_asian'] == 1:\n",
    "      return 'Asian'\n",
    "   if row['eri_afr_amer']  == 1:\n",
    "      return 'Black/AA'\n",
    "   if row['eri_hawaiian'] == 1:\n",
    "      return 'Haw/Pac Isl.'\n",
    "   if row['eri_white'] == 1:\n",
    "      return 'White'\n",
    "   return 'Other'\n"
   ]
  },
  {
   "cell_type": "code",
   "execution_count": null,
   "metadata": {},
   "outputs": [],
   "source": []
  },
  {
   "cell_type": "code",
   "execution_count": null,
   "metadata": {
    "ExecuteTime": {
     "end_time": "2021-06-14T05:31:48.259446Z",
     "start_time": "2021-06-14T05:30:48.860Z"
    }
   },
   "outputs": [],
   "source": [
    "# Returns the percentage of values in a dataframe that are nulls\n",
    "def null_cleanup_numeric(col_null):\n",
    "    return\n",
    "    # Declare Median\n",
    "    median = col_null.median()\n",
    "    # fillna with zeros \n",
    "    col_null.update(col_null.fillna(0))\n",
    "    # convert columns to numeric\n",
    "    col_null.astype(str).astype(float)\n",
    "    # Replace zeros with median\n",
    "    col_null.replace([0], median)\n",
    "    \n",
    "   "
   ]
  },
  {
   "cell_type": "code",
   "execution_count": null,
   "metadata": {
    "ExecuteTime": {
     "end_time": "2021-06-14T05:31:48.260934Z",
     "start_time": "2021-06-14T05:30:48.864Z"
    }
   },
   "outputs": [],
   "source": [
    "df_school[['read_test_num_valid','math_test_num_valid']] = df_school[['read_test_num_valid','math_test_num_valid']].apply(null_cleanup_numeric)"
   ]
  },
  {
   "cell_type": "code",
   "execution_count": null,
   "metadata": {
    "ExecuteTime": {
     "end_time": "2021-06-14T05:31:48.262535Z",
     "start_time": "2021-06-14T05:30:48.868Z"
    }
   },
   "outputs": [],
   "source": [
    "df_school.info()"
   ]
  },
  {
   "cell_type": "code",
   "execution_count": null,
   "metadata": {
    "ExecuteTime": {
     "end_time": "2021-06-14T05:31:48.264134Z",
     "start_time": "2021-06-14T05:30:48.872Z"
    }
   },
   "outputs": [],
   "source": [
    "# fillna with zeros so we can convert to numeric\n",
    "df_school.update(df_school[['math_test_pct_prof_midpt']].fillna(0))\n",
    "df_school.update(df_school[['read_test_pct_prof_midpt']].fillna(0))"
   ]
  },
  {
   "cell_type": "code",
   "execution_count": null,
   "metadata": {
    "ExecuteTime": {
     "end_time": "2021-06-14T05:31:48.265725Z",
     "start_time": "2021-06-14T05:30:48.876Z"
    }
   },
   "outputs": [],
   "source": [
    "# convert grad rate columns to numeric\n",
    "df_school[['math_test_pct_prof_midpt']] = df_school[['math_test_pct_prof_midpt']].astype(str).astype(float)\n",
    "df_school[['read_test_pct_prof_midpt']] = df_school[['read_test_pct_prof_midpt']].astype(str).astype(float)\n"
   ]
  },
  {
   "cell_type": "code",
   "execution_count": null,
   "metadata": {
    "ExecuteTime": {
     "end_time": "2021-06-14T05:31:48.267163Z",
     "start_time": "2021-06-14T05:30:48.879Z"
    }
   },
   "outputs": [],
   "source": [
    "# Replace the two null values with the median of the midpoint columns\n",
    "math_median = df_school['math_test_pct_prof_midpt'].median()\n",
    "print(math_median)\n",
    "read_median = df_school['read_test_pct_prof_midpt'].median()\n",
    "print(read_median)"
   ]
  },
  {
   "cell_type": "code",
   "execution_count": null,
   "metadata": {
    "ExecuteTime": {
     "end_time": "2021-06-14T05:31:48.268673Z",
     "start_time": "2021-06-14T05:30:48.883Z"
    }
   },
   "outputs": [],
   "source": [
    "# Replace the two null values with the median of the midpoint columns\n",
    "df_school.update(df_school[['math_test_pct_prof_midpt']].fillna(math_median))\n",
    "df_school.update(df_school[['read_test_pct_prof_midpt']].fillna(read_median))"
   ]
  },
  {
   "cell_type": "code",
   "execution_count": null,
   "metadata": {
    "ExecuteTime": {
     "end_time": "2021-06-14T05:31:48.270111Z",
     "start_time": "2021-06-14T05:30:48.887Z"
    }
   },
   "outputs": [],
   "source": [
    "# Replace zeros with median\n",
    "df_school['math_test_pct_prof_midpt'] = df_school['math_test_pct_prof_midpt'].replace([0], math_median)\n",
    "df_school['read_test_pct_prof_midpt'] = df_school['read_test_pct_prof_midpt'].replace([0], read_median)"
   ]
  },
  {
   "cell_type": "code",
   "execution_count": null,
   "metadata": {
    "ExecuteTime": {
     "end_time": "2021-06-14T05:31:48.271825Z",
     "start_time": "2021-06-14T05:30:48.891Z"
    },
    "scrolled": false
   },
   "outputs": [],
   "source": [
    "# Let's take a look at the summary statistics\n",
    "\n",
    "print(df_school['math_test_pct_prof_midpt'].describe())\n",
    "print(df_school['read_test_pct_prof_midpt'].describe())"
   ]
  },
  {
   "cell_type": "code",
   "execution_count": null,
   "metadata": {
    "ExecuteTime": {
     "end_time": "2021-06-14T05:31:48.272951Z",
     "start_time": "2021-06-14T05:30:48.895Z"
    }
   },
   "outputs": [],
   "source": [
    "df_school.info()"
   ]
  },
  {
   "cell_type": "code",
   "execution_count": null,
   "metadata": {},
   "outputs": [],
   "source": []
  },
  {
   "cell_type": "code",
   "execution_count": null,
   "metadata": {
    "ExecuteTime": {
     "end_time": "2021-06-14T05:31:48.274270Z",
     "start_time": "2021-06-14T05:30:48.901Z"
    }
   },
   "outputs": [],
   "source": [
    "# Returns the percentage of values in a dataframe that are NaNs\n",
    "def percent_NaN_df (df,str_name):\n",
    "    count_NaN = df.isna().sum().sum()\n",
    "    count_non_NaN = df.count().sum()\n",
    "    return 'percent of NaNs in '+ str_name +' is '+str(int((count_NaN/(count_NaN + count_non_NaN))*100))+'%'\n",
    "    "
   ]
  },
  {
   "cell_type": "code",
   "execution_count": null,
   "metadata": {},
   "outputs": [],
   "source": []
  },
  {
   "cell_type": "code",
   "execution_count": null,
   "metadata": {
    "ExecuteTime": {
     "end_time": "2021-06-14T05:31:48.275396Z",
     "start_time": "2021-06-14T05:30:48.907Z"
    }
   },
   "outputs": [],
   "source": [
    "# Our population columns have the highest proportion of nulls let's take at look\n",
    "population_cols = ['lea_name','state_name','est_population_total','est_population_5_17_poverty',\n",
    "                           'est_population_5_17_poverty_pct']"
   ]
  },
  {
   "cell_type": "code",
   "execution_count": null,
   "metadata": {
    "ExecuteTime": {
     "end_time": "2021-06-14T05:31:48.276402Z",
     "start_time": "2021-06-14T05:30:48.911Z"
    }
   },
   "outputs": [],
   "source": [
    "# Our population columns have the highest proportion of nulls let's take at look\n",
    "population_cols = ['lea_name','state_name','est_population_total','est_population_5_17_poverty',\n",
    "                           'est_population_5_17_poverty_pct']"
   ]
  }
 ],
 "metadata": {
  "kernelspec": {
   "display_name": "Python 3",
   "language": "python",
   "name": "python3"
  },
  "language_info": {
   "codemirror_mode": {
    "name": "ipython",
    "version": 3
   },
   "file_extension": ".py",
   "mimetype": "text/x-python",
   "name": "python",
   "nbconvert_exporter": "python",
   "pygments_lexer": "ipython3",
   "version": "3.8.5"
  },
  "toc": {
   "base_numbering": 1,
   "nav_menu": {},
   "number_sections": true,
   "sideBar": true,
   "skip_h1_title": false,
   "title_cell": "Table of Contents",
   "title_sidebar": "Contents",
   "toc_cell": false,
   "toc_position": {
    "height": "calc(100% - 180px)",
    "left": "10px",
    "top": "150px",
    "width": "297px"
   },
   "toc_section_display": true,
   "toc_window_display": true
  }
 },
 "nbformat": 4,
 "nbformat_minor": 4
}
